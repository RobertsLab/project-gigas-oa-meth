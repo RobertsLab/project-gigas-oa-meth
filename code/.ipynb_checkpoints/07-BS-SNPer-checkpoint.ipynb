{
 "cells": [
  {
   "cell_type": "markdown",
   "metadata": {},
   "source": [
    "# BS-Snper"
   ]
  },
  {
   "cell_type": "markdown",
   "metadata": {},
   "source": [
    "In this Jupyter notebook, I'll use [BS-Snper](https://github.com/hellbelly/BS-Snper) to call SNP variants from Pacific oyster (*Crassostrea gigas*) WGBS data. Adult oysters were exposed to either low or ambient pH conditions, then DNA was extracted from gonad tissue for WGBS. Reads were aligned to the Roslin *C. gigas* genome."
   ]
  },
  {
   "cell_type": "markdown",
   "metadata": {},
   "source": [
    "## 0. Install BS-SNPer"
   ]
  },
  {
   "cell_type": "markdown",
   "metadata": {},
   "source": [
    "I downloaded the ZIP file from https://github.com/hellbelly/BS-Snper, which automatically unzipped."
   ]
  },
  {
   "cell_type": "code",
   "execution_count": 7,
   "metadata": {
    "collapsed": false
   },
   "outputs": [
    {
     "name": "stdout",
     "output_type": "stream",
     "text": [
      "/Users/Shared/Apps/BS-Snper-master\n"
     ]
    }
   ],
   "source": [
    "#cd /Users/Shared/Apps/BS-Snper-master/"
   ]
  },
  {
   "cell_type": "code",
   "execution_count": 10,
   "metadata": {
    "collapsed": false
   },
   "outputs": [
    {
     "name": "stdout",
     "output_type": "stream",
     "text": [
      "x samtools-0.1.19/\n",
      "x samtools-0.1.19/.gitignore\n",
      "x samtools-0.1.19/AUTHORS\n",
      "x samtools-0.1.19/COPYING\n",
      "x samtools-0.1.19/ChangeLog.old\n",
      "x samtools-0.1.19/INSTALL\n",
      "x samtools-0.1.19/Makefile\n",
      "x samtools-0.1.19/Makefile.mingw\n",
      "x samtools-0.1.19/NEWS\n",
      "x samtools-0.1.19/bam.c\n",
      "x samtools-0.1.19/bam.h\n",
      "x samtools-0.1.19/bam2bcf.c\n",
      "x samtools-0.1.19/bam2bcf.h\n",
      "x samtools-0.1.19/bam2bcf_indel.c\n",
      "x samtools-0.1.19/bam2depth.c\n",
      "x samtools-0.1.19/bam_aux.c\n",
      "x samtools-0.1.19/bam_cat.c\n",
      "x samtools-0.1.19/bam_color.c\n",
      "x samtools-0.1.19/bam_endian.h\n",
      "x samtools-0.1.19/bam_import.c\n",
      "x samtools-0.1.19/bam_index.c\n",
      "x samtools-0.1.19/bam_lpileup.c\n",
      "x samtools-0.1.19/bam_mate.c\n",
      "x samtools-0.1.19/bam_md.c\n",
      "x samtools-0.1.19/bam_pileup.c\n",
      "x samtools-0.1.19/bam_plcmd.c\n",
      "x samtools-0.1.19/bam_reheader.c\n",
      "x samtools-0.1.19/bam_rmdup.c\n",
      "x samtools-0.1.19/bam_rmdupse.c\n",
      "x samtools-0.1.19/bam_sort.c\n",
      "x samtools-0.1.19/bam_stat.c\n",
      "x samtools-0.1.19/bam_tview.c\n",
      "x samtools-0.1.19/bam_tview.h\n",
      "x samtools-0.1.19/bam_tview_curses.c\n",
      "x samtools-0.1.19/bam_tview_html.c\n",
      "x samtools-0.1.19/bamshuf.c\n",
      "x samtools-0.1.19/bamtk.c\n",
      "x samtools-0.1.19/bcftools/\n",
      "x samtools-0.1.19/bcftools/Makefile\n",
      "x samtools-0.1.19/bcftools/README\n",
      "x samtools-0.1.19/bcftools/bcf.c\n",
      "x samtools-0.1.19/bcftools/bcf.h\n",
      "x samtools-0.1.19/bcftools/bcf.tex\n",
      "x samtools-0.1.19/bcftools/bcf2qcall.c\n",
      "x samtools-0.1.19/bcftools/bcfutils.c\n",
      "x samtools-0.1.19/bcftools/call1.c\n",
      "x samtools-0.1.19/bcftools/em.c\n",
      "x samtools-0.1.19/bcftools/fet.c\n",
      "x samtools-0.1.19/bcftools/index.c\n",
      "x samtools-0.1.19/bcftools/kfunc.c\n",
      "x samtools-0.1.19/bcftools/kmin.c\n",
      "x samtools-0.1.19/bcftools/kmin.h\n",
      "x samtools-0.1.19/bcftools/main.c\n",
      "x samtools-0.1.19/bcftools/mut.c\n",
      "x samtools-0.1.19/bcftools/prob1.c\n",
      "x samtools-0.1.19/bcftools/prob1.h\n",
      "x samtools-0.1.19/bcftools/vcf.c\n",
      "x samtools-0.1.19/bcftools/vcfutils.pl\n",
      "x samtools-0.1.19/bcftools/bcf.h~\n",
      "x samtools-0.1.19/bedcov.c\n",
      "x samtools-0.1.19/bedidx.c\n",
      "x samtools-0.1.19/bgzf.c\n",
      "x samtools-0.1.19/bgzf.h\n",
      "x samtools-0.1.19/bgzip.c\n",
      "x samtools-0.1.19/cut_target.c\n",
      "x samtools-0.1.19/errmod.c\n",
      "x samtools-0.1.19/errmod.h\n",
      "x samtools-0.1.19/examples/\n",
      "x samtools-0.1.19/examples/00README.txt\n",
      "x samtools-0.1.19/examples/Makefile\n",
      "x samtools-0.1.19/examples/bam2bed.c\n",
      "x samtools-0.1.19/examples/calDepth.c\n",
      "x samtools-0.1.19/examples/chk_indel.c\n",
      "x samtools-0.1.19/examples/ex1.fa\n",
      "x samtools-0.1.19/examples/ex1.sam.gz\n",
      "x samtools-0.1.19/examples/toy.fa\n",
      "x samtools-0.1.19/examples/toy.sam\n",
      "x samtools-0.1.19/faidx.c\n",
      "x samtools-0.1.19/faidx.h\n",
      "x samtools-0.1.19/kaln.c\n",
      "x samtools-0.1.19/kaln.h\n",
      "x samtools-0.1.19/khash.h\n",
      "x samtools-0.1.19/klist.h\n",
      "x samtools-0.1.19/knetfile.c\n",
      "x samtools-0.1.19/knetfile.h\n",
      "x samtools-0.1.19/kprobaln.c\n",
      "x samtools-0.1.19/kprobaln.h\n",
      "x samtools-0.1.19/kseq.h\n",
      "x samtools-0.1.19/ksort.h\n",
      "x samtools-0.1.19/kstring.c\n",
      "x samtools-0.1.19/kstring.h\n",
      "x samtools-0.1.19/misc/\n",
      "x samtools-0.1.19/misc/HmmGlocal.java\n",
      "x samtools-0.1.19/misc/Makefile\n",
      "x samtools-0.1.19/misc/ace2sam.c\n",
      "x samtools-0.1.19/misc/bamcheck.c\n",
      "x samtools-0.1.19/misc/blast2sam.pl\n",
      "x samtools-0.1.19/misc/bowtie2sam.pl\n",
      "x samtools-0.1.19/misc/export2sam.pl\n",
      "x samtools-0.1.19/misc/interpolate_sam.pl\n",
      "x samtools-0.1.19/misc/maq2sam.c\n",
      "x samtools-0.1.19/misc/md5.c\n",
      "x samtools-0.1.19/misc/md5.h\n",
      "x samtools-0.1.19/misc/md5fa.c\n",
      "x samtools-0.1.19/misc/novo2sam.pl\n",
      "x samtools-0.1.19/misc/plot-bamcheck\n",
      "x samtools-0.1.19/misc/psl2sam.pl\n",
      "x samtools-0.1.19/misc/r2plot.lua\n",
      "x samtools-0.1.19/misc/sam2vcf.pl\n",
      "x samtools-0.1.19/misc/samtools.pl\n",
      "x samtools-0.1.19/misc/soap2sam.pl\n",
      "x samtools-0.1.19/misc/varfilter.py\n",
      "x samtools-0.1.19/misc/vcfutils.lua\n",
      "x samtools-0.1.19/misc/wgsim.c\n",
      "x samtools-0.1.19/misc/wgsim_eval.pl\n",
      "x samtools-0.1.19/misc/zoom2sam.pl\n",
      "x samtools-0.1.19/padding.c\n",
      "x samtools-0.1.19/phase.c\n",
      "x samtools-0.1.19/razf.c\n",
      "x samtools-0.1.19/razf.h\n",
      "x samtools-0.1.19/razip.c\n",
      "x samtools-0.1.19/sam.c\n",
      "x samtools-0.1.19/sam.h\n",
      "x samtools-0.1.19/sam_header.c\n",
      "x samtools-0.1.19/sam_header.h\n",
      "x samtools-0.1.19/sam_view.c\n",
      "x samtools-0.1.19/sample.c\n",
      "x samtools-0.1.19/sample.h\n",
      "x samtools-0.1.19/samtools.1\n",
      "x samtools-0.1.19/win32/\n",
      "x samtools-0.1.19/win32/libcurses.a\n",
      "x samtools-0.1.19/win32/libz.a\n",
      "x samtools-0.1.19/win32/xcurses.h\n",
      "x samtools-0.1.19/win32/zconf.h\n",
      "x samtools-0.1.19/win32/zlib.h\n",
      "x samtools-0.1.19/bam.h~\n",
      "make[2]: Nothing to be done for `lib'.\n",
      "make[2]: Nothing to be done for `lib'.\n",
      "make[2]: Nothing to be done for `lib'.\n",
      "gcc -g -Wall -O2 -o samtools bam_tview.o bam_plcmd.o sam_view.o bam_rmdup.o bam_rmdupse.o bam_mate.o bam_stat.o bam_color.o bamtk.o kaln.o bam2bcf.o bam2bcf_indel.o errmod.o sample.o cut_target.o phase.o bam2depth.o padding.o bedcov.o bamshuf.o bam_tview_curses.o bam_tview_html.o  libbam.a -Lbcftools -lbcf  -lcurses  -lm -lz -lpthread\n",
      "gcc -g -Wall -O2 -o bcftools call1.o main.o ../kstring.o ../bgzf.o ../knetfile.o ../bedidx.o -L.  -lbcf -lm -lz -lpthread\n",
      "make[1]: Nothing to be done for `all'.\n",
      "g++ -O2 -o rrbsSnp main.o sam_funcs.o hash_funcs.o chrome_funcs.o  -m64 -I./samtools-0.1.19/ -L./samtools-0.1.19/ -lbam -lz -lpthread\n"
     ]
    }
   ],
   "source": [
    "#Install BS-SNPer\n",
    "#!sh BS-Snper.sh"
   ]
  },
  {
   "cell_type": "code",
   "execution_count": 13,
   "metadata": {
    "collapsed": false,
    "scrolled": false
   },
   "outputs": [
    {
     "name": "stdout",
     "output_type": "stream",
     "text": [
      "\u001b[31mBS-Snper.pl\u001b[m\u001b[m             chrome_funcs.o          \u001b[31mrrbsSnp\u001b[m\u001b[m\r\n",
      "\u001b[31mBS-Snper.sh\u001b[m\u001b[m             \u001b[31mhash_funcs.c\u001b[m\u001b[m            \u001b[31msam_funcs.c\u001b[m\u001b[m\r\n",
      "\u001b[31mMakefile\u001b[m\u001b[m                \u001b[31mhash_funcs.h\u001b[m\u001b[m            \u001b[31msam_funcs.h\u001b[m\u001b[m\r\n",
      "\u001b[31mREADME.txt\u001b[m\u001b[m              hash_funcs.o            sam_funcs.o\r\n",
      "\u001b[31mchrome_funcs.c\u001b[m\u001b[m          \u001b[31mmain.c\u001b[m\u001b[m                  \u001b[34msamtools-0.1.19\u001b[m\u001b[m\r\n",
      "\u001b[31mchrome_funcs.h\u001b[m\u001b[m          main.o                  \u001b[31msamtools-0.1.19.tar.bz2\u001b[m\u001b[m\r\n"
     ]
    }
   ],
   "source": [
    "#Check that rrbsSnp was generated and look at other output\n",
    "#!ls"
   ]
  },
  {
   "cell_type": "markdown",
   "metadata": {},
   "source": [
    "## 1. Set working directory"
   ]
  },
  {
   "cell_type": "code",
   "execution_count": 1,
   "metadata": {
    "collapsed": false
   },
   "outputs": [
    {
     "name": "stdout",
     "output_type": "stream",
     "text": [
      "/Users/yaamini/Documents/project-gigas-oa-meth/output\n"
     ]
    }
   ],
   "source": [
    "cd /Users/yaamini/Documents/project-gigas-oa-meth/output/"
   ]
  },
  {
   "cell_type": "code",
   "execution_count": 2,
   "metadata": {
    "collapsed": false
   },
   "outputs": [
    {
     "name": "stdout",
     "output_type": "stream",
     "text": [
      "mkdir: 07_BS-SNPer: File exists\r\n"
     ]
    }
   ],
   "source": [
    "!mkdir 07_BS-SNPer"
   ]
  },
  {
   "cell_type": "code",
   "execution_count": 3,
   "metadata": {
    "collapsed": false
   },
   "outputs": [
    {
     "name": "stdout",
     "output_type": "stream",
     "text": [
      "/Users/yaamini/Documents/project-gigas-oa-meth/output/07_BS-SNPer\n"
     ]
    }
   ],
   "source": [
    "cd 07_BS-SNPer/"
   ]
  },
  {
   "cell_type": "code",
   "execution_count": 4,
   "metadata": {
    "collapsed": true
   },
   "outputs": [],
   "source": [
    "bedtoolsDirectory = \"/Users/Shared/bioinformatics/bedtools2/bin/\""
   ]
  },
  {
   "cell_type": "markdown",
   "metadata": {},
   "source": [
    "## 2. Identify SNP variants"
   ]
  },
  {
   "cell_type": "markdown",
   "metadata": {},
   "source": [
    "I will identify variants in individual files, as well as SNPs across all samples."
   ]
  },
  {
   "cell_type": "markdown",
   "metadata": {},
   "source": [
    "### 2a. Merged SNP variants"
   ]
  },
  {
   "cell_type": "markdown",
   "metadata": {},
   "source": [
    "To identify SNPs across all samples, I need to merge my samples, then use that as the input file for `BS-Snper`."
   ]
  },
  {
   "cell_type": "markdown",
   "metadata": {},
   "source": [
    "#### Merge samples"
   ]
  },
  {
   "cell_type": "code",
   "execution_count": 4,
   "metadata": {
    "collapsed": false,
    "scrolled": true
   },
   "outputs": [
    {
     "name": "stdout",
     "output_type": "stream",
     "text": [
      "samtools: option requires an argument -- h\r\n",
      "Usage: samtools merge [-nurlf] [-h inh.sam] [-b <bamlist.fofn>] <out.bam> <in1.bam> [<in2.bam> ... <inN.bam>]\r\n",
      "\r\n",
      "Options:\r\n",
      "  -n         Input files are sorted by read name\r\n",
      "  -t TAG     Input files are sorted by TAG value\r\n",
      "  -r         Attach RG tag (inferred from file names)\r\n",
      "  -u         Uncompressed BAM output\r\n",
      "  -f         Overwrite the output BAM if exist\r\n",
      "  -1         Compress level 1\r\n",
      "  -l INT     Compression level, from 0 to 9 [-1]\r\n",
      "  -R STR     Merge file in the specified region STR [all]\r\n",
      "  -h FILE    Copy the header in FILE to <out.bam> [in1.bam]\r\n",
      "  -c         Combine @RG headers with colliding IDs [alter IDs to be distinct]\r\n",
      "  -p         Combine @PG headers with colliding IDs [alter IDs to be distinct]\r\n",
      "  -s VALUE   Override random seed\r\n",
      "  -b FILE    List of input BAM filenames, one per line [null]\r\n",
      "  -X         Use customized index files\r\n",
      "  -L FILE    Specify a BED file for multiple region filtering [null]\r\n",
      "  --no-PG    do not add a PG line\r\n",
      "      --input-fmt-option OPT[=VAL]\r\n",
      "               Specify a single input file format option in the form\r\n",
      "               of OPTION or OPTION=VALUE\r\n",
      "  -O, --output-fmt FORMAT[,OPT[=VAL]]...\r\n",
      "               Specify output format (SAM, BAM, CRAM)\r\n",
      "      --output-fmt-option OPT[=VAL]\r\n",
      "               Specify a single output file format option in the form\r\n",
      "               of OPTION or OPTION=VALUE\r\n",
      "      --reference FILE\r\n",
      "               Reference sequence FASTA FILE [null]\r\n",
      "  -@, --threads INT\r\n",
      "               Number of additional threads to use [0]\r\n",
      "      --write-index\r\n",
      "               Automatically index the output files [off]\r\n",
      "      --verbosity INT\r\n",
      "               Set level of verbosity\r\n"
     ]
    }
   ],
   "source": [
    "!samtools merge -h"
   ]
  },
  {
   "cell_type": "code",
   "execution_count": 5,
   "metadata": {
    "collapsed": false
   },
   "outputs": [],
   "source": [
    "%%bash\n",
    "\n",
    "samtools merge \\\n",
    "/Volumes/web/spartina/project-gigas-oa-meth/output/BS-Snper/merged-sorted-deduplicated.bam \\\n",
    "/Volumes/web/spartina/project-gigas-oa-meth/output/bismark-roslin/zr3616_1_R1_val_1_val_1_val_1_bismark_bt2_pe.deduplicated.sorted.bam \\\n",
    "/Volumes/web/spartina/project-gigas-oa-meth/output/bismark-roslin/zr3616_2_R1_val_1_val_1_val_1_bismark_bt2_pe.deduplicated.sorted.bam \\\n",
    "/Volumes/web/spartina/project-gigas-oa-meth/output/bismark-roslin/zr3616_3_R1_val_1_val_1_val_1_bismark_bt2_pe.deduplicated.sorted.bam \\\n",
    "/Volumes/web/spartina/project-gigas-oa-meth/output/bismark-roslin/zr3616_4_R1_val_1_val_1_val_1_bismark_bt2_pe.deduplicated.sorted.bam \\\n",
    "/Volumes/web/spartina/project-gigas-oa-meth/output/bismark-roslin/zr3616_5_R1_val_1_val_1_val_1_bismark_bt2_pe.deduplicated.sorted.bam \\\n",
    "/Volumes/web/spartina/project-gigas-oa-meth/output/bismark-roslin/zr3616_6_R1_val_1_val_1_val_1_bismark_bt2_pe.deduplicated.sorted.bam \\\n",
    "/Volumes/web/spartina/project-gigas-oa-meth/output/bismark-roslin/zr3616_7_R1_val_1_val_1_val_1_bismark_bt2_pe.deduplicated.sorted.bam \\\n",
    "/Volumes/web/spartina/project-gigas-oa-meth/output/bismark-roslin/zr3616_8_R1_val_1_val_1_val_1_bismark_bt2_pe.deduplicated.sorted.bam"
   ]
  },
  {
   "cell_type": "code",
   "execution_count": 6,
   "metadata": {
    "collapsed": false,
    "scrolled": true
   },
   "outputs": [
    {
     "name": "stdout",
     "output_type": "stream",
     "text": [
      "A00564:290:HLTHCDSXY:2:1437:25039:22748_1:N:0:GGTAACTC+TCACCAAC\t83\tNC_047559.1\t20\t2\t81M\t=\t35\t88\tAAAAACAAATATTTCTATAAAAAAATTACATCCCTAAAAAAAAACCAATATTCTTCATTTTAATATTAAAATAAAAATATA\tFFFFFFFFFFFFFFFFFFFFFFFFFFFFFFFFFFFFFFFFFFFFFFFFFFFFFFFFFFFFFFFFFFFFFFFFFFFFFFFFF\tNM:i:10\tMD:Z:2G0G17G13G0G3G23G8G0G0G5\tXM:Z:..hh.................h.............xh...h.......................h........hhh.....\tXR:Z:CT\tXG:Z:GA\r\n",
      "A00564:290:HLTHCDSXY:2:1437:25039:22748_1:N:0:GGTAACTC+TCACCAAC\t163\tNC_047559.1\t35\t2\t66M7I7M\t=\t20\t-88\tTATAAAAAAATTACATCCCTAAAAAAAAACCAATATTCTTCATTTTAATATTAAAATAAAAATATACAATCACGTACAAA\tFFFFFFFFFFFFFFFFFFFFFFFFFFFFFFFFFFFFFFFFFFFFFFFFFFFFFFFFFFFFFFFFFFFFFFFFFFFFFFFF\tNM:i:17\tMD:Z:6G13G0G3G23G8G0G0G7G0T3\tXM:Z:......h.............xh...h.......................h........hhh............U.h....\tXR:Z:GA\tXG:Z:GA\r\n",
      "A00564:290:HLTHCDSXY:2:1416:25247:3192_1:N:0:TATGTAGT+CATTAGTG\t83\tNC_047559.1\t116\t0\t102M\t=\t131\t115\tAAAACCCCCTAAAACTTTTAAAATCAATAATAACACCCATATTTCTCCTTTAATACATTAATACAAAAAATACAAAAAATACATTAACATTAATTTCAAATA\t:F:FFFFFFFF::FFF:FFFFFFFFFF:F:FFFFFFFFFFFFFFFFFF:FFFFFFFFFFFFFFFFFFFFFFFFFFFF:FFFFFFFFFFFFFFFFFFFFFFFF\tNM:i:16\tMD:Z:3G15G0G0G16G9G2G15G1G0A5G2A0T5G5G5G3\tXM:Z:...h...............hhh................z............h...............h.h......h.........h.....h.....x...\tXR:Z:CT\tXG:Z:GA\r\n",
      "A00564:290:HLTHCDSXY:2:1416:25247:3192_1:N:0:TATGTAGT+CATTAGTG\t163\tNC_047559.1\t131\t0\t93M1I7M\t=\t116\t-115\tTTTTAAAATCAATAATAACACCCATATTTCTCCTTTAATACATTAATACAAAAAATACAAAAAATACATTAACATTAATTTCAAATAAAATTCTTTTATAA\tFFFFFFFFFFFFFFFFFFFFFFFFFFFFFFFFFFFFFFFFFFFFFFFFFFFFFFFFFFFFFFFFFFFFFFFFFFFFFFFFFFFF:FFFFFFFFFFFFFFFF\tNM:i:16\tMD:Z:4G0G0G16G9G2G15G1G0A5G2A0T5G5G5G16\tXM:Z:....hhh................z............h...............h.h......h.........h.....h.....x.................\tXR:Z:GA\tXG:Z:GA\r\n",
      "A00564:290:HLTHCDSXY:2:2449:9109:9377_1:N:0:CCACCAGG+ATTCCATA\t83\tNC_047559.1\t246\t6\t40M\t=\t257\t-54\tTAAAAAAACTCAAAATATTCTATTTATCATTAAAAAAAAT\tFFFFFFFFFFFFFFF:F:FFFFFFFFFFFFFFFFFFFFFF\tNM:i:5\tMD:Z:1G1G17G4G1G11\tXM:Z:.x.h.................x......z...........\tXR:Z:CT\tXG:Z:GA\r\n",
      "A00564:290:HLTHCDSXY:2:2449:9109:9377_1:N:0:CCACCAGG+ATTCCATA\t163\tNC_047559.1\t257\t6\t43M\t=\t246\t54\tAAAATATTCTATTTATCATTAAAAAAAATCAATAAACTTAATT\tFFFFFF:FFFFFFFFFFFFFFFFFFFFFFFFFF,FFFF:FFFF\tNM:i:5\tMD:Z:10G4G1G13G2G8\tXM:Z:..........x......z.............x..h........\tXR:Z:GA\tXG:Z:GA\r\n",
      "A00564:290:HLTHCDSXY:2:2212:29857:9643_1:N:0:CAATCGGC+TTCCTACA\t83\tNC_047559.1\t398\t6\t15M1D34M\t=\t414\t-64\tAAAAATCACTTTATTAAAATAACATCCTCAAAAAAAAACCCATATTCTT\tFFFFFFFFFFFFFFFFFFFFFFFFFFFFFFFFFFFFFFFFFFFFFFFFF\tNM:i:6\tMD:Z:15^A5G9G0G2G0G13\tXM:Z:....................h.........xh..hh.............\tXR:Z:CT\tXG:Z:GA\r\n",
      "A00564:290:HLTHCDSXY:2:2212:29857:9643_1:N:0:CAATCGGC+TTCCTACA\t163\tNC_047559.1\t414\t6\t48M\t=\t398\t64\tAAAATAACATCCTCAAAAAAAAACCCATATTCTTCATTTTAACGTTCA\tFFFFFFFFFFFFFFFFFFFFFFFFFFFFFFFFFFFFFFFFFFFFFFFF\tNM:i:5\tMD:Z:5G9G0G2G0G27\tXM:Z:.....h.........xh..hh......................Z....\tXR:Z:GA\tXG:Z:GA\r\n",
      "A00564:290:HLTHCDSXY:2:1678:11550:29450_1:N:0:GCCGCACT+CGAGGTCG\t83\tNC_047559.1\t490\t6\t112M\t=\t505\t-125\tAACCCCCAAAAACTTTTAAAATTAAAACTTACACCATCAATTCTCCTTTAATACATTAATACAAAAAAAATAATCAACTTTAATTTTAAAAAAAATCCTTTTATTAAAAAAT\tFFF:FFFFFFFFFFFFFFFFFFFFFFFFFFFFFFFFFFF:FFFFFFFFFFFFFFFFFFFFFFFFFFFFFFFFFFFFFFFFFFFFFFFFFFFFFFFFFFFFFFFFFFFFFFFF\tNM:i:15\tMD:Z:0G16G0G0G5G24G1G6A5G10G5G5G0G15G1G4\tXM:Z:h................hhh.....h........................h.h............h..........x.....h.....hh...............h.h....\tXR:Z:CT\tXG:Z:GA\r\n",
      "A00564:290:HLTHCDSXY:2:2632:5746:2080_1:N:0:CCACCAGG+ATTCCATA\t83\tNC_047559.1\t490\t6\t58M\t=\t505\t75\tAACCCCCAAAAACTTTTAAAATTAAAACTTACACCATCAATTCTCCTTTAATACATTA\tFFFFFFFFFFFFFFFFFFFFFFFFFFFFFFFF:FFFFFFFFFFFFFFFFFFFFFFFFF\tNM:i:7\tMD:Z:0G16G0G0G5G24G1G5\tXM:Z:h................hhh.....h........................h.h.....\tXR:Z:CT\tXG:Z:GA\r\n",
      "samtools view: writing to standard output failed: Broken pipe\r\n",
      "samtools view: error closing standard output: -1\r\n"
     ]
    }
   ],
   "source": [
    "#View output file header\n",
    "!samtools view /Volumes/web/spartina/project-gigas-oa-meth/output/BS-Snper/merged-sorted-deduplicated.bam \\\n",
    "| head "
   ]
  },
  {
   "cell_type": "code",
   "execution_count": null,
   "metadata": {
    "collapsed": false
   },
   "outputs": [],
   "source": [
    "#Create index file for IGV\n",
    "!samtools index -b /Volumes/web/spartina/project-gigas-oa-meth/output/BS-Snper/merged-sorted-deduplicated.bam "
   ]
  },
  {
   "cell_type": "markdown",
   "metadata": {
    "collapsed": true
   },
   "source": [
    "#### Identify SNPs"
   ]
  },
  {
   "cell_type": "markdown",
   "metadata": {},
   "source": [
    "Options for the script are found [here](https://github.com/hellbelly/BS-Snper/blob/master/README.txt) and below. Input and output files should be **absolute** paths.\n",
    "\n",
    "\t--fa: Reference genome file in fasta format\n",
    "\t--input: Input bam file (I'm using deduplicated sorted bams)\n",
    "\t--output: Temporary file storing SNP candidates\n",
    "\t--methcg: CpG methylation information\n",
    "\t--methchg: CHG methylation information\n",
    "\t--methchh: CHH methylation information\n",
    "\t--minhetfreq: Threshold of frequency for calling heterozygous SNP\n",
    "\t--minhomfreq: Threshold of frequency for calling homozygous SNP\n",
    "\t--minquali: Threshold of base quality\n",
    "\t--mincover: Threshold of minimum depth of covered reads\n",
    "\t--maxcover: Threshold of maximum depth of covered reads\n",
    "\t--minread2: Minimum mutation reads number\n",
    "\t--errorate: Minimum mutation rate\n",
    "\t--mapvalue: Minimum read mapping value\n",
    "\tSNP.out: Final SNP result file\n",
    "\tERR.log: Log file"
   ]
  },
  {
   "cell_type": "code",
   "execution_count": 10,
   "metadata": {
    "collapsed": true
   },
   "outputs": [],
   "source": [
    "#Defaults: --minhetfreq 0.1 --minhomfreq 0.85 --minquali 15 --maxcover 1000 --minread2 2 --errorate 0.02 --mapvalue 20\n",
    "#Saving output to gannet\n",
    "!perl /Users/Shared/Apps/BS-Snper-master/BS-Snper.pl \\\n",
    "--fa /Volumes/web/spartina/project-oyster-oa/data/Cg-roslin/cgigas_uk_roslin_v1_genomic-mito.fa \\\n",
    "--input /Volumes/web/spartina/project-gigas-oa-meth/output/BS-Snper/merged-sorted-deduplicated.bam \\\n",
    "--output /Volumes/web/spartina/project-gigas-oa-meth/output/BS-Snper/SNP-candidates.txt \\\n",
    "--methcg /Volumes/web/spartina/project-gigas-oa-meth/output/BS-Snper/CpG-meth-info.tab \\\n",
    "--methchg /Volumes/web/spartina/project-gigas-oa-meth/output/BS-Snper/CHG-meth-info.tab \\\n",
    "--methchh /Volumes/web/spartina/project-gigas-oa-meth/output/BS-Snper/CHH-meth-info.tab \\\n",
    "--mincover 5 \\\n",
    "> /Volumes/web/spartina/project-gigas-oa-meth/output/BS-Snper/SNP-results.vcf 2> /Volumes/web/spartina/project-gigas-oa-meth/output/BS-Snper/merged.ERR.log"
   ]
  },
  {
   "cell_type": "code",
   "execution_count": 7,
   "metadata": {
    "collapsed": false,
    "scrolled": true
   },
   "outputs": [
    {
     "name": "stdout",
     "output_type": "stream",
     "text": [
      "##fileformat=VCFv4.3\r\n",
      "##fileDate= 20210407\r\n",
      "##bssnperVersion=1.1\r\n",
      "##bssnperCommand=--fa /Volumes/web/spartina/project-oyster-oa/data/Cg-roslin/cgigas_uk_roslin_v1_genomic-mito.fa   --input /Volumes/web/spartina/project-gigas-oa-meth/output/BS-Snper/merged-sorted-deduplicated.bam --output /Volumes/web/spartina/project-gigas-oa-meth/output/BS-Snper/SNP-candidates.txt --methcg /Volumes/web/spartina/project-gigas-oa-meth/output/BS-Snper/CpG-meth-info.tab --methchg /Volumes/web/spartina/project-gigas-oa-meth/output/BS-Snper/CHG-meth-info.tab --methchh /Volumes/web/spartina/project-gigas-oa-meth/output/BS-Snper/CHH-meth-info.tab --minhetfreq  0.1 --minhomfreq  0.85 --minquali 15 --mincover 5 --maxcover 1000 --minread2 2 --errorate 0.02 --mapvalue 20\r\n",
      "##reference=file:///Volumes/web/spartina/project-oyster-oa/data/Cg-roslin/cgigas_uk_roslin_v1_genomic-mito.fa\r\n",
      "##Bisulfite=directional>\r\n",
      "##contig=<ID=NC_047559.1,length=55785328>\r\n",
      "##contig=<ID=NC_047560.1,length=73222313>\r\n",
      "##contig=<ID=NC_047561.1,length=58319100>\r\n",
      "##contig=<ID=NC_047562.1,length=53127865>\r\n"
     ]
    }
   ],
   "source": [
    "!head /Volumes/web/spartina/project-gigas-oa-meth/output/BS-Snper/SNP-results.vcf"
   ]
  },
  {
   "cell_type": "code",
   "execution_count": 5,
   "metadata": {
    "collapsed": false
   },
   "outputs": [
    {
     "name": "stdout",
     "output_type": "stream",
     "text": [
      " 5519308 /Volumes/web/spartina/project-gigas-oa-meth/output/BS-Snper/SNP-results.vcf\r\n"
     ]
    }
   ],
   "source": [
    "!wc -l /Volumes/web/spartina/project-gigas-oa-meth/output/BS-Snper/SNP-results.vcf"
   ]
  },
  {
   "cell_type": "markdown",
   "metadata": {},
   "source": [
    "I'll take the output from this and use it with `bedtools intersect` to determine which SNPs are present at CG sites."
   ]
  },
  {
   "cell_type": "code",
   "execution_count": 13,
   "metadata": {
    "collapsed": false
   },
   "outputs": [],
   "source": [
    "#Intersect VCF with SNP locations and CG motif track\n",
    "#BEDtools output has C/T and non-C/T SNPs\n",
    "#Use grep to isolate C/T SNPs\n",
    "!{bedtoolsDirectory}intersectBed \\\n",
    "-u \\\n",
    "-a /Volumes/web/spartina/project-gigas-oa-meth/output/BS-Snper/SNP-results.vcf \\\n",
    "-b ../../genome-feature-files/cgigas_uk_roslin_v1_fuzznuc_CGmotif.gff \\\n",
    "| grep \"C\tT\" \\\n",
    "> /Volumes/web/spartina/project-gigas-oa-meth/output/BS-Snper/CT-SNPs.tab"
   ]
  },
  {
   "cell_type": "code",
   "execution_count": 14,
   "metadata": {
    "collapsed": false
   },
   "outputs": [
    {
     "name": "stdout",
     "output_type": "stream",
     "text": [
      "NC_047559.1\t22443\t.\tC\tT\t4\tLow\tDP=1;ADF=0,0;ADR=0,1;AD=0,1;\tGT:DP:ADF:ADR:AD:BSD:BSQ:ALFR\t1/1:1:0,0:0,1:0,1:0,0,0,0,0,1,0,0:0,0,0,0,0,37,0,0:0.000,1.000\n",
      "NC_047559.1\t34836\t.\tC\tT\t1000\tPASS\tDP=39;ADF=0,0;ADR=0,39;AD=0,39;\tGT:DP:ADF:ADR:AD:BSD:BSQ:ALFR\t0/1:39:0,0:0,39:0,39:0,0,78,0,0,39,0,0:0,0,37,0,0,36,0,0:0.000,1.000\n",
      "NC_047559.1\t36674\t.\tC\tT\t1000\tPASS\tDP=43;ADF=0,0;ADR=21,22;AD=21,22;\tGT:DP:ADF:ADR:AD:BSD:BSQ:ALFR\t0/1:43:0,0:21,22:21,22:0,0,123,0,0,22,21,0:0,0,37,0,0,37,36,0:0.488,0.512\n",
      "NC_047559.1\t38038\t.\tC\tT\t1000\tPASS\tDP=43;ADF=0,0;ADR=30,13;AD=30,13;\tGT:DP:ADF:ADR:AD:BSD:BSQ:ALFR\t0/1:43:0,0:30,13:30,13:0,0,31,0,0,13,30,0:0,0,36,0,0,36,37,0:0.698,0.302\n",
      "NC_047559.1\t44211\t.\tC\tT\t29\tPASS\tDP=5;ADF=0,0;ADR=1,4;AD=1,4;\tGT:DP:ADF:ADR:AD:BSD:BSQ:ALFR\t0/1:5:0,0:1,4:1,4:0,0,0,0,0,4,1,0:0,0,0,0,0,37,37,0:0.200,0.800\n",
      "NC_047559.1\t48352\t.\tC\tT\t104\tPASS\tDP=5;ADF=0,0;ADR=0,5;AD=0,5;\tGT:DP:ADF:ADR:AD:BSD:BSQ:ALFR\t0/1:5:0,0:0,5:0,5:0,0,19,0,0,5,0,0:0,0,37,0,0,37,0,0:0.000,1.000\n",
      "NC_047559.1\t49472\t.\tC\tT\t1000\tPASS\tDP=10;ADF=0,0;ADR=1,9;AD=1,9;\tGT:DP:ADF:ADR:AD:BSD:BSQ:ALFR\t0/1:10:0,0:1,9:1,9:0,0,16,0,0,9,1,0:0,0,37,0,0,37,37,0:0.100,0.900\n",
      "NC_047559.1\t82690\t.\tC\tT\t1000\tPASS\tDP=53;ADF=0,0;ADR=2,51;AD=2,51;\tGT:DP:ADF:ADR:AD:BSD:BSQ:ALFR\t0/1:53:0,0:2,51:2,51:0,0,31,0,0,51,2,0:0,0,37,0,0,37,37,0:0.038,0.962\n",
      "NC_047559.1\t83012\t.\tC\tT\t132\tPASS\tDP=34;ADF=0,0;ADR=0,34;AD=0,34;\tGT:DP:ADF:ADR:AD:BSD:BSQ:ALFR\t0/1:34:0,0:0,34:0,34:0,0,6,0,0,34,0,0:0,0,35,0,0,37,0,0:0.000,1.000\n",
      "NC_047559.1\t87321\t.\tC\tT\t47\tPASS\tDP=11;ADF=0,0;ADR=0,11;AD=0,11;\tGT:DP:ADF:ADR:AD:BSD:BSQ:ALFR\t0/1:11:0,0:0,11:0,11:0,0,2,0,0,11,0,0:0,0,37,0,0,37,0,0:0.000,1.000\n",
      "  122306 /Volumes/web/spartina/project-gigas-oa-meth/output/BS-Snper/CT-SNPs.tab\n"
     ]
    }
   ],
   "source": [
    "!head /Volumes/web/spartina/project-gigas-oa-meth/output/BS-Snper/CT-SNPs.tab\n",
    "!wc -l /Volumes/web/spartina/project-gigas-oa-meth/output/BS-Snper/CT-SNPs.tab"
   ]
  },
  {
   "cell_type": "markdown",
   "metadata": {},
   "source": [
    "### 2b. Individual SNP variants"
   ]
  },
  {
   "cell_type": "code",
   "execution_count": 12,
   "metadata": {
    "collapsed": false
   },
   "outputs": [
    {
     "name": "stdout",
     "output_type": "stream",
     "text": [
      "/Volumes/web/spartina/project-gigas-oa-meth/output/bismark-roslin\n"
     ]
    }
   ],
   "source": [
    "cd /Volumes/web/spartina/project-gigas-oa-meth/output/bismark-roslin/"
   ]
  },
  {
   "cell_type": "code",
   "execution_count": 13,
   "metadata": {
    "collapsed": false
   },
   "outputs": [
    {
     "name": "stdout",
     "output_type": "stream",
     "text": [
      "       8\r\n"
     ]
    }
   ],
   "source": [
    "!find *deduplicated.sorted.bam | wc -l"
   ]
  },
  {
   "cell_type": "code",
   "execution_count": 14,
   "metadata": {
    "collapsed": false
   },
   "outputs": [
    {
     "name": "stdout",
     "output_type": "stream",
     "text": [
      "zr3616_1_R1_val_1_val_1_val_1_bismark_bt2_pe.deduplicated.sorted.bam zr3616_2_R1_val_1_val_1_val_1_bismark_bt2_pe.deduplicated.sorted.bam zr3616_3_R1_val_1_val_1_val_1_bismark_bt2_pe.deduplicated.sorted.bam zr3616_4_R1_val_1_val_1_val_1_bismark_bt2_pe.deduplicated.sorted.bam zr3616_5_R1_val_1_val_1_val_1_bismark_bt2_pe.deduplicated.sorted.bam zr3616_6_R1_val_1_val_1_val_1_bismark_bt2_pe.deduplicated.sorted.bam zr3616_7_R1_val_1_val_1_val_1_bismark_bt2_pe.deduplicated.sorted.bam zr3616_8_R1_val_1_val_1_val_1_bismark_bt2_pe.deduplicated.sorted.bam\n",
      "zr3616_1_R1_val_1_val_1_val_1_bismark_bt2_pe\n",
      "zr3616_2_R1_val_1_val_1_val_1_bismark_bt2_pe\n",
      "zr3616_3_R1_val_1_val_1_val_1_bismark_bt2_pe\n",
      "zr3616_4_R1_val_1_val_1_val_1_bismark_bt2_pe\n",
      "zr3616_5_R1_val_1_val_1_val_1_bismark_bt2_pe\n",
      "zr3616_6_R1_val_1_val_1_val_1_bismark_bt2_pe\n",
      "zr3616_7_R1_val_1_val_1_val_1_bismark_bt2_pe\n",
      "zr3616_8_R1_val_1_val_1_val_1_bismark_bt2_pe\n"
     ]
    }
   ],
   "source": [
    "%%bash\n",
    "\n",
    "FILES=$(ls *deduplicated.sorted.bam)\n",
    "echo ${FILES}\n",
    "\n",
    "for file in ${FILES}\n",
    "do\n",
    "    NAME=$(echo ${file} | awk -F \".\" '{print $1}')\n",
    "    echo ${NAME}\n",
    "\n",
    "    perl /Users/Shared/Apps/BS-Snper-master/BS-Snper.pl \\\n",
    "    --fa /Volumes/web/spartina/project-oyster-oa/data/Cg-roslin/cgigas_uk_roslin_v1_genomic-mito.fa \\\n",
    "    --input ${NAME}.deduplicated.sorted.bam \\\n",
    "    --output ${NAME}.SNP-candidates.txt \\\n",
    "    --methcg ${NAME}.CpG-meth-info.tab \\\n",
    "    --methchg ${NAME}.CHG-meth-info.tab \\\n",
    "    --methchh ${NAME}.CHH-meth-info.tab \\\n",
    "    --mincover 5 \\\n",
    "    > ${NAME}.SNP-results.vcf 2> ${NAME}.ERR.log\n",
    "\n",
    "done"
   ]
  },
  {
   "cell_type": "code",
   "execution_count": 15,
   "metadata": {
    "collapsed": true
   },
   "outputs": [],
   "source": [
    "# Move files to BS-Snper directory\n",
    "!mv *SNP-candidates.txt *meth-info.tab *SNP-results.vcf *ERR.log ../BS-Snper/"
   ]
  },
  {
   "cell_type": "code",
   "execution_count": 6,
   "metadata": {
    "collapsed": false
   },
   "outputs": [
    {
     "name": "stdout",
     "output_type": "stream",
     "text": [
      "/Volumes/web/spartina/project-gigas-oa-meth/output/BS-Snper\n"
     ]
    }
   ],
   "source": [
    "cd /Volumes/web/spartina/project-gigas-oa-meth/output/BS-Snper/"
   ]
  },
  {
   "cell_type": "code",
   "execution_count": 7,
   "metadata": {
    "collapsed": false
   },
   "outputs": [
    {
     "name": "stdout",
     "output_type": "stream",
     "text": [
      " 3083382 zr3616_1_R1_val_1_val_1_val_1_bismark_bt2_pe.SNP-results.vcf\n",
      " 3105080 zr3616_2_R1_val_1_val_1_val_1_bismark_bt2_pe.SNP-results.vcf\n",
      " 3202988 zr3616_3_R1_val_1_val_1_val_1_bismark_bt2_pe.SNP-results.vcf\n",
      " 3232583 zr3616_4_R1_val_1_val_1_val_1_bismark_bt2_pe.SNP-results.vcf\n",
      " 3007518 zr3616_5_R1_val_1_val_1_val_1_bismark_bt2_pe.SNP-results.vcf\n",
      " 3204395 zr3616_6_R1_val_1_val_1_val_1_bismark_bt2_pe.SNP-results.vcf\n",
      " 3083706 zr3616_7_R1_val_1_val_1_val_1_bismark_bt2_pe.SNP-results.vcf\n",
      " 3100801 zr3616_8_R1_val_1_val_1_val_1_bismark_bt2_pe.SNP-results.vcf\n",
      " 25020453 total\n"
     ]
    }
   ],
   "source": [
    "!wc -l zr3616*vcf"
   ]
  },
  {
   "cell_type": "code",
   "execution_count": 31,
   "metadata": {
    "collapsed": false
   },
   "outputs": [
    {
     "name": "stdout",
     "output_type": "stream",
     "text": [
      "NC_047559.1\t22443\t.\tC\tT\t4\tLow\tDP=1;ADF=0,0;ADR=0,1;AD=0,1;\tGT:DP:ADF:ADR:AD:BSD:BSQ:ALFR\t1/1:1:0,0:0,1:0,1:0,0,0,0,0,1,0,0:0,0,0,0,0,37,0,0:0.000,1.000\n",
      "NC_047559.1\t34836\t.\tC\tT\t142\tPASS\tDP=6;ADF=0,0;ADR=0,6;AD=0,6;\tGT:DP:ADF:ADR:AD:BSD:BSQ:ALFR\t0/1:6:0,0:0,6:0,6:0,0,17,0,0,6,0,0:0,0,36,0,0,37,0,0:0.000,1.000\n",
      "NC_047559.1\t36674\t.\tC\tT\t29\tPASS\tDP=5;ADF=0,0;ADR=0,5;AD=0,5;\tGT:DP:ADF:ADR:AD:BSD:BSQ:ALFR\t0/1:5:0,0:0,5:0,5:0,0,44,0,0,5,0,0:0,0,37,0,0,37,0,0:0.000,1.000\n",
      "NC_047559.1\t38038\t.\tC\tT\t1000\tPASS\tDP=12;ADF=0,0;ADR=5,7;AD=5,7;\tGT:DP:ADF:ADR:AD:BSD:BSQ:ALFR\t0/1:12:0,0:5,7:5,7:0,0,13,0,0,7,5,0:0,0,37,0,0,35,35,0:0.417,0.583\n",
      "NC_047559.1\t42517\t.\tC\tT\t6\tLow\tDP=2;ADF=0,0;ADR=0,2;AD=0,2;\tGT:DP:ADF:ADR:AD:BSD:BSQ:ALFR\t1/1:2:0,0:0,2:0,2:0,0,0,0,0,2,0,0:0,0,0,0,0,37,0,0:0.000,1.000\n",
      "NC_047559.1\t48352\t.\tC\tT\t72\tLow\tDP=3;ADF=0,0;ADR=0,3;AD=0,3;\tGT:DP:ADF:ADR:AD:BSD:BSQ:ALFR\t0/1:3:0,0:0,3:0,3:0,0,4,0,0,3,0,0:0,0,37,0,0,37,0,0:0.000,1.000\n",
      "NC_047559.1\t49472\t.\tC\tT\t68\tLow\tDP=4;ADF=0,0;ADR=0,4;AD=0,4;\tGT:DP:ADF:ADR:AD:BSD:BSQ:ALFR\t0/1:4:0,0:0,4:0,4:0,0,2,0,0,4,0,0:0,0,37,0,0,37,0,0:0.000,1.000\n",
      "NC_047559.1\t108375\t.\tC\tT\t4\tLow\tDP=1;ADF=0,0;ADR=0,1;AD=0,1;\tGT:DP:ADF:ADR:AD:BSD:BSQ:ALFR\t1/1:1:0,0:0,1:0,1:0,0,0,0,0,1,0,0:0,0,0,0,0,37,0,0:0.000,1.000\n",
      "NC_047559.1\t197299\t.\tC\tT\t38\tPASS\tDP=11;ADF=0,0;ADR=7,4;AD=7,4;\tGT:DP:ADF:ADR:AD:BSD:BSQ:ALFR\t0/1:11:0,0:7,4:7,4:0,0,21,0,0,4,7,0:0,0,37,0,0,37,37,0:0.636,0.364\n",
      "NC_047559.1\t205322\t.\tC\tT\t115\tPASS\tDP=28;ADF=0,0;ADR=22,6;AD=22,6;\tGT:DP:ADF:ADR:AD:BSD:BSQ:ALFR\t0/1:28:0,0:22,6:22,6:0,0,6,0,0,6,22,0:0,0,37,0,0,35,36,0:0.786,0.214\n",
      "   69845 zr3616_1_R1_val_1_val_1_val_1_bismark_bt2_pe.SNP-results.vcf_CT-SNPs.tab\n",
      "NC_047559.1\t82690\t.\tC\tT\t1000\tPASS\tDP=7;ADF=0,0;ADR=0,7;AD=0,7;\tGT:DP:ADF:ADR:AD:BSD:BSQ:ALFR\t0/1:7:0,0:0,7:0,7:0,0,12,0,0,7,0,0:0,0,37,0,0,35,0,0:0.000,1.000\n",
      "NC_047559.1\t83012\t.\tC\tT\t50\tPASS\tDP=10;ADF=0,0;ADR=0,10;AD=0,10;\tGT:DP:ADF:ADR:AD:BSD:BSQ:ALFR\t0/1:10:0,0:0,10:0,10:0,0,2,0,0,10,0,0:0,0,37,0,0,37,0,0:0.000,1.000\n",
      "NC_047559.1\t83513\t.\tC\tT\t9\tLow\tDP=3;ADF=0,0;ADR=0,3;AD=0,3;\tGT:DP:ADF:ADR:AD:BSD:BSQ:ALFR\t1/1:3:0,0:0,3:0,3:0,0,0,0,0,3,0,0:0,0,0,0,0,37,0,0:0.000,1.000\n",
      "NC_047559.1\t100873\t.\tC\tT\t123\tPASS\tDP=10;ADF=0,0;ADR=0,10;AD=0,10;\tGT:DP:ADF:ADR:AD:BSD:BSQ:ALFR\t0/1:10:0,0:0,10:0,10:0,0,4,0,0,10,0,0:0,0,37,0,0,36,0,0:0.000,1.000\n",
      "NC_047559.1\t125852\t.\tC\tT\t141\tPASS\tDP=24;ADF=0,0;ADR=17,7;AD=17,7;\tGT:DP:ADF:ADR:AD:BSD:BSQ:ALFR\t0/1:24:0,0:17,7:17,7:0,0,13,0,0,7,17,0:0,0,35,0,0,37,36,0:0.708,0.292\n",
      "NC_047559.1\t183845\t.\tC\tT\t1000\tPASS\tDP=7;ADF=0,0;ADR=0,7;AD=0,7;\tGT:DP:ADF:ADR:AD:BSD:BSQ:ALFR\t0/1:7:0,0:0,7:0,7:0,0,12,0,0,7,0,0:0,0,37,0,0,35,0,0:0.000,1.000\n",
      "NC_047559.1\t191463\t.\tC\tT\t107\tPASS\tDP=11;ADF=0,0;ADR=6,5;AD=6,5;\tGT:DP:ADF:ADR:AD:BSD:BSQ:ALFR\t0/1:11:0,0:6,5:6,5:0,0,12,0,0,5,6,0:0,0,37,0,0,37,37,0:0.545,0.455\n",
      "NC_047559.1\t211764\t.\tC\tT\t1000\tPASS\tDP=17;ADF=0,0;ADR=0,17;AD=0,17;\tGT:DP:ADF:ADR:AD:BSD:BSQ:ALFR\t0/1:17:0,0:0,17:0,17:0,0,8,0,0,17,0,0:0,0,37,0,0,37,0,0:0.000,1.000\n",
      "NC_047559.1\t219023\t.\tC\tT\t29\tLow\tDP=4;ADF=0,0;ADR=0,4;AD=0,4;\tGT:DP:ADF:ADR:AD:BSD:BSQ:ALFR\t0/1:4:0,0:0,4:0,4:0,0,1,0,0,4,0,0:0,0,37,0,0,37,0,0:0.000,1.000\n",
      "NC_047559.1\t219665\t.\tC\tT\t1000\tPASS\tDP=40;ADF=0,0;ADR=21,19;AD=21,19;\tGT:DP:ADF:ADR:AD:BSD:BSQ:ALFR\t0/1:40:0,0:21,19:21,19:0,0,11,0,0,19,21,0:0,0,37,0,0,36,37,0:0.525,0.475\n",
      "   70244 zr3616_2_R1_val_1_val_1_val_1_bismark_bt2_pe.SNP-results.vcf_CT-SNPs.tab\n",
      "NC_047559.1\t34836\t.\tC\tT\t1000\tPASS\tDP=9;ADF=0,0;ADR=0,9;AD=0,9;\tGT:DP:ADF:ADR:AD:BSD:BSQ:ALFR\t0/1:9:0,0:0,9:0,9:0,0,25,0,0,9,0,0:0,0,37,0,0,37,0,0:0.000,1.000\n",
      "NC_047559.1\t36674\t.\tC\tT\t1000\tPASS\tDP=13;ADF=0,0;ADR=0,13;AD=0,13;\tGT:DP:ADF:ADR:AD:BSD:BSQ:ALFR\t0/1:13:0,0:0,13:0,13:0,0,36,0,0,13,0,0:0,0,36,0,0,37,0,0:0.000,1.000\n",
      "NC_047559.1\t49472\t.\tC\tT\t4\tLow\tDP=1;ADF=0,0;ADR=0,1;AD=0,1;\tGT:DP:ADF:ADR:AD:BSD:BSQ:ALFR\t1/1:1:0,0:0,1:0,1:0,0,0,0,0,1,0,0:0,0,0,0,0,37,0,0:0.000,1.000\n",
      "NC_047559.1\t100045\t.\tC\tT\t105\tLow\tDP=4;ADF=0,0;ADR=0,4;AD=0,4;\tGT:DP:ADF:ADR:AD:BSD:BSQ:ALFR\t0/1:4:0,0:0,4:0,4:0,0,3,0,0,4,0,0:0,0,37,0,0,37,0,0:0.000,1.000\n",
      "NC_047559.1\t100873\t.\tC\tT\t100\tPASS\tDP=6;ADF=0,0;ADR=0,6;AD=0,6;\tGT:DP:ADF:ADR:AD:BSD:BSQ:ALFR\t0/1:6:0,0:0,6:0,6:0,0,3,0,0,6,0,0:0,0,37,0,0,37,0,0:0.000,1.000\n",
      "NC_047559.1\t125852\t.\tC\tT\t80\tPASS\tDP=16;ADF=0,0;ADR=12,4;AD=12,4;\tGT:DP:ADF:ADR:AD:BSD:BSQ:ALFR\t0/1:16:0,0:12,4:12,4:0,0,2,0,0,4,12,0:0,0,37,0,0,37,36,0:0.750,0.250\n",
      "NC_047559.1\t149250\t.\tC\tT\t4\tLow\tDP=1;ADF=0,0;ADR=0,1;AD=0,1;\tGT:DP:ADF:ADR:AD:BSD:BSQ:ALFR\t1/1:1:0,0:0,1:0,1:0,0,0,0,0,1,0,0:0,0,0,0,0,37,0,0:0.000,1.000\n",
      "NC_047559.1\t199691\t.\tC\tT\t4\tLow\tDP=1;ADF=0,0;ADR=0,1;AD=0,1;\tGT:DP:ADF:ADR:AD:BSD:BSQ:ALFR\t1/1:1:0,0:0,1:0,1:0,0,0,0,0,1,0,0:0,0,0,0,0,37,0,0:0.000,1.000\n",
      "NC_047559.1\t211764\t.\tC\tT\t1000\tPASS\tDP=21;ADF=0,0;ADR=0,21;AD=0,21;\tGT:DP:ADF:ADR:AD:BSD:BSQ:ALFR\t0/1:21:0,0:0,21:0,21:0,0,6,0,0,21,0,0:0,0,35,0,0,37,0,0:0.000,1.000\n",
      "NC_047559.1\t219244\t.\tC\tT\t26\tPASS\tDP=5;ADF=0,0;ADR=0,5;AD=0,5;\tGT:DP:ADF:ADR:AD:BSD:BSQ:ALFR\t0/1:5:0,0:0,5:0,5:0,0,1,0,0,5,0,0:0,0,37,0,0,37,0,0:0.000,1.000\n",
      "   72064 zr3616_3_R1_val_1_val_1_val_1_bismark_bt2_pe.SNP-results.vcf_CT-SNPs.tab\n",
      "NC_047559.1\t77086\t.\tC\tT\t4\tLow\tDP=1;ADF=0,0;ADR=0,1;AD=0,1;\tGT:DP:ADF:ADR:AD:BSD:BSQ:ALFR\t1/1:1:0,0:0,1:0,1:0,0,0,0,0,1,0,0:0,0,0,0,0,37,0,0:0.000,1.000\n",
      "NC_047559.1\t211764\t.\tC\tT\t1000\tPASS\tDP=34;ADF=0,0;ADR=0,34;AD=0,34;\tGT:DP:ADF:ADR:AD:BSD:BSQ:ALFR\t0/1:34:0,0:0,34:0,34:0,0,8,0,0,34,0,0:0,0,37,0,0,37,0,0:0.000,1.000\n",
      "NC_047559.1\t222020\t.\tC\tT\t4\tLow\tDP=1;ADF=0,0;ADR=0,1;AD=0,1;\tGT:DP:ADF:ADR:AD:BSD:BSQ:ALFR\t1/1:1:0,0:0,1:0,1:0,0,0,0,0,1,0,0:0,0,0,0,0,37,0,0:0.000,1.000\n",
      "NC_047559.1\t353501\t.\tC\tT\t6\tLow\tDP=2;ADF=0,0;ADR=0,2;AD=0,2;\tGT:DP:ADF:ADR:AD:BSD:BSQ:ALFR\t1/1:2:0,0:0,2:0,2:0,0,0,0,0,2,0,0:0,0,0,0,0,31,0,0:0.000,1.000\n",
      "NC_047559.1\t357397\t.\tC\tT\t53\tPASS\tDP=9;ADF=0,0;ADR=0,9;AD=0,9;\tGT:DP:ADF:ADR:AD:BSD:BSQ:ALFR\t0/1:9:0,0:0,9:0,9:0,0,2,0,0,9,0,0:0,0,37,0,0,37,0,0:0.000,1.000\n",
      "NC_047559.1\t357948\t.\tC\tT\t1000\tPASS\tDP=13;ADF=0,0;ADR=0,13;AD=0,13;\tGT:DP:ADF:ADR:AD:BSD:BSQ:ALFR\t0/1:13:0,0:0,13:0,13:0,0,6,0,0,13,0,0:0,0,37,0,0,37,0,0:0.000,1.000\n",
      "NC_047559.1\t378466\t.\tC\tT\t1000\tPASS\tDP=36;ADF=0,0;ADR=0,36;AD=0,36;\tGT:DP:ADF:ADR:AD:BSD:BSQ:ALFR\t0/1:36:0,0:0,36:0,36:0,0,14,0,0,36,0,0:0,0,37,0,0,37,0,0:0.000,1.000\n",
      "NC_047559.1\t428033\t.\tC\tT\t68\tLow\tDP=4;ADF=0,0;ADR=0,4;AD=0,4;\tGT:DP:ADF:ADR:AD:BSD:BSQ:ALFR\t0/1:4:0,0:0,4:0,4:0,0,2,0,0,4,0,0:0,0,37,0,0,37,0,0:0.000,1.000\n",
      "NC_047559.1\t433155\t.\tC\tT\t77\tPASS\tDP=9;ADF=0,0;ADR=5,4;AD=5,4;\tGT:DP:ADF:ADR:AD:BSD:BSQ:ALFR\t0/1:9:0,0:5,4:5,4:0,0,10,0,0,4,5,0:0,0,37,0,0,37,37,0:0.556,0.444\n",
      "NC_047559.1\t469275\t.\tC\tT\t4\tLow\tDP=1;ADF=0,0;ADR=0,1;AD=0,1;\tGT:DP:ADF:ADR:AD:BSD:BSQ:ALFR\t1/1:1:0,0:0,1:0,1:0,0,0,0,0,1,0,0:0,0,0,0,0,37,0,0:0.000,1.000\n",
      "   73664 zr3616_4_R1_val_1_val_1_val_1_bismark_bt2_pe.SNP-results.vcf_CT-SNPs.tab\n",
      "NC_047559.1\t34836\t.\tC\tT\t1000\tPASS\tDP=9;ADF=0,0;ADR=0,9;AD=0,9;\tGT:DP:ADF:ADR:AD:BSD:BSQ:ALFR\t0/1:9:0,0:0,9:0,9:0,0,16,0,0,9,0,0:0,0,37,0,0,36,0,0:0.000,1.000\n",
      "NC_047559.1\t49333\t.\tC\tT\t6\tLow\tDP=2;ADF=0,0;ADR=0,2;AD=0,2;\tGT:DP:ADF:ADR:AD:BSD:BSQ:ALFR\t1/1:2:0,0:0,2:0,2:0,0,0,0,0,2,0,0:0,0,0,0,0,37,0,0:0.000,1.000\n",
      "NC_047559.1\t82690\t.\tC\tT\t1000\tPASS\tDP=31;ADF=0,0;ADR=2,29;AD=2,29;\tGT:DP:ADF:ADR:AD:BSD:BSQ:ALFR\t0/1:31:0,0:2,29:2,29:0,0,15,0,0,29,2,0:0,0,37,0,0,37,37,0:0.065,0.935\n",
      "NC_047559.1\t83012\t.\tC\tT\t130\tPASS\tDP=9;ADF=0,0;ADR=0,9;AD=0,9;\tGT:DP:ADF:ADR:AD:BSD:BSQ:ALFR\t0/1:9:0,0:0,9:0,9:0,0,4,0,0,9,0,0:0,0,34,0,0,37,0,0:0.000,1.000\n",
      "NC_047559.1\t87321\t.\tC\tT\t70\tLow\tDP=3;ADF=0,0;ADR=0,3;AD=0,3;\tGT:DP:ADF:ADR:AD:BSD:BSQ:ALFR\t0/1:3:0,0:0,3:0,3:0,0,2,0,0,3,0,0:0,0,37,0,0,37,0,0:0.000,1.000\n",
      "NC_047559.1\t210243\t.\tC\tT\t4\tLow\tDP=1;ADF=0,0;ADR=0,1;AD=0,1;\tGT:DP:ADF:ADR:AD:BSD:BSQ:ALFR\t1/1:1:0,0:0,1:0,1:0,0,0,0,0,1,0,0:0,0,0,0,0,37,0,0:0.000,1.000\n",
      "NC_047559.1\t211764\t.\tC\tT\t1000\tPASS\tDP=22;ADF=0,0;ADR=2,20;AD=2,20;\tGT:DP:ADF:ADR:AD:BSD:BSQ:ALFR\t0/1:22:0,0:2,20:2,20:0,0,15,0,0,20,2,0:0,0,37,0,0,36,37,0:0.091,0.909\n",
      "NC_047559.1\t223627\t.\tC\tT\t95\tPASS\tDP=10;ADF=0,0;ADR=6,4;AD=6,4;\tGT:DP:ADF:ADR:AD:BSD:BSQ:ALFR\t0/1:10:0,0:6,4:6,4:0,0,3,0,0,4,6,0:0,0,33,0,0,37,37,0:0.600,0.400\n",
      "NC_047559.1\t224536\t.\tC\tT\t4\tLow\tDP=1;ADF=0,0;ADR=0,1;AD=0,1;\tGT:DP:ADF:ADR:AD:BSD:BSQ:ALFR\t1/1:1:0,0:0,1:0,1:0,0,0,0,0,1,0,0:0,0,0,0,0,25,0,0:0.000,1.000\n",
      "NC_047559.1\t236983\t.\tC\tT\t6\tLow\tDP=2;ADF=0,0;ADR=0,2;AD=0,2;\tGT:DP:ADF:ADR:AD:BSD:BSQ:ALFR\t1/1:2:0,0:0,2:0,2:0,0,0,0,0,2,0,0:0,0,0,0,0,37,0,0:0.000,1.000\n",
      "   66965 zr3616_5_R1_val_1_val_1_val_1_bismark_bt2_pe.SNP-results.vcf_CT-SNPs.tab\n",
      "NC_047559.1\t211764\t.\tC\tT\t1000\tPASS\tDP=17;ADF=0,0;ADR=0,17;AD=0,17;\tGT:DP:ADF:ADR:AD:BSD:BSQ:ALFR\t0/1:17:0,0:0,17:0,17:0,0,13,0,0,17,0,0:0,0,37,0,0,37,0,0:0.000,1.000\n",
      "NC_047559.1\t222409\t.\tC\tT\t12\tLow\tDP=4;ADF=0,0;ADR=0,4;AD=0,4;\tGT:DP:ADF:ADR:AD:BSD:BSQ:ALFR\t1/1:4:0,0:0,4:0,4:0,0,0,0,0,4,0,0:0,0,0,0,0,37,0,0:0.000,1.000\n",
      "NC_047559.1\t245710\t.\tC\tT\t20\tPASS\tDP=7;ADF=0,0;ADR=0,7;AD=0,7;\tGT:DP:ADF:ADR:AD:BSD:BSQ:ALFR\t0/1:7:0,0:0,7:0,7:0,0,1,0,0,7,0,0:0,0,37,0,0,37,0,0:0.000,1.000\n",
      "NC_047559.1\t251061\t.\tC\tT\t4\tLow\tDP=1;ADF=0,0;ADR=0,1;AD=0,1;\tGT:DP:ADF:ADR:AD:BSD:BSQ:ALFR\t1/1:1:0,0:0,1:0,1:0,0,0,0,0,1,0,0:0,0,0,0,0,37,0,0:0.000,1.000\n",
      "NC_047559.1\t252351\t.\tC\tT\t36\tPASS\tDP=13;ADF=0,0;ADR=10,3;AD=10,3;\tGT:DP:ADF:ADR:AD:BSD:BSQ:ALFR\t0/1:13:0,0:10,3:10,3:0,0,6,0,0,3,10,0:0,0,37,0,0,37,37,0:0.769,0.231\n",
      "NC_047559.1\t261933\t.\tC\tT\t1000\tPASS\tDP=8;ADF=0,0;ADR=1,7;AD=1,7;\tGT:DP:ADF:ADR:AD:BSD:BSQ:ALFR\t0/1:8:0,0:1,7:1,7:0,0,6,0,0,7,1,0:0,0,37,0,0,37,37,0:0.125,0.875\n",
      "NC_047559.1\t267998\t.\tC\tT\t4\tLow\tDP=1;ADF=0,0;ADR=0,1;AD=0,1;\tGT:DP:ADF:ADR:AD:BSD:BSQ:ALFR\t1/1:1:0,0:0,1:0,1:0,0,0,0,0,1,0,0:0,0,0,0,0,25,0,0:0.000,1.000\n",
      "NC_047559.1\t268110\t.\tC\tT\t1000\tPASS\tDP=8;ADF=0,0;ADR=0,8;AD=0,8;\tGT:DP:ADF:ADR:AD:BSD:BSQ:ALFR\t0/1:8:0,0:0,8:0,8:0,0,14,0,0,8,0,0:0,0,37,0,0,37,0,0:0.000,1.000\n",
      "NC_047559.1\t268671\t.\tC\tT\t4\tLow\tDP=1;ADF=0,0;ADR=0,1;AD=0,1;\tGT:DP:ADF:ADR:AD:BSD:BSQ:ALFR\t1/1:1:0,0:0,1:0,1:0,0,0,0,0,1,0,0:0,0,0,0,0,37,0,0:0.000,1.000\n",
      "NC_047559.1\t287651\t.\tC\tT\t24\tLow\tDP=3;ADF=0,0;ADR=0,3;AD=0,3;\tGT:DP:ADF:ADR:AD:BSD:BSQ:ALFR\t0/1:3:0,0:0,3:0,3:0,0,20,0,0,3,0,0:0,0,37,0,0,33,0,0:0.000,1.000\n",
      "   72123 zr3616_6_R1_val_1_val_1_val_1_bismark_bt2_pe.SNP-results.vcf_CT-SNPs.tab\n",
      "NC_047559.1\t22959\t.\tC\tT\t4\tLow\tDP=1;ADF=0,0;ADR=0,1;AD=0,1;\tGT:DP:ADF:ADR:AD:BSD:BSQ:ALFR\t1/1:1:0,0:0,1:0,1:0,0,0,0,0,1,0,0:0,0,0,0,0,25,0,0:0.000,1.000\n",
      "NC_047559.1\t34836\t.\tC\tT\t1000\tPASS\tDP=13;ADF=0,0;ADR=0,13;AD=0,13;\tGT:DP:ADF:ADR:AD:BSD:BSQ:ALFR\t0/1:13:0,0:0,13:0,13:0,0,10,0,0,13,0,0:0,0,37,0,0,35,0,0:0.000,1.000\n",
      "NC_047559.1\t38038\t.\tC\tT\t92\tPASS\tDP=9;ADF=0,0;ADR=5,4;AD=5,4;\tGT:DP:ADF:ADR:AD:BSD:BSQ:ALFR\t0/1:9:0,0:5,4:5,4:0,0,5,0,0,4,5,0:0,0,37,0,0,37,37,0:0.556,0.444\n",
      "NC_047559.1\t211764\t.\tC\tT\t102\tPASS\tDP=17;ADF=0,0;ADR=0,17;AD=0,17;\tGT:DP:ADF:ADR:AD:BSD:BSQ:ALFR\t0/1:17:0,0:0,17:0,17:0,0,4,0,0,17,0,0:0,0,34,0,0,36,0,0:0.000,1.000\n",
      "NC_047559.1\t224774\t.\tC\tT\t105\tPASS\tDP=6;ADF=0,0;ADR=2,4;AD=2,4;\tGT:DP:ADF:ADR:AD:BSD:BSQ:ALFR\t0/1:6:0,0:2,4:2,4:0,0,1,0,0,4,2,0:0,0,37,0,0,37,37,0:0.333,0.667\n",
      "NC_047559.1\t249908\t.\tC\tT\t1000\tPASS\tDP=8;ADF=0,0;ADR=0,8;AD=0,8;\tGT:DP:ADF:ADR:AD:BSD:BSQ:ALFR\t0/1:8:0,0:0,8:0,8:0,0,6,0,0,8,0,0:0,0,37,0,0,37,0,0:0.000,1.000\n",
      "NC_047559.1\t250602\t.\tC\tT\t4\tLow\tDP=1;ADF=0,0;ADR=0,1;AD=0,1;\tGT:DP:ADF:ADR:AD:BSD:BSQ:ALFR\t1/1:1:0,0:0,1:0,1:0,0,0,0,0,1,0,0:0,0,0,0,0,37,0,0:0.000,1.000\n",
      "NC_047559.1\t251061\t.\tC\tT\t4\tLow\tDP=1;ADF=0,0;ADR=0,1;AD=0,1;\tGT:DP:ADF:ADR:AD:BSD:BSQ:ALFR\t1/1:1:0,0:0,1:0,1:0,0,0,0,0,1,0,0:0,0,0,0,0,37,0,0:0.000,1.000\n",
      "NC_047559.1\t356833\t.\tC\tT\t141\tPASS\tDP=5;ADF=0,0;ADR=0,5;AD=0,5;\tGT:DP:ADF:ADR:AD:BSD:BSQ:ALFR\t0/1:5:0,0:0,5:0,5:0,0,4,0,0,5,0,0:0,0,37,0,0,37,0,0:0.000,1.000\n",
      "NC_047559.1\t357397\t.\tC\tT\t9\tPASS\tDP=11;ADF=0,0;ADR=0,11;AD=0,11;\tGT:DP:ADF:ADR:AD:BSD:BSQ:ALFR\t0/1:11:0,0:0,11:0,11:0,0,1,0,0,11,0,0:0,0,37,0,0,37,0,0:0.000,1.000\n",
      "   68856 zr3616_7_R1_val_1_val_1_val_1_bismark_bt2_pe.SNP-results.vcf_CT-SNPs.tab\n",
      "NC_047559.1\t36674\t.\tC\tT\t59\tLow\tDP=4;ADF=0,0;ADR=0,4;AD=0,4;\tGT:DP:ADF:ADR:AD:BSD:BSQ:ALFR\t0/1:4:0,0:0,4:0,4:0,0,21,0,0,4,0,0:0,0,37,0,0,37,0,0:0.000,1.000\n",
      "NC_047559.1\t42691\t.\tC\tT\t6\tLow\tDP=2;ADF=0,0;ADR=0,2;AD=0,2;\tGT:DP:ADF:ADR:AD:BSD:BSQ:ALFR\t1/1:2:0,0:0,2:0,2:0,0,0,0,0,2,0,0:0,0,0,0,0,37,0,0:0.000,1.000\n",
      "NC_047559.1\t44211\t.\tC\tT\t12\tLow\tDP=4;ADF=0,0;ADR=0,4;AD=0,4;\tGT:DP:ADF:ADR:AD:BSD:BSQ:ALFR\t1/1:4:0,0:0,4:0,4:0,0,0,0,0,4,0,0:0,0,0,0,0,37,0,0:0.000,1.000\n",
      "NC_047559.1\t82690\t.\tC\tT\t112\tPASS\tDP=15;ADF=0,0;ADR=0,15;AD=0,15;\tGT:DP:ADF:ADR:AD:BSD:BSQ:ALFR\t0/1:15:0,0:0,15:0,15:0,0,4,0,0,15,0,0:0,0,37,0,0,37,0,0:0.000,1.000\n",
      "NC_047559.1\t83012\t.\tC\tT\t45\tPASS\tDP=15;ADF=0,0;ADR=0,15;AD=0,15;\tGT:DP:ADF:ADR:AD:BSD:BSQ:ALFR\t1/1:15:0,0:0,15:0,15:0,0,0,0,0,15,0,0:0,0,0,0,0,37,0,0:0.000,1.000\n",
      "NC_047559.1\t87321\t.\tC\tT\t24\tPASS\tDP=8;ADF=0,0;ADR=0,8;AD=0,8;\tGT:DP:ADF:ADR:AD:BSD:BSQ:ALFR\t1/1:8:0,0:0,8:0,8:0,0,0,0,0,8,0,0:0,0,0,0,0,37,0,0:0.000,1.000\n",
      "NC_047559.1\t121206\t.\tC\tT\t18\tPASS\tDP=6;ADF=0,0;ADR=0,6;AD=0,6;\tGT:DP:ADF:ADR:AD:BSD:BSQ:ALFR\t1/1:6:0,0:0,6:0,6:0,0,0,0,0,6,0,0:0,0,0,0,0,37,0,0:0.000,1.000\n",
      "NC_047559.1\t188398\t.\tC\tT\t4\tLow\tDP=1;ADF=0,0;ADR=0,1;AD=0,1;\tGT:DP:ADF:ADR:AD:BSD:BSQ:ALFR\t1/1:1:0,0:0,1:0,1:0,0,0,0,0,1,0,0:0,0,0,0,0,37,0,0:0.000,1.000\n",
      "NC_047559.1\t224356\t.\tC\tT\t4\tLow\tDP=1;ADF=0,0;ADR=0,1;AD=0,1;\tGT:DP:ADF:ADR:AD:BSD:BSQ:ALFR\t1/1:1:0,0:0,1:0,1:0,0,0,0,0,1,0,0:0,0,0,0,0,37,0,0:0.000,1.000\n",
      "NC_047559.1\t252976\t.\tC\tT\t6\tLow\tDP=2;ADF=0,0;ADR=0,2;AD=0,2;\tGT:DP:ADF:ADR:AD:BSD:BSQ:ALFR\t1/1:2:0,0:0,2:0,2:0,0,0,0,0,2,0,0:0,0,0,0,0,37,0,0:0.000,1.000\n",
      "   69695 zr3616_8_R1_val_1_val_1_val_1_bismark_bt2_pe.SNP-results.vcf_CT-SNPs.tab\n"
     ]
    }
   ],
   "source": [
    "%%bash\n",
    "\n",
    "for f in zr3616*vcf\n",
    "do\n",
    "    /Users/Shared/bioinformatics/bedtools2/bin/intersectBed \\\n",
    "    -u \\\n",
    "    -a ${f} \\\n",
    "    -b /Users/yaamini/Documents/project-gigas-oa-meth/genome-feature-files/cgigas_uk_roslin_v1_fuzznuc_CGmotif.gff \\\n",
    "    | grep \"C\tT\" \\\n",
    "    > ${f}_CT-SNPs.tab\n",
    "    head ${f}_CT-SNPs.tab\n",
    "    wc -l ${f}_CT-SNPs.tab\n",
    "done"
   ]
  },
  {
   "cell_type": "code",
   "execution_count": 32,
   "metadata": {
    "collapsed": false,
    "scrolled": true
   },
   "outputs": [
    {
     "name": "stdout",
     "output_type": "stream",
     "text": [
      "zr3616_1_R1_val_1_val_1_val_1_bismark_bt2_pe.SNP-results.vcf_CT-SNPs.tab\r\n",
      "zr3616_2_R1_val_1_val_1_val_1_bismark_bt2_pe.SNP-results.vcf_CT-SNPs.tab\r\n",
      "zr3616_3_R1_val_1_val_1_val_1_bismark_bt2_pe.SNP-results.vcf_CT-SNPs.tab\r\n",
      "zr3616_4_R1_val_1_val_1_val_1_bismark_bt2_pe.SNP-results.vcf_CT-SNPs.tab\r\n",
      "zr3616_5_R1_val_1_val_1_val_1_bismark_bt2_pe.SNP-results.vcf_CT-SNPs.tab\r\n",
      "zr3616_6_R1_val_1_val_1_val_1_bismark_bt2_pe.SNP-results.vcf_CT-SNPs.tab\r\n",
      "zr3616_7_R1_val_1_val_1_val_1_bismark_bt2_pe.SNP-results.vcf_CT-SNPs.tab\r\n",
      "zr3616_8_R1_val_1_val_1_val_1_bismark_bt2_pe.SNP-results.vcf_CT-SNPs.tab\r\n"
     ]
    }
   ],
   "source": [
    "!find zr3616*CT-SNPs.tab"
   ]
  },
  {
   "cell_type": "markdown",
   "metadata": {},
   "source": [
    "I'll now rename the output files so they are shorter."
   ]
  },
  {
   "cell_type": "code",
   "execution_count": 33,
   "metadata": {
    "collapsed": true
   },
   "outputs": [],
   "source": [
    "%%bash\n",
    "\n",
    "for f in zr3616*CT-SNPs.tab\n",
    "do\n",
    "    [ -f ${f} ] || continue\n",
    "    mv \"${f}\" \"${f//_R1_val_1_val_1_val_1_bismark_bt2_pe.SNP-results.vcf/}\"\n",
    "\n",
    "done"
   ]
  },
  {
   "cell_type": "code",
   "execution_count": 34,
   "metadata": {
    "collapsed": false
   },
   "outputs": [
    {
     "name": "stdout",
     "output_type": "stream",
     "text": [
      "zr3616_1_CT-SNPs.tab\r\n",
      "zr3616_2_CT-SNPs.tab\r\n",
      "zr3616_3_CT-SNPs.tab\r\n",
      "zr3616_4_CT-SNPs.tab\r\n",
      "zr3616_5_CT-SNPs.tab\r\n",
      "zr3616_6_CT-SNPs.tab\r\n",
      "zr3616_7_CT-SNPs.tab\r\n",
      "zr3616_8_CT-SNPs.tab\r\n"
     ]
    }
   ],
   "source": [
    "!find zr3616*CT-SNPs.tab"
   ]
  },
  {
   "cell_type": "code",
   "execution_count": 35,
   "metadata": {
    "collapsed": false
   },
   "outputs": [
    {
     "name": "stdout",
     "output_type": "stream",
     "text": [
      "==> zr3616_1_CT-SNPs.tab <==\n",
      "NC_047559.1\t22443\t.\tC\tT\t4\tLow\tDP=1;ADF=0,0;ADR=0,1;AD=0,1;\tGT:DP:ADF:ADR:AD:BSD:BSQ:ALFR\t1/1:1:0,0:0,1:0,1:0,0,0,0,0,1,0,0:0,0,0,0,0,37,0,0:0.000,1.000\n",
      "NC_047559.1\t34836\t.\tC\tT\t142\tPASS\tDP=6;ADF=0,0;ADR=0,6;AD=0,6;\tGT:DP:ADF:ADR:AD:BSD:BSQ:ALFR\t0/1:6:0,0:0,6:0,6:0,0,17,0,0,6,0,0:0,0,36,0,0,37,0,0:0.000,1.000\n",
      "NC_047559.1\t36674\t.\tC\tT\t29\tPASS\tDP=5;ADF=0,0;ADR=0,5;AD=0,5;\tGT:DP:ADF:ADR:AD:BSD:BSQ:ALFR\t0/1:5:0,0:0,5:0,5:0,0,44,0,0,5,0,0:0,0,37,0,0,37,0,0:0.000,1.000\n",
      "NC_047559.1\t38038\t.\tC\tT\t1000\tPASS\tDP=12;ADF=0,0;ADR=5,7;AD=5,7;\tGT:DP:ADF:ADR:AD:BSD:BSQ:ALFR\t0/1:12:0,0:5,7:5,7:0,0,13,0,0,7,5,0:0,0,37,0,0,35,35,0:0.417,0.583\n",
      "NC_047559.1\t42517\t.\tC\tT\t6\tLow\tDP=2;ADF=0,0;ADR=0,2;AD=0,2;\tGT:DP:ADF:ADR:AD:BSD:BSQ:ALFR\t1/1:2:0,0:0,2:0,2:0,0,0,0,0,2,0,0:0,0,0,0,0,37,0,0:0.000,1.000\n",
      "NC_047559.1\t48352\t.\tC\tT\t72\tLow\tDP=3;ADF=0,0;ADR=0,3;AD=0,3;\tGT:DP:ADF:ADR:AD:BSD:BSQ:ALFR\t0/1:3:0,0:0,3:0,3:0,0,4,0,0,3,0,0:0,0,37,0,0,37,0,0:0.000,1.000\n",
      "NC_047559.1\t49472\t.\tC\tT\t68\tLow\tDP=4;ADF=0,0;ADR=0,4;AD=0,4;\tGT:DP:ADF:ADR:AD:BSD:BSQ:ALFR\t0/1:4:0,0:0,4:0,4:0,0,2,0,0,4,0,0:0,0,37,0,0,37,0,0:0.000,1.000\n",
      "NC_047559.1\t108375\t.\tC\tT\t4\tLow\tDP=1;ADF=0,0;ADR=0,1;AD=0,1;\tGT:DP:ADF:ADR:AD:BSD:BSQ:ALFR\t1/1:1:0,0:0,1:0,1:0,0,0,0,0,1,0,0:0,0,0,0,0,37,0,0:0.000,1.000\n",
      "NC_047559.1\t197299\t.\tC\tT\t38\tPASS\tDP=11;ADF=0,0;ADR=7,4;AD=7,4;\tGT:DP:ADF:ADR:AD:BSD:BSQ:ALFR\t0/1:11:0,0:7,4:7,4:0,0,21,0,0,4,7,0:0,0,37,0,0,37,37,0:0.636,0.364\n",
      "NC_047559.1\t205322\t.\tC\tT\t115\tPASS\tDP=28;ADF=0,0;ADR=22,6;AD=22,6;\tGT:DP:ADF:ADR:AD:BSD:BSQ:ALFR\t0/1:28:0,0:22,6:22,6:0,0,6,0,0,6,22,0:0,0,37,0,0,35,36,0:0.786,0.214\n",
      "\n",
      "==> zr3616_2_CT-SNPs.tab <==\n",
      "NC_047559.1\t82690\t.\tC\tT\t1000\tPASS\tDP=7;ADF=0,0;ADR=0,7;AD=0,7;\tGT:DP:ADF:ADR:AD:BSD:BSQ:ALFR\t0/1:7:0,0:0,7:0,7:0,0,12,0,0,7,0,0:0,0,37,0,0,35,0,0:0.000,1.000\n",
      "NC_047559.1\t83012\t.\tC\tT\t50\tPASS\tDP=10;ADF=0,0;ADR=0,10;AD=0,10;\tGT:DP:ADF:ADR:AD:BSD:BSQ:ALFR\t0/1:10:0,0:0,10:0,10:0,0,2,0,0,10,0,0:0,0,37,0,0,37,0,0:0.000,1.000\n",
      "NC_047559.1\t83513\t.\tC\tT\t9\tLow\tDP=3;ADF=0,0;ADR=0,3;AD=0,3;\tGT:DP:ADF:ADR:AD:BSD:BSQ:ALFR\t1/1:3:0,0:0,3:0,3:0,0,0,0,0,3,0,0:0,0,0,0,0,37,0,0:0.000,1.000\n",
      "NC_047559.1\t100873\t.\tC\tT\t123\tPASS\tDP=10;ADF=0,0;ADR=0,10;AD=0,10;\tGT:DP:ADF:ADR:AD:BSD:BSQ:ALFR\t0/1:10:0,0:0,10:0,10:0,0,4,0,0,10,0,0:0,0,37,0,0,36,0,0:0.000,1.000\n",
      "NC_047559.1\t125852\t.\tC\tT\t141\tPASS\tDP=24;ADF=0,0;ADR=17,7;AD=17,7;\tGT:DP:ADF:ADR:AD:BSD:BSQ:ALFR\t0/1:24:0,0:17,7:17,7:0,0,13,0,0,7,17,0:0,0,35,0,0,37,36,0:0.708,0.292\n",
      "NC_047559.1\t183845\t.\tC\tT\t1000\tPASS\tDP=7;ADF=0,0;ADR=0,7;AD=0,7;\tGT:DP:ADF:ADR:AD:BSD:BSQ:ALFR\t0/1:7:0,0:0,7:0,7:0,0,12,0,0,7,0,0:0,0,37,0,0,35,0,0:0.000,1.000\n",
      "NC_047559.1\t191463\t.\tC\tT\t107\tPASS\tDP=11;ADF=0,0;ADR=6,5;AD=6,5;\tGT:DP:ADF:ADR:AD:BSD:BSQ:ALFR\t0/1:11:0,0:6,5:6,5:0,0,12,0,0,5,6,0:0,0,37,0,0,37,37,0:0.545,0.455\n",
      "NC_047559.1\t211764\t.\tC\tT\t1000\tPASS\tDP=17;ADF=0,0;ADR=0,17;AD=0,17;\tGT:DP:ADF:ADR:AD:BSD:BSQ:ALFR\t0/1:17:0,0:0,17:0,17:0,0,8,0,0,17,0,0:0,0,37,0,0,37,0,0:0.000,1.000\n",
      "NC_047559.1\t219023\t.\tC\tT\t29\tLow\tDP=4;ADF=0,0;ADR=0,4;AD=0,4;\tGT:DP:ADF:ADR:AD:BSD:BSQ:ALFR\t0/1:4:0,0:0,4:0,4:0,0,1,0,0,4,0,0:0,0,37,0,0,37,0,0:0.000,1.000\n",
      "NC_047559.1\t219665\t.\tC\tT\t1000\tPASS\tDP=40;ADF=0,0;ADR=21,19;AD=21,19;\tGT:DP:ADF:ADR:AD:BSD:BSQ:ALFR\t0/1:40:0,0:21,19:21,19:0,0,11,0,0,19,21,0:0,0,37,0,0,36,37,0:0.525,0.475\n",
      "\n",
      "==> zr3616_3_CT-SNPs.tab <==\n",
      "NC_047559.1\t34836\t.\tC\tT\t1000\tPASS\tDP=9;ADF=0,0;ADR=0,9;AD=0,9;\tGT:DP:ADF:ADR:AD:BSD:BSQ:ALFR\t0/1:9:0,0:0,9:0,9:0,0,25,0,0,9,0,0:0,0,37,0,0,37,0,0:0.000,1.000\n",
      "NC_047559.1\t36674\t.\tC\tT\t1000\tPASS\tDP=13;ADF=0,0;ADR=0,13;AD=0,13;\tGT:DP:ADF:ADR:AD:BSD:BSQ:ALFR\t0/1:13:0,0:0,13:0,13:0,0,36,0,0,13,0,0:0,0,36,0,0,37,0,0:0.000,1.000\n",
      "NC_047559.1\t49472\t.\tC\tT\t4\tLow\tDP=1;ADF=0,0;ADR=0,1;AD=0,1;\tGT:DP:ADF:ADR:AD:BSD:BSQ:ALFR\t1/1:1:0,0:0,1:0,1:0,0,0,0,0,1,0,0:0,0,0,0,0,37,0,0:0.000,1.000\n",
      "NC_047559.1\t100045\t.\tC\tT\t105\tLow\tDP=4;ADF=0,0;ADR=0,4;AD=0,4;\tGT:DP:ADF:ADR:AD:BSD:BSQ:ALFR\t0/1:4:0,0:0,4:0,4:0,0,3,0,0,4,0,0:0,0,37,0,0,37,0,0:0.000,1.000\n",
      "NC_047559.1\t100873\t.\tC\tT\t100\tPASS\tDP=6;ADF=0,0;ADR=0,6;AD=0,6;\tGT:DP:ADF:ADR:AD:BSD:BSQ:ALFR\t0/1:6:0,0:0,6:0,6:0,0,3,0,0,6,0,0:0,0,37,0,0,37,0,0:0.000,1.000\n",
      "NC_047559.1\t125852\t.\tC\tT\t80\tPASS\tDP=16;ADF=0,0;ADR=12,4;AD=12,4;\tGT:DP:ADF:ADR:AD:BSD:BSQ:ALFR\t0/1:16:0,0:12,4:12,4:0,0,2,0,0,4,12,0:0,0,37,0,0,37,36,0:0.750,0.250\n",
      "NC_047559.1\t149250\t.\tC\tT\t4\tLow\tDP=1;ADF=0,0;ADR=0,1;AD=0,1;\tGT:DP:ADF:ADR:AD:BSD:BSQ:ALFR\t1/1:1:0,0:0,1:0,1:0,0,0,0,0,1,0,0:0,0,0,0,0,37,0,0:0.000,1.000\n",
      "NC_047559.1\t199691\t.\tC\tT\t4\tLow\tDP=1;ADF=0,0;ADR=0,1;AD=0,1;\tGT:DP:ADF:ADR:AD:BSD:BSQ:ALFR\t1/1:1:0,0:0,1:0,1:0,0,0,0,0,1,0,0:0,0,0,0,0,37,0,0:0.000,1.000\n",
      "NC_047559.1\t211764\t.\tC\tT\t1000\tPASS\tDP=21;ADF=0,0;ADR=0,21;AD=0,21;\tGT:DP:ADF:ADR:AD:BSD:BSQ:ALFR\t0/1:21:0,0:0,21:0,21:0,0,6,0,0,21,0,0:0,0,35,0,0,37,0,0:0.000,1.000\n",
      "NC_047559.1\t219244\t.\tC\tT\t26\tPASS\tDP=5;ADF=0,0;ADR=0,5;AD=0,5;\tGT:DP:ADF:ADR:AD:BSD:BSQ:ALFR\t0/1:5:0,0:0,5:0,5:0,0,1,0,0,5,0,0:0,0,37,0,0,37,0,0:0.000,1.000\n",
      "\n",
      "==> zr3616_4_CT-SNPs.tab <==\n",
      "NC_047559.1\t77086\t.\tC\tT\t4\tLow\tDP=1;ADF=0,0;ADR=0,1;AD=0,1;\tGT:DP:ADF:ADR:AD:BSD:BSQ:ALFR\t1/1:1:0,0:0,1:0,1:0,0,0,0,0,1,0,0:0,0,0,0,0,37,0,0:0.000,1.000\n",
      "NC_047559.1\t211764\t.\tC\tT\t1000\tPASS\tDP=34;ADF=0,0;ADR=0,34;AD=0,34;\tGT:DP:ADF:ADR:AD:BSD:BSQ:ALFR\t0/1:34:0,0:0,34:0,34:0,0,8,0,0,34,0,0:0,0,37,0,0,37,0,0:0.000,1.000\n",
      "NC_047559.1\t222020\t.\tC\tT\t4\tLow\tDP=1;ADF=0,0;ADR=0,1;AD=0,1;\tGT:DP:ADF:ADR:AD:BSD:BSQ:ALFR\t1/1:1:0,0:0,1:0,1:0,0,0,0,0,1,0,0:0,0,0,0,0,37,0,0:0.000,1.000\n",
      "NC_047559.1\t353501\t.\tC\tT\t6\tLow\tDP=2;ADF=0,0;ADR=0,2;AD=0,2;\tGT:DP:ADF:ADR:AD:BSD:BSQ:ALFR\t1/1:2:0,0:0,2:0,2:0,0,0,0,0,2,0,0:0,0,0,0,0,31,0,0:0.000,1.000\n",
      "NC_047559.1\t357397\t.\tC\tT\t53\tPASS\tDP=9;ADF=0,0;ADR=0,9;AD=0,9;\tGT:DP:ADF:ADR:AD:BSD:BSQ:ALFR\t0/1:9:0,0:0,9:0,9:0,0,2,0,0,9,0,0:0,0,37,0,0,37,0,0:0.000,1.000\n",
      "NC_047559.1\t357948\t.\tC\tT\t1000\tPASS\tDP=13;ADF=0,0;ADR=0,13;AD=0,13;\tGT:DP:ADF:ADR:AD:BSD:BSQ:ALFR\t0/1:13:0,0:0,13:0,13:0,0,6,0,0,13,0,0:0,0,37,0,0,37,0,0:0.000,1.000\n",
      "NC_047559.1\t378466\t.\tC\tT\t1000\tPASS\tDP=36;ADF=0,0;ADR=0,36;AD=0,36;\tGT:DP:ADF:ADR:AD:BSD:BSQ:ALFR\t0/1:36:0,0:0,36:0,36:0,0,14,0,0,36,0,0:0,0,37,0,0,37,0,0:0.000,1.000\n",
      "NC_047559.1\t428033\t.\tC\tT\t68\tLow\tDP=4;ADF=0,0;ADR=0,4;AD=0,4;\tGT:DP:ADF:ADR:AD:BSD:BSQ:ALFR\t0/1:4:0,0:0,4:0,4:0,0,2,0,0,4,0,0:0,0,37,0,0,37,0,0:0.000,1.000\n",
      "NC_047559.1\t433155\t.\tC\tT\t77\tPASS\tDP=9;ADF=0,0;ADR=5,4;AD=5,4;\tGT:DP:ADF:ADR:AD:BSD:BSQ:ALFR\t0/1:9:0,0:5,4:5,4:0,0,10,0,0,4,5,0:0,0,37,0,0,37,37,0:0.556,0.444\n",
      "NC_047559.1\t469275\t.\tC\tT\t4\tLow\tDP=1;ADF=0,0;ADR=0,1;AD=0,1;\tGT:DP:ADF:ADR:AD:BSD:BSQ:ALFR\t1/1:1:0,0:0,1:0,1:0,0,0,0,0,1,0,0:0,0,0,0,0,37,0,0:0.000,1.000\n",
      "\n",
      "==> zr3616_5_CT-SNPs.tab <==\n",
      "NC_047559.1\t34836\t.\tC\tT\t1000\tPASS\tDP=9;ADF=0,0;ADR=0,9;AD=0,9;\tGT:DP:ADF:ADR:AD:BSD:BSQ:ALFR\t0/1:9:0,0:0,9:0,9:0,0,16,0,0,9,0,0:0,0,37,0,0,36,0,0:0.000,1.000\n",
      "NC_047559.1\t49333\t.\tC\tT\t6\tLow\tDP=2;ADF=0,0;ADR=0,2;AD=0,2;\tGT:DP:ADF:ADR:AD:BSD:BSQ:ALFR\t1/1:2:0,0:0,2:0,2:0,0,0,0,0,2,0,0:0,0,0,0,0,37,0,0:0.000,1.000\n",
      "NC_047559.1\t82690\t.\tC\tT\t1000\tPASS\tDP=31;ADF=0,0;ADR=2,29;AD=2,29;\tGT:DP:ADF:ADR:AD:BSD:BSQ:ALFR\t0/1:31:0,0:2,29:2,29:0,0,15,0,0,29,2,0:0,0,37,0,0,37,37,0:0.065,0.935\n",
      "NC_047559.1\t83012\t.\tC\tT\t130\tPASS\tDP=9;ADF=0,0;ADR=0,9;AD=0,9;\tGT:DP:ADF:ADR:AD:BSD:BSQ:ALFR\t0/1:9:0,0:0,9:0,9:0,0,4,0,0,9,0,0:0,0,34,0,0,37,0,0:0.000,1.000\n",
      "NC_047559.1\t87321\t.\tC\tT\t70\tLow\tDP=3;ADF=0,0;ADR=0,3;AD=0,3;\tGT:DP:ADF:ADR:AD:BSD:BSQ:ALFR\t0/1:3:0,0:0,3:0,3:0,0,2,0,0,3,0,0:0,0,37,0,0,37,0,0:0.000,1.000\n",
      "NC_047559.1\t210243\t.\tC\tT\t4\tLow\tDP=1;ADF=0,0;ADR=0,1;AD=0,1;\tGT:DP:ADF:ADR:AD:BSD:BSQ:ALFR\t1/1:1:0,0:0,1:0,1:0,0,0,0,0,1,0,0:0,0,0,0,0,37,0,0:0.000,1.000\n",
      "NC_047559.1\t211764\t.\tC\tT\t1000\tPASS\tDP=22;ADF=0,0;ADR=2,20;AD=2,20;\tGT:DP:ADF:ADR:AD:BSD:BSQ:ALFR\t0/1:22:0,0:2,20:2,20:0,0,15,0,0,20,2,0:0,0,37,0,0,36,37,0:0.091,0.909\n",
      "NC_047559.1\t223627\t.\tC\tT\t95\tPASS\tDP=10;ADF=0,0;ADR=6,4;AD=6,4;\tGT:DP:ADF:ADR:AD:BSD:BSQ:ALFR\t0/1:10:0,0:6,4:6,4:0,0,3,0,0,4,6,0:0,0,33,0,0,37,37,0:0.600,0.400\n",
      "NC_047559.1\t224536\t.\tC\tT\t4\tLow\tDP=1;ADF=0,0;ADR=0,1;AD=0,1;\tGT:DP:ADF:ADR:AD:BSD:BSQ:ALFR\t1/1:1:0,0:0,1:0,1:0,0,0,0,0,1,0,0:0,0,0,0,0,25,0,0:0.000,1.000\n",
      "NC_047559.1\t236983\t.\tC\tT\t6\tLow\tDP=2;ADF=0,0;ADR=0,2;AD=0,2;\tGT:DP:ADF:ADR:AD:BSD:BSQ:ALFR\t1/1:2:0,0:0,2:0,2:0,0,0,0,0,2,0,0:0,0,0,0,0,37,0,0:0.000,1.000\n",
      "\n",
      "==> zr3616_6_CT-SNPs.tab <==\n",
      "NC_047559.1\t211764\t.\tC\tT\t1000\tPASS\tDP=17;ADF=0,0;ADR=0,17;AD=0,17;\tGT:DP:ADF:ADR:AD:BSD:BSQ:ALFR\t0/1:17:0,0:0,17:0,17:0,0,13,0,0,17,0,0:0,0,37,0,0,37,0,0:0.000,1.000\n",
      "NC_047559.1\t222409\t.\tC\tT\t12\tLow\tDP=4;ADF=0,0;ADR=0,4;AD=0,4;\tGT:DP:ADF:ADR:AD:BSD:BSQ:ALFR\t1/1:4:0,0:0,4:0,4:0,0,0,0,0,4,0,0:0,0,0,0,0,37,0,0:0.000,1.000\n",
      "NC_047559.1\t245710\t.\tC\tT\t20\tPASS\tDP=7;ADF=0,0;ADR=0,7;AD=0,7;\tGT:DP:ADF:ADR:AD:BSD:BSQ:ALFR\t0/1:7:0,0:0,7:0,7:0,0,1,0,0,7,0,0:0,0,37,0,0,37,0,0:0.000,1.000\n",
      "NC_047559.1\t251061\t.\tC\tT\t4\tLow\tDP=1;ADF=0,0;ADR=0,1;AD=0,1;\tGT:DP:ADF:ADR:AD:BSD:BSQ:ALFR\t1/1:1:0,0:0,1:0,1:0,0,0,0,0,1,0,0:0,0,0,0,0,37,0,0:0.000,1.000\n",
      "NC_047559.1\t252351\t.\tC\tT\t36\tPASS\tDP=13;ADF=0,0;ADR=10,3;AD=10,3;\tGT:DP:ADF:ADR:AD:BSD:BSQ:ALFR\t0/1:13:0,0:10,3:10,3:0,0,6,0,0,3,10,0:0,0,37,0,0,37,37,0:0.769,0.231\n",
      "NC_047559.1\t261933\t.\tC\tT\t1000\tPASS\tDP=8;ADF=0,0;ADR=1,7;AD=1,7;\tGT:DP:ADF:ADR:AD:BSD:BSQ:ALFR\t0/1:8:0,0:1,7:1,7:0,0,6,0,0,7,1,0:0,0,37,0,0,37,37,0:0.125,0.875\n",
      "NC_047559.1\t267998\t.\tC\tT\t4\tLow\tDP=1;ADF=0,0;ADR=0,1;AD=0,1;\tGT:DP:ADF:ADR:AD:BSD:BSQ:ALFR\t1/1:1:0,0:0,1:0,1:0,0,0,0,0,1,0,0:0,0,0,0,0,25,0,0:0.000,1.000\n",
      "NC_047559.1\t268110\t.\tC\tT\t1000\tPASS\tDP=8;ADF=0,0;ADR=0,8;AD=0,8;\tGT:DP:ADF:ADR:AD:BSD:BSQ:ALFR\t0/1:8:0,0:0,8:0,8:0,0,14,0,0,8,0,0:0,0,37,0,0,37,0,0:0.000,1.000\n",
      "NC_047559.1\t268671\t.\tC\tT\t4\tLow\tDP=1;ADF=0,0;ADR=0,1;AD=0,1;\tGT:DP:ADF:ADR:AD:BSD:BSQ:ALFR\t1/1:1:0,0:0,1:0,1:0,0,0,0,0,1,0,0:0,0,0,0,0,37,0,0:0.000,1.000\n",
      "NC_047559.1\t287651\t.\tC\tT\t24\tLow\tDP=3;ADF=0,0;ADR=0,3;AD=0,3;\tGT:DP:ADF:ADR:AD:BSD:BSQ:ALFR\t0/1:3:0,0:0,3:0,3:0,0,20,0,0,3,0,0:0,0,37,0,0,33,0,0:0.000,1.000\n",
      "\n",
      "==> zr3616_7_CT-SNPs.tab <==\n",
      "NC_047559.1\t22959\t.\tC\tT\t4\tLow\tDP=1;ADF=0,0;ADR=0,1;AD=0,1;\tGT:DP:ADF:ADR:AD:BSD:BSQ:ALFR\t1/1:1:0,0:0,1:0,1:0,0,0,0,0,1,0,0:0,0,0,0,0,25,0,0:0.000,1.000\n",
      "NC_047559.1\t34836\t.\tC\tT\t1000\tPASS\tDP=13;ADF=0,0;ADR=0,13;AD=0,13;\tGT:DP:ADF:ADR:AD:BSD:BSQ:ALFR\t0/1:13:0,0:0,13:0,13:0,0,10,0,0,13,0,0:0,0,37,0,0,35,0,0:0.000,1.000\n",
      "NC_047559.1\t38038\t.\tC\tT\t92\tPASS\tDP=9;ADF=0,0;ADR=5,4;AD=5,4;\tGT:DP:ADF:ADR:AD:BSD:BSQ:ALFR\t0/1:9:0,0:5,4:5,4:0,0,5,0,0,4,5,0:0,0,37,0,0,37,37,0:0.556,0.444\n",
      "NC_047559.1\t211764\t.\tC\tT\t102\tPASS\tDP=17;ADF=0,0;ADR=0,17;AD=0,17;\tGT:DP:ADF:ADR:AD:BSD:BSQ:ALFR\t0/1:17:0,0:0,17:0,17:0,0,4,0,0,17,0,0:0,0,34,0,0,36,0,0:0.000,1.000\n",
      "NC_047559.1\t224774\t.\tC\tT\t105\tPASS\tDP=6;ADF=0,0;ADR=2,4;AD=2,4;\tGT:DP:ADF:ADR:AD:BSD:BSQ:ALFR\t0/1:6:0,0:2,4:2,4:0,0,1,0,0,4,2,0:0,0,37,0,0,37,37,0:0.333,0.667\n",
      "NC_047559.1\t249908\t.\tC\tT\t1000\tPASS\tDP=8;ADF=0,0;ADR=0,8;AD=0,8;\tGT:DP:ADF:ADR:AD:BSD:BSQ:ALFR\t0/1:8:0,0:0,8:0,8:0,0,6,0,0,8,0,0:0,0,37,0,0,37,0,0:0.000,1.000\n",
      "NC_047559.1\t250602\t.\tC\tT\t4\tLow\tDP=1;ADF=0,0;ADR=0,1;AD=0,1;\tGT:DP:ADF:ADR:AD:BSD:BSQ:ALFR\t1/1:1:0,0:0,1:0,1:0,0,0,0,0,1,0,0:0,0,0,0,0,37,0,0:0.000,1.000\n",
      "NC_047559.1\t251061\t.\tC\tT\t4\tLow\tDP=1;ADF=0,0;ADR=0,1;AD=0,1;\tGT:DP:ADF:ADR:AD:BSD:BSQ:ALFR\t1/1:1:0,0:0,1:0,1:0,0,0,0,0,1,0,0:0,0,0,0,0,37,0,0:0.000,1.000\n",
      "NC_047559.1\t356833\t.\tC\tT\t141\tPASS\tDP=5;ADF=0,0;ADR=0,5;AD=0,5;\tGT:DP:ADF:ADR:AD:BSD:BSQ:ALFR\t0/1:5:0,0:0,5:0,5:0,0,4,0,0,5,0,0:0,0,37,0,0,37,0,0:0.000,1.000\n",
      "NC_047559.1\t357397\t.\tC\tT\t9\tPASS\tDP=11;ADF=0,0;ADR=0,11;AD=0,11;\tGT:DP:ADF:ADR:AD:BSD:BSQ:ALFR\t0/1:11:0,0:0,11:0,11:0,0,1,0,0,11,0,0:0,0,37,0,0,37,0,0:0.000,1.000\n",
      "\n",
      "==> zr3616_8_CT-SNPs.tab <==\n",
      "NC_047559.1\t36674\t.\tC\tT\t59\tLow\tDP=4;ADF=0,0;ADR=0,4;AD=0,4;\tGT:DP:ADF:ADR:AD:BSD:BSQ:ALFR\t0/1:4:0,0:0,4:0,4:0,0,21,0,0,4,0,0:0,0,37,0,0,37,0,0:0.000,1.000\n",
      "NC_047559.1\t42691\t.\tC\tT\t6\tLow\tDP=2;ADF=0,0;ADR=0,2;AD=0,2;\tGT:DP:ADF:ADR:AD:BSD:BSQ:ALFR\t1/1:2:0,0:0,2:0,2:0,0,0,0,0,2,0,0:0,0,0,0,0,37,0,0:0.000,1.000\n",
      "NC_047559.1\t44211\t.\tC\tT\t12\tLow\tDP=4;ADF=0,0;ADR=0,4;AD=0,4;\tGT:DP:ADF:ADR:AD:BSD:BSQ:ALFR\t1/1:4:0,0:0,4:0,4:0,0,0,0,0,4,0,0:0,0,0,0,0,37,0,0:0.000,1.000\n",
      "NC_047559.1\t82690\t.\tC\tT\t112\tPASS\tDP=15;ADF=0,0;ADR=0,15;AD=0,15;\tGT:DP:ADF:ADR:AD:BSD:BSQ:ALFR\t0/1:15:0,0:0,15:0,15:0,0,4,0,0,15,0,0:0,0,37,0,0,37,0,0:0.000,1.000\n",
      "NC_047559.1\t83012\t.\tC\tT\t45\tPASS\tDP=15;ADF=0,0;ADR=0,15;AD=0,15;\tGT:DP:ADF:ADR:AD:BSD:BSQ:ALFR\t1/1:15:0,0:0,15:0,15:0,0,0,0,0,15,0,0:0,0,0,0,0,37,0,0:0.000,1.000\n",
      "NC_047559.1\t87321\t.\tC\tT\t24\tPASS\tDP=8;ADF=0,0;ADR=0,8;AD=0,8;\tGT:DP:ADF:ADR:AD:BSD:BSQ:ALFR\t1/1:8:0,0:0,8:0,8:0,0,0,0,0,8,0,0:0,0,0,0,0,37,0,0:0.000,1.000\n",
      "NC_047559.1\t121206\t.\tC\tT\t18\tPASS\tDP=6;ADF=0,0;ADR=0,6;AD=0,6;\tGT:DP:ADF:ADR:AD:BSD:BSQ:ALFR\t1/1:6:0,0:0,6:0,6:0,0,0,0,0,6,0,0:0,0,0,0,0,37,0,0:0.000,1.000\n",
      "NC_047559.1\t188398\t.\tC\tT\t4\tLow\tDP=1;ADF=0,0;ADR=0,1;AD=0,1;\tGT:DP:ADF:ADR:AD:BSD:BSQ:ALFR\t1/1:1:0,0:0,1:0,1:0,0,0,0,0,1,0,0:0,0,0,0,0,37,0,0:0.000,1.000\n",
      "NC_047559.1\t224356\t.\tC\tT\t4\tLow\tDP=1;ADF=0,0;ADR=0,1;AD=0,1;\tGT:DP:ADF:ADR:AD:BSD:BSQ:ALFR\t1/1:1:0,0:0,1:0,1:0,0,0,0,0,1,0,0:0,0,0,0,0,37,0,0:0.000,1.000\n",
      "NC_047559.1\t252976\t.\tC\tT\t6\tLow\tDP=2;ADF=0,0;ADR=0,2;AD=0,2;\tGT:DP:ADF:ADR:AD:BSD:BSQ:ALFR\t1/1:2:0,0:0,2:0,2:0,0,0,0,0,2,0,0:0,0,0,0,0,37,0,0:0.000,1.000\n",
      "   69845 zr3616_1_CT-SNPs.tab\n",
      "   70244 zr3616_2_CT-SNPs.tab\n",
      "   72064 zr3616_3_CT-SNPs.tab\n",
      "   73664 zr3616_4_CT-SNPs.tab\n",
      "   66965 zr3616_5_CT-SNPs.tab\n",
      "   72123 zr3616_6_CT-SNPs.tab\n",
      "   68856 zr3616_7_CT-SNPs.tab\n",
      "   69695 zr3616_8_CT-SNPs.tab\n",
      "  563456 total\n"
     ]
    }
   ],
   "source": [
    "!head zr3616*CT-SNPs.tab\n",
    "!wc -l zr3616*CT-SNPs.tab"
   ]
  },
  {
   "cell_type": "code",
   "execution_count": null,
   "metadata": {
    "collapsed": true
   },
   "outputs": [],
   "source": []
  }
 ],
 "metadata": {
  "anaconda-cloud": {},
  "kernelspec": {
   "display_name": "Python [conda root]",
   "language": "python",
   "name": "conda-root-py"
  },
  "language_info": {
   "codemirror_mode": {
    "name": "ipython",
    "version": 3
   },
   "file_extension": ".py",
   "mimetype": "text/x-python",
   "name": "python",
   "nbconvert_exporter": "python",
   "pygments_lexer": "ipython3",
   "version": "3.5.2"
  }
 },
 "nbformat": 4,
 "nbformat_minor": 1
}
