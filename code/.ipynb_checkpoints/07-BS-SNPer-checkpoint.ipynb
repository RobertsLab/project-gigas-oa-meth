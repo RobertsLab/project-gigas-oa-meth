{
 "cells": [
  {
   "cell_type": "markdown",
   "metadata": {},
   "source": [
    "# BS-Snper"
   ]
  },
  {
   "cell_type": "markdown",
   "metadata": {},
   "source": [
    "In this Jupyter notebook, I'll use [BS-Snper](https://github.com/hellbelly/BS-Snper) to call SNP variants from Pacific oyster (*Crassostrea gigas*) WGBS data. Adult oysters were exposed to either low or ambient pH conditions, then DNA was extracted from gonad tissue for WGBS. Reads were aligned to the Roslin *C. gigas* genome."
   ]
  },
  {
   "cell_type": "markdown",
   "metadata": {},
   "source": [
    "## 0. Install BS-SNPer"
   ]
  },
  {
   "cell_type": "markdown",
   "metadata": {},
   "source": [
    "I downloaded the ZIP file from https://github.com/hellbelly/BS-Snper, which automatically unzipped."
   ]
  },
  {
   "cell_type": "code",
   "execution_count": 7,
   "metadata": {
    "collapsed": false
   },
   "outputs": [
    {
     "name": "stdout",
     "output_type": "stream",
     "text": [
      "/Users/Shared/Apps/BS-Snper-master\n"
     ]
    }
   ],
   "source": [
    "#cd /Users/Shared/Apps/BS-Snper-master/"
   ]
  },
  {
   "cell_type": "code",
   "execution_count": 10,
   "metadata": {
    "collapsed": false
   },
   "outputs": [
    {
     "name": "stdout",
     "output_type": "stream",
     "text": [
      "x samtools-0.1.19/\n",
      "x samtools-0.1.19/.gitignore\n",
      "x samtools-0.1.19/AUTHORS\n",
      "x samtools-0.1.19/COPYING\n",
      "x samtools-0.1.19/ChangeLog.old\n",
      "x samtools-0.1.19/INSTALL\n",
      "x samtools-0.1.19/Makefile\n",
      "x samtools-0.1.19/Makefile.mingw\n",
      "x samtools-0.1.19/NEWS\n",
      "x samtools-0.1.19/bam.c\n",
      "x samtools-0.1.19/bam.h\n",
      "x samtools-0.1.19/bam2bcf.c\n",
      "x samtools-0.1.19/bam2bcf.h\n",
      "x samtools-0.1.19/bam2bcf_indel.c\n",
      "x samtools-0.1.19/bam2depth.c\n",
      "x samtools-0.1.19/bam_aux.c\n",
      "x samtools-0.1.19/bam_cat.c\n",
      "x samtools-0.1.19/bam_color.c\n",
      "x samtools-0.1.19/bam_endian.h\n",
      "x samtools-0.1.19/bam_import.c\n",
      "x samtools-0.1.19/bam_index.c\n",
      "x samtools-0.1.19/bam_lpileup.c\n",
      "x samtools-0.1.19/bam_mate.c\n",
      "x samtools-0.1.19/bam_md.c\n",
      "x samtools-0.1.19/bam_pileup.c\n",
      "x samtools-0.1.19/bam_plcmd.c\n",
      "x samtools-0.1.19/bam_reheader.c\n",
      "x samtools-0.1.19/bam_rmdup.c\n",
      "x samtools-0.1.19/bam_rmdupse.c\n",
      "x samtools-0.1.19/bam_sort.c\n",
      "x samtools-0.1.19/bam_stat.c\n",
      "x samtools-0.1.19/bam_tview.c\n",
      "x samtools-0.1.19/bam_tview.h\n",
      "x samtools-0.1.19/bam_tview_curses.c\n",
      "x samtools-0.1.19/bam_tview_html.c\n",
      "x samtools-0.1.19/bamshuf.c\n",
      "x samtools-0.1.19/bamtk.c\n",
      "x samtools-0.1.19/bcftools/\n",
      "x samtools-0.1.19/bcftools/Makefile\n",
      "x samtools-0.1.19/bcftools/README\n",
      "x samtools-0.1.19/bcftools/bcf.c\n",
      "x samtools-0.1.19/bcftools/bcf.h\n",
      "x samtools-0.1.19/bcftools/bcf.tex\n",
      "x samtools-0.1.19/bcftools/bcf2qcall.c\n",
      "x samtools-0.1.19/bcftools/bcfutils.c\n",
      "x samtools-0.1.19/bcftools/call1.c\n",
      "x samtools-0.1.19/bcftools/em.c\n",
      "x samtools-0.1.19/bcftools/fet.c\n",
      "x samtools-0.1.19/bcftools/index.c\n",
      "x samtools-0.1.19/bcftools/kfunc.c\n",
      "x samtools-0.1.19/bcftools/kmin.c\n",
      "x samtools-0.1.19/bcftools/kmin.h\n",
      "x samtools-0.1.19/bcftools/main.c\n",
      "x samtools-0.1.19/bcftools/mut.c\n",
      "x samtools-0.1.19/bcftools/prob1.c\n",
      "x samtools-0.1.19/bcftools/prob1.h\n",
      "x samtools-0.1.19/bcftools/vcf.c\n",
      "x samtools-0.1.19/bcftools/vcfutils.pl\n",
      "x samtools-0.1.19/bcftools/bcf.h~\n",
      "x samtools-0.1.19/bedcov.c\n",
      "x samtools-0.1.19/bedidx.c\n",
      "x samtools-0.1.19/bgzf.c\n",
      "x samtools-0.1.19/bgzf.h\n",
      "x samtools-0.1.19/bgzip.c\n",
      "x samtools-0.1.19/cut_target.c\n",
      "x samtools-0.1.19/errmod.c\n",
      "x samtools-0.1.19/errmod.h\n",
      "x samtools-0.1.19/examples/\n",
      "x samtools-0.1.19/examples/00README.txt\n",
      "x samtools-0.1.19/examples/Makefile\n",
      "x samtools-0.1.19/examples/bam2bed.c\n",
      "x samtools-0.1.19/examples/calDepth.c\n",
      "x samtools-0.1.19/examples/chk_indel.c\n",
      "x samtools-0.1.19/examples/ex1.fa\n",
      "x samtools-0.1.19/examples/ex1.sam.gz\n",
      "x samtools-0.1.19/examples/toy.fa\n",
      "x samtools-0.1.19/examples/toy.sam\n",
      "x samtools-0.1.19/faidx.c\n",
      "x samtools-0.1.19/faidx.h\n",
      "x samtools-0.1.19/kaln.c\n",
      "x samtools-0.1.19/kaln.h\n",
      "x samtools-0.1.19/khash.h\n",
      "x samtools-0.1.19/klist.h\n",
      "x samtools-0.1.19/knetfile.c\n",
      "x samtools-0.1.19/knetfile.h\n",
      "x samtools-0.1.19/kprobaln.c\n",
      "x samtools-0.1.19/kprobaln.h\n",
      "x samtools-0.1.19/kseq.h\n",
      "x samtools-0.1.19/ksort.h\n",
      "x samtools-0.1.19/kstring.c\n",
      "x samtools-0.1.19/kstring.h\n",
      "x samtools-0.1.19/misc/\n",
      "x samtools-0.1.19/misc/HmmGlocal.java\n",
      "x samtools-0.1.19/misc/Makefile\n",
      "x samtools-0.1.19/misc/ace2sam.c\n",
      "x samtools-0.1.19/misc/bamcheck.c\n",
      "x samtools-0.1.19/misc/blast2sam.pl\n",
      "x samtools-0.1.19/misc/bowtie2sam.pl\n",
      "x samtools-0.1.19/misc/export2sam.pl\n",
      "x samtools-0.1.19/misc/interpolate_sam.pl\n",
      "x samtools-0.1.19/misc/maq2sam.c\n",
      "x samtools-0.1.19/misc/md5.c\n",
      "x samtools-0.1.19/misc/md5.h\n",
      "x samtools-0.1.19/misc/md5fa.c\n",
      "x samtools-0.1.19/misc/novo2sam.pl\n",
      "x samtools-0.1.19/misc/plot-bamcheck\n",
      "x samtools-0.1.19/misc/psl2sam.pl\n",
      "x samtools-0.1.19/misc/r2plot.lua\n",
      "x samtools-0.1.19/misc/sam2vcf.pl\n",
      "x samtools-0.1.19/misc/samtools.pl\n",
      "x samtools-0.1.19/misc/soap2sam.pl\n",
      "x samtools-0.1.19/misc/varfilter.py\n",
      "x samtools-0.1.19/misc/vcfutils.lua\n",
      "x samtools-0.1.19/misc/wgsim.c\n",
      "x samtools-0.1.19/misc/wgsim_eval.pl\n",
      "x samtools-0.1.19/misc/zoom2sam.pl\n",
      "x samtools-0.1.19/padding.c\n",
      "x samtools-0.1.19/phase.c\n",
      "x samtools-0.1.19/razf.c\n",
      "x samtools-0.1.19/razf.h\n",
      "x samtools-0.1.19/razip.c\n",
      "x samtools-0.1.19/sam.c\n",
      "x samtools-0.1.19/sam.h\n",
      "x samtools-0.1.19/sam_header.c\n",
      "x samtools-0.1.19/sam_header.h\n",
      "x samtools-0.1.19/sam_view.c\n",
      "x samtools-0.1.19/sample.c\n",
      "x samtools-0.1.19/sample.h\n",
      "x samtools-0.1.19/samtools.1\n",
      "x samtools-0.1.19/win32/\n",
      "x samtools-0.1.19/win32/libcurses.a\n",
      "x samtools-0.1.19/win32/libz.a\n",
      "x samtools-0.1.19/win32/xcurses.h\n",
      "x samtools-0.1.19/win32/zconf.h\n",
      "x samtools-0.1.19/win32/zlib.h\n",
      "x samtools-0.1.19/bam.h~\n",
      "make[2]: Nothing to be done for `lib'.\n",
      "make[2]: Nothing to be done for `lib'.\n",
      "make[2]: Nothing to be done for `lib'.\n",
      "gcc -g -Wall -O2 -o samtools bam_tview.o bam_plcmd.o sam_view.o bam_rmdup.o bam_rmdupse.o bam_mate.o bam_stat.o bam_color.o bamtk.o kaln.o bam2bcf.o bam2bcf_indel.o errmod.o sample.o cut_target.o phase.o bam2depth.o padding.o bedcov.o bamshuf.o bam_tview_curses.o bam_tview_html.o  libbam.a -Lbcftools -lbcf  -lcurses  -lm -lz -lpthread\n",
      "gcc -g -Wall -O2 -o bcftools call1.o main.o ../kstring.o ../bgzf.o ../knetfile.o ../bedidx.o -L.  -lbcf -lm -lz -lpthread\n",
      "make[1]: Nothing to be done for `all'.\n",
      "g++ -O2 -o rrbsSnp main.o sam_funcs.o hash_funcs.o chrome_funcs.o  -m64 -I./samtools-0.1.19/ -L./samtools-0.1.19/ -lbam -lz -lpthread\n"
     ]
    }
   ],
   "source": [
    "#Install BS-SNPer\n",
    "#!sh BS-Snper.sh"
   ]
  },
  {
   "cell_type": "code",
   "execution_count": 13,
   "metadata": {
    "collapsed": false,
    "scrolled": false
   },
   "outputs": [
    {
     "name": "stdout",
     "output_type": "stream",
     "text": [
      "\u001b[31mBS-Snper.pl\u001b[m\u001b[m             chrome_funcs.o          \u001b[31mrrbsSnp\u001b[m\u001b[m\r\n",
      "\u001b[31mBS-Snper.sh\u001b[m\u001b[m             \u001b[31mhash_funcs.c\u001b[m\u001b[m            \u001b[31msam_funcs.c\u001b[m\u001b[m\r\n",
      "\u001b[31mMakefile\u001b[m\u001b[m                \u001b[31mhash_funcs.h\u001b[m\u001b[m            \u001b[31msam_funcs.h\u001b[m\u001b[m\r\n",
      "\u001b[31mREADME.txt\u001b[m\u001b[m              hash_funcs.o            sam_funcs.o\r\n",
      "\u001b[31mchrome_funcs.c\u001b[m\u001b[m          \u001b[31mmain.c\u001b[m\u001b[m                  \u001b[34msamtools-0.1.19\u001b[m\u001b[m\r\n",
      "\u001b[31mchrome_funcs.h\u001b[m\u001b[m          main.o                  \u001b[31msamtools-0.1.19.tar.bz2\u001b[m\u001b[m\r\n"
     ]
    }
   ],
   "source": [
    "#Check that rrbsSnp was generated and look at other output\n",
    "#!ls"
   ]
  },
  {
   "cell_type": "markdown",
   "metadata": {},
   "source": [
    "## 1. Set working directory"
   ]
  },
  {
   "cell_type": "code",
   "execution_count": 1,
   "metadata": {
    "collapsed": false
   },
   "outputs": [
    {
     "name": "stdout",
     "output_type": "stream",
     "text": [
      "/Users/yaamini/Documents/project-gigas-oa-meth/output\n"
     ]
    }
   ],
   "source": [
    "cd /Users/yaamini/Documents/project-gigas-oa-meth/output/"
   ]
  },
  {
   "cell_type": "code",
   "execution_count": 6,
   "metadata": {
    "collapsed": false
   },
   "outputs": [
    {
     "name": "stdout",
     "output_type": "stream",
     "text": [
      "mkdir: 07_BS-SNPer: File exists\r\n"
     ]
    }
   ],
   "source": [
    "!mkdir 07_BS-SNPer"
   ]
  },
  {
   "cell_type": "code",
   "execution_count": 2,
   "metadata": {
    "collapsed": false
   },
   "outputs": [
    {
     "name": "stdout",
     "output_type": "stream",
     "text": [
      "/Users/yaamini/Documents/project-gigas-oa-meth/output/07_BS-SNPer\n"
     ]
    }
   ],
   "source": [
    "cd 07_BS-SNPer/"
   ]
  },
  {
   "cell_type": "code",
   "execution_count": 3,
   "metadata": {
    "collapsed": true
   },
   "outputs": [],
   "source": [
    "bedtoolsDirectory = \"/Users/Shared/bioinformatics/bedtools2/bin/\""
   ]
  },
  {
   "cell_type": "markdown",
   "metadata": {},
   "source": [
    "## 2. Identify SNP variants"
   ]
  },
  {
   "cell_type": "markdown",
   "metadata": {},
   "source": [
    "I will identify variants in individual files, as well as SNPs across all samples."
   ]
  },
  {
   "cell_type": "markdown",
   "metadata": {},
   "source": [
    "### 2a. Merged SNP variants"
   ]
  },
  {
   "cell_type": "markdown",
   "metadata": {},
   "source": [
    "To identify SNPs across all samples, I need to merge my samples, then use that as the input file for `BS-Snper`."
   ]
  },
  {
   "cell_type": "markdown",
   "metadata": {},
   "source": [
    "#### Merge samples"
   ]
  },
  {
   "cell_type": "code",
   "execution_count": 4,
   "metadata": {
    "collapsed": false,
    "scrolled": true
   },
   "outputs": [
    {
     "name": "stdout",
     "output_type": "stream",
     "text": [
      "samtools: option requires an argument -- h\r\n",
      "Usage: samtools merge [-nurlf] [-h inh.sam] [-b <bamlist.fofn>] <out.bam> <in1.bam> [<in2.bam> ... <inN.bam>]\r\n",
      "\r\n",
      "Options:\r\n",
      "  -n         Input files are sorted by read name\r\n",
      "  -t TAG     Input files are sorted by TAG value\r\n",
      "  -r         Attach RG tag (inferred from file names)\r\n",
      "  -u         Uncompressed BAM output\r\n",
      "  -f         Overwrite the output BAM if exist\r\n",
      "  -1         Compress level 1\r\n",
      "  -l INT     Compression level, from 0 to 9 [-1]\r\n",
      "  -R STR     Merge file in the specified region STR [all]\r\n",
      "  -h FILE    Copy the header in FILE to <out.bam> [in1.bam]\r\n",
      "  -c         Combine @RG headers with colliding IDs [alter IDs to be distinct]\r\n",
      "  -p         Combine @PG headers with colliding IDs [alter IDs to be distinct]\r\n",
      "  -s VALUE   Override random seed\r\n",
      "  -b FILE    List of input BAM filenames, one per line [null]\r\n",
      "  -X         Use customized index files\r\n",
      "  -L FILE    Specify a BED file for multiple region filtering [null]\r\n",
      "  --no-PG    do not add a PG line\r\n",
      "      --input-fmt-option OPT[=VAL]\r\n",
      "               Specify a single input file format option in the form\r\n",
      "               of OPTION or OPTION=VALUE\r\n",
      "  -O, --output-fmt FORMAT[,OPT[=VAL]]...\r\n",
      "               Specify output format (SAM, BAM, CRAM)\r\n",
      "      --output-fmt-option OPT[=VAL]\r\n",
      "               Specify a single output file format option in the form\r\n",
      "               of OPTION or OPTION=VALUE\r\n",
      "      --reference FILE\r\n",
      "               Reference sequence FASTA FILE [null]\r\n",
      "  -@, --threads INT\r\n",
      "               Number of additional threads to use [0]\r\n",
      "      --write-index\r\n",
      "               Automatically index the output files [off]\r\n",
      "      --verbosity INT\r\n",
      "               Set level of verbosity\r\n"
     ]
    }
   ],
   "source": [
    "!samtools merge -h"
   ]
  },
  {
   "cell_type": "code",
   "execution_count": 5,
   "metadata": {
    "collapsed": false
   },
   "outputs": [],
   "source": [
    "%%bash\n",
    "\n",
    "samtools merge \\\n",
    "/Volumes/web/spartina/project-gigas-oa-meth/output/BS-Snper/merged-sorted-deduplicated.bam \\\n",
    "/Volumes/web/spartina/project-gigas-oa-meth/output/bismark-roslin/zr3616_1_R1_val_1_val_1_val_1_bismark_bt2_pe.deduplicated.sorted.bam \\\n",
    "/Volumes/web/spartina/project-gigas-oa-meth/output/bismark-roslin/zr3616_2_R1_val_1_val_1_val_1_bismark_bt2_pe.deduplicated.sorted.bam \\\n",
    "/Volumes/web/spartina/project-gigas-oa-meth/output/bismark-roslin/zr3616_3_R1_val_1_val_1_val_1_bismark_bt2_pe.deduplicated.sorted.bam \\\n",
    "/Volumes/web/spartina/project-gigas-oa-meth/output/bismark-roslin/zr3616_4_R1_val_1_val_1_val_1_bismark_bt2_pe.deduplicated.sorted.bam \\\n",
    "/Volumes/web/spartina/project-gigas-oa-meth/output/bismark-roslin/zr3616_5_R1_val_1_val_1_val_1_bismark_bt2_pe.deduplicated.sorted.bam \\\n",
    "/Volumes/web/spartina/project-gigas-oa-meth/output/bismark-roslin/zr3616_6_R1_val_1_val_1_val_1_bismark_bt2_pe.deduplicated.sorted.bam \\\n",
    "/Volumes/web/spartina/project-gigas-oa-meth/output/bismark-roslin/zr3616_7_R1_val_1_val_1_val_1_bismark_bt2_pe.deduplicated.sorted.bam \\\n",
    "/Volumes/web/spartina/project-gigas-oa-meth/output/bismark-roslin/zr3616_8_R1_val_1_val_1_val_1_bismark_bt2_pe.deduplicated.sorted.bam"
   ]
  },
  {
   "cell_type": "code",
   "execution_count": 6,
   "metadata": {
    "collapsed": false,
    "scrolled": true
   },
   "outputs": [
    {
     "name": "stdout",
     "output_type": "stream",
     "text": [
      "A00564:290:HLTHCDSXY:2:1437:25039:22748_1:N:0:GGTAACTC+TCACCAAC\t83\tNC_047559.1\t20\t2\t81M\t=\t35\t88\tAAAAACAAATATTTCTATAAAAAAATTACATCCCTAAAAAAAAACCAATATTCTTCATTTTAATATTAAAATAAAAATATA\tFFFFFFFFFFFFFFFFFFFFFFFFFFFFFFFFFFFFFFFFFFFFFFFFFFFFFFFFFFFFFFFFFFFFFFFFFFFFFFFFF\tNM:i:10\tMD:Z:2G0G17G13G0G3G23G8G0G0G5\tXM:Z:..hh.................h.............xh...h.......................h........hhh.....\tXR:Z:CT\tXG:Z:GA\r\n",
      "A00564:290:HLTHCDSXY:2:1437:25039:22748_1:N:0:GGTAACTC+TCACCAAC\t163\tNC_047559.1\t35\t2\t66M7I7M\t=\t20\t-88\tTATAAAAAAATTACATCCCTAAAAAAAAACCAATATTCTTCATTTTAATATTAAAATAAAAATATACAATCACGTACAAA\tFFFFFFFFFFFFFFFFFFFFFFFFFFFFFFFFFFFFFFFFFFFFFFFFFFFFFFFFFFFFFFFFFFFFFFFFFFFFFFFF\tNM:i:17\tMD:Z:6G13G0G3G23G8G0G0G7G0T3\tXM:Z:......h.............xh...h.......................h........hhh............U.h....\tXR:Z:GA\tXG:Z:GA\r\n",
      "A00564:290:HLTHCDSXY:2:1416:25247:3192_1:N:0:TATGTAGT+CATTAGTG\t83\tNC_047559.1\t116\t0\t102M\t=\t131\t115\tAAAACCCCCTAAAACTTTTAAAATCAATAATAACACCCATATTTCTCCTTTAATACATTAATACAAAAAATACAAAAAATACATTAACATTAATTTCAAATA\t:F:FFFFFFFF::FFF:FFFFFFFFFF:F:FFFFFFFFFFFFFFFFFF:FFFFFFFFFFFFFFFFFFFFFFFFFFFF:FFFFFFFFFFFFFFFFFFFFFFFF\tNM:i:16\tMD:Z:3G15G0G0G16G9G2G15G1G0A5G2A0T5G5G5G3\tXM:Z:...h...............hhh................z............h...............h.h......h.........h.....h.....x...\tXR:Z:CT\tXG:Z:GA\r\n",
      "A00564:290:HLTHCDSXY:2:1416:25247:3192_1:N:0:TATGTAGT+CATTAGTG\t163\tNC_047559.1\t131\t0\t93M1I7M\t=\t116\t-115\tTTTTAAAATCAATAATAACACCCATATTTCTCCTTTAATACATTAATACAAAAAATACAAAAAATACATTAACATTAATTTCAAATAAAATTCTTTTATAA\tFFFFFFFFFFFFFFFFFFFFFFFFFFFFFFFFFFFFFFFFFFFFFFFFFFFFFFFFFFFFFFFFFFFFFFFFFFFFFFFFFFFF:FFFFFFFFFFFFFFFF\tNM:i:16\tMD:Z:4G0G0G16G9G2G15G1G0A5G2A0T5G5G5G16\tXM:Z:....hhh................z............h...............h.h......h.........h.....h.....x.................\tXR:Z:GA\tXG:Z:GA\r\n",
      "A00564:290:HLTHCDSXY:2:2449:9109:9377_1:N:0:CCACCAGG+ATTCCATA\t83\tNC_047559.1\t246\t6\t40M\t=\t257\t-54\tTAAAAAAACTCAAAATATTCTATTTATCATTAAAAAAAAT\tFFFFFFFFFFFFFFF:F:FFFFFFFFFFFFFFFFFFFFFF\tNM:i:5\tMD:Z:1G1G17G4G1G11\tXM:Z:.x.h.................x......z...........\tXR:Z:CT\tXG:Z:GA\r\n",
      "A00564:290:HLTHCDSXY:2:2449:9109:9377_1:N:0:CCACCAGG+ATTCCATA\t163\tNC_047559.1\t257\t6\t43M\t=\t246\t54\tAAAATATTCTATTTATCATTAAAAAAAATCAATAAACTTAATT\tFFFFFF:FFFFFFFFFFFFFFFFFFFFFFFFFF,FFFF:FFFF\tNM:i:5\tMD:Z:10G4G1G13G2G8\tXM:Z:..........x......z.............x..h........\tXR:Z:GA\tXG:Z:GA\r\n",
      "A00564:290:HLTHCDSXY:2:2212:29857:9643_1:N:0:CAATCGGC+TTCCTACA\t83\tNC_047559.1\t398\t6\t15M1D34M\t=\t414\t-64\tAAAAATCACTTTATTAAAATAACATCCTCAAAAAAAAACCCATATTCTT\tFFFFFFFFFFFFFFFFFFFFFFFFFFFFFFFFFFFFFFFFFFFFFFFFF\tNM:i:6\tMD:Z:15^A5G9G0G2G0G13\tXM:Z:....................h.........xh..hh.............\tXR:Z:CT\tXG:Z:GA\r\n",
      "A00564:290:HLTHCDSXY:2:2212:29857:9643_1:N:0:CAATCGGC+TTCCTACA\t163\tNC_047559.1\t414\t6\t48M\t=\t398\t64\tAAAATAACATCCTCAAAAAAAAACCCATATTCTTCATTTTAACGTTCA\tFFFFFFFFFFFFFFFFFFFFFFFFFFFFFFFFFFFFFFFFFFFFFFFF\tNM:i:5\tMD:Z:5G9G0G2G0G27\tXM:Z:.....h.........xh..hh......................Z....\tXR:Z:GA\tXG:Z:GA\r\n",
      "A00564:290:HLTHCDSXY:2:1678:11550:29450_1:N:0:GCCGCACT+CGAGGTCG\t83\tNC_047559.1\t490\t6\t112M\t=\t505\t-125\tAACCCCCAAAAACTTTTAAAATTAAAACTTACACCATCAATTCTCCTTTAATACATTAATACAAAAAAAATAATCAACTTTAATTTTAAAAAAAATCCTTTTATTAAAAAAT\tFFF:FFFFFFFFFFFFFFFFFFFFFFFFFFFFFFFFFFF:FFFFFFFFFFFFFFFFFFFFFFFFFFFFFFFFFFFFFFFFFFFFFFFFFFFFFFFFFFFFFFFFFFFFFFFF\tNM:i:15\tMD:Z:0G16G0G0G5G24G1G6A5G10G5G5G0G15G1G4\tXM:Z:h................hhh.....h........................h.h............h..........x.....h.....hh...............h.h....\tXR:Z:CT\tXG:Z:GA\r\n",
      "A00564:290:HLTHCDSXY:2:2632:5746:2080_1:N:0:CCACCAGG+ATTCCATA\t83\tNC_047559.1\t490\t6\t58M\t=\t505\t75\tAACCCCCAAAAACTTTTAAAATTAAAACTTACACCATCAATTCTCCTTTAATACATTA\tFFFFFFFFFFFFFFFFFFFFFFFFFFFFFFFF:FFFFFFFFFFFFFFFFFFFFFFFFF\tNM:i:7\tMD:Z:0G16G0G0G5G24G1G5\tXM:Z:h................hhh.....h........................h.h.....\tXR:Z:CT\tXG:Z:GA\r\n",
      "samtools view: writing to standard output failed: Broken pipe\r\n",
      "samtools view: error closing standard output: -1\r\n"
     ]
    }
   ],
   "source": [
    "#View output file header\n",
    "!samtools view /Volumes/web/spartina/project-gigas-oa-meth/output/BS-Snper/merged-sorted-deduplicated.bam \\\n",
    "| head "
   ]
  },
  {
   "cell_type": "code",
   "execution_count": 9,
   "metadata": {
    "collapsed": false
   },
   "outputs": [],
   "source": [
    "#Create index file for IGV\n",
    "!samtools index -b /Volumes/web/spartina/project-gigas-oa-meth/output/BS-Snper/merged-sorted-deduplicated.bam "
   ]
  },
  {
   "cell_type": "code",
   "execution_count": 11,
   "metadata": {
    "collapsed": false
   },
   "outputs": [
    {
     "name": "stdout",
     "output_type": "stream",
     "text": [
      "/Volumes/web/spartina/project-gigas-oa-meth/output/BS-Snper/merged-sorted-deduplicated.bam.bai\r\n"
     ]
    }
   ],
   "source": [
    "!find /Volumes/web/spartina/project-gigas-oa-meth/output/BS-Snper/merged-sorted-deduplicated.bam.bai"
   ]
  },
  {
   "cell_type": "markdown",
   "metadata": {
    "collapsed": true
   },
   "source": [
    "#### Identify SNPs"
   ]
  },
  {
   "cell_type": "markdown",
   "metadata": {},
   "source": [
    "Options for the script are found [here](https://github.com/hellbelly/BS-Snper/blob/master/README.txt) and below. Input and output files should be **absolute** paths.\n",
    "\n",
    "\t--fa: Reference genome file in fasta format\n",
    "\t--input: Input bam file (I'm using deduplicated sorted bams)\n",
    "\t--output: Temporary file storing SNP candidates\n",
    "\t--methcg: CpG methylation information\n",
    "\t--methchg: CHG methylation information\n",
    "\t--methchh: CHH methylation information\n",
    "\t--minhetfreq: Threshold of frequency for calling heterozygous SNP\n",
    "\t--minhomfreq: Threshold of frequency for calling homozygous SNP\n",
    "\t--minquali: Threshold of base quality\n",
    "\t--mincover: Threshold of minimum depth of covered reads\n",
    "\t--maxcover: Threshold of maximum depth of covered reads\n",
    "\t--minread2: Minimum mutation reads number\n",
    "\t--errorate: Minimum mutation rate\n",
    "\t--mapvalue: Minimum read mapping value\n",
    "\tSNP.out: Final SNP result file\n",
    "\tERR.log: Log file"
   ]
  },
  {
   "cell_type": "code",
   "execution_count": 10,
   "metadata": {
    "collapsed": true
   },
   "outputs": [],
   "source": [
    "#Defaults: --minhetfreq 0.1 --minhomfreq 0.85 --minquali 15 --maxcover 1000 --minread2 2 --errorate 0.02 --mapvalue 20\n",
    "#Saving output to gannet\n",
    "!perl /Users/Shared/Apps/BS-Snper-master/BS-Snper.pl \\\n",
    "--fa /Volumes/web/spartina/project-oyster-oa/data/Cg-roslin/cgigas_uk_roslin_v1_genomic-mito.fa \\\n",
    "--input /Volumes/web/spartina/project-gigas-oa-meth/output/BS-Snper/merged-sorted-deduplicated.bam \\\n",
    "--output /Volumes/web/spartina/project-gigas-oa-meth/output/BS-Snper/SNP-candidates.txt \\\n",
    "--methcg /Volumes/web/spartina/project-gigas-oa-meth/output/BS-Snper/CpG-meth-info.tab \\\n",
    "--methchg /Volumes/web/spartina/project-gigas-oa-meth/output/BS-Snper/CHG-meth-info.tab \\\n",
    "--methchh /Volumes/web/spartina/project-gigas-oa-meth/output/BS-Snper/CHH-meth-info.tab \\\n",
    "--mincover 5 \\\n",
    "> /Volumes/web/spartina/project-gigas-oa-meth/output/BS-Snper/SNP-results.vcf 2> /Volumes/web/spartina/project-gigas-oa-meth/output/BS-Snper/merged.ERR.log"
   ]
  },
  {
   "cell_type": "code",
   "execution_count": 7,
   "metadata": {
    "collapsed": false,
    "scrolled": true
   },
   "outputs": [
    {
     "name": "stdout",
     "output_type": "stream",
     "text": [
      "##fileformat=VCFv4.3\r\n",
      "##fileDate= 20210407\r\n",
      "##bssnperVersion=1.1\r\n",
      "##bssnperCommand=--fa /Volumes/web/spartina/project-oyster-oa/data/Cg-roslin/cgigas_uk_roslin_v1_genomic-mito.fa   --input /Volumes/web/spartina/project-gigas-oa-meth/output/BS-Snper/merged-sorted-deduplicated.bam --output /Volumes/web/spartina/project-gigas-oa-meth/output/BS-Snper/SNP-candidates.txt --methcg /Volumes/web/spartina/project-gigas-oa-meth/output/BS-Snper/CpG-meth-info.tab --methchg /Volumes/web/spartina/project-gigas-oa-meth/output/BS-Snper/CHG-meth-info.tab --methchh /Volumes/web/spartina/project-gigas-oa-meth/output/BS-Snper/CHH-meth-info.tab --minhetfreq  0.1 --minhomfreq  0.85 --minquali 15 --mincover 5 --maxcover 1000 --minread2 2 --errorate 0.02 --mapvalue 20\r\n",
      "##reference=file:///Volumes/web/spartina/project-oyster-oa/data/Cg-roslin/cgigas_uk_roslin_v1_genomic-mito.fa\r\n",
      "##Bisulfite=directional>\r\n",
      "##contig=<ID=NC_047559.1,length=55785328>\r\n",
      "##contig=<ID=NC_047560.1,length=73222313>\r\n",
      "##contig=<ID=NC_047561.1,length=58319100>\r\n",
      "##contig=<ID=NC_047562.1,length=53127865>\r\n"
     ]
    }
   ],
   "source": [
    "!head /Volumes/web/spartina/project-gigas-oa-meth/output/BS-Snper/SNP-results.vcf"
   ]
  },
  {
   "cell_type": "code",
   "execution_count": 5,
   "metadata": {
    "collapsed": false
   },
   "outputs": [
    {
     "name": "stdout",
     "output_type": "stream",
     "text": [
      " 5519308 /Volumes/web/spartina/project-gigas-oa-meth/output/BS-Snper/SNP-results.vcf\r\n"
     ]
    }
   ],
   "source": [
    "!wc -l /Volumes/web/spartina/project-gigas-oa-meth/output/BS-Snper/SNP-results.vcf"
   ]
  },
  {
   "cell_type": "markdown",
   "metadata": {},
   "source": [
    "I'll take the output from this and use it with `bedtools intersect` to determine which SNPs are present at CG sites."
   ]
  },
  {
   "cell_type": "code",
   "execution_count": 13,
   "metadata": {
    "collapsed": false
   },
   "outputs": [],
   "source": [
    "#Intersect VCF with SNP locations and CG motif track\n",
    "#BEDtools output has C/T and non-C/T SNPs\n",
    "#Use grep to isolate C/T SNPs\n",
    "!{bedtoolsDirectory}intersectBed \\\n",
    "-u \\\n",
    "-a /Volumes/web/spartina/project-gigas-oa-meth/output/BS-Snper/SNP-results.vcf \\\n",
    "-b ../../genome-feature-files/cgigas_uk_roslin_v1_fuzznuc_CGmotif.gff \\\n",
    "| grep \"C\tT\" \\\n",
    "> /Volumes/web/spartina/project-gigas-oa-meth/output/BS-Snper/CT-SNPs.tab"
   ]
  },
  {
   "cell_type": "code",
   "execution_count": 14,
   "metadata": {
    "collapsed": false
   },
   "outputs": [
    {
     "name": "stdout",
     "output_type": "stream",
     "text": [
      "NC_047559.1\t22443\t.\tC\tT\t4\tLow\tDP=1;ADF=0,0;ADR=0,1;AD=0,1;\tGT:DP:ADF:ADR:AD:BSD:BSQ:ALFR\t1/1:1:0,0:0,1:0,1:0,0,0,0,0,1,0,0:0,0,0,0,0,37,0,0:0.000,1.000\n",
      "NC_047559.1\t34836\t.\tC\tT\t1000\tPASS\tDP=39;ADF=0,0;ADR=0,39;AD=0,39;\tGT:DP:ADF:ADR:AD:BSD:BSQ:ALFR\t0/1:39:0,0:0,39:0,39:0,0,78,0,0,39,0,0:0,0,37,0,0,36,0,0:0.000,1.000\n",
      "NC_047559.1\t36674\t.\tC\tT\t1000\tPASS\tDP=43;ADF=0,0;ADR=21,22;AD=21,22;\tGT:DP:ADF:ADR:AD:BSD:BSQ:ALFR\t0/1:43:0,0:21,22:21,22:0,0,123,0,0,22,21,0:0,0,37,0,0,37,36,0:0.488,0.512\n",
      "NC_047559.1\t38038\t.\tC\tT\t1000\tPASS\tDP=43;ADF=0,0;ADR=30,13;AD=30,13;\tGT:DP:ADF:ADR:AD:BSD:BSQ:ALFR\t0/1:43:0,0:30,13:30,13:0,0,31,0,0,13,30,0:0,0,36,0,0,36,37,0:0.698,0.302\n",
      "NC_047559.1\t44211\t.\tC\tT\t29\tPASS\tDP=5;ADF=0,0;ADR=1,4;AD=1,4;\tGT:DP:ADF:ADR:AD:BSD:BSQ:ALFR\t0/1:5:0,0:1,4:1,4:0,0,0,0,0,4,1,0:0,0,0,0,0,37,37,0:0.200,0.800\n",
      "NC_047559.1\t48352\t.\tC\tT\t104\tPASS\tDP=5;ADF=0,0;ADR=0,5;AD=0,5;\tGT:DP:ADF:ADR:AD:BSD:BSQ:ALFR\t0/1:5:0,0:0,5:0,5:0,0,19,0,0,5,0,0:0,0,37,0,0,37,0,0:0.000,1.000\n",
      "NC_047559.1\t49472\t.\tC\tT\t1000\tPASS\tDP=10;ADF=0,0;ADR=1,9;AD=1,9;\tGT:DP:ADF:ADR:AD:BSD:BSQ:ALFR\t0/1:10:0,0:1,9:1,9:0,0,16,0,0,9,1,0:0,0,37,0,0,37,37,0:0.100,0.900\n",
      "NC_047559.1\t82690\t.\tC\tT\t1000\tPASS\tDP=53;ADF=0,0;ADR=2,51;AD=2,51;\tGT:DP:ADF:ADR:AD:BSD:BSQ:ALFR\t0/1:53:0,0:2,51:2,51:0,0,31,0,0,51,2,0:0,0,37,0,0,37,37,0:0.038,0.962\n",
      "NC_047559.1\t83012\t.\tC\tT\t132\tPASS\tDP=34;ADF=0,0;ADR=0,34;AD=0,34;\tGT:DP:ADF:ADR:AD:BSD:BSQ:ALFR\t0/1:34:0,0:0,34:0,34:0,0,6,0,0,34,0,0:0,0,35,0,0,37,0,0:0.000,1.000\n",
      "NC_047559.1\t87321\t.\tC\tT\t47\tPASS\tDP=11;ADF=0,0;ADR=0,11;AD=0,11;\tGT:DP:ADF:ADR:AD:BSD:BSQ:ALFR\t0/1:11:0,0:0,11:0,11:0,0,2,0,0,11,0,0:0,0,37,0,0,37,0,0:0.000,1.000\n",
      "  122306 /Volumes/web/spartina/project-gigas-oa-meth/output/BS-Snper/CT-SNPs.tab\n"
     ]
    }
   ],
   "source": [
    "!head /Volumes/web/spartina/project-gigas-oa-meth/output/BS-Snper/CT-SNPs.tab\n",
    "!wc -l /Volumes/web/spartina/project-gigas-oa-meth/output/BS-Snper/CT-SNPs.tab"
   ]
  },
  {
   "cell_type": "markdown",
   "metadata": {},
   "source": [
    "### 2b. Individual SNP variants"
   ]
  },
  {
   "cell_type": "code",
   "execution_count": 1,
   "metadata": {
    "collapsed": false
   },
   "outputs": [
    {
     "name": "stdout",
     "output_type": "stream",
     "text": [
      "/Volumes/web/spartina/project-gigas-oa-meth/output/bismark-roslin\n"
     ]
    }
   ],
   "source": [
    "cd /Volumes/web/spartina/project-gigas-oa-meth/output/bismark-roslin/"
   ]
  },
  {
   "cell_type": "code",
   "execution_count": 13,
   "metadata": {
    "collapsed": false
   },
   "outputs": [
    {
     "name": "stdout",
     "output_type": "stream",
     "text": [
      "       8\r\n"
     ]
    }
   ],
   "source": [
    "!find *deduplicated.sorted.bam | wc -l"
   ]
  },
  {
   "cell_type": "code",
   "execution_count": 14,
   "metadata": {
    "collapsed": false
   },
   "outputs": [
    {
     "name": "stdout",
     "output_type": "stream",
     "text": [
      "zr3616_1_R1_val_1_val_1_val_1_bismark_bt2_pe.deduplicated.sorted.bam zr3616_2_R1_val_1_val_1_val_1_bismark_bt2_pe.deduplicated.sorted.bam zr3616_3_R1_val_1_val_1_val_1_bismark_bt2_pe.deduplicated.sorted.bam zr3616_4_R1_val_1_val_1_val_1_bismark_bt2_pe.deduplicated.sorted.bam zr3616_5_R1_val_1_val_1_val_1_bismark_bt2_pe.deduplicated.sorted.bam zr3616_6_R1_val_1_val_1_val_1_bismark_bt2_pe.deduplicated.sorted.bam zr3616_7_R1_val_1_val_1_val_1_bismark_bt2_pe.deduplicated.sorted.bam zr3616_8_R1_val_1_val_1_val_1_bismark_bt2_pe.deduplicated.sorted.bam\n",
      "zr3616_1_R1_val_1_val_1_val_1_bismark_bt2_pe\n",
      "zr3616_2_R1_val_1_val_1_val_1_bismark_bt2_pe\n",
      "zr3616_3_R1_val_1_val_1_val_1_bismark_bt2_pe\n",
      "zr3616_4_R1_val_1_val_1_val_1_bismark_bt2_pe\n",
      "zr3616_5_R1_val_1_val_1_val_1_bismark_bt2_pe\n",
      "zr3616_6_R1_val_1_val_1_val_1_bismark_bt2_pe\n",
      "zr3616_7_R1_val_1_val_1_val_1_bismark_bt2_pe\n",
      "zr3616_8_R1_val_1_val_1_val_1_bismark_bt2_pe\n"
     ]
    }
   ],
   "source": [
    "%%bash\n",
    "\n",
    "FILES=$(ls *deduplicated.sorted.bam)\n",
    "echo ${FILES}\n",
    "\n",
    "for file in ${FILES}\n",
    "do\n",
    "    NAME=$(echo ${file} | awk -F \".\" '{print $1}')\n",
    "    echo ${NAME}\n",
    "\n",
    "    perl /Users/Shared/Apps/BS-Snper-master/BS-Snper.pl \\\n",
    "    --fa /Volumes/web/spartina/project-oyster-oa/data/Cg-roslin/cgigas_uk_roslin_v1_genomic-mito.fa \\\n",
    "    --input ${NAME}.deduplicated.sorted.bam \\\n",
    "    --output ${NAME}.SNP-candidates.txt \\\n",
    "    --methcg ${NAME}.CpG-meth-info.tab \\\n",
    "    --methchg ${NAME}.CHG-meth-info.tab \\\n",
    "    --methchh ${NAME}.CHH-meth-info.tab \\\n",
    "    --mincover 5 \\\n",
    "    > ${NAME}.SNP-results.vcf 2> ${NAME}.ERR.log\n",
    "\n",
    "done"
   ]
  },
  {
   "cell_type": "code",
   "execution_count": 15,
   "metadata": {
    "collapsed": true
   },
   "outputs": [],
   "source": [
    "# Move files to BS-Snper directory\n",
    "!mv *SNP-candidates.txt *meth-info.tab *SNP-results.vcf *ERR.log ../BS-Snper/"
   ]
  },
  {
   "cell_type": "code",
   "execution_count": 4,
   "metadata": {
    "collapsed": false
   },
   "outputs": [
    {
     "name": "stdout",
     "output_type": "stream",
     "text": [
      "/Volumes/web/spartina/project-gigas-oa-meth/output/BS-Snper\n"
     ]
    }
   ],
   "source": [
    "cd /Volumes/web/spartina/project-gigas-oa-meth/output/BS-Snper/"
   ]
  },
  {
   "cell_type": "code",
   "execution_count": 7,
   "metadata": {
    "collapsed": false
   },
   "outputs": [
    {
     "name": "stdout",
     "output_type": "stream",
     "text": [
      " 3083382 zr3616_1_R1_val_1_val_1_val_1_bismark_bt2_pe.SNP-results.vcf\n",
      " 3105080 zr3616_2_R1_val_1_val_1_val_1_bismark_bt2_pe.SNP-results.vcf\n",
      " 3202988 zr3616_3_R1_val_1_val_1_val_1_bismark_bt2_pe.SNP-results.vcf\n",
      " 3232583 zr3616_4_R1_val_1_val_1_val_1_bismark_bt2_pe.SNP-results.vcf\n",
      " 3007518 zr3616_5_R1_val_1_val_1_val_1_bismark_bt2_pe.SNP-results.vcf\n",
      " 3204395 zr3616_6_R1_val_1_val_1_val_1_bismark_bt2_pe.SNP-results.vcf\n",
      " 3083706 zr3616_7_R1_val_1_val_1_val_1_bismark_bt2_pe.SNP-results.vcf\n",
      " 3100801 zr3616_8_R1_val_1_val_1_val_1_bismark_bt2_pe.SNP-results.vcf\n",
      " 25020453 total\n"
     ]
    }
   ],
   "source": [
    "!wc -l zr3616*vcf"
   ]
  },
  {
   "cell_type": "code",
   "execution_count": 31,
   "metadata": {
    "collapsed": false
   },
   "outputs": [
    {
     "name": "stdout",
     "output_type": "stream",
     "text": [
      "NC_047559.1\t22443\t.\tC\tT\t4\tLow\tDP=1;ADF=0,0;ADR=0,1;AD=0,1;\tGT:DP:ADF:ADR:AD:BSD:BSQ:ALFR\t1/1:1:0,0:0,1:0,1:0,0,0,0,0,1,0,0:0,0,0,0,0,37,0,0:0.000,1.000\n",
      "NC_047559.1\t34836\t.\tC\tT\t142\tPASS\tDP=6;ADF=0,0;ADR=0,6;AD=0,6;\tGT:DP:ADF:ADR:AD:BSD:BSQ:ALFR\t0/1:6:0,0:0,6:0,6:0,0,17,0,0,6,0,0:0,0,36,0,0,37,0,0:0.000,1.000\n",
      "NC_047559.1\t36674\t.\tC\tT\t29\tPASS\tDP=5;ADF=0,0;ADR=0,5;AD=0,5;\tGT:DP:ADF:ADR:AD:BSD:BSQ:ALFR\t0/1:5:0,0:0,5:0,5:0,0,44,0,0,5,0,0:0,0,37,0,0,37,0,0:0.000,1.000\n",
      "NC_047559.1\t38038\t.\tC\tT\t1000\tPASS\tDP=12;ADF=0,0;ADR=5,7;AD=5,7;\tGT:DP:ADF:ADR:AD:BSD:BSQ:ALFR\t0/1:12:0,0:5,7:5,7:0,0,13,0,0,7,5,0:0,0,37,0,0,35,35,0:0.417,0.583\n",
      "NC_047559.1\t42517\t.\tC\tT\t6\tLow\tDP=2;ADF=0,0;ADR=0,2;AD=0,2;\tGT:DP:ADF:ADR:AD:BSD:BSQ:ALFR\t1/1:2:0,0:0,2:0,2:0,0,0,0,0,2,0,0:0,0,0,0,0,37,0,0:0.000,1.000\n",
      "NC_047559.1\t48352\t.\tC\tT\t72\tLow\tDP=3;ADF=0,0;ADR=0,3;AD=0,3;\tGT:DP:ADF:ADR:AD:BSD:BSQ:ALFR\t0/1:3:0,0:0,3:0,3:0,0,4,0,0,3,0,0:0,0,37,0,0,37,0,0:0.000,1.000\n",
      "NC_047559.1\t49472\t.\tC\tT\t68\tLow\tDP=4;ADF=0,0;ADR=0,4;AD=0,4;\tGT:DP:ADF:ADR:AD:BSD:BSQ:ALFR\t0/1:4:0,0:0,4:0,4:0,0,2,0,0,4,0,0:0,0,37,0,0,37,0,0:0.000,1.000\n",
      "NC_047559.1\t108375\t.\tC\tT\t4\tLow\tDP=1;ADF=0,0;ADR=0,1;AD=0,1;\tGT:DP:ADF:ADR:AD:BSD:BSQ:ALFR\t1/1:1:0,0:0,1:0,1:0,0,0,0,0,1,0,0:0,0,0,0,0,37,0,0:0.000,1.000\n",
      "NC_047559.1\t197299\t.\tC\tT\t38\tPASS\tDP=11;ADF=0,0;ADR=7,4;AD=7,4;\tGT:DP:ADF:ADR:AD:BSD:BSQ:ALFR\t0/1:11:0,0:7,4:7,4:0,0,21,0,0,4,7,0:0,0,37,0,0,37,37,0:0.636,0.364\n",
      "NC_047559.1\t205322\t.\tC\tT\t115\tPASS\tDP=28;ADF=0,0;ADR=22,6;AD=22,6;\tGT:DP:ADF:ADR:AD:BSD:BSQ:ALFR\t0/1:28:0,0:22,6:22,6:0,0,6,0,0,6,22,0:0,0,37,0,0,35,36,0:0.786,0.214\n",
      "   69845 zr3616_1_R1_val_1_val_1_val_1_bismark_bt2_pe.SNP-results.vcf_CT-SNPs.tab\n",
      "NC_047559.1\t82690\t.\tC\tT\t1000\tPASS\tDP=7;ADF=0,0;ADR=0,7;AD=0,7;\tGT:DP:ADF:ADR:AD:BSD:BSQ:ALFR\t0/1:7:0,0:0,7:0,7:0,0,12,0,0,7,0,0:0,0,37,0,0,35,0,0:0.000,1.000\n",
      "NC_047559.1\t83012\t.\tC\tT\t50\tPASS\tDP=10;ADF=0,0;ADR=0,10;AD=0,10;\tGT:DP:ADF:ADR:AD:BSD:BSQ:ALFR\t0/1:10:0,0:0,10:0,10:0,0,2,0,0,10,0,0:0,0,37,0,0,37,0,0:0.000,1.000\n",
      "NC_047559.1\t83513\t.\tC\tT\t9\tLow\tDP=3;ADF=0,0;ADR=0,3;AD=0,3;\tGT:DP:ADF:ADR:AD:BSD:BSQ:ALFR\t1/1:3:0,0:0,3:0,3:0,0,0,0,0,3,0,0:0,0,0,0,0,37,0,0:0.000,1.000\n",
      "NC_047559.1\t100873\t.\tC\tT\t123\tPASS\tDP=10;ADF=0,0;ADR=0,10;AD=0,10;\tGT:DP:ADF:ADR:AD:BSD:BSQ:ALFR\t0/1:10:0,0:0,10:0,10:0,0,4,0,0,10,0,0:0,0,37,0,0,36,0,0:0.000,1.000\n",
      "NC_047559.1\t125852\t.\tC\tT\t141\tPASS\tDP=24;ADF=0,0;ADR=17,7;AD=17,7;\tGT:DP:ADF:ADR:AD:BSD:BSQ:ALFR\t0/1:24:0,0:17,7:17,7:0,0,13,0,0,7,17,0:0,0,35,0,0,37,36,0:0.708,0.292\n",
      "NC_047559.1\t183845\t.\tC\tT\t1000\tPASS\tDP=7;ADF=0,0;ADR=0,7;AD=0,7;\tGT:DP:ADF:ADR:AD:BSD:BSQ:ALFR\t0/1:7:0,0:0,7:0,7:0,0,12,0,0,7,0,0:0,0,37,0,0,35,0,0:0.000,1.000\n",
      "NC_047559.1\t191463\t.\tC\tT\t107\tPASS\tDP=11;ADF=0,0;ADR=6,5;AD=6,5;\tGT:DP:ADF:ADR:AD:BSD:BSQ:ALFR\t0/1:11:0,0:6,5:6,5:0,0,12,0,0,5,6,0:0,0,37,0,0,37,37,0:0.545,0.455\n",
      "NC_047559.1\t211764\t.\tC\tT\t1000\tPASS\tDP=17;ADF=0,0;ADR=0,17;AD=0,17;\tGT:DP:ADF:ADR:AD:BSD:BSQ:ALFR\t0/1:17:0,0:0,17:0,17:0,0,8,0,0,17,0,0:0,0,37,0,0,37,0,0:0.000,1.000\n",
      "NC_047559.1\t219023\t.\tC\tT\t29\tLow\tDP=4;ADF=0,0;ADR=0,4;AD=0,4;\tGT:DP:ADF:ADR:AD:BSD:BSQ:ALFR\t0/1:4:0,0:0,4:0,4:0,0,1,0,0,4,0,0:0,0,37,0,0,37,0,0:0.000,1.000\n",
      "NC_047559.1\t219665\t.\tC\tT\t1000\tPASS\tDP=40;ADF=0,0;ADR=21,19;AD=21,19;\tGT:DP:ADF:ADR:AD:BSD:BSQ:ALFR\t0/1:40:0,0:21,19:21,19:0,0,11,0,0,19,21,0:0,0,37,0,0,36,37,0:0.525,0.475\n",
      "   70244 zr3616_2_R1_val_1_val_1_val_1_bismark_bt2_pe.SNP-results.vcf_CT-SNPs.tab\n",
      "NC_047559.1\t34836\t.\tC\tT\t1000\tPASS\tDP=9;ADF=0,0;ADR=0,9;AD=0,9;\tGT:DP:ADF:ADR:AD:BSD:BSQ:ALFR\t0/1:9:0,0:0,9:0,9:0,0,25,0,0,9,0,0:0,0,37,0,0,37,0,0:0.000,1.000\n",
      "NC_047559.1\t36674\t.\tC\tT\t1000\tPASS\tDP=13;ADF=0,0;ADR=0,13;AD=0,13;\tGT:DP:ADF:ADR:AD:BSD:BSQ:ALFR\t0/1:13:0,0:0,13:0,13:0,0,36,0,0,13,0,0:0,0,36,0,0,37,0,0:0.000,1.000\n",
      "NC_047559.1\t49472\t.\tC\tT\t4\tLow\tDP=1;ADF=0,0;ADR=0,1;AD=0,1;\tGT:DP:ADF:ADR:AD:BSD:BSQ:ALFR\t1/1:1:0,0:0,1:0,1:0,0,0,0,0,1,0,0:0,0,0,0,0,37,0,0:0.000,1.000\n",
      "NC_047559.1\t100045\t.\tC\tT\t105\tLow\tDP=4;ADF=0,0;ADR=0,4;AD=0,4;\tGT:DP:ADF:ADR:AD:BSD:BSQ:ALFR\t0/1:4:0,0:0,4:0,4:0,0,3,0,0,4,0,0:0,0,37,0,0,37,0,0:0.000,1.000\n",
      "NC_047559.1\t100873\t.\tC\tT\t100\tPASS\tDP=6;ADF=0,0;ADR=0,6;AD=0,6;\tGT:DP:ADF:ADR:AD:BSD:BSQ:ALFR\t0/1:6:0,0:0,6:0,6:0,0,3,0,0,6,0,0:0,0,37,0,0,37,0,0:0.000,1.000\n",
      "NC_047559.1\t125852\t.\tC\tT\t80\tPASS\tDP=16;ADF=0,0;ADR=12,4;AD=12,4;\tGT:DP:ADF:ADR:AD:BSD:BSQ:ALFR\t0/1:16:0,0:12,4:12,4:0,0,2,0,0,4,12,0:0,0,37,0,0,37,36,0:0.750,0.250\n",
      "NC_047559.1\t149250\t.\tC\tT\t4\tLow\tDP=1;ADF=0,0;ADR=0,1;AD=0,1;\tGT:DP:ADF:ADR:AD:BSD:BSQ:ALFR\t1/1:1:0,0:0,1:0,1:0,0,0,0,0,1,0,0:0,0,0,0,0,37,0,0:0.000,1.000\n",
      "NC_047559.1\t199691\t.\tC\tT\t4\tLow\tDP=1;ADF=0,0;ADR=0,1;AD=0,1;\tGT:DP:ADF:ADR:AD:BSD:BSQ:ALFR\t1/1:1:0,0:0,1:0,1:0,0,0,0,0,1,0,0:0,0,0,0,0,37,0,0:0.000,1.000\n",
      "NC_047559.1\t211764\t.\tC\tT\t1000\tPASS\tDP=21;ADF=0,0;ADR=0,21;AD=0,21;\tGT:DP:ADF:ADR:AD:BSD:BSQ:ALFR\t0/1:21:0,0:0,21:0,21:0,0,6,0,0,21,0,0:0,0,35,0,0,37,0,0:0.000,1.000\n",
      "NC_047559.1\t219244\t.\tC\tT\t26\tPASS\tDP=5;ADF=0,0;ADR=0,5;AD=0,5;\tGT:DP:ADF:ADR:AD:BSD:BSQ:ALFR\t0/1:5:0,0:0,5:0,5:0,0,1,0,0,5,0,0:0,0,37,0,0,37,0,0:0.000,1.000\n",
      "   72064 zr3616_3_R1_val_1_val_1_val_1_bismark_bt2_pe.SNP-results.vcf_CT-SNPs.tab\n",
      "NC_047559.1\t77086\t.\tC\tT\t4\tLow\tDP=1;ADF=0,0;ADR=0,1;AD=0,1;\tGT:DP:ADF:ADR:AD:BSD:BSQ:ALFR\t1/1:1:0,0:0,1:0,1:0,0,0,0,0,1,0,0:0,0,0,0,0,37,0,0:0.000,1.000\n",
      "NC_047559.1\t211764\t.\tC\tT\t1000\tPASS\tDP=34;ADF=0,0;ADR=0,34;AD=0,34;\tGT:DP:ADF:ADR:AD:BSD:BSQ:ALFR\t0/1:34:0,0:0,34:0,34:0,0,8,0,0,34,0,0:0,0,37,0,0,37,0,0:0.000,1.000\n",
      "NC_047559.1\t222020\t.\tC\tT\t4\tLow\tDP=1;ADF=0,0;ADR=0,1;AD=0,1;\tGT:DP:ADF:ADR:AD:BSD:BSQ:ALFR\t1/1:1:0,0:0,1:0,1:0,0,0,0,0,1,0,0:0,0,0,0,0,37,0,0:0.000,1.000\n",
      "NC_047559.1\t353501\t.\tC\tT\t6\tLow\tDP=2;ADF=0,0;ADR=0,2;AD=0,2;\tGT:DP:ADF:ADR:AD:BSD:BSQ:ALFR\t1/1:2:0,0:0,2:0,2:0,0,0,0,0,2,0,0:0,0,0,0,0,31,0,0:0.000,1.000\n",
      "NC_047559.1\t357397\t.\tC\tT\t53\tPASS\tDP=9;ADF=0,0;ADR=0,9;AD=0,9;\tGT:DP:ADF:ADR:AD:BSD:BSQ:ALFR\t0/1:9:0,0:0,9:0,9:0,0,2,0,0,9,0,0:0,0,37,0,0,37,0,0:0.000,1.000\n",
      "NC_047559.1\t357948\t.\tC\tT\t1000\tPASS\tDP=13;ADF=0,0;ADR=0,13;AD=0,13;\tGT:DP:ADF:ADR:AD:BSD:BSQ:ALFR\t0/1:13:0,0:0,13:0,13:0,0,6,0,0,13,0,0:0,0,37,0,0,37,0,0:0.000,1.000\n",
      "NC_047559.1\t378466\t.\tC\tT\t1000\tPASS\tDP=36;ADF=0,0;ADR=0,36;AD=0,36;\tGT:DP:ADF:ADR:AD:BSD:BSQ:ALFR\t0/1:36:0,0:0,36:0,36:0,0,14,0,0,36,0,0:0,0,37,0,0,37,0,0:0.000,1.000\n",
      "NC_047559.1\t428033\t.\tC\tT\t68\tLow\tDP=4;ADF=0,0;ADR=0,4;AD=0,4;\tGT:DP:ADF:ADR:AD:BSD:BSQ:ALFR\t0/1:4:0,0:0,4:0,4:0,0,2,0,0,4,0,0:0,0,37,0,0,37,0,0:0.000,1.000\n",
      "NC_047559.1\t433155\t.\tC\tT\t77\tPASS\tDP=9;ADF=0,0;ADR=5,4;AD=5,4;\tGT:DP:ADF:ADR:AD:BSD:BSQ:ALFR\t0/1:9:0,0:5,4:5,4:0,0,10,0,0,4,5,0:0,0,37,0,0,37,37,0:0.556,0.444\n",
      "NC_047559.1\t469275\t.\tC\tT\t4\tLow\tDP=1;ADF=0,0;ADR=0,1;AD=0,1;\tGT:DP:ADF:ADR:AD:BSD:BSQ:ALFR\t1/1:1:0,0:0,1:0,1:0,0,0,0,0,1,0,0:0,0,0,0,0,37,0,0:0.000,1.000\n",
      "   73664 zr3616_4_R1_val_1_val_1_val_1_bismark_bt2_pe.SNP-results.vcf_CT-SNPs.tab\n",
      "NC_047559.1\t34836\t.\tC\tT\t1000\tPASS\tDP=9;ADF=0,0;ADR=0,9;AD=0,9;\tGT:DP:ADF:ADR:AD:BSD:BSQ:ALFR\t0/1:9:0,0:0,9:0,9:0,0,16,0,0,9,0,0:0,0,37,0,0,36,0,0:0.000,1.000\n",
      "NC_047559.1\t49333\t.\tC\tT\t6\tLow\tDP=2;ADF=0,0;ADR=0,2;AD=0,2;\tGT:DP:ADF:ADR:AD:BSD:BSQ:ALFR\t1/1:2:0,0:0,2:0,2:0,0,0,0,0,2,0,0:0,0,0,0,0,37,0,0:0.000,1.000\n",
      "NC_047559.1\t82690\t.\tC\tT\t1000\tPASS\tDP=31;ADF=0,0;ADR=2,29;AD=2,29;\tGT:DP:ADF:ADR:AD:BSD:BSQ:ALFR\t0/1:31:0,0:2,29:2,29:0,0,15,0,0,29,2,0:0,0,37,0,0,37,37,0:0.065,0.935\n",
      "NC_047559.1\t83012\t.\tC\tT\t130\tPASS\tDP=9;ADF=0,0;ADR=0,9;AD=0,9;\tGT:DP:ADF:ADR:AD:BSD:BSQ:ALFR\t0/1:9:0,0:0,9:0,9:0,0,4,0,0,9,0,0:0,0,34,0,0,37,0,0:0.000,1.000\n",
      "NC_047559.1\t87321\t.\tC\tT\t70\tLow\tDP=3;ADF=0,0;ADR=0,3;AD=0,3;\tGT:DP:ADF:ADR:AD:BSD:BSQ:ALFR\t0/1:3:0,0:0,3:0,3:0,0,2,0,0,3,0,0:0,0,37,0,0,37,0,0:0.000,1.000\n",
      "NC_047559.1\t210243\t.\tC\tT\t4\tLow\tDP=1;ADF=0,0;ADR=0,1;AD=0,1;\tGT:DP:ADF:ADR:AD:BSD:BSQ:ALFR\t1/1:1:0,0:0,1:0,1:0,0,0,0,0,1,0,0:0,0,0,0,0,37,0,0:0.000,1.000\n",
      "NC_047559.1\t211764\t.\tC\tT\t1000\tPASS\tDP=22;ADF=0,0;ADR=2,20;AD=2,20;\tGT:DP:ADF:ADR:AD:BSD:BSQ:ALFR\t0/1:22:0,0:2,20:2,20:0,0,15,0,0,20,2,0:0,0,37,0,0,36,37,0:0.091,0.909\n",
      "NC_047559.1\t223627\t.\tC\tT\t95\tPASS\tDP=10;ADF=0,0;ADR=6,4;AD=6,4;\tGT:DP:ADF:ADR:AD:BSD:BSQ:ALFR\t0/1:10:0,0:6,4:6,4:0,0,3,0,0,4,6,0:0,0,33,0,0,37,37,0:0.600,0.400\n",
      "NC_047559.1\t224536\t.\tC\tT\t4\tLow\tDP=1;ADF=0,0;ADR=0,1;AD=0,1;\tGT:DP:ADF:ADR:AD:BSD:BSQ:ALFR\t1/1:1:0,0:0,1:0,1:0,0,0,0,0,1,0,0:0,0,0,0,0,25,0,0:0.000,1.000\n",
      "NC_047559.1\t236983\t.\tC\tT\t6\tLow\tDP=2;ADF=0,0;ADR=0,2;AD=0,2;\tGT:DP:ADF:ADR:AD:BSD:BSQ:ALFR\t1/1:2:0,0:0,2:0,2:0,0,0,0,0,2,0,0:0,0,0,0,0,37,0,0:0.000,1.000\n",
      "   66965 zr3616_5_R1_val_1_val_1_val_1_bismark_bt2_pe.SNP-results.vcf_CT-SNPs.tab\n",
      "NC_047559.1\t211764\t.\tC\tT\t1000\tPASS\tDP=17;ADF=0,0;ADR=0,17;AD=0,17;\tGT:DP:ADF:ADR:AD:BSD:BSQ:ALFR\t0/1:17:0,0:0,17:0,17:0,0,13,0,0,17,0,0:0,0,37,0,0,37,0,0:0.000,1.000\n",
      "NC_047559.1\t222409\t.\tC\tT\t12\tLow\tDP=4;ADF=0,0;ADR=0,4;AD=0,4;\tGT:DP:ADF:ADR:AD:BSD:BSQ:ALFR\t1/1:4:0,0:0,4:0,4:0,0,0,0,0,4,0,0:0,0,0,0,0,37,0,0:0.000,1.000\n",
      "NC_047559.1\t245710\t.\tC\tT\t20\tPASS\tDP=7;ADF=0,0;ADR=0,7;AD=0,7;\tGT:DP:ADF:ADR:AD:BSD:BSQ:ALFR\t0/1:7:0,0:0,7:0,7:0,0,1,0,0,7,0,0:0,0,37,0,0,37,0,0:0.000,1.000\n",
      "NC_047559.1\t251061\t.\tC\tT\t4\tLow\tDP=1;ADF=0,0;ADR=0,1;AD=0,1;\tGT:DP:ADF:ADR:AD:BSD:BSQ:ALFR\t1/1:1:0,0:0,1:0,1:0,0,0,0,0,1,0,0:0,0,0,0,0,37,0,0:0.000,1.000\n",
      "NC_047559.1\t252351\t.\tC\tT\t36\tPASS\tDP=13;ADF=0,0;ADR=10,3;AD=10,3;\tGT:DP:ADF:ADR:AD:BSD:BSQ:ALFR\t0/1:13:0,0:10,3:10,3:0,0,6,0,0,3,10,0:0,0,37,0,0,37,37,0:0.769,0.231\n",
      "NC_047559.1\t261933\t.\tC\tT\t1000\tPASS\tDP=8;ADF=0,0;ADR=1,7;AD=1,7;\tGT:DP:ADF:ADR:AD:BSD:BSQ:ALFR\t0/1:8:0,0:1,7:1,7:0,0,6,0,0,7,1,0:0,0,37,0,0,37,37,0:0.125,0.875\n",
      "NC_047559.1\t267998\t.\tC\tT\t4\tLow\tDP=1;ADF=0,0;ADR=0,1;AD=0,1;\tGT:DP:ADF:ADR:AD:BSD:BSQ:ALFR\t1/1:1:0,0:0,1:0,1:0,0,0,0,0,1,0,0:0,0,0,0,0,25,0,0:0.000,1.000\n",
      "NC_047559.1\t268110\t.\tC\tT\t1000\tPASS\tDP=8;ADF=0,0;ADR=0,8;AD=0,8;\tGT:DP:ADF:ADR:AD:BSD:BSQ:ALFR\t0/1:8:0,0:0,8:0,8:0,0,14,0,0,8,0,0:0,0,37,0,0,37,0,0:0.000,1.000\n",
      "NC_047559.1\t268671\t.\tC\tT\t4\tLow\tDP=1;ADF=0,0;ADR=0,1;AD=0,1;\tGT:DP:ADF:ADR:AD:BSD:BSQ:ALFR\t1/1:1:0,0:0,1:0,1:0,0,0,0,0,1,0,0:0,0,0,0,0,37,0,0:0.000,1.000\n",
      "NC_047559.1\t287651\t.\tC\tT\t24\tLow\tDP=3;ADF=0,0;ADR=0,3;AD=0,3;\tGT:DP:ADF:ADR:AD:BSD:BSQ:ALFR\t0/1:3:0,0:0,3:0,3:0,0,20,0,0,3,0,0:0,0,37,0,0,33,0,0:0.000,1.000\n",
      "   72123 zr3616_6_R1_val_1_val_1_val_1_bismark_bt2_pe.SNP-results.vcf_CT-SNPs.tab\n",
      "NC_047559.1\t22959\t.\tC\tT\t4\tLow\tDP=1;ADF=0,0;ADR=0,1;AD=0,1;\tGT:DP:ADF:ADR:AD:BSD:BSQ:ALFR\t1/1:1:0,0:0,1:0,1:0,0,0,0,0,1,0,0:0,0,0,0,0,25,0,0:0.000,1.000\n",
      "NC_047559.1\t34836\t.\tC\tT\t1000\tPASS\tDP=13;ADF=0,0;ADR=0,13;AD=0,13;\tGT:DP:ADF:ADR:AD:BSD:BSQ:ALFR\t0/1:13:0,0:0,13:0,13:0,0,10,0,0,13,0,0:0,0,37,0,0,35,0,0:0.000,1.000\n",
      "NC_047559.1\t38038\t.\tC\tT\t92\tPASS\tDP=9;ADF=0,0;ADR=5,4;AD=5,4;\tGT:DP:ADF:ADR:AD:BSD:BSQ:ALFR\t0/1:9:0,0:5,4:5,4:0,0,5,0,0,4,5,0:0,0,37,0,0,37,37,0:0.556,0.444\n",
      "NC_047559.1\t211764\t.\tC\tT\t102\tPASS\tDP=17;ADF=0,0;ADR=0,17;AD=0,17;\tGT:DP:ADF:ADR:AD:BSD:BSQ:ALFR\t0/1:17:0,0:0,17:0,17:0,0,4,0,0,17,0,0:0,0,34,0,0,36,0,0:0.000,1.000\n",
      "NC_047559.1\t224774\t.\tC\tT\t105\tPASS\tDP=6;ADF=0,0;ADR=2,4;AD=2,4;\tGT:DP:ADF:ADR:AD:BSD:BSQ:ALFR\t0/1:6:0,0:2,4:2,4:0,0,1,0,0,4,2,0:0,0,37,0,0,37,37,0:0.333,0.667\n",
      "NC_047559.1\t249908\t.\tC\tT\t1000\tPASS\tDP=8;ADF=0,0;ADR=0,8;AD=0,8;\tGT:DP:ADF:ADR:AD:BSD:BSQ:ALFR\t0/1:8:0,0:0,8:0,8:0,0,6,0,0,8,0,0:0,0,37,0,0,37,0,0:0.000,1.000\n",
      "NC_047559.1\t250602\t.\tC\tT\t4\tLow\tDP=1;ADF=0,0;ADR=0,1;AD=0,1;\tGT:DP:ADF:ADR:AD:BSD:BSQ:ALFR\t1/1:1:0,0:0,1:0,1:0,0,0,0,0,1,0,0:0,0,0,0,0,37,0,0:0.000,1.000\n",
      "NC_047559.1\t251061\t.\tC\tT\t4\tLow\tDP=1;ADF=0,0;ADR=0,1;AD=0,1;\tGT:DP:ADF:ADR:AD:BSD:BSQ:ALFR\t1/1:1:0,0:0,1:0,1:0,0,0,0,0,1,0,0:0,0,0,0,0,37,0,0:0.000,1.000\n",
      "NC_047559.1\t356833\t.\tC\tT\t141\tPASS\tDP=5;ADF=0,0;ADR=0,5;AD=0,5;\tGT:DP:ADF:ADR:AD:BSD:BSQ:ALFR\t0/1:5:0,0:0,5:0,5:0,0,4,0,0,5,0,0:0,0,37,0,0,37,0,0:0.000,1.000\n",
      "NC_047559.1\t357397\t.\tC\tT\t9\tPASS\tDP=11;ADF=0,0;ADR=0,11;AD=0,11;\tGT:DP:ADF:ADR:AD:BSD:BSQ:ALFR\t0/1:11:0,0:0,11:0,11:0,0,1,0,0,11,0,0:0,0,37,0,0,37,0,0:0.000,1.000\n",
      "   68856 zr3616_7_R1_val_1_val_1_val_1_bismark_bt2_pe.SNP-results.vcf_CT-SNPs.tab\n",
      "NC_047559.1\t36674\t.\tC\tT\t59\tLow\tDP=4;ADF=0,0;ADR=0,4;AD=0,4;\tGT:DP:ADF:ADR:AD:BSD:BSQ:ALFR\t0/1:4:0,0:0,4:0,4:0,0,21,0,0,4,0,0:0,0,37,0,0,37,0,0:0.000,1.000\n",
      "NC_047559.1\t42691\t.\tC\tT\t6\tLow\tDP=2;ADF=0,0;ADR=0,2;AD=0,2;\tGT:DP:ADF:ADR:AD:BSD:BSQ:ALFR\t1/1:2:0,0:0,2:0,2:0,0,0,0,0,2,0,0:0,0,0,0,0,37,0,0:0.000,1.000\n",
      "NC_047559.1\t44211\t.\tC\tT\t12\tLow\tDP=4;ADF=0,0;ADR=0,4;AD=0,4;\tGT:DP:ADF:ADR:AD:BSD:BSQ:ALFR\t1/1:4:0,0:0,4:0,4:0,0,0,0,0,4,0,0:0,0,0,0,0,37,0,0:0.000,1.000\n",
      "NC_047559.1\t82690\t.\tC\tT\t112\tPASS\tDP=15;ADF=0,0;ADR=0,15;AD=0,15;\tGT:DP:ADF:ADR:AD:BSD:BSQ:ALFR\t0/1:15:0,0:0,15:0,15:0,0,4,0,0,15,0,0:0,0,37,0,0,37,0,0:0.000,1.000\n",
      "NC_047559.1\t83012\t.\tC\tT\t45\tPASS\tDP=15;ADF=0,0;ADR=0,15;AD=0,15;\tGT:DP:ADF:ADR:AD:BSD:BSQ:ALFR\t1/1:15:0,0:0,15:0,15:0,0,0,0,0,15,0,0:0,0,0,0,0,37,0,0:0.000,1.000\n",
      "NC_047559.1\t87321\t.\tC\tT\t24\tPASS\tDP=8;ADF=0,0;ADR=0,8;AD=0,8;\tGT:DP:ADF:ADR:AD:BSD:BSQ:ALFR\t1/1:8:0,0:0,8:0,8:0,0,0,0,0,8,0,0:0,0,0,0,0,37,0,0:0.000,1.000\n",
      "NC_047559.1\t121206\t.\tC\tT\t18\tPASS\tDP=6;ADF=0,0;ADR=0,6;AD=0,6;\tGT:DP:ADF:ADR:AD:BSD:BSQ:ALFR\t1/1:6:0,0:0,6:0,6:0,0,0,0,0,6,0,0:0,0,0,0,0,37,0,0:0.000,1.000\n",
      "NC_047559.1\t188398\t.\tC\tT\t4\tLow\tDP=1;ADF=0,0;ADR=0,1;AD=0,1;\tGT:DP:ADF:ADR:AD:BSD:BSQ:ALFR\t1/1:1:0,0:0,1:0,1:0,0,0,0,0,1,0,0:0,0,0,0,0,37,0,0:0.000,1.000\n",
      "NC_047559.1\t224356\t.\tC\tT\t4\tLow\tDP=1;ADF=0,0;ADR=0,1;AD=0,1;\tGT:DP:ADF:ADR:AD:BSD:BSQ:ALFR\t1/1:1:0,0:0,1:0,1:0,0,0,0,0,1,0,0:0,0,0,0,0,37,0,0:0.000,1.000\n",
      "NC_047559.1\t252976\t.\tC\tT\t6\tLow\tDP=2;ADF=0,0;ADR=0,2;AD=0,2;\tGT:DP:ADF:ADR:AD:BSD:BSQ:ALFR\t1/1:2:0,0:0,2:0,2:0,0,0,0,0,2,0,0:0,0,0,0,0,37,0,0:0.000,1.000\n",
      "   69695 zr3616_8_R1_val_1_val_1_val_1_bismark_bt2_pe.SNP-results.vcf_CT-SNPs.tab\n"
     ]
    }
   ],
   "source": [
    "%%bash\n",
    "\n",
    "for f in zr3616*vcf\n",
    "do\n",
    "    /Users/Shared/bioinformatics/bedtools2/bin/intersectBed \\\n",
    "    -u \\\n",
    "    -a ${f} \\\n",
    "    -b /Users/yaamini/Documents/project-gigas-oa-meth/genome-feature-files/cgigas_uk_roslin_v1_fuzznuc_CGmotif.gff \\\n",
    "    | grep \"C\tT\" \\\n",
    "    > ${f}_CT-SNPs.tab\n",
    "    head ${f}_CT-SNPs.tab\n",
    "    wc -l ${f}_CT-SNPs.tab\n",
    "done"
   ]
  },
  {
   "cell_type": "code",
   "execution_count": 32,
   "metadata": {
    "collapsed": false,
    "scrolled": true
   },
   "outputs": [
    {
     "name": "stdout",
     "output_type": "stream",
     "text": [
      "zr3616_1_R1_val_1_val_1_val_1_bismark_bt2_pe.SNP-results.vcf_CT-SNPs.tab\r\n",
      "zr3616_2_R1_val_1_val_1_val_1_bismark_bt2_pe.SNP-results.vcf_CT-SNPs.tab\r\n",
      "zr3616_3_R1_val_1_val_1_val_1_bismark_bt2_pe.SNP-results.vcf_CT-SNPs.tab\r\n",
      "zr3616_4_R1_val_1_val_1_val_1_bismark_bt2_pe.SNP-results.vcf_CT-SNPs.tab\r\n",
      "zr3616_5_R1_val_1_val_1_val_1_bismark_bt2_pe.SNP-results.vcf_CT-SNPs.tab\r\n",
      "zr3616_6_R1_val_1_val_1_val_1_bismark_bt2_pe.SNP-results.vcf_CT-SNPs.tab\r\n",
      "zr3616_7_R1_val_1_val_1_val_1_bismark_bt2_pe.SNP-results.vcf_CT-SNPs.tab\r\n",
      "zr3616_8_R1_val_1_val_1_val_1_bismark_bt2_pe.SNP-results.vcf_CT-SNPs.tab\r\n"
     ]
    }
   ],
   "source": [
    "!find zr3616*CT-SNPs.tab"
   ]
  },
  {
   "cell_type": "markdown",
   "metadata": {},
   "source": [
    "I'll now rename the output files so they are shorter."
   ]
  },
  {
   "cell_type": "code",
   "execution_count": 33,
   "metadata": {
    "collapsed": true
   },
   "outputs": [],
   "source": [
    "%%bash\n",
    "\n",
    "for f in zr3616*CT-SNPs.tab\n",
    "do\n",
    "    [ -f ${f} ] || continue\n",
    "    mv \"${f}\" \"${f//_R1_val_1_val_1_val_1_bismark_bt2_pe.SNP-results.vcf/}\"\n",
    "\n",
    "done"
   ]
  },
  {
   "cell_type": "code",
   "execution_count": 34,
   "metadata": {
    "collapsed": false
   },
   "outputs": [
    {
     "name": "stdout",
     "output_type": "stream",
     "text": [
      "zr3616_1_CT-SNPs.tab\r\n",
      "zr3616_2_CT-SNPs.tab\r\n",
      "zr3616_3_CT-SNPs.tab\r\n",
      "zr3616_4_CT-SNPs.tab\r\n",
      "zr3616_5_CT-SNPs.tab\r\n",
      "zr3616_6_CT-SNPs.tab\r\n",
      "zr3616_7_CT-SNPs.tab\r\n",
      "zr3616_8_CT-SNPs.tab\r\n"
     ]
    }
   ],
   "source": [
    "!find zr3616*CT-SNPs.tab"
   ]
  },
  {
   "cell_type": "code",
   "execution_count": 35,
   "metadata": {
    "collapsed": false
   },
   "outputs": [
    {
     "name": "stdout",
     "output_type": "stream",
     "text": [
      "==> zr3616_1_CT-SNPs.tab <==\n",
      "NC_047559.1\t22443\t.\tC\tT\t4\tLow\tDP=1;ADF=0,0;ADR=0,1;AD=0,1;\tGT:DP:ADF:ADR:AD:BSD:BSQ:ALFR\t1/1:1:0,0:0,1:0,1:0,0,0,0,0,1,0,0:0,0,0,0,0,37,0,0:0.000,1.000\n",
      "NC_047559.1\t34836\t.\tC\tT\t142\tPASS\tDP=6;ADF=0,0;ADR=0,6;AD=0,6;\tGT:DP:ADF:ADR:AD:BSD:BSQ:ALFR\t0/1:6:0,0:0,6:0,6:0,0,17,0,0,6,0,0:0,0,36,0,0,37,0,0:0.000,1.000\n",
      "NC_047559.1\t36674\t.\tC\tT\t29\tPASS\tDP=5;ADF=0,0;ADR=0,5;AD=0,5;\tGT:DP:ADF:ADR:AD:BSD:BSQ:ALFR\t0/1:5:0,0:0,5:0,5:0,0,44,0,0,5,0,0:0,0,37,0,0,37,0,0:0.000,1.000\n",
      "NC_047559.1\t38038\t.\tC\tT\t1000\tPASS\tDP=12;ADF=0,0;ADR=5,7;AD=5,7;\tGT:DP:ADF:ADR:AD:BSD:BSQ:ALFR\t0/1:12:0,0:5,7:5,7:0,0,13,0,0,7,5,0:0,0,37,0,0,35,35,0:0.417,0.583\n",
      "NC_047559.1\t42517\t.\tC\tT\t6\tLow\tDP=2;ADF=0,0;ADR=0,2;AD=0,2;\tGT:DP:ADF:ADR:AD:BSD:BSQ:ALFR\t1/1:2:0,0:0,2:0,2:0,0,0,0,0,2,0,0:0,0,0,0,0,37,0,0:0.000,1.000\n",
      "NC_047559.1\t48352\t.\tC\tT\t72\tLow\tDP=3;ADF=0,0;ADR=0,3;AD=0,3;\tGT:DP:ADF:ADR:AD:BSD:BSQ:ALFR\t0/1:3:0,0:0,3:0,3:0,0,4,0,0,3,0,0:0,0,37,0,0,37,0,0:0.000,1.000\n",
      "NC_047559.1\t49472\t.\tC\tT\t68\tLow\tDP=4;ADF=0,0;ADR=0,4;AD=0,4;\tGT:DP:ADF:ADR:AD:BSD:BSQ:ALFR\t0/1:4:0,0:0,4:0,4:0,0,2,0,0,4,0,0:0,0,37,0,0,37,0,0:0.000,1.000\n",
      "NC_047559.1\t108375\t.\tC\tT\t4\tLow\tDP=1;ADF=0,0;ADR=0,1;AD=0,1;\tGT:DP:ADF:ADR:AD:BSD:BSQ:ALFR\t1/1:1:0,0:0,1:0,1:0,0,0,0,0,1,0,0:0,0,0,0,0,37,0,0:0.000,1.000\n",
      "NC_047559.1\t197299\t.\tC\tT\t38\tPASS\tDP=11;ADF=0,0;ADR=7,4;AD=7,4;\tGT:DP:ADF:ADR:AD:BSD:BSQ:ALFR\t0/1:11:0,0:7,4:7,4:0,0,21,0,0,4,7,0:0,0,37,0,0,37,37,0:0.636,0.364\n",
      "NC_047559.1\t205322\t.\tC\tT\t115\tPASS\tDP=28;ADF=0,0;ADR=22,6;AD=22,6;\tGT:DP:ADF:ADR:AD:BSD:BSQ:ALFR\t0/1:28:0,0:22,6:22,6:0,0,6,0,0,6,22,0:0,0,37,0,0,35,36,0:0.786,0.214\n",
      "\n",
      "==> zr3616_2_CT-SNPs.tab <==\n",
      "NC_047559.1\t82690\t.\tC\tT\t1000\tPASS\tDP=7;ADF=0,0;ADR=0,7;AD=0,7;\tGT:DP:ADF:ADR:AD:BSD:BSQ:ALFR\t0/1:7:0,0:0,7:0,7:0,0,12,0,0,7,0,0:0,0,37,0,0,35,0,0:0.000,1.000\n",
      "NC_047559.1\t83012\t.\tC\tT\t50\tPASS\tDP=10;ADF=0,0;ADR=0,10;AD=0,10;\tGT:DP:ADF:ADR:AD:BSD:BSQ:ALFR\t0/1:10:0,0:0,10:0,10:0,0,2,0,0,10,0,0:0,0,37,0,0,37,0,0:0.000,1.000\n",
      "NC_047559.1\t83513\t.\tC\tT\t9\tLow\tDP=3;ADF=0,0;ADR=0,3;AD=0,3;\tGT:DP:ADF:ADR:AD:BSD:BSQ:ALFR\t1/1:3:0,0:0,3:0,3:0,0,0,0,0,3,0,0:0,0,0,0,0,37,0,0:0.000,1.000\n",
      "NC_047559.1\t100873\t.\tC\tT\t123\tPASS\tDP=10;ADF=0,0;ADR=0,10;AD=0,10;\tGT:DP:ADF:ADR:AD:BSD:BSQ:ALFR\t0/1:10:0,0:0,10:0,10:0,0,4,0,0,10,0,0:0,0,37,0,0,36,0,0:0.000,1.000\n",
      "NC_047559.1\t125852\t.\tC\tT\t141\tPASS\tDP=24;ADF=0,0;ADR=17,7;AD=17,7;\tGT:DP:ADF:ADR:AD:BSD:BSQ:ALFR\t0/1:24:0,0:17,7:17,7:0,0,13,0,0,7,17,0:0,0,35,0,0,37,36,0:0.708,0.292\n",
      "NC_047559.1\t183845\t.\tC\tT\t1000\tPASS\tDP=7;ADF=0,0;ADR=0,7;AD=0,7;\tGT:DP:ADF:ADR:AD:BSD:BSQ:ALFR\t0/1:7:0,0:0,7:0,7:0,0,12,0,0,7,0,0:0,0,37,0,0,35,0,0:0.000,1.000\n",
      "NC_047559.1\t191463\t.\tC\tT\t107\tPASS\tDP=11;ADF=0,0;ADR=6,5;AD=6,5;\tGT:DP:ADF:ADR:AD:BSD:BSQ:ALFR\t0/1:11:0,0:6,5:6,5:0,0,12,0,0,5,6,0:0,0,37,0,0,37,37,0:0.545,0.455\n",
      "NC_047559.1\t211764\t.\tC\tT\t1000\tPASS\tDP=17;ADF=0,0;ADR=0,17;AD=0,17;\tGT:DP:ADF:ADR:AD:BSD:BSQ:ALFR\t0/1:17:0,0:0,17:0,17:0,0,8,0,0,17,0,0:0,0,37,0,0,37,0,0:0.000,1.000\n",
      "NC_047559.1\t219023\t.\tC\tT\t29\tLow\tDP=4;ADF=0,0;ADR=0,4;AD=0,4;\tGT:DP:ADF:ADR:AD:BSD:BSQ:ALFR\t0/1:4:0,0:0,4:0,4:0,0,1,0,0,4,0,0:0,0,37,0,0,37,0,0:0.000,1.000\n",
      "NC_047559.1\t219665\t.\tC\tT\t1000\tPASS\tDP=40;ADF=0,0;ADR=21,19;AD=21,19;\tGT:DP:ADF:ADR:AD:BSD:BSQ:ALFR\t0/1:40:0,0:21,19:21,19:0,0,11,0,0,19,21,0:0,0,37,0,0,36,37,0:0.525,0.475\n",
      "\n",
      "==> zr3616_3_CT-SNPs.tab <==\n",
      "NC_047559.1\t34836\t.\tC\tT\t1000\tPASS\tDP=9;ADF=0,0;ADR=0,9;AD=0,9;\tGT:DP:ADF:ADR:AD:BSD:BSQ:ALFR\t0/1:9:0,0:0,9:0,9:0,0,25,0,0,9,0,0:0,0,37,0,0,37,0,0:0.000,1.000\n",
      "NC_047559.1\t36674\t.\tC\tT\t1000\tPASS\tDP=13;ADF=0,0;ADR=0,13;AD=0,13;\tGT:DP:ADF:ADR:AD:BSD:BSQ:ALFR\t0/1:13:0,0:0,13:0,13:0,0,36,0,0,13,0,0:0,0,36,0,0,37,0,0:0.000,1.000\n",
      "NC_047559.1\t49472\t.\tC\tT\t4\tLow\tDP=1;ADF=0,0;ADR=0,1;AD=0,1;\tGT:DP:ADF:ADR:AD:BSD:BSQ:ALFR\t1/1:1:0,0:0,1:0,1:0,0,0,0,0,1,0,0:0,0,0,0,0,37,0,0:0.000,1.000\n",
      "NC_047559.1\t100045\t.\tC\tT\t105\tLow\tDP=4;ADF=0,0;ADR=0,4;AD=0,4;\tGT:DP:ADF:ADR:AD:BSD:BSQ:ALFR\t0/1:4:0,0:0,4:0,4:0,0,3,0,0,4,0,0:0,0,37,0,0,37,0,0:0.000,1.000\n",
      "NC_047559.1\t100873\t.\tC\tT\t100\tPASS\tDP=6;ADF=0,0;ADR=0,6;AD=0,6;\tGT:DP:ADF:ADR:AD:BSD:BSQ:ALFR\t0/1:6:0,0:0,6:0,6:0,0,3,0,0,6,0,0:0,0,37,0,0,37,0,0:0.000,1.000\n",
      "NC_047559.1\t125852\t.\tC\tT\t80\tPASS\tDP=16;ADF=0,0;ADR=12,4;AD=12,4;\tGT:DP:ADF:ADR:AD:BSD:BSQ:ALFR\t0/1:16:0,0:12,4:12,4:0,0,2,0,0,4,12,0:0,0,37,0,0,37,36,0:0.750,0.250\n",
      "NC_047559.1\t149250\t.\tC\tT\t4\tLow\tDP=1;ADF=0,0;ADR=0,1;AD=0,1;\tGT:DP:ADF:ADR:AD:BSD:BSQ:ALFR\t1/1:1:0,0:0,1:0,1:0,0,0,0,0,1,0,0:0,0,0,0,0,37,0,0:0.000,1.000\n",
      "NC_047559.1\t199691\t.\tC\tT\t4\tLow\tDP=1;ADF=0,0;ADR=0,1;AD=0,1;\tGT:DP:ADF:ADR:AD:BSD:BSQ:ALFR\t1/1:1:0,0:0,1:0,1:0,0,0,0,0,1,0,0:0,0,0,0,0,37,0,0:0.000,1.000\n",
      "NC_047559.1\t211764\t.\tC\tT\t1000\tPASS\tDP=21;ADF=0,0;ADR=0,21;AD=0,21;\tGT:DP:ADF:ADR:AD:BSD:BSQ:ALFR\t0/1:21:0,0:0,21:0,21:0,0,6,0,0,21,0,0:0,0,35,0,0,37,0,0:0.000,1.000\n",
      "NC_047559.1\t219244\t.\tC\tT\t26\tPASS\tDP=5;ADF=0,0;ADR=0,5;AD=0,5;\tGT:DP:ADF:ADR:AD:BSD:BSQ:ALFR\t0/1:5:0,0:0,5:0,5:0,0,1,0,0,5,0,0:0,0,37,0,0,37,0,0:0.000,1.000\n",
      "\n",
      "==> zr3616_4_CT-SNPs.tab <==\n",
      "NC_047559.1\t77086\t.\tC\tT\t4\tLow\tDP=1;ADF=0,0;ADR=0,1;AD=0,1;\tGT:DP:ADF:ADR:AD:BSD:BSQ:ALFR\t1/1:1:0,0:0,1:0,1:0,0,0,0,0,1,0,0:0,0,0,0,0,37,0,0:0.000,1.000\n",
      "NC_047559.1\t211764\t.\tC\tT\t1000\tPASS\tDP=34;ADF=0,0;ADR=0,34;AD=0,34;\tGT:DP:ADF:ADR:AD:BSD:BSQ:ALFR\t0/1:34:0,0:0,34:0,34:0,0,8,0,0,34,0,0:0,0,37,0,0,37,0,0:0.000,1.000\n",
      "NC_047559.1\t222020\t.\tC\tT\t4\tLow\tDP=1;ADF=0,0;ADR=0,1;AD=0,1;\tGT:DP:ADF:ADR:AD:BSD:BSQ:ALFR\t1/1:1:0,0:0,1:0,1:0,0,0,0,0,1,0,0:0,0,0,0,0,37,0,0:0.000,1.000\n",
      "NC_047559.1\t353501\t.\tC\tT\t6\tLow\tDP=2;ADF=0,0;ADR=0,2;AD=0,2;\tGT:DP:ADF:ADR:AD:BSD:BSQ:ALFR\t1/1:2:0,0:0,2:0,2:0,0,0,0,0,2,0,0:0,0,0,0,0,31,0,0:0.000,1.000\n",
      "NC_047559.1\t357397\t.\tC\tT\t53\tPASS\tDP=9;ADF=0,0;ADR=0,9;AD=0,9;\tGT:DP:ADF:ADR:AD:BSD:BSQ:ALFR\t0/1:9:0,0:0,9:0,9:0,0,2,0,0,9,0,0:0,0,37,0,0,37,0,0:0.000,1.000\n",
      "NC_047559.1\t357948\t.\tC\tT\t1000\tPASS\tDP=13;ADF=0,0;ADR=0,13;AD=0,13;\tGT:DP:ADF:ADR:AD:BSD:BSQ:ALFR\t0/1:13:0,0:0,13:0,13:0,0,6,0,0,13,0,0:0,0,37,0,0,37,0,0:0.000,1.000\n",
      "NC_047559.1\t378466\t.\tC\tT\t1000\tPASS\tDP=36;ADF=0,0;ADR=0,36;AD=0,36;\tGT:DP:ADF:ADR:AD:BSD:BSQ:ALFR\t0/1:36:0,0:0,36:0,36:0,0,14,0,0,36,0,0:0,0,37,0,0,37,0,0:0.000,1.000\n",
      "NC_047559.1\t428033\t.\tC\tT\t68\tLow\tDP=4;ADF=0,0;ADR=0,4;AD=0,4;\tGT:DP:ADF:ADR:AD:BSD:BSQ:ALFR\t0/1:4:0,0:0,4:0,4:0,0,2,0,0,4,0,0:0,0,37,0,0,37,0,0:0.000,1.000\n",
      "NC_047559.1\t433155\t.\tC\tT\t77\tPASS\tDP=9;ADF=0,0;ADR=5,4;AD=5,4;\tGT:DP:ADF:ADR:AD:BSD:BSQ:ALFR\t0/1:9:0,0:5,4:5,4:0,0,10,0,0,4,5,0:0,0,37,0,0,37,37,0:0.556,0.444\n",
      "NC_047559.1\t469275\t.\tC\tT\t4\tLow\tDP=1;ADF=0,0;ADR=0,1;AD=0,1;\tGT:DP:ADF:ADR:AD:BSD:BSQ:ALFR\t1/1:1:0,0:0,1:0,1:0,0,0,0,0,1,0,0:0,0,0,0,0,37,0,0:0.000,1.000\n",
      "\n",
      "==> zr3616_5_CT-SNPs.tab <==\n",
      "NC_047559.1\t34836\t.\tC\tT\t1000\tPASS\tDP=9;ADF=0,0;ADR=0,9;AD=0,9;\tGT:DP:ADF:ADR:AD:BSD:BSQ:ALFR\t0/1:9:0,0:0,9:0,9:0,0,16,0,0,9,0,0:0,0,37,0,0,36,0,0:0.000,1.000\n",
      "NC_047559.1\t49333\t.\tC\tT\t6\tLow\tDP=2;ADF=0,0;ADR=0,2;AD=0,2;\tGT:DP:ADF:ADR:AD:BSD:BSQ:ALFR\t1/1:2:0,0:0,2:0,2:0,0,0,0,0,2,0,0:0,0,0,0,0,37,0,0:0.000,1.000\n",
      "NC_047559.1\t82690\t.\tC\tT\t1000\tPASS\tDP=31;ADF=0,0;ADR=2,29;AD=2,29;\tGT:DP:ADF:ADR:AD:BSD:BSQ:ALFR\t0/1:31:0,0:2,29:2,29:0,0,15,0,0,29,2,0:0,0,37,0,0,37,37,0:0.065,0.935\n",
      "NC_047559.1\t83012\t.\tC\tT\t130\tPASS\tDP=9;ADF=0,0;ADR=0,9;AD=0,9;\tGT:DP:ADF:ADR:AD:BSD:BSQ:ALFR\t0/1:9:0,0:0,9:0,9:0,0,4,0,0,9,0,0:0,0,34,0,0,37,0,0:0.000,1.000\n",
      "NC_047559.1\t87321\t.\tC\tT\t70\tLow\tDP=3;ADF=0,0;ADR=0,3;AD=0,3;\tGT:DP:ADF:ADR:AD:BSD:BSQ:ALFR\t0/1:3:0,0:0,3:0,3:0,0,2,0,0,3,0,0:0,0,37,0,0,37,0,0:0.000,1.000\n",
      "NC_047559.1\t210243\t.\tC\tT\t4\tLow\tDP=1;ADF=0,0;ADR=0,1;AD=0,1;\tGT:DP:ADF:ADR:AD:BSD:BSQ:ALFR\t1/1:1:0,0:0,1:0,1:0,0,0,0,0,1,0,0:0,0,0,0,0,37,0,0:0.000,1.000\n",
      "NC_047559.1\t211764\t.\tC\tT\t1000\tPASS\tDP=22;ADF=0,0;ADR=2,20;AD=2,20;\tGT:DP:ADF:ADR:AD:BSD:BSQ:ALFR\t0/1:22:0,0:2,20:2,20:0,0,15,0,0,20,2,0:0,0,37,0,0,36,37,0:0.091,0.909\n",
      "NC_047559.1\t223627\t.\tC\tT\t95\tPASS\tDP=10;ADF=0,0;ADR=6,4;AD=6,4;\tGT:DP:ADF:ADR:AD:BSD:BSQ:ALFR\t0/1:10:0,0:6,4:6,4:0,0,3,0,0,4,6,0:0,0,33,0,0,37,37,0:0.600,0.400\n",
      "NC_047559.1\t224536\t.\tC\tT\t4\tLow\tDP=1;ADF=0,0;ADR=0,1;AD=0,1;\tGT:DP:ADF:ADR:AD:BSD:BSQ:ALFR\t1/1:1:0,0:0,1:0,1:0,0,0,0,0,1,0,0:0,0,0,0,0,25,0,0:0.000,1.000\n",
      "NC_047559.1\t236983\t.\tC\tT\t6\tLow\tDP=2;ADF=0,0;ADR=0,2;AD=0,2;\tGT:DP:ADF:ADR:AD:BSD:BSQ:ALFR\t1/1:2:0,0:0,2:0,2:0,0,0,0,0,2,0,0:0,0,0,0,0,37,0,0:0.000,1.000\n",
      "\n",
      "==> zr3616_6_CT-SNPs.tab <==\n",
      "NC_047559.1\t211764\t.\tC\tT\t1000\tPASS\tDP=17;ADF=0,0;ADR=0,17;AD=0,17;\tGT:DP:ADF:ADR:AD:BSD:BSQ:ALFR\t0/1:17:0,0:0,17:0,17:0,0,13,0,0,17,0,0:0,0,37,0,0,37,0,0:0.000,1.000\n",
      "NC_047559.1\t222409\t.\tC\tT\t12\tLow\tDP=4;ADF=0,0;ADR=0,4;AD=0,4;\tGT:DP:ADF:ADR:AD:BSD:BSQ:ALFR\t1/1:4:0,0:0,4:0,4:0,0,0,0,0,4,0,0:0,0,0,0,0,37,0,0:0.000,1.000\n",
      "NC_047559.1\t245710\t.\tC\tT\t20\tPASS\tDP=7;ADF=0,0;ADR=0,7;AD=0,7;\tGT:DP:ADF:ADR:AD:BSD:BSQ:ALFR\t0/1:7:0,0:0,7:0,7:0,0,1,0,0,7,0,0:0,0,37,0,0,37,0,0:0.000,1.000\n",
      "NC_047559.1\t251061\t.\tC\tT\t4\tLow\tDP=1;ADF=0,0;ADR=0,1;AD=0,1;\tGT:DP:ADF:ADR:AD:BSD:BSQ:ALFR\t1/1:1:0,0:0,1:0,1:0,0,0,0,0,1,0,0:0,0,0,0,0,37,0,0:0.000,1.000\n",
      "NC_047559.1\t252351\t.\tC\tT\t36\tPASS\tDP=13;ADF=0,0;ADR=10,3;AD=10,3;\tGT:DP:ADF:ADR:AD:BSD:BSQ:ALFR\t0/1:13:0,0:10,3:10,3:0,0,6,0,0,3,10,0:0,0,37,0,0,37,37,0:0.769,0.231\n",
      "NC_047559.1\t261933\t.\tC\tT\t1000\tPASS\tDP=8;ADF=0,0;ADR=1,7;AD=1,7;\tGT:DP:ADF:ADR:AD:BSD:BSQ:ALFR\t0/1:8:0,0:1,7:1,7:0,0,6,0,0,7,1,0:0,0,37,0,0,37,37,0:0.125,0.875\n",
      "NC_047559.1\t267998\t.\tC\tT\t4\tLow\tDP=1;ADF=0,0;ADR=0,1;AD=0,1;\tGT:DP:ADF:ADR:AD:BSD:BSQ:ALFR\t1/1:1:0,0:0,1:0,1:0,0,0,0,0,1,0,0:0,0,0,0,0,25,0,0:0.000,1.000\n",
      "NC_047559.1\t268110\t.\tC\tT\t1000\tPASS\tDP=8;ADF=0,0;ADR=0,8;AD=0,8;\tGT:DP:ADF:ADR:AD:BSD:BSQ:ALFR\t0/1:8:0,0:0,8:0,8:0,0,14,0,0,8,0,0:0,0,37,0,0,37,0,0:0.000,1.000\n",
      "NC_047559.1\t268671\t.\tC\tT\t4\tLow\tDP=1;ADF=0,0;ADR=0,1;AD=0,1;\tGT:DP:ADF:ADR:AD:BSD:BSQ:ALFR\t1/1:1:0,0:0,1:0,1:0,0,0,0,0,1,0,0:0,0,0,0,0,37,0,0:0.000,1.000\n",
      "NC_047559.1\t287651\t.\tC\tT\t24\tLow\tDP=3;ADF=0,0;ADR=0,3;AD=0,3;\tGT:DP:ADF:ADR:AD:BSD:BSQ:ALFR\t0/1:3:0,0:0,3:0,3:0,0,20,0,0,3,0,0:0,0,37,0,0,33,0,0:0.000,1.000\n",
      "\n",
      "==> zr3616_7_CT-SNPs.tab <==\n",
      "NC_047559.1\t22959\t.\tC\tT\t4\tLow\tDP=1;ADF=0,0;ADR=0,1;AD=0,1;\tGT:DP:ADF:ADR:AD:BSD:BSQ:ALFR\t1/1:1:0,0:0,1:0,1:0,0,0,0,0,1,0,0:0,0,0,0,0,25,0,0:0.000,1.000\n",
      "NC_047559.1\t34836\t.\tC\tT\t1000\tPASS\tDP=13;ADF=0,0;ADR=0,13;AD=0,13;\tGT:DP:ADF:ADR:AD:BSD:BSQ:ALFR\t0/1:13:0,0:0,13:0,13:0,0,10,0,0,13,0,0:0,0,37,0,0,35,0,0:0.000,1.000\n",
      "NC_047559.1\t38038\t.\tC\tT\t92\tPASS\tDP=9;ADF=0,0;ADR=5,4;AD=5,4;\tGT:DP:ADF:ADR:AD:BSD:BSQ:ALFR\t0/1:9:0,0:5,4:5,4:0,0,5,0,0,4,5,0:0,0,37,0,0,37,37,0:0.556,0.444\n",
      "NC_047559.1\t211764\t.\tC\tT\t102\tPASS\tDP=17;ADF=0,0;ADR=0,17;AD=0,17;\tGT:DP:ADF:ADR:AD:BSD:BSQ:ALFR\t0/1:17:0,0:0,17:0,17:0,0,4,0,0,17,0,0:0,0,34,0,0,36,0,0:0.000,1.000\n",
      "NC_047559.1\t224774\t.\tC\tT\t105\tPASS\tDP=6;ADF=0,0;ADR=2,4;AD=2,4;\tGT:DP:ADF:ADR:AD:BSD:BSQ:ALFR\t0/1:6:0,0:2,4:2,4:0,0,1,0,0,4,2,0:0,0,37,0,0,37,37,0:0.333,0.667\n",
      "NC_047559.1\t249908\t.\tC\tT\t1000\tPASS\tDP=8;ADF=0,0;ADR=0,8;AD=0,8;\tGT:DP:ADF:ADR:AD:BSD:BSQ:ALFR\t0/1:8:0,0:0,8:0,8:0,0,6,0,0,8,0,0:0,0,37,0,0,37,0,0:0.000,1.000\n",
      "NC_047559.1\t250602\t.\tC\tT\t4\tLow\tDP=1;ADF=0,0;ADR=0,1;AD=0,1;\tGT:DP:ADF:ADR:AD:BSD:BSQ:ALFR\t1/1:1:0,0:0,1:0,1:0,0,0,0,0,1,0,0:0,0,0,0,0,37,0,0:0.000,1.000\n",
      "NC_047559.1\t251061\t.\tC\tT\t4\tLow\tDP=1;ADF=0,0;ADR=0,1;AD=0,1;\tGT:DP:ADF:ADR:AD:BSD:BSQ:ALFR\t1/1:1:0,0:0,1:0,1:0,0,0,0,0,1,0,0:0,0,0,0,0,37,0,0:0.000,1.000\n",
      "NC_047559.1\t356833\t.\tC\tT\t141\tPASS\tDP=5;ADF=0,0;ADR=0,5;AD=0,5;\tGT:DP:ADF:ADR:AD:BSD:BSQ:ALFR\t0/1:5:0,0:0,5:0,5:0,0,4,0,0,5,0,0:0,0,37,0,0,37,0,0:0.000,1.000\n",
      "NC_047559.1\t357397\t.\tC\tT\t9\tPASS\tDP=11;ADF=0,0;ADR=0,11;AD=0,11;\tGT:DP:ADF:ADR:AD:BSD:BSQ:ALFR\t0/1:11:0,0:0,11:0,11:0,0,1,0,0,11,0,0:0,0,37,0,0,37,0,0:0.000,1.000\n",
      "\n",
      "==> zr3616_8_CT-SNPs.tab <==\n",
      "NC_047559.1\t36674\t.\tC\tT\t59\tLow\tDP=4;ADF=0,0;ADR=0,4;AD=0,4;\tGT:DP:ADF:ADR:AD:BSD:BSQ:ALFR\t0/1:4:0,0:0,4:0,4:0,0,21,0,0,4,0,0:0,0,37,0,0,37,0,0:0.000,1.000\n",
      "NC_047559.1\t42691\t.\tC\tT\t6\tLow\tDP=2;ADF=0,0;ADR=0,2;AD=0,2;\tGT:DP:ADF:ADR:AD:BSD:BSQ:ALFR\t1/1:2:0,0:0,2:0,2:0,0,0,0,0,2,0,0:0,0,0,0,0,37,0,0:0.000,1.000\n",
      "NC_047559.1\t44211\t.\tC\tT\t12\tLow\tDP=4;ADF=0,0;ADR=0,4;AD=0,4;\tGT:DP:ADF:ADR:AD:BSD:BSQ:ALFR\t1/1:4:0,0:0,4:0,4:0,0,0,0,0,4,0,0:0,0,0,0,0,37,0,0:0.000,1.000\n",
      "NC_047559.1\t82690\t.\tC\tT\t112\tPASS\tDP=15;ADF=0,0;ADR=0,15;AD=0,15;\tGT:DP:ADF:ADR:AD:BSD:BSQ:ALFR\t0/1:15:0,0:0,15:0,15:0,0,4,0,0,15,0,0:0,0,37,0,0,37,0,0:0.000,1.000\n",
      "NC_047559.1\t83012\t.\tC\tT\t45\tPASS\tDP=15;ADF=0,0;ADR=0,15;AD=0,15;\tGT:DP:ADF:ADR:AD:BSD:BSQ:ALFR\t1/1:15:0,0:0,15:0,15:0,0,0,0,0,15,0,0:0,0,0,0,0,37,0,0:0.000,1.000\n",
      "NC_047559.1\t87321\t.\tC\tT\t24\tPASS\tDP=8;ADF=0,0;ADR=0,8;AD=0,8;\tGT:DP:ADF:ADR:AD:BSD:BSQ:ALFR\t1/1:8:0,0:0,8:0,8:0,0,0,0,0,8,0,0:0,0,0,0,0,37,0,0:0.000,1.000\n",
      "NC_047559.1\t121206\t.\tC\tT\t18\tPASS\tDP=6;ADF=0,0;ADR=0,6;AD=0,6;\tGT:DP:ADF:ADR:AD:BSD:BSQ:ALFR\t1/1:6:0,0:0,6:0,6:0,0,0,0,0,6,0,0:0,0,0,0,0,37,0,0:0.000,1.000\n",
      "NC_047559.1\t188398\t.\tC\tT\t4\tLow\tDP=1;ADF=0,0;ADR=0,1;AD=0,1;\tGT:DP:ADF:ADR:AD:BSD:BSQ:ALFR\t1/1:1:0,0:0,1:0,1:0,0,0,0,0,1,0,0:0,0,0,0,0,37,0,0:0.000,1.000\n",
      "NC_047559.1\t224356\t.\tC\tT\t4\tLow\tDP=1;ADF=0,0;ADR=0,1;AD=0,1;\tGT:DP:ADF:ADR:AD:BSD:BSQ:ALFR\t1/1:1:0,0:0,1:0,1:0,0,0,0,0,1,0,0:0,0,0,0,0,37,0,0:0.000,1.000\n",
      "NC_047559.1\t252976\t.\tC\tT\t6\tLow\tDP=2;ADF=0,0;ADR=0,2;AD=0,2;\tGT:DP:ADF:ADR:AD:BSD:BSQ:ALFR\t1/1:2:0,0:0,2:0,2:0,0,0,0,0,2,0,0:0,0,0,0,0,37,0,0:0.000,1.000\n",
      "   69845 zr3616_1_CT-SNPs.tab\n",
      "   70244 zr3616_2_CT-SNPs.tab\n",
      "   72064 zr3616_3_CT-SNPs.tab\n",
      "   73664 zr3616_4_CT-SNPs.tab\n",
      "   66965 zr3616_5_CT-SNPs.tab\n",
      "   72123 zr3616_6_CT-SNPs.tab\n",
      "   68856 zr3616_7_CT-SNPs.tab\n",
      "   69695 zr3616_8_CT-SNPs.tab\n",
      "  563456 total\n"
     ]
    }
   ],
   "source": [
    "!head zr3616*CT-SNPs.tab\n",
    "!wc -l zr3616*CT-SNPs.tab"
   ]
  },
  {
   "cell_type": "markdown",
   "metadata": {
    "collapsed": true
   },
   "source": [
    "### 2c. Unique SNPs"
   ]
  },
  {
   "cell_type": "code",
   "execution_count": 5,
   "metadata": {
    "collapsed": false
   },
   "outputs": [
    {
     "name": "stdout",
     "output_type": "stream",
     "text": [
      "SNP-results.vcf\r\n",
      "zr3616_1_R1_val_1_val_1_val_1_bismark_bt2_pe.SNP-results.vcf\r\n",
      "zr3616_2_R1_val_1_val_1_val_1_bismark_bt2_pe.SNP-results.vcf\r\n",
      "zr3616_3_R1_val_1_val_1_val_1_bismark_bt2_pe.SNP-results.vcf\r\n",
      "zr3616_4_R1_val_1_val_1_val_1_bismark_bt2_pe.SNP-results.vcf\r\n",
      "zr3616_5_R1_val_1_val_1_val_1_bismark_bt2_pe.SNP-results.vcf\r\n",
      "zr3616_6_R1_val_1_val_1_val_1_bismark_bt2_pe.SNP-results.vcf\r\n",
      "zr3616_7_R1_val_1_val_1_val_1_bismark_bt2_pe.SNP-results.vcf\r\n",
      "zr3616_8_R1_val_1_val_1_val_1_bismark_bt2_pe.SNP-results.vcf\r\n"
     ]
    }
   ],
   "source": [
    "!find *.vcf"
   ]
  },
  {
   "cell_type": "code",
   "execution_count": 16,
   "metadata": {
    "collapsed": false
   },
   "outputs": [
    {
     "name": "stdout",
     "output_type": "stream",
     "text": [
      "##fileformat=VCFv4.3\r\n",
      "##fileDate= 20210407\r\n",
      "##bssnperVersion=1.1\r\n",
      "##bssnperCommand=--fa /Volumes/web/spartina/project-oyster-oa/data/Cg-roslin/cgigas_uk_roslin_v1_genomic-mito.fa   --input zr3616_1_R1_val_1_val_1_val_1_bismark_bt2_pe.deduplicated.sorted.bam --output zr3616_1_R1_val_1_val_1_val_1_bismark_bt2_pe.SNP-candidates.txt --methcg zr3616_1_R1_val_1_val_1_val_1_bismark_bt2_pe.CpG-meth-info.tab --methchg zr3616_1_R1_val_1_val_1_val_1_bismark_bt2_pe.CHG-meth-info.tab --methchh zr3616_1_R1_val_1_val_1_val_1_bismark_bt2_pe.CHH-meth-info.tab --minhetfreq  0.1 --minhomfreq  0.85 --minquali 15 --mincover 5 --maxcover 1000 --minread2 2 --errorate 0.02 --mapvalue 20\r\n",
      "##reference=file:///Volumes/web/spartina/project-oyster-oa/data/Cg-roslin/cgigas_uk_roslin_v1_genomic-mito.fa\r\n",
      "##Bisulfite=directional>\r\n",
      "##contig=<ID=NC_047559.1,length=55785328>\r\n",
      "##contig=<ID=NC_047560.1,length=73222313>\r\n",
      "##contig=<ID=NC_047561.1,length=58319100>\r\n",
      "##contig=<ID=NC_047562.1,length=53127865>\r\n",
      "##contig=<ID=NC_047563.1,length=73550375>\r",
      "\r\n",
      "##contig=<ID=NC_047564.1,length=60151564>\r\n",
      "##contig=<ID=NC_047565.1,length=62107823>\r\n",
      "##contig=<ID=NC_047566.1,length=58462999>\r\n",
      "##contig=<ID=NC_047567.1,length=37089910>\r\n",
      "##contig=<ID=NC_047568.1,length=57541580>\r\n",
      "##contig=<ID=NW_022994773.1,length=129571>\r\n",
      "##contig=<ID=NW_022994774.1,length=1185781>\r\n",
      "##contig=<ID=NW_022994775.1,length=128451>\r\n",
      "##contig=<ID=NW_022994776.1,length=124569>\r\n",
      "##contig=<ID=NW_022994777.1,length=123505>\r\n",
      "##contig=<ID=NW_022994778.1,length=761972>\r\n",
      "##contig=<ID=NW_022994779.1,length=111600>\r\n",
      "##contig=<ID=NW_022994780.1,length=109880>\r\n",
      "##contig=<ID=NW_022994781.1,length=109004>\r\n",
      "##contig=<ID=NW_022994782.1,length=105193>\r\n",
      "##contig=<ID=NW_022994783.1,length=103107>\r\n",
      "##contig=<ID=NW_022994784.1,length=1334230>\r\n",
      "##contig=<ID=NW_022994785.1,length=99559>\r\n",
      "##contig=<ID=NW_022994786.1,length=93417>\r\n",
      "##contig=<ID=NW_022994787.1,length=85616>\r\n",
      "##contig=<ID=NW_022994788.1,length=84435>\r\n",
      "##contig=<ID=NW_022994789.1,length=725421>\r\n",
      "##contig=<ID=NW_022994790.1,length=78344>\r\n",
      "##contig=<ID=NW_022994791.1,length=77172>\r\n",
      "##contig=<ID=NW_022994792.1,length=66789>\r\n",
      "##contig=<ID=NW_022994793.1,length=66084>\r\n",
      "##contig=<ID=NW_022994794.1,length=699037>\r\n",
      "##contig=<ID=NW_022994795.1,length=63125>\r\n",
      "##contig=<ID=NW_022994796.1,length=62774>\r\n",
      "##contig=<ID=NW_022994797.1,length=60186>\r\n",
      "##contig=<ID=NW_022994798.1,length=59881>\r\n",
      "##contig=<ID=NW_022994799.1,length=680695>\r\n",
      "##contig=<ID=NW_022994800.1,length=57426>\r\n",
      "##contig=<ID=NW_022994801.1,length=56398>\r\n",
      "##contig=<ID=NW_022994802.1,length=52255>\r\n",
      "##contig=<ID=NW_022994803.1,length=47562>\r\n",
      "##contig=<ID=NW_022994804.1,length=45312>\r\n",
      "##contig=<ID=NW_022994805.1,length=654836>\r\n",
      "##contig=<ID=NW_022994806.1,length=34204>\r\n",
      "##contig=<ID=NW_022994807.1,length=33063>\r\n",
      "##contig=<ID=NW_022994808.1,length=32339>\r\n",
      "##contig=<ID=NW_022994809.1,length=621026>\r\n",
      "##contig=<ID=NW_022994810.1,length=30983>\r\n",
      "##contig=<ID=NW_022994811.1,length=28060>\r\n",
      "##contig=<ID=NW_022994812.1,length=26205>\r\n",
      "##contig=<ID=NW_022994813.1,length=609159>\r\n",
      "##contig=<ID=NW_022994814.1,length=18830>\r\n",
      "##contig=<ID=NW_022994815.1,length=549086>\r\n",
      "##contig=<ID=NW_022994816.1,length=985078>\r\n",
      "##contig=<ID=NW_022994817.1,length=2254>\r\n",
      "##contig=<ID=NW_022994818.1,length=1361>\r\n",
      "##contig=<ID=NW_022994819.1,length=734241>\r\n",
      "##contig=<ID=NW_022994820.1,length=658371>\r\n",
      "##contig=<ID=NW_022994821.1,length=546250>\r\n",
      "##contig=<ID=NW_022994822.1,length=614137>\r\n",
      "##contig=<ID=NW_022994823.1,length=196267>\r\n",
      "##contig=<ID=NW_022994824.1,length=461872>\r\n",
      "##contig=<ID=NW_022994825.1,length=345626>\r\n",
      "##contig=<ID=NW_022994826.1,length=153136>\r\n",
      "##contig=<ID=NW_022994827.1,length=85676>\r\n",
      "##contig=<ID=NW_022994828.1,length=316174>\r\n",
      "##contig=<ID=NW_022994829.1,length=476514>\r\n",
      "##contig=<ID=NW_022994830.1,length=534456>\r\n",
      "##contig=<ID=NW_022994831.1,length=527944>\r\n",
      "##contig=<ID=NW_022994832.1,length=513312>\r\n",
      "##contig=<ID=NW_022994833.1,length=507370>\r\n",
      "##contig=<ID=NW_022994834.1,length=496827>\r\n",
      "##contig=<ID=NW_022994835.1,length=482992>\r\n",
      "##contig=<ID=NW_022994836.1,length=471557>\r\n",
      "##contig=<ID=NW_022994837.1,length=686402>\r\n",
      "##contig=<ID=NW_022994838.1,length=445523>\r\n",
      "##contig=<ID=NW_022994839.1,length=505355>\r\n",
      "##contig=<ID=NW_022994840.1,length=408464>\r\n",
      "##contig=<ID=NW_022994841.1,length=392916>\r\n",
      "##contig=<ID=NW_022994842.1,length=346530>\r\n",
      "##contig=<ID=NW_022994843.1,length=346498>\r\n",
      "##contig=<ID=NW_022994844.1,length=984115>\r\n",
      "##contig=<ID=NW_022994845.1,length=334217>\r\n",
      "##contig=<ID=NW_022994846.1,length=330898>\r\n",
      "##contig=<ID=NW_022994847.1,length=310459>\r\n",
      "##contig=<ID=NW_022994848.1,length=975996>\r\n",
      "##contig=<ID=NW_022994849.1,length=299473>\r\n",
      "##contig=<ID=NW_022994850.1,length=724080>\r\n",
      "##contig=<ID=NW_022994851.1,length=284019>\r\n",
      "##contig=<ID=NW_022994852.1,length=380988>\r\n",
      "##contig=<ID=NW_022994853.1,length=271986>\r\n",
      "##contig=<ID=NW_022994854.1,length=271335>\r\n",
      "##contig=<ID=NW_022994855.1,length=270660>\r\n",
      "##contig=<ID=NW_022994856.1,length=269814>\r\n",
      "##contig=<ID=NW_022994857.1,length=255287>\r\n",
      "##contig=<ID=NW_022994858.1,length=250265>\r\n",
      "##contig=<ID=NW_022994859.1,length=249553>\r\n",
      "##contig=<ID=NW_022994860.1,length=243901>\r\n",
      "##contig=<ID=NW_022994861.1,length=243737>\r\n",
      "##contig=<ID=NW_022994862.1,length=230837>\r\n",
      "##contig=<ID=NW_022994863.1,length=896916>\r\n",
      "##contig=<ID=NW_022994864.1,length=230075>\r\n",
      "##contig=<ID=NW_022994865.1,length=3851109>\r\n",
      "##contig=<ID=NW_022994866.1,length=222500>\r\n",
      "##contig=<ID=NW_022994867.1,length=221461>\r\n",
      "##contig=<ID=NW_022994868.1,length=214429>\r\n",
      "##contig=<ID=NW_022994869.1,length=208222>\r\n",
      "##contig=<ID=NW_022994870.1,length=984156>\r\n",
      "##contig=<ID=NW_022994871.1,length=303113>\r\n",
      "##contig=<ID=NW_022994872.1,length=195767>\r\n",
      "##contig=<ID=NW_022994873.1,length=192086>\r\n",
      "##contig=<ID=NW_022994874.1,length=189815>\r\n",
      "##contig=<ID=NW_022994875.1,length=180076>\r\n",
      "##contig=<ID=NW_022994876.1,length=178302>\r\n",
      "##contig=<ID=NW_022994877.1,length=371905>\r\n",
      "##contig=<ID=NW_022994878.1,length=173440>\r\n",
      "##contig=<ID=NW_022994879.1,length=171659>\r\n",
      "##contig=<ID=NW_022994880.1,length=169219>\r\n",
      "##contig=<ID=NW_022994881.1,length=520634>\r\n",
      "##contig=<ID=NW_022994882.1,length=167015>\r\n",
      "##contig=<ID=NW_022994883.1,length=166538>\r\n",
      "##contig=<ID=NW_022994884.1,length=165345>\r\n",
      "##contig=<ID=NW_022994885.1,length=161001>\r\n",
      "##contig=<ID=NW_022994886.1,length=803096>\r\n",
      "##contig=<ID=NW_022994887.1,length=153941>\r\n",
      "##contig=<ID=NW_022994888.1,length=153236>\r\n",
      "##contig=<ID=NW_022994889.1,length=151090>\r\n",
      "##contig=<ID=NW_022994890.1,length=226113>\r\n",
      "##contig=<ID=NW_022994891.1,length=142569>\r\n",
      "##contig=<ID=NW_022994892.1,length=139519>\r\n",
      "##contig=<ID=NW_022994893.1,length=137056>\r\n",
      "##contig=<ID=NW_022994894.1,length=135750>\r\n",
      "##contig=<ID=NW_022994895.1,length=800838>\r\n",
      "##contig=<ID=NW_022994896.1,length=123475>\r\n",
      "##contig=<ID=NW_022994897.1,length=543823>\r\n",
      "##contig=<ID=NW_022994898.1,length=63957>\r\n",
      "##contig=<ID=NW_022994899.1,length=135656>\r\n",
      "##contig=<ID=NW_022994900.1,length=158606>\r\n",
      "##contig=<ID=NW_022994901.1,length=138885>\r\n",
      "##contig=<ID=NW_022994902.1,length=213710>\r\n",
      "##contig=<ID=NW_022994903.1,length=31917>\r\n",
      "##contig=<ID=NW_022994904.1,length=192304>\r\n",
      "##contig=<ID=NW_022994905.1,length=122499>\r\n",
      "##contig=<ID=NW_022994906.1,length=24192>\r\n",
      "##contig=<ID=NW_022994907.1,length=80452>\r\n",
      "##contig=<ID=NW_022994908.1,length=34710>\r\n",
      "##contig=<ID=NW_022994909.1,length=80340>\r\n",
      "##contig=<ID=NW_022994910.1,length=59023>\r\n",
      "##contig=<ID=NW_022994911.1,length=90223>\r\n",
      "##contig=<ID=NW_022994912.1,length=80828>\r\n",
      "##contig=<ID=NW_022994913.1,length=18545>\r\n",
      "##contig=<ID=NW_022994914.1,length=79317>\r\n",
      "##contig=<ID=NW_022994915.1,length=76490>\r\n",
      "##contig=<ID=NW_022994916.1,length=77779>\r\n",
      "##contig=<ID=NW_022994917.1,length=39112>\r\n",
      "##contig=<ID=NW_022994918.1,length=404750>\r\n",
      "##contig=<ID=NW_022994919.1,length=196227>\r\n",
      "##contig=<ID=NW_022994920.1,length=39174>\r\n",
      "##contig=<ID=NW_022994921.1,length=323512>\r\n",
      "##contig=<ID=NW_022994922.1,length=83186>\r\n",
      "##contig=<ID=NW_022994923.1,length=61906>\r\n",
      "##contig=<ID=NW_022994924.1,length=127844>\r\n",
      "##contig=<ID=NW_022994925.1,length=61549>\r\n",
      "##contig=<ID=NW_022994926.1,length=81940>\r\n",
      "##contig=<ID=NW_022994927.1,length=162546>\r\n",
      "##contig=<ID=NW_022994928.1,length=69385>\r\n",
      "##contig=<ID=NW_022994929.1,length=46878>\r\n",
      "##contig=<ID=NW_022994930.1,length=145484>\r\n",
      "##contig=<ID=NW_022994931.1,length=118323>\r\n",
      "##contig=<ID=NW_022994932.1,length=123881>\r\n",
      "##contig=<ID=NW_022994933.1,length=29995>\r\n",
      "##contig=<ID=NW_022994934.1,length=161585>\r\n",
      "##contig=<ID=NW_022994935.1,length=43805>\r\n",
      "##contig=<ID=NW_022994936.1,length=297039>\r\n",
      "##contig=<ID=NW_022994937.1,length=490709>\r\n",
      "##contig=<ID=NW_022994938.1,length=203969>\r\n",
      "##contig=<ID=NW_022994939.1,length=324655>\r\n",
      "##contig=<ID=NW_022994940.1,length=218172>\r\n",
      "##contig=<ID=NW_022994941.1,length=19044>\r\n",
      "##contig=<ID=NW_022994942.1,length=61061>\r\n",
      "##contig=<ID=NW_022994943.1,length=289459>\r\n",
      "##contig=<ID=NW_022994944.1,length=261312>\r\n",
      "##contig=<ID=NW_022994945.1,length=625727>\r\n",
      "##contig=<ID=NW_022994946.1,length=333635>\r\n",
      "##contig=<ID=NW_022994947.1,length=135775>\r\n",
      "##contig=<ID=NW_022994948.1,length=858184>\r\n",
      "##contig=<ID=NW_022994949.1,length=121447>\r\n",
      "##contig=<ID=NW_022994950.1,length=33519>\r\n",
      "##contig=<ID=NW_022994951.1,length=187731>\r\n",
      "##contig=<ID=NW_022994952.1,length=219001>\r\n",
      "##contig=<ID=NW_022994953.1,length=45830>\r\n",
      "##contig=<ID=NW_022994954.1,length=129811>\r\n",
      "##contig=<ID=NW_022994955.1,length=365466>\r\n",
      "##contig=<ID=NW_022994956.1,length=433943>\r\n",
      "##contig=<ID=NW_022994957.1,length=201146>\r\n",
      "##contig=<ID=NW_022994958.1,length=172809>\r\n",
      "##contig=<ID=NW_022994959.1,length=64928>\r\n",
      "##contig=<ID=NW_022994960.1,length=137501>\r\n",
      "##contig=<ID=NW_022994961.1,length=155459>\r\n",
      "##contig=<ID=NW_022994962.1,length=175997>\r\n",
      "##contig=<ID=NW_022994963.1,length=286963>\r\n",
      "##contig=<ID=NW_022994964.1,length=245988>\r\n",
      "##contig=<ID=NW_022994965.1,length=30682>\r\n",
      "##contig=<ID=NW_022994966.1,length=514743>\r\n",
      "##contig=<ID=NW_022994967.1,length=56505>\r\n",
      "##contig=<ID=NW_022994968.1,length=91994>\r\n",
      "##contig=<ID=NW_022994969.1,length=256332>\r\n",
      "##contig=<ID=NW_022994970.1,length=36429>\r\n",
      "##contig=<ID=NW_022994971.1,length=30384>\r\n",
      "##contig=<ID=NW_022994972.1,length=189740>\r\n",
      "##contig=<ID=NW_022994973.1,length=66576>\r\n",
      "##contig=<ID=NW_022994974.1,length=36592>\r\n",
      "##contig=<ID=NW_022994975.1,length=74180>\r\n",
      "##contig=<ID=NW_022994976.1,length=30109>\r\n",
      "##contig=<ID=NW_022994977.1,length=141708>\r\n",
      "##contig=<ID=NW_022994978.1,length=113692>\r\n",
      "##contig=<ID=NW_022994979.1,length=83790>\r\n",
      "##contig=<ID=NW_022994980.1,length=6557>\r\n",
      "##contig=<ID=NW_022994981.1,length=62922>\r\n",
      "##contig=<ID=NW_022994982.1,length=153818>\r\n",
      "##contig=<ID=NW_022994983.1,length=79855>\r\n",
      "##contig=<ID=NW_022994984.1,length=42847>\r\n",
      "##contig=<ID=NW_022994985.1,length=190097>\r\n",
      "##contig=<ID=NW_022994986.1,length=135148>\r\n",
      "##contig=<ID=NW_022994987.1,length=316463>\r\n",
      "##contig=<ID=NW_022994988.1,length=28442>\r\n",
      "##contig=<ID=NW_022994989.1,length=147472>\r\n",
      "##contig=<ID=NW_022994990.1,length=30511>\r\n",
      "##contig=<ID=NW_022994991.1,length=237136>\r\n",
      "##contig=<ID=NW_022994992.1,length=107548>\r\n",
      "##contig=<ID=NW_022994993.1,length=225226>\r\n",
      "##contig=<ID=NW_022994994.1,length=24264>\r\n",
      "##contig=<ID=NW_022994995.1,length=63071>\r\n",
      "##contig=<ID=NW_022994996.1,length=98197>\r\n",
      "##contig=<ID=NW_022994997.1,length=297219>\r\n",
      "##contig=<ID=NW_022994998.1,length=55042>\r\n",
      "##contig=<ID=NC_001276.1,length=18224>\r\n",
      "##ALT=<ID=*,Description=\"Represents allele(s) other than observed.\">\r\n",
      "##INFO=<ID=INDEL,Number=0,Type=Flag,Description=\"Indicates that the variant is an INDEL.\">\r\n",
      "##INFO=<ID=IDV,Number=1,Type=Integer,Description=\"Maximum number of reads supporting an indel\">\r\n",
      "##INFO=<ID=IMF,Number=1,Type=Float,Description=\"Maximum fraction of reads supporting an indel\">\r\n",
      "##INFO=<ID=DP,Number=1,Type=Integer,Description=\"Raw read depth\">\r\n",
      "##INFO=<ID=AD,Number=R,Type=Integer,Description=\"Total allelic depths\">\r\n",
      "##INFO=<ID=ADF,Number=R,Type=Integer,Description=\"Total allelic depths on the forward strand\">\r\n",
      "##INFO=<ID=ADR,Number=R,Type=Integer,Description=\"Total allelic depths on the reverse strand\">\r\n",
      "##INFO=<ID=MQ0F,Number=1,Type=Float,Description=\"Fraction of MQ0 reads (smaller is better)\">\r\n",
      "##FILTER=<ID=Low,Description=\"Low Quality\">\r\n",
      "##FORMAT=<ID=GT,Number=1,Type=String,Description=\"Genotype\">\r\n",
      "##INFO=<ID=AC,Number=A,Type=Integer,Description=\"Allele count in genotypes for each ALT allele, in the same order as listed\">\r\n",
      "##INFO=<ID=AN,Number=1,Type=Integer,Description=\"Total number of alleles in called genotypes\">\r\n",
      "##INFO=<ID=DP4,Number=4,Type=Integer,Description=\"Number of high-quality ref-forward , ref-reverse, alt-forward and alt-reverse bases\">\r\n",
      "##INFO=<ID=MQ,Number=1,Type=Integer,Description=\"Average mapping quality\">\r\n",
      "##FORMAT=<ID=PL,Number=G,Type=Integer,Description=\"List of Phred-scaled genotype likelihoods\">\r\n",
      "##FORMAT=<ID=DP,Number=1,Type=Integer,Description=\"Number of high-quality bases\">\r\n",
      "##FORMAT=<ID=SP,Number=1,Type=Integer,Description=\"Phred-scaled strand bias P-value\">\r\n",
      "##FORMAT=<ID=AD,Number=R,Type=Integer,Description=\"Allelic depths\">\r\n",
      "##FORMAT=<ID=ADF,Number=R,Type=Integer,Description=\"Allelic depths on the forward strand\">\r\n",
      "##FORMAT=<ID=ADR,Number=R,Type=Integer,Description=\"Allelic depths on the reverse strand\">\r\n",
      "##FORMAT=<ID=BSD,Number=8,Type=Integer,Description=\"Depth, ATCG in watson strand and crick strand\">\r\n",
      "##FORMAT=<ID=BSQ,Number=8,Type=Integer,Description=\"Avarage Base Quality, ATCG in watson strand and crick strand\">\r\n",
      "##FORMAT=<ID=ALFR,Number=R,Type=Float,Description=\"Allele frequency\">\r\n",
      "#CHROM\tPOS\tID\tREF\tALT\tQUAL\tFILTER\tINFO\tFORMAT\tzr3616_1_R1_val_1_val_1_val_1_bismark_bt2_pe.deduplicated.sorted.bam\r\n"
     ]
    }
   ],
   "source": [
    "#The VCF header/additional information comprises 268 lines (checked with multiple files)\n",
    "!head -n268 zr3616_1_R1_val_1_val_1_val_1_bismark_bt2_pe.SNP-results.vcf"
   ]
  },
  {
   "cell_type": "code",
   "execution_count": 23,
   "metadata": {
    "collapsed": false
   },
   "outputs": [],
   "source": [
    "%%bash \n",
    "\n",
    "for f in *vcf\n",
    "do\n",
    "    tail -n +269 ${f} > ${f}.tab\n",
    "done"
   ]
  },
  {
   "cell_type": "code",
   "execution_count": 24,
   "metadata": {
    "collapsed": false
   },
   "outputs": [
    {
     "name": "stdout",
     "output_type": "stream",
     "text": [
      "SNP-results.vcf.tab\r\n",
      "zr3616_1_R1_val_1_val_1_val_1_bismark_bt2_pe.SNP-results.vcf.tab\r\n",
      "zr3616_2_R1_val_1_val_1_val_1_bismark_bt2_pe.SNP-results.vcf.tab\r\n",
      "zr3616_3_R1_val_1_val_1_val_1_bismark_bt2_pe.SNP-results.vcf.tab\r\n",
      "zr3616_4_R1_val_1_val_1_val_1_bismark_bt2_pe.SNP-results.vcf.tab\r\n",
      "zr3616_5_R1_val_1_val_1_val_1_bismark_bt2_pe.SNP-results.vcf.tab\r\n",
      "zr3616_6_R1_val_1_val_1_val_1_bismark_bt2_pe.SNP-results.vcf.tab\r\n",
      "zr3616_7_R1_val_1_val_1_val_1_bismark_bt2_pe.SNP-results.vcf.tab\r\n",
      "zr3616_8_R1_val_1_val_1_val_1_bismark_bt2_pe.SNP-results.vcf.tab\r\n"
     ]
    }
   ],
   "source": [
    "!find *.vcf.tab"
   ]
  },
  {
   "cell_type": "code",
   "execution_count": 25,
   "metadata": {
    "collapsed": false,
    "scrolled": true
   },
   "outputs": [
    {
     "name": "stdout",
     "output_type": "stream",
     "text": [
      "NC_047559.1\t2313\t.\tG\tT\t12\tPASS\tDP=11;ADF=0,0;ADR=9,2;AD=9,2;\tGT:DP:ADF:ADR:AD:BSD:BSQ:ALFR\t0/1:11:0,0:9,2:9,2:0,0,0,0,0,2,0,9:0,0,0,0,0,37,0,37:0.818,0.182\n",
      "NC_047559.1\t4001\t.\tG\tC\t1000\tLow\tDP=66;ADF=2,0;ADR=44,20;AD=46,20;\tGT:DP:ADF:ADR:AD:BSD:BSQ:ALFR\t0/1:66:2,0:44,20:46,20:0,0,0,2,0,0,20,44:0,0,0,37,0,0,36,36:0.697,0.303\n",
      "NC_047559.1\t9833\t.\tG\tT\t9\tLow\tDP=3;ADF=0,2;ADR=0,1;AD=0,3;\tGT:DP:ADF:ADR:AD:BSD:BSQ:ALFR\t1/1:3:0,2:0,1:0,3:0,2,0,0,0,1,0,0:0,37,0,0,0,37,0,0:0.000,1.000\n",
      "NC_047559.1\t10022\t.\tC\tG\t4\tLow\tDP=1;ADF=0,1;ADR=0,0;AD=0,1;\tGT:DP:ADF:ADR:AD:BSD:BSQ:ALFR\t1/1:1:0,1:0,0:0,1:0,0,0,1,0,0,0,0:0,0,0,37,0,0,0,0:0.000,1.000\n",
      "NC_047559.1\t15494\t.\tG\tT\t16\tPASS\tDP=788;ADF=0,740;ADR=3,45;AD=3,785;\tGT:DP:ADF:ADR:AD:BSD:BSQ:ALFR\t1/1:788:0,740:3,45:3,785:0,740,0,0,0,45,0,3:0,37,0,0,0,37,0,37:0.004,0.996\n",
      "NC_047559.1\t15790\t.\tT\tA\t1000\tPASS\tDP=196;ADF=5,186;ADR=0,5;AD=5,191;\tGT:DP:ADF:ADR:AD:BSD:BSQ:ALFR\t1/1:196:5,186:0,5:5,191:186,5,0,0,5,0,0,0:37,37,0,0,35,0,0,0:0.026,0.974\n",
      "NC_047559.1\t16384\t.\tT\tG\t5\tPASS\tDP=15;ADF=7,2;ADR=6,0;AD=13,2;\tGT:DP:ADF:ADR:AD:BSD:BSQ:ALFR\t0/1:15:7,2:6,0:13,2:0,7,0,2,0,6,0,0:0,37,0,37,0,35,0,0:0.867,0.133\n",
      "NC_047559.1\t18106\t.\tA\tT\t1000\tPASS\tDP=27;ADF=0,0;ADR=19,8;AD=19,8;\tGT:DP:ADF:ADR:AD:BSD:BSQ:ALFR\t0/1:27:0,0:19,8:19,8:0,0,0,0,19,8,0,0:0,0,0,0,37,37,0,0:0.704,0.296\n",
      "NC_047559.1\t20990\t.\tC\tA\t4\tLow\tDP=1;ADF=0,1;ADR=0,0;AD=0,1;\tGT:DP:ADF:ADR:AD:BSD:BSQ:ALFR\t1/1:1:0,1:0,0:0,1:1,0,0,0,0,0,0,0:37,0,0,0,0,0,0,0:0.000,1.000\n",
      "NC_047559.1\t22443\t.\tC\tT\t4\tLow\tDP=1;ADF=0,0;ADR=0,1;AD=0,1;\tGT:DP:ADF:ADR:AD:BSD:BSQ:ALFR\t1/1:1:0,0:0,1:0,1:0,0,0,0,0,1,0,0:0,0,0,0,0,37,0,0:0.000,1.000\n",
      " 30537349 all-SNPs.tab\n"
     ]
    }
   ],
   "source": [
    "#Combine C/T SNPs into one file\n",
    "!cat *.vcf.tab >> all-SNPs.tab\n",
    "!head all-SNPs.tab\n",
    "!wc -l all-SNPs.tab"
   ]
  },
  {
   "cell_type": "code",
   "execution_count": 26,
   "metadata": {
    "collapsed": false,
    "scrolled": true
   },
   "outputs": [
    {
     "name": "stdout",
     "output_type": "stream",
     "text": [
      "NC_001276.1\t10299\t.\tA\tG\n",
      "NC_001276.1\t10412\t.\tG\tA\n",
      "NC_001276.1\t10452\t.\tG\tC\n",
      "NC_001276.1\t10656\t.\tT\tC\n",
      "NC_001276.1\t10761\t.\tG\tA\n",
      "NC_001276.1\t11236\t.\tA\tG\n",
      "NC_001276.1\t11789\t.\tT\tC\n",
      "NC_001276.1\t11837\t.\tC\tT\n",
      "NC_001276.1\t11843\t.\tG\tA\n",
      "NC_001276.1\t11852\t.\tT\tC\n",
      " 13234183 unique-SNPs.tab\n"
     ]
    }
   ],
   "source": [
    "#Take columns 1-5\n",
    "#Sort combined SNPs\n",
    "#Only keep unique SNPs\n",
    "!awk '{print $1\"\\t\"$2\"\\t\"$3\"\\t\"$4\"\\t\"$5}' all-SNPs.tab \\\n",
    "| sort \\\n",
    "| uniq \\\n",
    "> unique-SNPs.tab\n",
    "!head unique-SNPs.tab\n",
    "!wc -l unique-SNPs.tab"
   ]
  },
  {
   "cell_type": "markdown",
   "metadata": {
    "collapsed": true
   },
   "source": [
    "### 2d. Unique C/T SNPs"
   ]
  },
  {
   "cell_type": "code",
   "execution_count": 8,
   "metadata": {
    "collapsed": false
   },
   "outputs": [
    {
     "name": "stdout",
     "output_type": "stream",
     "text": [
      "CT-SNPs.tab\r\n",
      "zr3616_1_CT-SNPs.tab\r\n",
      "zr3616_2_CT-SNPs.tab\r\n",
      "zr3616_3_CT-SNPs.tab\r\n",
      "zr3616_4_CT-SNPs.tab\r\n",
      "zr3616_5_CT-SNPs.tab\r\n",
      "zr3616_6_CT-SNPs.tab\r\n",
      "zr3616_7_CT-SNPs.tab\r\n",
      "zr3616_8_CT-SNPs.tab\r\n"
     ]
    }
   ],
   "source": [
    "!find *CT-SNPs.tab"
   ]
  },
  {
   "cell_type": "code",
   "execution_count": 9,
   "metadata": {
    "collapsed": false
   },
   "outputs": [
    {
     "name": "stdout",
     "output_type": "stream",
     "text": [
      "NC_047559.1\t22443\t.\tC\tT\t4\tLow\tDP=1;ADF=0,0;ADR=0,1;AD=0,1;\tGT:DP:ADF:ADR:AD:BSD:BSQ:ALFR\t1/1:1:0,0:0,1:0,1:0,0,0,0,0,1,0,0:0,0,0,0,0,37,0,0:0.000,1.000\n",
      "NC_047559.1\t34836\t.\tC\tT\t1000\tPASS\tDP=39;ADF=0,0;ADR=0,39;AD=0,39;\tGT:DP:ADF:ADR:AD:BSD:BSQ:ALFR\t0/1:39:0,0:0,39:0,39:0,0,78,0,0,39,0,0:0,0,37,0,0,36,0,0:0.000,1.000\n",
      "NC_047559.1\t36674\t.\tC\tT\t1000\tPASS\tDP=43;ADF=0,0;ADR=21,22;AD=21,22;\tGT:DP:ADF:ADR:AD:BSD:BSQ:ALFR\t0/1:43:0,0:21,22:21,22:0,0,123,0,0,22,21,0:0,0,37,0,0,37,36,0:0.488,0.512\n",
      "NC_047559.1\t38038\t.\tC\tT\t1000\tPASS\tDP=43;ADF=0,0;ADR=30,13;AD=30,13;\tGT:DP:ADF:ADR:AD:BSD:BSQ:ALFR\t0/1:43:0,0:30,13:30,13:0,0,31,0,0,13,30,0:0,0,36,0,0,36,37,0:0.698,0.302\n",
      "NC_047559.1\t44211\t.\tC\tT\t29\tPASS\tDP=5;ADF=0,0;ADR=1,4;AD=1,4;\tGT:DP:ADF:ADR:AD:BSD:BSQ:ALFR\t0/1:5:0,0:1,4:1,4:0,0,0,0,0,4,1,0:0,0,0,0,0,37,37,0:0.200,0.800\n",
      "NC_047559.1\t48352\t.\tC\tT\t104\tPASS\tDP=5;ADF=0,0;ADR=0,5;AD=0,5;\tGT:DP:ADF:ADR:AD:BSD:BSQ:ALFR\t0/1:5:0,0:0,5:0,5:0,0,19,0,0,5,0,0:0,0,37,0,0,37,0,0:0.000,1.000\n",
      "NC_047559.1\t49472\t.\tC\tT\t1000\tPASS\tDP=10;ADF=0,0;ADR=1,9;AD=1,9;\tGT:DP:ADF:ADR:AD:BSD:BSQ:ALFR\t0/1:10:0,0:1,9:1,9:0,0,16,0,0,9,1,0:0,0,37,0,0,37,37,0:0.100,0.900\n",
      "NC_047559.1\t82690\t.\tC\tT\t1000\tPASS\tDP=53;ADF=0,0;ADR=2,51;AD=2,51;\tGT:DP:ADF:ADR:AD:BSD:BSQ:ALFR\t0/1:53:0,0:2,51:2,51:0,0,31,0,0,51,2,0:0,0,37,0,0,37,37,0:0.038,0.962\n",
      "NC_047559.1\t83012\t.\tC\tT\t132\tPASS\tDP=34;ADF=0,0;ADR=0,34;AD=0,34;\tGT:DP:ADF:ADR:AD:BSD:BSQ:ALFR\t0/1:34:0,0:0,34:0,34:0,0,6,0,0,34,0,0:0,0,35,0,0,37,0,0:0.000,1.000\n",
      "NC_047559.1\t87321\t.\tC\tT\t47\tPASS\tDP=11;ADF=0,0;ADR=0,11;AD=0,11;\tGT:DP:ADF:ADR:AD:BSD:BSQ:ALFR\t0/1:11:0,0:0,11:0,11:0,0,2,0,0,11,0,0:0,0,37,0,0,37,0,0:0.000,1.000\n",
      "  685762 all-CT-SNPs.tab\n"
     ]
    }
   ],
   "source": [
    "#Combine C/T SNPs into one file\n",
    "!cat *CT-SNPs.tab >> all-CT-SNPs.tab\n",
    "!head all-CT-SNPs.tab\n",
    "!wc -l all-CT-SNPs.tab"
   ]
  },
  {
   "cell_type": "code",
   "execution_count": 12,
   "metadata": {
    "collapsed": false,
    "scrolled": true
   },
   "outputs": [
    {
     "name": "stdout",
     "output_type": "stream",
     "text": [
      "NC_001276.1\t14669\t.\tC\tT\n",
      "NC_047559.1\t1000025\t.\tC\tT\n",
      "NC_047559.1\t10001065\t.\tC\tT\n",
      "NC_047559.1\t10001128\t.\tC\tT\n",
      "NC_047559.1\t10001236\t.\tC\tT\n",
      "NC_047559.1\t10003470\t.\tC\tT\n",
      "NC_047559.1\t10003475\t.\tC\tT\n",
      "NC_047559.1\t10004318\t.\tC\tT\n",
      "NC_047559.1\t100045\t.\tC\tT\n",
      "NC_047559.1\t10004558\t.\tC\tT\n",
      "  300278 unique-CT-SNPs.tab\n"
     ]
    }
   ],
   "source": [
    "#Take columns 1-5\n",
    "#Sort combined C/T SNPs\n",
    "#Only keep unique SNPs\n",
    "!awk '{print $1\"\\t\"$2\"\\t\"$3\"\\t\"$4\"\\t\"$5}' all-CT-SNPs.tab \\\n",
    "| sort \\\n",
    "| uniq \\\n",
    "> unique-CT-SNPs.tab\n",
    "!head unique-CT-SNPs.tab\n",
    "!wc -l unique-CT-SNPs.tab"
   ]
  },
  {
   "cell_type": "code",
   "execution_count": null,
   "metadata": {
    "collapsed": true
   },
   "outputs": [],
   "source": []
  }
 ],
 "metadata": {
  "anaconda-cloud": {},
  "kernelspec": {
   "display_name": "Python [conda root]",
   "language": "python",
   "name": "conda-root-py"
  },
  "language_info": {
   "codemirror_mode": {
    "name": "ipython",
    "version": 3
   },
   "file_extension": ".py",
   "mimetype": "text/x-python",
   "name": "python",
   "nbconvert_exporter": "python",
   "pygments_lexer": "ipython3",
   "version": "3.5.2"
  }
 },
 "nbformat": 4,
 "nbformat_minor": 1
}
