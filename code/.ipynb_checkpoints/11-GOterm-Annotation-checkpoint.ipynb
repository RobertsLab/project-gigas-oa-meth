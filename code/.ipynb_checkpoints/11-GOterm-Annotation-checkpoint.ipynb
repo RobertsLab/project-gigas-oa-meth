{
 "cells": [
  {
   "cell_type": "markdown",
   "metadata": {},
   "source": [
    "# GOterm Annotation"
   ]
  },
  {
   "cell_type": "markdown",
   "metadata": {},
   "source": [
    "In this notebook, I'll annotate the CpG background and DML lists from `methylKit` and `DSS` with GOterms. I will use these annotations for gene enrichment.\n",
    "\n",
    "1. Create master annotation table\n",
    "2. Match CpG background and DML lists with GOterms\n",
    "3. Modify lists for downstream gene enrichment"
   ]
  },
  {
   "cell_type": "markdown",
   "metadata": {},
   "source": [
    "## 0. Prepare to run script"
   ]
  },
  {
   "cell_type": "markdown",
   "metadata": {},
   "source": [
    "### 0a. Set working directory"
   ]
  },
  {
   "cell_type": "code",
   "execution_count": 1,
   "metadata": {
    "collapsed": false
   },
   "outputs": [
    {
     "data": {
      "text/plain": [
       "'/Users/yaamini/Documents/project-gigas-oa-meth/code'"
      ]
     },
     "execution_count": 1,
     "metadata": {},
     "output_type": "execute_result"
    }
   ],
   "source": [
    "pwd"
   ]
  },
  {
   "cell_type": "code",
   "execution_count": 3,
   "metadata": {
    "collapsed": false
   },
   "outputs": [
    {
     "name": "stdout",
     "output_type": "stream",
     "text": [
      "/Users/yaamini/Documents/project-gigas-oa-meth/output\n"
     ]
    }
   ],
   "source": [
    "cd ../output/"
   ]
  },
  {
   "cell_type": "code",
   "execution_count": 4,
   "metadata": {
    "collapsed": true
   },
   "outputs": [],
   "source": [
    "!mkdir 11-GOterm-annotation"
   ]
  },
  {
   "cell_type": "code",
   "execution_count": 5,
   "metadata": {
    "collapsed": false
   },
   "outputs": [
    {
     "name": "stdout",
     "output_type": "stream",
     "text": [
      "/Users/yaamini/Documents/project-gigas-oa-meth/output/11-GOterm-annotation\n"
     ]
    }
   ],
   "source": [
    "cd 11-GOterm-annotation/"
   ]
  },
  {
   "cell_type": "markdown",
   "metadata": {},
   "source": [
    "## 1. Create master annotation table"
   ]
  },
  {
   "cell_type": "markdown",
   "metadata": {},
   "source": [
    "### 1a. Format `DIAMOND blastx` output"
   ]
  },
  {
   "cell_type": "code",
   "execution_count": 6,
   "metadata": {
    "collapsed": false
   },
   "outputs": [
    {
     "name": "stdout",
     "output_type": "stream",
     "text": [
      "--2021-06-07 10:19:13--  https://gannet.fish.washington.edu/spartina/project-gigas-oa-meth/output/blastx/20210605-cgigas-roslin-mito-blastx.outfmt6\n",
      "Resolving gannet.fish.washington.edu (gannet.fish.washington.edu)... 128.95.149.52\n",
      "Connecting to gannet.fish.washington.edu (gannet.fish.washington.edu)|128.95.149.52|:443... connected.\n",
      "WARNING: cannot verify gannet.fish.washington.edu's certificate, issued by ‘CN=InCommon RSA Server CA,OU=InCommon,O=Internet2,L=Ann Arbor,ST=MI,C=US’:\n",
      "  Unable to locally verify the issuer's authority.\n",
      "HTTP request sent, awaiting response... 200 OK\n",
      "Length: 10442376 (10.0M)\n",
      "Saving to: ‘20210605-cgigas-roslin-mito-blastx.outfmt6’\n",
      "\n",
      "20210605-cgigas-ros 100%[===================>]   9.96M  46.6MB/s    in 0.2s    \n",
      "\n",
      "2021-06-07 10:19:14 (46.6 MB/s) - ‘20210605-cgigas-roslin-mito-blastx.outfmt6’ saved [10442376/10442376]\n",
      "\n"
     ]
    }
   ],
   "source": [
    "#Download blastx output\n",
    "!wget https://gannet.fish.washington.edu/spartina/project-gigas-oa-meth/output/blastx/20210605-cgigas-roslin-mito-blastx.outfmt6 \\\n",
    "--no-check-certificate"
   ]
  },
  {
   "cell_type": "code",
   "execution_count": 7,
   "metadata": {
    "collapsed": false
   },
   "outputs": [
    {
     "name": "stdout",
     "output_type": "stream",
     "text": [
      "lcl|NC_047559.1_mrna_XM_034463066.1_26\tsp|A1KZ92|PXDNL_HUMAN\t24.891\t229\t153\t6\t867\t1535\t278\t493\t4.55e-05\t51.2\n",
      "lcl|NC_047559.1_mrna_XM_034463224.1_35\tsp|Q7LHG5|YI31B_YEAST\t50.658\t152\t71\t1\t1072\t1515\t617\t768\t8.84e-40\t157\n",
      "lcl|NC_047559.1_mrna_XM_034456887.1_39\tsp|A1A5V9|ELP5_DANRE\t28.873\t284\t194\t4\t356\t1198\t1\t279\t6.43e-29\t118\n",
      "lcl|NC_047559.1_mrna_XM_011455176.3_47\tsp|A1A5V9|ELP5_DANRE\t28.873\t284\t194\t4\t376\t1218\t1\t279\t7.04e-29\t118\n",
      "lcl|NC_047559.1_mrna_XM_011455177.3_48\tsp|A1A5V9|ELP5_DANRE\t28.873\t284\t194\t4\t245\t1087\t1\t279\t3.80e-29\t118\n",
      "lcl|NC_047559.1_mrna_XM_011419438.3_53\tsp|A0A159BP93|CITB_MONRU\t30.795\t302\t179\t11\t3053\t2199\t3\t291\t3.63e-29\t123\n",
      "lcl|NC_047559.1_mrna_XM_020064467.2_54\tsp|A0A159BP93|CITB_MONRU\t30.795\t302\t179\t11\t3307\t2453\t3\t291\t3.97e-29\t123\n",
      "lcl|NC_047559.1_mrna_XM_011419437.3_55\tsp|O35077|GPDA_RAT\t59.259\t351\t140\t3\t111\t1160\t1\t349\t4.39e-140\t434\n",
      "lcl|NC_047559.1_mrna_XM_011419460.2_56\tsp|A0A159BP93|CITB_MONRU\t30.795\t302\t179\t11\t1\t855\t3\t291\t4.56e-31\t122\n",
      "lcl|NC_047559.1_mrna_XM_011419435.3_57\tsp|Q2KJE0|TAXB1_BOVIN\t26.958\t779\t414\t20\t174\t2330\t7\t690\t1.25e-54\t209\n",
      "   93983 20210605-cgigas-roslin-mito-blastx.outfmt6\n"
     ]
    }
   ],
   "source": [
    "#Check output\n",
    "!head 20210605-cgigas-roslin-mito-blastx.outfmt6\n",
    "!wc -l 20210605-cgigas-roslin-mito-blastx.outfmt6"
   ]
  },
  {
   "cell_type": "code",
   "execution_count": 9,
   "metadata": {
    "collapsed": false
   },
   "outputs": [],
   "source": [
    "#convert pipes to tab to isolate Uniprot accession code\n",
    "!tr '|' '\\t' < 20210605-cgigas-roslin-mito-blastx.outfmt6 \\\n",
    "> cgigas-roslin-mito-blastx.outfmt6.codeIsolated"
   ]
  },
  {
   "cell_type": "code",
   "execution_count": 149,
   "metadata": {
    "collapsed": false,
    "scrolled": true
   },
   "outputs": [
    {
     "name": "stdout",
     "output_type": "stream",
     "text": [
      "lcl\tNC_047559.1_mrna_XM_034463066.1_26\tsp\tA1KZ92\tPXDNL_HUMAN\t24.891\t229\t153\t6\t867\t1535\t278\t493\t4.55e-05\t51.2\n",
      "lcl\tNC_047559.1_mrna_XM_034463224.1_35\tsp\tQ7LHG5\tYI31B_YEAST\t50.658\t152\t71\t1\t1072\t1515\t617\t768\t8.84e-40\t157\n",
      "lcl\tNC_047559.1_mrna_XM_034456887.1_39\tsp\tA1A5V9\tELP5_DANRE\t28.873\t284\t194\t4\t356\t1198\t1\t279\t6.43e-29\t118\n",
      "lcl\tNC_047559.1_mrna_XM_011455176.3_47\tsp\tA1A5V9\tELP5_DANRE\t28.873\t284\t194\t4\t376\t1218\t1\t279\t7.04e-29\t118\n",
      "lcl\tNC_047559.1_mrna_XM_011455177.3_48\tsp\tA1A5V9\tELP5_DANRE\t28.873\t284\t194\t4\t245\t1087\t1\t279\t3.80e-29\t118\n",
      "lcl\tNC_047559.1_mrna_XM_011419438.3_53\tsp\tA0A159BP93\tCITB_MONRU\t30.795\t302\t179\t11\t3053\t2199\t3\t291\t3.63e-29\t123\n",
      "lcl\tNC_047559.1_mrna_XM_020064467.2_54\tsp\tA0A159BP93\tCITB_MONRU\t30.795\t302\t179\t11\t3307\t2453\t3\t291\t3.97e-29\t123\n",
      "lcl\tNC_047559.1_mrna_XM_011419437.3_55\tsp\tO35077\tGPDA_RAT\t59.259\t351\t140\t3\t111\t1160\t1\t349\t4.39e-140\t434\n",
      "lcl\tNC_047559.1_mrna_XM_011419460.2_56\tsp\tA0A159BP93\tCITB_MONRU\t30.795\t302\t179\t11\t1\t855\t3\t291\t4.56e-31\t122\n",
      "lcl\tNC_047559.1_mrna_XM_011419435.3_57\tsp\tQ2KJE0\tTAXB1_BOVIN\t26.958\t779\t414\t20\t174\t2330\t7\t690\t1.25e-54\t209\n",
      "   93983 cgigas-roslin-mito-blastx.outfmt6.codeIsolated\n"
     ]
    }
   ],
   "source": [
    "!head cgigas-roslin-mito-blastx.outfmt6.codeIsolated\n",
    "!wc -l cgigas-roslin-mito-blastx.outfmt6.codeIsolated"
   ]
  },
  {
   "cell_type": "code",
   "execution_count": 147,
   "metadata": {
    "collapsed": false
   },
   "outputs": [],
   "source": [
    "#Extract column with transcript ID\n",
    "#Convert _ to tab\n",
    "#Extract column with transcript ID\n",
    "#Add XM_ to the front of each ID\n",
    "\n",
    "!cut -f2 cgigas-roslin-mito-blastx.outfmt6.codeIsolated \\\n",
    "| tr \"_\" \"\\t\" \\\n",
    "| cut -f5 \\\n",
    "| sed 's/^/XM_/' \\\n",
    "> cgigas-roslin-mito-blastx.outfmt6.transcriptID"
   ]
  },
  {
   "cell_type": "code",
   "execution_count": 148,
   "metadata": {
    "collapsed": false
   },
   "outputs": [
    {
     "name": "stdout",
     "output_type": "stream",
     "text": [
      "XM_034463066.1\n",
      "XM_034463224.1\n",
      "XM_034456887.1\n",
      "XM_011455176.3\n",
      "XM_011455177.3\n",
      "XM_011419438.3\n",
      "XM_020064467.2\n",
      "XM_011419437.3\n",
      "XM_011419460.2\n",
      "XM_011419435.3\n",
      "   93983 cgigas-roslin-mito-blastx.outfmt6.transcriptID\n"
     ]
    }
   ],
   "source": [
    "!head cgigas-roslin-mito-blastx.outfmt6.transcriptID\n",
    "!wc -l cgigas-roslin-mito-blastx.outfmt6.transcriptID"
   ]
  },
  {
   "cell_type": "code",
   "execution_count": 150,
   "metadata": {
    "collapsed": false
   },
   "outputs": [
    {
     "name": "stdout",
     "output_type": "stream",
     "text": [
      "XM_034463066.1\tlcl\tNC_047559.1_mrna_XM_034463066.1_26\tsp\tA1KZ92\tPXDNL_HUMAN\t24.891\t229\t153\t6\t867\t1535\t278\t493\t4.55e-05\t51.2\r\n",
      "XM_034463224.1\tlcl\tNC_047559.1_mrna_XM_034463224.1_35\tsp\tQ7LHG5\tYI31B_YEAST\t50.658\t152\t71\t1\t1072\t1515\t617\t768\t8.84e-40\t157\r\n",
      "XM_034456887.1\tlcl\tNC_047559.1_mrna_XM_034456887.1_39\tsp\tA1A5V9\tELP5_DANRE\t28.873\t284\t194\t4\t356\t1198\t1\t279\t6.43e-29\t118\r\n",
      "XM_011455176.3\tlcl\tNC_047559.1_mrna_XM_011455176.3_47\tsp\tA1A5V9\tELP5_DANRE\t28.873\t284\t194\t4\t376\t1218\t1\t279\t7.04e-29\t118\r\n",
      "XM_011455177.3\tlcl\tNC_047559.1_mrna_XM_011455177.3_48\tsp\tA1A5V9\tELP5_DANRE\t28.873\t284\t194\t4\t245\t1087\t1\t279\t3.80e-29\t118\r\n",
      "XM_011419438.3\tlcl\tNC_047559.1_mrna_XM_011419438.3_53\tsp\tA0A159BP93\tCITB_MONRU\t30.795\t302\t179\t11\t3053\t2199\t3\t291\t3.63e-29\t123\r\n",
      "XM_020064467.2\tlcl\tNC_047559.1_mrna_XM_020064467.2_54\tsp\tA0A159BP93\tCITB_MONRU\t30.795\t302\t179\t11\t3307\t2453\t3\t291\t3.97e-29\t123\r\n",
      "XM_011419437.3\tlcl\tNC_047559.1_mrna_XM_011419437.3_55\tsp\tO35077\tGPDA_RAT\t59.259\t351\t140\t3\t111\t1160\t1\t349\t4.39e-140\t434\r\n",
      "XM_011419460.2\tlcl\tNC_047559.1_mrna_XM_011419460.2_56\tsp\tA0A159BP93\tCITB_MONRU\t30.795\t302\t179\t11\t1\t855\t3\t291\t4.56e-31\t122\r\n",
      "XM_011419435.3\tlcl\tNC_047559.1_mrna_XM_011419435.3_57\tsp\tQ2KJE0\tTAXB1_BOVIN\t26.958\t779\t414\t20\t174\t2330\t7\t690\t1.25e-54\t209\r\n"
     ]
    }
   ],
   "source": [
    "#Paste original transcript ID with codeIsolated file\n",
    "#Check output\n",
    "\n",
    "!paste cgigas-roslin-mito-blastx.outfmt6.transcriptID cgigas-roslin-mito-blastx.outfmt6.codeIsolated \\\n",
    "> cgigas-roslin-mito-blastx.outfmt6.codeIsolated.transcriptID\n",
    "!head cgigas-roslin-mito-blastx.outfmt6.codeIsolated.transcriptID"
   ]
  },
  {
   "cell_type": "code",
   "execution_count": 151,
   "metadata": {
    "collapsed": true
   },
   "outputs": [],
   "source": [
    "#Reduce the number of columns using awk: accession code, transcript ID, and e-value\n",
    "#Sort, and save as a new file.\n",
    "!awk -v OFS='\\t' '{print $5, $1, $15}' < cgigas-roslin-mito-blastx.outfmt6.codeIsolated.transcriptID | sort \\\n",
    "> gigas-blast-sort.tab"
   ]
  },
  {
   "cell_type": "code",
   "execution_count": 152,
   "metadata": {
    "collapsed": false,
    "scrolled": true
   },
   "outputs": [
    {
     "name": "stdout",
     "output_type": "stream",
     "text": [
      "A0A060WQA3\tXM_011455784.3\t4.79e-06\r\n",
      "A0A060WQA3\tXM_011455785.3\t4.65e-06\r\n",
      "A0A061ACU2\tXM_034483499.1\t0.0\r\n",
      "A0A061ACU2\tXM_034483499.1\t1.40e-12\r\n",
      "A0A061ACU2\tXM_034483499.1\t2.13e-27\r\n",
      "A0A061ACU2\tXM_034483500.1\t0.0\r\n",
      "A0A061ACU2\tXM_034483500.1\t1.40e-12\r\n",
      "A0A061ACU2\tXM_034483500.1\t2.44e-27\r\n",
      "A0A061ACU2\tXM_034483501.1\t0.0\r\n",
      "A0A061ACU2\tXM_034483501.1\t1.40e-12\r\n"
     ]
    }
   ],
   "source": [
    "!head gigas-blast-sort.tab"
   ]
  },
  {
   "cell_type": "markdown",
   "metadata": {},
   "source": [
    "### 1b. Join with GOterms"
   ]
  },
  {
   "cell_type": "code",
   "execution_count": 22,
   "metadata": {
    "collapsed": false
   },
   "outputs": [
    {
     "name": "stdout",
     "output_type": "stream",
     "text": [
      "  % Total    % Received % Xferd  Average Speed   Time    Time     Time  Current\n",
      "                                 Dload  Upload   Total   Spent    Left  Speed\n",
      "100  340M  100  340M    0     0  26.1M      0  0:00:12  0:00:12 --:--:-- 50.6M\n"
     ]
    }
   ],
   "source": [
    "#Download Uniprot database with GOterm information\n",
    "!curl -O http://owl.fish.washington.edu/halfshell/bu-alanine-wd/17-07-20/uniprot-SP-GO.sorted"
   ]
  },
  {
   "cell_type": "code",
   "execution_count": 23,
   "metadata": {
    "collapsed": false,
    "scrolled": true
   },
   "outputs": [
    {
     "name": "stdout",
     "output_type": "stream",
     "text": [
      "A0A023GPI8\tLECA_CANBL\treviewed\tLectin alpha chain (CboL) [Cleaved into: Lectin beta chain; Lectin gamma chain]\t\tCanavalia boliviana\t237\t\t\tmannose binding [GO:0005537]; metal ion binding [GO:0046872]\tmannose binding [GO:0005537]; metal ion binding [GO:0046872]\tGO:0005537; GO:0046872\n",
      "A0A023GPJ0\tCDII_ENTCC\treviewed\tImmunity protein CdiI\tcdiI ECL_04450.1\tEnterobacter cloacae subsp. cloacae (strain ATCC 13047 / DSM 30054 / NBRC 13535 / NCDC 279-56)\t145\t\t\t\t\t\n",
      "A0A023PXA5\tYA19A_YEAST\treviewed\tPutative uncharacterized protein YAL019W-A\tYAL019W-A\tSaccharomyces cerevisiae (strain ATCC 204508 / S288c) (Baker's yeast)\t189\t\t\t\t\t\n",
      "A0A023PXB0\tYA019_YEAST\treviewed\tPutative uncharacterized protein YAR019W-A\tYAR019W-A\tSaccharomyces cerevisiae (strain ATCC 204508 / S288c) (Baker's yeast)\t110\t\t\t\t\t\n",
      "A0A023PXB5\tIRC2_YEAST\treviewed\tPutative uncharacterized membrane protein IRC2 (Increased recombination centers protein 2)\tIRC2 YDR112W\tSaccharomyces cerevisiae (strain ATCC 204508 / S288c) (Baker's yeast)\t102\t\tintegral component of membrane [GO:0016021]\t\tintegral component of membrane [GO:0016021]\tGO:0016021\n",
      "A0A023PXB9\tYD99W_YEAST\treviewed\tPutative uncharacterized membrane protein YDR199W\tYDR199W\tSaccharomyces cerevisiae (strain ATCC 204508 / S288c) (Baker's yeast)\t121\t\tintegral component of membrane [GO:0016021]\t\tintegral component of membrane [GO:0016021]\tGO:0016021\n",
      "A0A023PXC2\tYE53A_YEAST\treviewed\tPutative uncharacterized membrane protein YEL053W-A\tYEL053W-A\tSaccharomyces cerevisiae (strain ATCC 204508 / S288c) (Baker's yeast)\t115\t\tintegral component of membrane [GO:0016021]\t\tintegral component of membrane [GO:0016021]\tGO:0016021\n",
      "A0A023PXC7\tYE068_YEAST\treviewed\tPutative uncharacterized membrane protein YER068C-A\tYER068C-A\tSaccharomyces cerevisiae (strain ATCC 204508 / S288c) (Baker's yeast)\t143\t\tintegral component of membrane [GO:0016021]\t\tintegral component of membrane [GO:0016021]\tGO:0016021\n",
      "A0A023PXD3\tYE88A_YEAST\treviewed\tPutative uncharacterized protein YER088C-A\tYER088C-A\tSaccharomyces cerevisiae (strain ATCC 204508 / S288c) (Baker's yeast)\t107\t\t\t\t\t\n",
      "A0A023PXD5\tYE147_YEAST\treviewed\tPutative uncharacterized membrane protein YER147C-A\tYER147C-A\tSaccharomyces cerevisiae (strain ATCC 204508 / S288c) (Baker's yeast)\t136\t\tintegral component of membrane [GO:0016021]\t\tintegral component of membrane [GO:0016021]\tGO:0016021\n",
      "  555101 uniprot-SP-GO.sorted\n"
     ]
    }
   ],
   "source": [
    "!head uniprot-SP-GO.sorted\n",
    "!wc -l uniprot-SP-GO.sorted"
   ]
  },
  {
   "cell_type": "code",
   "execution_count": 153,
   "metadata": {
    "collapsed": false,
    "scrolled": true
   },
   "outputs": [
    {
     "name": "stdout",
     "output_type": "stream",
     "text": [
      "A0A0A7DNP6\tXM_001305294.1\t8.75e-10\tGRHLP_RUDPH\treviewed\tPrepro-gonadotropin-releasing hormone-like protein (rp-GnRH) [Cleaved into: GnRH dodecapeptide; GnRH-associated peptide (GAP)]\t\tRuditapes philippinarum (Japanese littleneck clam) (Venerupis philippinarum)\t94\tneuropeptide signaling pathway [GO:0007218]\textracellular region [GO:0005576]\t\textracellular region [GO:0005576]; neuropeptide signaling pathway [GO:0007218]\tGO:0005576; GO:0007218\n",
      "A0A0B5A7M7\tXM_001308866.2\t3.97e-12\tINS1_CONIM\treviewed\tCon-Ins Im1 (Insulin 1) [Cleaved into: Con-Ins I1 B chain; Con-Ins I1 A chain]\t\tConus imperialis (Imperial cone)\t150\tglucose metabolic process [GO:0006006]\textracellular region [GO:0005576]\thormone activity [GO:0005179]\textracellular region [GO:0005576]; hormone activity [GO:0005179]; glucose metabolic process [GO:0006006]\tGO:0005179; GO:0005576; GO:0006006\n",
      "A0A0B5A7M7\tXM_034475035.1\t1.48e-12\tINS1_CONIM\treviewed\tCon-Ins Im1 (Insulin 1) [Cleaved into: Con-Ins I1 B chain; Con-Ins I1 A chain]\t\tConus imperialis (Imperial cone)\t150\tglucose metabolic process [GO:0006006]\textracellular region [GO:0005576]\thormone activity [GO:0005179]\textracellular region [GO:0005576]; hormone activity [GO:0005179]; glucose metabolic process [GO:0006006]\tGO:0005179; GO:0005576; GO:0006006\n",
      "A0A0B5A8P8\tXM_011417422.3\t4.54e-15\tINS2_CONIM\treviewed\tCon-Ins Im2 (Insulin 2) [Cleaved into: Con-Ins I2 B chain; Con-Ins I2 A chain]\t\tConus imperialis (Imperial cone)\t140\tglucose metabolic process [GO:0006006]\textracellular region [GO:0005576]\thormone activity [GO:0005179]\textracellular region [GO:0005576]; hormone activity [GO:0005179]; glucose metabolic process [GO:0006006]\tGO:0005179; GO:0005576; GO:0006006\n",
      "A0A0F7YYX3\tXM_011419035.3\t2.09e-19\tCPROH_CONVC\treviewed\tNeuropeptide prohormone-4\t\tConus victoriae (Queen Victoria cone)\t196\t\textracellular region [GO:0005576]\t\textracellular region [GO:0005576]\tGO:0005576\n",
      "A0A0F7YYX3\tXM_011419037.3\t2.71e-19\tCPROH_CONVC\treviewed\tNeuropeptide prohormone-4\t\tConus victoriae (Queen Victoria cone)\t196\t\textracellular region [GO:0005576]\t\textracellular region [GO:0005576]\tGO:0005576\n",
      "A0A0F7YYX3\tXM_011419038.3\t2.28e-19\tCPROH_CONVC\treviewed\tNeuropeptide prohormone-4\t\tConus victoriae (Queen Victoria cone)\t196\t\textracellular region [GO:0005576]\t\textracellular region [GO:0005576]\tGO:0005576\n",
      "A0A0F7YYX3\tXM_011419039.3\t2.39e-19\tCPROH_CONVC\treviewed\tNeuropeptide prohormone-4\t\tConus victoriae (Queen Victoria cone)\t196\t\textracellular region [GO:0005576]\t\textracellular region [GO:0005576]\tGO:0005576\n",
      "A0A0F7YYX3\tXM_020064360.2\t1.79e-19\tCPROH_CONVC\treviewed\tNeuropeptide prohormone-4\t\tConus victoriae (Queen Victoria cone)\t196\t\textracellular region [GO:0005576]\t\textracellular region [GO:0005576]\tGO:0005576\n",
      "A0A0F7YZI5\tXM_011442798.3\t8.33e-33\tCTHB5_CONVC\treviewed\tThyrostimulin beta-5 subunit\t\tConus victoriae (Queen Victoria cone)\t135\t\textracellular region [GO:0005576]\thormone activity [GO:0005179]\textracellular region [GO:0005576]; hormone activity [GO:0005179]\tGO:0005179; GO:0005576\n",
      "   92197 gigas-blast-annot.tab\n"
     ]
    }
   ],
   "source": [
    "#Join the first column in the first file with the first column in the second file\n",
    "#The files are tab delimited, and the output should also be tab delimited (-t $'\\t')\n",
    "!join -1 1 -2 1 -t $'\\t' \\\n",
    "gigas-blast-sort.tab \\\n",
    "uniprot-SP-GO.sorted \\\n",
    "> gigas-blast-annot.tab\n",
    "!head gigas-blast-annot.tab\n",
    "!wc -l gigas-blast-annot.tab"
   ]
  },
  {
   "cell_type": "code",
   "execution_count": 154,
   "metadata": {
    "collapsed": false,
    "scrolled": true
   },
   "outputs": [
    {
     "name": "stdout",
     "output_type": "stream",
     "text": [
      "A0A0A7DNP6\tXM_001305294.1\tGO:0005576; GO:0007218\r\n",
      "A0A0B5A7M7\tXM_001308866.2\tGO:0005179; GO:0005576; GO:0006006\r\n",
      "A0A0B5A7M7\tXM_034475035.1\tGO:0005179; GO:0005576; GO:0006006\r\n",
      "A0A0B5A8P8\tXM_011417422.3\tGO:0005179; GO:0005576; GO:0006006\r\n",
      "A0A0F7YYX3\tXM_011419035.3\tGO:0005576\r\n",
      "A0A0F7YYX3\tXM_011419037.3\tGO:0005576\r\n",
      "A0A0F7YYX3\tXM_011419038.3\tGO:0005576\r\n",
      "A0A0F7YYX3\tXM_011419039.3\tGO:0005576\r\n",
      "A0A0F7YYX3\tXM_020064360.2\tGO:0005576\r\n",
      "A0A0F7YZI5\tXM_011442798.3\tGO:0005179; GO:0005576\r\n"
     ]
    }
   ],
   "source": [
    "#Extract columns 1 (accession), 2 (transcript ID), and 14 (GOterms)\n",
    "#Save output\n",
    "!cut -f1,2,14 gigas-blast-annot.tab \\\n",
    "> _blast-annot.tab\n",
    "!head _blast-annot.tab"
   ]
  },
  {
   "cell_type": "code",
   "execution_count": 155,
   "metadata": {
    "collapsed": true
   },
   "outputs": [],
   "source": [
    "%%bash \n",
    "\n",
    "# This script was originally written to address a specific problem that Rhonda was having\n",
    "\n",
    "# input_file is the initial, \"problem\" file\n",
    "# file is an intermediate file that most of the program works upon\n",
    "# output_file is the final file produced by the script\n",
    "input_file=\"_blast-annot.tab\"\n",
    "file=\"_intermediate.file\"\n",
    "output_file=\"_blast-GO-unfolded.tab\"\n",
    "\n",
    "# sed command substitutes the \"; \" sequence to a tab and writes the new format to a new file.\n",
    "# This character sequence is how the GO terms are delimited in their field.\n",
    "sed $'s/; /\\t/g' \"$input_file\" > \"$file\"\n",
    "\n",
    "# Identify first field containing a GO term.\n",
    "# Search file with grep for \"GO:\" and pipe to awk.\n",
    "# Awk sets tab as field delimiter (-F'\\t'), runs a for loop that looks for \"GO:\" (~/GO:/), and then prints the field number).\n",
    "# Awk results are piped to sort, which sorts unique by number (-ug).\n",
    "# Sort results are piped to head to retrieve the lowest value (i.e. the top of the list; \"-n1\").\n",
    "begin_goterms=$(grep \"GO:\" \"$file\" | awk -F'\\t' '{for (i=1;i<=NF;i++) if($i ~/GO:/) print i}' | sort -ug | head -n1)\n",
    "\n",
    "# While loop to process each line of the input file.\n",
    "while read -r line\n",
    "\tdo\n",
    "\t\n",
    "\t# Send contents of the current line to awk.\n",
    "\t# Set the field separator as a tab (-F'\\t') and print the number of fields in that line.\n",
    "\t# Save the results of the echo/awk pipe (i.e. number of fields) to the variable \"max_field\".\n",
    "\tmax_field=$(echo \"$line\" | awk -F'\\t' '{print NF}')\n",
    "\n",
    "\t# Send contents of current line to cut.\n",
    "\t# Cut fields (i.e. retain those fields) 1-12.\n",
    "\t# Save the results of the echo/cut pipe (i.e. fields 1-12) to the variable \"fixed_fields\"\n",
    "\tfixed_fields=$(echo \"$line\" | cut -f1-2)\n",
    "\n",
    "\t# Since not all the lines contain the same number of fields (e.g. may not have GO terms),\n",
    "\t# evaluate the number of fields in each line to determine how to handle current line.\n",
    "\n",
    "\t# If the value in max_field is less than the field number where the GO terms begin,\n",
    "\t# then just print the current line (%s) followed by a newline (\\n).\n",
    "\tif (( \"$max_field\" < \"$begin_goterms\" ))\n",
    "\t\tthen printf \"%s\\n\" \"$line\"\n",
    "\t\t\telse\n",
    "\n",
    "\t\t\t# Send contents of current line (which contains GO terms) to cut.\n",
    "\t\t\t# Cut fields (i.e. retain those fields) 13 to whatever the last field is in the curent line.\n",
    "\t\t\t# Save the results of the echo/cut pipe (i.e. all the GO terms fields) to the variable \"goterms\".\n",
    "\t\t\tgoterms=$(echo \"$line\" | cut -f\"$begin_goterms\"-\"$max_field\")\n",
    "\t\t\t\n",
    "\t\t\t# Assign values in the variable \"goterms\" to a new indexed array (called \"array\"), \n",
    "\t\t\t# with tab delimiter (IFS=$'\\t')\n",
    "\t\t\tIFS=$'\\t' read -r -a array <<<\"$goterms\"\n",
    "\t\t\t\n",
    "\t\t\t# Iterate through each element of the array.\n",
    "\t\t\t# Print the first 12 fields (i.e. the fields stored in \"fixed_fields\") followed by a tab (%s\\t).\n",
    "\t\t\t# Print the current element in the array (i.e. the current GO term) followed by a new line (%s\\n).\n",
    "\t\t\tfor element in \"${!array[@]}\"\t\n",
    "\t\t\t\tdo printf \"%s\\t%s\\n\" \"$fixed_fields\" \"${array[$element]}\"\n",
    "\t\t\tdone\n",
    "\tfi\n",
    "\n",
    "# Send the input file into the while loop and send the output to a file named \"rhonda_fixed.txt\".\n",
    "done < \"$file\" > \"$output_file\""
   ]
  },
  {
   "cell_type": "code",
   "execution_count": 156,
   "metadata": {
    "collapsed": false
   },
   "outputs": [
    {
     "name": "stdout",
     "output_type": "stream",
     "text": [
      "A0A0A7DNP6\tXM_001305294.1\tGO:0005576\r\n",
      "A0A0A7DNP6\tXM_001305294.1\tGO:0007218\r\n",
      "A0A0B5A7M7\tXM_001308866.2\tGO:0005179\r\n",
      "A0A0B5A7M7\tXM_001308866.2\tGO:0005576\r\n",
      "A0A0B5A7M7\tXM_001308866.2\tGO:0006006\r\n",
      "A0A0B5A7M7\tXM_034475035.1\tGO:0005179\r\n",
      "A0A0B5A7M7\tXM_034475035.1\tGO:0005576\r\n",
      "A0A0B5A7M7\tXM_034475035.1\tGO:0006006\r\n",
      "A0A0B5A8P8\tXM_011417422.3\tGO:0005179\r\n",
      "A0A0B5A8P8\tXM_011417422.3\tGO:0005576\r\n"
     ]
    }
   ],
   "source": [
    "!head _blast-GO-unfolded.tab"
   ]
  },
  {
   "cell_type": "code",
   "execution_count": 157,
   "metadata": {
    "collapsed": true
   },
   "outputs": [],
   "source": [
    "#Reorganize and sort columns\n",
    "!awk '{print $3\"\\t\"$2}' _blast-GO-unfolded.tab | gsort -V > _blast-GO-unfolded.sorted"
   ]
  },
  {
   "cell_type": "code",
   "execution_count": 158,
   "metadata": {
    "collapsed": false
   },
   "outputs": [
    {
     "name": "stdout",
     "output_type": "stream",
     "text": [
      "GO:0000002\tXM_004596953.1\n",
      "GO:0000002\tXM_004599087.1\n",
      "GO:0000002\tXM_004599974.1\n",
      "GO:0000002\tXM_004602618.1\n",
      "GO:0000002\tXM_004604080.1\n",
      "GO:0000002\tXM_011413926.3\n",
      "GO:0000002\tXM_011416774.2\n",
      "GO:0000002\tXM_011428102.3\n",
      "GO:0000002\tXM_011430231.3\n",
      "GO:0000002\tXM_011434743.3\n",
      " 1565846 3129025 40681933 _blast-GO-unfolded.sorted\n"
     ]
    }
   ],
   "source": [
    "!head _blast-GO-unfolded.sorted\n",
    "!wc _blast-GO-unfolded.sorted"
   ]
  },
  {
   "cell_type": "markdown",
   "metadata": {},
   "source": [
    "### 1c. Join with GO Slim terms"
   ]
  },
  {
   "cell_type": "code",
   "execution_count": 30,
   "metadata": {
    "collapsed": false
   },
   "outputs": [
    {
     "name": "stdout",
     "output_type": "stream",
     "text": [
      "  % Total    % Received % Xferd  Average Speed   Time    Time     Time  Current\n",
      "                                 Dload  Upload   Total   Spent    Left  Speed\n",
      "100 2314k  100 2314k    0     0   662k      0  0:00:03  0:00:03 --:--:--  663k\n"
     ]
    }
   ],
   "source": [
    "#Get GO to GOSlim matching\n",
    "!curl -O http://owl.fish.washington.edu/halfshell/bu-alanine-wd/17-07-20/GO-GOslim.sorted"
   ]
  },
  {
   "cell_type": "code",
   "execution_count": 31,
   "metadata": {
    "collapsed": false,
    "scrolled": true
   },
   "outputs": [
    {
     "name": "stdout",
     "output_type": "stream",
     "text": [
      "GO:0000001\tmitochondrion inheritance\tcell organization and biogenesis\tP\n",
      "GO:0000002\tmitochondrial genome maintenance\tcell organization and biogenesis\tP\n",
      "GO:0000003\treproduction\tother biological processes\tP\n",
      "GO:0000006\thigh affinity zinc uptake transmembrane transporter activity\ttransporter activity\tF\n",
      "GO:0000007\tlow-affinity zinc ion transmembrane transporter activity\ttransporter activity\tF\n",
      "GO:0000009\t\"alpha-1,6-mannosyltransferase activity\"\tother molecular function\tF\n",
      "GO:0000010\ttrans-hexaprenyltranstransferase activity\tother molecular function\tF\n",
      "GO:0000011\tvacuole inheritance\tcell organization and biogenesis\tP\n",
      "GO:0000012\tsingle strand break repair\tDNA metabolism\tP\n",
      "GO:0000012\tsingle strand break repair\tstress response\tP\n",
      "   30796 GO-GOslim.sorted\n"
     ]
    }
   ],
   "source": [
    "!head GO-GOslim.sorted\n",
    "!wc -l GO-GOslim.sorted"
   ]
  },
  {
   "cell_type": "code",
   "execution_count": 162,
   "metadata": {
    "collapsed": false,
    "scrolled": true
   },
   "outputs": [
    {
     "name": "stdout",
     "output_type": "stream",
     "text": [
      "XM_\tGO:0016021\tintegral to membrane\tother membranes\tC\n",
      "XM_001305288.1\tGO:0001501\tskeletal system development\tdevelopmental processes\tP\n",
      "XM_001305288.1\tGO:0005576\textracellular region\tnon-structural extracellular\tC\n",
      "XM_001305288.1\tGO:0005595\tcollagen type XII\textracellular matrix\tC\n",
      "XM_001305288.1\tGO:0005615\textracellular space\tnon-structural extracellular\tC\n",
      "XM_001305288.1\tGO:0005788\tendoplasmic reticulum lumen\tER/Golgi\tC\n",
      "XM_001305288.1\tGO:0007155\tcell adhesion\tcell adhesion\tP\n",
      "XM_001305288.1\tGO:0030020\textracellular matrix structural constituent conferring tensile strength\textracellular structural activity\tF\n",
      "XM_001305288.1\tGO:0030199\tcollagen fibril organization\tcell organization and biogenesis\tP\n",
      "XM_001305288.1\tGO:0030574\tcollagen catabolic process\tother metabolic processes\tP\n",
      "  754502 Blastquery-GOslim.tab\n"
     ]
    }
   ],
   "source": [
    "#Join files to get GOslim for each query (with duplicate GOslim / query removed)\n",
    "!join -1 1 -2 1 -t $'\\t' \\\n",
    "_blast-GO-unfolded.sorted \\\n",
    "GO-GOslim.sorted \\\n",
    "| uniq | awk -F'\\t' -v OFS='\\t' '{print $2, $1, $3, $4, $5}' \\\n",
    "| sort \\\n",
    "> Blastquery-GOslim.tab\n",
    "!head Blastquery-GOslim.tab\n",
    "!wc -l Blastquery-GOslim.tab"
   ]
  },
  {
   "cell_type": "markdown",
   "metadata": {},
   "source": [
    "## 2. Match CpG background and DML lists with GOterms"
   ]
  },
  {
   "cell_type": "markdown",
   "metadata": {
    "collapsed": true
   },
   "source": [
    "### 2a. Obtain transcript and gene ID information from mRNA track"
   ]
  },
  {
   "cell_type": "code",
   "execution_count": 103,
   "metadata": {
    "collapsed": false,
    "scrolled": true
   },
   "outputs": [
    {
     "name": "stdout",
     "output_type": "stream",
     "text": [
      "NC_047559.1\tGnomon\tmRNA\t14114\t15804\t.\t+\t.\tID=rna-XM_034463183.1;Parent=gene-LOC109621113;Dbxref=GeneID:109621113,Genbank:XM_034463183.1;Name=XM_034463183.1;gbkey=mRNA;gene=LOC109621113;model_evidence=Supporting evidence includes similarity to: 78%25 coverage of the annotated genomic feature by RNAseq alignments%2C including 21 samples with support for all annotated introns;product=uncharacterized LOC109621113;transcript_id=XM_034463183.1\n",
      "NC_047559.1\tGnomon\tmRNA\t16867\t19160\t.\t-\t.\tID=rna-XM_034463195.1;Parent=gene-LOC117687066;Dbxref=GeneID:117687066,Genbank:XM_034463195.1;Name=XM_034463195.1;gbkey=mRNA;gene=LOC117687066;model_evidence=Supporting evidence includes similarity to: 98%25 coverage of the annotated genomic feature by RNAseq alignments%2C including 14 samples with support for all annotated introns;product=uncharacterized LOC117687066;transcript_id=XM_034463195.1\n",
      "NC_047559.1\tGnomon\tmRNA\t61887\t71038\t.\t-\t.\tID=rna-XM_034471753.1;Parent=gene-LOC117689737;Dbxref=GeneID:117689737,Genbank:XM_034471753.1;Name=XM_034471753.1;gbkey=mRNA;gene=LOC117689737;model_evidence=Supporting evidence includes similarity to: 1 long SRA read%2C and 100%25 coverage of the annotated genomic feature by RNAseq alignments%2C including 3 samples with support for all annotated introns;product=uncharacterized LOC117689737%2C transcript variant X8;transcript_id=XM_034471753.1\n",
      "NC_047559.1\tGnomon\tmRNA\t80321\t86124\t.\t+\t.\tID=rna-XM_034463075.1;Parent=gene-LOC117687025;Dbxref=GeneID:117687025,Genbank:XM_034463075.1;Name=XM_034463075.1;gbkey=mRNA;gene=LOC117687025;model_evidence=Supporting evidence includes similarity to: 100%25 coverage of the annotated genomic feature by RNAseq alignments%2C including 16 samples with support for all annotated introns;product=uncharacterized LOC117687025;transcript_id=XM_034463075.1\n",
      "NC_047559.1\tGnomon\tmRNA\t97820\t126387\t.\t+\t.\tID=rna-XM_034463066.1;Parent=gene-LOC105333279;Dbxref=GeneID:105333279,Genbank:XM_034463066.1;Name=XM_034463066.1;gbkey=mRNA;gene=LOC105333279;model_evidence=Supporting evidence includes similarity to: 31 long SRA reads%2C and 99%25 coverage of the annotated genomic feature by RNAseq alignments;product=uncharacterized LOC105333279;transcript_id=XM_034463066.1\n",
      "NC_047559.1\tGnomon\tmRNA\t139293\t141527\t.\t-\t.\tID=rna-XM_034463207.1;Parent=gene-LOC105321471;Dbxref=GeneID:105321471,Genbank:XM_034463207.1;Name=XM_034463207.1;gbkey=mRNA;gene=LOC105321471;model_evidence=Supporting evidence includes similarity to: 16 Proteins;product=uncharacterized LOC105321471;transcript_id=XM_034463207.1\n",
      "NC_047559.1\tGnomon\tmRNA\t142829\t146045\t.\t-\t.\tID=rna-XM_034464216.1;Parent=gene-LOC105321472;Dbxref=GeneID:105321472,Genbank:XM_034464216.1;Name=XM_034464216.1;gbkey=mRNA;gene=LOC105321472;model_evidence=Supporting evidence includes similarity to: 100%25 coverage of the annotated genomic feature by RNAseq alignments%2C including 32 samples with support for all annotated introns;product=uncharacterized LOC105321472;transcript_id=XM_034464216.1\n",
      "NC_047559.1\tGnomon\tmRNA\t151758\t185673\t.\t+\t.\tID=rna-XM_034463215.1;Parent=gene-LOC117687070;Dbxref=GeneID:117687070,Genbank:XM_034463215.1;Name=XM_034463215.1;gbkey=mRNA;gene=LOC117687070;model_evidence=Supporting evidence includes similarity to: 1 long SRA read%2C and 92%25 coverage of the annotated genomic feature by RNAseq alignments;product=uncharacterized LOC117687070;transcript_id=XM_034463215.1\n",
      "NC_047559.1\tGnomon\tmRNA\t203632\t209757\t.\t+\t.\tID=rna-XM_034481799.1;Parent=gene-LOC105344774;Dbxref=GeneID:105344774,Genbank:XM_034481799.1;Name=XM_034481799.1;gbkey=mRNA;gene=LOC105344774;model_evidence=Supporting evidence includes similarity to: 100%25 coverage of the annotated genomic feature by RNAseq alignments;product=uncharacterized LOC105344774;transcript_id=XM_034481799.1\n",
      "NC_047559.1\tGnomon\tmRNA\t265780\t267611\t.\t-\t.\tID=rna-XM_034463224.1;Parent=gene-LOC117687074;Dbxref=GeneID:117687074,Genbank:XM_034463224.1;Name=XM_034463224.1;gbkey=mRNA;gene=LOC117687074;model_evidence=Supporting evidence includes similarity to: 1 Protein;product=uncharacterized LOC117687074;transcript_id=XM_034463224.1\n",
      "   63341 ../../genome-feature-files/cgigas_uk_roslin_v1_mRNA.gff\n"
     ]
    }
   ],
   "source": [
    "!head ../../genome-feature-files/cgigas_uk_roslin_v1_mRNA.gff\n",
    "!wc -l ../../genome-feature-files/cgigas_uk_roslin_v1_mRNA.gff"
   ]
  },
  {
   "cell_type": "code",
   "execution_count": 119,
   "metadata": {
    "collapsed": false
   },
   "outputs": [],
   "source": [
    "#Isolate column with ID information\n",
    "#Convert multiple delimiters to tabs\n",
    "#Isolate transcript and gene ID columns\n",
    "#Ensure they are tab-delimited\n",
    "#Sort by gene ID\n",
    "#Save output\n",
    "\n",
    "!cut -f9 ../../genome-feature-files/cgigas_uk_roslin_v1_mRNA.gff \\\n",
    "| tr \"=;:-,\" \"\\t\" \\\n",
    "| cut -f3,9 \\\n",
    "| awk '{print $2\"\\t\"$1}' \\\n",
    "| sort \\\n",
    "> cgigas_uk_roslin_v1_mRNA.transcriptID.geneID"
   ]
  },
  {
   "cell_type": "code",
   "execution_count": 120,
   "metadata": {
    "collapsed": false
   },
   "outputs": [
    {
     "name": "stdout",
     "output_type": "stream",
     "text": [
      "105317035\tXM_011413559.3\n",
      "105317035\tXM_034443160.1\n",
      "105317035\tXM_034443162.1\n",
      "105317035\tXM_034443163.1\n",
      "105317035\tXM_034443164.1\n",
      "105317036\tXM_034443166.1\n",
      "105317036\tXM_034443167.1\n",
      "105317036\tXM_034443168.1\n",
      "105317040\tXM_011413566.3\n",
      "105317040\tXM_034443178.1\n",
      "   63341 cgigas_uk_roslin_v1_mRNA.transcriptID.geneID\n"
     ]
    }
   ],
   "source": [
    "!head cgigas_uk_roslin_v1_mRNA.transcriptID.geneID\n",
    "!wc -l cgigas_uk_roslin_v1_mRNA.transcriptID.geneID"
   ]
  },
  {
   "cell_type": "markdown",
   "metadata": {},
   "source": [
    "### 2b. Female-DML"
   ]
  },
  {
   "cell_type": "markdown",
   "metadata": {},
   "source": [
    "#### Format file"
   ]
  },
  {
   "cell_type": "markdown",
   "metadata": {},
   "source": [
    "I want chr, start, end, and gene ID."
   ]
  },
  {
   "cell_type": "code",
   "execution_count": 73,
   "metadata": {
    "collapsed": false,
    "scrolled": true
   },
   "outputs": [
    {
     "name": "stdout",
     "output_type": "stream",
     "text": [
      "NC_047559.1\t2799230\t2799232\t83.0864530029626\tNC_047559.1\tGnomon\tgene\t2623361\t2849124\t.\t-\t.\tID=gene-LOC117683566;Dbxref=GeneID:117683566;Name=LOC117683566;gbkey=Gene;gene=LOC117683566;gene_biotype=protein_coding\r\n",
      "NC_047559.1\t6531650\t6531652\t76.7441860465116\tNC_047559.1\tGnomon\tgene\t6531377\t6533346\t.\t-\t.\tID=gene-LOC105340512;Dbxref=GeneID:105340512;Name=LOC105340512;gbkey=Gene;gene=LOC105340512;gene_biotype=protein_coding\r\n",
      "NC_047559.1\t8166690\t8166692\t77.3809523809524\tNC_047559.1\tGnomon\tgene\t8162945\t8170542\t.\t+\t.\tID=gene-LOC105319125;Dbxref=GeneID:105319125;Name=LOC105319125;gbkey=Gene;gene=LOC105319125;gene_biotype=protein_coding\r\n",
      "NC_047559.1\t11117667\t11117669\t-77.0833333333333\tNC_047559.1\tGnomon\tgene\t11073862\t11129325\t.\t-\t.\tID=gene-LOC105326856;Dbxref=GeneID:105326856;Name=LOC105326856;gbkey=Gene;gene=LOC105326856;gene_biotype=protein_coding\r\n",
      "NC_047559.1\t18206975\t18206977\t80.1851851851852\tNC_047559.1\tGnomon\tgene\t18183683\t18216623\t.\t+\t.\tID=gene-LOC105347948;Dbxref=GeneID:105347948;Name=LOC105347948;gbkey=Gene;gene=LOC105347948;gene_biotype=protein_coding\r\n",
      "NC_047559.1\t22293933\t22293935\t75.2770673486786\tNC_047559.1\tGnomon\tgene\t22293000\t22305592\t.\t+\t.\tID=gene-LOC105322687;Dbxref=GeneID:105322687;Name=LOC105322687;gbkey=Gene;gene=LOC105322687;gene_biotype=protein_coding\r\n",
      "NC_047559.1\t24170063\t24170065\t76.8102073365231\tNC_047559.1\tGnomon\tgene\t24167779\t24248365\t.\t-\t.\tID=gene-LOC105337787;Dbxref=GeneID:105337787;Name=LOC105337787;gbkey=Gene;gene=LOC105337787;gene_biotype=protein_coding\r\n",
      "NC_047559.1\t24173162\t24173164\t77.8471602735653\tNC_047559.1\tGnomon\tgene\t24167779\t24248365\t.\t-\t.\tID=gene-LOC105337787;Dbxref=GeneID:105337787;Name=LOC105337787;gbkey=Gene;gene=LOC105337787;gene_biotype=protein_coding\r\n",
      "NC_047559.1\t24173203\t24173205\t82.0861678004535\tNC_047559.1\tGnomon\tgene\t24167779\t24248365\t.\t-\t.\tID=gene-LOC105337787;Dbxref=GeneID:105337787;Name=LOC105337787;gbkey=Gene;gene=LOC105337787;gene_biotype=protein_coding\r\n",
      "NC_047559.1\t24177562\t24177564\t86.3445378151261\tNC_047559.1\tGnomon\tgene\t24167779\t24248365\t.\t-\t.\tID=gene-LOC105337787;Dbxref=GeneID:105337787;Name=LOC105337787;gbkey=Gene;gene=LOC105337787;gene_biotype=protein_coding\r\n"
     ]
    }
   ],
   "source": [
    "!head ../../output/10_DML-characterization/DML-pH-75-Cov5-Fem-Gene-wb.bed"
   ]
  },
  {
   "cell_type": "code",
   "execution_count": 81,
   "metadata": {
    "collapsed": false
   },
   "outputs": [],
   "source": [
    "#Isolate column with gene ID information\n",
    "#Convert =, :, and ; to \\t\n",
    "#Isolate gene ID\n",
    "\n",
    "!cut -f13 ../../output/10_DML-characterization/DML-pH-75-Cov5-Fem-Gene-wb.bed \\\n",
    "| tr \"=:;\" \"\\t\" \\\n",
    "| cut -f5 \\\n",
    "> DML-pH-75-Cov5-Fem.GeneIDs"
   ]
  },
  {
   "cell_type": "code",
   "execution_count": 82,
   "metadata": {
    "collapsed": false
   },
   "outputs": [
    {
     "name": "stdout",
     "output_type": "stream",
     "text": [
      "117683566\n",
      "105340512\n",
      "105319125\n",
      "105326856\n",
      "105347948\n",
      "105322687\n",
      "105337787\n",
      "105337787\n",
      "105337787\n",
      "105337787\n",
      "     301 DML-pH-75-Cov5-Fem.GeneIDs\n"
     ]
    }
   ],
   "source": [
    "!head DML-pH-75-Cov5-Fem.GeneIDs\n",
    "!wc -l DML-pH-75-Cov5-Fem.GeneIDs"
   ]
  },
  {
   "cell_type": "code",
   "execution_count": 96,
   "metadata": {
    "collapsed": false
   },
   "outputs": [],
   "source": [
    "!paste DML-pH-75-Cov5-Fem.GeneIDs ../../output/10_DML-characterization/DML-pH-75-Cov5-Fem-Gene-wb.bed \\\n",
    "| awk -F'\\t' -v OFS='\\t' '{print $1, $2, $3, $4}' \\\n",
    "| sort \\\n",
    "> DML-pH-75-Cov5-Fem.GeneIDs.geneOverlap"
   ]
  },
  {
   "cell_type": "code",
   "execution_count": 100,
   "metadata": {
    "collapsed": false
   },
   "outputs": [
    {
     "name": "stdout",
     "output_type": "stream",
     "text": [
      "105317473\tNC_047561.1\t12946567\t12946569\n",
      "105317885\tNC_047562.1\t13927784\t13927786\n",
      "105317888\tNC_047565.1\t30498760\t30498762\n",
      "105318419\tNC_047564.1\t51737035\t51737037\n",
      "105318826\tNC_047567.1\t33591814\t33591816\n",
      "105318949\tNC_047562.1\t47310318\t47310320\n",
      "105319080\tNC_047562.1\t46825715\t46825717\n",
      "105319092\tNC_047564.1\t26558120\t26558122\n",
      "105319092\tNC_047564.1\t26558163\t26558165\n",
      "105319092\tNC_047564.1\t26558169\t26558171\n",
      "     301 DML-pH-75-Cov5-Fem.GeneIDs.geneOverlap\n"
     ]
    }
   ],
   "source": [
    "!head DML-pH-75-Cov5-Fem.GeneIDs.geneOverlap\n",
    "!wc -l DML-pH-75-Cov5-Fem.GeneIDs.geneOverlap"
   ]
  },
  {
   "cell_type": "markdown",
   "metadata": {},
   "source": [
    "#### Join with transcript IDs"
   ]
  },
  {
   "cell_type": "code",
   "execution_count": 134,
   "metadata": {
    "collapsed": false
   },
   "outputs": [],
   "source": [
    "#Join files to get transcript ID for DML\n",
    "!join -1 1 -2 1 -t $'\\t' \\\n",
    "DML-pH-75-Cov5-Fem.GeneIDs.geneOverlap \\\n",
    "cgigas_uk_roslin_v1_mRNA.transcriptID.geneID \\\n",
    "| uniq | awk -F'\\t' -v OFS='\\t' '{print $5, $1, $2, $3, $4}' \\\n",
    "| sort \\\n",
    "> DML-pH-75-Cov5-Fem.GeneIDs.geneOverlap.transcriptIDs"
   ]
  },
  {
   "cell_type": "code",
   "execution_count": 135,
   "metadata": {
    "collapsed": false
   },
   "outputs": [
    {
     "name": "stdout",
     "output_type": "stream",
     "text": [
      "XM_011414688.3\t105317888\tNC_047565.1\t30498760\t30498762\n",
      "XM_011414689.3\t105317888\tNC_047565.1\t30498760\t30498762\n",
      "XM_011415535.3\t105318419\tNC_047564.1\t51737035\t51737037\n",
      "XM_011415536.3\t105318419\tNC_047564.1\t51737035\t51737037\n",
      "XM_011415537.3\t105318419\tNC_047564.1\t51737035\t51737037\n",
      "XM_011416280.3\t105318949\tNC_047562.1\t47310318\t47310320\n",
      "XM_011416487.3\t105319080\tNC_047562.1\t46825715\t46825717\n",
      "XM_011416488.3\t105319080\tNC_047562.1\t46825715\t46825717\n",
      "XM_011416528.3\t105319125\tNC_047559.1\t8166690\t8166692\n",
      "XM_011416529.3\t105319125\tNC_047559.1\t8166690\t8166692\n",
      "    1021 DML-pH-75-Cov5-Fem.GeneIDs.geneOverlap.transcriptIDs\n"
     ]
    }
   ],
   "source": [
    "#Col names: transcript IDs, gene IDs, chr, start, end\n",
    "!head DML-pH-75-Cov5-Fem.GeneIDs.geneOverlap.transcriptIDs\n",
    "!wc -l DML-pH-75-Cov5-Fem.GeneIDs.geneOverlap.transcriptIDs"
   ]
  },
  {
   "cell_type": "markdown",
   "metadata": {},
   "source": [
    "#### Join with annotations"
   ]
  },
  {
   "cell_type": "code",
   "execution_count": 166,
   "metadata": {
    "collapsed": false,
    "scrolled": true
   },
   "outputs": [],
   "source": [
    "#Join files to get GO annotations for DML\n",
    "!join -1 1 -2 1 -t $'\\t' \\\n",
    "DML-pH-75-Cov5-Fem.GeneIDs.geneOverlap.transcriptIDs \\\n",
    "Blastquery-GOslim.tab \\\n",
    "| uniq \\\n",
    "| sort \\\n",
    "> DML-pH-75-Cov5-Fem.GeneIDs.geneOverlap.transcriptIDs.GOAnnot"
   ]
  },
  {
   "cell_type": "code",
   "execution_count": 167,
   "metadata": {
    "collapsed": false,
    "scrolled": true
   },
   "outputs": [
    {
     "name": "stdout",
     "output_type": "stream",
     "text": [
      "XM_011414688.3\t105317888\tNC_047565.1\t30498760\t30498762\tGO:0005200\tstructural constituent of cytoskeleton\tcytoskeletal activity\tF\n",
      "XM_011414688.3\t105317888\tNC_047565.1\t30498760\t30498762\tGO:0005524\tATP binding\tother molecular function\tF\n",
      "XM_011414688.3\t105317888\tNC_047565.1\t30498760\t30498762\tGO:0005737\tcytoplasm\tother cellular component\tC\n",
      "XM_011414688.3\t105317888\tNC_047565.1\t30498760\t30498762\tGO:0005885\tArp2/3 protein complex\tcytoskeleton\tC\n",
      "XM_011414688.3\t105317888\tNC_047565.1\t30498760\t30498762\tGO:0005903\tbrush border\tother cellular component\tC\n",
      "XM_011414688.3\t105317888\tNC_047565.1\t30498760\t30498762\tGO:0005911\tcell-cell junction\tother membranes\tC\n",
      "XM_011414688.3\t105317888\tNC_047565.1\t30498760\t30498762\tGO:0005911\tcell-cell junction\tplasma membrane\tC\n",
      "XM_011414688.3\t105317888\tNC_047565.1\t30498760\t30498762\tGO:0005925\tfocal adhesion\tother membranes\tC\n",
      "XM_011414688.3\t105317888\tNC_047565.1\t30498760\t30498762\tGO:0005925\tfocal adhesion\tplasma membrane\tC\n",
      "XM_011414688.3\t105317888\tNC_047565.1\t30498760\t30498762\tGO:0007163\testablishment or maintenance of cell polarity\tcell organization and biogenesis\tP\n",
      "   11371 DML-pH-75-Cov5-Fem.GeneIDs.geneOverlap.transcriptIDs.GOAnnot\n"
     ]
    }
   ],
   "source": [
    "!head DML-pH-75-Cov5-Fem.GeneIDs.geneOverlap.transcriptIDs.GOAnnot\n",
    "!wc -l DML-pH-75-Cov5-Fem.GeneIDs.geneOverlap.transcriptIDs.GOAnnot"
   ]
  },
  {
   "cell_type": "markdown",
   "metadata": {},
   "source": [
    "### 2c. Indeterminate-DML"
   ]
  },
  {
   "cell_type": "markdown",
   "metadata": {},
   "source": [
    "#### Format file"
   ]
  },
  {
   "cell_type": "code",
   "execution_count": 168,
   "metadata": {
    "collapsed": false,
    "scrolled": true
   },
   "outputs": [
    {
     "name": "stdout",
     "output_type": "stream",
     "text": [
      "NC_047559.1\t738014\t738016\t-100\tNC_047559.1\tGnomon\tgene\t732799\t748662\t.\t+\t.\tID=gene-LOC105328744;Dbxref=GeneID:105328744;Name=LOC105328744;gbkey=Gene;gene=LOC105328744;gene_biotype=protein_coding\r\n",
      "NC_047559.1\t1006145\t1006147\t100\tNC_047559.1\tGnomon\tgene\t990880\t1010116\t.\t+\t.\tID=gene-LOC105320530;Dbxref=GeneID:105320530;Name=LOC105320530;gbkey=Gene;gene=LOC105320530;gene_biotype=protein_coding\r\n",
      "NC_047559.1\t1715466\t1715468\t100\tNC_047559.1\tGnomon\tgene\t1712178\t1732215\t.\t-\t.\tID=gene-LOC105327355;Dbxref=GeneID:105327355;Name=LOC105327355;gbkey=Gene;gene=LOC105327355;gene_biotype=protein_coding\r\n",
      "NC_047559.1\t2193954\t2193956\t-100\tNC_047559.1\tGnomon\tgene\t2191064\t2198259\t.\t+\t.\tID=gene-LOC105319884;Dbxref=GeneID:105319884;Name=LOC105319884;gbkey=Gene;gene=LOC105319884;gene_biotype=protein_coding\r\n",
      "NC_047559.1\t3595157\t3595159\t-100\tNC_047559.1\tGnomon\tgene\t3595061\t3605639\t.\t-\t.\tID=gene-LOC105338359;Dbxref=GeneID:105338359;Name=LOC105338359;gbkey=Gene;gene=LOC105338359;gene_biotype=protein_coding\r\n",
      "NC_047559.1\t3613450\t3613452\t-100\tNC_047559.1\tGnomon\tgene\t3605784\t3628135\t.\t+\t.\tID=gene-LOC105338358;Dbxref=GeneID:105338358;Name=LOC105338358;gbkey=Gene;gene=LOC105338358;gene_biotype=protein_coding\r\n",
      "NC_047559.1\t3734205\t3734207\t-100\tNC_047559.1\tGnomon\tgene\t3725607\t3758014\t.\t+\t.\tID=gene-LOC109617077;Dbxref=GeneID:109617077;Name=LOC109617077;gbkey=Gene;gene=LOC109617077;gene_biotype=protein_coding\r\n",
      "NC_047559.1\t3874606\t3874608\t-100\tNC_047559.1\tGnomon\tgene\t3864366\t3881600\t.\t+\t.\tID=gene-LOC105326456;Dbxref=GeneID:105326456;Name=LOC105326456;gbkey=Gene;gene=LOC105326456;gene_biotype=protein_coding\r\n",
      "NC_047559.1\t4907314\t4907316\t-100\tNC_047559.1\tGnomon\tgene\t4902153\t4914502\t.\t+\t.\tID=gene-LOC105323254;Dbxref=GeneID:105323254;Name=LOC105323254;gbkey=Gene;gene=LOC105323254;gene_biotype=protein_coding\r\n",
      "NC_047559.1\t4996260\t4996262\t-100\tNC_047559.1\tGnomon\tgene\t4993094\t5006585\t.\t-\t.\tID=gene-LOC105323247;Dbxref=GeneID:105323247;Name=LOC105323247;gbkey=Gene;gene=LOC105323247;gene_biotype=protein_coding\r\n"
     ]
    }
   ],
   "source": [
    "!head ../../output/10_DML-characterization/DML-pH-100-Cov5-Ind-Gene-wb.bed"
   ]
  },
  {
   "cell_type": "code",
   "execution_count": 169,
   "metadata": {
    "collapsed": false
   },
   "outputs": [],
   "source": [
    "#Isolate column with gene ID information\n",
    "#Convert =, :, and ; to \\t\n",
    "#Isolate gene ID\n",
    "\n",
    "!cut -f13 ../../output/10_DML-characterization/DML-pH-100-Cov5-Ind-Gene-wb.bed \\\n",
    "| tr \"=:;\" \"\\t\" \\\n",
    "| cut -f5 \\\n",
    "> DML-pH-100-Cov5-Ind.GeneIDs"
   ]
  },
  {
   "cell_type": "code",
   "execution_count": 170,
   "metadata": {
    "collapsed": false
   },
   "outputs": [
    {
     "name": "stdout",
     "output_type": "stream",
     "text": [
      "105328744\n",
      "105320530\n",
      "105327355\n",
      "105319884\n",
      "105338359\n",
      "105338358\n",
      "109617077\n",
      "105326456\n",
      "105323254\n",
      "105323247\n",
      "    2642 DML-pH-100-Cov5-Ind.GeneIDs\n"
     ]
    }
   ],
   "source": [
    "!head DML-pH-100-Cov5-Ind.GeneIDs\n",
    "!wc -l DML-pH-100-Cov5-Ind.GeneIDs"
   ]
  },
  {
   "cell_type": "code",
   "execution_count": 173,
   "metadata": {
    "collapsed": false
   },
   "outputs": [],
   "source": [
    "!paste DML-pH-100-Cov5-Ind.GeneIDs ../../output/10_DML-characterization/DML-pH-100-Cov5-Ind-Gene-wb.bed \\\n",
    "| awk -F'\\t' -v OFS='\\t' '{print $1, $2, $3, $4}' \\\n",
    "| sort \\\n",
    "> DML-pH-100-Cov5-Ind.GeneIDs.geneOverlap"
   ]
  },
  {
   "cell_type": "code",
   "execution_count": 174,
   "metadata": {
    "collapsed": false
   },
   "outputs": [
    {
     "name": "stdout",
     "output_type": "stream",
     "text": [
      "105317044\tNC_047560.1\t1300547\t1300549\n",
      "105317044\tNC_047560.1\t1309141\t1309143\n",
      "105317066\tNC_047561.1\t798026\t798028\n",
      "105317076\tNC_047568.1\t32563018\t32563020\n",
      "105317114\tNC_047563.1\t39039437\t39039439\n",
      "105317154\tNC_047567.1\t17056242\t17056244\n",
      "105317173\tNC_047561.1\t17784403\t17784405\n",
      "105317194\tNC_047563.1\t7508457\t7508459\n",
      "105317220\tNC_047562.1\t48730553\t48730555\n",
      "105317220\tNC_047562.1\t48759032\t48759034\n",
      "    2642 DML-pH-100-Cov5-Ind.GeneIDs.geneOverlap\n"
     ]
    }
   ],
   "source": [
    "!head DML-pH-100-Cov5-Ind.GeneIDs.geneOverlap\n",
    "!wc -l DML-pH-100-Cov5-Ind.GeneIDs.geneOverlap"
   ]
  },
  {
   "cell_type": "markdown",
   "metadata": {},
   "source": [
    "#### Join with transcript IDs"
   ]
  },
  {
   "cell_type": "code",
   "execution_count": 175,
   "metadata": {
    "collapsed": false
   },
   "outputs": [],
   "source": [
    "#Join files to get transcript ID for DML\n",
    "!join -1 1 -2 1 -t $'\\t' \\\n",
    "DML-pH-100-Cov5-Ind.GeneIDs.geneOverlap \\\n",
    "cgigas_uk_roslin_v1_mRNA.transcriptID.geneID \\\n",
    "| uniq | awk -F'\\t' -v OFS='\\t' '{print $5, $1, $2, $3, $4}' \\\n",
    "| sort \\\n",
    "> DML-pH-100-Cov5-Ind.GeneIDs.geneOverlap.transcriptIDs"
   ]
  },
  {
   "cell_type": "code",
   "execution_count": 176,
   "metadata": {
    "collapsed": false
   },
   "outputs": [
    {
     "name": "stdout",
     "output_type": "stream",
     "text": [
      "NM_001305324.1\t105343591\tNC_047564.1\t6960513\t6960515\n",
      "NM_001305324.1\t105343591\tNC_047564.1\t6970460\t6970462\n",
      "NM_001305351.1\t105327034\tNC_047566.1\t46030575\t46030577\n",
      "NM_001305361.1\t105344976\tNC_047564.1\t10237861\t10237863\n",
      "NM_001305378.1\t105344505\tNC_047565.1\t43638670\t43638672\n",
      "NM_001308886.1\t105343370\tNC_047568.1\t29512915\t29512917\n",
      "XM_011413601.3\t105317066\tNC_047561.1\t798026\t798028\n",
      "XM_011413602.3\t105317066\tNC_047561.1\t798026\t798028\n",
      "XM_011413700.3\t105317154\tNC_047567.1\t17056242\t17056244\n",
      "XM_011413706.3\t105317154\tNC_047567.1\t17056242\t17056244\n",
      "    8775 DML-pH-100-Cov5-Ind.GeneIDs.geneOverlap.transcriptIDs\n"
     ]
    }
   ],
   "source": [
    "#Col names: transcript IDs, gene IDs, chr, start, end\n",
    "!head DML-pH-100-Cov5-Ind.GeneIDs.geneOverlap.transcriptIDs\n",
    "!wc -l DML-pH-100-Cov5-Ind.GeneIDs.geneOverlap.transcriptIDs"
   ]
  },
  {
   "cell_type": "markdown",
   "metadata": {},
   "source": [
    "#### Join with annotations"
   ]
  },
  {
   "cell_type": "code",
   "execution_count": 179,
   "metadata": {
    "collapsed": false,
    "scrolled": true
   },
   "outputs": [],
   "source": [
    "#Join files to get GO annotations for DML\n",
    "!join -1 1 -2 1 -t $'\\t' \\\n",
    "DML-pH-100-Cov5-Ind.GeneIDs.geneOverlap.transcriptIDs \\\n",
    "Blastquery-GOslim.tab \\\n",
    "| sort \\\n",
    "| uniq \\\n",
    "> DML-pH-100-Cov5-Ind.GeneIDs.geneOverlap.transcriptIDs.GOAnnot"
   ]
  },
  {
   "cell_type": "code",
   "execution_count": 180,
   "metadata": {
    "collapsed": false,
    "scrolled": true
   },
   "outputs": [
    {
     "name": "stdout",
     "output_type": "stream",
     "text": [
      "XM_011413601.3\t105317066\tNC_047561.1\t798026\t798028\tGO:0004672\tprotein kinase activity\tkinase activity\tF\n",
      "XM_011413601.3\t105317066\tNC_047561.1\t798026\t798028\tGO:0004707\tMAP kinase activity\tkinase activity\tF\n",
      "XM_011413601.3\t105317066\tNC_047561.1\t798026\t798028\tGO:0004707\tMAP kinase activity\tsignal transduction activity\tF\n",
      "XM_011413601.3\t105317066\tNC_047561.1\t798026\t798028\tGO:0005524\tATP binding\tother molecular function\tF\n",
      "XM_011413601.3\t105317066\tNC_047561.1\t798026\t798028\tGO:0005634\tnucleus\tnucleus\tC\n",
      "XM_011413601.3\t105317066\tNC_047561.1\t798026\t798028\tGO:0005737\tcytoplasm\tother cellular component\tC\n",
      "XM_011413601.3\t105317066\tNC_047561.1\t798026\t798028\tGO:0005829\tcytosol\tcytosol\tC\n",
      "XM_011413601.3\t105317066\tNC_047561.1\t798026\t798028\tGO:0006468\tprotein amino acid phosphorylation\tprotein metabolism\tP\n",
      "XM_011413601.3\t105317066\tNC_047561.1\t798026\t798028\tGO:0007049\tcell cycle\tcell cycle and proliferation\tP\n",
      "XM_011413601.3\t105317066\tNC_047561.1\t798026\t798028\tGO:0010468\tregulation of gene expression\tother metabolic processes\tP\n",
      "  110294 DML-pH-100-Cov5-Ind.GeneIDs.geneOverlap.transcriptIDs.GOAnnot\n"
     ]
    }
   ],
   "source": [
    "!head DML-pH-100-Cov5-Ind.GeneIDs.geneOverlap.transcriptIDs.GOAnnot\n",
    "!wc -l DML-pH-100-Cov5-Ind.GeneIDs.geneOverlap.transcriptIDs.GOAnnot"
   ]
  },
  {
   "cell_type": "markdown",
   "metadata": {},
   "source": [
    "### 2d. All 5x CpGs (CpG background)"
   ]
  },
  {
   "cell_type": "code",
   "execution_count": null,
   "metadata": {
    "collapsed": true
   },
   "outputs": [],
   "source": []
  }
 ],
 "metadata": {
  "anaconda-cloud": {},
  "kernelspec": {
   "display_name": "Python [default]",
   "language": "python",
   "name": "python3"
  },
  "language_info": {
   "codemirror_mode": {
    "name": "ipython",
    "version": 3
   },
   "file_extension": ".py",
   "mimetype": "text/x-python",
   "name": "python",
   "nbconvert_exporter": "python",
   "pygments_lexer": "ipython3",
   "version": "3.5.2"
  }
 },
 "nbformat": 4,
 "nbformat_minor": 1
}
