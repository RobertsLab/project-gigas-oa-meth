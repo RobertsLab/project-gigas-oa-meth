{
 "cells": [
  {
   "cell_type": "markdown",
   "metadata": {},
   "source": [
    "# Genomic Location of DML"
   ]
  },
  {
   "cell_type": "markdown",
   "metadata": {},
   "source": [
    "In this notebook, I will identify the genomic locations of [sex-specific DML identified with `methylKit`](https://github.com/RobertsLab/project-gigas-oa-meth/blob/master/code/06-methylKit.R). \n",
    "\n",
    "2. Create BEDfiles for DML\n",
    "3. Characterize genomic locations for DML\n",
    "5. Identify overlaps between SNPs and DML"
   ]
  },
  {
   "cell_type": "markdown",
   "metadata": {},
   "source": [
    "## 0. Set working directory"
   ]
  },
  {
   "cell_type": "code",
   "execution_count": 1,
   "metadata": {},
   "outputs": [
    {
     "data": {
      "text/plain": [
       "'/Users/yaaminivenkataraman/Documents/project-gigas-oa-meth/code'"
      ]
     },
     "execution_count": 1,
     "metadata": {},
     "output_type": "execute_result"
    }
   ],
   "source": [
    "pwd"
   ]
  },
  {
   "cell_type": "code",
   "execution_count": 2,
   "metadata": {},
   "outputs": [
    {
     "name": "stdout",
     "output_type": "stream",
     "text": [
      "/Users/yaaminivenkataraman/Documents/project-gigas-oa-meth/output\n"
     ]
    }
   ],
   "source": [
    "cd ../output/"
   ]
  },
  {
   "cell_type": "code",
   "execution_count": 3,
   "metadata": {},
   "outputs": [],
   "source": [
    "#mkdir 10_DML-characterization"
   ]
  },
  {
   "cell_type": "code",
   "execution_count": 19,
   "metadata": {},
   "outputs": [
    {
     "name": "stdout",
     "output_type": "stream",
     "text": [
      "/Users/yaaminivenkataraman/Documents/project-gigas-oa-meth/output/10_DML-characterization\n"
     ]
    }
   ],
   "source": [
    "cd 10_DML-characterization/"
   ]
  },
  {
   "cell_type": "code",
   "execution_count": 16,
   "metadata": {},
   "outputs": [],
   "source": [
    "bedtoolsDirectory = \"/opt/homebrew/bin/\""
   ]
  },
  {
   "cell_type": "markdown",
   "metadata": {},
   "source": [
    "## 1. Create BEDfiles for DML"
   ]
  },
  {
   "cell_type": "markdown",
   "metadata": {},
   "source": [
    "My `methylKit` DML lists are `.csv` files. To identify genomic locations with `bedtools intersect`, I need BEDfiles."
   ]
  },
  {
   "cell_type": "code",
   "execution_count": 22,
   "metadata": {},
   "outputs": [
    {
     "name": "stdout",
     "output_type": "stream",
     "text": [
      "\"\",\"chr\",\"start\",\"end\",\"strand\",\"pvalue\",\"qvalue\",\"meth.diff\"\r\n",
      "\"375\",\"NC_047559.1\",7867,7869,\"*\",1.62548959439652e-16,4.40724882587981e-13,65.1062155782848\r\n",
      "\"4686\",\"NC_047559.1\",741585,741587,\"*\",4.16159580479533e-06,0.000712875666228856,58.141592920354\r\n",
      "\"9527\",\"NC_047559.1\",1191754,1191756,\"*\",9.10615096150674e-12,8.55819210647154e-09,53.4323271665044\r\n",
      "\"20530\",\"NC_047559.1\",2792607,2792609,\"*\",2.77002835981994e-06,0.000508253755861752,51.8593644354293\r\n",
      "\"21934\",\"NC_047559.1\",3065822,3065824,\"*\",4.43002899193152e-05,0.00509735167303334,60.0770492972819\r\n",
      "\"27751\",\"NC_047559.1\",3611505,3611507,\"*\",4.05341454457055e-09,1.85108015554992e-06,53.448275862069\r\n",
      "\"32064\",\"NC_047559.1\",3913926,3913928,\"*\",1.08462926383698e-45,2.58061516171489e-40,-74.8831918092065\r\n",
      "\"58355\",\"NC_047559.1\",6327898,6327900,\"*\",1.03394422276363e-06,0.000220234759568014,65\r\n",
      "\"65969\",\"NC_047559.1\",6936424,6936426,\"*\",1.30058690916754e-10,9.0216751507499e-08,50.7046304285304\r\n"
     ]
    }
   ],
   "source": [
    "#Look at csv file to determine what modifications need to be made\n",
    "#Column 2: chr, Column 3: start, Column 4: end, Column 8: meth.diff\n",
    "!head ../06-methylKit/DML/DML-pH-50-Cov5-All.csv"
   ]
  },
  {
   "cell_type": "code",
   "execution_count": 7,
   "metadata": {},
   "outputs": [],
   "source": [
    "%%bash\n",
    "\n",
    "#Replace , with tabs\n",
    "#Remove extraneous quotes entries (can also be done in R)\n",
    "#Print chr, start, end, meth.diff\n",
    "#Remove header\n",
    "#Save as BEDfile\n",
    "\n",
    "for f in ../06-methylKit/DML/DML*csv\n",
    "do\n",
    "    tr \",\" \"\\t\" < ${f} \\\n",
    "    | tr -d '\"' \\\n",
    "    | awk '{print $2\"\\t\"$3\"\\t\"$4\"\\t\"$8}' \\\n",
    "    | tail -n+2 \\\n",
    "    > ${f}.bed\n",
    "done"
   ]
  },
  {
   "cell_type": "code",
   "execution_count": 8,
   "metadata": {},
   "outputs": [],
   "source": [
    "%%bash\n",
    "\n",
    "#Move BEDfiles to current working directory\n",
    "mv ../06-methylKit/DML/*bed ."
   ]
  },
  {
   "cell_type": "code",
   "execution_count": 9,
   "metadata": {
    "scrolled": true
   },
   "outputs": [
    {
     "name": "stdout",
     "output_type": "stream",
     "text": [
      "==> DML-pH-100-Cov5-Ind-unique-CT-SNPs.bed <==\r\n",
      "NC_047559.1\t738014\t738016\t-100\r\n",
      "NC_047559.1\t1011405\t1011407\t100\r\n",
      "NC_047559.1\t3874606\t3874608\t-100\r\n",
      "NC_047559.1\t4907314\t4907316\t-100\r\n",
      "NC_047559.1\t5430962\t5430964\t100\r\n",
      "NC_047559.1\t6601946\t6601948\t-100\r\n",
      "NC_047559.1\t6621879\t6621881\t100\r\n",
      "NC_047559.1\t7138119\t7138121\t-100\r\n",
      "NC_047559.1\t9537680\t9537682\t100\r\n",
      "NC_047559.1\t9548686\t9548688\t100\r\n",
      "\r\n",
      "==> DML-pH-100-Cov5-Ind.csv.bed <==\r\n",
      "NC_047559.1\t738014\t738016\t-100\r\n",
      "NC_047559.1\t1006145\t1006147\t100\r\n",
      "NC_047559.1\t1011405\t1011407\t100\r\n",
      "NC_047559.1\t1715466\t1715468\t100\r\n",
      "NC_047559.1\t2193954\t2193956\t-100\r\n",
      "NC_047559.1\t3595157\t3595159\t-100\r\n",
      "NC_047559.1\t3613450\t3613452\t-100\r\n",
      "NC_047559.1\t3734205\t3734207\t-100\r\n",
      "NC_047559.1\t3874606\t3874608\t-100\r\n",
      "NC_047559.1\t4907314\t4907316\t-100\r\n",
      "\r\n",
      "==> DML-pH-25-Cov5-All.csv.bed <==\r\n",
      "NC_047559.1\t7867\t7869\t65.1062155782848\r\n",
      "NC_047559.1\t559248\t559250\t-45.2380952380952\r\n",
      "NC_047559.1\t561284\t561286\t-28.5084643894621\r\n",
      "NC_047559.1\t589057\t589059\t29.4117647058824\r\n",
      "NC_047559.1\t606381\t606383\t25.0607128867998\r\n",
      "NC_047559.1\t737161\t737163\t29.7539097355939\r\n",
      "NC_047559.1\t741585\t741587\t58.141592920354\r\n",
      "NC_047559.1\t742817\t742819\t30.1926378027847\r\n",
      "NC_047559.1\t744037\t744039\t-43.4062913570192\r\n",
      "NC_047559.1\t748282\t748284\t-38.8565891472868\r\n",
      "\r\n",
      "==> DML-pH-25-Cov5-Fem.csv.bed <==\r\n",
      "NC_047559.1\t7867\t7869\t64.5753773413348\r\n",
      "NC_047559.1\t576880\t576882\t36.8918918918919\r\n",
      "NC_047559.1\t606381\t606383\t32.8677433435181\r\n",
      "NC_047559.1\t607024\t607026\t42.6966292134831\r\n",
      "NC_047559.1\t612843\t612845\t-36.2951549392227\r\n",
      "NC_047559.1\t616708\t616710\t-35\r\n",
      "NC_047559.1\t733435\t733437\t46.1430423509075\r\n",
      "NC_047559.1\t742817\t742819\t39.0844459857812\r\n",
      "NC_047559.1\t742820\t742822\t35.5772357723577\r\n",
      "NC_047559.1\t744037\t744039\t-53.2666983975884\r\n",
      "\r\n",
      "==> DML-pH-25-Cov5-Ind.csv.bed <==\r\n",
      "NC_047559.1\t4791\t4793\t66.8650793650794\r\n",
      "NC_047559.1\t4835\t4837\t66.8831168831169\r\n",
      "NC_047559.1\t4843\t4845\t88.6486486486486\r\n",
      "NC_047559.1\t68070\t68072\t-78.328173374613\r\n",
      "NC_047559.1\t298568\t298570\t35.4838709677419\r\n",
      "NC_047559.1\t298613\t298615\t46.1538461538462\r\n",
      "NC_047559.1\t338745\t338747\t-39.010989010989\r\n",
      "NC_047559.1\t338753\t338755\t-34.4444444444444\r\n",
      "NC_047559.1\t338765\t338767\t-30.2777777777778\r\n",
      "NC_047559.1\t338777\t338779\t-36.0427807486631\r\n",
      "\r\n",
      "==> DML-pH-50-Cov5-All.csv.bed <==\r\n",
      "NC_047559.1\t7867\t7869\t65.1062155782848\r\n",
      "NC_047559.1\t741585\t741587\t58.141592920354\r\n",
      "NC_047559.1\t1191754\t1191756\t53.4323271665044\r\n",
      "NC_047559.1\t2792607\t2792609\t51.8593644354293\r\n",
      "NC_047559.1\t3065822\t3065824\t60.0770492972819\r\n",
      "NC_047559.1\t3611505\t3611507\t53.448275862069\r\n",
      "NC_047559.1\t3913926\t3913928\t-74.8831918092065\r\n",
      "NC_047559.1\t6327898\t6327900\t65\r\n",
      "NC_047559.1\t6936424\t6936426\t50.7046304285304\r\n",
      "NC_047559.1\t7271820\t7271822\t-50.4714016341923\r\n",
      "\r\n",
      "==> DML-pH-50-Cov5-Fem.csv.bed <==\r\n",
      "NC_047559.1\t7867\t7869\t64.5753773413348\r\n",
      "NC_047559.1\t744037\t744039\t-53.2666983975884\r\n",
      "NC_047559.1\t749465\t749467\t-59.0909090909091\r\n",
      "NC_047559.1\t1191754\t1191756\t56.0804701627486\r\n",
      "NC_047559.1\t1205353\t1205355\t-66.2207357859532\r\n",
      "NC_047559.1\t2121869\t2121871\t-59.9326599326599\r\n",
      "NC_047559.1\t2178949\t2178951\t-58.4615384615385\r\n",
      "NC_047559.1\t2799230\t2799232\t83.0864530029626\r\n",
      "NC_047559.1\t2799498\t2799500\t65.5769230769231\r\n",
      "NC_047559.1\t3065822\t3065824\t67.5486287302163\r\n",
      "\r\n",
      "==> DML-pH-50-Cov5-Ind.csv.bed <==\r\n",
      "NC_047559.1\t4791\t4793\t66.8650793650794\r\n",
      "NC_047559.1\t4835\t4837\t66.8831168831169\r\n",
      "NC_047559.1\t4843\t4845\t88.6486486486486\r\n",
      "NC_047559.1\t68070\t68072\t-78.328173374613\r\n",
      "NC_047559.1\t342209\t342211\t-75.4545454545455\r\n",
      "NC_047559.1\t342243\t342245\t-55.2631578947368\r\n",
      "NC_047559.1\t342246\t342248\t-52.7665317139001\r\n",
      "NC_047559.1\t425516\t425518\t63.4615384615385\r\n",
      "NC_047559.1\t428032\t428034\t-64.7058823529412\r\n",
      "NC_047559.1\t429637\t429639\t-52.3809523809524\r\n",
      "\r\n",
      "==> DML-pH-75-Cov5-All.csv.bed <==\r\n",
      "NC_047559.1\t9400974\t9400976\t-77.0087976539589\r\n",
      "NC_047559.1\t41431870\t41431872\t-91.9354838709677\r\n",
      "NC_047559.1\t52303932\t52303934\t83.3193441889094\r\n",
      "NC_047560.1\t50062255\t50062257\t78.7419814682822\r\n",
      "NC_047560.1\t51286421\t51286423\t-81\r\n",
      "NC_047561.1\t2480996\t2480998\t-86.798418972332\r\n",
      "NC_047561.1\t6117744\t6117746\t-78.2608695652174\r\n",
      "NC_047561.1\t25420097\t25420099\t-75.750300120048\r\n",
      "NC_047561.1\t34639382\t34639384\t80.8333333333333\r\n",
      "NC_047562.1\t20305876\t20305878\t78.2945736434108\r\n",
      "\r\n",
      "==> DML-pH-75-Cov5-Fem-unique-CT-SNPs.bed <==\r\n",
      "NC_047559.1\t18206975\t18206977\t80.1851851851852\r\n",
      "NC_047559.1\t24177562\t24177564\t86.3445378151261\r\n",
      "NC_047559.1\t24859718\t24859720\t-79.2\r\n",
      "NC_047559.1\t24987135\t24987137\t-80.6034482758621\r\n",
      "NC_047559.1\t51876614\t51876616\t-84.7826086956522\r\n",
      "NC_047559.1\t54053386\t54053388\t-85.1851851851852\r\n",
      "NC_047560.1\t17822823\t17822825\t80.8080808080808\r\n",
      "NC_047560.1\t19919194\t19919196\t78.4216772151899\r\n",
      "NC_047560.1\t21542121\t21542123\t-81.0526315789474\r\n",
      "NC_047560.1\t22806263\t22806265\t-80.787037037037\r\n",
      "\r\n",
      "==> DML-pH-75-Cov5-Fem.csv.bed <==\r\n",
      "NC_047559.1\t2799230\t2799232\t83.0864530029626\r\n",
      "NC_047559.1\t6531650\t6531652\t76.7441860465116\r\n",
      "NC_047559.1\t8166690\t8166692\t77.3809523809524\r\n",
      "NC_047559.1\t9400974\t9400976\t-81.6326530612245\r\n",
      "NC_047559.1\t11117667\t11117669\t-77.0833333333333\r\n",
      "NC_047559.1\t18206975\t18206977\t80.1851851851852\r\n",
      "NC_047559.1\t22293933\t22293935\t75.2770673486786\r\n",
      "NC_047559.1\t24170063\t24170065\t76.8102073365231\r\n",
      "NC_047559.1\t24173162\t24173164\t77.8471602735653\r\n",
      "NC_047559.1\t24173203\t24173205\t82.0861678004535\r\n",
      "\r\n",
      "==> DML-pH-75-Cov5-Ind.csv.bed <==\r\n",
      "NC_047559.1\t4843\t4845\t88.6486486486486\r\n",
      "NC_047559.1\t68070\t68072\t-78.328173374613\r\n",
      "NC_047559.1\t342209\t342211\t-75.4545454545455\r\n",
      "NC_047559.1\t433154\t433156\t-76.9230769230769\r\n",
      "NC_047559.1\t564054\t564056\t-80\r\n",
      "NC_047559.1\t565569\t565571\t-97.3684210526316\r\n",
      "NC_047559.1\t565681\t565683\t-89.7959183673469\r\n",
      "NC_047559.1\t567364\t567366\t-97.3684210526316\r\n",
      "NC_047559.1\t584842\t584844\t79.4871794871795\r\n",
      "NC_047559.1\t736091\t736093\t76.4622973925299\r\n",
      "\r\n",
      "==> DML-pH-Cov5-Overlaps.bed <==\r\n",
      "NC_047559.1\t41431870\t41431872\t-89.5833333333333\r\n",
      "NC_047561.1\t46632231\t46632233\t80.7509881422925\r\n",
      "NC_047562.1\t10069178\t10069180\t-94.8212495823588\r\n",
      "NC_047563.1\t15549479\t15549481\t-83.5616438356164\r\n",
      "NC_047563.1\t62370986\t62370988\t80.5555555555556\r\n",
      "NC_047563.1\t62739104\t62739106\t-81.7953546767106\r\n",
      "NC_047565.1\t7110085\t7110087\t-83.3130699088146\r\n",
      "NC_047568.1\t295645\t295647\t-75.4901960784314\r\n"
     ]
    }
   ],
   "source": [
    "!head *bed"
   ]
  },
  {
   "cell_type": "markdown",
   "metadata": {
    "collapsed": true
   },
   "source": [
    "I imported the BEDfiles into [this IGV session](https://github.com/RobertsLab/project-gigas-oa-meth/blob/master/output/10_DML-characterization/dml.xml) to visualize them."
   ]
  },
  {
   "cell_type": "markdown",
   "metadata": {},
   "source": [
    "## 2. Overlaps between DML and unique C->T SNPs"
   ]
  },
  {
   "cell_type": "markdown",
   "metadata": {},
   "source": [
    "I will count how many DML overlap with SNPs, then remove those overlapping DML before proceeding with analyses."
   ]
  },
  {
   "cell_type": "markdown",
   "metadata": {},
   "source": [
    "### 2a. Create BEDfile"
   ]
  },
  {
   "cell_type": "code",
   "execution_count": 5,
   "metadata": {
    "collapsed": true
   },
   "outputs": [],
   "source": [
    "!awk '{print $1\"\\t\"$2\"\\t\"$2}' /Volumes/web/spartina/project-gigas-oa-meth/output/BS-Snper/unique-CT-SNPs.tab \\\n",
    "> /Volumes/web/spartina/project-gigas-oa-meth/output/BS-Snper/unique-CT-SNPs.bed"
   ]
  },
  {
   "cell_type": "code",
   "execution_count": 6,
   "metadata": {
    "scrolled": true
   },
   "outputs": [
    {
     "name": "stdout",
     "output_type": "stream",
     "text": [
      "NC_001276.1\t14669\t14669\n",
      "NC_047559.1\t1000025\t1000025\n",
      "NC_047559.1\t10001065\t10001065\n",
      "NC_047559.1\t10001128\t10001128\n",
      "NC_047559.1\t10001236\t10001236\n",
      "NC_047559.1\t10003470\t10003470\n",
      "NC_047559.1\t10003475\t10003475\n",
      "NC_047559.1\t10004318\t10004318\n",
      "NC_047559.1\t100045\t100045\n",
      "NC_047559.1\t10004558\t10004558\n",
      "  300278 /Volumes/web/spartina/project-gigas-oa-meth/output/BS-Snper/unique-CT-SNPs.bed\n"
     ]
    }
   ],
   "source": [
    "!head /Volumes/web/spartina/project-gigas-oa-meth/output/BS-Snper/unique-CT-SNPs.bed\n",
    "!wc -l /Volumes/web/spartina/project-gigas-oa-meth/output/BS-Snper/unique-CT-SNPs.bed"
   ]
  },
  {
   "cell_type": "markdown",
   "metadata": {},
   "source": [
    "### 2b. Identify overlaps"
   ]
  },
  {
   "cell_type": "code",
   "execution_count": 21,
   "metadata": {
    "scrolled": false
   },
   "outputs": [
    {
     "name": "stdout",
     "output_type": "stream",
     "text": [
      "NC_047559.1\t741585\t741587\t58.141592920354\n",
      "NC_047559.1\t3611505\t3611507\t53.448275862069\n",
      "NC_047559.1\t3913926\t3913928\t-74.8831918092065\n",
      "NC_047559.1\t7271820\t7271822\t-50.4714016341923\n",
      "NC_047559.1\t11690479\t11690481\t-65.2272727272727\n",
      "NC_047559.1\t14253544\t14253546\t50.8838383838384\n",
      "NC_047559.1\t19116966\t19116968\t-62.8409090909091\n",
      "NC_047559.1\t19816819\t19816821\t-54.2763157894737\n",
      "NC_047559.1\t20135187\t20135189\t52.9661016949153\n",
      "NC_047559.1\t21100425\t21100427\t-64.0404929577465\n",
      "     315 DML-pH-50-Cov5-All-unique-CT-SNPs.bed\n"
     ]
    }
   ],
   "source": [
    "#Identify overlaps between SNPs and potential DML\n",
    "!{bedtoolsDirectory}intersectBed \\\n",
    "-u \\\n",
    "-a DML-pH-50-Cov5-All.csv.bed \\\n",
    "-b /Volumes/web/spartina/project-gigas-oa-meth/output/BS-Snper/unique-CT-SNPs.bed \\\n",
    "> DML-pH-50-Cov5-All-unique-CT-SNPs.bed\n",
    "!head DML-pH-50-Cov5-All-unique-CT-SNPs.bed\n",
    "!wc -l DML-pH-50-Cov5-All-unique-CT-SNPs.bed"
   ]
  },
  {
   "cell_type": "code",
   "execution_count": 25,
   "metadata": {},
   "outputs": [
    {
     "name": "stdout",
     "output_type": "stream",
     "text": [
      "NC_047559.1\t7867\t7869\t65.1062155782848\n",
      "NC_047559.1\t1191754\t1191756\t53.4323271665044\n",
      "NC_047559.1\t2792607\t2792609\t51.8593644354293\n",
      "NC_047559.1\t3065822\t3065824\t60.0770492972819\n",
      "NC_047559.1\t6327898\t6327900\t65\n",
      "NC_047559.1\t6936424\t6936426\t50.7046304285304\n",
      "NC_047559.1\t7287685\t7287687\t50.5203619909502\n",
      "NC_047559.1\t8701415\t8701417\t53.5714285714286\n",
      "NC_047559.1\t9400941\t9400943\t-50.7792207792208\n",
      "NC_047559.1\t9400974\t9400976\t-77.0087976539589\n",
      "    1284 DML-pH-50-Cov5-All-NO-SNPs.bed\n"
     ]
    }
   ],
   "source": [
    "#Remove SNPs from DML list and save as a new file\n",
    "!{bedtoolsDirectory}subtractBed \\\n",
    "-a DML-pH-50-Cov5-All.csv.bed \\\n",
    "-b /Volumes/web/spartina/project-gigas-oa-meth/output/BS-Snper/unique-CT-SNPs.bed \\\n",
    "> DML-pH-50-Cov5-All-NO-SNPs.bed\n",
    "!head DML-pH-50-Cov5-All-NO-SNPs.bed\n",
    "!wc -l DML-pH-50-Cov5-All-NO-SNPs.bed"
   ]
  },
  {
   "cell_type": "code",
   "execution_count": 26,
   "metadata": {},
   "outputs": [
    {
     "name": "stdout",
     "output_type": "stream",
     "text": [
      "     654\n",
      "     630\n"
     ]
    }
   ],
   "source": [
    "#Count the number of hypomethylated DML\n",
    "#Count the number of hypermethylated DML\n",
    "!grep \"-\" DML-pH-50-Cov5-All-NO-SNPs.bed | wc -l\n",
    "!grep -v \"-\" DML-pH-50-Cov5-All-NO-SNPs.bed | wc -l"
   ]
  },
  {
   "cell_type": "markdown",
   "metadata": {},
   "source": [
    "## 3. Characterize genomic locations of DML"
   ]
  },
  {
   "cell_type": "markdown",
   "metadata": {},
   "source": [
    "I will look at overlaps between genome features and either female- and indeterminate-DML, as well as those that overlap."
   ]
  },
  {
   "cell_type": "markdown",
   "metadata": {},
   "source": [
    "### 3a. Gene"
   ]
  },
  {
   "cell_type": "code",
   "execution_count": 27,
   "metadata": {},
   "outputs": [
    {
     "name": "stdout",
     "output_type": "stream",
     "text": [
      "NC_047559.1\t1191754\t1191756\t53.4323271665044\n",
      "NC_047559.1\t2792607\t2792609\t51.8593644354293\n",
      "NC_047559.1\t3065822\t3065824\t60.0770492972819\n",
      "NC_047559.1\t6327898\t6327900\t65\n",
      "NC_047559.1\t6936424\t6936426\t50.7046304285304\n",
      "NC_047559.1\t8701415\t8701417\t53.5714285714286\n",
      "NC_047559.1\t10185079\t10185081\t-61.6666666666667\n",
      "NC_047559.1\t10868218\t10868220\t55.2532833020638\n",
      "NC_047559.1\t12290987\t12290989\t54.7191661841343\n",
      "NC_047559.1\t12382145\t12382147\t-62.5\n",
      "    1181 DML-pH-50-Cov5-All-Gene.bed\n"
     ]
    }
   ],
   "source": [
    "#Find overlaps between DML and feature\n",
    "#Look at output\n",
    "#Count number of overlaps\n",
    "\n",
    "!{bedtoolsDirectory}intersectBed \\\n",
    "-u \\\n",
    "-a DML-pH-50-Cov5-All-NO-SNPs.bed \\\n",
    "-b ../../genome-feature-files/cgigas_uk_roslin_v1_gene.gff \\\n",
    "> DML-pH-50-Cov5-All-Gene.bed\n",
    "!head DML-pH-50-Cov5-All-Gene.bed\n",
    "!wc -l DML-pH-50-Cov5-All-Gene.bed"
   ]
  },
  {
   "cell_type": "code",
   "execution_count": 28,
   "metadata": {
    "scrolled": true
   },
   "outputs": [
    {
     "name": "stdout",
     "output_type": "stream",
     "text": [
      "NC_047559.1\t1191754\t1191756\t53.4323271665044\tNC_047559.1\tGnomon\tgene\t1190707\t1193919\t.\t-\t.\tID=gene-LOC105318174;Dbxref=GeneID:105318174;Name=LOC105318174;gbkey=Gene;gene=LOC105318174;gene_biotype=protein_coding\r\n",
      "NC_047559.1\t2792607\t2792609\t51.8593644354293\tNC_047559.1\tGnomon\tgene\t2781135\t2798818\t.\t+\t.\tID=gene-LOC117683699;Dbxref=GeneID:117683699;Name=LOC117683699;gbkey=Gene;gene=LOC117683699;gene_biotype=protein_coding\r\n",
      "NC_047559.1\t2792607\t2792609\t51.8593644354293\tNC_047559.1\tGnomon\tgene\t2623361\t2849124\t.\t-\t.\tID=gene-LOC117683566;Dbxref=GeneID:117683566;Name=LOC117683566;gbkey=Gene;gene=LOC117683566;gene_biotype=protein_coding\r\n",
      "NC_047559.1\t3065822\t3065824\t60.0770492972819\tNC_047559.1\tGnomon\tgene\t3060171\t3074704\t.\t+\t.\tID=gene-LOC105337362;Dbxref=GeneID:105337362;Name=LOC105337362;gbkey=Gene;gene=LOC105337362;gene_biotype=protein_coding\r\n",
      "NC_047559.1\t6327898\t6327900\t65\tNC_047559.1\tGnomon\tgene\t6323929\t6334496\t.\t+\t.\tID=gene-LOC105342022;Dbxref=GeneID:105342022;Name=LOC105342022;gbkey=Gene;gene=LOC105342022;gene_biotype=protein_coding\r\n",
      "NC_047559.1\t6936424\t6936426\t50.7046304285304\tNC_047559.1\tGnomon\tgene\t6933507\t6939628\t.\t+\t.\tID=gene-LOC105317492;Dbxref=GeneID:105317492;Name=LOC105317492;gbkey=Gene;gene=LOC105317492;gene_biotype=protein_coding\r\n",
      "NC_047559.1\t8701415\t8701417\t53.5714285714286\tNC_047559.1\tGnomon\tgene\t8698481\t8703518\t.\t-\t.\tID=gene-LOC105325155;Dbxref=GeneID:105325155;Name=LOC105325155;gbkey=Gene;gene=LOC105325155;gene_biotype=protein_coding\r\n",
      "NC_047559.1\t10185079\t10185081\t-61.6666666666667\tNC_047559.1\tGnomon\tgene\t10164125\t10196884\t.\t-\t.\tID=gene-LOC105333210;Dbxref=GeneID:105333210;Name=LOC105333210;gbkey=Gene;gene=LOC105333210;gene_biotype=protein_coding\r\n",
      "NC_047559.1\t10868218\t10868220\t55.2532833020638\tNC_047559.1\tGnomon\tgene\t10864864\t10872821\t.\t+\t.\tID=gene-LOC105341494;Dbxref=GeneID:105341494;Name=LOC105341494;gbkey=Gene;gene=LOC105341494;gene_biotype=protein_coding\r\n",
      "NC_047559.1\t12290987\t12290989\t54.7191661841343\tNC_047559.1\tGnomon\tgene\t12285619\t12320498\t.\t-\t.\tID=gene-LOC105341392;Dbxref=GeneID:105341392;Name=LOC105341392;gbkey=Gene;gene=LOC105341392;gene_biotype=protein_coding\r\n"
     ]
    }
   ],
   "source": [
    "#Find overlaps between DML and genes\n",
    "#Include original entry from gene GFF for each overlap, which will be used in downstream enrichment analyses (wb)\n",
    "#Look at output. Do not count overlaps because there are likely redundant entries\n",
    "\n",
    "!{bedtoolsDirectory}intersectBed \\\n",
    "-wb \\\n",
    "-a DML-pH-50-Cov5-All-NO-SNPs.bed \\\n",
    "-b ../../genome-feature-files/cgigas_uk_roslin_v1_gene.gff \\\n",
    "> DML-pH-50-Cov5-All-Gene-wb.bed\n",
    "!head DML-pH-50-Cov5-All-Gene-wb.bed"
   ]
  },
  {
   "cell_type": "code",
   "execution_count": 29,
   "metadata": {},
   "outputs": [
    {
     "name": "stdout",
     "output_type": "stream",
     "text": [
      "     859\r\n"
     ]
    }
   ],
   "source": [
    "#Isolate column with gene IDs\n",
    "#Translate  ; and = to tabs\n",
    "#Isolate column with gene IDs\n",
    "#Sort and identify unique gene IDs\n",
    "#Count the number of unique gene IDs that contain DML\n",
    "\n",
    "!cut -f13 DML-pH-50-Cov5-All-Gene-wb.bed \\\n",
    "| tr \";\" \"\\t\" \\\n",
    "| tr \"=\" \"\\t\" \\\n",
    "| cut -f6 \\\n",
    "| sort | uniq \\\n",
    "| wc -l"
   ]
  },
  {
   "cell_type": "code",
   "execution_count": 30,
   "metadata": {},
   "outputs": [
    {
     "name": "stdout",
     "output_type": "stream",
     "text": [
      "LOC105318174\r\n",
      "LOC117683699\r\n",
      "LOC117683566\r\n",
      "LOC105337362\r\n",
      "LOC105342022\r\n",
      "LOC105317492\r\n",
      "LOC105325155\r\n",
      "LOC105333210\r\n",
      "LOC105341494\r\n",
      "LOC105341392\r\n"
     ]
    }
   ],
   "source": [
    "#Isolate gene ID information and save\n",
    "\n",
    "!cut -f13 DML-pH-50-Cov5-All-Gene-wb.bed \\\n",
    "| tr \";\" \"\\t\" \\\n",
    "| tr \"=\" \"\\t\" \\\n",
    "| cut -f6 \\\n",
    "> geneID-DML-overlap.tab\n",
    "!head geneID-DML-overlap.tab"
   ]
  },
  {
   "cell_type": "markdown",
   "metadata": {},
   "source": [
    "### 3b. Exon UTR"
   ]
  },
  {
   "cell_type": "code",
   "execution_count": 31,
   "metadata": {
    "scrolled": true
   },
   "outputs": [
    {
     "name": "stdout",
     "output_type": "stream",
     "text": [
      "NC_047559.1\t27249136\t27249138\t53.8240368027602\n",
      "NC_047559.1\t36792292\t36792294\t-50.7981220657277\n",
      "NC_047559.1\t39699232\t39699234\t-63.9125683060109\n",
      "NC_047559.1\t47929211\t47929213\t-51.4336917562724\n",
      "NC_047559.1\t51072178\t51072180\t74.3784111582777\n",
      "NC_047559.1\t51410313\t51410315\t51.9424871453057\n",
      "NC_047559.1\t54339651\t54339653\t71.640826873385\n",
      "NC_047560.1\t52650818\t52650820\t-63.55642530985\n",
      "NC_047560.1\t53356731\t53356733\t-54.9748354626403\n",
      "NC_047561.1\t5273876\t5273878\t57.1055381400209\n",
      "      77 DML-pH-50-Cov5-All-exonUTR.bed\n"
     ]
    }
   ],
   "source": [
    "!{bedtoolsDirectory}intersectBed \\\n",
    "-u \\\n",
    "-a DML-pH-50-Cov5-All-NO-SNPs.bed \\\n",
    "-b ../../genome-feature-files/cgigas_uk_roslin_v1_exonUTR.gff \\\n",
    "> DML-pH-50-Cov5-All-exonUTR.bed\n",
    "!head DML-pH-50-Cov5-All-exonUTR.bed\n",
    "!wc -l DML-pH-50-Cov5-All-exonUTR.bed"
   ]
  },
  {
   "cell_type": "markdown",
   "metadata": {},
   "source": [
    "### 3c. CDS"
   ]
  },
  {
   "cell_type": "code",
   "execution_count": 32,
   "metadata": {
    "scrolled": false
   },
   "outputs": [
    {
     "name": "stdout",
     "output_type": "stream",
     "text": [
      "NC_047559.1\t741585\t741587\t58.141592920354\n",
      "NC_047559.1\t3611505\t3611507\t53.448275862069\n",
      "NC_047559.1\t6327898\t6327900\t65\n",
      "NC_047559.1\t10868218\t10868220\t55.2532833020638\n",
      "NC_047559.1\t11690479\t11690481\t-65.2272727272727\n",
      "NC_047559.1\t12290987\t12290989\t54.7191661841343\n",
      "NC_047559.1\t12516267\t12516269\t55.6078431372549\n",
      "NC_047559.1\t13502465\t13502467\t-67.0745272525028\n",
      "NC_047559.1\t13628415\t13628417\t-61.0915805546678\n",
      "NC_047559.1\t14249126\t14249128\t-52.8169014084507\n",
      "     442 DML-pH-50-Cov5-All-CDS.bed\n"
     ]
    }
   ],
   "source": [
    "!{bedtoolsDirectory}intersectBed \\\n",
    "-u \\\n",
    "-a DML-pH-50-Cov5-All.csv.bed \\\n",
    "-b ../../genome-feature-files/cgigas_uk_roslin_v1_CDS.gff \\\n",
    "> DML-pH-50-Cov5-All-CDS.bed\n",
    "!head DML-pH-50-Cov5-All-CDS.bed\n",
    "!wc -l DML-pH-50-Cov5-All-CDS.bed"
   ]
  },
  {
   "cell_type": "markdown",
   "metadata": {},
   "source": [
    "### 3d. Intron"
   ]
  },
  {
   "cell_type": "code",
   "execution_count": 33,
   "metadata": {
    "scrolled": false
   },
   "outputs": [
    {
     "name": "stdout",
     "output_type": "stream",
     "text": [
      "NC_047559.1\t1191754\t1191756\t53.4323271665044\n",
      "NC_047559.1\t2792607\t2792609\t51.8593644354293\n",
      "NC_047559.1\t3065822\t3065824\t60.0770492972819\n",
      "NC_047559.1\t6936424\t6936426\t50.7046304285304\n",
      "NC_047559.1\t8701415\t8701417\t53.5714285714286\n",
      "NC_047559.1\t10185079\t10185081\t-61.6666666666667\n",
      "NC_047559.1\t12382145\t12382147\t-62.5\n",
      "NC_047559.1\t12720430\t12720432\t58.499115826702\n",
      "NC_047559.1\t13012936\t13012938\t-56.4298724954463\n",
      "NC_047559.1\t13029203\t13029205\t-53.2212885154062\n",
      "     783 DML-pH-50-Cov5-All-intron.bed\n"
     ]
    }
   ],
   "source": [
    "!{bedtoolsDirectory}intersectBed \\\n",
    "-u \\\n",
    "-a DML-pH-50-Cov5-All-NO-SNPs.bed \\\n",
    "-b ../../genome-feature-files/cgigas_uk_roslin_v1_intron.bed \\\n",
    "> DML-pH-50-Cov5-All-intron.bed\n",
    "!head DML-pH-50-Cov5-All-intron.bed\n",
    "!wc -l DML-pH-50-Cov5-All-intron.bed"
   ]
  },
  {
   "cell_type": "markdown",
   "metadata": {},
   "source": [
    "### 3e. Upstream flanks"
   ]
  },
  {
   "cell_type": "code",
   "execution_count": 34,
   "metadata": {
    "scrolled": false
   },
   "outputs": [
    {
     "name": "stdout",
     "output_type": "stream",
     "text": [
      "NC_047559.1\t20449763\t20449765\t-54.5018007202881\n",
      "NC_047562.1\t31533368\t31533370\t74.6376811594203\n",
      "NC_047562.1\t49672248\t49672250\t57.0588235294118\n",
      "NC_047564.1\t53826886\t53826888\t50.8620689655172\n",
      "NC_047565.1\t10566559\t10566561\t-57.6034259857789\n",
      "NC_047568.1\t1530485\t1530487\t-53.0120481927711\n",
      "NC_047568.1\t35034719\t35034721\t51.6505281690141\n",
      "NC_047568.1\t50346688\t50346690\t-52.2681954137587\n",
      "NW_022994852.1\t205599\t205601\t54.1818181818182\n",
      "NW_022994852.1\t205641\t205643\t57.4074074074074\n",
      "      10 DML-pH-50-Cov5-All-upstream.bed\n"
     ]
    }
   ],
   "source": [
    "!{bedtoolsDirectory}intersectBed \\\n",
    "-u \\\n",
    "-a DML-pH-50-Cov5-All-NO-SNPs.bed \\\n",
    "-b ../../genome-feature-files/cgigas_uk_roslin_v1_upstream.gff \\\n",
    "> DML-pH-50-Cov5-All-upstream.bed\n",
    "!head DML-pH-50-Cov5-All-upstream.bed\n",
    "!wc -l DML-pH-50-Cov5-All-upstream.bed"
   ]
  },
  {
   "cell_type": "markdown",
   "metadata": {},
   "source": [
    "### 3f. Downstream flanks"
   ]
  },
  {
   "cell_type": "code",
   "execution_count": 35,
   "metadata": {
    "scrolled": true
   },
   "outputs": [
    {
     "name": "stdout",
     "output_type": "stream",
     "text": [
      "NC_047559.1\t7287685\t7287687\t50.5203619909502\n",
      "NC_047559.1\t9400941\t9400943\t-50.7792207792208\n",
      "NC_047559.1\t9400974\t9400976\t-77.0087976539589\n",
      "NC_047559.1\t17446551\t17446553\t-52.3654916512059\n",
      "NC_047559.1\t20449763\t20449765\t-54.5018007202881\n",
      "NC_047561.1\t687407\t687409\t52.6541764246682\n",
      "NC_047561.1\t3223414\t3223416\t-54.9426138467234\n",
      "NC_047561.1\t12531033\t12531035\t-52.9411764705882\n",
      "NC_047561.1\t17751068\t17751070\t-53.7037037037037\n",
      "NC_047561.1\t25420097\t25420099\t-75.750300120048\n",
      "      61 DML-pH-50-Cov5-All-downstream.bed\n"
     ]
    }
   ],
   "source": [
    "!{bedtoolsDirectory}intersectBed \\\n",
    "-u \\\n",
    "-a DML-pH-50-Cov5-All-NO-SNPs.bed \\\n",
    "-b ../../genome-feature-files/cgigas_uk_roslin_v1_downstream.gff \\\n",
    "> DML-pH-50-Cov5-All-downstream.bed\n",
    "!head DML-pH-50-Cov5-All-downstream.bed\n",
    "!wc -l DML-pH-50-Cov5-All-downstream.bed"
   ]
  },
  {
   "cell_type": "markdown",
   "metadata": {},
   "source": [
    "### 3g. Intergenic regions"
   ]
  },
  {
   "cell_type": "code",
   "execution_count": 36,
   "metadata": {
    "scrolled": false
   },
   "outputs": [
    {
     "name": "stdout",
     "output_type": "stream",
     "text": [
      "NC_047559.1\t7867\t7869\t65.1062155782848\n",
      "NC_047560.1\t7329115\t7329117\t-53.3604680109534\n",
      "NC_047560.1\t37256697\t37256699\t-55.3846153846154\n",
      "NC_047560.1\t38292492\t38292494\t-60.2941176470588\n",
      "NC_047560.1\t68488679\t68488681\t-64.006106870229\n",
      "NC_047561.1\t688237\t688239\t68.2735543239569\n",
      "NC_047561.1\t30080184\t30080186\t-50.388198757764\n",
      "NC_047562.1\t17297242\t17297244\t50.6059613494923\n",
      "NC_047562.1\t34646047\t34646049\t-59.1729323308271\n",
      "NC_047562.1\t48518001\t48518003\t-71.9533275713051\n",
      "      38 DML-pH-50-Cov5-All-intergenic.bed\n"
     ]
    }
   ],
   "source": [
    "!{bedtoolsDirectory}intersectBed \\\n",
    "-u \\\n",
    "-a DML-pH-50-Cov5-All-NO-SNPs.bed \\\n",
    "-b ../../genome-feature-files/cgigas_uk_roslin_v1_intergenic.bed \\\n",
    "> DML-pH-50-Cov5-All-intergenic.bed\n",
    "!head DML-pH-50-Cov5-All-intergenic.bed\n",
    "!wc -l DML-pH-50-Cov5-All-intergenic.bed"
   ]
  },
  {
   "cell_type": "markdown",
   "metadata": {},
   "source": [
    "### 3h. lncRNA"
   ]
  },
  {
   "cell_type": "code",
   "execution_count": 37,
   "metadata": {
    "scrolled": false
   },
   "outputs": [
    {
     "name": "stdout",
     "output_type": "stream",
     "text": [
      "NC_047560.1\t51414503\t51414505\t-62.1936274509804\n",
      "NC_047561.1\t57903862\t57903864\t-64.4886363636364\n",
      "NC_047563.1\t4249619\t4249621\t-63.0978499341817\n",
      "NC_047563.1\t22612083\t22612085\t50.9153318077803\n",
      "NC_047565.1\t20887795\t20887797\t51.1754668688975\n",
      "NC_047566.1\t30976378\t30976380\t54.1435185185185\n",
      "NC_047567.1\t31425444\t31425446\t63.5174418604651\n",
      "NC_047568.1\t48922872\t48922874\t53.1211317418214\n",
      "NC_047568.1\t48925153\t48925155\t58.7694900969237\n",
      "       9 DML-pH-50-Cov5-All-lncRNA.bed\n"
     ]
    }
   ],
   "source": [
    "!{bedtoolsDirectory}intersectBed \\\n",
    "-u \\\n",
    "-a DML-pH-50-Cov5-All-NO-SNPs.bed \\\n",
    "-b ../../genome-feature-files/cgigas_uk_roslin_v1_lncRNA.gff \\\n",
    "> DML-pH-50-Cov5-All-lncRNA.bed\n",
    "!head DML-pH-50-Cov5-All-lncRNA.bed\n",
    "!wc -l DML-pH-50-Cov5-All-lncRNA.bed"
   ]
  },
  {
   "cell_type": "markdown",
   "metadata": {},
   "source": [
    "### 3i. Tranposable elements"
   ]
  },
  {
   "cell_type": "code",
   "execution_count": 38,
   "metadata": {
    "scrolled": false
   },
   "outputs": [
    {
     "name": "stdout",
     "output_type": "stream",
     "text": [
      "NC_047559.1\t2792607\t2792609\t51.8593644354293\n",
      "NC_047559.1\t13012936\t13012938\t-56.4298724954463\n",
      "NC_047559.1\t13419019\t13419021\t-56.3791874554526\n",
      "NC_047559.1\t17446551\t17446553\t-52.3654916512059\n",
      "NC_047559.1\t19992123\t19992125\t-53.7414965986395\n",
      "NC_047559.1\t21068177\t21068179\t55.8333333333333\n",
      "NC_047559.1\t22093659\t22093661\t-64.4886363636364\n",
      "NC_047559.1\t22103921\t22103923\t59.5784543325527\n",
      "NC_047559.1\t22863832\t22863834\t-50.5079825834543\n",
      "NC_047559.1\t22866650\t22866652\t-63.9322702613842\n",
      "     434 DML-pH-50-Cov5-All-TE.bed\n"
     ]
    }
   ],
   "source": [
    "!{bedtoolsDirectory}intersectBed \\\n",
    "-u \\\n",
    "-a DML-pH-50-Cov5-All-NO-SNPs.bed \\\n",
    "-b ../../genome-feature-files/cgigas_uk_roslin_v1_rm.te.bed \\\n",
    "> DML-pH-50-Cov5-All-TE.bed\n",
    "!head DML-pH-50-Cov5-All-TE.bed\n",
    "!wc -l DML-pH-50-Cov5-All-TE.bed"
   ]
  },
  {
   "cell_type": "markdown",
   "metadata": {},
   "source": [
    "## 4. Combine line counts"
   ]
  },
  {
   "cell_type": "markdown",
   "metadata": {},
   "source": [
    "This will make it easier for downstream analysis."
   ]
  },
  {
   "cell_type": "code",
   "execution_count": 52,
   "metadata": {},
   "outputs": [
    {
     "name": "stdout",
     "output_type": "stream",
     "text": [
      "DML-pH-50-Cov5-All-CDS.bed\r\n",
      "DML-pH-50-Cov5-All-Gene-wb.bed\r\n",
      "DML-pH-50-Cov5-All-Gene.bed\r\n",
      "DML-pH-50-Cov5-All-NO-SNPs.bed\r\n",
      "DML-pH-50-Cov5-All-TE.bed\r\n",
      "DML-pH-50-Cov5-All-downstream.bed\r\n",
      "DML-pH-50-Cov5-All-exonUTR.bed\r\n",
      "DML-pH-50-Cov5-All-intergenic.bed\r\n",
      "DML-pH-50-Cov5-All-intron.bed\r\n",
      "DML-pH-50-Cov5-All-lncRNA.bed\r\n",
      "DML-pH-50-Cov5-All-unique-CT-SNPs.bed\r\n",
      "DML-pH-50-Cov5-All-upstream.bed\r\n"
     ]
    }
   ],
   "source": [
    "!find DML-pH-50-Cov5-All-*bed"
   ]
  },
  {
   "cell_type": "code",
   "execution_count": 53,
   "metadata": {},
   "outputs": [],
   "source": [
    "#Get line count for all DML overlap files\n",
    "#Remove the 13th line (total entries)\n",
    "#Remove the 4th line (true DML)\n",
    "#Print in a tab-delimited format\n",
    "#Save output\n",
    "\n",
    "!wc -l DML-pH-50-Cov5-All-*bed \\\n",
    "| sed '13,$ d' \\\n",
    "| sed '4d' \\\n",
    "| awk '{print $1\"\\t\"$2}' \\\n",
    "> DML-pH-50-Cov5-All-Overlap-counts.txt"
   ]
  },
  {
   "cell_type": "code",
   "execution_count": 56,
   "metadata": {
    "scrolled": false
   },
   "outputs": [
    {
     "name": "stdout",
     "output_type": "stream",
     "text": [
      "442\tDML-pH-50-Cov5-All-CDS.bed\r\n",
      "1218\tDML-pH-50-Cov5-All-Gene-wb.bed\r\n",
      "1181\tDML-pH-50-Cov5-All-Gene.bed\r\n",
      "434\tDML-pH-50-Cov5-All-TE.bed\r\n",
      "61\tDML-pH-50-Cov5-All-downstream.bed\r\n",
      "77\tDML-pH-50-Cov5-All-exonUTR.bed\r\n",
      "38\tDML-pH-50-Cov5-All-intergenic.bed\r\n",
      "783\tDML-pH-50-Cov5-All-intron.bed\r\n",
      "9\tDML-pH-50-Cov5-All-lncRNA.bed\r\n",
      "315\tDML-pH-50-Cov5-All-unique-CT-SNPs.bed\r\n",
      "10\tDML-pH-50-Cov5-All-upstream.bed\r\n"
     ]
    }
   ],
   "source": [
    "!head -n12 DML-pH-50-Cov5-All-Overlap-counts.txt"
   ]
  },
  {
   "cell_type": "code",
   "execution_count": null,
   "metadata": {},
   "outputs": [],
   "source": []
  }
 ],
 "metadata": {
  "anaconda-cloud": {},
  "kernelspec": {
   "display_name": "Python 3",
   "language": "python",
   "name": "python3"
  },
  "language_info": {
   "codemirror_mode": {
    "name": "ipython",
    "version": 3
   },
   "file_extension": ".py",
   "mimetype": "text/x-python",
   "name": "python",
   "nbconvert_exporter": "python",
   "pygments_lexer": "ipython3",
   "version": "3.7.4"
  }
 },
 "nbformat": 4,
 "nbformat_minor": 1
}
