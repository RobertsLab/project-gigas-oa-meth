{
 "cells": [
  {
   "cell_type": "markdown",
   "metadata": {},
   "source": [
    "# DML Characterization"
   ]
  },
  {
   "cell_type": "markdown",
   "metadata": {},
   "source": [
    "In this notebook, I will identify the genomic locations of [sex-specific DML identified with `methylKit`](https://github.com/RobertsLab/project-gigas-oa-meth/blob/master/code/06-methylKit.R). "
   ]
  },
  {
   "cell_type": "markdown",
   "metadata": {},
   "source": [
    "# 0. Set working directory"
   ]
  },
  {
   "cell_type": "code",
   "execution_count": 1,
   "metadata": {
    "collapsed": false
   },
   "outputs": [
    {
     "data": {
      "text/plain": [
       "'/Users/yaamini/Documents/project-gigas-oa-meth/code'"
      ]
     },
     "execution_count": 1,
     "metadata": {},
     "output_type": "execute_result"
    }
   ],
   "source": [
    "pwd"
   ]
  },
  {
   "cell_type": "code",
   "execution_count": 2,
   "metadata": {
    "collapsed": false
   },
   "outputs": [
    {
     "name": "stdout",
     "output_type": "stream",
     "text": [
      "/Users/yaamini/Documents/project-gigas-oa-meth/output\n"
     ]
    }
   ],
   "source": [
    "cd ../output/"
   ]
  },
  {
   "cell_type": "code",
   "execution_count": 4,
   "metadata": {
    "collapsed": false
   },
   "outputs": [],
   "source": [
    "mkdir 08_DML-characterization"
   ]
  },
  {
   "cell_type": "code",
   "execution_count": 5,
   "metadata": {
    "collapsed": false
   },
   "outputs": [
    {
     "name": "stdout",
     "output_type": "stream",
     "text": [
      "/Users/yaamini/Documents/project-gigas-oa-meth/output/08_DML-characterization\n"
     ]
    }
   ],
   "source": [
    "cd 08_DML-characterization/"
   ]
  },
  {
   "cell_type": "markdown",
   "metadata": {},
   "source": [
    "# 1. Create BEDfiles"
   ]
  },
  {
   "cell_type": "markdown",
   "metadata": {},
   "source": [
    "My `methylKit` DML lists are `.csv` files. To identify genomic locations with `bedtools intersect`, I need BEDfiles."
   ]
  },
  {
   "cell_type": "code",
   "execution_count": 7,
   "metadata": {
    "collapsed": false
   },
   "outputs": [
    {
     "name": "stdout",
     "output_type": "stream",
     "text": [
      "\"\",\"chr\",\"start\",\"end\",\"strand\",\"pvalue\",\"qvalue\",\"meth.diff\"\r\n",
      "\"375\",\"NC_047559.1\",7867,7869,\"*\",2.33980960791286e-15,4.08615261059822e-12,64.5753773413348\r\n",
      "\"2817\",\"NC_047559.1\",576880,576882,\"*\",1.33914604111036e-08,4.4952472775104e-06,36.8918918918919\r\n",
      "\"3089\",\"NC_047559.1\",606381,606383,\"*\",4.823350456729e-12,3.95503174159914e-09,32.8677433435181\r\n",
      "\"3093\",\"NC_047559.1\",607024,607026,\"*\",6.74665560838222e-05,0.00675150143112196,42.6966292134831\r\n",
      "\"3170\",\"NC_047559.1\",612843,612845,\"*\",1.49061330412156e-10,8.4130667805953e-08,-36.2951549392227\r\n",
      "\"3207\",\"NC_047559.1\",616708,616710,\"*\",2.03411781947518e-14,2.92674131627326e-11,-35\r\n",
      "\"4610\",\"NC_047559.1\",733435,733437,\"*\",1.05743863872163e-05,0.00142612432702515,46.1430423509075\r\n",
      "\"4704\",\"NC_047559.1\",742817,742819,\"*\",1.86287098909016e-16,4.09099699134841e-13,39.0844459857812\r\n",
      "\"4705\",\"NC_047559.1\",742820,742822,\"*\",8.66263989196498e-16,1.65869573168142e-12,35.5772357723577\r\n"
     ]
    }
   ],
   "source": [
    "#Look at csv file to determine what modifications need to be made\n",
    "#Column 2: chr, Column 3: start, Column 4: end, Column 8: meth.diff\n",
    "!head ../06-methylKit/DML/DML-pH-25-Cov5-Fem.csv "
   ]
  },
  {
   "cell_type": "code",
   "execution_count": 47,
   "metadata": {
    "collapsed": false
   },
   "outputs": [
    {
     "name": "stdout",
     "output_type": "stream",
     "text": [
      "NC_047559.1\t7867\t7869\t64.5753773413348\r\n",
      "NC_047559.1\t576880\t576882\t36.8918918918919\r\n",
      "NC_047559.1\t606381\t606383\t32.8677433435181\r\n",
      "NC_047559.1\t607024\t607026\t42.6966292134831\r\n",
      "NC_047559.1\t612843\t612845\t-36.2951549392227\r\n",
      "NC_047559.1\t616708\t616710\t-35\r\n",
      "NC_047559.1\t733435\t733437\t46.1430423509075\r\n",
      "NC_047559.1\t742817\t742819\t39.0844459857812\r\n",
      "NC_047559.1\t742820\t742822\t35.5772357723577\r\n",
      "NC_047559.1\t744037\t744039\t-53.2666983975884\r\n",
      "tail: stdout: Broken pipe\r\n",
      "awk: write error on /dev/stdout\r\n",
      " input record number 1408, file \r\n",
      " source line number 1\r\n"
     ]
    }
   ],
   "source": [
    "#Replace , with tabs\n",
    "#Remove extraneous quotes entries (can also be done in R)\n",
    "#Print chr, start, end, meth.diff\n",
    "#Remove header\n",
    "!tr \",\" \"\\t\" <../06-methylKit/DML/DML-pH-25-Cov5-Fem.csv \\\n",
    "| tr -d '\"' \\\n",
    "| awk '{print $2\"\\t\"$3\"\\t\"$4\"\\t\"$8}' \\\n",
    "| tail -n+2 | head"
   ]
  },
  {
   "cell_type": "code",
   "execution_count": 48,
   "metadata": {
    "collapsed": false
   },
   "outputs": [
    {
     "name": "stdout",
     "output_type": "stream",
     "text": [
      "../06-methylKit/DML/DML-pH-100-Cov5-Ind.csv\r\n",
      "../06-methylKit/DML/DML-pH-25-Cov5-Fem.csv\r\n",
      "../06-methylKit/DML/DML-pH-25-Cov5-Ind.csv\r\n",
      "../06-methylKit/DML/DML-pH-50-Cov5-Fem.csv\r\n",
      "../06-methylKit/DML/DML-pH-50-Cov5-Ind.csv\r\n",
      "../06-methylKit/DML/DML-pH-75-Cov5-Fem.csv\r\n",
      "../06-methylKit/DML/DML-pH-75-Cov5-Ind.csv\r\n"
     ]
    }
   ],
   "source": [
    "!find ../06-methylKit/DML/DML*csv"
   ]
  },
  {
   "cell_type": "code",
   "execution_count": 56,
   "metadata": {
    "collapsed": false
   },
   "outputs": [],
   "source": [
    "%%bash\n",
    "\n",
    "#Replace , with tabs\n",
    "#Remove extraneous quotes entries (can also be done in R)\n",
    "#Print chr, start, end, meth.diff\n",
    "#Remove header\n",
    "#Save as BEDfile\n",
    "\n",
    "for f in ../06-methylKit/DML/DML*csv\n",
    "do\n",
    "    tr \",\" \"\\t\" < ${f} \\\n",
    "    | tr -d '\"' \\\n",
    "    | awk '{print $2\"\\t\"$3\"\\t\"$4\"\\t\"$8}' \\\n",
    "    | tail -n+2 \\\n",
    "    > ${f}.bed\n",
    "done"
   ]
  },
  {
   "cell_type": "code",
   "execution_count": null,
   "metadata": {
    "collapsed": true
   },
   "outputs": [],
   "source": []
  }
 ],
 "metadata": {
  "anaconda-cloud": {},
  "kernelspec": {
   "display_name": "Python [default]",
   "language": "python",
   "name": "python3"
  },
  "language_info": {
   "codemirror_mode": {
    "name": "ipython",
    "version": 3
   },
   "file_extension": ".py",
   "mimetype": "text/x-python",
   "name": "python",
   "nbconvert_exporter": "python",
   "pygments_lexer": "ipython3",
   "version": "3.5.2"
  }
 },
 "nbformat": 4,
 "nbformat_minor": 1
}
