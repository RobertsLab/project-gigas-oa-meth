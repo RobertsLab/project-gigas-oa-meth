{
 "cells": [
  {
   "cell_type": "markdown",
   "metadata": {},
   "source": [
    "# GOterm Annotation"
   ]
  },
  {
   "cell_type": "markdown",
   "metadata": {},
   "source": [
    "In this notebook, I'll annotate the CpG background and DML lists from `methylKit` and `DSS` with GOterms. I will use these annotations for gene enrichment.\n",
    "\n",
    "1. Create master annotation table\n",
    "2. Match CpG background and DML lists with GOterms\n",
    "3. Modify lists for downstream gene enrichment"
   ]
  },
  {
   "cell_type": "markdown",
   "metadata": {},
   "source": [
    "## 0. Prepare to run script"
   ]
  },
  {
   "cell_type": "markdown",
   "metadata": {},
   "source": [
    "### 0a. Set working directory"
   ]
  },
  {
   "cell_type": "code",
   "execution_count": 1,
   "metadata": {
    "collapsed": false
   },
   "outputs": [
    {
     "data": {
      "text/plain": [
       "'/Users/yaamini/Documents/project-gigas-oa-meth/code'"
      ]
     },
     "execution_count": 1,
     "metadata": {},
     "output_type": "execute_result"
    }
   ],
   "source": [
    "pwd"
   ]
  },
  {
   "cell_type": "code",
   "execution_count": 3,
   "metadata": {
    "collapsed": false
   },
   "outputs": [
    {
     "name": "stdout",
     "output_type": "stream",
     "text": [
      "/Users/yaamini/Documents/project-gigas-oa-meth/output\n"
     ]
    }
   ],
   "source": [
    "cd ../output/"
   ]
  },
  {
   "cell_type": "code",
   "execution_count": 4,
   "metadata": {
    "collapsed": true
   },
   "outputs": [],
   "source": [
    "!mkdir 11-GOterm-annotation"
   ]
  },
  {
   "cell_type": "code",
   "execution_count": 5,
   "metadata": {
    "collapsed": false
   },
   "outputs": [
    {
     "name": "stdout",
     "output_type": "stream",
     "text": [
      "/Users/yaamini/Documents/project-gigas-oa-meth/output/11-GOterm-annotation\n"
     ]
    }
   ],
   "source": [
    "cd 11-GOterm-annotation/"
   ]
  },
  {
   "cell_type": "markdown",
   "metadata": {},
   "source": [
    "## 1. Create master annotation table"
   ]
  },
  {
   "cell_type": "markdown",
   "metadata": {},
   "source": [
    "### 1a. Format `DIAMOND blastx` output"
   ]
  },
  {
   "cell_type": "code",
   "execution_count": 6,
   "metadata": {
    "collapsed": false
   },
   "outputs": [
    {
     "name": "stdout",
     "output_type": "stream",
     "text": [
      "--2021-06-07 10:19:13--  https://gannet.fish.washington.edu/spartina/project-gigas-oa-meth/output/blastx/20210605-cgigas-roslin-mito-blastx.outfmt6\n",
      "Resolving gannet.fish.washington.edu (gannet.fish.washington.edu)... 128.95.149.52\n",
      "Connecting to gannet.fish.washington.edu (gannet.fish.washington.edu)|128.95.149.52|:443... connected.\n",
      "WARNING: cannot verify gannet.fish.washington.edu's certificate, issued by ‘CN=InCommon RSA Server CA,OU=InCommon,O=Internet2,L=Ann Arbor,ST=MI,C=US’:\n",
      "  Unable to locally verify the issuer's authority.\n",
      "HTTP request sent, awaiting response... 200 OK\n",
      "Length: 10442376 (10.0M)\n",
      "Saving to: ‘20210605-cgigas-roslin-mito-blastx.outfmt6’\n",
      "\n",
      "20210605-cgigas-ros 100%[===================>]   9.96M  46.6MB/s    in 0.2s    \n",
      "\n",
      "2021-06-07 10:19:14 (46.6 MB/s) - ‘20210605-cgigas-roslin-mito-blastx.outfmt6’ saved [10442376/10442376]\n",
      "\n"
     ]
    }
   ],
   "source": [
    "#Download blastx output\n",
    "!wget https://gannet.fish.washington.edu/spartina/project-gigas-oa-meth/output/blastx/20210605-cgigas-roslin-mito-blastx.outfmt6 \\\n",
    "--no-check-certificate"
   ]
  },
  {
   "cell_type": "code",
   "execution_count": 7,
   "metadata": {
    "collapsed": false
   },
   "outputs": [
    {
     "name": "stdout",
     "output_type": "stream",
     "text": [
      "lcl|NC_047559.1_mrna_XM_034463066.1_26\tsp|A1KZ92|PXDNL_HUMAN\t24.891\t229\t153\t6\t867\t1535\t278\t493\t4.55e-05\t51.2\n",
      "lcl|NC_047559.1_mrna_XM_034463224.1_35\tsp|Q7LHG5|YI31B_YEAST\t50.658\t152\t71\t1\t1072\t1515\t617\t768\t8.84e-40\t157\n",
      "lcl|NC_047559.1_mrna_XM_034456887.1_39\tsp|A1A5V9|ELP5_DANRE\t28.873\t284\t194\t4\t356\t1198\t1\t279\t6.43e-29\t118\n",
      "lcl|NC_047559.1_mrna_XM_011455176.3_47\tsp|A1A5V9|ELP5_DANRE\t28.873\t284\t194\t4\t376\t1218\t1\t279\t7.04e-29\t118\n",
      "lcl|NC_047559.1_mrna_XM_011455177.3_48\tsp|A1A5V9|ELP5_DANRE\t28.873\t284\t194\t4\t245\t1087\t1\t279\t3.80e-29\t118\n",
      "lcl|NC_047559.1_mrna_XM_011419438.3_53\tsp|A0A159BP93|CITB_MONRU\t30.795\t302\t179\t11\t3053\t2199\t3\t291\t3.63e-29\t123\n",
      "lcl|NC_047559.1_mrna_XM_020064467.2_54\tsp|A0A159BP93|CITB_MONRU\t30.795\t302\t179\t11\t3307\t2453\t3\t291\t3.97e-29\t123\n",
      "lcl|NC_047559.1_mrna_XM_011419437.3_55\tsp|O35077|GPDA_RAT\t59.259\t351\t140\t3\t111\t1160\t1\t349\t4.39e-140\t434\n",
      "lcl|NC_047559.1_mrna_XM_011419460.2_56\tsp|A0A159BP93|CITB_MONRU\t30.795\t302\t179\t11\t1\t855\t3\t291\t4.56e-31\t122\n",
      "lcl|NC_047559.1_mrna_XM_011419435.3_57\tsp|Q2KJE0|TAXB1_BOVIN\t26.958\t779\t414\t20\t174\t2330\t7\t690\t1.25e-54\t209\n",
      "   93983 20210605-cgigas-roslin-mito-blastx.outfmt6\n"
     ]
    }
   ],
   "source": [
    "#Check output\n",
    "!head 20210605-cgigas-roslin-mito-blastx.outfmt6\n",
    "!wc -l 20210605-cgigas-roslin-mito-blastx.outfmt6"
   ]
  },
  {
   "cell_type": "code",
   "execution_count": 9,
   "metadata": {
    "collapsed": false
   },
   "outputs": [],
   "source": [
    "#convert pipes to tab to isolate Uniprot accession code\n",
    "!tr '|' '\\t' < 20210605-cgigas-roslin-mito-blastx.outfmt6 \\\n",
    "> cgigas-roslin-mito-blastx.outfmt6.codeIsolated"
   ]
  },
  {
   "cell_type": "code",
   "execution_count": 12,
   "metadata": {
    "collapsed": false,
    "scrolled": true
   },
   "outputs": [
    {
     "name": "stdout",
     "output_type": "stream",
     "text": [
      "lcl\tNC_047559.1_mrna_XM_034463066.1_26\tsp\tA1KZ92\tPXDNL_HUMAN\t24.891\t229\t153\t6\t867\t1535\t278\t493\t4.55e-05\t51.2\r\n",
      "lcl\tNC_047559.1_mrna_XM_034463224.1_35\tsp\tQ7LHG5\tYI31B_YEAST\t50.658\t152\t71\t1\t1072\t1515\t617\t768\t8.84e-40\t157\r\n",
      "lcl\tNC_047559.1_mrna_XM_034456887.1_39\tsp\tA1A5V9\tELP5_DANRE\t28.873\t284\t194\t4\t356\t1198\t1\t279\t6.43e-29\t118\r\n",
      "lcl\tNC_047559.1_mrna_XM_011455176.3_47\tsp\tA1A5V9\tELP5_DANRE\t28.873\t284\t194\t4\t376\t1218\t1\t279\t7.04e-29\t118\r\n",
      "lcl\tNC_047559.1_mrna_XM_011455177.3_48\tsp\tA1A5V9\tELP5_DANRE\t28.873\t284\t194\t4\t245\t1087\t1\t279\t3.80e-29\t118\r\n",
      "lcl\tNC_047559.1_mrna_XM_011419438.3_53\tsp\tA0A159BP93\tCITB_MONRU\t30.795\t302\t179\t11\t3053\t2199\t3\t291\t3.63e-29\t123\r\n",
      "lcl\tNC_047559.1_mrna_XM_020064467.2_54\tsp\tA0A159BP93\tCITB_MONRU\t30.795\t302\t179\t11\t3307\t2453\t3\t291\t3.97e-29\t123\r\n",
      "lcl\tNC_047559.1_mrna_XM_011419437.3_55\tsp\tO35077\tGPDA_RAT\t59.259\t351\t140\t3\t111\t1160\t1\t349\t4.39e-140\t434\r\n",
      "lcl\tNC_047559.1_mrna_XM_011419460.2_56\tsp\tA0A159BP93\tCITB_MONRU\t30.795\t302\t179\t11\t1\t855\t3\t291\t4.56e-31\t122\r\n",
      "lcl\tNC_047559.1_mrna_XM_011419435.3_57\tsp\tQ2KJE0\tTAXB1_BOVIN\t26.958\t779\t414\t20\t174\t2330\t7\t690\t1.25e-54\t209\r\n"
     ]
    }
   ],
   "source": [
    "!head cgigas-roslin-mito-blastx.outfmt6.codeIsolated"
   ]
  },
  {
   "cell_type": "code",
   "execution_count": 18,
   "metadata": {
    "collapsed": true
   },
   "outputs": [],
   "source": [
    "#Extract original transcript ID information, since it needs to stay unaltered to match back to the annotation with gene IDs\n",
    "!cut -f1 20210605-cgigas-roslin-mito-blastx.outfmt6 > cgigas-roslin-mito-blastx.outfmt6.transcriptID"
   ]
  },
  {
   "cell_type": "code",
   "execution_count": 19,
   "metadata": {
    "collapsed": false
   },
   "outputs": [
    {
     "name": "stdout",
     "output_type": "stream",
     "text": [
      "lcl|NC_047559.1_mrna_XM_034463066.1_26\tlcl\tNC_047559.1_mrna_XM_034463066.1_26\tsp\tA1KZ92\tPXDNL_HUMAN\t24.891\t229\t153\t6\t867\t1535\t278\t493\t4.55e-05\t51.2\r\n",
      "lcl|NC_047559.1_mrna_XM_034463224.1_35\tlcl\tNC_047559.1_mrna_XM_034463224.1_35\tsp\tQ7LHG5\tYI31B_YEAST\t50.658\t152\t71\t1\t1072\t1515\t617\t768\t8.84e-40\t157\r\n",
      "lcl|NC_047559.1_mrna_XM_034456887.1_39\tlcl\tNC_047559.1_mrna_XM_034456887.1_39\tsp\tA1A5V9\tELP5_DANRE\t28.873\t284\t194\t4\t356\t1198\t1\t279\t6.43e-29\t118\r\n",
      "lcl|NC_047559.1_mrna_XM_011455176.3_47\tlcl\tNC_047559.1_mrna_XM_011455176.3_47\tsp\tA1A5V9\tELP5_DANRE\t28.873\t284\t194\t4\t376\t1218\t1\t279\t7.04e-29\t118\r\n",
      "lcl|NC_047559.1_mrna_XM_011455177.3_48\tlcl\tNC_047559.1_mrna_XM_011455177.3_48\tsp\tA1A5V9\tELP5_DANRE\t28.873\t284\t194\t4\t245\t1087\t1\t279\t3.80e-29\t118\r\n",
      "lcl|NC_047559.1_mrna_XM_011419438.3_53\tlcl\tNC_047559.1_mrna_XM_011419438.3_53\tsp\tA0A159BP93\tCITB_MONRU\t30.795\t302\t179\t11\t3053\t2199\t3\t291\t3.63e-29\t123\r\n",
      "lcl|NC_047559.1_mrna_XM_020064467.2_54\tlcl\tNC_047559.1_mrna_XM_020064467.2_54\tsp\tA0A159BP93\tCITB_MONRU\t30.795\t302\t179\t11\t3307\t2453\t3\t291\t3.97e-29\t123\r\n",
      "lcl|NC_047559.1_mrna_XM_011419437.3_55\tlcl\tNC_047559.1_mrna_XM_011419437.3_55\tsp\tO35077\tGPDA_RAT\t59.259\t351\t140\t3\t111\t1160\t1\t349\t4.39e-140\t434\r\n",
      "lcl|NC_047559.1_mrna_XM_011419460.2_56\tlcl\tNC_047559.1_mrna_XM_011419460.2_56\tsp\tA0A159BP93\tCITB_MONRU\t30.795\t302\t179\t11\t1\t855\t3\t291\t4.56e-31\t122\r\n",
      "lcl|NC_047559.1_mrna_XM_011419435.3_57\tlcl\tNC_047559.1_mrna_XM_011419435.3_57\tsp\tQ2KJE0\tTAXB1_BOVIN\t26.958\t779\t414\t20\t174\t2330\t7\t690\t1.25e-54\t209\r\n"
     ]
    }
   ],
   "source": [
    "#Paste original transcript ID with codeIsolated file\n",
    "#Check output\n",
    "\n",
    "!paste cgigas-roslin-mito-blastx.outfmt6.transcriptID cgigas-roslin-mito-blastx.outfmt6.codeIsolated \\\n",
    "> cgigas-roslin-mito-blastx.outfmt6.codeIsolated.transcriptID\n",
    "!head cgigas-roslin-mito-blastx.outfmt6.codeIsolated.transcriptID"
   ]
  },
  {
   "cell_type": "code",
   "execution_count": 20,
   "metadata": {
    "collapsed": true
   },
   "outputs": [],
   "source": [
    "#Reduce the number of columns using awk: accession code, transcript ID, and e-value\n",
    "#Sort, and save as a new file.\n",
    "!awk -v OFS='\\t' '{print $5, $1, $15}' < cgigas-roslin-mito-blastx.outfmt6.codeIsolated.transcriptID | sort \\\n",
    "> gigas-blast-sort.tab"
   ]
  },
  {
   "cell_type": "code",
   "execution_count": 21,
   "metadata": {
    "collapsed": false,
    "scrolled": true
   },
   "outputs": [
    {
     "name": "stdout",
     "output_type": "stream",
     "text": [
      "A0A060WQA3\tlcl|NC_047561.1_mrna_XM_011455784.3_14927\t4.79e-06\r\n",
      "A0A060WQA3\tlcl|NC_047561.1_mrna_XM_011455785.3_14928\t4.65e-06\r\n",
      "A0A061ACU2\tlcl|NC_047564.1_mrna_XM_034483499.1_40281\t0.0\r\n",
      "A0A061ACU2\tlcl|NC_047564.1_mrna_XM_034483499.1_40281\t1.40e-12\r\n",
      "A0A061ACU2\tlcl|NC_047564.1_mrna_XM_034483499.1_40281\t2.13e-27\r\n",
      "A0A061ACU2\tlcl|NC_047564.1_mrna_XM_034483500.1_40280\t0.0\r\n",
      "A0A061ACU2\tlcl|NC_047564.1_mrna_XM_034483500.1_40280\t1.40e-12\r\n",
      "A0A061ACU2\tlcl|NC_047564.1_mrna_XM_034483500.1_40280\t2.44e-27\r\n",
      "A0A061ACU2\tlcl|NC_047564.1_mrna_XM_034483501.1_40294\t0.0\r\n",
      "A0A061ACU2\tlcl|NC_047564.1_mrna_XM_034483501.1_40294\t1.40e-12\r\n"
     ]
    }
   ],
   "source": [
    "!head gigas-blast-sort.tab"
   ]
  },
  {
   "cell_type": "markdown",
   "metadata": {},
   "source": [
    "### 1b. Join with GOterms"
   ]
  },
  {
   "cell_type": "code",
   "execution_count": 22,
   "metadata": {
    "collapsed": false
   },
   "outputs": [
    {
     "name": "stdout",
     "output_type": "stream",
     "text": [
      "  % Total    % Received % Xferd  Average Speed   Time    Time     Time  Current\n",
      "                                 Dload  Upload   Total   Spent    Left  Speed\n",
      "100  340M  100  340M    0     0  26.1M      0  0:00:12  0:00:12 --:--:-- 50.6M\n"
     ]
    }
   ],
   "source": [
    "#Download Uniprot database with GOterm information\n",
    "!curl -O http://owl.fish.washington.edu/halfshell/bu-alanine-wd/17-07-20/uniprot-SP-GO.sorted"
   ]
  },
  {
   "cell_type": "code",
   "execution_count": 23,
   "metadata": {
    "collapsed": false,
    "scrolled": true
   },
   "outputs": [
    {
     "name": "stdout",
     "output_type": "stream",
     "text": [
      "A0A023GPI8\tLECA_CANBL\treviewed\tLectin alpha chain (CboL) [Cleaved into: Lectin beta chain; Lectin gamma chain]\t\tCanavalia boliviana\t237\t\t\tmannose binding [GO:0005537]; metal ion binding [GO:0046872]\tmannose binding [GO:0005537]; metal ion binding [GO:0046872]\tGO:0005537; GO:0046872\n",
      "A0A023GPJ0\tCDII_ENTCC\treviewed\tImmunity protein CdiI\tcdiI ECL_04450.1\tEnterobacter cloacae subsp. cloacae (strain ATCC 13047 / DSM 30054 / NBRC 13535 / NCDC 279-56)\t145\t\t\t\t\t\n",
      "A0A023PXA5\tYA19A_YEAST\treviewed\tPutative uncharacterized protein YAL019W-A\tYAL019W-A\tSaccharomyces cerevisiae (strain ATCC 204508 / S288c) (Baker's yeast)\t189\t\t\t\t\t\n",
      "A0A023PXB0\tYA019_YEAST\treviewed\tPutative uncharacterized protein YAR019W-A\tYAR019W-A\tSaccharomyces cerevisiae (strain ATCC 204508 / S288c) (Baker's yeast)\t110\t\t\t\t\t\n",
      "A0A023PXB5\tIRC2_YEAST\treviewed\tPutative uncharacterized membrane protein IRC2 (Increased recombination centers protein 2)\tIRC2 YDR112W\tSaccharomyces cerevisiae (strain ATCC 204508 / S288c) (Baker's yeast)\t102\t\tintegral component of membrane [GO:0016021]\t\tintegral component of membrane [GO:0016021]\tGO:0016021\n",
      "A0A023PXB9\tYD99W_YEAST\treviewed\tPutative uncharacterized membrane protein YDR199W\tYDR199W\tSaccharomyces cerevisiae (strain ATCC 204508 / S288c) (Baker's yeast)\t121\t\tintegral component of membrane [GO:0016021]\t\tintegral component of membrane [GO:0016021]\tGO:0016021\n",
      "A0A023PXC2\tYE53A_YEAST\treviewed\tPutative uncharacterized membrane protein YEL053W-A\tYEL053W-A\tSaccharomyces cerevisiae (strain ATCC 204508 / S288c) (Baker's yeast)\t115\t\tintegral component of membrane [GO:0016021]\t\tintegral component of membrane [GO:0016021]\tGO:0016021\n",
      "A0A023PXC7\tYE068_YEAST\treviewed\tPutative uncharacterized membrane protein YER068C-A\tYER068C-A\tSaccharomyces cerevisiae (strain ATCC 204508 / S288c) (Baker's yeast)\t143\t\tintegral component of membrane [GO:0016021]\t\tintegral component of membrane [GO:0016021]\tGO:0016021\n",
      "A0A023PXD3\tYE88A_YEAST\treviewed\tPutative uncharacterized protein YER088C-A\tYER088C-A\tSaccharomyces cerevisiae (strain ATCC 204508 / S288c) (Baker's yeast)\t107\t\t\t\t\t\n",
      "A0A023PXD5\tYE147_YEAST\treviewed\tPutative uncharacterized membrane protein YER147C-A\tYER147C-A\tSaccharomyces cerevisiae (strain ATCC 204508 / S288c) (Baker's yeast)\t136\t\tintegral component of membrane [GO:0016021]\t\tintegral component of membrane [GO:0016021]\tGO:0016021\n",
      "  555101 uniprot-SP-GO.sorted\n"
     ]
    }
   ],
   "source": [
    "!head uniprot-SP-GO.sorted\n",
    "!wc -l uniprot-SP-GO.sorted"
   ]
  },
  {
   "cell_type": "code",
   "execution_count": 24,
   "metadata": {
    "collapsed": false,
    "scrolled": true
   },
   "outputs": [
    {
     "name": "stdout",
     "output_type": "stream",
     "text": [
      "A0A0A7DNP6\tlcl|NC_047568.1_mrna_NM_001305294.1_64342\t8.75e-10\tGRHLP_RUDPH\treviewed\tPrepro-gonadotropin-releasing hormone-like protein (rp-GnRH) [Cleaved into: GnRH dodecapeptide; GnRH-associated peptide (GAP)]\t\tRuditapes philippinarum (Japanese littleneck clam) (Venerupis philippinarum)\t94\tneuropeptide signaling pathway [GO:0007218]\textracellular region [GO:0005576]\t\textracellular region [GO:0005576]; neuropeptide signaling pathway [GO:0007218]\tGO:0005576; GO:0007218\n",
      "A0A0B5A7M7\tlcl|NC_047563.1_mrna_NM_001308866.2_33167\t3.97e-12\tINS1_CONIM\treviewed\tCon-Ins Im1 (Insulin 1) [Cleaved into: Con-Ins I1 B chain; Con-Ins I1 A chain]\t\tConus imperialis (Imperial cone)\t150\tglucose metabolic process [GO:0006006]\textracellular region [GO:0005576]\thormone activity [GO:0005179]\textracellular region [GO:0005576]; hormone activity [GO:0005179]; glucose metabolic process [GO:0006006]\tGO:0005179; GO:0005576; GO:0006006\n",
      "A0A0B5A7M7\tlcl|NC_047563.1_mrna_XM_034475035.1_33168\t1.48e-12\tINS1_CONIM\treviewed\tCon-Ins Im1 (Insulin 1) [Cleaved into: Con-Ins I1 B chain; Con-Ins I1 A chain]\t\tConus imperialis (Imperial cone)\t150\tglucose metabolic process [GO:0006006]\textracellular region [GO:0005576]\thormone activity [GO:0005179]\textracellular region [GO:0005576]; hormone activity [GO:0005179]; glucose metabolic process [GO:0006006]\tGO:0005179; GO:0005576; GO:0006006\n",
      "A0A0B5A8P8\tlcl|NC_047563.1_mrna_XM_011417422.3_33169\t4.54e-15\tINS2_CONIM\treviewed\tCon-Ins Im2 (Insulin 2) [Cleaved into: Con-Ins I2 B chain; Con-Ins I2 A chain]\t\tConus imperialis (Imperial cone)\t140\tglucose metabolic process [GO:0006006]\textracellular region [GO:0005576]\thormone activity [GO:0005179]\textracellular region [GO:0005576]; hormone activity [GO:0005179]; glucose metabolic process [GO:0006006]\tGO:0005179; GO:0005576; GO:0006006\n",
      "A0A0F7YYX3\tlcl|NC_047561.1_mrna_XM_011419035.3_17115\t2.09e-19\tCPROH_CONVC\treviewed\tNeuropeptide prohormone-4\t\tConus victoriae (Queen Victoria cone)\t196\t\textracellular region [GO:0005576]\t\textracellular region [GO:0005576]\tGO:0005576\n",
      "A0A0F7YYX3\tlcl|NC_047561.1_mrna_XM_011419037.3_17112\t2.71e-19\tCPROH_CONVC\treviewed\tNeuropeptide prohormone-4\t\tConus victoriae (Queen Victoria cone)\t196\t\textracellular region [GO:0005576]\t\textracellular region [GO:0005576]\tGO:0005576\n",
      "A0A0F7YYX3\tlcl|NC_047561.1_mrna_XM_011419038.3_17114\t2.28e-19\tCPROH_CONVC\treviewed\tNeuropeptide prohormone-4\t\tConus victoriae (Queen Victoria cone)\t196\t\textracellular region [GO:0005576]\t\textracellular region [GO:0005576]\tGO:0005576\n",
      "A0A0F7YYX3\tlcl|NC_047561.1_mrna_XM_011419039.3_17113\t2.39e-19\tCPROH_CONVC\treviewed\tNeuropeptide prohormone-4\t\tConus victoriae (Queen Victoria cone)\t196\t\textracellular region [GO:0005576]\t\textracellular region [GO:0005576]\tGO:0005576\n",
      "A0A0F7YYX3\tlcl|NC_047561.1_mrna_XM_020064360.2_17116\t1.79e-19\tCPROH_CONVC\treviewed\tNeuropeptide prohormone-4\t\tConus victoriae (Queen Victoria cone)\t196\t\textracellular region [GO:0005576]\t\textracellular region [GO:0005576]\tGO:0005576\n",
      "A0A0F7YZI5\tlcl|NC_047561.1_mrna_XM_011442798.3_20328\t8.33e-33\tCTHB5_CONVC\treviewed\tThyrostimulin beta-5 subunit\t\tConus victoriae (Queen Victoria cone)\t135\t\textracellular region [GO:0005576]\thormone activity [GO:0005179]\textracellular region [GO:0005576]; hormone activity [GO:0005179]\tGO:0005179; GO:0005576\n",
      "   92197 gigas-blast-annot.tab\n"
     ]
    }
   ],
   "source": [
    "#Join the first column in the first file with the first column in the second file\n",
    "#The files are tab delimited, and the output should also be tab delimited (-t $'\\t')\n",
    "!join -1 1 -2 1 -t $'\\t' \\\n",
    "gigas-blast-sort.tab \\\n",
    "uniprot-SP-GO.sorted \\\n",
    "> gigas-blast-annot.tab\n",
    "!head gigas-blast-annot.tab\n",
    "!wc -l gigas-blast-annot.tab"
   ]
  },
  {
   "cell_type": "code",
   "execution_count": 25,
   "metadata": {
    "collapsed": false,
    "scrolled": true
   },
   "outputs": [
    {
     "name": "stdout",
     "output_type": "stream",
     "text": [
      "A0A0A7DNP6\tlcl|NC_047568.1_mrna_NM_001305294.1_64342\tGO:0005576; GO:0007218\r\n",
      "A0A0B5A7M7\tlcl|NC_047563.1_mrna_NM_001308866.2_33167\tGO:0005179; GO:0005576; GO:0006006\r\n",
      "A0A0B5A7M7\tlcl|NC_047563.1_mrna_XM_034475035.1_33168\tGO:0005179; GO:0005576; GO:0006006\r\n",
      "A0A0B5A8P8\tlcl|NC_047563.1_mrna_XM_011417422.3_33169\tGO:0005179; GO:0005576; GO:0006006\r\n",
      "A0A0F7YYX3\tlcl|NC_047561.1_mrna_XM_011419035.3_17115\tGO:0005576\r\n",
      "A0A0F7YYX3\tlcl|NC_047561.1_mrna_XM_011419037.3_17112\tGO:0005576\r\n",
      "A0A0F7YYX3\tlcl|NC_047561.1_mrna_XM_011419038.3_17114\tGO:0005576\r\n",
      "A0A0F7YYX3\tlcl|NC_047561.1_mrna_XM_011419039.3_17113\tGO:0005576\r\n",
      "A0A0F7YYX3\tlcl|NC_047561.1_mrna_XM_020064360.2_17116\tGO:0005576\r\n",
      "A0A0F7YZI5\tlcl|NC_047561.1_mrna_XM_011442798.3_20328\tGO:0005179; GO:0005576\r\n"
     ]
    }
   ],
   "source": [
    "#Extract columns 1 (accession), 2 (transcript ID), and 14 (GOterms)\n",
    "#Save output\n",
    "!cut -f1,2,14 gigas-blast-annot.tab \\\n",
    "> _blast-annot.tab\n",
    "!head _blast-annot.tab"
   ]
  },
  {
   "cell_type": "code",
   "execution_count": 26,
   "metadata": {
    "collapsed": true
   },
   "outputs": [],
   "source": [
    "%%bash \n",
    "\n",
    "# This script was originally written to address a specific problem that Rhonda was having\n",
    "\n",
    "# input_file is the initial, \"problem\" file\n",
    "# file is an intermediate file that most of the program works upon\n",
    "# output_file is the final file produced by the script\n",
    "input_file=\"_blast-annot.tab\"\n",
    "file=\"_intermediate.file\"\n",
    "output_file=\"_blast-GO-unfolded.tab\"\n",
    "\n",
    "# sed command substitutes the \"; \" sequence to a tab and writes the new format to a new file.\n",
    "# This character sequence is how the GO terms are delimited in their field.\n",
    "sed $'s/; /\\t/g' \"$input_file\" > \"$file\"\n",
    "\n",
    "# Identify first field containing a GO term.\n",
    "# Search file with grep for \"GO:\" and pipe to awk.\n",
    "# Awk sets tab as field delimiter (-F'\\t'), runs a for loop that looks for \"GO:\" (~/GO:/), and then prints the field number).\n",
    "# Awk results are piped to sort, which sorts unique by number (-ug).\n",
    "# Sort results are piped to head to retrieve the lowest value (i.e. the top of the list; \"-n1\").\n",
    "begin_goterms=$(grep \"GO:\" \"$file\" | awk -F'\\t' '{for (i=1;i<=NF;i++) if($i ~/GO:/) print i}' | sort -ug | head -n1)\n",
    "\n",
    "# While loop to process each line of the input file.\n",
    "while read -r line\n",
    "\tdo\n",
    "\t\n",
    "\t# Send contents of the current line to awk.\n",
    "\t# Set the field separator as a tab (-F'\\t') and print the number of fields in that line.\n",
    "\t# Save the results of the echo/awk pipe (i.e. number of fields) to the variable \"max_field\".\n",
    "\tmax_field=$(echo \"$line\" | awk -F'\\t' '{print NF}')\n",
    "\n",
    "\t# Send contents of current line to cut.\n",
    "\t# Cut fields (i.e. retain those fields) 1-12.\n",
    "\t# Save the results of the echo/cut pipe (i.e. fields 1-12) to the variable \"fixed_fields\"\n",
    "\tfixed_fields=$(echo \"$line\" | cut -f1-2)\n",
    "\n",
    "\t# Since not all the lines contain the same number of fields (e.g. may not have GO terms),\n",
    "\t# evaluate the number of fields in each line to determine how to handle current line.\n",
    "\n",
    "\t# If the value in max_field is less than the field number where the GO terms begin,\n",
    "\t# then just print the current line (%s) followed by a newline (\\n).\n",
    "\tif (( \"$max_field\" < \"$begin_goterms\" ))\n",
    "\t\tthen printf \"%s\\n\" \"$line\"\n",
    "\t\t\telse\n",
    "\n",
    "\t\t\t# Send contents of current line (which contains GO terms) to cut.\n",
    "\t\t\t# Cut fields (i.e. retain those fields) 13 to whatever the last field is in the curent line.\n",
    "\t\t\t# Save the results of the echo/cut pipe (i.e. all the GO terms fields) to the variable \"goterms\".\n",
    "\t\t\tgoterms=$(echo \"$line\" | cut -f\"$begin_goterms\"-\"$max_field\")\n",
    "\t\t\t\n",
    "\t\t\t# Assign values in the variable \"goterms\" to a new indexed array (called \"array\"), \n",
    "\t\t\t# with tab delimiter (IFS=$'\\t')\n",
    "\t\t\tIFS=$'\\t' read -r -a array <<<\"$goterms\"\n",
    "\t\t\t\n",
    "\t\t\t# Iterate through each element of the array.\n",
    "\t\t\t# Print the first 12 fields (i.e. the fields stored in \"fixed_fields\") followed by a tab (%s\\t).\n",
    "\t\t\t# Print the current element in the array (i.e. the current GO term) followed by a new line (%s\\n).\n",
    "\t\t\tfor element in \"${!array[@]}\"\t\n",
    "\t\t\t\tdo printf \"%s\\t%s\\n\" \"$fixed_fields\" \"${array[$element]}\"\n",
    "\t\t\tdone\n",
    "\tfi\n",
    "\n",
    "# Send the input file into the while loop and send the output to a file named \"rhonda_fixed.txt\".\n",
    "done < \"$file\" > \"$output_file\""
   ]
  },
  {
   "cell_type": "code",
   "execution_count": 27,
   "metadata": {
    "collapsed": false
   },
   "outputs": [
    {
     "name": "stdout",
     "output_type": "stream",
     "text": [
      "A0A0A7DNP6\tlcl|NC_047568.1_mrna_NM_001305294.1_64342\tGO:0005576\r\n",
      "A0A0A7DNP6\tlcl|NC_047568.1_mrna_NM_001305294.1_64342\tGO:0007218\r\n",
      "A0A0B5A7M7\tlcl|NC_047563.1_mrna_NM_001308866.2_33167\tGO:0005179\r\n",
      "A0A0B5A7M7\tlcl|NC_047563.1_mrna_NM_001308866.2_33167\tGO:0005576\r\n",
      "A0A0B5A7M7\tlcl|NC_047563.1_mrna_NM_001308866.2_33167\tGO:0006006\r\n",
      "A0A0B5A7M7\tlcl|NC_047563.1_mrna_XM_034475035.1_33168\tGO:0005179\r\n",
      "A0A0B5A7M7\tlcl|NC_047563.1_mrna_XM_034475035.1_33168\tGO:0005576\r\n",
      "A0A0B5A7M7\tlcl|NC_047563.1_mrna_XM_034475035.1_33168\tGO:0006006\r\n",
      "A0A0B5A8P8\tlcl|NC_047563.1_mrna_XM_011417422.3_33169\tGO:0005179\r\n",
      "A0A0B5A8P8\tlcl|NC_047563.1_mrna_XM_011417422.3_33169\tGO:0005576\r\n"
     ]
    }
   ],
   "source": [
    "!head _blast-GO-unfolded.tab"
   ]
  },
  {
   "cell_type": "code",
   "execution_count": 28,
   "metadata": {
    "collapsed": true
   },
   "outputs": [],
   "source": [
    "#Reorganize and sort columns\n",
    "!awk '{print $3\"\\t\"$2}' _blast-GO-unfolded.tab | gsort -V > _blast-GO-unfolded.sorted"
   ]
  },
  {
   "cell_type": "code",
   "execution_count": 33,
   "metadata": {
    "collapsed": false
   },
   "outputs": [
    {
     "name": "stdout",
     "output_type": "stream",
     "text": [
      "GO:0000002\tlcl|NC_047559.1_miscrna_XR_004599087.1_7137\n",
      "GO:0000002\tlcl|NC_047559.1_mrna_XM_034443112.1_7214\n",
      "GO:0000002\tlcl|NC_047559.1_mrna_XM_034461404.1_7363\n",
      "GO:0000002\tlcl|NC_047560.1_miscrna_XR_004599974.1_8065\n",
      "GO:0000002\tlcl|NC_047560.1_mrna_XM_034463679.1_8240\n",
      "GO:0000002\tlcl|NC_047560.1_mrna_XM_034466461.1_8892\n",
      "GO:0000002\tlcl|NC_047560.1_mrna_XM_034466605.1_10608\n",
      "GO:0000002\tlcl|NC_047560.1_mrna_XM_034466712.1_12222\n",
      "GO:0000002\tlcl|NC_047560.1_mrna_XM_034466933.1_10769\n",
      "GO:0000002\tlcl|NC_047561.1_mrna_XM_011434743.3_17262\n",
      " 1565846 3129025 83806308 _blast-GO-unfolded.sorted\n"
     ]
    }
   ],
   "source": [
    "!head _blast-GO-unfolded.sorted\n",
    "!wc _blast-GO-unfolded.sorted"
   ]
  },
  {
   "cell_type": "markdown",
   "metadata": {},
   "source": [
    "### 1c. Join with GO Slim terms"
   ]
  },
  {
   "cell_type": "code",
   "execution_count": 30,
   "metadata": {
    "collapsed": false
   },
   "outputs": [
    {
     "name": "stdout",
     "output_type": "stream",
     "text": [
      "  % Total    % Received % Xferd  Average Speed   Time    Time     Time  Current\n",
      "                                 Dload  Upload   Total   Spent    Left  Speed\n",
      "100 2314k  100 2314k    0     0   662k      0  0:00:03  0:00:03 --:--:--  663k\n"
     ]
    }
   ],
   "source": [
    "#Get GO to GOSlim matching\n",
    "!curl -O http://owl.fish.washington.edu/halfshell/bu-alanine-wd/17-07-20/GO-GOslim.sorted"
   ]
  },
  {
   "cell_type": "code",
   "execution_count": 31,
   "metadata": {
    "collapsed": false,
    "scrolled": true
   },
   "outputs": [
    {
     "name": "stdout",
     "output_type": "stream",
     "text": [
      "GO:0000001\tmitochondrion inheritance\tcell organization and biogenesis\tP\n",
      "GO:0000002\tmitochondrial genome maintenance\tcell organization and biogenesis\tP\n",
      "GO:0000003\treproduction\tother biological processes\tP\n",
      "GO:0000006\thigh affinity zinc uptake transmembrane transporter activity\ttransporter activity\tF\n",
      "GO:0000007\tlow-affinity zinc ion transmembrane transporter activity\ttransporter activity\tF\n",
      "GO:0000009\t\"alpha-1,6-mannosyltransferase activity\"\tother molecular function\tF\n",
      "GO:0000010\ttrans-hexaprenyltranstransferase activity\tother molecular function\tF\n",
      "GO:0000011\tvacuole inheritance\tcell organization and biogenesis\tP\n",
      "GO:0000012\tsingle strand break repair\tDNA metabolism\tP\n",
      "GO:0000012\tsingle strand break repair\tstress response\tP\n",
      "   30796 GO-GOslim.sorted\n"
     ]
    }
   ],
   "source": [
    "!head GO-GOslim.sorted\n",
    "!wc -l GO-GOslim.sorted"
   ]
  },
  {
   "cell_type": "code",
   "execution_count": 34,
   "metadata": {
    "collapsed": false
   },
   "outputs": [
    {
     "name": "stdout",
     "output_type": "stream",
     "text": [
      "lcl|NC_047559.1_miscrna_XR_004599087.1_7137\tGO:0000002\tmitochondrial genome maintenance\tcell organization and biogenesis\tP\n",
      "lcl|NC_047559.1_mrna_XM_034443112.1_7214\tGO:0000002\tmitochondrial genome maintenance\tcell organization and biogenesis\tP\n",
      "lcl|NC_047559.1_mrna_XM_034461404.1_7363\tGO:0000002\tmitochondrial genome maintenance\tcell organization and biogenesis\tP\n",
      "lcl|NC_047560.1_miscrna_XR_004599974.1_8065\tGO:0000002\tmitochondrial genome maintenance\tcell organization and biogenesis\tP\n",
      "lcl|NC_047560.1_mrna_XM_034463679.1_8240\tGO:0000002\tmitochondrial genome maintenance\tcell organization and biogenesis\tP\n",
      "lcl|NC_047560.1_mrna_XM_034466461.1_8892\tGO:0000002\tmitochondrial genome maintenance\tcell organization and biogenesis\tP\n",
      "lcl|NC_047560.1_mrna_XM_034466605.1_10608\tGO:0000002\tmitochondrial genome maintenance\tcell organization and biogenesis\tP\n",
      "lcl|NC_047560.1_mrna_XM_034466712.1_12222\tGO:0000002\tmitochondrial genome maintenance\tcell organization and biogenesis\tP\n",
      "lcl|NC_047560.1_mrna_XM_034466933.1_10769\tGO:0000002\tmitochondrial genome maintenance\tcell organization and biogenesis\tP\n",
      "lcl|NC_047561.1_mrna_XM_011434743.3_17262\tGO:0000002\tmitochondrial genome maintenance\tcell organization and biogenesis\tP\n",
      "  754513 Blastquery-GOslim.tab\n"
     ]
    }
   ],
   "source": [
    "#Join files to get GOslim for each query (with duplicate GOslim / query removed)\n",
    "!join -1 1 -2 1 -t $'\\t' \\\n",
    "_blast-GO-unfolded.sorted \\\n",
    "GO-GOslim.sorted \\\n",
    "| uniq | awk -F'\\t' -v OFS='\\t' '{print $2, $1, $3, $4, $5}' \\\n",
    "> Blastquery-GOslim.tab\n",
    "!head Blastquery-GOslim.tab\n",
    "!wc -l Blastquery-GOslim.tab"
   ]
  },
  {
   "cell_type": "markdown",
   "metadata": {},
   "source": [
    "## 2. Match CpG background and DML lists with GOterms"
   ]
  },
  {
   "cell_type": "markdown",
   "metadata": {
    "collapsed": true
   },
   "source": [
    "### 2a. Format transcript annotation file"
   ]
  },
  {
   "cell_type": "markdown",
   "metadata": {},
   "source": [
    "I got the transcript annotation from [the annotation release](https://ftp.ncbi.nlm.nih.gov/genomes/all/annotation_releases/29159/102/GCF_902806645.1_cgigas_uk_roslin_v1/)."
   ]
  },
  {
   "cell_type": "code",
   "execution_count": null,
   "metadata": {
    "collapsed": true
   },
   "outputs": [],
   "source": [
    "#Look at format of file\n",
    "!head ../genome-feature-files/ncbi-genomes-2021-05-04/GCF_902806645.1_cgigas_uk_roslin_v1_rna_from_genomic.fna"
   ]
  }
 ],
 "metadata": {
  "anaconda-cloud": {},
  "kernelspec": {
   "display_name": "Python [default]",
   "language": "python",
   "name": "python3"
  },
  "language_info": {
   "codemirror_mode": {
    "name": "ipython",
    "version": 3
   },
   "file_extension": ".py",
   "mimetype": "text/x-python",
   "name": "python",
   "nbconvert_exporter": "python",
   "pygments_lexer": "ipython3",
   "version": "3.5.2"
  }
 },
 "nbformat": 4,
 "nbformat_minor": 1
}
