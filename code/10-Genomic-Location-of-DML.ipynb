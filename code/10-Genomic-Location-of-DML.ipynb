{
 "cells": [
  {
   "cell_type": "markdown",
   "metadata": {},
   "source": [
    "# Genomic Location of DML"
   ]
  },
  {
   "cell_type": "markdown",
   "metadata": {},
   "source": [
    "In this notebook, I will identify the genomic locations of [sex-specific DML identified with `methylKit`](https://github.com/RobertsLab/project-gigas-oa-meth/blob/master/code/06-methylKit.R). \n",
    "\n",
    "2. Create BEDfiles for DML\n",
    "3. Characterize genomic locations for DML\n",
    "4. Identify overlaps between female- and indeterminate-DML\n",
    "5. Identify overlaps between SNPs and sex-specific DML"
   ]
  },
  {
   "cell_type": "markdown",
   "metadata": {},
   "source": [
    "## 0. Set working directory"
   ]
  },
  {
   "cell_type": "code",
   "execution_count": 1,
   "metadata": {
    "collapsed": false
   },
   "outputs": [
    {
     "data": {
      "text/plain": [
       "'/Users/yaamini/Documents/project-gigas-oa-meth/code'"
      ]
     },
     "execution_count": 1,
     "metadata": {},
     "output_type": "execute_result"
    }
   ],
   "source": [
    "pwd"
   ]
  },
  {
   "cell_type": "code",
   "execution_count": 2,
   "metadata": {
    "collapsed": false
   },
   "outputs": [
    {
     "name": "stdout",
     "output_type": "stream",
     "text": [
      "/Users/yaamini/Documents/project-gigas-oa-meth/output\n"
     ]
    }
   ],
   "source": [
    "cd ../output/"
   ]
  },
  {
   "cell_type": "code",
   "execution_count": 4,
   "metadata": {
    "collapsed": false
   },
   "outputs": [],
   "source": [
    "mkdir 10_DML-characterization"
   ]
  },
  {
   "cell_type": "code",
   "execution_count": 5,
   "metadata": {
    "collapsed": false
   },
   "outputs": [
    {
     "name": "stdout",
     "output_type": "stream",
     "text": [
      "/Users/yaamini/Documents/project-gigas-oa-meth/output/08_DML-characterization\n"
     ]
    }
   ],
   "source": [
    "cd 10_DML-characterization/"
   ]
  },
  {
   "cell_type": "markdown",
   "metadata": {},
   "source": [
    "## 2. Create BEDfiles for DML"
   ]
  },
  {
   "cell_type": "markdown",
   "metadata": {},
   "source": [
    "My `methylKit` DML lists are `.csv` files. To identify genomic locations with `bedtools intersect`, I need BEDfiles."
   ]
  },
  {
   "cell_type": "code",
   "execution_count": 7,
   "metadata": {
    "collapsed": false
   },
   "outputs": [
    {
     "name": "stdout",
     "output_type": "stream",
     "text": [
      "\"\",\"chr\",\"start\",\"end\",\"strand\",\"pvalue\",\"qvalue\",\"meth.diff\"\r\n",
      "\"375\",\"NC_047559.1\",7867,7869,\"*\",2.33980960791286e-15,4.08615261059822e-12,64.5753773413348\r\n",
      "\"2817\",\"NC_047559.1\",576880,576882,\"*\",1.33914604111036e-08,4.4952472775104e-06,36.8918918918919\r\n",
      "\"3089\",\"NC_047559.1\",606381,606383,\"*\",4.823350456729e-12,3.95503174159914e-09,32.8677433435181\r\n",
      "\"3093\",\"NC_047559.1\",607024,607026,\"*\",6.74665560838222e-05,0.00675150143112196,42.6966292134831\r\n",
      "\"3170\",\"NC_047559.1\",612843,612845,\"*\",1.49061330412156e-10,8.4130667805953e-08,-36.2951549392227\r\n",
      "\"3207\",\"NC_047559.1\",616708,616710,\"*\",2.03411781947518e-14,2.92674131627326e-11,-35\r\n",
      "\"4610\",\"NC_047559.1\",733435,733437,\"*\",1.05743863872163e-05,0.00142612432702515,46.1430423509075\r\n",
      "\"4704\",\"NC_047559.1\",742817,742819,\"*\",1.86287098909016e-16,4.09099699134841e-13,39.0844459857812\r\n",
      "\"4705\",\"NC_047559.1\",742820,742822,\"*\",8.66263989196498e-16,1.65869573168142e-12,35.5772357723577\r\n"
     ]
    }
   ],
   "source": [
    "#Look at csv file to determine what modifications need to be made\n",
    "#Column 2: chr, Column 3: start, Column 4: end, Column 8: meth.diff\n",
    "!head ../06-methylKit/DML/DML-pH-25-Cov5-Fem.csv "
   ]
  },
  {
   "cell_type": "code",
   "execution_count": 48,
   "metadata": {
    "collapsed": false
   },
   "outputs": [
    {
     "name": "stdout",
     "output_type": "stream",
     "text": [
      "../06-methylKit/DML/DML-pH-100-Cov5-Ind.csv\r\n",
      "../06-methylKit/DML/DML-pH-25-Cov5-Fem.csv\r\n",
      "../06-methylKit/DML/DML-pH-25-Cov5-Ind.csv\r\n",
      "../06-methylKit/DML/DML-pH-50-Cov5-Fem.csv\r\n",
      "../06-methylKit/DML/DML-pH-50-Cov5-Ind.csv\r\n",
      "../06-methylKit/DML/DML-pH-75-Cov5-Fem.csv\r\n",
      "../06-methylKit/DML/DML-pH-75-Cov5-Ind.csv\r\n"
     ]
    }
   ],
   "source": [
    "!find ../06-methylKit/DML/DML*csv"
   ]
  },
  {
   "cell_type": "code",
   "execution_count": 56,
   "metadata": {
    "collapsed": false
   },
   "outputs": [],
   "source": [
    "%%bash\n",
    "\n",
    "#Replace , with tabs\n",
    "#Remove extraneous quotes entries (can also be done in R)\n",
    "#Print chr, start, end, meth.diff\n",
    "#Remove header\n",
    "#Save as BEDfile\n",
    "\n",
    "for f in ../06-methylKit/DML/DML*csv\n",
    "do\n",
    "    tr \",\" \"\\t\" < ${f} \\\n",
    "    | tr -d '\"' \\\n",
    "    | awk '{print $2\"\\t\"$3\"\\t\"$4\"\\t\"$8}' \\\n",
    "    | tail -n+2 \\\n",
    "    > ${f}.bed\n",
    "done"
   ]
  },
  {
   "cell_type": "code",
   "execution_count": 61,
   "metadata": {
    "collapsed": false
   },
   "outputs": [],
   "source": [
    "%%bash\n",
    "\n",
    "#Move BEDfiles to current working directory\n",
    "mv ../06-methylKit/DML/*bed ."
   ]
  },
  {
   "cell_type": "code",
   "execution_count": 64,
   "metadata": {
    "collapsed": false
   },
   "outputs": [
    {
     "name": "stdout",
     "output_type": "stream",
     "text": [
      "==> DML-pH-100-Cov5-Ind.csv.bed <==\r\n",
      "NC_047559.1\t738014\t738016\t-100\r\n",
      "NC_047559.1\t1006145\t1006147\t100\r\n",
      "NC_047559.1\t1011405\t1011407\t100\r\n",
      "NC_047559.1\t1715466\t1715468\t100\r\n",
      "NC_047559.1\t2193954\t2193956\t-100\r\n",
      "NC_047559.1\t3595157\t3595159\t-100\r\n",
      "NC_047559.1\t3613450\t3613452\t-100\r\n",
      "NC_047559.1\t3734205\t3734207\t-100\r\n",
      "NC_047559.1\t3874606\t3874608\t-100\r\n",
      "NC_047559.1\t4907314\t4907316\t-100\r\n",
      "\r\n",
      "==> DML-pH-25-Cov5-Fem.csv.bed <==\r\n",
      "NC_047559.1\t7867\t7869\t64.5753773413348\r\n",
      "NC_047559.1\t576880\t576882\t36.8918918918919\r\n",
      "NC_047559.1\t606381\t606383\t32.8677433435181\r\n",
      "NC_047559.1\t607024\t607026\t42.6966292134831\r\n",
      "NC_047559.1\t612843\t612845\t-36.2951549392227\r\n",
      "NC_047559.1\t616708\t616710\t-35\r\n",
      "NC_047559.1\t733435\t733437\t46.1430423509075\r\n",
      "NC_047559.1\t742817\t742819\t39.0844459857812\r\n",
      "NC_047559.1\t742820\t742822\t35.5772357723577\r\n",
      "NC_047559.1\t744037\t744039\t-53.2666983975884\r\n",
      "\r\n",
      "==> DML-pH-25-Cov5-Ind.csv.bed <==\r\n",
      "NC_047559.1\t4791\t4793\t66.8650793650794\r\n",
      "NC_047559.1\t4835\t4837\t66.8831168831169\r\n",
      "NC_047559.1\t4843\t4845\t88.6486486486486\r\n",
      "NC_047559.1\t68070\t68072\t-78.328173374613\r\n",
      "NC_047559.1\t298568\t298570\t35.4838709677419\r\n",
      "NC_047559.1\t298613\t298615\t46.1538461538462\r\n",
      "NC_047559.1\t338745\t338747\t-39.010989010989\r\n",
      "NC_047559.1\t338753\t338755\t-34.4444444444444\r\n",
      "NC_047559.1\t338765\t338767\t-30.2777777777778\r\n",
      "NC_047559.1\t338777\t338779\t-36.0427807486631\r\n",
      "\r\n",
      "==> DML-pH-50-Cov5-Fem.csv.bed <==\r\n",
      "NC_047559.1\t7867\t7869\t64.5753773413348\r\n",
      "NC_047559.1\t744037\t744039\t-53.2666983975884\r\n",
      "NC_047559.1\t749465\t749467\t-59.0909090909091\r\n",
      "NC_047559.1\t1191754\t1191756\t56.0804701627486\r\n",
      "NC_047559.1\t1205353\t1205355\t-66.2207357859532\r\n",
      "NC_047559.1\t2121869\t2121871\t-59.9326599326599\r\n",
      "NC_047559.1\t2178949\t2178951\t-58.4615384615385\r\n",
      "NC_047559.1\t2799230\t2799232\t83.0864530029626\r\n",
      "NC_047559.1\t2799498\t2799500\t65.5769230769231\r\n",
      "NC_047559.1\t3065822\t3065824\t67.5486287302163\r\n",
      "\r\n",
      "==> DML-pH-50-Cov5-Ind.csv.bed <==\r\n",
      "NC_047559.1\t4791\t4793\t66.8650793650794\r\n",
      "NC_047559.1\t4835\t4837\t66.8831168831169\r\n",
      "NC_047559.1\t4843\t4845\t88.6486486486486\r\n",
      "NC_047559.1\t68070\t68072\t-78.328173374613\r\n",
      "NC_047559.1\t342209\t342211\t-75.4545454545455\r\n",
      "NC_047559.1\t342243\t342245\t-55.2631578947368\r\n",
      "NC_047559.1\t342246\t342248\t-52.7665317139001\r\n",
      "NC_047559.1\t425516\t425518\t63.4615384615385\r\n",
      "NC_047559.1\t428032\t428034\t-64.7058823529412\r\n",
      "NC_047559.1\t429637\t429639\t-52.3809523809524\r\n",
      "\r\n",
      "==> DML-pH-75-Cov5-Fem.csv.bed <==\r\n",
      "NC_047559.1\t2799230\t2799232\t83.0864530029626\r\n",
      "NC_047559.1\t6531650\t6531652\t76.7441860465116\r\n",
      "NC_047559.1\t8166690\t8166692\t77.3809523809524\r\n",
      "NC_047559.1\t9400974\t9400976\t-81.6326530612245\r\n",
      "NC_047559.1\t11117667\t11117669\t-77.0833333333333\r\n",
      "NC_047559.1\t18206975\t18206977\t80.1851851851852\r\n",
      "NC_047559.1\t22293933\t22293935\t75.2770673486786\r\n",
      "NC_047559.1\t24170063\t24170065\t76.8102073365231\r\n",
      "NC_047559.1\t24173162\t24173164\t77.8471602735653\r\n",
      "NC_047559.1\t24173203\t24173205\t82.0861678004535\r\n",
      "\r\n",
      "==> DML-pH-75-Cov5-Ind.csv.bed <==\r\n",
      "NC_047559.1\t4843\t4845\t88.6486486486486\r\n",
      "NC_047559.1\t68070\t68072\t-78.328173374613\r\n",
      "NC_047559.1\t342209\t342211\t-75.4545454545455\r\n",
      "NC_047559.1\t433154\t433156\t-76.9230769230769\r\n",
      "NC_047559.1\t564054\t564056\t-80\r\n",
      "NC_047559.1\t565569\t565571\t-97.3684210526316\r\n",
      "NC_047559.1\t565681\t565683\t-89.7959183673469\r\n",
      "NC_047559.1\t567364\t567366\t-97.3684210526316\r\n",
      "NC_047559.1\t584842\t584844\t79.4871794871795\r\n",
      "NC_047559.1\t736091\t736093\t76.4622973925299\r\n"
     ]
    }
   ],
   "source": [
    "!head *bed"
   ]
  },
  {
   "cell_type": "code",
   "execution_count": null,
   "metadata": {
    "collapsed": true
   },
   "outputs": [],
   "source": []
  }
 ],
 "metadata": {
  "anaconda-cloud": {},
  "kernelspec": {
   "display_name": "Python [default]",
   "language": "python",
   "name": "python3"
  },
  "language_info": {
   "codemirror_mode": {
    "name": "ipython",
    "version": 3
   },
   "file_extension": ".py",
   "mimetype": "text/x-python",
   "name": "python",
   "nbconvert_exporter": "python",
   "pygments_lexer": "ipython3",
   "version": "3.5.2"
  }
 },
 "nbformat": 4,
 "nbformat_minor": 1
}
