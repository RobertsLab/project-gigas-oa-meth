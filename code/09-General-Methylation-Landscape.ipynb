{
 "cells": [
  {
   "cell_type": "markdown",
   "metadata": {},
   "source": [
    "# Characterizing the general methylation landscape"
   ]
  },
  {
   "cell_type": "markdown",
   "metadata": {},
   "source": [
    "In this notebook, I will characterize the general methylation landscape. This will provide context I need to understand the significance of differentially methylated loci I obtain with `methylKit`. To characterize CpG methylation, I will use individual samples, as well as a union BEDgraph that concatenates all sample information.\n",
    "\n",
    "1. Concatenate coverage information\n",
    "2. Characterize methylation for each CpG dinucleotide in individual samples and union BEDgraph\n",
    "2. Determine genomic location of methylated, sparsely methylated, and unmethylated CpGs"
   ]
  },
  {
   "cell_type": "markdown",
   "metadata": {},
   "source": [
    "## 0. Set working directory"
   ]
  },
  {
   "cell_type": "code",
   "execution_count": 1,
   "metadata": {
    "collapsed": false
   },
   "outputs": [
    {
     "name": "stdout",
     "output_type": "stream",
     "text": [
      "/Users/yaamini/Documents/project-gigas-oa-meth/code\r\n"
     ]
    }
   ],
   "source": [
    "!pwd"
   ]
  },
  {
   "cell_type": "code",
   "execution_count": 2,
   "metadata": {
    "collapsed": false
   },
   "outputs": [
    {
     "name": "stdout",
     "output_type": "stream",
     "text": [
      "/Users/yaamini/Documents/project-gigas-oa-meth/output\n"
     ]
    }
   ],
   "source": [
    "cd ../output/"
   ]
  },
  {
   "cell_type": "code",
   "execution_count": 3,
   "metadata": {
    "collapsed": true
   },
   "outputs": [],
   "source": [
    "#!mkdir 09-methylation-landscape"
   ]
  },
  {
   "cell_type": "code",
   "execution_count": 4,
   "metadata": {
    "collapsed": false,
    "scrolled": true
   },
   "outputs": [
    {
     "name": "stdout",
     "output_type": "stream",
     "text": [
      "/Users/yaamini/Documents/project-gigas-oa-meth/output/09-methylation-landscape\n"
     ]
    }
   ],
   "source": [
    "cd 09-methylation-landscape/"
   ]
  },
  {
   "cell_type": "code",
   "execution_count": 5,
   "metadata": {
    "collapsed": false
   },
   "outputs": [
    {
     "name": "stdout",
     "output_type": "stream",
     "text": [
      "0.18.1\n"
     ]
    }
   ],
   "source": [
    "#Install pandas for this notebook\n",
    "import pandas as pd\n",
    "print(pd.__version__)"
   ]
  },
  {
   "cell_type": "markdown",
   "metadata": {},
   "source": [
    "## 1. Obtain sample BEDgraphs"
   ]
  },
  {
   "cell_type": "code",
   "execution_count": 9,
   "metadata": {
    "collapsed": false
   },
   "outputs": [
    {
     "name": "stdout",
     "output_type": "stream",
     "text": [
      "--2021-05-08 16:59:53--  https://gannet.fish.washington.edu/spartina/project-gigas-oa-meth/output/bismark-roslin/\n",
      "Resolving gannet.fish.washington.edu (gannet.fish.washington.edu)... 128.95.149.52\n",
      "Connecting to gannet.fish.washington.edu (gannet.fish.washington.edu)|128.95.149.52|:443... connected.\n",
      "WARNING: cannot verify gannet.fish.washington.edu's certificate, issued by ‘CN=InCommon RSA Server CA,OU=InCommon,O=Internet2,L=Ann Arbor,ST=MI,C=US’:\n",
      "  Unable to locally verify the issuer's authority.\n",
      "HTTP request sent, awaiting response... 200 OK\n",
      "Length: unspecified [text/html]\n",
      "Saving to: ‘./index.html.tmp’\n",
      "\n",
      "index.html.tmp          [ <=>                ]  57.65K  --.-KB/s    in 0.002s  \n",
      "\n",
      "2021-05-08 16:59:55 (36.9 MB/s) - ‘./index.html.tmp’ saved [59037]\n",
      "\n",
      "Loading robots.txt; please ignore errors.\n",
      "--2021-05-08 16:59:55--  https://gannet.fish.washington.edu/robots.txt\n",
      "Reusing existing connection to gannet.fish.washington.edu:443.\n",
      "HTTP request sent, awaiting response... 404 Not Found\n",
      "2021-05-08 16:59:55 ERROR 404: Not Found.\n",
      "\n",
      "Removing ./index.html.tmp since it should be rejected.\n",
      "\n",
      "--2021-05-08 16:59:55--  https://gannet.fish.washington.edu/spartina/project-gigas-oa-meth/output/bismark-roslin/?C=N;O=D\n",
      "Reusing existing connection to gannet.fish.washington.edu:443.\n",
      "HTTP request sent, awaiting response... 200 OK\n",
      "Length: unspecified [text/html]\n",
      "Saving to: ‘./index.html?C=N;O=D.tmp’\n",
      "\n",
      "index.html?C=N;O=D.     [ <=>                ]  57.65K  --.-KB/s    in 0.001s  \n",
      "\n",
      "2021-05-08 16:59:57 (44.7 MB/s) - ‘./index.html?C=N;O=D.tmp’ saved [59037]\n",
      "\n",
      "Removing ./index.html?C=N;O=D.tmp since it should be rejected.\n",
      "\n",
      "--2021-05-08 16:59:57--  https://gannet.fish.washington.edu/spartina/project-gigas-oa-meth/output/bismark-roslin/?C=M;O=A\n",
      "Reusing existing connection to gannet.fish.washington.edu:443.\n",
      "HTTP request sent, awaiting response... 200 OK\n",
      "Length: unspecified [text/html]\n",
      "Saving to: ‘./index.html?C=M;O=A.tmp’\n",
      "\n",
      "index.html?C=M;O=A.     [ <=>                ]  57.65K  --.-KB/s    in 0.001s  \n",
      "\n",
      "2021-05-08 16:59:59 (42.7 MB/s) - ‘./index.html?C=M;O=A.tmp’ saved [59037]\n",
      "\n",
      "Removing ./index.html?C=M;O=A.tmp since it should be rejected.\n",
      "\n",
      "--2021-05-08 16:59:59--  https://gannet.fish.washington.edu/spartina/project-gigas-oa-meth/output/bismark-roslin/?C=S;O=A\n",
      "Reusing existing connection to gannet.fish.washington.edu:443.\n",
      "HTTP request sent, awaiting response... 200 OK\n",
      "Length: unspecified [text/html]\n",
      "Saving to: ‘./index.html?C=S;O=A.tmp’\n",
      "\n",
      "index.html?C=S;O=A.     [ <=>                ]  57.65K  --.-KB/s    in 0.001s  \n",
      "\n",
      "2021-05-08 17:00:00 (58.8 MB/s) - ‘./index.html?C=S;O=A.tmp’ saved [59037]\n",
      "\n",
      "Removing ./index.html?C=S;O=A.tmp since it should be rejected.\n",
      "\n",
      "--2021-05-08 17:00:00--  https://gannet.fish.washington.edu/spartina/project-gigas-oa-meth/output/bismark-roslin/?C=D;O=A\n",
      "Reusing existing connection to gannet.fish.washington.edu:443.\n",
      "HTTP request sent, awaiting response... 200 OK\n",
      "Length: unspecified [text/html]\n",
      "Saving to: ‘./index.html?C=D;O=A.tmp’\n",
      "\n",
      "index.html?C=D;O=A.     [ <=>                ]  57.65K  --.-KB/s    in 0.001s  \n",
      "\n",
      "2021-05-08 17:00:02 (43.9 MB/s) - ‘./index.html?C=D;O=A.tmp’ saved [59037]\n",
      "\n",
      "Removing ./index.html?C=D;O=A.tmp since it should be rejected.\n",
      "\n",
      "--2021-05-08 17:00:02--  https://gannet.fish.washington.edu/spartina/project-gigas-oa-meth/output/bismark-roslin/bismark_summary_report.html\n",
      "Reusing existing connection to gannet.fish.washington.edu:443.\n",
      "HTTP request sent, awaiting response... 200 OK\n",
      "Length: 3162079 (3.0M) [text/html]\n",
      "Saving to: ‘./bismark_summary_report.html.tmp’\n",
      "\n",
      "bismark_summary_rep 100%[===================>]   3.01M  --.-KB/s    in 0.04s   \n",
      "\n",
      "2021-05-08 17:00:02 (76.0 MB/s) - ‘./bismark_summary_report.html.tmp’ saved [3162079/3162079]\n",
      "\n",
      "Removing ./bismark_summary_report.html.tmp since it should be rejected.\n",
      "\n",
      "--2021-05-08 17:00:02--  https://gannet.fish.washington.edu/spartina/project-gigas-oa-meth/output/bismark-roslin/multiqc_data/\n",
      "Reusing existing connection to gannet.fish.washington.edu:443.\n",
      "HTTP request sent, awaiting response... 200 OK\n",
      "Length: 2204 (2.2K) [text/html]\n",
      "Saving to: ‘./index.html.tmp’\n",
      "\n",
      "index.html.tmp      100%[===================>]   2.15K  --.-KB/s    in 0s      \n",
      "\n",
      "2021-05-08 17:00:02 (2.05 GB/s) - ‘./index.html.tmp’ saved [2204/2204]\n",
      "\n",
      "Removing ./index.html.tmp since it should be rejected.\n",
      "\n",
      "--2021-05-08 17:00:02--  https://gannet.fish.washington.edu/spartina/project-gigas-oa-meth/output/bismark-roslin/multiqc_report.html\n",
      "Reusing existing connection to gannet.fish.washington.edu:443.\n",
      "HTTP request sent, awaiting response... 200 OK\n",
      "Length: 1208171 (1.2M) [text/html]\n",
      "Saving to: ‘./multiqc_report.html.tmp’\n",
      "\n",
      "multiqc_report.html 100%[===================>]   1.15M  --.-KB/s    in 0.03s   \n",
      "\n",
      "2021-05-08 17:00:02 (44.6 MB/s) - ‘./multiqc_report.html.tmp’ saved [1208171/1208171]\n",
      "\n",
      "Removing ./multiqc_report.html.tmp since it should be rejected.\n",
      "\n",
      "--2021-05-08 17:00:02--  https://gannet.fish.washington.edu/spartina/project-gigas-oa-meth/output/bismark-roslin/zr3616_1_R1_val_1_val_1_val_1_bismark_bt2_PE_report.html\n",
      "Reusing existing connection to gannet.fish.washington.edu:443.\n",
      "HTTP request sent, awaiting response... 200 OK\n",
      "Length: 3163175 (3.0M) [text/html]\n",
      "Saving to: ‘./zr3616_1_R1_val_1_val_1_val_1_bismark_bt2_PE_report.html.tmp’\n",
      "\n",
      "zr3616_1_R1_val_1_v 100%[===================>]   3.02M  --.-KB/s    in 0.03s   \n",
      "\n",
      "2021-05-08 17:00:02 (112 MB/s) - ‘./zr3616_1_R1_val_1_val_1_val_1_bismark_bt2_PE_report.html.tmp’ saved [3163175/3163175]\n",
      "\n",
      "Removing ./zr3616_1_R1_val_1_val_1_val_1_bismark_bt2_PE_report.html.tmp since it should be rejected.\n",
      "\n",
      "--2021-05-08 17:00:02--  https://gannet.fish.washington.edu/spartina/project-gigas-oa-meth/output/bismark-roslin/zr3616_1_R1_val_1_val_1_val_1_bismark_bt2_pe._5x.bedgraph\n",
      "Reusing existing connection to gannet.fish.washington.edu:443.\n",
      "HTTP request sent, awaiting response... 200 OK\n",
      "Length: 326370964 (311M)\n",
      "Saving to: ‘./zr3616_1_R1_val_1_val_1_val_1_bismark_bt2_pe._5x.bedgraph’\n",
      "\n",
      "zr3616_1_R1_val_1_v 100%[===================>] 311.25M  66.5MB/s    in 4.3s    \n",
      "\n",
      "2021-05-08 17:00:07 (72.0 MB/s) - ‘./zr3616_1_R1_val_1_val_1_val_1_bismark_bt2_pe._5x.bedgraph’ saved [326370964/326370964]\n",
      "\n",
      "--2021-05-08 17:00:07--  https://gannet.fish.washington.edu/spartina/project-gigas-oa-meth/output/bismark-roslin/zr3616_2_R1_val_1_val_1_val_1_bismark_bt2_PE_report.html\n",
      "Reusing existing connection to gannet.fish.washington.edu:443.\n",
      "HTTP request sent, awaiting response... 200 OK\n",
      "Length: 3163172 (3.0M) [text/html]\n",
      "Saving to: ‘./zr3616_2_R1_val_1_val_1_val_1_bismark_bt2_PE_report.html.tmp’\n",
      "\n",
      "zr3616_2_R1_val_1_v 100%[===================>]   3.02M  --.-KB/s    in 0.04s   \n",
      "\n",
      "2021-05-08 17:00:07 (81.4 MB/s) - ‘./zr3616_2_R1_val_1_val_1_val_1_bismark_bt2_PE_report.html.tmp’ saved [3163172/3163172]\n",
      "\n",
      "Removing ./zr3616_2_R1_val_1_val_1_val_1_bismark_bt2_PE_report.html.tmp since it should be rejected.\n",
      "\n",
      "--2021-05-08 17:00:07--  https://gannet.fish.washington.edu/spartina/project-gigas-oa-meth/output/bismark-roslin/zr3616_2_R1_val_1_val_1_val_1_bismark_bt2_pe._5x.bedgraph\n",
      "Reusing existing connection to gannet.fish.washington.edu:443.\n",
      "HTTP request sent, awaiting response... 200 OK\n",
      "Length: 328120885 (313M)\n",
      "Saving to: ‘./zr3616_2_R1_val_1_val_1_val_1_bismark_bt2_pe._5x.bedgraph’\n",
      "\n",
      "zr3616_2_R1_val_1_v 100%[===================>] 312.92M  76.7MB/s    in 4.0s    \n",
      "\n",
      "2021-05-08 17:00:11 (79.1 MB/s) - ‘./zr3616_2_R1_val_1_val_1_val_1_bismark_bt2_pe._5x.bedgraph’ saved [328120885/328120885]\n",
      "\n",
      "--2021-05-08 17:00:11--  https://gannet.fish.washington.edu/spartina/project-gigas-oa-meth/output/bismark-roslin/zr3616_3_R1_val_1_val_1_val_1_bismark_bt2_PE_report.html\n",
      "Reusing existing connection to gannet.fish.washington.edu:443.\n",
      "HTTP request sent, awaiting response... 200 OK\n",
      "Length: 3163155 (3.0M) [text/html]\n",
      "Saving to: ‘./zr3616_3_R1_val_1_val_1_val_1_bismark_bt2_PE_report.html.tmp’\n",
      "\n",
      "zr3616_3_R1_val_1_v 100%[===================>]   3.02M  --.-KB/s    in 0.05s   \n",
      "\n",
      "2021-05-08 17:00:11 (61.9 MB/s) - ‘./zr3616_3_R1_val_1_val_1_val_1_bismark_bt2_PE_report.html.tmp’ saved [3163155/3163155]\n",
      "\n",
      "Removing ./zr3616_3_R1_val_1_val_1_val_1_bismark_bt2_PE_report.html.tmp since it should be rejected.\n",
      "\n",
      "--2021-05-08 17:00:12--  https://gannet.fish.washington.edu/spartina/project-gigas-oa-meth/output/bismark-roslin/zr3616_3_R1_val_1_val_1_val_1_bismark_bt2_pe._5x.bedgraph\n",
      "Reusing existing connection to gannet.fish.washington.edu:443.\n",
      "HTTP request sent, awaiting response... 200 OK\n",
      "Length: 324915270 (310M)\n",
      "Saving to: ‘./zr3616_3_R1_val_1_val_1_val_1_bismark_bt2_pe._5x.bedgraph’\n",
      "\n",
      "zr3616_3_R1_val_1_v 100%[===================>] 309.86M  91.1MB/s    in 3.4s    \n",
      "\n",
      "2021-05-08 17:00:15 (92.2 MB/s) - ‘./zr3616_3_R1_val_1_val_1_val_1_bismark_bt2_pe._5x.bedgraph’ saved [324915270/324915270]\n",
      "\n",
      "--2021-05-08 17:00:15--  https://gannet.fish.washington.edu/spartina/project-gigas-oa-meth/output/bismark-roslin/zr3616_4_R1_val_1_val_1_val_1_bismark_bt2_PE_report.html\n",
      "Reusing existing connection to gannet.fish.washington.edu:443.\n",
      "HTTP request sent, awaiting response... 200 OK\n",
      "Length: 3163263 (3.0M) [text/html]\n",
      "Saving to: ‘./zr3616_4_R1_val_1_val_1_val_1_bismark_bt2_PE_report.html.tmp’\n",
      "\n",
      "zr3616_4_R1_val_1_v 100%[===================>]   3.02M  --.-KB/s    in 0.05s   \n",
      "\n",
      "2021-05-08 17:00:15 (55.8 MB/s) - ‘./zr3616_4_R1_val_1_val_1_val_1_bismark_bt2_PE_report.html.tmp’ saved [3163263/3163263]\n",
      "\n",
      "Removing ./zr3616_4_R1_val_1_val_1_val_1_bismark_bt2_PE_report.html.tmp since it should be rejected.\n",
      "\n",
      "--2021-05-08 17:00:15--  https://gannet.fish.washington.edu/spartina/project-gigas-oa-meth/output/bismark-roslin/zr3616_4_R1_val_1_val_1_val_1_bismark_bt2_pe._5x.bedgraph\n",
      "Reusing existing connection to gannet.fish.washington.edu:443.\n",
      "HTTP request sent, awaiting response... 200 OK\n",
      "Length: 336661729 (321M)\n",
      "Saving to: ‘./zr3616_4_R1_val_1_val_1_val_1_bismark_bt2_pe._5x.bedgraph’\n",
      "\n",
      "zr3616_4_R1_val_1_v 100%[===================>] 321.07M  84.4MB/s    in 3.8s    \n",
      "\n",
      "2021-05-08 17:00:19 (84.3 MB/s) - ‘./zr3616_4_R1_val_1_val_1_val_1_bismark_bt2_pe._5x.bedgraph’ saved [336661729/336661729]\n",
      "\n",
      "--2021-05-08 17:00:19--  https://gannet.fish.washington.edu/spartina/project-gigas-oa-meth/output/bismark-roslin/zr3616_5_R1_val_1_val_1_val_1_bismark_bt2_PE_report.html\n",
      "Reusing existing connection to gannet.fish.washington.edu:443.\n",
      "HTTP request sent, awaiting response... 200 OK\n",
      "Length: 3163101 (3.0M) [text/html]\n",
      "Saving to: ‘./zr3616_5_R1_val_1_val_1_val_1_bismark_bt2_PE_report.html.tmp’\n",
      "\n",
      "zr3616_5_R1_val_1_v 100%[===================>]   3.02M  --.-KB/s    in 0.04s   \n",
      "\n",
      "2021-05-08 17:00:20 (77.2 MB/s) - ‘./zr3616_5_R1_val_1_val_1_val_1_bismark_bt2_PE_report.html.tmp’ saved [3163101/3163101]\n",
      "\n",
      "Removing ./zr3616_5_R1_val_1_val_1_val_1_bismark_bt2_PE_report.html.tmp since it should be rejected.\n",
      "\n",
      "--2021-05-08 17:00:20--  https://gannet.fish.washington.edu/spartina/project-gigas-oa-meth/output/bismark-roslin/zr3616_5_R1_val_1_val_1_val_1_bismark_bt2_pe._5x.bedgraph\n",
      "Reusing existing connection to gannet.fish.washington.edu:443.\n",
      "HTTP request sent, awaiting response... 200 OK\n",
      "Length: 312338053 (298M)\n",
      "Saving to: ‘./zr3616_5_R1_val_1_val_1_val_1_bismark_bt2_pe._5x.bedgraph’\n",
      "\n",
      "zr3616_5_R1_val_1_v 100%[===================>] 297.87M  82.1MB/s    in 3.5s    \n",
      "\n",
      "2021-05-08 17:00:23 (85.2 MB/s) - ‘./zr3616_5_R1_val_1_val_1_val_1_bismark_bt2_pe._5x.bedgraph’ saved [312338053/312338053]\n",
      "\n",
      "--2021-05-08 17:00:23--  https://gannet.fish.washington.edu/spartina/project-gigas-oa-meth/output/bismark-roslin/zr3616_6_R1_val_1_val_1_val_1_bismark_bt2_PE_report.html\n",
      "Reusing existing connection to gannet.fish.washington.edu:443.\n",
      "HTTP request sent, awaiting response... 200 OK\n",
      "Length: 3163137 (3.0M) [text/html]\n",
      "Saving to: ‘./zr3616_6_R1_val_1_val_1_val_1_bismark_bt2_PE_report.html.tmp’\n",
      "\n",
      "zr3616_6_R1_val_1_v 100%[===================>]   3.02M  --.-KB/s    in 0.04s   \n",
      "\n",
      "2021-05-08 17:00:24 (78.1 MB/s) - ‘./zr3616_6_R1_val_1_val_1_val_1_bismark_bt2_PE_report.html.tmp’ saved [3163137/3163137]\n",
      "\n",
      "Removing ./zr3616_6_R1_val_1_val_1_val_1_bismark_bt2_PE_report.html.tmp since it should be rejected.\n",
      "\n",
      "--2021-05-08 17:00:24--  https://gannet.fish.washington.edu/spartina/project-gigas-oa-meth/output/bismark-roslin/zr3616_6_R1_val_1_val_1_val_1_bismark_bt2_pe._5x.bedgraph\n",
      "Reusing existing connection to gannet.fish.washington.edu:443.\n",
      "HTTP request sent, awaiting response... 200 OK\n",
      "Length: 328183632 (313M)\n",
      "Saving to: ‘./zr3616_6_R1_val_1_val_1_val_1_bismark_bt2_pe._5x.bedgraph’\n",
      "\n",
      "zr3616_6_R1_val_1_v 100%[===================>] 312.98M  82.1MB/s    in 3.7s    \n",
      "\n",
      "2021-05-08 17:00:27 (85.3 MB/s) - ‘./zr3616_6_R1_val_1_val_1_val_1_bismark_bt2_pe._5x.bedgraph’ saved [328183632/328183632]\n",
      "\n",
      "--2021-05-08 17:00:28--  https://gannet.fish.washington.edu/spartina/project-gigas-oa-meth/output/bismark-roslin/zr3616_7_R1_val_1_val_1_val_1_bismark_bt2_PE_report.html\n",
      "Reusing existing connection to gannet.fish.washington.edu:443.\n",
      "HTTP request sent, awaiting response... 200 OK\n",
      "Length: 3163214 (3.0M) [text/html]\n",
      "Saving to: ‘./zr3616_7_R1_val_1_val_1_val_1_bismark_bt2_PE_report.html.tmp’\n",
      "\n",
      "zr3616_7_R1_val_1_v 100%[===================>]   3.02M  --.-KB/s    in 0.04s   \n",
      "\n",
      "2021-05-08 17:00:28 (69.5 MB/s) - ‘./zr3616_7_R1_val_1_val_1_val_1_bismark_bt2_PE_report.html.tmp’ saved [3163214/3163214]\n",
      "\n",
      "Removing ./zr3616_7_R1_val_1_val_1_val_1_bismark_bt2_PE_report.html.tmp since it should be rejected.\n",
      "\n",
      "--2021-05-08 17:00:28--  https://gannet.fish.washington.edu/spartina/project-gigas-oa-meth/output/bismark-roslin/zr3616_7_R1_val_1_val_1_val_1_bismark_bt2_pe._5x.bedgraph\n",
      "Reusing existing connection to gannet.fish.washington.edu:443.\n",
      "HTTP request sent, awaiting response... 200 OK\n",
      "Length: 318766266 (304M)\n",
      "Saving to: ‘./zr3616_7_R1_val_1_val_1_val_1_bismark_bt2_pe._5x.bedgraph’\n",
      "\n",
      "zr3616_7_R1_val_1_v 100%[===================>] 304.00M  96.7MB/s    in 3.1s    \n",
      "\n",
      "2021-05-08 17:00:31 (96.7 MB/s) - ‘./zr3616_7_R1_val_1_val_1_val_1_bismark_bt2_pe._5x.bedgraph’ saved [318766266/318766266]\n",
      "\n",
      "--2021-05-08 17:00:31--  https://gannet.fish.washington.edu/spartina/project-gigas-oa-meth/output/bismark-roslin/zr3616_8_R1_val_1_val_1_val_1_bismark_bt2_PE_report.html\n",
      "Reusing existing connection to gannet.fish.washington.edu:443.\n",
      "HTTP request sent, awaiting response... 200 OK\n",
      "Length: 3163180 (3.0M) [text/html]\n",
      "Saving to: ‘./zr3616_8_R1_val_1_val_1_val_1_bismark_bt2_PE_report.html.tmp’\n",
      "\n",
      "zr3616_8_R1_val_1_v 100%[===================>]   3.02M  --.-KB/s    in 0.04s   \n",
      "\n",
      "2021-05-08 17:00:31 (72.4 MB/s) - ‘./zr3616_8_R1_val_1_val_1_val_1_bismark_bt2_PE_report.html.tmp’ saved [3163180/3163180]\n",
      "\n",
      "Removing ./zr3616_8_R1_val_1_val_1_val_1_bismark_bt2_PE_report.html.tmp since it should be rejected.\n",
      "\n",
      "--2021-05-08 17:00:31--  https://gannet.fish.washington.edu/spartina/project-gigas-oa-meth/output/bismark-roslin/zr3616_8_R1_val_1_val_1_val_1_bismark_bt2_pe._5x.bedgraph\n",
      "Reusing existing connection to gannet.fish.washington.edu:443.\n",
      "HTTP request sent, awaiting response... 200 OK\n",
      "Length: 322250987 (307M)\n",
      "Saving to: ‘./zr3616_8_R1_val_1_val_1_val_1_bismark_bt2_pe._5x.bedgraph’\n",
      "\n",
      "zr3616_8_R1_val_1_v 100%[===================>] 307.32M   100MB/s    in 3.1s    \n",
      "\n",
      "2021-05-08 17:00:34 (100 MB/s) - ‘./zr3616_8_R1_val_1_val_1_val_1_bismark_bt2_pe._5x.bedgraph’ saved [322250987/322250987]\n",
      "\n",
      "--2021-05-08 17:00:35--  https://gannet.fish.washington.edu/spartina/project-gigas-oa-meth/output/bismark-roslin/?C=N;O=A\n",
      "Reusing existing connection to gannet.fish.washington.edu:443.\n",
      "HTTP request sent, awaiting response... 200 OK\n",
      "Length: unspecified [text/html]\n",
      "Saving to: ‘./index.html?C=N;O=A.tmp’\n",
      "\n",
      "index.html?C=N;O=A.     [ <=>                ]  57.65K  --.-KB/s    in 0.001s  \n",
      "\n",
      "2021-05-08 17:00:36 (41.5 MB/s) - ‘./index.html?C=N;O=A.tmp’ saved [59037]\n",
      "\n",
      "Removing ./index.html?C=N;O=A.tmp since it should be rejected.\n",
      "\n",
      "--2021-05-08 17:00:36--  https://gannet.fish.washington.edu/spartina/project-gigas-oa-meth/output/bismark-roslin/?C=M;O=D\n",
      "Reusing existing connection to gannet.fish.washington.edu:443.\n",
      "HTTP request sent, awaiting response... 200 OK\n",
      "Length: unspecified [text/html]\n",
      "Saving to: ‘./index.html?C=M;O=D.tmp’\n",
      "\n",
      "index.html?C=M;O=D.     [ <=>                ]  57.65K  --.-KB/s    in 0.001s  \n",
      "\n",
      "2021-05-08 17:00:38 (42.2 MB/s) - ‘./index.html?C=M;O=D.tmp’ saved [59037]\n",
      "\n",
      "Removing ./index.html?C=M;O=D.tmp since it should be rejected.\n",
      "\n",
      "--2021-05-08 17:00:38--  https://gannet.fish.washington.edu/spartina/project-gigas-oa-meth/output/bismark-roslin/?C=S;O=D\n",
      "Reusing existing connection to gannet.fish.washington.edu:443.\n",
      "HTTP request sent, awaiting response... 200 OK\n",
      "Length: unspecified [text/html]\n",
      "Saving to: ‘./index.html?C=S;O=D.tmp’\n",
      "\n",
      "index.html?C=S;O=D.     [ <=>                ]  57.65K  --.-KB/s    in 0.001s  \n",
      "\n",
      "2021-05-08 17:00:40 (51.7 MB/s) - ‘./index.html?C=S;O=D.tmp’ saved [59037]\n",
      "\n",
      "Removing ./index.html?C=S;O=D.tmp since it should be rejected.\n",
      "\n",
      "--2021-05-08 17:00:40--  https://gannet.fish.washington.edu/spartina/project-gigas-oa-meth/output/bismark-roslin/?C=D;O=D\n",
      "Reusing existing connection to gannet.fish.washington.edu:443.\n",
      "HTTP request sent, awaiting response... 200 OK\n",
      "Length: unspecified [text/html]\n",
      "Saving to: ‘./index.html?C=D;O=D.tmp’\n",
      "\n",
      "index.html?C=D;O=D.     [ <=>                ]  57.65K  --.-KB/s    in 0.001s  \n",
      "\n",
      "2021-05-08 17:00:42 (43.7 MB/s) - ‘./index.html?C=D;O=D.tmp’ saved [59037]\n",
      "\n",
      "Removing ./index.html?C=D;O=D.tmp since it should be rejected.\n",
      "\n",
      "--2021-05-08 17:00:42--  https://gannet.fish.washington.edu/spartina/project-gigas-oa-meth/output/bismark-roslin/multiqc_data/?C=N;O=D\n",
      "Reusing existing connection to gannet.fish.washington.edu:443.\n",
      "HTTP request sent, awaiting response... 200 OK\n",
      "Length: 2204 (2.2K) [text/html]\n",
      "Saving to: ‘./index.html?C=N;O=D.tmp’\n",
      "\n",
      "index.html?C=N;O=D. 100%[===================>]   2.15K  --.-KB/s    in 0s      \n",
      "\n",
      "2021-05-08 17:00:42 (701 MB/s) - ‘./index.html?C=N;O=D.tmp’ saved [2204/2204]\n",
      "\n",
      "Removing ./index.html?C=N;O=D.tmp since it should be rejected.\n",
      "\n",
      "--2021-05-08 17:00:42--  https://gannet.fish.washington.edu/spartina/project-gigas-oa-meth/output/bismark-roslin/multiqc_data/?C=M;O=A\n",
      "Reusing existing connection to gannet.fish.washington.edu:443.\n",
      "HTTP request sent, awaiting response... 200 OK\n",
      "Length: 2204 (2.2K) [text/html]\n",
      "Saving to: ‘./index.html?C=M;O=A.tmp’\n",
      "\n",
      "index.html?C=M;O=A. 100%[===================>]   2.15K  --.-KB/s    in 0s      \n",
      "\n",
      "2021-05-08 17:00:42 (1.03 GB/s) - ‘./index.html?C=M;O=A.tmp’ saved [2204/2204]\n",
      "\n",
      "Removing ./index.html?C=M;O=A.tmp since it should be rejected.\n",
      "\n",
      "--2021-05-08 17:00:42--  https://gannet.fish.washington.edu/spartina/project-gigas-oa-meth/output/bismark-roslin/multiqc_data/?C=S;O=A\n",
      "Reusing existing connection to gannet.fish.washington.edu:443.\n",
      "HTTP request sent, awaiting response... 200 OK\n",
      "Length: 2204 (2.2K) [text/html]\n",
      "Saving to: ‘./index.html?C=S;O=A.tmp’\n",
      "\n",
      "index.html?C=S;O=A. 100%[===================>]   2.15K  --.-KB/s    in 0s      \n",
      "\n",
      "2021-05-08 17:00:42 (2.05 GB/s) - ‘./index.html?C=S;O=A.tmp’ saved [2204/2204]\n",
      "\n",
      "Removing ./index.html?C=S;O=A.tmp since it should be rejected.\n",
      "\n",
      "--2021-05-08 17:00:42--  https://gannet.fish.washington.edu/spartina/project-gigas-oa-meth/output/bismark-roslin/multiqc_data/?C=D;O=A\n",
      "Reusing existing connection to gannet.fish.washington.edu:443.\n",
      "HTTP request sent, awaiting response... 200 OK\n",
      "Length: 2204 (2.2K) [text/html]\n",
      "Saving to: ‘./index.html?C=D;O=A.tmp’\n",
      "\n",
      "index.html?C=D;O=A. 100%[===================>]   2.15K  --.-KB/s    in 0s      \n",
      "\n",
      "2021-05-08 17:00:42 (2.05 GB/s) - ‘./index.html?C=D;O=A.tmp’ saved [2204/2204]\n",
      "\n",
      "Removing ./index.html?C=D;O=A.tmp since it should be rejected.\n",
      "\n",
      "--2021-05-08 17:00:42--  https://gannet.fish.washington.edu/spartina/project-gigas-oa-meth/output/bismark-roslin/multiqc_data/?C=N;O=A\n",
      "Reusing existing connection to gannet.fish.washington.edu:443.\n",
      "HTTP request sent, awaiting response... 200 OK\n",
      "Length: 2204 (2.2K) [text/html]\n",
      "Saving to: ‘./index.html?C=N;O=A.tmp’\n",
      "\n",
      "index.html?C=N;O=A. 100%[===================>]   2.15K  --.-KB/s    in 0s      \n",
      "\n",
      "2021-05-08 17:00:42 (1.03 GB/s) - ‘./index.html?C=N;O=A.tmp’ saved [2204/2204]\n",
      "\n",
      "Removing ./index.html?C=N;O=A.tmp since it should be rejected.\n",
      "\n",
      "--2021-05-08 17:00:42--  https://gannet.fish.washington.edu/spartina/project-gigas-oa-meth/output/bismark-roslin/multiqc_data/?C=M;O=D\n",
      "Reusing existing connection to gannet.fish.washington.edu:443.\n",
      "HTTP request sent, awaiting response... 200 OK\n",
      "Length: 2204 (2.2K) [text/html]\n",
      "Saving to: ‘./index.html?C=M;O=D.tmp’\n",
      "\n",
      "index.html?C=M;O=D. 100%[===================>]   2.15K  --.-KB/s    in 0s      \n",
      "\n",
      "2021-05-08 17:00:42 (1.03 GB/s) - ‘./index.html?C=M;O=D.tmp’ saved [2204/2204]\n",
      "\n",
      "Removing ./index.html?C=M;O=D.tmp since it should be rejected.\n",
      "\n",
      "--2021-05-08 17:00:42--  https://gannet.fish.washington.edu/spartina/project-gigas-oa-meth/output/bismark-roslin/multiqc_data/?C=S;O=D\n",
      "Reusing existing connection to gannet.fish.washington.edu:443.\n",
      "HTTP request sent, awaiting response... 200 OK\n",
      "Length: 2204 (2.2K) [text/html]\n",
      "Saving to: ‘./index.html?C=S;O=D.tmp’\n",
      "\n",
      "index.html?C=S;O=D. 100%[===================>]   2.15K  --.-KB/s    in 0s      \n",
      "\n",
      "2021-05-08 17:00:42 (1.03 GB/s) - ‘./index.html?C=S;O=D.tmp’ saved [2204/2204]\n",
      "\n",
      "Removing ./index.html?C=S;O=D.tmp since it should be rejected.\n",
      "\n",
      "--2021-05-08 17:00:42--  https://gannet.fish.washington.edu/spartina/project-gigas-oa-meth/output/bismark-roslin/multiqc_data/?C=D;O=D\n",
      "Reusing existing connection to gannet.fish.washington.edu:443.\n",
      "HTTP request sent, awaiting response... 200 OK\n",
      "Length: 2204 (2.2K) [text/html]\n",
      "Saving to: ‘./index.html?C=D;O=D.tmp’\n",
      "\n",
      "index.html?C=D;O=D. 100%[===================>]   2.15K  --.-KB/s    in 0s      \n",
      "\n",
      "2021-05-08 17:00:42 (1.03 GB/s) - ‘./index.html?C=D;O=D.tmp’ saved [2204/2204]\n",
      "\n",
      "Removing ./index.html?C=D;O=D.tmp since it should be rejected.\n",
      "\n",
      "FINISHED --2021-05-08 17:00:42--\n",
      "Total wall clock time: 48s\n",
      "Downloaded: 36 files, 2.4G in 29s (85.7 MB/s)\n"
     ]
    }
   ],
   "source": [
    "#Download 5x bedgraphs\n",
    "!wget -r \\\n",
    "--no-check-certificate --no-directories --no-parent --reject \"index.html*\" \\\n",
    "-P . \\\n",
    "-A \"*5x.bedgraph\" https://gannet.fish.washington.edu/spartina/project-gigas-oa-meth/output/bismark-roslin/"
   ]
  },
  {
   "cell_type": "code",
   "execution_count": 15,
   "metadata": {
    "collapsed": false
   },
   "outputs": [
    {
     "name": "stdout",
     "output_type": "stream",
     "text": [
      "total 5073480\r\n",
      "-rw-r--r--  1 yaamini  staff   311M Mar 22 03:46 zr3616_1_R1_val_1_val_1_val_1_bismark_bt2_pe._5x.bedgraph\r\n",
      "-rw-r--r--  1 yaamini  staff   313M Mar 22 03:46 zr3616_2_R1_val_1_val_1_val_1_bismark_bt2_pe._5x.bedgraph\r\n",
      "-rw-r--r--  1 yaamini  staff   310M Mar 22 03:46 zr3616_3_R1_val_1_val_1_val_1_bismark_bt2_pe._5x.bedgraph\r\n",
      "-rw-r--r--  1 yaamini  staff   321M Mar 22 03:47 zr3616_4_R1_val_1_val_1_val_1_bismark_bt2_pe._5x.bedgraph\r\n",
      "-rw-r--r--  1 yaamini  staff   298M Mar 22 03:47 zr3616_5_R1_val_1_val_1_val_1_bismark_bt2_pe._5x.bedgraph\r\n",
      "-rw-r--r--  1 yaamini  staff   313M Mar 22 03:47 zr3616_6_R1_val_1_val_1_val_1_bismark_bt2_pe._5x.bedgraph\r\n",
      "-rw-r--r--  1 yaamini  staff   304M Mar 22 03:48 zr3616_7_R1_val_1_val_1_val_1_bismark_bt2_pe._5x.bedgraph\r\n",
      "-rw-r--r--  1 yaamini  staff   307M Mar 22 03:48 zr3616_8_R1_val_1_val_1_val_1_bismark_bt2_pe._5x.bedgraph\r\n"
     ]
    }
   ],
   "source": [
    "#Check directory for all files\n",
    "!ls -lh"
   ]
  },
  {
   "cell_type": "code",
   "execution_count": 13,
   "metadata": {
    "collapsed": false
   },
   "outputs": [
    {
     "name": "stdout",
     "output_type": "stream",
     "text": [
      "MD5 (zr3616_1_R1_val_1_val_1_val_1_bismark_bt2_pe._5x.bedgraph) = b86b7514414eaa9cc41f4881970adfab\n",
      "MD5 (zr3616_2_R1_val_1_val_1_val_1_bismark_bt2_pe._5x.bedgraph) = a0510824561539bc16ab6b44b979dcdd\n",
      "MD5 (zr3616_3_R1_val_1_val_1_val_1_bismark_bt2_pe._5x.bedgraph) = bafe45ada4b7e3b899aa8d5b0fad91bf\n",
      "MD5 (zr3616_4_R1_val_1_val_1_val_1_bismark_bt2_pe._5x.bedgraph) = 2f62012037096b13cbd16faed0edc9f0\n",
      "MD5 (zr3616_5_R1_val_1_val_1_val_1_bismark_bt2_pe._5x.bedgraph) = e6fb2faee28b11bd1cf17e25da372db0\n",
      "MD5 (zr3616_6_R1_val_1_val_1_val_1_bismark_bt2_pe._5x.bedgraph) = ec56e0ab4ffe2b851ba4e89de929b748\n",
      "MD5 (zr3616_7_R1_val_1_val_1_val_1_bismark_bt2_pe._5x.bedgraph) = 5125d74b39de4e7d449c9fff3792d257\n",
      "MD5 (zr3616_8_R1_val_1_val_1_val_1_bismark_bt2_pe._5x.bedgraph) = 1ae82042c2fca091b6c98cfea601db6c\n"
     ]
    }
   ],
   "source": [
    "#Obtain md5\n",
    "!md5 *"
   ]
  },
  {
   "cell_type": "markdown",
   "metadata": {},
   "source": [
    "## 2. Concatenate coverage information"
   ]
  },
  {
   "cell_type": "markdown",
   "metadata": {},
   "source": [
    "I will use `unionBedGraphs` to concatenate information for all loci across samples."
   ]
  },
  {
   "cell_type": "code",
   "execution_count": 16,
   "metadata": {
    "collapsed": true
   },
   "outputs": [],
   "source": [
    "bedtoolsDirectory = \"/Users/Shared/bioinformatics/bedtools2/bin/\""
   ]
  },
  {
   "cell_type": "code",
   "execution_count": 17,
   "metadata": {
    "collapsed": false,
    "scrolled": true
   },
   "outputs": [
    {
     "name": "stdout",
     "output_type": "stream",
     "text": [
      "\r\n",
      "Tool:    bedtools unionbedg (aka unionBedGraphs)\r\n",
      "Version: v2.26.0\r\n",
      "Summary: Combines multiple BedGraph files into a single file,\r\n",
      "\t allowing coverage comparisons between them.\r\n",
      "\r\n",
      "Usage:   bedtools unionbedg [OPTIONS] -i FILE1 FILE2 .. FILEn\r\n",
      "\t Assumes that each BedGraph file is sorted by chrom/start \r\n",
      "\t and that the intervals in each are non-overlapping.\r\n",
      "\r\n",
      "Options: \r\n",
      "\t-header\t\tPrint a header line.\r\n",
      "\t\t\t(chrom/start/end + names of each file).\r\n",
      "\r\n",
      "\t-names\t\tA list of names (one/file) to describe each file in -i.\r\n",
      "\t\t\tThese names will be printed in the header line.\r\n",
      "\r\n",
      "\t-g\t\tUse genome file to calculate empty regions.\r\n",
      "\t\t\t- STRING.\r\n",
      "\r\n",
      "\t-empty\t\tReport empty regions (i.e., start/end intervals w/o\r\n",
      "\t\t\tvalues in all files).\r\n",
      "\t\t\t- Requires the '-g FILE' parameter.\r\n",
      "\r\n",
      "\t-filler TEXT\tUse TEXT when representing intervals having no value.\r\n",
      "\t\t\t- Default is '0', but you can use 'N/A' or any text.\r\n",
      "\r\n",
      "\t-examples\tShow detailed usage examples.\r\n",
      "\r\n"
     ]
    }
   ],
   "source": [
    "!{bedtoolsDirectory}unionBedGraphs -h"
   ]
  },
  {
   "cell_type": "markdown",
   "metadata": {},
   "source": [
    "### 2a. Create a union BEDgraph"
   ]
  },
  {
   "cell_type": "code",
   "execution_count": 20,
   "metadata": {
    "collapsed": true
   },
   "outputs": [],
   "source": [
    "%%bash\n",
    "\n",
    "for f in *5x.bedgraph\n",
    "do\n",
    "/Users/Shared/bioinformatics/bedtools2/bin/sortBed \\\n",
    "-i ${f} \\\n",
    "> $(basename ${f%_5x.bedgraph})_5x.sort.bedgraph\n",
    "done"
   ]
  },
  {
   "cell_type": "code",
   "execution_count": 21,
   "metadata": {
    "collapsed": false
   },
   "outputs": [
    {
     "name": "stdout",
     "output_type": "stream",
     "text": [
      "zr3616_1_R1_val_1_val_1_val_1_bismark_bt2_pe._5x.sort.bedgraph\r\n",
      "zr3616_2_R1_val_1_val_1_val_1_bismark_bt2_pe._5x.sort.bedgraph\r\n",
      "zr3616_3_R1_val_1_val_1_val_1_bismark_bt2_pe._5x.sort.bedgraph\r\n",
      "zr3616_4_R1_val_1_val_1_val_1_bismark_bt2_pe._5x.sort.bedgraph\r\n",
      "zr3616_5_R1_val_1_val_1_val_1_bismark_bt2_pe._5x.sort.bedgraph\r\n",
      "zr3616_6_R1_val_1_val_1_val_1_bismark_bt2_pe._5x.sort.bedgraph\r\n",
      "zr3616_7_R1_val_1_val_1_val_1_bismark_bt2_pe._5x.sort.bedgraph\r\n",
      "zr3616_8_R1_val_1_val_1_val_1_bismark_bt2_pe._5x.sort.bedgraph\r\n"
     ]
    }
   ],
   "source": [
    "!ls *sort*"
   ]
  },
  {
   "cell_type": "code",
   "execution_count": 23,
   "metadata": {
    "collapsed": false
   },
   "outputs": [],
   "source": [
    "#Create union BEDgraph from sorted files\n",
    "#Include a header\n",
    "#Use N/A when there is no data for a CpG in a sample\n",
    "#Define sample IDs\n",
    "#Use sorted bedgraphs\n",
    "#Save output\n",
    "!{bedtoolsDirectory}unionBedGraphs \\\n",
    "-header \\\n",
    "-filler N/A \\\n",
    "-names 1 2 3 4 5 6 7 8 \\\n",
    "-i \\\n",
    "*5x.sort.bedgraph \\\n",
    "> zr3616_union_5x.bedgraph"
   ]
  },
  {
   "cell_type": "code",
   "execution_count": 24,
   "metadata": {
    "collapsed": false
   },
   "outputs": [
    {
     "name": "stdout",
     "output_type": "stream",
     "text": [
      "chrom\tstart\tend\t1\t2\t3\t4\t5\t6\t7\t8\n",
      "NC_001276.1\t34\t36\t0.000000\t1.672241\t0.000000\t0.886918\t0.647249\t0.294985\t0.735294\t1.428571\n",
      "NC_001276.1\t123\t125\t0.531915\t0.582751\t0.218579\t0.502513\t0.446927\t0.544070\t0.146951\t0.400534\n",
      "NC_001276.1\t305\t307\t0.313480\t0.303490\t0.344828\t0.418410\t0.480769\t0.869565\t0.195312\t0.000000\n",
      "NC_001276.1\t433\t435\t0.243112\t0.106496\t0.207900\t0.285103\t0.437158\t0.361011\t0.446999\t0.479616\n",
      "NC_001276.1\t457\t459\t0.148368\t0.476644\t0.191022\t0.194426\t0.096993\t0.336134\t0.348028\t0.778643\n",
      "NC_001276.1\t482\t484\t0.409500\t0.418848\t0.110619\t0.292612\t0.425532\t0.486855\t0.197759\t0.633714\n",
      "NC_001276.1\t609\t611\t0.072993\t0.484966\t0.285442\t0.333556\t0.632911\t0.000000\t0.174419\t0.227790\n",
      "NC_001276.1\t781\t783\t0.330852\t0.209644\t0.461361\t0.289226\t0.417101\t0.393314\t0.592885\t0.368098\n",
      "NC_001276.1\t826\t828\t0.435540\t0.226757\t0.241838\t0.231660\t0.228833\t0.623701\t0.373413\t0.392670\n",
      " 11238223 zr3616_union_5x.bedgraph\n"
     ]
    }
   ],
   "source": [
    "#Check output\n",
    "!head zr3616_union_5x.bedgraph\n",
    "!wc -l zr3616_union_5x.bedgraph"
   ]
  },
  {
   "cell_type": "markdown",
   "metadata": {},
   "source": [
    "### 2b. Manipulate with `pandas`"
   ]
  },
  {
   "cell_type": "code",
   "execution_count": 25,
   "metadata": {
    "collapsed": false
   },
   "outputs": [
    {
     "data": {
      "text/html": [
       "<div>\n",
       "<table border=\"1\" class=\"dataframe\">\n",
       "  <thead>\n",
       "    <tr style=\"text-align: right;\">\n",
       "      <th></th>\n",
       "      <th>chrom</th>\n",
       "      <th>start</th>\n",
       "      <th>end</th>\n",
       "      <th>1</th>\n",
       "      <th>2</th>\n",
       "      <th>3</th>\n",
       "      <th>4</th>\n",
       "      <th>5</th>\n",
       "      <th>6</th>\n",
       "      <th>7</th>\n",
       "      <th>8</th>\n",
       "    </tr>\n",
       "  </thead>\n",
       "  <tbody>\n",
       "    <tr>\n",
       "      <th>0</th>\n",
       "      <td>NC_001276.1</td>\n",
       "      <td>34</td>\n",
       "      <td>36</td>\n",
       "      <td>0.000000</td>\n",
       "      <td>1.672241</td>\n",
       "      <td>0.000000</td>\n",
       "      <td>0.886918</td>\n",
       "      <td>0.647249</td>\n",
       "      <td>0.294985</td>\n",
       "      <td>0.735294</td>\n",
       "      <td>1.428571</td>\n",
       "    </tr>\n",
       "    <tr>\n",
       "      <th>1</th>\n",
       "      <td>NC_001276.1</td>\n",
       "      <td>123</td>\n",
       "      <td>125</td>\n",
       "      <td>0.531915</td>\n",
       "      <td>0.582751</td>\n",
       "      <td>0.218579</td>\n",
       "      <td>0.502513</td>\n",
       "      <td>0.446927</td>\n",
       "      <td>0.544070</td>\n",
       "      <td>0.146951</td>\n",
       "      <td>0.400534</td>\n",
       "    </tr>\n",
       "    <tr>\n",
       "      <th>2</th>\n",
       "      <td>NC_001276.1</td>\n",
       "      <td>305</td>\n",
       "      <td>307</td>\n",
       "      <td>0.313480</td>\n",
       "      <td>0.303490</td>\n",
       "      <td>0.344828</td>\n",
       "      <td>0.418410</td>\n",
       "      <td>0.480769</td>\n",
       "      <td>0.869565</td>\n",
       "      <td>0.195312</td>\n",
       "      <td>0.000000</td>\n",
       "    </tr>\n",
       "    <tr>\n",
       "      <th>3</th>\n",
       "      <td>NC_001276.1</td>\n",
       "      <td>433</td>\n",
       "      <td>435</td>\n",
       "      <td>0.243112</td>\n",
       "      <td>0.106496</td>\n",
       "      <td>0.207900</td>\n",
       "      <td>0.285103</td>\n",
       "      <td>0.437158</td>\n",
       "      <td>0.361011</td>\n",
       "      <td>0.446999</td>\n",
       "      <td>0.479616</td>\n",
       "    </tr>\n",
       "    <tr>\n",
       "      <th>4</th>\n",
       "      <td>NC_001276.1</td>\n",
       "      <td>457</td>\n",
       "      <td>459</td>\n",
       "      <td>0.148368</td>\n",
       "      <td>0.476644</td>\n",
       "      <td>0.191022</td>\n",
       "      <td>0.194426</td>\n",
       "      <td>0.096993</td>\n",
       "      <td>0.336134</td>\n",
       "      <td>0.348028</td>\n",
       "      <td>0.778643</td>\n",
       "    </tr>\n",
       "  </tbody>\n",
       "</table>\n",
       "</div>"
      ],
      "text/plain": [
       "         chrom  start  end         1         2         3         4         5  \\\n",
       "0  NC_001276.1     34   36  0.000000  1.672241  0.000000  0.886918  0.647249   \n",
       "1  NC_001276.1    123  125  0.531915  0.582751  0.218579  0.502513  0.446927   \n",
       "2  NC_001276.1    305  307  0.313480  0.303490  0.344828  0.418410  0.480769   \n",
       "3  NC_001276.1    433  435  0.243112  0.106496  0.207900  0.285103  0.437158   \n",
       "4  NC_001276.1    457  459  0.148368  0.476644  0.191022  0.194426  0.096993   \n",
       "\n",
       "          6         7         8  \n",
       "0  0.294985  0.735294  1.428571  \n",
       "1  0.544070  0.146951  0.400534  \n",
       "2  0.869565  0.195312  0.000000  \n",
       "3  0.361011  0.446999  0.479616  \n",
       "4  0.336134  0.348028  0.778643  "
      ]
     },
     "execution_count": 25,
     "metadata": {},
     "output_type": "execute_result"
    }
   ],
   "source": [
    "#Import union data into pandas\n",
    "#Check head\n",
    "df = pd.read_table(\"zr3616_union_5x.bedgraph\")\n",
    "df.head(5)"
   ]
  },
  {
   "cell_type": "code",
   "execution_count": 26,
   "metadata": {
    "collapsed": false
   },
   "outputs": [
    {
     "data": {
      "text/html": [
       "<div>\n",
       "<table border=\"1\" class=\"dataframe\">\n",
       "  <thead>\n",
       "    <tr style=\"text-align: right;\">\n",
       "      <th></th>\n",
       "      <th>chrom</th>\n",
       "      <th>start</th>\n",
       "      <th>end</th>\n",
       "      <th>1</th>\n",
       "      <th>2</th>\n",
       "      <th>3</th>\n",
       "      <th>4</th>\n",
       "      <th>5</th>\n",
       "      <th>6</th>\n",
       "      <th>7</th>\n",
       "      <th>8</th>\n",
       "      <th>total</th>\n",
       "    </tr>\n",
       "  </thead>\n",
       "  <tbody>\n",
       "    <tr>\n",
       "      <th>11238212</th>\n",
       "      <td>NW_022994998.1</td>\n",
       "      <td>54770</td>\n",
       "      <td>54772</td>\n",
       "      <td>3.333333</td>\n",
       "      <td>0.000</td>\n",
       "      <td>0.0</td>\n",
       "      <td>0.000000</td>\n",
       "      <td>0.0</td>\n",
       "      <td>42.857143</td>\n",
       "      <td>0.000000</td>\n",
       "      <td>0.0</td>\n",
       "      <td>5.773810</td>\n",
       "    </tr>\n",
       "    <tr>\n",
       "      <th>11238213</th>\n",
       "      <td>NW_022994998.1</td>\n",
       "      <td>54834</td>\n",
       "      <td>54836</td>\n",
       "      <td>0.000000</td>\n",
       "      <td>3.125</td>\n",
       "      <td>0.0</td>\n",
       "      <td>0.000000</td>\n",
       "      <td>0.0</td>\n",
       "      <td>0.000000</td>\n",
       "      <td>0.000000</td>\n",
       "      <td>0.0</td>\n",
       "      <td>0.390625</td>\n",
       "    </tr>\n",
       "    <tr>\n",
       "      <th>11238214</th>\n",
       "      <td>NW_022994998.1</td>\n",
       "      <td>54843</td>\n",
       "      <td>54845</td>\n",
       "      <td>0.000000</td>\n",
       "      <td>0.000</td>\n",
       "      <td>0.0</td>\n",
       "      <td>0.000000</td>\n",
       "      <td>0.0</td>\n",
       "      <td>0.000000</td>\n",
       "      <td>0.000000</td>\n",
       "      <td>0.0</td>\n",
       "      <td>0.000000</td>\n",
       "    </tr>\n",
       "    <tr>\n",
       "      <th>11238215</th>\n",
       "      <td>NW_022994998.1</td>\n",
       "      <td>54860</td>\n",
       "      <td>54862</td>\n",
       "      <td>0.000000</td>\n",
       "      <td>0.000</td>\n",
       "      <td>0.0</td>\n",
       "      <td>0.000000</td>\n",
       "      <td>0.0</td>\n",
       "      <td>0.000000</td>\n",
       "      <td>8.333333</td>\n",
       "      <td>0.0</td>\n",
       "      <td>1.041667</td>\n",
       "    </tr>\n",
       "    <tr>\n",
       "      <th>11238216</th>\n",
       "      <td>NW_022994998.1</td>\n",
       "      <td>54872</td>\n",
       "      <td>54874</td>\n",
       "      <td>0.000000</td>\n",
       "      <td>0.000</td>\n",
       "      <td>0.0</td>\n",
       "      <td>0.000000</td>\n",
       "      <td>0.0</td>\n",
       "      <td>0.000000</td>\n",
       "      <td>0.000000</td>\n",
       "      <td>0.0</td>\n",
       "      <td>0.000000</td>\n",
       "    </tr>\n",
       "    <tr>\n",
       "      <th>11238217</th>\n",
       "      <td>NW_022994998.1</td>\n",
       "      <td>54934</td>\n",
       "      <td>54936</td>\n",
       "      <td>0.000000</td>\n",
       "      <td>0.000</td>\n",
       "      <td>0.0</td>\n",
       "      <td>0.000000</td>\n",
       "      <td>NaN</td>\n",
       "      <td>0.000000</td>\n",
       "      <td>0.000000</td>\n",
       "      <td>NaN</td>\n",
       "      <td>0.000000</td>\n",
       "    </tr>\n",
       "    <tr>\n",
       "      <th>11238218</th>\n",
       "      <td>NW_022994998.1</td>\n",
       "      <td>54949</td>\n",
       "      <td>54951</td>\n",
       "      <td>0.000000</td>\n",
       "      <td>0.000</td>\n",
       "      <td>0.0</td>\n",
       "      <td>0.000000</td>\n",
       "      <td>NaN</td>\n",
       "      <td>0.000000</td>\n",
       "      <td>0.000000</td>\n",
       "      <td>NaN</td>\n",
       "      <td>0.000000</td>\n",
       "    </tr>\n",
       "    <tr>\n",
       "      <th>11238219</th>\n",
       "      <td>NW_022994998.1</td>\n",
       "      <td>54953</td>\n",
       "      <td>54955</td>\n",
       "      <td>0.000000</td>\n",
       "      <td>0.000</td>\n",
       "      <td>0.0</td>\n",
       "      <td>0.000000</td>\n",
       "      <td>NaN</td>\n",
       "      <td>0.000000</td>\n",
       "      <td>0.000000</td>\n",
       "      <td>NaN</td>\n",
       "      <td>0.000000</td>\n",
       "    </tr>\n",
       "    <tr>\n",
       "      <th>11238220</th>\n",
       "      <td>NW_022994998.1</td>\n",
       "      <td>54958</td>\n",
       "      <td>54960</td>\n",
       "      <td>0.000000</td>\n",
       "      <td>0.000</td>\n",
       "      <td>0.0</td>\n",
       "      <td>28.571429</td>\n",
       "      <td>NaN</td>\n",
       "      <td>0.000000</td>\n",
       "      <td>0.000000</td>\n",
       "      <td>NaN</td>\n",
       "      <td>4.761905</td>\n",
       "    </tr>\n",
       "    <tr>\n",
       "      <th>11238221</th>\n",
       "      <td>NW_022994998.1</td>\n",
       "      <td>55001</td>\n",
       "      <td>55003</td>\n",
       "      <td>NaN</td>\n",
       "      <td>NaN</td>\n",
       "      <td>0.0</td>\n",
       "      <td>NaN</td>\n",
       "      <td>NaN</td>\n",
       "      <td>NaN</td>\n",
       "      <td>NaN</td>\n",
       "      <td>NaN</td>\n",
       "      <td>0.000000</td>\n",
       "    </tr>\n",
       "  </tbody>\n",
       "</table>\n",
       "</div>"
      ],
      "text/plain": [
       "                   chrom  start    end         1      2    3          4    5  \\\n",
       "11238212  NW_022994998.1  54770  54772  3.333333  0.000  0.0   0.000000  0.0   \n",
       "11238213  NW_022994998.1  54834  54836  0.000000  3.125  0.0   0.000000  0.0   \n",
       "11238214  NW_022994998.1  54843  54845  0.000000  0.000  0.0   0.000000  0.0   \n",
       "11238215  NW_022994998.1  54860  54862  0.000000  0.000  0.0   0.000000  0.0   \n",
       "11238216  NW_022994998.1  54872  54874  0.000000  0.000  0.0   0.000000  0.0   \n",
       "11238217  NW_022994998.1  54934  54936  0.000000  0.000  0.0   0.000000  NaN   \n",
       "11238218  NW_022994998.1  54949  54951  0.000000  0.000  0.0   0.000000  NaN   \n",
       "11238219  NW_022994998.1  54953  54955  0.000000  0.000  0.0   0.000000  NaN   \n",
       "11238220  NW_022994998.1  54958  54960  0.000000  0.000  0.0  28.571429  NaN   \n",
       "11238221  NW_022994998.1  55001  55003       NaN    NaN  0.0        NaN  NaN   \n",
       "\n",
       "                  6         7    8     total  \n",
       "11238212  42.857143  0.000000  0.0  5.773810  \n",
       "11238213   0.000000  0.000000  0.0  0.390625  \n",
       "11238214   0.000000  0.000000  0.0  0.000000  \n",
       "11238215   0.000000  8.333333  0.0  1.041667  \n",
       "11238216   0.000000  0.000000  0.0  0.000000  \n",
       "11238217   0.000000  0.000000  NaN  0.000000  \n",
       "11238218   0.000000  0.000000  NaN  0.000000  \n",
       "11238219   0.000000  0.000000  NaN  0.000000  \n",
       "11238220   0.000000  0.000000  NaN  4.761905  \n",
       "11238221        NaN       NaN  NaN  0.000000  "
      ]
     },
     "execution_count": 26,
     "metadata": {},
     "output_type": "execute_result"
    }
   ],
   "source": [
    "#Average all samples for total genome methylation information and save as a new column\n",
    "#NA are not included in averages\n",
    "#Check output\n",
    "df['total'] = df[['1', '2', '3', '4', '5', '6', '7', '8']].mean(axis=1)\n",
    "df.tail(10)"
   ]
  },
  {
   "cell_type": "code",
   "execution_count": 35,
   "metadata": {
    "collapsed": true
   },
   "outputs": [],
   "source": [
    "#Save dataframe in a tabular format and include N/As. Do not include quotes.\n",
    "df.to_csv(\"union-averages.bedgraph\", sep = \"\\t\", na_rep = \"N/A\", quoting = 3)"
   ]
  },
  {
   "cell_type": "code",
   "execution_count": 36,
   "metadata": {
    "collapsed": false
   },
   "outputs": [
    {
     "name": "stdout",
     "output_type": "stream",
     "text": [
      "\tchrom\tstart\tend\t1\t2\t3\t4\t5\t6\t7\t8\ttotal\r\n",
      "0\tNC_001276.1\t34\t36\t0.0\t1.672241\t0.0\t0.886918\t0.647249\t0.294985\t0.735294\t1.4285709999999998\t0.70815725\r\n",
      "1\tNC_001276.1\t123\t125\t0.5319149999999999\t0.582751\t0.218579\t0.502513\t0.446927\t0.5440699999999999\t0.146951\t0.400534\t0.42178\r\n",
      "2\tNC_001276.1\t305\t307\t0.31348000000000004\t0.30349\t0.344828\t0.41841000000000006\t0.48076899999999995\t0.8695649999999999\t0.19531199999999999\t0.0\t0.36573174999999997\r\n",
      "3\tNC_001276.1\t433\t435\t0.243112\t0.10649600000000001\t0.2079\t0.285103\t0.437158\t0.361011\t0.446999\t0.479616\t0.320924375\r\n",
      "4\tNC_001276.1\t457\t459\t0.148368\t0.47664399999999996\t0.191022\t0.194426\t0.096993\t0.336134\t0.348028\t0.778643\t0.32128225\r\n",
      "5\tNC_001276.1\t482\t484\t0.4095\t0.41884799999999994\t0.11061900000000001\t0.292612\t0.42553199999999997\t0.48685500000000004\t0.197759\t0.633714\t0.37192987499999997\r\n",
      "6\tNC_001276.1\t609\t611\t0.07299299999999999\t0.484966\t0.28544200000000003\t0.333556\t0.632911\t0.0\t0.17441900000000002\t0.22779000000000002\t0.27650962500000004\r\n",
      "7\tNC_001276.1\t781\t783\t0.330852\t0.209644\t0.46136099999999997\t0.28922600000000004\t0.417101\t0.393314\t0.592885\t0.368098\t0.38281012499999995\r\n",
      "8\tNC_001276.1\t826\t828\t0.43554\t0.22675700000000001\t0.241838\t0.23165999999999998\t0.22883299999999998\t0.6237010000000001\t0.373413\t0.39266999999999996\t0.3443015\r\n"
     ]
    }
   ],
   "source": [
    "#Check pandas manipulations\n",
    "!head union-averages.bedgraph"
   ]
  },
  {
   "cell_type": "code",
   "execution_count": 37,
   "metadata": {
    "collapsed": false
   },
   "outputs": [],
   "source": [
    "#Remove header\n",
    "#Keep chr, start, end, and the average\n",
    "#Save output\n",
    "! tail -n+2 union-averages.bedgraph \\\n",
    "| awk -F'\\t' -v OFS='\\t' '{print $2, $3, $4, $13}' \\\n",
    "> zr3616_union-averages_5x.bedgraph"
   ]
  },
  {
   "cell_type": "code",
   "execution_count": 38,
   "metadata": {
    "collapsed": false
   },
   "outputs": [
    {
     "name": "stdout",
     "output_type": "stream",
     "text": [
      "NC_001276.1\t34\t36\t0.70815725\r\n",
      "NC_001276.1\t123\t125\t0.42178\r\n",
      "NC_001276.1\t305\t307\t0.36573174999999997\r\n",
      "NC_001276.1\t433\t435\t0.320924375\r\n",
      "NC_001276.1\t457\t459\t0.32128225\r\n",
      "NC_001276.1\t482\t484\t0.37192987499999997\r\n",
      "NC_001276.1\t609\t611\t0.27650962500000004\r\n",
      "NC_001276.1\t781\t783\t0.38281012499999995\r\n",
      "NC_001276.1\t826\t828\t0.3443015\r\n",
      "NC_001276.1\t951\t953\t0.34978312500000003\r\n"
     ]
    }
   ],
   "source": [
    "#Check output: chr, start, end, average %meth\n",
    "!head zr3616_union-averages_5x.bedgraph\n",
    "!wc -l zr3616_union-averages_5x.bedgraph"
   ]
  },
  {
   "cell_type": "markdown",
   "metadata": {},
   "source": [
    "## 3. Characterize methylation for each CpG dinucleotude"
   ]
  },
  {
   "cell_type": "markdown",
   "metadata": {},
   "source": [
    "### 3a. Methylated loci"
   ]
  },
  {
   "cell_type": "markdown",
   "metadata": {},
   "source": [
    "### 3b. Sparsely methylated loci"
   ]
  },
  {
   "cell_type": "markdown",
   "metadata": {},
   "source": [
    "### 3c. Unmethylated loci"
   ]
  },
  {
   "cell_type": "code",
   "execution_count": null,
   "metadata": {
    "collapsed": true
   },
   "outputs": [],
   "source": []
  },
  {
   "cell_type": "code",
   "execution_count": null,
   "metadata": {
    "collapsed": true
   },
   "outputs": [],
   "source": []
  },
  {
   "cell_type": "code",
   "execution_count": null,
   "metadata": {
    "collapsed": true
   },
   "outputs": [],
   "source": []
  },
  {
   "cell_type": "code",
   "execution_count": null,
   "metadata": {
    "collapsed": true
   },
   "outputs": [],
   "source": []
  },
  {
   "cell_type": "markdown",
   "metadata": {},
   "source": [
    "## 4. Characterize genomic location of CpGs"
   ]
  },
  {
   "cell_type": "code",
   "execution_count": null,
   "metadata": {
    "collapsed": true
   },
   "outputs": [],
   "source": []
  }
 ],
 "metadata": {
  "kernelspec": {
   "display_name": "Python [default]",
   "language": "python",
   "name": "python3"
  },
  "language_info": {
   "codemirror_mode": {
    "name": "ipython",
    "version": 3
   },
   "file_extension": ".py",
   "mimetype": "text/x-python",
   "name": "python",
   "nbconvert_exporter": "python",
   "pygments_lexer": "ipython3",
   "version": "3.5.2"
  }
 },
 "nbformat": 4,
 "nbformat_minor": 1
}
