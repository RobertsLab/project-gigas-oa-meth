{
 "cells": [
  {
   "cell_type": "markdown",
   "metadata": {},
   "source": [
    "# Generating Genome Feature Tracks"
   ]
  },
  {
   "cell_type": "markdown",
   "metadata": {},
   "source": [
    "In this notebook, I'll use the [NCBI assembly](https://www.ncbi.nlm.nih.gov/assembly/GCF_902806645.1/) and [NCBI Annotation Release 102](https://www.ncbi.nlm.nih.gov/genome/annotation_euk/Crassostrea_gigas/102/) to genome feature tracks for the Roslin *C. gigas* genome."
   ]
  },
  {
   "cell_type": "markdown",
   "metadata": {},
   "source": [
    "## 0. Set working directory and variables"
   ]
  },
  {
   "cell_type": "code",
   "execution_count": 2,
   "metadata": {
    "collapsed": false
   },
   "outputs": [
    {
     "name": "stdout",
     "output_type": "stream",
     "text": [
      "/Users/yaamini/Documents/project-gigas-oa-meth/code\r\n"
     ]
    }
   ],
   "source": [
    "!pwd"
   ]
  },
  {
   "cell_type": "code",
   "execution_count": null,
   "metadata": {
    "collapsed": true
   },
   "outputs": [],
   "source": [
    "#!mkdir ../genome-feature-files/"
   ]
  },
  {
   "cell_type": "code",
   "execution_count": 3,
   "metadata": {
    "collapsed": false,
    "scrolled": true
   },
   "outputs": [
    {
     "name": "stdout",
     "output_type": "stream",
     "text": [
      "/Users/yaamini/Documents/project-gigas-oa-meth/genome-feature-files\n"
     ]
    }
   ],
   "source": [
    "cd ../genome-feature-files/"
   ]
  },
  {
   "cell_type": "code",
   "execution_count": 163,
   "metadata": {
    "collapsed": true
   },
   "outputs": [],
   "source": [
    "bedtoolsDirectory = \"/Users/Shared/bioinformatics/bedtools2/bin/\""
   ]
  },
  {
   "cell_type": "markdown",
   "metadata": {},
   "source": [
    "## 1. Download NCBI assembly"
   ]
  },
  {
   "cell_type": "markdown",
   "metadata": {},
   "source": [
    "I downloaded the GFF assembly from [this link](https://www.ncbi.nlm.nih.gov/assembly/GCF_902806645.1/)."
   ]
  },
  {
   "cell_type": "code",
   "execution_count": 6,
   "metadata": {
    "collapsed": false
   },
   "outputs": [],
   "source": [
    "#Extract genome assembly information\n",
    "!tar -xf genome_assemblies_genome_gff.tar"
   ]
  },
  {
   "cell_type": "code",
   "execution_count": 9,
   "metadata": {
    "collapsed": false
   },
   "outputs": [],
   "source": [
    "#Unzip file\n",
    "!gunzip -k ncbi-genomes-2021-05-04/GCF_902806645.1_cgigas_uk_roslin_v1_genomic.gff.gz"
   ]
  },
  {
   "cell_type": "code",
   "execution_count": 47,
   "metadata": {
    "collapsed": false,
    "scrolled": true
   },
   "outputs": [
    {
     "name": "stdout",
     "output_type": "stream",
     "text": [
      "NW_022994997.1\tGnomon\texon\t288999\t289119\t.\t+\t.\tID=exon-XM_034462546.1-7;Parent=rna-XM_034462546.1;Dbxref=GeneID:105328612,Genbank:XM_034462546.1;Note=The sequence of the model RefSeq transcript was modified relative to this genomic sequence to represent the inferred CDS: added 2254 bases not found in genome assembly;exception=annotated by transcript or proteomic data;gbkey=mRNA;gene=LOC105328612;inference=similar to RNA sequence (same species):INSD:GGEL01009698.1;partial=true;product=tyrosine-protein phosphatase non-receptor type 4%2C transcript variant X6;transcript_id=XM_034462546.1\r\n",
      "NW_022994997.1\tGnomon\texon\t289419\t289506\t.\t+\t.\tID=exon-XM_034462546.1-8;Parent=rna-XM_034462546.1;Dbxref=GeneID:105328612,Genbank:XM_034462546.1;Note=The sequence of the model RefSeq transcript was modified relative to this genomic sequence to represent the inferred CDS: added 2254 bases not found in genome assembly;exception=annotated by transcript or proteomic data;gbkey=mRNA;gene=LOC105328612;inference=similar to RNA sequence (same species):INSD:GGEL01009698.1;partial=true;product=tyrosine-protein phosphatase non-receptor type 4%2C transcript variant X6;transcript_id=XM_034462546.1\r\n",
      "NW_022994997.1\tGnomon\texon\t289932\t289973\t.\t+\t.\tID=exon-XM_034462546.1-9;Parent=rna-XM_034462546.1;Dbxref=GeneID:105328612,Genbank:XM_034462546.1;Note=The sequence of the model RefSeq transcript was modified relative to this genomic sequence to represent the inferred CDS: added 2254 bases not found in genome assembly;exception=annotated by transcript or proteomic data;gbkey=mRNA;gene=LOC105328612;inference=similar to RNA sequence (same species):INSD:GGEL01009698.1;partial=true;product=tyrosine-protein phosphatase non-receptor type 4%2C transcript variant X6;transcript_id=XM_034462546.1\r\n",
      "NW_022994997.1\tGnomon\texon\t290734\t290778\t.\t+\t.\tID=exon-XM_034462546.1-10;Parent=rna-XM_034462546.1;Dbxref=GeneID:105328612,Genbank:XM_034462546.1;Note=The sequence of the model RefSeq transcript was modified relative to this genomic sequence to represent the inferred CDS: added 2254 bases not found in genome assembly;exception=annotated by transcript or proteomic data;gbkey=mRNA;gene=LOC105328612;inference=similar to RNA sequence (same species):INSD:GGEL01009698.1;partial=true;product=tyrosine-protein phosphatase non-receptor type 4%2C transcript variant X6;transcript_id=XM_034462546.1\r\n",
      "NW_022994997.1\tGnomon\texon\t292436\t292524\t.\t+\t.\tID=exon-XM_034462546.1-11;Parent=rna-XM_034462546.1;Dbxref=GeneID:105328612,Genbank:XM_034462546.1;Note=The sequence of the model RefSeq transcript was modified relative to this genomic sequence to represent the inferred CDS: added 2254 bases not found in genome assembly;exception=annotated by transcript or proteomic data;gbkey=mRNA;gene=LOC105328612;inference=similar to RNA sequence (same species):INSD:GGEL01009698.1;partial=true;product=tyrosine-protein phosphatase non-receptor type 4%2C transcript variant X6;transcript_id=XM_034462546.1\r\n",
      "NW_022994997.1\tGnomon\texon\t292752\t292815\t.\t+\t.\tID=exon-XM_034462546.1-12;Parent=rna-XM_034462546.1;Dbxref=GeneID:105328612,Genbank:XM_034462546.1;Note=The sequence of the model RefSeq transcript was modified relative to this genomic sequence to represent the inferred CDS: added 2254 bases not found in genome assembly;exception=annotated by transcript or proteomic data;gbkey=mRNA;gene=LOC105328612;inference=similar to RNA sequence (same species):INSD:GGEL01009698.1;partial=true;product=tyrosine-protein phosphatase non-receptor type 4%2C transcript variant X6;transcript_id=XM_034462546.1\r\n",
      "NW_022994997.1\tGnomon\texon\t293079\t293239\t.\t+\t.\tID=exon-XM_034462546.1-13;Parent=rna-XM_034462546.1;Dbxref=GeneID:105328612,Genbank:XM_034462546.1;Note=The sequence of the model RefSeq transcript was modified relative to this genomic sequence to represent the inferred CDS: added 2254 bases not found in genome assembly;exception=annotated by transcript or proteomic data;gbkey=mRNA;gene=LOC105328612;inference=similar to RNA sequence (same species):INSD:GGEL01009698.1;partial=true;product=tyrosine-protein phosphatase non-receptor type 4%2C transcript variant X6;transcript_id=XM_034462546.1\r\n",
      "NW_022994997.1\tGnomon\texon\t295287\t295355\t.\t+\t.\tID=exon-XM_034462546.1-14;Parent=rna-XM_034462546.1;Dbxref=GeneID:105328612,Genbank:XM_034462546.1;Note=The sequence of the model RefSeq transcript was modified relative to this genomic sequence to represent the inferred CDS: added 2254 bases not found in genome assembly;exception=annotated by transcript or proteomic data;gbkey=mRNA;gene=LOC105328612;inference=similar to RNA sequence (same species):INSD:GGEL01009698.1;partial=true;product=tyrosine-protein phosphatase non-receptor type 4%2C transcript variant X6;transcript_id=XM_034462546.1\r\n",
      "NW_022994997.1\tGnomon\texon\t296573\t296848\t.\t+\t.\tID=exon-XM_034462546.1-15;Parent=rna-XM_034462546.1;Dbxref=GeneID:105328612,Genbank:XM_034462546.1;Note=The sequence of the model RefSeq transcript was modified relative to this genomic sequence to represent the inferred CDS: added 2254 bases not found in genome assembly;end_range=296848,.;exception=annotated by transcript or proteomic data;gbkey=mRNA;gene=LOC105328612;inference=similar to RNA sequence (same species):INSD:GGEL01009698.1;partial=true;product=tyrosine-protein phosphatase non-receptor type 4%2C transcript variant X6;transcript_id=XM_034462546.1\r\n",
      "NW_022994997.1\tGnomon\tCDS\t282824\t282869\t.\t+\t0\tID=cds-XP_034318437.1;Parent=rna-XM_034462546.1;Dbxref=GeneID:105328612,Genbank:XP_034318437.1;Name=XP_034318437.1;Note=The sequence of the model RefSeq protein was modified relative to this genomic sequence to represent the inferred CDS: added 1417 bases not found in genome assembly;exception=annotated by transcript or proteomic data;gbkey=CDS;gene=LOC105328612;inference=similar to RNA sequence (same species):INSD:GGEL01009698.1;partial=true;product=tyrosine-protein phosphatase non-receptor type 4 isoform X6;protein_id=XP_034318437.1\r\n",
      "NW_022994997.1\tGnomon\tCDS\t286258\t286412\t.\t+\t2\tID=cds-XP_034318437.1;Parent=rna-XM_034462546.1;Dbxref=GeneID:105328612,Genbank:XP_034318437.1;Name=XP_034318437.1;Note=The sequence of the model RefSeq protein was modified relative to this genomic sequence to represent the inferred CDS: added 1417 bases not found in genome assembly;exception=annotated by transcript or proteomic data;gbkey=CDS;gene=LOC105328612;inference=similar to RNA sequence (same species):INSD:GGEL01009698.1;partial=true;product=tyrosine-protein phosphatase non-receptor type 4 isoform X6;protein_id=XP_034318437.1\r\n",
      "NW_022994997.1\tGnomon\tCDS\t286797\t286949\t.\t+\t0\tID=cds-XP_034318437.1;Parent=rna-XM_034462546.1;Dbxref=GeneID:105328612,Genbank:XP_034318437.1;Name=XP_034318437.1;Note=The sequence of the model RefSeq protein was modified relative to this genomic sequence to represent the inferred CDS: added 1417 bases not found in genome assembly;exception=annotated by transcript or proteomic data;gbkey=CDS;gene=LOC105328612;inference=similar to RNA sequence (same species):INSD:GGEL01009698.1;partial=true;product=tyrosine-protein phosphatase non-receptor type 4 isoform X6;protein_id=XP_034318437.1\r\n",
      "NW_022994997.1\tGnomon\tCDS\t287440\t287482\t.\t+\t0\tID=cds-XP_034318437.1;Parent=rna-XM_034462546.1;Dbxref=GeneID:105328612,Genbank:XP_034318437.1;Name=XP_034318437.1;Note=The sequence of the model RefSeq protein was modified relative to this genomic sequence to represent the inferred CDS: added 1417 bases not found in genome assembly;exception=annotated by transcript or proteomic data;gbkey=CDS;gene=LOC105328612;inference=similar to RNA sequence (same species):INSD:GGEL01009698.1;partial=true;product=tyrosine-protein phosphatase non-receptor type 4 isoform X6;protein_id=XP_034318437.1\r\n",
      "NW_022994997.1\tGnomon\tCDS\t287799\t287874\t.\t+\t2\tID=cds-XP_034318437.1;Parent=rna-XM_034462546.1;Dbxref=GeneID:105328612,Genbank:XP_034318437.1;Name=XP_034318437.1;Note=The sequence of the model RefSeq protein was modified relative to this genomic sequence to represent the inferred CDS: added 1417 bases not found in genome assembly;exception=annotated by transcript or proteomic data;gbkey=CDS;gene=LOC105328612;inference=similar to RNA sequence (same species):INSD:GGEL01009698.1;partial=true;product=tyrosine-protein phosphatase non-receptor type 4 isoform X6;protein_id=XP_034318437.1\r\n",
      "NW_022994997.1\tGnomon\tCDS\t288568\t288668\t.\t+\t1\tID=cds-XP_034318437.1;Parent=rna-XM_034462546.1;Dbxref=GeneID:105328612,Genbank:XP_034318437.1;Name=XP_034318437.1;Note=The sequence of the model RefSeq protein was modified relative to this genomic sequence to represent the inferred CDS: added 1417 bases not found in genome assembly;exception=annotated by transcript or proteomic data;gbkey=CDS;gene=LOC105328612;inference=similar to RNA sequence (same species):INSD:GGEL01009698.1;partial=true;product=tyrosine-protein phosphatase non-receptor type 4 isoform X6;protein_id=XP_034318437.1\r\n",
      "NW_022994997.1\tGnomon\tCDS\t288999\t289119\t.\t+\t2\tID=cds-XP_034318437.1;Parent=rna-XM_034462546.1;Dbxref=GeneID:105328612,Genbank:XP_034318437.1;Name=XP_034318437.1;Note=The sequence of the model RefSeq protein was modified relative to this genomic sequence to represent the inferred CDS: added 1417 bases not found in genome assembly;exception=annotated by transcript or proteomic data;gbkey=CDS;gene=LOC105328612;inference=similar to RNA sequence (same species):INSD:GGEL01009698.1;partial=true;product=tyrosine-protein phosphatase non-receptor type 4 isoform X6;protein_id=XP_034318437.1\r\n",
      "NW_022994997.1\tGnomon\tCDS\t289419\t289506\t.\t+\t1\tID=cds-XP_034318437.1;Parent=rna-XM_034462546.1;Dbxref=GeneID:105328612,Genbank:XP_034318437.1;Name=XP_034318437.1;Note=The sequence of the model RefSeq protein was modified relative to this genomic sequence to represent the inferred CDS: added 1417 bases not found in genome assembly;exception=annotated by transcript or proteomic data;gbkey=CDS;gene=LOC105328612;inference=similar to RNA sequence (same species):INSD:GGEL01009698.1;partial=true;product=tyrosine-protein phosphatase non-receptor type 4 isoform X6;protein_id=XP_034318437.1\r\n",
      "NW_022994997.1\tGnomon\tCDS\t289932\t289973\t.\t+\t0\tID=cds-XP_034318437.1;Parent=rna-XM_034462546.1;Dbxref=GeneID:105328612,Genbank:XP_034318437.1;Name=XP_034318437.1;Note=The sequence of the model RefSeq protein was modified relative to this genomic sequence to represent the inferred CDS: added 1417 bases not found in genome assembly;exception=annotated by transcript or proteomic data;gbkey=CDS;gene=LOC105328612;inference=similar to RNA sequence (same species):INSD:GGEL01009698.1;partial=true;product=tyrosine-protein phosphatase non-receptor type 4 isoform X6;protein_id=XP_034318437.1\r\n",
      "NW_022994997.1\tGnomon\tCDS\t290734\t290778\t.\t+\t0\tID=cds-XP_034318437.1;Parent=rna-XM_034462546.1;Dbxref=GeneID:105328612,Genbank:XP_034318437.1;Name=XP_034318437.1;Note=The sequence of the model RefSeq protein was modified relative to this genomic sequence to represent the inferred CDS: added 1417 bases not found in genome assembly;exception=annotated by transcript or proteomic data;gbkey=CDS;gene=LOC105328612;inference=similar to RNA sequence (same species):INSD:GGEL01009698.1;partial=true;product=tyrosine-protein phosphatase non-receptor type 4 isoform X6;protein_id=XP_034318437.1\r\n",
      "NW_022994997.1\tGnomon\tCDS\t292436\t292524\t.\t+\t0\tID=cds-XP_034318437.1;Parent=rna-XM_034462546.1;Dbxref=GeneID:105328612,Genbank:XP_034318437.1;Name=XP_034318437.1;Note=The sequence of the model RefSeq protein was modified relative to this genomic sequence to represent the inferred CDS: added 1417 bases not found in genome assembly;exception=annotated by transcript or proteomic data;gbkey=CDS;gene=LOC105328612;inference=similar to RNA sequence (same species):INSD:GGEL01009698.1;partial=true;product=tyrosine-protein phosphatase non-receptor type 4 isoform X6;protein_id=XP_034318437.1\r\n",
      "NW_022994997.1\tGnomon\tCDS\t292752\t292815\t.\t+\t1\tID=cds-XP_034318437.1;Parent=rna-XM_034462546.1;Dbxref=GeneID:105328612,Genbank:XP_034318437.1;Name=XP_034318437.1;Note=The sequence of the model RefSeq protein was modified relative to this genomic sequence to represent the inferred CDS: added 1417 bases not found in genome assembly;exception=annotated by transcript or proteomic data;gbkey=CDS;gene=LOC105328612;inference=similar to RNA sequence (same species):INSD:GGEL01009698.1;partial=true;product=tyrosine-protein phosphatase non-receptor type 4 isoform X6;protein_id=XP_034318437.1\r\n",
      "NW_022994997.1\tGnomon\tCDS\t293079\t293239\t.\t+\t0\tID=cds-XP_034318437.1;Parent=rna-XM_034462546.1;Dbxref=GeneID:105328612,Genbank:XP_034318437.1;Name=XP_034318437.1;Note=The sequence of the model RefSeq protein was modified relative to this genomic sequence to represent the inferred CDS: added 1417 bases not found in genome assembly;exception=annotated by transcript or proteomic data;gbkey=CDS;gene=LOC105328612;inference=similar to RNA sequence (same species):INSD:GGEL01009698.1;partial=true;product=tyrosine-protein phosphatase non-receptor type 4 isoform X6;protein_id=XP_034318437.1\r\n",
      "NW_022994997.1\tGnomon\tCDS\t295287\t295355\t.\t+\t1\tID=cds-XP_034318437.1;Parent=rna-XM_034462546.1;Dbxref=GeneID:105328612,Genbank:XP_034318437.1;Name=XP_034318437.1;Note=The sequence of the model RefSeq protein was modified relative to this genomic sequence to represent the inferred CDS: added 1417 bases not found in genome assembly;exception=annotated by transcript or proteomic data;gbkey=CDS;gene=LOC105328612;inference=similar to RNA sequence (same species):INSD:GGEL01009698.1;partial=true;product=tyrosine-protein phosphatase non-receptor type 4 isoform X6;protein_id=XP_034318437.1\r\n",
      "NW_022994997.1\tGnomon\tCDS\t296573\t296848\t.\t+\t1\tID=cds-XP_034318437.1;Parent=rna-XM_034462546.1;Dbxref=GeneID:105328612,Genbank:XP_034318437.1;Name=XP_034318437.1;Note=The sequence of the model RefSeq protein was modified relative to this genomic sequence to represent the inferred CDS: added 1417 bases not found in genome assembly;end_range=296848,.;exception=annotated by transcript or proteomic data;gbkey=CDS;gene=LOC105328612;inference=similar to RNA sequence (same species):INSD:GGEL01009698.1;partial=true;product=tyrosine-protein phosphatase non-receptor type 4 isoform X6;protein_id=XP_034318437.1\r\n",
      "##sequence-region NW_022994998.1 1 55042\r\n",
      "##species https://www.ncbi.nlm.nih.gov/Taxonomy/Browser/wwwtax.cgi?id=29159\r\n",
      "NW_022994998.1\tRefSeq\tregion\t1\t55042\t.\t+\t.\tID=NW_022994998.1:1..55042;Dbxref=taxon:29159;Name=Unknown;chromosome=Unknown;gbkey=Src;genome=genomic;mol_type=genomic DNA\r\n",
      "NW_022994998.1\tGnomon\tgene\t1077\t17682\t.\t+\t.\tID=gene-LOC105321748;Dbxref=GeneID:105321748;Name=LOC105321748;gbkey=Gene;gene=LOC105321748;gene_biotype=protein_coding;partial=true;start_range=.,1077\r\n",
      "NW_022994998.1\tGnomon\tmRNA\t1077\t17682\t.\t+\t.\tID=rna-XM_034462556.1;Parent=gene-LOC105321748;Dbxref=GeneID:105321748,Genbank:XM_034462556.1;Name=XM_034462556.1;Note=The sequence of the model RefSeq transcript was modified relative to this genomic sequence to represent the inferred CDS: added 884 bases not found in genome assembly;exception=annotated by transcript or proteomic data;gbkey=mRNA;gene=LOC105321748;inference=similar to RNA sequence (same species):INSD:GGEL01080984.1;model_evidence=Supporting evidence includes similarity to: 1 EST%2C and 100%25 coverage of the annotated genomic feature by RNAseq alignments%2C including 215 samples with support for all annotated introns;partial=true;product=MORC family CW-type zinc finger protein 3;start_range=.,1077;transcript_id=XM_034462556.1\r\n",
      "NW_022994998.1\tGnomon\texon\t1077\t1198\t.\t+\t.\tID=exon-XM_034462556.1-1;Parent=rna-XM_034462556.1;Dbxref=GeneID:105321748,Genbank:XM_034462556.1;Note=The sequence of the model RefSeq transcript was modified relative to this genomic sequence to represent the inferred CDS: added 884 bases not found in genome assembly;exception=annotated by transcript or proteomic data;gbkey=mRNA;gene=LOC105321748;inference=similar to RNA sequence (same species):INSD:GGEL01080984.1;partial=true;product=MORC family CW-type zinc finger protein 3;start_range=.,1077;transcript_id=XM_034462556.1\r\n",
      "NW_022994998.1\tGnomon\texon\t2153\t2250\t.\t+\t.\tID=exon-XM_034462556.1-2;Parent=rna-XM_034462556.1;Dbxref=GeneID:105321748,Genbank:XM_034462556.1;Note=The sequence of the model RefSeq transcript was modified relative to this genomic sequence to represent the inferred CDS: added 884 bases not found in genome assembly;exception=annotated by transcript or proteomic data;gbkey=mRNA;gene=LOC105321748;inference=similar to RNA sequence (same species):INSD:GGEL01080984.1;partial=true;product=MORC family CW-type zinc finger protein 3;transcript_id=XM_034462556.1\r\n",
      "NW_022994998.1\tGnomon\texon\t3418\t3513\t.\t+\t.\tID=exon-XM_034462556.1-3;Parent=rna-XM_034462556.1;Dbxref=GeneID:105321748,Genbank:XM_034462556.1;Note=The sequence of the model RefSeq transcript was modified relative to this genomic sequence to represent the inferred CDS: added 884 bases not found in genome assembly;exception=annotated by transcript or proteomic data;gbkey=mRNA;gene=LOC105321748;inference=similar to RNA sequence (same species):INSD:GGEL01080984.1;partial=true;product=MORC family CW-type zinc finger protein 3;transcript_id=XM_034462556.1\r\n",
      "NW_022994998.1\tGnomon\texon\t4668\t4799\t.\t+\t.\tID=exon-XM_034462556.1-4;Parent=rna-XM_034462556.1;Dbxref=GeneID:105321748,Genbank:XM_034462556.1;Note=The sequence of the model RefSeq transcript was modified relative to this genomic sequence to represent the inferred CDS: added 884 bases not found in genome assembly;exception=annotated by transcript or proteomic data;gbkey=mRNA;gene=LOC105321748;inference=similar to RNA sequence (same species):INSD:GGEL01080984.1;partial=true;product=MORC family CW-type zinc finger protein 3;transcript_id=XM_034462556.1\r\n",
      "NW_022994998.1\tGnomon\texon\t5607\t5690\t.\t+\t.\tID=exon-XM_034462556.1-5;Parent=rna-XM_034462556.1;Dbxref=GeneID:105321748,Genbank:XM_034462556.1;Note=The sequence of the model RefSeq transcript was modified relative to this genomic sequence to represent the inferred CDS: added 884 bases not found in genome assembly;exception=annotated by transcript or proteomic data;gbkey=mRNA;gene=LOC105321748;inference=similar to RNA sequence (same species):INSD:GGEL01080984.1;partial=true;product=MORC family CW-type zinc finger protein 3;transcript_id=XM_034462556.1\r\n",
      "NW_022994998.1\tGnomon\texon\t8405\t8438\t.\t+\t.\tID=exon-XM_034462556.1-6;Parent=rna-XM_034462556.1;Dbxref=GeneID:105321748,Genbank:XM_034462556.1;Note=The sequence of the model RefSeq transcript was modified relative to this genomic sequence to represent the inferred CDS: added 884 bases not found in genome assembly;exception=annotated by transcript or proteomic data;gbkey=mRNA;gene=LOC105321748;inference=similar to RNA sequence (same species):INSD:GGEL01080984.1;partial=true;product=MORC family CW-type zinc finger protein 3;transcript_id=XM_034462556.1\r\n",
      "NW_022994998.1\tGnomon\texon\t9053\t9148\t.\t+\t.\tID=exon-XM_034462556.1-7;Parent=rna-XM_034462556.1;Dbxref=GeneID:105321748,Genbank:XM_034462556.1;Note=The sequence of the model RefSeq transcript was modified relative to this genomic sequence to represent the inferred CDS: added 884 bases not found in genome assembly;exception=annotated by transcript or proteomic data;gbkey=mRNA;gene=LOC105321748;inference=similar to RNA sequence (same species):INSD:GGEL01080984.1;partial=true;product=MORC family CW-type zinc finger protein 3;transcript_id=XM_034462556.1\r\n",
      "NW_022994998.1\tGnomon\texon\t10833\t10997\t.\t+\t.\tID=exon-XM_034462556.1-8;Parent=rna-XM_034462556.1;Dbxref=GeneID:105321748,Genbank:XM_034462556.1;Note=The sequence of the model RefSeq transcript was modified relative to this genomic sequence to represent the inferred CDS: added 884 bases not found in genome assembly;exception=annotated by transcript or proteomic data;gbkey=mRNA;gene=LOC105321748;inference=similar to RNA sequence (same species):INSD:GGEL01080984.1;partial=true;product=MORC family CW-type zinc finger protein 3;transcript_id=XM_034462556.1\r\n",
      "NW_022994998.1\tGnomon\texon\t11544\t11593\t.\t+\t.\tID=exon-XM_034462556.1-9;Parent=rna-XM_034462556.1;Dbxref=GeneID:105321748,Genbank:XM_034462556.1;Note=The sequence of the model RefSeq transcript was modified relative to this genomic sequence to represent the inferred CDS: added 884 bases not found in genome assembly;exception=annotated by transcript or proteomic data;gbkey=mRNA;gene=LOC105321748;inference=similar to RNA sequence (same species):INSD:GGEL01080984.1;partial=true;product=MORC family CW-type zinc finger protein 3;transcript_id=XM_034462556.1\r\n",
      "NW_022994998.1\tGnomon\texon\t12827\t17682\t.\t+\t.\tID=exon-XM_034462556.1-10;Parent=rna-XM_034462556.1;Dbxref=GeneID:105321748,Genbank:XM_034462556.1;Note=The sequence of the model RefSeq transcript was modified relative to this genomic sequence to represent the inferred CDS: added 884 bases not found in genome assembly;exception=annotated by transcript or proteomic data;gbkey=mRNA;gene=LOC105321748;inference=similar to RNA sequence (same species):INSD:GGEL01080984.1;partial=true;product=MORC family CW-type zinc finger protein 3;transcript_id=XM_034462556.1\r\n",
      "NW_022994998.1\tGnomon\tCDS\t1077\t1198\t.\t+\t2\tID=cds-XP_034318447.1;Parent=rna-XM_034462556.1;Dbxref=GeneID:105321748,Genbank:XP_034318447.1;Name=XP_034318447.1;Note=The sequence of the model RefSeq protein was modified relative to this genomic sequence to represent the inferred CDS: added 877 bases not found in genome assembly;exception=annotated by transcript or proteomic data;gbkey=CDS;gene=LOC105321748;inference=similar to RNA sequence (same species):INSD:GGEL01080984.1;partial=true;product=MORC family CW-type zinc finger protein 3;protein_id=XP_034318447.1;start_range=.,1077\r\n",
      "NW_022994998.1\tGnomon\tCDS\t2153\t2250\t.\t+\t0\tID=cds-XP_034318447.1;Parent=rna-XM_034462556.1;Dbxref=GeneID:105321748,Genbank:XP_034318447.1;Name=XP_034318447.1;Note=The sequence of the model RefSeq protein was modified relative to this genomic sequence to represent the inferred CDS: added 877 bases not found in genome assembly;exception=annotated by transcript or proteomic data;gbkey=CDS;gene=LOC105321748;inference=similar to RNA sequence (same species):INSD:GGEL01080984.1;partial=true;product=MORC family CW-type zinc finger protein 3;protein_id=XP_034318447.1\r\n",
      "NW_022994998.1\tGnomon\tCDS\t3418\t3513\t.\t+\t1\tID=cds-XP_034318447.1;Parent=rna-XM_034462556.1;Dbxref=GeneID:105321748,Genbank:XP_034318447.1;Name=XP_034318447.1;Note=The sequence of the model RefSeq protein was modified relative to this genomic sequence to represent the inferred CDS: added 877 bases not found in genome assembly;exception=annotated by transcript or proteomic data;gbkey=CDS;gene=LOC105321748;inference=similar to RNA sequence (same species):INSD:GGEL01080984.1;partial=true;product=MORC family CW-type zinc finger protein 3;protein_id=XP_034318447.1\r\n",
      "NW_022994998.1\tGnomon\tCDS\t4668\t4799\t.\t+\t1\tID=cds-XP_034318447.1;Parent=rna-XM_034462556.1;Dbxref=GeneID:105321748,Genbank:XP_034318447.1;Name=XP_034318447.1;Note=The sequence of the model RefSeq protein was modified relative to this genomic sequence to represent the inferred CDS: added 877 bases not found in genome assembly;exception=annotated by transcript or proteomic data;gbkey=CDS;gene=LOC105321748;inference=similar to RNA sequence (same species):INSD:GGEL01080984.1;partial=true;product=MORC family CW-type zinc finger protein 3;protein_id=XP_034318447.1\r\n",
      "NW_022994998.1\tGnomon\tCDS\t5607\t5690\t.\t+\t1\tID=cds-XP_034318447.1;Parent=rna-XM_034462556.1;Dbxref=GeneID:105321748,Genbank:XP_034318447.1;Name=XP_034318447.1;Note=The sequence of the model RefSeq protein was modified relative to this genomic sequence to represent the inferred CDS: added 877 bases not found in genome assembly;exception=annotated by transcript or proteomic data;gbkey=CDS;gene=LOC105321748;inference=similar to RNA sequence (same species):INSD:GGEL01080984.1;partial=true;product=MORC family CW-type zinc finger protein 3;protein_id=XP_034318447.1\r\n",
      "NW_022994998.1\tGnomon\tCDS\t8405\t8438\t.\t+\t1\tID=cds-XP_034318447.1;Parent=rna-XM_034462556.1;Dbxref=GeneID:105321748,Genbank:XP_034318447.1;Name=XP_034318447.1;Note=The sequence of the model RefSeq protein was modified relative to this genomic sequence to represent the inferred CDS: added 877 bases not found in genome assembly;exception=annotated by transcript or proteomic data;gbkey=CDS;gene=LOC105321748;inference=similar to RNA sequence (same species):INSD:GGEL01080984.1;partial=true;product=MORC family CW-type zinc finger protein 3;protein_id=XP_034318447.1\r\n",
      "NW_022994998.1\tGnomon\tCDS\t9053\t9148\t.\t+\t0\tID=cds-XP_034318447.1;Parent=rna-XM_034462556.1;Dbxref=GeneID:105321748,Genbank:XP_034318447.1;Name=XP_034318447.1;Note=The sequence of the model RefSeq protein was modified relative to this genomic sequence to represent the inferred CDS: added 877 bases not found in genome assembly;exception=annotated by transcript or proteomic data;gbkey=CDS;gene=LOC105321748;inference=similar to RNA sequence (same species):INSD:GGEL01080984.1;partial=true;product=MORC family CW-type zinc finger protein 3;protein_id=XP_034318447.1\r\n",
      "NW_022994998.1\tGnomon\tCDS\t10833\t10997\t.\t+\t0\tID=cds-XP_034318447.1;Parent=rna-XM_034462556.1;Dbxref=GeneID:105321748,Genbank:XP_034318447.1;Name=XP_034318447.1;Note=The sequence of the model RefSeq protein was modified relative to this genomic sequence to represent the inferred CDS: added 877 bases not found in genome assembly;exception=annotated by transcript or proteomic data;gbkey=CDS;gene=LOC105321748;inference=similar to RNA sequence (same species):INSD:GGEL01080984.1;partial=true;product=MORC family CW-type zinc finger protein 3;protein_id=XP_034318447.1\r\n",
      "NW_022994998.1\tGnomon\tCDS\t11544\t11593\t.\t+\t0\tID=cds-XP_034318447.1;Parent=rna-XM_034462556.1;Dbxref=GeneID:105321748,Genbank:XP_034318447.1;Name=XP_034318447.1;Note=The sequence of the model RefSeq protein was modified relative to this genomic sequence to represent the inferred CDS: added 877 bases not found in genome assembly;exception=annotated by transcript or proteomic data;gbkey=CDS;gene=LOC105321748;inference=similar to RNA sequence (same species):INSD:GGEL01080984.1;partial=true;product=MORC family CW-type zinc finger protein 3;protein_id=XP_034318447.1\r\n",
      "NW_022994998.1\tGnomon\tCDS\t12827\t13451\t.\t+\t1\tID=cds-XP_034318447.1;Parent=rna-XM_034462556.1;Dbxref=GeneID:105321748,Genbank:XP_034318447.1;Name=XP_034318447.1;Note=The sequence of the model RefSeq protein was modified relative to this genomic sequence to represent the inferred CDS: added 877 bases not found in genome assembly;exception=annotated by transcript or proteomic data;gbkey=CDS;gene=LOC105321748;inference=similar to RNA sequence (same species):INSD:GGEL01080984.1;partial=true;product=MORC family CW-type zinc finger protein 3;protein_id=XP_034318447.1\r\n",
      "NW_022994998.1\tGnomon\tgene\t19242\t29142\t.\t-\t.\tID=gene-LOC105320404;Dbxref=GeneID:105320404;Name=LOC105320404;gbkey=Gene;gene=LOC105320404;gene_biotype=protein_coding\r\n",
      "NW_022994998.1\tGnomon\tmRNA\t19242\t29142\t.\t-\t.\tID=rna-XM_034462557.1;Parent=gene-LOC105320404;Dbxref=GeneID:105320404,Genbank:XM_034462557.1;Name=XM_034462557.1;gbkey=mRNA;gene=LOC105320404;model_evidence=Supporting evidence includes similarity to: 1 EST%2C 4 Proteins%2C 889 long SRA reads%2C and 100%25 coverage of the annotated genomic feature by RNAseq alignments%2C including 224 samples with support for all annotated introns;product=39S ribosomal protein L19%2C mitochondrial;transcript_id=XM_034462557.1\r\n",
      "NW_022994998.1\tGnomon\texon\t29011\t29142\t.\t-\t.\tID=exon-XM_034462557.1-1;Parent=rna-XM_034462557.1;Dbxref=GeneID:105320404,Genbank:XM_034462557.1;gbkey=mRNA;gene=LOC105320404;product=39S ribosomal protein L19%2C mitochondrial;transcript_id=XM_034462557.1\r\n",
      "NW_022994998.1\tGnomon\texon\t26643\t26853\t.\t-\t.\tID=exon-XM_034462557.1-2;Parent=rna-XM_034462557.1;Dbxref=GeneID:105320404,Genbank:XM_034462557.1;gbkey=mRNA;gene=LOC105320404;product=39S ribosomal protein L19%2C mitochondrial;transcript_id=XM_034462557.1\r\n",
      "NW_022994998.1\tGnomon\texon\t23194\t23321\t.\t-\t.\tID=exon-XM_034462557.1-3;Parent=rna-XM_034462557.1;Dbxref=GeneID:105320404,Genbank:XM_034462557.1;gbkey=mRNA;gene=LOC105320404;product=39S ribosomal protein L19%2C mitochondrial;transcript_id=XM_034462557.1\r\n",
      "NW_022994998.1\tGnomon\texon\t22186\t22320\t.\t-\t.\tID=exon-XM_034462557.1-4;Parent=rna-XM_034462557.1;Dbxref=GeneID:105320404,Genbank:XM_034462557.1;gbkey=mRNA;gene=LOC105320404;product=39S ribosomal protein L19%2C mitochondrial;transcript_id=XM_034462557.1\r\n",
      "NW_022994998.1\tGnomon\texon\t21440\t21627\t.\t-\t.\tID=exon-XM_034462557.1-5;Parent=rna-XM_034462557.1;Dbxref=GeneID:105320404,Genbank:XM_034462557.1;gbkey=mRNA;gene=LOC105320404;product=39S ribosomal protein L19%2C mitochondrial;transcript_id=XM_034462557.1\r\n",
      "NW_022994998.1\tGnomon\texon\t19242\t19586\t.\t-\t.\tID=exon-XM_034462557.1-6;Parent=rna-XM_034462557.1;Dbxref=GeneID:105320404,Genbank:XM_034462557.1;gbkey=mRNA;gene=LOC105320404;product=39S ribosomal protein L19%2C mitochondrial;transcript_id=XM_034462557.1\r\n",
      "NW_022994998.1\tGnomon\tCDS\t29011\t29059\t.\t-\t0\tID=cds-XP_034318448.1;Parent=rna-XM_034462557.1;Dbxref=GeneID:105320404,Genbank:XP_034318448.1;Name=XP_034318448.1;gbkey=CDS;gene=LOC105320404;product=39S ribosomal protein L19%2C mitochondrial;protein_id=XP_034318448.1\r\n",
      "NW_022994998.1\tGnomon\tCDS\t26643\t26853\t.\t-\t2\tID=cds-XP_034318448.1;Parent=rna-XM_034462557.1;Dbxref=GeneID:105320404,Genbank:XP_034318448.1;Name=XP_034318448.1;gbkey=CDS;gene=LOC105320404;product=39S ribosomal protein L19%2C mitochondrial;protein_id=XP_034318448.1\r\n",
      "NW_022994998.1\tGnomon\tCDS\t23194\t23321\t.\t-\t1\tID=cds-XP_034318448.1;Parent=rna-XM_034462557.1;Dbxref=GeneID:105320404,Genbank:XP_034318448.1;Name=XP_034318448.1;gbkey=CDS;gene=LOC105320404;product=39S ribosomal protein L19%2C mitochondrial;protein_id=XP_034318448.1\r\n",
      "NW_022994998.1\tGnomon\tCDS\t22186\t22320\t.\t-\t2\tID=cds-XP_034318448.1;Parent=rna-XM_034462557.1;Dbxref=GeneID:105320404,Genbank:XP_034318448.1;Name=XP_034318448.1;gbkey=CDS;gene=LOC105320404;product=39S ribosomal protein L19%2C mitochondrial;protein_id=XP_034318448.1\r\n",
      "NW_022994998.1\tGnomon\tCDS\t21440\t21627\t.\t-\t2\tID=cds-XP_034318448.1;Parent=rna-XM_034462557.1;Dbxref=GeneID:105320404,Genbank:XP_034318448.1;Name=XP_034318448.1;gbkey=CDS;gene=LOC105320404;product=39S ribosomal protein L19%2C mitochondrial;protein_id=XP_034318448.1\r\n",
      "NW_022994998.1\tGnomon\tCDS\t19314\t19586\t.\t-\t0\tID=cds-XP_034318448.1;Parent=rna-XM_034462557.1;Dbxref=GeneID:105320404,Genbank:XP_034318448.1;Name=XP_034318448.1;gbkey=CDS;gene=LOC105320404;product=39S ribosomal protein L19%2C mitochondrial;protein_id=XP_034318448.1\r\n",
      "NW_022994998.1\tGnomon\tgene\t29263\t54061\t.\t+\t.\tID=gene-LOC105320399;Dbxref=GeneID:105320399;Name=LOC105320399;gbkey=Gene;gene=LOC105320399;gene_biotype=protein_coding\r\n",
      "NW_022994998.1\tGnomon\tmRNA\t29263\t54061\t.\t+\t.\tID=rna-XM_034462558.1;Parent=gene-LOC105320399;Dbxref=GeneID:105320399,Genbank:XM_034462558.1;Name=XM_034462558.1;gbkey=mRNA;gene=LOC105320399;model_evidence=Supporting evidence includes similarity to: 2 ESTs%2C 1741 long SRA reads%2C and 100%25 coverage of the annotated genomic feature by RNAseq alignments%2C including 258 samples with support for all annotated introns;product=mitochondrial carrier homolog 2;transcript_id=XM_034462558.1\r\n",
      "NW_022994998.1\tGnomon\texon\t29263\t29366\t.\t+\t.\tID=exon-XM_034462558.1-1;Parent=rna-XM_034462558.1;Dbxref=GeneID:105320399,Genbank:XM_034462558.1;gbkey=mRNA;gene=LOC105320399;product=mitochondrial carrier homolog 2;transcript_id=XM_034462558.1\r\n",
      "NW_022994998.1\tGnomon\texon\t34690\t34777\t.\t+\t.\tID=exon-XM_034462558.1-2;Parent=rna-XM_034462558.1;Dbxref=GeneID:105320399,Genbank:XM_034462558.1;gbkey=mRNA;gene=LOC105320399;product=mitochondrial carrier homolog 2;transcript_id=XM_034462558.1\r\n",
      "NW_022994998.1\tGnomon\texon\t36895\t37001\t.\t+\t.\tID=exon-XM_034462558.1-3;Parent=rna-XM_034462558.1;Dbxref=GeneID:105320399,Genbank:XM_034462558.1;gbkey=mRNA;gene=LOC105320399;product=mitochondrial carrier homolog 2;transcript_id=XM_034462558.1\r\n",
      "NW_022994998.1\tGnomon\texon\t41922\t42002\t.\t+\t.\tID=exon-XM_034462558.1-4;Parent=rna-XM_034462558.1;Dbxref=GeneID:105320399,Genbank:XM_034462558.1;gbkey=mRNA;gene=LOC105320399;product=mitochondrial carrier homolog 2;transcript_id=XM_034462558.1\r\n",
      "NW_022994998.1\tGnomon\texon\t42611\t42668\t.\t+\t.\tID=exon-XM_034462558.1-5;Parent=rna-XM_034462558.1;Dbxref=GeneID:105320399,Genbank:XM_034462558.1;gbkey=mRNA;gene=LOC105320399;product=mitochondrial carrier homolog 2;transcript_id=XM_034462558.1\r\n",
      "NW_022994998.1\tGnomon\texon\t43894\t43945\t.\t+\t.\tID=exon-XM_034462558.1-6;Parent=rna-XM_034462558.1;Dbxref=GeneID:105320399,Genbank:XM_034462558.1;gbkey=mRNA;gene=LOC105320399;product=mitochondrial carrier homolog 2;transcript_id=XM_034462558.1\r\n",
      "NW_022994998.1\tGnomon\texon\t46721\t46780\t.\t+\t.\tID=exon-XM_034462558.1-7;Parent=rna-XM_034462558.1;Dbxref=GeneID:105320399,Genbank:XM_034462558.1;gbkey=mRNA;gene=LOC105320399;product=mitochondrial carrier homolog 2;transcript_id=XM_034462558.1\r\n",
      "NW_022994998.1\tGnomon\texon\t47004\t47097\t.\t+\t.\tID=exon-XM_034462558.1-8;Parent=rna-XM_034462558.1;Dbxref=GeneID:105320399,Genbank:XM_034462558.1;gbkey=mRNA;gene=LOC105320399;product=mitochondrial carrier homolog 2;transcript_id=XM_034462558.1\r\n",
      "NW_022994998.1\tGnomon\texon\t50658\t50690\t.\t+\t.\tID=exon-XM_034462558.1-9;Parent=rna-XM_034462558.1;Dbxref=GeneID:105320399,Genbank:XM_034462558.1;gbkey=mRNA;gene=LOC105320399;product=mitochondrial carrier homolog 2;transcript_id=XM_034462558.1\r\n",
      "NW_022994998.1\tGnomon\texon\t51734\t51801\t.\t+\t.\tID=exon-XM_034462558.1-10;Parent=rna-XM_034462558.1;Dbxref=GeneID:105320399,Genbank:XM_034462558.1;gbkey=mRNA;gene=LOC105320399;product=mitochondrial carrier homolog 2;transcript_id=XM_034462558.1\r\n",
      "NW_022994998.1\tGnomon\texon\t52202\t52277\t.\t+\t.\tID=exon-XM_034462558.1-11;Parent=rna-XM_034462558.1;Dbxref=GeneID:105320399,Genbank:XM_034462558.1;gbkey=mRNA;gene=LOC105320399;product=mitochondrial carrier homolog 2;transcript_id=XM_034462558.1\r\n",
      "NW_022994998.1\tGnomon\texon\t52665\t54061\t.\t+\t.\tID=exon-XM_034462558.1-12;Parent=rna-XM_034462558.1;Dbxref=GeneID:105320399,Genbank:XM_034462558.1;gbkey=mRNA;gene=LOC105320399;product=mitochondrial carrier homolog 2;transcript_id=XM_034462558.1\r\n",
      "NW_022994998.1\tGnomon\tCDS\t29283\t29366\t.\t+\t0\tID=cds-XP_034318449.1;Parent=rna-XM_034462558.1;Dbxref=GeneID:105320399,Genbank:XP_034318449.1;Name=XP_034318449.1;gbkey=CDS;gene=LOC105320399;product=mitochondrial carrier homolog 2;protein_id=XP_034318449.1\r\n",
      "NW_022994998.1\tGnomon\tCDS\t34690\t34777\t.\t+\t0\tID=cds-XP_034318449.1;Parent=rna-XM_034462558.1;Dbxref=GeneID:105320399,Genbank:XP_034318449.1;Name=XP_034318449.1;gbkey=CDS;gene=LOC105320399;product=mitochondrial carrier homolog 2;protein_id=XP_034318449.1\r\n",
      "NW_022994998.1\tGnomon\tCDS\t36895\t37001\t.\t+\t2\tID=cds-XP_034318449.1;Parent=rna-XM_034462558.1;Dbxref=GeneID:105320399,Genbank:XP_034318449.1;Name=XP_034318449.1;gbkey=CDS;gene=LOC105320399;product=mitochondrial carrier homolog 2;protein_id=XP_034318449.1\r\n",
      "NW_022994998.1\tGnomon\tCDS\t41922\t42002\t.\t+\t0\tID=cds-XP_034318449.1;Parent=rna-XM_034462558.1;Dbxref=GeneID:105320399,Genbank:XP_034318449.1;Name=XP_034318449.1;gbkey=CDS;gene=LOC105320399;product=mitochondrial carrier homolog 2;protein_id=XP_034318449.1\r\n",
      "NW_022994998.1\tGnomon\tCDS\t42611\t42668\t.\t+\t0\tID=cds-XP_034318449.1;Parent=rna-XM_034462558.1;Dbxref=GeneID:105320399,Genbank:XP_034318449.1;Name=XP_034318449.1;gbkey=CDS;gene=LOC105320399;product=mitochondrial carrier homolog 2;protein_id=XP_034318449.1\r\n",
      "NW_022994998.1\tGnomon\tCDS\t43894\t43945\t.\t+\t2\tID=cds-XP_034318449.1;Parent=rna-XM_034462558.1;Dbxref=GeneID:105320399,Genbank:XP_034318449.1;Name=XP_034318449.1;gbkey=CDS;gene=LOC105320399;product=mitochondrial carrier homolog 2;protein_id=XP_034318449.1\r\n",
      "NW_022994998.1\tGnomon\tCDS\t46721\t46780\t.\t+\t1\tID=cds-XP_034318449.1;Parent=rna-XM_034462558.1;Dbxref=GeneID:105320399,Genbank:XP_034318449.1;Name=XP_034318449.1;gbkey=CDS;gene=LOC105320399;product=mitochondrial carrier homolog 2;protein_id=XP_034318449.1\r\n",
      "NW_022994998.1\tGnomon\tCDS\t47004\t47097\t.\t+\t1\tID=cds-XP_034318449.1;Parent=rna-XM_034462558.1;Dbxref=GeneID:105320399,Genbank:XP_034318449.1;Name=XP_034318449.1;gbkey=CDS;gene=LOC105320399;product=mitochondrial carrier homolog 2;protein_id=XP_034318449.1\r\n",
      "NW_022994998.1\tGnomon\tCDS\t50658\t50690\t.\t+\t0\tID=cds-XP_034318449.1;Parent=rna-XM_034462558.1;Dbxref=GeneID:105320399,Genbank:XP_034318449.1;Name=XP_034318449.1;gbkey=CDS;gene=LOC105320399;product=mitochondrial carrier homolog 2;protein_id=XP_034318449.1\r\n",
      "NW_022994998.1\tGnomon\tCDS\t51734\t51801\t.\t+\t0\tID=cds-XP_034318449.1;Parent=rna-XM_034462558.1;Dbxref=GeneID:105320399,Genbank:XP_034318449.1;Name=XP_034318449.1;gbkey=CDS;gene=LOC105320399;product=mitochondrial carrier homolog 2;protein_id=XP_034318449.1\r\n",
      "NW_022994998.1\tGnomon\tCDS\t52202\t52277\t.\t+\t1\tID=cds-XP_034318449.1;Parent=rna-XM_034462558.1;Dbxref=GeneID:105320399,Genbank:XP_034318449.1;Name=XP_034318449.1;gbkey=CDS;gene=LOC105320399;product=mitochondrial carrier homolog 2;protein_id=XP_034318449.1\r\n",
      "NW_022994998.1\tGnomon\tCDS\t52665\t52778\t.\t+\t0\tID=cds-XP_034318449.1;Parent=rna-XM_034462558.1;Dbxref=GeneID:105320399,Genbank:XP_034318449.1;Name=XP_034318449.1;gbkey=CDS;gene=LOC105320399;product=mitochondrial carrier homolog 2;protein_id=XP_034318449.1\r\n",
      "NW_022994998.1\tRefSeq\tcDNA_match\t1077\t1198\t.\t+\t.\tID=1ea1185e-62a3-4bdf-a22e-60d2d37aed82;Target=XM_034462556.1 885 1006 +;for_remapping=2;gap_count=0;num_ident=5733;num_mismatch=0;pct_coverage=86.6405;pct_coverage_hiqual=86.6405;pct_identity_gap=100;pct_identity_ungap=100;rank=1\r\n",
      "NW_022994998.1\tRefSeq\tcDNA_match\t2153\t2250\t.\t+\t.\tID=1ea1185e-62a3-4bdf-a22e-60d2d37aed82;Target=XM_034462556.1 1007 1104 +;for_remapping=2;gap_count=0;num_ident=5733;num_mismatch=0;pct_coverage=86.6405;pct_coverage_hiqual=86.6405;pct_identity_gap=100;pct_identity_ungap=100;rank=1\r\n",
      "NW_022994998.1\tRefSeq\tcDNA_match\t3418\t3513\t.\t+\t.\tID=1ea1185e-62a3-4bdf-a22e-60d2d37aed82;Target=XM_034462556.1 1105 1200 +;for_remapping=2;gap_count=0;num_ident=5733;num_mismatch=0;pct_coverage=86.6405;pct_coverage_hiqual=86.6405;pct_identity_gap=100;pct_identity_ungap=100;rank=1\r\n",
      "NW_022994998.1\tRefSeq\tcDNA_match\t4668\t4799\t.\t+\t.\tID=1ea1185e-62a3-4bdf-a22e-60d2d37aed82;Target=XM_034462556.1 1201 1332 +;for_remapping=2;gap_count=0;num_ident=5733;num_mismatch=0;pct_coverage=86.6405;pct_coverage_hiqual=86.6405;pct_identity_gap=100;pct_identity_ungap=100;rank=1\r\n",
      "NW_022994998.1\tRefSeq\tcDNA_match\t5607\t5690\t.\t+\t.\tID=1ea1185e-62a3-4bdf-a22e-60d2d37aed82;Target=XM_034462556.1 1333 1416 +;for_remapping=2;gap_count=0;num_ident=5733;num_mismatch=0;pct_coverage=86.6405;pct_coverage_hiqual=86.6405;pct_identity_gap=100;pct_identity_ungap=100;rank=1\r\n",
      "NW_022994998.1\tRefSeq\tcDNA_match\t8405\t8438\t.\t+\t.\tID=1ea1185e-62a3-4bdf-a22e-60d2d37aed82;Target=XM_034462556.1 1417 1450 +;for_remapping=2;gap_count=0;num_ident=5733;num_mismatch=0;pct_coverage=86.6405;pct_coverage_hiqual=86.6405;pct_identity_gap=100;pct_identity_ungap=100;rank=1\r\n",
      "NW_022994998.1\tRefSeq\tcDNA_match\t9053\t9148\t.\t+\t.\tID=1ea1185e-62a3-4bdf-a22e-60d2d37aed82;Target=XM_034462556.1 1451 1546 +;for_remapping=2;gap_count=0;num_ident=5733;num_mismatch=0;pct_coverage=86.6405;pct_coverage_hiqual=86.6405;pct_identity_gap=100;pct_identity_ungap=100;rank=1\r\n",
      "NW_022994998.1\tRefSeq\tcDNA_match\t10833\t10997\t.\t+\t.\tID=1ea1185e-62a3-4bdf-a22e-60d2d37aed82;Target=XM_034462556.1 1547 1711 +;for_remapping=2;gap_count=0;num_ident=5733;num_mismatch=0;pct_coverage=86.6405;pct_coverage_hiqual=86.6405;pct_identity_gap=100;pct_identity_ungap=100;rank=1\r\n",
      "NW_022994998.1\tRefSeq\tcDNA_match\t11544\t11593\t.\t+\t.\tID=1ea1185e-62a3-4bdf-a22e-60d2d37aed82;Target=XM_034462556.1 1712 1761 +;for_remapping=2;gap_count=0;num_ident=5733;num_mismatch=0;pct_coverage=86.6405;pct_coverage_hiqual=86.6405;pct_identity_gap=100;pct_identity_ungap=100;rank=1\r\n",
      "NW_022994998.1\tRefSeq\tcDNA_match\t12827\t17682\t.\t+\t.\tID=1ea1185e-62a3-4bdf-a22e-60d2d37aed82;Target=XM_034462556.1 1762 6617 +;for_remapping=2;gap_count=0;num_ident=5733;num_mismatch=0;pct_coverage=86.6405;pct_coverage_hiqual=86.6405;pct_identity_gap=100;pct_identity_ungap=100;rank=1\r\n",
      "###\r\n"
     ]
    }
   ],
   "source": [
    "!head ncbi-genomes-2021-05-04/GCF_902806645.1_cgigas_uk_roslin_v1_genomic.gff"
   ]
  },
  {
   "cell_type": "markdown",
   "metadata": {},
   "source": [
    "## 2. Prepare for feature track creation"
   ]
  },
  {
   "cell_type": "markdown",
   "metadata": {},
   "source": [
    "Before I pull out feature tracks, I need to know which databases were used for annotation, which features I can expect and how many of them there are, and identify chromosome lengths."
   ]
  },
  {
   "cell_type": "markdown",
   "metadata": {},
   "source": [
    "### 2a. Annotation information"
   ]
  },
  {
   "cell_type": "code",
   "execution_count": 57,
   "metadata": {
    "collapsed": false,
    "scrolled": false
   },
   "outputs": [
    {
     "name": "stdout",
     "output_type": "stream",
     "text": [
      "   1 ##sequence-region NW_022994996.1 1 98197\r\n",
      "   1 ##sequence-region NW_022994997.1 1 297219\r\n",
      "   1 ##sequence-region NW_022994998.1 1 55042\r\n",
      " 236 ##species https://www.ncbi.nlm.nih.gov/Taxonomy/Browser/wwwtax.cgi?id=29159\r\n",
      "2448 BestRefSeq\r\n",
      "  48 BestRefSeq%2CGnomon\r\n",
      "1606186 Gnomon\r\n",
      "8761 RefSeq\r\n",
      " 626 cmsearch\r\n",
      "1977 tRNAscan-SE\r\n"
     ]
    }
   ],
   "source": [
    "#Database identifiers for extracting features\n",
    "!cut -f2 ncbi-genomes-2021-05-04/GCF_902806645.1_cgigas_uk_roslin_v1_genomic.gff | sort | uniq -c | tail"
   ]
  },
  {
   "cell_type": "code",
   "execution_count": 33,
   "metadata": {
    "collapsed": false
   },
   "outputs": [
    {
     "name": "stdout",
     "output_type": "stream",
     "text": [
      "   1 #!annotation-source NCBI Crassostrea gigas Annotation Release 102\n",
      "   1 #!genome-build cgigas_uk_roslin_v1\n",
      "   1 #!genome-build-accession NCBI_Assembly:GCF_902806645.1\n",
      "   1 #!gff-spec-version 1.21\n",
      "   1 #!processor NCBI annotwriter\n",
      "   1 ###\n",
      "   1 ##gff-version 3\n",
      "   1 ##sequence-region NC_047559.1 1 55785328\n",
      "   1 ##sequence-region NC_047560.1 1 73222313\n",
      "   1 ##sequence-region NC_047561.1 1 58319100\n",
      "   1 ##sequence-region NC_047562.1 1 53127865\n",
      "   1 ##sequence-region NC_047563.1 1 73550375\n",
      "   1 ##sequence-region NC_047564.1 1 60151564\n",
      "   1 ##sequence-region NC_047565.1 1 62107823\n",
      "   1 ##sequence-region NC_047566.1 1 58462999\n",
      "   1 ##sequence-region NC_047567.1 1 37089910\n",
      "   1 ##sequence-region NC_047568.1 1 57541580\n",
      "   1 ##sequence-region NW_022994773.1 1 129571\n",
      "   1 ##sequence-region NW_022994774.1 1 1185781\n",
      "   1 ##sequence-region NW_022994775.1 1 128451\n",
      "   1 ##sequence-region NW_022994776.1 1 124569\n",
      "   1 ##sequence-region NW_022994777.1 1 123505\n",
      "   1 ##sequence-region NW_022994778.1 1 761972\n",
      "   1 ##sequence-region NW_022994779.1 1 111600\n",
      "   1 ##sequence-region NW_022994780.1 1 109880\n",
      "   1 ##sequence-region NW_022994781.1 1 109004\n",
      "   1 ##sequence-region NW_022994782.1 1 105193\n",
      "   1 ##sequence-region NW_022994783.1 1 103107\n",
      "   1 ##sequence-region NW_022994784.1 1 1334230\n",
      "   1 ##sequence-region NW_022994785.1 1 99559\n",
      "   1 ##sequence-region NW_022994786.1 1 93417\n",
      "   1 ##sequence-region NW_022994787.1 1 85616\n",
      "   1 ##sequence-region NW_022994788.1 1 84435\n",
      "   1 ##sequence-region NW_022994789.1 1 725421\n",
      "   1 ##sequence-region NW_022994790.1 1 78344\n",
      "   1 ##sequence-region NW_022994791.1 1 77172\n",
      "   1 ##sequence-region NW_022994792.1 1 66789\n",
      "   1 ##sequence-region NW_022994793.1 1 66084\n",
      "   1 ##sequence-region NW_022994794.1 1 699037\n",
      "   1 ##sequence-region NW_022994795.1 1 63125\n",
      "   1 ##sequence-region NW_022994796.1 1 62774\n",
      "   1 ##sequence-region NW_022994797.1 1 60186\n",
      "   1 ##sequence-region NW_022994798.1 1 59881\n",
      "   1 ##sequence-region NW_022994799.1 1 680695\n",
      "   1 ##sequence-region NW_022994800.1 1 57426\n",
      "   1 ##sequence-region NW_022994801.1 1 56398\n",
      "   1 ##sequence-region NW_022994802.1 1 52255\n",
      "   1 ##sequence-region NW_022994803.1 1 47562\n",
      "   1 ##sequence-region NW_022994804.1 1 45312\n",
      "   1 ##sequence-region NW_022994805.1 1 654836\n",
      "   1 ##sequence-region NW_022994806.1 1 34204\n",
      "   1 ##sequence-region NW_022994807.1 1 33063\n",
      "   1 ##sequence-region NW_022994808.1 1 32339\n",
      "   1 ##sequence-region NW_022994809.1 1 621026\n",
      "   1 ##sequence-region NW_022994810.1 1 30983\n",
      "   1 ##sequence-region NW_022994811.1 1 28060\n",
      "   1 ##sequence-region NW_022994812.1 1 26205\n",
      "   1 ##sequence-region NW_022994813.1 1 609159\n",
      "   1 ##sequence-region NW_022994814.1 1 18830\n",
      "   1 ##sequence-region NW_022994815.1 1 549086\n",
      "   1 ##sequence-region NW_022994816.1 1 985078\n",
      "   1 ##sequence-region NW_022994817.1 1 2254\n",
      "   1 ##sequence-region NW_022994818.1 1 1361\n",
      "   1 ##sequence-region NW_022994819.1 1 734241\n",
      "   1 ##sequence-region NW_022994820.1 1 658371\n",
      "   1 ##sequence-region NW_022994821.1 1 546250\n",
      "   1 ##sequence-region NW_022994822.1 1 614137\n",
      "   1 ##sequence-region NW_022994823.1 1 196267\n",
      "   1 ##sequence-region NW_022994824.1 1 461872\n",
      "   1 ##sequence-region NW_022994825.1 1 345626\n",
      "   1 ##sequence-region NW_022994826.1 1 153136\n",
      "   1 ##sequence-region NW_022994827.1 1 85676\n",
      "   1 ##sequence-region NW_022994828.1 1 316174\n",
      "   1 ##sequence-region NW_022994829.1 1 476514\n",
      "   1 ##sequence-region NW_022994830.1 1 534456\n",
      "   1 ##sequence-region NW_022994831.1 1 527944\n",
      "   1 ##sequence-region NW_022994832.1 1 513312\n",
      "   1 ##sequence-region NW_022994833.1 1 507370\n",
      "   1 ##sequence-region NW_022994834.1 1 496827\n",
      "   1 ##sequence-region NW_022994835.1 1 482992\n",
      "   1 ##sequence-region NW_022994836.1 1 471557\n",
      "   1 ##sequence-region NW_022994837.1 1 686402\n",
      "   1 ##sequence-region NW_022994838.1 1 445523\n",
      "   1 ##sequence-region NW_022994839.1 1 505355\n",
      "   1 ##sequence-region NW_022994840.1 1 408464\n",
      "   1 ##sequence-region NW_022994841.1 1 392916\n",
      "   1 ##sequence-region NW_022994842.1 1 346530\n",
      "   1 ##sequence-region NW_022994843.1 1 346498\n",
      "   1 ##sequence-region NW_022994844.1 1 984115\n",
      "   1 ##sequence-region NW_022994845.1 1 334217\n",
      "   1 ##sequence-region NW_022994846.1 1 330898\n",
      "   1 ##sequence-region NW_022994847.1 1 310459\n",
      "   1 ##sequence-region NW_022994848.1 1 975996\n",
      "   1 ##sequence-region NW_022994849.1 1 299473\n",
      "   1 ##sequence-region NW_022994850.1 1 724080\n",
      "   1 ##sequence-region NW_022994851.1 1 284019\n",
      "   1 ##sequence-region NW_022994852.1 1 380988\n",
      "   1 ##sequence-region NW_022994853.1 1 271986\n",
      "   1 ##sequence-region NW_022994854.1 1 271335\n",
      "   1 ##sequence-region NW_022994855.1 1 270660\n",
      "   1 ##sequence-region NW_022994856.1 1 269814\n",
      "   1 ##sequence-region NW_022994857.1 1 255287\n",
      "   1 ##sequence-region NW_022994858.1 1 250265\n",
      "   1 ##sequence-region NW_022994859.1 1 249553\n",
      "   1 ##sequence-region NW_022994860.1 1 243901\n",
      "   1 ##sequence-region NW_022994861.1 1 243737\n",
      "   1 ##sequence-region NW_022994862.1 1 230837\n",
      "   1 ##sequence-region NW_022994863.1 1 896916\n",
      "   1 ##sequence-region NW_022994864.1 1 230075\n",
      "   1 ##sequence-region NW_022994865.1 1 3851109\n",
      "   1 ##sequence-region NW_022994866.1 1 222500\n",
      "   1 ##sequence-region NW_022994867.1 1 221461\n",
      "   1 ##sequence-region NW_022994868.1 1 214429\n",
      "   1 ##sequence-region NW_022994869.1 1 208222\n",
      "   1 ##sequence-region NW_022994870.1 1 984156\n",
      "   1 ##sequence-region NW_022994871.1 1 303113\n",
      "   1 ##sequence-region NW_022994872.1 1 195767\n",
      "   1 ##sequence-region NW_022994873.1 1 192086\n",
      "   1 ##sequence-region NW_022994874.1 1 189815\n",
      "   1 ##sequence-region NW_022994875.1 1 180076\n",
      "   1 ##sequence-region NW_022994876.1 1 178302\n",
      "   1 ##sequence-region NW_022994877.1 1 371905\n",
      "   1 ##sequence-region NW_022994878.1 1 173440\n",
      "   1 ##sequence-region NW_022994879.1 1 171659\n",
      "   1 ##sequence-region NW_022994880.1 1 169219\n",
      "   1 ##sequence-region NW_022994881.1 1 520634\n",
      "   1 ##sequence-region NW_022994882.1 1 167015\n",
      "   1 ##sequence-region NW_022994883.1 1 166538\n",
      "   1 ##sequence-region NW_022994884.1 1 165345\n",
      "   1 ##sequence-region NW_022994885.1 1 161001\n",
      "   1 ##sequence-region NW_022994886.1 1 803096\n",
      "   1 ##sequence-region NW_022994887.1 1 153941\n",
      "   1 ##sequence-region NW_022994888.1 1 153236\n",
      "   1 ##sequence-region NW_022994889.1 1 151090\n",
      "   1 ##sequence-region NW_022994890.1 1 226113\n",
      "   1 ##sequence-region NW_022994891.1 1 142569\n",
      "   1 ##sequence-region NW_022994892.1 1 139519\n",
      "   1 ##sequence-region NW_022994893.1 1 137056\n",
      "   1 ##sequence-region NW_022994894.1 1 135750\n",
      "   1 ##sequence-region NW_022994895.1 1 800838\n",
      "   1 ##sequence-region NW_022994896.1 1 123475\n",
      "   1 ##sequence-region NW_022994897.1 1 543823\n",
      "   1 ##sequence-region NW_022994898.1 1 63957\n",
      "   1 ##sequence-region NW_022994899.1 1 135656\n",
      "   1 ##sequence-region NW_022994900.1 1 158606\n",
      "   1 ##sequence-region NW_022994901.1 1 138885\n",
      "   1 ##sequence-region NW_022994902.1 1 213710\n",
      "   1 ##sequence-region NW_022994903.1 1 31917\n",
      "   1 ##sequence-region NW_022994904.1 1 192304\n",
      "   1 ##sequence-region NW_022994905.1 1 122499\n",
      "   1 ##sequence-region NW_022994906.1 1 24192\n",
      "   1 ##sequence-region NW_022994907.1 1 80452\n",
      "   1 ##sequence-region NW_022994908.1 1 34710\n",
      "   1 ##sequence-region NW_022994909.1 1 80340\n",
      "   1 ##sequence-region NW_022994910.1 1 59023\n",
      "   1 ##sequence-region NW_022994911.1 1 90223\n",
      "   1 ##sequence-region NW_022994912.1 1 80828\n",
      "   1 ##sequence-region NW_022994913.1 1 18545\n",
      "   1 ##sequence-region NW_022994914.1 1 79317\n",
      "   1 ##sequence-region NW_022994915.1 1 76490\n",
      "   1 ##sequence-region NW_022994916.1 1 77779\n",
      "   1 ##sequence-region NW_022994917.1 1 39112\n",
      "   1 ##sequence-region NW_022994918.1 1 404750\n",
      "   1 ##sequence-region NW_022994919.1 1 196227\n",
      "   1 ##sequence-region NW_022994920.1 1 39174\n",
      "   1 ##sequence-region NW_022994921.1 1 323512\n",
      "   1 ##sequence-region NW_022994922.1 1 83186\n",
      "   1 ##sequence-region NW_022994923.1 1 61906\n",
      "   1 ##sequence-region NW_022994924.1 1 127844\n",
      "   1 ##sequence-region NW_022994925.1 1 61549\n",
      "   1 ##sequence-region NW_022994926.1 1 81940\n",
      "   1 ##sequence-region NW_022994927.1 1 162546\n",
      "   1 ##sequence-region NW_022994928.1 1 69385\n",
      "   1 ##sequence-region NW_022994929.1 1 46878\n",
      "   1 ##sequence-region NW_022994930.1 1 145484\n",
      "   1 ##sequence-region NW_022994931.1 1 118323\n",
      "   1 ##sequence-region NW_022994932.1 1 123881\n",
      "   1 ##sequence-region NW_022994933.1 1 29995\n",
      "   1 ##sequence-region NW_022994934.1 1 161585\n",
      "   1 ##sequence-region NW_022994935.1 1 43805\n",
      "   1 ##sequence-region NW_022994936.1 1 297039\n",
      "   1 ##sequence-region NW_022994937.1 1 490709\n",
      "   1 ##sequence-region NW_022994938.1 1 203969\n",
      "   1 ##sequence-region NW_022994939.1 1 324655\n",
      "   1 ##sequence-region NW_022994940.1 1 218172\n",
      "   1 ##sequence-region NW_022994941.1 1 19044\n",
      "   1 ##sequence-region NW_022994942.1 1 61061\n",
      "   1 ##sequence-region NW_022994943.1 1 289459\n",
      "   1 ##sequence-region NW_022994944.1 1 261312\n",
      "   1 ##sequence-region NW_022994945.1 1 625727\n",
      "   1 ##sequence-region NW_022994946.1 1 333635\n",
      "   1 ##sequence-region NW_022994947.1 1 135775\n",
      "   1 ##sequence-region NW_022994948.1 1 858184\n",
      "   1 ##sequence-region NW_022994949.1 1 121447\n",
      "   1 ##sequence-region NW_022994950.1 1 33519\n",
      "   1 ##sequence-region NW_022994951.1 1 187731\n",
      "   1 ##sequence-region NW_022994952.1 1 219001\n",
      "   1 ##sequence-region NW_022994953.1 1 45830\n",
      "   1 ##sequence-region NW_022994954.1 1 129811\n",
      "   1 ##sequence-region NW_022994955.1 1 365466\n",
      "   1 ##sequence-region NW_022994956.1 1 433943\n",
      "   1 ##sequence-region NW_022994957.1 1 201146\n",
      "   1 ##sequence-region NW_022994958.1 1 172809\n",
      "   1 ##sequence-region NW_022994959.1 1 64928\n",
      "   1 ##sequence-region NW_022994960.1 1 137501\n",
      "   1 ##sequence-region NW_022994961.1 1 155459\n",
      "   1 ##sequence-region NW_022994962.1 1 175997\n",
      "   1 ##sequence-region NW_022994963.1 1 286963\n",
      "   1 ##sequence-region NW_022994964.1 1 245988\n",
      "   1 ##sequence-region NW_022994965.1 1 30682\n",
      "   1 ##sequence-region NW_022994966.1 1 514743\n",
      "   1 ##sequence-region NW_022994967.1 1 56505\n",
      "   1 ##sequence-region NW_022994968.1 1 91994\n",
      "   1 ##sequence-region NW_022994969.1 1 256332\n",
      "   1 ##sequence-region NW_022994970.1 1 36429\n",
      "   1 ##sequence-region NW_022994971.1 1 30384\n",
      "   1 ##sequence-region NW_022994972.1 1 189740\n",
      "   1 ##sequence-region NW_022994973.1 1 66576\n",
      "   1 ##sequence-region NW_022994974.1 1 36592\n",
      "   1 ##sequence-region NW_022994975.1 1 74180\n",
      "   1 ##sequence-region NW_022994976.1 1 30109\n",
      "   1 ##sequence-region NW_022994977.1 1 141708\n",
      "   1 ##sequence-region NW_022994978.1 1 113692\n",
      "   1 ##sequence-region NW_022994979.1 1 83790\n",
      "   1 ##sequence-region NW_022994980.1 1 6557\n",
      "   1 ##sequence-region NW_022994981.1 1 62922\n",
      "   1 ##sequence-region NW_022994982.1 1 153818\n",
      "   1 ##sequence-region NW_022994983.1 1 79855\n",
      "   1 ##sequence-region NW_022994984.1 1 42847\n",
      "   1 ##sequence-region NW_022994985.1 1 190097\n",
      "   1 ##sequence-region NW_022994986.1 1 135148\n",
      "   1 ##sequence-region NW_022994987.1 1 316463\n",
      "   1 ##sequence-region NW_022994988.1 1 28442\n",
      "   1 ##sequence-region NW_022994989.1 1 147472\n",
      "   1 ##sequence-region NW_022994990.1 1 30511\n",
      "   1 ##sequence-region NW_022994991.1 1 237136\n",
      "   1 ##sequence-region NW_022994992.1 1 107548\n",
      "   1 ##sequence-region NW_022994993.1 1 225226\n",
      "   1 ##sequence-region NW_022994994.1 1 24264\n",
      "   1 ##sequence-region NW_022994995.1 1 63071\n",
      "   1 ##sequence-region NW_022994996.1 1 98197\n",
      "   1 ##sequence-region NW_022994997.1 1 297219\n",
      "   1 ##sequence-region NW_022994998.1 1 55042\n",
      " 236 ##species https://www.ncbi.nlm.nih.gov/Taxonomy/Browser/wwwtax.cgi?id=29159\n",
      "700399 CDS\n",
      "8525 cDNA_match\n",
      "798642 exon\n",
      "38208 gene\n",
      "   1 guide_RNA\n",
      "7247 lnc_RNA\n",
      "63341 mRNA\n",
      "  88 pseudogene\n",
      "  55 rRNA\n",
      " 236 region\n",
      " 114 snRNA\n",
      "  32 snoRNA\n",
      " 641 tRNA\n",
      "2517 transcript\n"
     ]
    }
   ],
   "source": [
    "#Count the number of unique features in the GFF\n",
    "!cut -f3 ncbi-genomes-2021-05-04/GCF_902806645.1_cgigas_uk_roslin_v1_genomic.gff | sort | uniq -c"
   ]
  },
  {
   "cell_type": "markdown",
   "metadata": {},
   "source": [
    "### 2b. Chromosome lengths"
   ]
  },
  {
   "cell_type": "code",
   "execution_count": 77,
   "metadata": {
    "collapsed": false
   },
   "outputs": [],
   "source": [
    "#Obtained the full RefSeq FASTA from this link: https://www.ncbi.nlm.nih.gov/assembly/GCF_902806645.1/#/st\n",
    "#Extract information\n",
    "!tar -xf genome_assemblies_genome_fasta.tar"
   ]
  },
  {
   "cell_type": "code",
   "execution_count": 78,
   "metadata": {
    "collapsed": true
   },
   "outputs": [],
   "source": [
    "#Unzip file\n",
    "!gunzip -k ncbi-genomes-2021-05-04/GCF_902806645.1_cgigas_uk_roslin_v1_genomic.fna.gz"
   ]
  },
  {
   "cell_type": "code",
   "execution_count": 79,
   "metadata": {
    "collapsed": false,
    "scrolled": true
   },
   "outputs": [
    {
     "name": "stdout",
     "output_type": "stream",
     "text": [
      ">NC_047559.1 Crassostrea gigas linkage group 1, cgigas_uk_roslin_v1, whole genome shotgun sequence\r\n",
      "AAATAATCGGTGTTAATTTAAGGACAAATATTTCTATAAAGAAATTACATCCCTGGAAAGAAAccaatattcttcatttt\r\n",
      "aatgttaaaataggGATATAGTGTAAATGCTCCCGAAAGCCCCCTAAAACTTTTGGGATCAATAATAACACCCGTATTTC\r\n",
      "TCCGTTgatacattaatacaaagagAACAAAGAAATCATTAGCATTAGTTTcagataaaattctttataaaaaaaattac\r\n",
      "acccctgagaaaactcaaaatattctgtttagcgttaaaaaaaatcagtagacTTAATTAGTTgggaaactccctaaatc\r\n",
      "ttttgataTGAATACTTACACCCTTATTTTATCTTGATTACATGAATacgaagaaataaacaaaatcatgttaaatgaaa\r\n",
      "aatcactttattaaaaatgacatcctcaggaaggaacccatattcttcattttaacgttcaatAATAGGTATAGTTTAAA\r\n",
      "CGCTAAGTAGACCCCCAAAAACTTTTGGGATTAAGACTTACACCATCAATTCTCCTTTAGtgcattaaaacaaagaaaat\r\n",
      "aatcagctttagttttaggaaaaatccttttattgagaaataacacCCCTGAGAAtactcaaaattttcattttattgtt\r\n",
      "aaaaaaatccgCTAGGGTAGTAAATCAGTTAGGAAACTCCTTAATtatcttttggtatgaataccTACACCCTTATATAT\r\n"
     ]
    }
   ],
   "source": [
    "#Check output\n",
    "!head ncbi-genomes-2021-05-04/GCF_902806645.1_cgigas_uk_roslin_v1_genomic.fna"
   ]
  },
  {
   "cell_type": "code",
   "execution_count": 125,
   "metadata": {
    "collapsed": false
   },
   "outputs": [
    {
     "name": "stdout",
     "output_type": "stream",
     "text": [
      "\r\n",
      "55785328\r\n",
      "73222313\r\n",
      "58319100\r\n",
      "53127865\r\n",
      "73550375\r\n",
      "60151564\r\n",
      "62107823\r\n",
      "58462999\r\n",
      "37089910\r\n"
     ]
    }
   ],
   "source": [
    "#Obtain sequence lengths for each chromosome\n",
    "#Cut column 2 (sequence length)\n",
    "#Check output\n",
    "!awk '$0 ~ \">\" {print c; c=0;printf substr($0,2,100) \"\\t\"; } $0 !~ \">\" {c+=length($0);} END { print c; }' \\\n",
    "ncbi-genomes-2021-05-04/GCF_902806645.1_cgigas_uk_roslin_v1_genomic.fna \\\n",
    "| cut -f2 \\\n",
    "> cgigas_uk_roslin_v1-sequence-information.txt\n",
    "!head cgigas_uk_roslin_v1-sequence-information.txt"
   ]
  },
  {
   "cell_type": "code",
   "execution_count": 129,
   "metadata": {
    "collapsed": false
   },
   "outputs": [
    {
     "name": "stdout",
     "output_type": "stream",
     "text": [
      "\r\n",
      "NC_047559.1\r\n",
      "NC_047560.1\r\n",
      "NC_047561.1\r\n",
      "NC_047562.1\r\n",
      "NC_047563.1\r\n",
      "NC_047564.1\r\n",
      "NC_047565.1\r\n",
      "NC_047566.1\r\n",
      "NC_047567.1\r\n"
     ]
    }
   ],
   "source": [
    "#Obtain sequence lengths for each chromosome\n",
    "#Replace spaces with tabs\n",
    "#Cut column 1 (chr name)\n",
    "#Check output\n",
    "!awk '$0 ~ \">\" {print c; c=0;printf substr($0,2,100) \"\\t\"; } $0 !~ \">\" {c+=length($0);} END { print c; }' \\\n",
    "ncbi-genomes-2021-05-04/GCF_902806645.1_cgigas_uk_roslin_v1_genomic.fna \\\n",
    "| tr \" \" \"\\t\" \\\n",
    "| cut -f1 \\\n",
    "> cgigas_uk_roslin_v1-sequence-chr.txt\n",
    "!head cgigas_uk_roslin_v1-sequence-chr.txt"
   ]
  },
  {
   "cell_type": "code",
   "execution_count": 155,
   "metadata": {
    "collapsed": false
   },
   "outputs": [
    {
     "name": "stdout",
     "output_type": "stream",
     "text": [
      "\t\r\n",
      "NC_047559.1\t55785328\r\n",
      "NC_047560.1\t73222313\r\n",
      "NC_047561.1\t58319100\r\n",
      "NC_047562.1\t53127865\r\n",
      "NC_047563.1\t73550375\r\n",
      "NC_047564.1\t60151564\r\n",
      "NC_047565.1\t62107823\r\n",
      "NC_047566.1\t58462999\r\n",
      "NC_047567.1\t37089910\r\n"
     ]
    }
   ],
   "source": [
    "#Combine chr and sequence lengths in a tab-delimited format\n",
    "#Check output\n",
    "!paste -d\"\\t\" cgigas_uk_roslin_v1-sequence-chr.txt cgigas_uk_roslin_v1-sequence-information.txt \\\n",
    "> cgigas_uk_roslin_v1-sequence-lengths.txt\n",
    "!head cgigas_uk_roslin_v1-sequence-lengths.txt"
   ]
  },
  {
   "cell_type": "markdown",
   "metadata": {},
   "source": [
    "## 2. Generate genome feature tracks"
   ]
  },
  {
   "cell_type": "markdown",
   "metadata": {},
   "source": [
    "I will extract CDS, exon, gene, lncRNA and mRNA tracks. I can then use those existing tracks to produce intron and  intergenic tracks, as well as 1 kb upstream and downstream flanking regions with `bedtools`."
   ]
  },
  {
   "cell_type": "code",
   "execution_count": 170,
   "metadata": {
    "collapsed": false,
    "scrolled": true
   },
   "outputs": [
    {
     "name": "stdout",
     "output_type": "stream",
     "text": [
      "bedtools: flexible tools for genome arithmetic and DNA sequence analysis.\r\n",
      "usage:    bedtools <subcommand> [options]\r\n",
      "\r\n",
      "The bedtools sub-commands include:\r\n",
      "\r\n",
      "[ Genome arithmetic ]\r\n",
      "    intersect     Find overlapping intervals in various ways.\r\n",
      "    window        Find overlapping intervals within a window around an interval.\r\n",
      "    closest       Find the closest, potentially non-overlapping interval.\r\n",
      "    coverage      Compute the coverage over defined intervals.\r\n",
      "    map           Apply a function to a column for each overlapping interval.\r\n",
      "    genomecov     Compute the coverage over an entire genome.\r\n",
      "    merge         Combine overlapping/nearby intervals into a single interval.\r\n",
      "    cluster       Cluster (but don't merge) overlapping/nearby intervals.\r\n",
      "    complement    Extract intervals _not_ represented by an interval file.\r\n",
      "    shift         Adjust the position of intervals.\r\n",
      "    subtract      Remove intervals based on overlaps b/w two files.\r\n",
      "    slop          Adjust the size of intervals.\r\n",
      "    flank         Create new intervals from the flanks of existing intervals.\r\n",
      "    sort          Order the intervals in a file.\r\n",
      "    random        Generate random intervals in a genome.\r\n",
      "    shuffle       Randomly redistrubute intervals in a genome.\r\n",
      "    sample        Sample random records from file using reservoir sampling.\r\n",
      "    spacing       Report the gap lengths between intervals in a file.\r\n",
      "    annotate      Annotate coverage of features from multiple files.\r\n",
      "\r\n",
      "[ Multi-way file comparisons ]\r\n",
      "    multiinter    Identifies common intervals among multiple interval files.\r\n",
      "    unionbedg     Combines coverage intervals from multiple BEDGRAPH files.\r\n",
      "\r\n",
      "[ Paired-end manipulation ]\r\n",
      "    pairtobed     Find pairs that overlap intervals in various ways.\r\n",
      "    pairtopair    Find pairs that overlap other pairs in various ways.\r\n",
      "\r\n",
      "[ Format conversion ]\r\n",
      "    bamtobed      Convert BAM alignments to BED (& other) formats.\r\n",
      "    bedtobam      Convert intervals to BAM records.\r\n",
      "    bamtofastq    Convert BAM records to FASTQ records.\r\n",
      "    bedpetobam    Convert BEDPE intervals to BAM records.\r\n",
      "    bed12tobed6   Breaks BED12 intervals into discrete BED6 intervals.\r\n",
      "\r\n",
      "[ Fasta manipulation ]\r\n",
      "    getfasta      Use intervals to extract sequences from a FASTA file.\r\n",
      "    maskfasta     Use intervals to mask sequences from a FASTA file.\r\n",
      "    nuc           Profile the nucleotide content of intervals in a FASTA file.\r\n",
      "\r\n",
      "[ BAM focused tools ]\r\n",
      "    multicov      Counts coverage from multiple BAMs at specific intervals.\r\n",
      "    tag           Tag BAM alignments based on overlaps with interval files.\r\n",
      "\r\n",
      "[ Statistical relationships ]\r\n",
      "    jaccard       Calculate the Jaccard statistic b/w two sets of intervals.\r\n",
      "    reldist       Calculate the distribution of relative distances b/w two files.\r\n",
      "    fisher        Calculate Fisher statistic b/w two feature files.\r\n",
      "\r\n",
      "[ Miscellaneous tools ]\r\n",
      "    overlap       Computes the amount of overlap from two intervals.\r\n",
      "    igv           Create an IGV snapshot batch script.\r\n",
      "    links         Create a HTML page of links to UCSC locations.\r\n",
      "    makewindows   Make interval \"windows\" across a genome.\r\n",
      "    groupby       Group by common cols. & summarize oth. cols. (~ SQL \"groupBy\")\r\n",
      "    expand        Replicate lines based on lists of values in columns.\r\n",
      "    split         Split a file into multiple files with equal records or base pairs.\r\n",
      "\r\n",
      "[ General help ]\r\n",
      "    --help        Print this help menu.\r\n",
      "    --version     What version of bedtools are you using?.\r\n",
      "    --contact     Feature requests, bugs, mailing lists, etc.\r\n",
      "\r\n"
     ]
    }
   ],
   "source": [
    "!{bedtoolsDirectory}bedtools -h"
   ]
  },
  {
   "cell_type": "markdown",
   "metadata": {},
   "source": [
    "### 2a. Gene"
   ]
  },
  {
   "cell_type": "code",
   "execution_count": 168,
   "metadata": {
    "collapsed": false
   },
   "outputs": [],
   "source": [
    "#Isolate gene entries from multiple annotation databses. Tab mus be included between database and feature\n",
    "#Sort output for downstream use\n",
    "#Include chromosome name information\n",
    "!grep -e \"Gnomon\tgene\" -e \"RefSeq\tgene\" -e \"cmsearch\tgene\" -e \"tRNAscan-SE\tgene\" \\\n",
    "ncbi-genomes-2021-05-04/GCF_902806645.1_cgigas_uk_roslin_v1_genomic.gff \\\n",
    "| {bedtoolsDirectory}sortBed \\\n",
    "-faidx cgigas_uk_roslin_v1-sequence-chr.txt \\\n",
    "> cgigas_uk_roslin_v1_gene.gff"
   ]
  },
  {
   "cell_type": "code",
   "execution_count": 169,
   "metadata": {
    "collapsed": false,
    "scrolled": false
   },
   "outputs": [
    {
     "name": "stdout",
     "output_type": "stream",
     "text": [
      "NC_047559.1\tGnomon\tgene\t9839\t11386\t.\t+\t.\tID=gene-LOC117693020;Dbxref=GeneID:117693020;Name=LOC117693020;gbkey=Gene;gene=LOC117693020;gene_biotype=lncRNA\n",
      "NC_047559.1\tGnomon\tgene\t14114\t15804\t.\t+\t.\tID=gene-LOC109621113;Dbxref=GeneID:109621113;Name=LOC109621113;gbkey=Gene;gene=LOC109621113;gene_biotype=protein_coding\n",
      "NC_047559.1\tGnomon\tgene\t16867\t19160\t.\t-\t.\tID=gene-LOC117687066;Dbxref=GeneID:117687066;Name=LOC117687066;gbkey=Gene;gene=LOC117687066;gene_biotype=protein_coding\n",
      "NC_047559.1\tGnomon\tgene\t60036\t74623\t.\t-\t.\tID=gene-LOC117689737;Dbxref=GeneID:117689737;Name=LOC117689737;gbkey=Gene;gene=LOC117689737;gene_biotype=protein_coding\n",
      "NC_047559.1\tGnomon\tgene\t80321\t86124\t.\t+\t.\tID=gene-LOC117687025;Dbxref=GeneID:117687025;Name=LOC117687025;gbkey=Gene;gene=LOC117687025;gene_biotype=protein_coding\n",
      "NC_047559.1\tGnomon\tgene\t97820\t126387\t.\t+\t.\tID=gene-LOC105333279;Dbxref=GeneID:105333279;Name=LOC105333279;gbkey=Gene;gene=LOC105333279;gene_biotype=protein_coding\n",
      "NC_047559.1\tGnomon\tgene\t139293\t141527\t.\t-\t.\tID=gene-LOC105321471;Dbxref=GeneID:105321471;Name=LOC105321471;gbkey=Gene;gene=LOC105321471;gene_biotype=protein_coding\n",
      "NC_047559.1\tGnomon\tgene\t142829\t146045\t.\t-\t.\tID=gene-LOC105321472;Dbxref=GeneID:105321472;Name=LOC105321472;gbkey=Gene;gene=LOC105321472;gene_biotype=protein_coding\n",
      "NC_047559.1\tGnomon\tgene\t151758\t185673\t.\t+\t.\tID=gene-LOC117687070;Dbxref=GeneID:117687070;Name=LOC117687070;gbkey=Gene;gene=LOC117687070;gene_biotype=protein_coding\n",
      "NC_047559.1\tGnomon\tgene\t167270\t168430\t.\t-\t.\tID=gene-LOC117689460;Dbxref=GeneID:117689460;Name=LOC117689460;gbkey=Gene;gene=LOC117689460;gene_biotype=lncRNA\n",
      "   38208 cgigas_uk_roslin_v1_gene.gff\n"
     ]
    }
   ],
   "source": [
    "!head cgigas_uk_roslin_v1_gene.gff\n",
    "!wc -l cgigas_uk_roslin_v1_gene.gff"
   ]
  },
  {
   "cell_type": "markdown",
   "metadata": {},
   "source": [
    "### 2b. CDS"
   ]
  },
  {
   "cell_type": "code",
   "execution_count": 171,
   "metadata": {
    "collapsed": true
   },
   "outputs": [],
   "source": [
    "!grep -e \"Gnomon\tCDS\" -e \"RefSeq\tCDS\" -e \"cmsearch\tCDS\" -e \"tRNAscan-SE\tCDS\" \\\n",
    "ncbi-genomes-2021-05-04/GCF_902806645.1_cgigas_uk_roslin_v1_genomic.gff \\\n",
    "| {bedtoolsDirectory}sortBed \\\n",
    "-faidx cgigas_uk_roslin_v1-sequence-chr.txt \\\n",
    "> cgigas_uk_roslin_v1_CDS.gff"
   ]
  },
  {
   "cell_type": "code",
   "execution_count": 172,
   "metadata": {
    "collapsed": false,
    "scrolled": true
   },
   "outputs": [
    {
     "name": "stdout",
     "output_type": "stream",
     "text": [
      "NC_047559.1\tGnomon\tCDS\t14843\t14867\t.\t+\t0\tID=cds-XP_034319074.1;Parent=rna-XM_034463183.1;Dbxref=GeneID:109621113,Genbank:XP_034319074.1;Name=XP_034319074.1;gbkey=CDS;gene=LOC109621113;product=uncharacterized protein LOC109621113;protein_id=XP_034319074.1\n",
      "NC_047559.1\tGnomon\tCDS\t14958\t15452\t.\t+\t2\tID=cds-XP_034319074.1;Parent=rna-XM_034463183.1;Dbxref=GeneID:109621113,Genbank:XP_034319074.1;Name=XP_034319074.1;gbkey=CDS;gene=LOC109621113;product=uncharacterized protein LOC109621113;protein_id=XP_034319074.1\n",
      "NC_047559.1\tGnomon\tCDS\t15599\t15804\t.\t+\t2\tID=cds-XP_034319074.1;Parent=rna-XM_034463183.1;Dbxref=GeneID:109621113,Genbank:XP_034319074.1;Name=XP_034319074.1;gbkey=CDS;gene=LOC109621113;product=uncharacterized protein LOC109621113;protein_id=XP_034319074.1\n",
      "NC_047559.1\tGnomon\tCDS\t16867\t18042\t.\t-\t0\tID=cds-XP_034319086.1;Parent=rna-XM_034463195.1;Dbxref=GeneID:117687066,Genbank:XP_034319086.1;Name=XP_034319086.1;gbkey=CDS;gene=LOC117687066;product=uncharacterized protein LOC117687066;protein_id=XP_034319086.1\n",
      "NC_047559.1\tGnomon\tCDS\t61960\t61972\t.\t-\t1\tID=cds-XP_034327644.1;Parent=rna-XM_034471753.1;Dbxref=GeneID:117689737,Genbank:XP_034327644.1;Name=XP_034327644.1;gbkey=CDS;gene=LOC117689737;product=uncharacterized protein LOC117689737;protein_id=XP_034327644.1\n",
      "NC_047559.1\tGnomon\tCDS\t62859\t62916\t.\t-\t2\tID=cds-XP_034327644.1;Parent=rna-XM_034471753.1;Dbxref=GeneID:117689737,Genbank:XP_034327644.1;Name=XP_034327644.1;gbkey=CDS;gene=LOC117689737;product=uncharacterized protein LOC117689737;protein_id=XP_034327644.1\n",
      "NC_047559.1\tGnomon\tCDS\t63632\t63724\t.\t-\t2\tID=cds-XP_034327644.1;Parent=rna-XM_034471753.1;Dbxref=GeneID:117689737,Genbank:XP_034327644.1;Name=XP_034327644.1;gbkey=CDS;gene=LOC117689737;product=uncharacterized protein LOC117689737;protein_id=XP_034327644.1\n",
      "NC_047559.1\tGnomon\tCDS\t63959\t64051\t.\t-\t2\tID=cds-XP_034327644.1;Parent=rna-XM_034471753.1;Dbxref=GeneID:117689737,Genbank:XP_034327644.1;Name=XP_034327644.1;gbkey=CDS;gene=LOC117689737;product=uncharacterized protein LOC117689737;protein_id=XP_034327644.1\n",
      "NC_047559.1\tGnomon\tCDS\t66088\t66177\t.\t-\t2\tID=cds-XP_034327644.1;Parent=rna-XM_034471753.1;Dbxref=GeneID:117689737,Genbank:XP_034327644.1;Name=XP_034327644.1;gbkey=CDS;gene=LOC117689737;product=uncharacterized protein LOC117689737;protein_id=XP_034327644.1\n",
      "NC_047559.1\tGnomon\tCDS\t66934\t66959\t.\t-\t1\tID=cds-XP_034327644.1;Parent=rna-XM_034471753.1;Dbxref=GeneID:117689737,Genbank:XP_034327644.1;Name=XP_034327644.1;gbkey=CDS;gene=LOC117689737;product=uncharacterized protein LOC117689737;protein_id=XP_034327644.1\n",
      "  700399 cgigas_uk_roslin_v1_CDS.gff\n"
     ]
    }
   ],
   "source": [
    "!head cgigas_uk_roslin_v1_CDS.gff\n",
    "!wc -l cgigas_uk_roslin_v1_CDS.gff"
   ]
  },
  {
   "cell_type": "markdown",
   "metadata": {},
   "source": [
    "### 2c. Exon"
   ]
  },
  {
   "cell_type": "code",
   "execution_count": 173,
   "metadata": {
    "collapsed": true
   },
   "outputs": [],
   "source": [
    "!grep -e \"Gnomon\texon\" -e \"RefSeq\texon\" -e \"cmsearch\texon\" -e \"tRNAscan-SE\texon\" \\\n",
    "ncbi-genomes-2021-05-04/GCF_902806645.1_cgigas_uk_roslin_v1_genomic.gff \\\n",
    "| {bedtoolsDirectory}sortBed \\\n",
    "-faidx cgigas_uk_roslin_v1-sequence-chr.txt \\\n",
    "> cgigas_uk_roslin_v1_exon.gff"
   ]
  },
  {
   "cell_type": "code",
   "execution_count": 174,
   "metadata": {
    "collapsed": false,
    "scrolled": true
   },
   "outputs": [
    {
     "name": "stdout",
     "output_type": "stream",
     "text": [
      "NC_047559.1\tGnomon\texon\t9839\t9922\t.\t+\t.\tID=exon-XR_004604272.1-1;Parent=rna-XR_004604272.1;Dbxref=GeneID:117693020,Genbank:XR_004604272.1;gbkey=ncRNA;gene=LOC117693020;product=uncharacterized LOC117693020;transcript_id=XR_004604272.1\n",
      "NC_047559.1\tGnomon\texon\t10884\t11386\t.\t+\t.\tID=exon-XR_004604272.1-2;Parent=rna-XR_004604272.1;Dbxref=GeneID:117693020,Genbank:XR_004604272.1;gbkey=ncRNA;gene=LOC117693020;product=uncharacterized LOC117693020;transcript_id=XR_004604272.1\n",
      "NC_047559.1\tGnomon\texon\t14114\t14545\t.\t+\t.\tID=exon-XM_034463183.1-1;Parent=rna-XM_034463183.1;Dbxref=GeneID:109621113,Genbank:XM_034463183.1;gbkey=mRNA;gene=LOC109621113;product=uncharacterized LOC109621113;transcript_id=XM_034463183.1\n",
      "NC_047559.1\tGnomon\texon\t14812\t14867\t.\t+\t.\tID=exon-XM_034463183.1-2;Parent=rna-XM_034463183.1;Dbxref=GeneID:109621113,Genbank:XM_034463183.1;gbkey=mRNA;gene=LOC109621113;product=uncharacterized LOC109621113;transcript_id=XM_034463183.1\n",
      "NC_047559.1\tGnomon\texon\t14958\t15452\t.\t+\t.\tID=exon-XM_034463183.1-3;Parent=rna-XM_034463183.1;Dbxref=GeneID:109621113,Genbank:XM_034463183.1;gbkey=mRNA;gene=LOC109621113;product=uncharacterized LOC109621113;transcript_id=XM_034463183.1\n",
      "NC_047559.1\tGnomon\texon\t15599\t15804\t.\t+\t.\tID=exon-XM_034463183.1-4;Parent=rna-XM_034463183.1;Dbxref=GeneID:109621113,Genbank:XM_034463183.1;gbkey=mRNA;gene=LOC109621113;product=uncharacterized LOC109621113;transcript_id=XM_034463183.1\n",
      "NC_047559.1\tGnomon\texon\t16867\t18042\t.\t-\t.\tID=exon-XM_034463195.1-2;Parent=rna-XM_034463195.1;Dbxref=GeneID:117687066,Genbank:XM_034463195.1;gbkey=mRNA;gene=LOC117687066;product=uncharacterized LOC117687066;transcript_id=XM_034463195.1\n",
      "NC_047559.1\tGnomon\texon\t18981\t19160\t.\t-\t.\tID=exon-XM_034463195.1-1;Parent=rna-XM_034463195.1;Dbxref=GeneID:117687066,Genbank:XM_034463195.1;gbkey=mRNA;gene=LOC117687066;product=uncharacterized LOC117687066;transcript_id=XM_034463195.1\n",
      "NC_047559.1\tGnomon\texon\t60036\t60143\t.\t-\t.\tID=exon-XR_004601999.1-13;Parent=rna-XR_004601999.1;Dbxref=GeneID:117689737,Genbank:XR_004601999.1;gbkey=misc_RNA;gene=LOC117689737;product=uncharacterized LOC117689737%2C transcript variant X13;transcript_id=XR_004601999.1\n",
      "NC_047559.1\tGnomon\texon\t60036\t60143\t.\t-\t.\tID=exon-XR_004602028.1-11;Parent=rna-XR_004602028.1;Dbxref=GeneID:117689737,Genbank:XR_004602028.1;gbkey=misc_RNA;gene=LOC117689737;product=uncharacterized LOC117689737%2C transcript variant X17;transcript_id=XR_004602028.1\n",
      "  798642 cgigas_uk_roslin_v1_exon.gff\n"
     ]
    }
   ],
   "source": [
    "!head cgigas_uk_roslin_v1_exon.gff\n",
    "!wc -l cgigas_uk_roslin_v1_exon.gff"
   ]
  },
  {
   "cell_type": "markdown",
   "metadata": {},
   "source": [
    "### 2d. lncRNA"
   ]
  },
  {
   "cell_type": "code",
   "execution_count": 175,
   "metadata": {
    "collapsed": true
   },
   "outputs": [],
   "source": [
    "!grep -e \"Gnomon\tlnc_RNA\" -e \"RefSeq\tlnc_RNA\" -e \"cmsearch\tlnc_RNA\" -e \"tRNAscan-SE\tlnc_RNA\" \\\n",
    "ncbi-genomes-2021-05-04/GCF_902806645.1_cgigas_uk_roslin_v1_genomic.gff \\\n",
    "| {bedtoolsDirectory}sortBed \\\n",
    "-faidx cgigas_uk_roslin_v1-sequence-chr.txt \\\n",
    "> cgigas_uk_roslin_v1_lncRNA.gff"
   ]
  },
  {
   "cell_type": "code",
   "execution_count": 176,
   "metadata": {
    "collapsed": false,
    "scrolled": true
   },
   "outputs": [
    {
     "name": "stdout",
     "output_type": "stream",
     "text": [
      "NC_047559.1\tGnomon\tlnc_RNA\t9839\t11386\t.\t+\t.\tID=rna-XR_004604272.1;Parent=gene-LOC117693020;Dbxref=GeneID:117693020,Genbank:XR_004604272.1;Name=XR_004604272.1;gbkey=ncRNA;gene=LOC117693020;model_evidence=Supporting evidence includes similarity to: 1 EST%2C and 100%25 coverage of the annotated genomic feature by RNAseq alignments%2C including 15 samples with support for all annotated introns;product=uncharacterized LOC117693020;transcript_id=XR_004604272.1\n",
      "NC_047559.1\tGnomon\tlnc_RNA\t167270\t168430\t.\t-\t.\tID=rna-XR_004601744.1;Parent=gene-LOC117689460;Dbxref=GeneID:117689460,Genbank:XR_004601744.1;Name=XR_004601744.1;gbkey=ncRNA;gene=LOC117689460;model_evidence=Supporting evidence includes similarity to: 3 long SRA reads%2C and 98%25 coverage of the annotated genomic feature by RNAseq alignments%2C including 52 samples with support for all annotated introns;product=uncharacterized LOC117689460;transcript_id=XR_004601744.1\n",
      "NC_047559.1\tGnomon\tlnc_RNA\t226703\t229170\t.\t+\t.\tID=rna-XR_004596449.1;Parent=gene-LOC105326952;Dbxref=GeneID:105326952,Genbank:XR_004596449.1;Name=XR_004596449.1;gbkey=ncRNA;gene=LOC105326952;model_evidence=Supporting evidence includes similarity to: 1 long SRA read%2C and 100%25 coverage of the annotated genomic feature by RNAseq alignments%2C including 5 samples with support for all annotated introns;product=uncharacterized LOC105326952;transcript_id=XR_004596449.1\n",
      "NC_047559.1\tGnomon\tlnc_RNA\t242189\t242939\t.\t-\t.\tID=rna-XR_004602779.1;Parent=gene-LOC117690921;Dbxref=GeneID:117690921,Genbank:XR_004602779.1;Name=XR_004602779.1;gbkey=ncRNA;gene=LOC117690921;model_evidence=Supporting evidence includes similarity to: 100%25 coverage of the annotated genomic feature by RNAseq alignments%2C including 46 samples with support for all annotated introns;product=uncharacterized LOC117690921;transcript_id=XR_004602779.1\n",
      "NC_047559.1\tGnomon\tlnc_RNA\t254843\t258147\t.\t+\t.\tID=rna-XR_004602775.1;Parent=gene-LOC117690907;Dbxref=GeneID:117690907,Genbank:XR_004602775.1;Name=XR_004602775.1;gbkey=ncRNA;gene=LOC117690907;model_evidence=Supporting evidence includes similarity to: 100%25 coverage of the annotated genomic feature by RNAseq alignments%2C including 9 samples with support for all annotated introns;product=uncharacterized LOC117690907;transcript_id=XR_004602775.1\n",
      "NC_047559.1\tGnomon\tlnc_RNA\t415528\t418254\t.\t-\t.\tID=rna-XR_004598226.1;Parent=gene-LOC117684466;Dbxref=GeneID:117684466,Genbank:XR_004598226.1;Name=XR_004598226.1;gbkey=ncRNA;gene=LOC117684466;model_evidence=Supporting evidence includes similarity to: 2 long SRA reads%2C and 92%25 coverage of the annotated genomic feature by RNAseq alignments%2C including 125 samples with support for all annotated introns;product=uncharacterized LOC117684466%2C transcript variant X1;transcript_id=XR_004598226.1\n",
      "NC_047559.1\tGnomon\tlnc_RNA\t415530\t421174\t.\t-\t.\tID=rna-XR_004598230.1;Parent=gene-LOC117684466;Dbxref=GeneID:117684466,Genbank:XR_004598230.1;Name=XR_004598230.1;gbkey=ncRNA;gene=LOC117684466;model_evidence=Supporting evidence includes similarity to: 2 long SRA reads%2C and 92%25 coverage of the annotated genomic feature by RNAseq alignments%2C including 6 samples with support for all annotated introns;product=uncharacterized LOC117684466%2C transcript variant X4;transcript_id=XR_004598230.1\n",
      "NC_047559.1\tGnomon\tlnc_RNA\t415530\t421164\t.\t-\t.\tID=rna-XR_004598234.1;Parent=gene-LOC117684466;Dbxref=GeneID:117684466,Genbank:XR_004598234.1;Name=XR_004598234.1;gbkey=ncRNA;gene=LOC117684466;model_evidence=Supporting evidence includes similarity to: 2 long SRA reads%2C and 92%25 coverage of the annotated genomic feature by RNAseq alignments%2C including 11 samples with support for all annotated introns;product=uncharacterized LOC117684466%2C transcript variant X6;transcript_id=XR_004598234.1\n",
      "NC_047559.1\tGnomon\tlnc_RNA\t415530\t420772\t.\t-\t.\tID=rna-XR_004598232.1;Parent=gene-LOC117684466;Dbxref=GeneID:117684466,Genbank:XR_004598232.1;Name=XR_004598232.1;gbkey=ncRNA;gene=LOC117684466;model_evidence=Supporting evidence includes similarity to: 2 long SRA reads%2C and 92%25 coverage of the annotated genomic feature by RNAseq alignments%2C including 2 samples with support for all annotated introns;product=uncharacterized LOC117684466%2C transcript variant X5;transcript_id=XR_004598232.1\n",
      "NC_047559.1\tGnomon\tlnc_RNA\t415531\t418541\t.\t-\t.\tID=rna-XR_004598229.1;Parent=gene-LOC117684466;Dbxref=GeneID:117684466,Genbank:XR_004598229.1;Name=XR_004598229.1;gbkey=ncRNA;gene=LOC117684466;model_evidence=Supporting evidence includes similarity to: 2 long SRA reads%2C and 92%25 coverage of the annotated genomic feature by RNAseq alignments%2C including 68 samples with support for all annotated introns;product=uncharacterized LOC117684466%2C transcript variant X3;transcript_id=XR_004598229.1\n",
      "    7247 cgigas_uk_roslin_v1_lncRNA.gff\n"
     ]
    }
   ],
   "source": [
    "!head cgigas_uk_roslin_v1_lncRNA.gff\n",
    "!wc -l cgigas_uk_roslin_v1_lncRNA.gff"
   ]
  },
  {
   "cell_type": "markdown",
   "metadata": {},
   "source": [
    "### 2e. mRNA"
   ]
  },
  {
   "cell_type": "code",
   "execution_count": 177,
   "metadata": {
    "collapsed": true
   },
   "outputs": [],
   "source": [
    "!grep -e \"Gnomon\tmRNA\" -e \"RefSeq\tmRNA\" -e \"cmsearch\tmRNA\" -e \"tRNAscan-SE\tmRNA\" \\\n",
    "ncbi-genomes-2021-05-04/GCF_902806645.1_cgigas_uk_roslin_v1_genomic.gff \\\n",
    "| {bedtoolsDirectory}sortBed \\\n",
    "-faidx cgigas_uk_roslin_v1-sequence-chr.txt \\\n",
    "> cgigas_uk_roslin_v1_mRNA.gff"
   ]
  },
  {
   "cell_type": "code",
   "execution_count": 178,
   "metadata": {
    "collapsed": false,
    "scrolled": true
   },
   "outputs": [
    {
     "name": "stdout",
     "output_type": "stream",
     "text": [
      "NC_047559.1\tGnomon\tmRNA\t14114\t15804\t.\t+\t.\tID=rna-XM_034463183.1;Parent=gene-LOC109621113;Dbxref=GeneID:109621113,Genbank:XM_034463183.1;Name=XM_034463183.1;gbkey=mRNA;gene=LOC109621113;model_evidence=Supporting evidence includes similarity to: 78%25 coverage of the annotated genomic feature by RNAseq alignments%2C including 21 samples with support for all annotated introns;product=uncharacterized LOC109621113;transcript_id=XM_034463183.1\n",
      "NC_047559.1\tGnomon\tmRNA\t16867\t19160\t.\t-\t.\tID=rna-XM_034463195.1;Parent=gene-LOC117687066;Dbxref=GeneID:117687066,Genbank:XM_034463195.1;Name=XM_034463195.1;gbkey=mRNA;gene=LOC117687066;model_evidence=Supporting evidence includes similarity to: 98%25 coverage of the annotated genomic feature by RNAseq alignments%2C including 14 samples with support for all annotated introns;product=uncharacterized LOC117687066;transcript_id=XM_034463195.1\n",
      "NC_047559.1\tGnomon\tmRNA\t61887\t71038\t.\t-\t.\tID=rna-XM_034471753.1;Parent=gene-LOC117689737;Dbxref=GeneID:117689737,Genbank:XM_034471753.1;Name=XM_034471753.1;gbkey=mRNA;gene=LOC117689737;model_evidence=Supporting evidence includes similarity to: 1 long SRA read%2C and 100%25 coverage of the annotated genomic feature by RNAseq alignments%2C including 3 samples with support for all annotated introns;product=uncharacterized LOC117689737%2C transcript variant X8;transcript_id=XM_034471753.1\n",
      "NC_047559.1\tGnomon\tmRNA\t80321\t86124\t.\t+\t.\tID=rna-XM_034463075.1;Parent=gene-LOC117687025;Dbxref=GeneID:117687025,Genbank:XM_034463075.1;Name=XM_034463075.1;gbkey=mRNA;gene=LOC117687025;model_evidence=Supporting evidence includes similarity to: 100%25 coverage of the annotated genomic feature by RNAseq alignments%2C including 16 samples with support for all annotated introns;product=uncharacterized LOC117687025;transcript_id=XM_034463075.1\n",
      "NC_047559.1\tGnomon\tmRNA\t97820\t126387\t.\t+\t.\tID=rna-XM_034463066.1;Parent=gene-LOC105333279;Dbxref=GeneID:105333279,Genbank:XM_034463066.1;Name=XM_034463066.1;gbkey=mRNA;gene=LOC105333279;model_evidence=Supporting evidence includes similarity to: 31 long SRA reads%2C and 99%25 coverage of the annotated genomic feature by RNAseq alignments;product=uncharacterized LOC105333279;transcript_id=XM_034463066.1\n",
      "NC_047559.1\tGnomon\tmRNA\t139293\t141527\t.\t-\t.\tID=rna-XM_034463207.1;Parent=gene-LOC105321471;Dbxref=GeneID:105321471,Genbank:XM_034463207.1;Name=XM_034463207.1;gbkey=mRNA;gene=LOC105321471;model_evidence=Supporting evidence includes similarity to: 16 Proteins;product=uncharacterized LOC105321471;transcript_id=XM_034463207.1\n",
      "NC_047559.1\tGnomon\tmRNA\t142829\t146045\t.\t-\t.\tID=rna-XM_034464216.1;Parent=gene-LOC105321472;Dbxref=GeneID:105321472,Genbank:XM_034464216.1;Name=XM_034464216.1;gbkey=mRNA;gene=LOC105321472;model_evidence=Supporting evidence includes similarity to: 100%25 coverage of the annotated genomic feature by RNAseq alignments%2C including 32 samples with support for all annotated introns;product=uncharacterized LOC105321472;transcript_id=XM_034464216.1\n",
      "NC_047559.1\tGnomon\tmRNA\t151758\t185673\t.\t+\t.\tID=rna-XM_034463215.1;Parent=gene-LOC117687070;Dbxref=GeneID:117687070,Genbank:XM_034463215.1;Name=XM_034463215.1;gbkey=mRNA;gene=LOC117687070;model_evidence=Supporting evidence includes similarity to: 1 long SRA read%2C and 92%25 coverage of the annotated genomic feature by RNAseq alignments;product=uncharacterized LOC117687070;transcript_id=XM_034463215.1\n",
      "NC_047559.1\tGnomon\tmRNA\t203632\t209757\t.\t+\t.\tID=rna-XM_034481799.1;Parent=gene-LOC105344774;Dbxref=GeneID:105344774,Genbank:XM_034481799.1;Name=XM_034481799.1;gbkey=mRNA;gene=LOC105344774;model_evidence=Supporting evidence includes similarity to: 100%25 coverage of the annotated genomic feature by RNAseq alignments;product=uncharacterized LOC105344774;transcript_id=XM_034481799.1\n",
      "NC_047559.1\tGnomon\tmRNA\t265780\t267611\t.\t-\t.\tID=rna-XM_034463224.1;Parent=gene-LOC117687074;Dbxref=GeneID:117687074,Genbank:XM_034463224.1;Name=XM_034463224.1;gbkey=mRNA;gene=LOC117687074;model_evidence=Supporting evidence includes similarity to: 1 Protein;product=uncharacterized LOC117687074;transcript_id=XM_034463224.1\n",
      "   63341 cgigas_uk_roslin_v1_mRNA.gff\n"
     ]
    }
   ],
   "source": [
    "!head cgigas_uk_roslin_v1_mRNA.gff\n",
    "!wc -l cgigas_uk_roslin_v1_mRNA.gff"
   ]
  },
  {
   "cell_type": "markdown",
   "metadata": {},
   "source": [
    "### 2f. Non-coding sequences"
   ]
  },
  {
   "cell_type": "code",
   "execution_count": 164,
   "metadata": {
    "collapsed": false
   },
   "outputs": [
    {
     "name": "stdout",
     "output_type": "stream",
     "text": [
      "Error: Sorted input specified, but the file cgigas_uk_roslin_v1_exon.gff has the following out of order record\r\n",
      "NC_047559.1\tGnomon\texon\t16867\t18042\t.\t-\t.\tID=exon-XM_034463195.1-2;Parent=rna-XM_034463195.1;Dbxref=GeneID:117687066,Genbank:XM_034463195.1;gbkey=mRNA;gene=LOC117687066;product=uncharacterized LOC117687066;transcript_id=XM_034463195.1\r\n"
     ]
    }
   ],
   "source": [
    "#Find the complement to the exon track (non-coding sequences)\n",
    "!{bedtoolsDirectory}complementBed \\\n",
    "-i cgigas_uk_roslin_v1_exon.gff \\\n",
    "-g cgigas_uk_roslin_v1-sequence-lengths.txt \\\n",
    "| head"
   ]
  },
  {
   "cell_type": "markdown",
   "metadata": {},
   "source": [
    "### 2g. Intron"
   ]
  },
  {
   "cell_type": "code",
   "execution_count": null,
   "metadata": {
    "collapsed": true
   },
   "outputs": [],
   "source": [
    "#Find the intersection between the non-coding sequences and genes (introns)\n",
    "!intersectBed \\\n",
    "-a cgigas_uk_roslin_v1_nonCDS.gff \\\n",
    "-b cgigas_uk_roslin_v1_gene.gff \\\n",
    "> cgigas_uk_roslin_v1_intron.gff"
   ]
  },
  {
   "cell_type": "code",
   "execution_count": null,
   "metadata": {
    "collapsed": true
   },
   "outputs": [],
   "source": [
    "!head cgigas_uk_roslin_v1_intron.gff\n",
    "!wc -l cgigas_uk_roslin_v1_intron.gff"
   ]
  },
  {
   "cell_type": "markdown",
   "metadata": {},
   "source": [
    "### 2g. Untranslated regions of exons"
   ]
  },
  {
   "cell_type": "code",
   "execution_count": 160,
   "metadata": {
    "collapsed": false,
    "scrolled": true
   },
   "outputs": [
    {
     "name": "stdout",
     "output_type": "stream",
     "text": [
      "NC_047559.1\tGnomon\texon\t9839\t9922\t.\t+\t.\tID=exon-XR_004604272.1-1;Parent=rna-XR_004604272.1;Dbxref=GeneID:117693020,Genbank:XR_004604272.1;gbkey=ncRNA;gene=LOC117693020;product=uncharacterized LOC117693020;transcript_id=XR_004604272.1\r\n",
      "NC_047559.1\tGnomon\texon\t10884\t11386\t.\t+\t.\tID=exon-XR_004604272.1-2;Parent=rna-XR_004604272.1;Dbxref=GeneID:117693020,Genbank:XR_004604272.1;gbkey=ncRNA;gene=LOC117693020;product=uncharacterized LOC117693020;transcript_id=XR_004604272.1\r\n",
      "NC_047559.1\tGnomon\texon\t14114\t14545\t.\t+\t.\tID=exon-XM_034463183.1-1;Parent=rna-XM_034463183.1;Dbxref=GeneID:109621113,Genbank:XM_034463183.1;gbkey=mRNA;gene=LOC109621113;product=uncharacterized LOC109621113;transcript_id=XM_034463183.1\r\n",
      "NC_047559.1\tGnomon\texon\t14812\t14842\t.\t+\t.\tID=exon-XM_034463183.1-2;Parent=rna-XM_034463183.1;Dbxref=GeneID:109621113,Genbank:XM_034463183.1;gbkey=mRNA;gene=LOC109621113;product=uncharacterized LOC109621113;transcript_id=XM_034463183.1\r\n",
      "NC_047559.1\tGnomon\texon\t18981\t19160\t.\t-\t.\tID=exon-XM_034463195.1-1;Parent=rna-XM_034463195.1;Dbxref=GeneID:117687066,Genbank:XM_034463195.1;gbkey=mRNA;gene=LOC117687066;product=uncharacterized LOC117687066;transcript_id=XM_034463195.1\r\n",
      "NC_047559.1\tGnomon\texon\t74070\t74623\t.\t-\t.\tID=exon-XR_004602030.1-1;Parent=rna-XR_004602030.1;Dbxref=GeneID:117689737,Genbank:XR_004602030.1;gbkey=misc_RNA;gene=LOC117689737;product=uncharacterized LOC117689737%2C transcript variant X18;transcript_id=XR_004602030.1\r\n",
      "NC_047559.1\tGnomon\texon\t71251\t71461\t.\t-\t.\tID=exon-XR_004602030.1-2;Parent=rna-XR_004602030.1;Dbxref=GeneID:117689737,Genbank:XR_004602030.1;gbkey=misc_RNA;gene=LOC117689737;product=uncharacterized LOC117689737%2C transcript variant X18;transcript_id=XR_004602030.1\r\n",
      "NC_047559.1\tGnomon\texon\t65626\t65718\t.\t-\t.\tID=exon-XR_004602030.1-4;Parent=rna-XR_004602030.1;Dbxref=GeneID:117689737,Genbank:XR_004602030.1;gbkey=misc_RNA;gene=LOC117689737;product=uncharacterized LOC117689737%2C transcript variant X18;transcript_id=XR_004602030.1\r\n",
      "NC_047559.1\tGnomon\texon\t64551\t64617\t.\t-\t.\tID=exon-XR_004602030.1-5;Parent=rna-XR_004602030.1;Dbxref=GeneID:117689737,Genbank:XR_004602030.1;gbkey=misc_RNA;gene=LOC117689737;product=uncharacterized LOC117689737%2C transcript variant X18;transcript_id=XR_004602030.1\r\n",
      "NC_047559.1\tGnomon\texon\t62196\t62330\t.\t-\t.\tID=exon-XR_004602030.1-9;Parent=rna-XR_004602030.1;Dbxref=GeneID:117689737,Genbank:XR_004602030.1;gbkey=misc_RNA;gene=LOC117689737;product=uncharacterized LOC117689737%2C transcript variant X18;transcript_id=XR_004602030.1\r\n"
     ]
    }
   ],
   "source": [
    "!subtractBed \\\n",
    "-a cgigas_uk_roslin_v1_exon.gff \\\n",
    "-b cgigas_uk_roslin_v1_CDS.gff \\\n",
    "| head"
   ]
  },
  {
   "cell_type": "code",
   "execution_count": 162,
   "metadata": {
    "collapsed": false,
    "scrolled": false
   },
   "outputs": [
    {
     "name": "stdout",
     "output_type": "stream",
     "text": [
      "\n",
      "Tool:    bedtools subtract (aka subtractBed)\n",
      "Version: v2.26.0\n",
      "Summary: Removes the portion(s) of an interval that is overlapped\n",
      "\t by another feature(s).\n",
      "\n",
      "Usage:   bedtools subtract [OPTIONS] -a <bed/gff/vcf> -b <bed/gff/vcf>\n",
      "\n",
      "Options: \n",
      "\t-A\tRemove entire feature if any overlap.  That is, by default,\n",
      "\t\tonly subtract the portion of A that overlaps B. Here, if\n",
      "\t\tany overlap is found (or -f amount), the entire feature is removed.\n",
      "\n",
      "\t-N\tSame as -A except when used with -f, the amount is the sum\n",
      "\t\tof all features (not any single feature).\n",
      "\n",
      "\t-wb\tWrite the original entry in B for each overlap.\n",
      "\t\t- Useful for knowing _what_ A overlaps. Restricted by -f and -r.\n",
      "\n",
      "\t-wo\tWrite the original A and B entries plus the number of base\n",
      "\t\tpairs of overlap between the two features.\n",
      "\t\t- Overlaps restricted by -f and -r.\n",
      "\t\t  Only A features with overlap are reported.\n",
      "\n",
      "\t-s\tRequire same strandedness.  That is, only report hits in B\n",
      "\t\tthat overlap A on the _same_ strand.\n",
      "\t\t- By default, overlaps are reported without respect to strand.\n",
      "\n",
      "\t-S\tRequire different strandedness.  That is, only report hits in B\n",
      "\t\tthat overlap A on the _opposite_ strand.\n",
      "\t\t- By default, overlaps are reported without respect to strand.\n",
      "\n",
      "\t-f\tMinimum overlap required as a fraction of A.\n",
      "\t\t- Default is 1E-9 (i.e., 1bp).\n",
      "\t\t- FLOAT (e.g. 0.50)\n",
      "\n",
      "\t-F\tMinimum overlap required as a fraction of B.\n",
      "\t\t- Default is 1E-9 (i.e., 1bp).\n",
      "\t\t- FLOAT (e.g. 0.50)\n",
      "\n",
      "\t-r\tRequire that the fraction overlap be reciprocal for A AND B.\n",
      "\t\t- In other words, if -f is 0.90 and -r is used, this requires\n",
      "\t\t  that B overlap 90% of A and A _also_ overlaps 90% of B.\n",
      "\n",
      "\t-e\tRequire that the minimum fraction be satisfied for A OR B.\n",
      "\t\t- In other words, if -e is used with -f 0.90 and -F 0.10 this requires\n",
      "\t\t  that either 90% of A is covered OR 10% of  B is covered.\n",
      "\t\t  Without -e, both fractions would have to be satisfied.\n",
      "\n",
      "\t-split\tTreat \"split\" BAM or BED12 entries as distinct BED intervals.\n",
      "\n",
      "\t-g\tProvide a genome file to enforce consistent chromosome sort order\n",
      "\t\tacross input files. Only applies when used with -sorted option.\n",
      "\n",
      "\t-nonamecheck\tFor sorted data, don't throw an error if the file has different naming conventions\n",
      "\t\t\tfor the same chromosome. ex. \"chr1\" vs \"chr01\".\n",
      "\n",
      "\t-sorted\tUse the \"chromsweep\" algorithm for sorted (-k1,1 -k2,2n) input.\n",
      "\n",
      "\t-bed\tIf using BAM input, write output as BED.\n",
      "\n",
      "\t-header\tPrint the header from the A file prior to results.\n",
      "\n",
      "\t-nobuf\tDisable buffered output. Using this option will cause each line\n",
      "\t\tof output to be printed as it is generated, rather than saved\n",
      "\t\tin a buffer. This will make printing large output files \n",
      "\t\tnoticeably slower, but can be useful in conjunction with\n",
      "\t\tother software tools and scripts that need to process one\n",
      "\t\tline of bedtools output at a time.\n",
      "\n",
      "\t-iobuf\tSpecify amount of memory to use for input buffer.\n",
      "\t\tTakes an integer argument. Optional suffixes K/M/G supported.\n",
      "\t\tNote: currently has no effect with compressed files.\n",
      "\n"
     ]
    }
   ],
   "source": [
    "!/Users/Shared/bioinformatics/bedtools2/bin/subtractBed -h"
   ]
  },
  {
   "cell_type": "markdown",
   "metadata": {},
   "source": [
    "### 2h. Flanking regions (1 kb)"
   ]
  },
  {
   "cell_type": "code",
   "execution_count": null,
   "metadata": {
    "collapsed": true
   },
   "outputs": [],
   "source": []
  },
  {
   "cell_type": "markdown",
   "metadata": {},
   "source": [
    "### 2i. Intergenic regions"
   ]
  },
  {
   "cell_type": "code",
   "execution_count": null,
   "metadata": {
    "collapsed": true
   },
   "outputs": [],
   "source": []
  }
 ],
 "metadata": {
  "anaconda-cloud": {},
  "kernelspec": {
   "display_name": "Python [default]",
   "language": "python",
   "name": "python3"
  },
  "language_info": {
   "codemirror_mode": {
    "name": "ipython",
    "version": 3
   },
   "file_extension": ".py",
   "mimetype": "text/x-python",
   "name": "python",
   "nbconvert_exporter": "python",
   "pygments_lexer": "ipython3",
   "version": "3.5.2"
  }
 },
 "nbformat": 4,
 "nbformat_minor": 1
}
