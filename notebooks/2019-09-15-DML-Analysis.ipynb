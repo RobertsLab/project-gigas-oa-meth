{
 "cells": [
  {
   "cell_type": "markdown",
   "metadata": {},
   "source": [
    "# DML Analysis\n",
    "\n",
    "In this notebook, I will examine the location of differentially methylated loci (DML) in the *C. gigas* genome. The DML were identified using `methylKit` in [this R script](https://github.com/RobertsLab/project-gigas-oa-meth/blob/master/analyses/2019-09-12-MethylKit/2019-09-12-MethylKit.Rmd).\n",
    "\n",
    "Methods:\n",
    "\n",
    "1. Prepare for Analyses\n",
    "2. Locate Files and Set Variable Paths\n",
    "3. Identify Overlaps between Genomic Feature Tracks"
   ]
  },
  {
   "cell_type": "markdown",
   "metadata": {},
   "source": [
    "## 0. Prepare for Analyses"
   ]
  },
  {
   "cell_type": "markdown",
   "metadata": {},
   "source": [
    "### 0a. Set Working Directory"
   ]
  },
  {
   "cell_type": "code",
   "execution_count": 1,
   "metadata": {
    "collapsed": false
   },
   "outputs": [
    {
     "data": {
      "text/plain": [
       "'/Users/yaamini/Documents/project-gigas-oa-meth/notebooks'"
      ]
     },
     "execution_count": 1,
     "metadata": {},
     "output_type": "execute_result"
    }
   ],
   "source": [
    "pwd"
   ]
  },
  {
   "cell_type": "code",
   "execution_count": 2,
   "metadata": {
    "collapsed": false
   },
   "outputs": [
    {
     "name": "stdout",
     "output_type": "stream",
     "text": [
      "/Users/yaamini/Documents/project-gigas-oa-meth/analyses\n"
     ]
    }
   ],
   "source": [
    "cd ../analyses/"
   ]
  },
  {
   "cell_type": "code",
   "execution_count": 3,
   "metadata": {
    "collapsed": true
   },
   "outputs": [],
   "source": [
    "!mkdir 2019-09-15-DML-Analysis"
   ]
  },
  {
   "cell_type": "code",
   "execution_count": 4,
   "metadata": {
    "collapsed": false
   },
   "outputs": [
    {
     "name": "stdout",
     "output_type": "stream",
     "text": [
      "\u001b[34m2019-08-30-Bismark-Parameter-Testing\u001b[m\u001b[m/ \u001b[34m2019-09-15-DML-Analysis\u001b[m\u001b[m/\r\n",
      "\u001b[34m2019-09-12-MethylKit\u001b[m\u001b[m/                 README.md\r\n",
      "\u001b[34m2019-09-13-IGV-Verification\u001b[m\u001b[m/\r\n"
     ]
    }
   ],
   "source": [
    "ls -F"
   ]
  },
  {
   "cell_type": "code",
   "execution_count": 5,
   "metadata": {
    "collapsed": false,
    "scrolled": true
   },
   "outputs": [
    {
     "name": "stdout",
     "output_type": "stream",
     "text": [
      "/Users/yaamini/Documents/project-gigas-oa-meth/analyses/2019-09-15-DML-Analysis\n"
     ]
    }
   ],
   "source": [
    "cd 2019-09-15-DML-Analysis/"
   ]
  },
  {
   "cell_type": "markdown",
   "metadata": {},
   "source": [
    "### 0b. Download Genome Feature Files"
   ]
  },
  {
   "cell_type": "markdown",
   "metadata": {},
   "source": [
    "I will be using the following tracks from [this `eagle` directory](https://eagle.fish.washington.edu/trilobite/index.php?dir=Crassostrea_gigas_v9_tracks%2F):\n",
    "\n",
    "1. Exon: Coding regions\n",
    "2. Intron: Regions that are removed\n",
    "3. Genes: This includes exons and introns, as well as constituent mRNA.\n",
    "4. Promoters: Regions upstream of genes that could be important for regulation\n",
    "5. Tranpsosable elements (_C. gigas_): Transposable elements located using information from _C. gigas_ only (see [Sam's notes](http://onsnetwork.org/kubu4/2018/08/28/transposable-element-mapping-crassostrea-virginica-genome-cvirginica_v300-using-repeatmasker-4-07/) for more information)\n",
    "4. CG motifs: Regions with CGs where methylation can occur"
   ]
  },
  {
   "cell_type": "code",
   "execution_count": 6,
   "metadata": {
    "collapsed": false
   },
   "outputs": [
    {
     "name": "stdout",
     "output_type": "stream",
     "text": [
      "  % Total    % Received % Xferd  Average Speed   Time    Time     Time  Current\n",
      "                                 Dload  Upload   Total   Spent    Left  Speed\n",
      "100 11.7M  100 11.7M    0     0  6888k      0  0:00:01  0:00:01 --:--:-- 6964k\n"
     ]
    }
   ],
   "source": [
    "!curl https://eagle.fish.washington.edu/trilobite/Crassostrea_gigas_v9_tracks/Cgigas_v9_exon.gff \\\n",
    "> Cgigas_v9_exon.gff"
   ]
  },
  {
   "cell_type": "code",
   "execution_count": 7,
   "metadata": {
    "collapsed": false
   },
   "outputs": [
    {
     "name": "stdout",
     "output_type": "stream",
     "text": [
      "  % Total    % Received % Xferd  Average Speed   Time    Time     Time  Current\n",
      "                                 Dload  Upload   Total   Spent    Left  Speed\n",
      "100 12.0M  100 12.0M    0     0  7933k      0  0:00:01  0:00:01 --:--:-- 7947k\n"
     ]
    }
   ],
   "source": [
    "!curl https://eagle.fish.washington.edu/trilobite/Crassostrea_gigas_v9_tracks/Cgigas_v9_intron.gff \\\n",
    "> Cgigas_v9_intron.gff"
   ]
  },
  {
   "cell_type": "code",
   "execution_count": 8,
   "metadata": {
    "collapsed": false
   },
   "outputs": [
    {
     "name": "stdout",
     "output_type": "stream",
     "text": [
      "  % Total    % Received % Xferd  Average Speed   Time    Time     Time  Current\n",
      "                                 Dload  Upload   Total   Spent    Left  Speed\n",
      "100 1777k  100 1777k    0     0  4896k      0 --:--:-- --:--:-- --:--:-- 5288k\n"
     ]
    }
   ],
   "source": [
    "!curl https://eagle.fish.washington.edu/trilobite/Crassostrea_gigas_v9_tracks/Cgigas_v9_gene.gff \\\n",
    "> Cgigas_v9_gene.gff"
   ]
  },
  {
   "cell_type": "code",
   "execution_count": 9,
   "metadata": {
    "collapsed": false
   },
   "outputs": [
    {
     "name": "stdout",
     "output_type": "stream",
     "text": [
      "  % Total    % Received % Xferd  Average Speed   Time    Time     Time  Current\n",
      "                                 Dload  Upload   Total   Spent    Left  Speed\n",
      "100 1848k  100 1848k    0     0  5306k      0 --:--:-- --:--:-- --:--:-- 5373k\n"
     ]
    }
   ],
   "source": [
    "!curl https://eagle.fish.washington.edu/trilobite/Crassostrea_gigas_v9_tracks/Cgigas_v9_1k5p_gene_promoter.gff \\\n",
    "> Cgigas_v9_1k5p_gene_promoter.gff"
   ]
  },
  {
   "cell_type": "code",
   "execution_count": 20,
   "metadata": {
    "collapsed": false,
    "scrolled": true
   },
   "outputs": [
    {
     "name": "stdout",
     "output_type": "stream",
     "text": [
      "  % Total    % Received % Xferd  Average Speed   Time    Time     Time  Current\n",
      "                                 Dload  Upload   Total   Spent    Left  Speed\n",
      "100 6325k  100 6325k    0     0  7365k      0 --:--:-- --:--:-- --:--:-- 7695k\n"
     ]
    }
   ],
   "source": [
    "!curl https://eagle.fish.washington.edu/trilobite/Crassostrea_gigas_v9_tracks/Cgigas_v9_TE.gff \\\n",
    "> Cgigas_v9_TE.gff"
   ]
  },
  {
   "cell_type": "code",
   "execution_count": 10,
   "metadata": {
    "collapsed": false
   },
   "outputs": [
    {
     "name": "stdout",
     "output_type": "stream",
     "text": [
      "  % Total    % Received % Xferd  Average Speed   Time    Time     Time  Current\n",
      "                                 Dload  Upload   Total   Spent    Left  Speed\n",
      "100  932M  100  932M    0     0  9789k      0  0:01:37  0:01:37 --:--:-- 9541k\n"
     ]
    }
   ],
   "source": [
    "!curl https://eagle.fish.washington.edu/trilobite/Crassostrea_gigas_v9_tracks/Cgigas_v9_CG.gff \\\n",
    "> Cgigas_v9_CG.gff"
   ]
  },
  {
   "cell_type": "code",
   "execution_count": 11,
   "metadata": {
    "collapsed": false
   },
   "outputs": [
    {
     "name": "stdout",
     "output_type": "stream",
     "text": [
      "Cgigas_v9_1k5p_gene_promoter.gff Cgigas_v9_gene.gff\r\n",
      "Cgigas_v9_CG.gff                 Cgigas_v9_intron.gff\r\n",
      "Cgigas_v9_exon.gff\r\n"
     ]
    }
   ],
   "source": [
    "!ls Cgigas*"
   ]
  },
  {
   "cell_type": "markdown",
   "metadata": {},
   "source": [
    "## 1. Locate Relevant Files and Set Variable Path Names"
   ]
  },
  {
   "cell_type": "markdown",
   "metadata": {},
   "source": [
    "### 1a. Set Variable Path Names"
   ]
  },
  {
   "cell_type": "markdown",
   "metadata": {},
   "source": [
    "Setting the variable path names allows me to reuse this script with different input files or different paths to programs without manually changing the file names each time."
   ]
  },
  {
   "cell_type": "code",
   "execution_count": 12,
   "metadata": {
    "collapsed": true
   },
   "outputs": [],
   "source": [
    "bedtoolsDirectory = \"/Users/Shared/bioinformatics/bedtools2/bin/\""
   ]
  },
  {
   "cell_type": "code",
   "execution_count": 78,
   "metadata": {
    "collapsed": true
   },
   "outputs": [],
   "source": [
    "DMLlist = \"../2019-09-12-MethylKit/2019-09-15-DML-Destrand-10x-Locations-100diff-NoExtras.bed\""
   ]
  },
  {
   "cell_type": "code",
   "execution_count": 14,
   "metadata": {
    "collapsed": false,
    "scrolled": true
   },
   "outputs": [],
   "source": [
    "exonList = \"Cgigas_v9_exon.gff\""
   ]
  },
  {
   "cell_type": "code",
   "execution_count": 15,
   "metadata": {
    "collapsed": true
   },
   "outputs": [],
   "source": [
    "intronList = \"Cgigas_v9_intron.gff\""
   ]
  },
  {
   "cell_type": "code",
   "execution_count": 17,
   "metadata": {
    "collapsed": true
   },
   "outputs": [],
   "source": [
    "geneList = \"Cgigas_v9_gene.gff\""
   ]
  },
  {
   "cell_type": "code",
   "execution_count": 18,
   "metadata": {
    "collapsed": true
   },
   "outputs": [],
   "source": [
    "promoterList = \"Cgigas_v9_1k5p_gene_promoter.gff\""
   ]
  },
  {
   "cell_type": "code",
   "execution_count": 21,
   "metadata": {
    "collapsed": true
   },
   "outputs": [],
   "source": [
    "transposableElements = \"Cgigas_v9_TE.gff\""
   ]
  },
  {
   "cell_type": "code",
   "execution_count": 22,
   "metadata": {
    "collapsed": true
   },
   "outputs": [],
   "source": [
    "CGMotifList = \"Cgigas_v9_CG.gff\""
   ]
  },
  {
   "cell_type": "markdown",
   "metadata": {},
   "source": [
    "### 1b. Confirm Variable Path Works and Characterize Files"
   ]
  },
  {
   "cell_type": "markdown",
   "metadata": {},
   "source": [
    "The BEDfiles with DML and DMR can be viewed below. Columns are are the chromosome, start position, end position, strand, and fold difference with direction. The files only have DML and DMR that were at least 50% different between the two treatments (control and elevated pCO<sub>2</sub>)."
   ]
  },
  {
   "cell_type": "code",
   "execution_count": 79,
   "metadata": {
    "collapsed": false
   },
   "outputs": [
    {
     "name": "stdout",
     "output_type": "stream",
     "text": [
      "C22384\t1328\t1330\t-100\r\n",
      "C22628\t1621\t1623\t100\r\n",
      "C28982\t4929\t4931\t100\r\n",
      "C29914\t4052\t4054\t-100\r\n",
      "C29914\t4052\t4054\t-100\r\n",
      "C29976\t649\t651\t-100\r\n",
      "C30322\t3482\t3484\t-100\r\n",
      "C30322\t3599\t3601\t-100\r\n",
      "C32984\t5070\t5072\t-100\r\n",
      "C33708\t8307\t8309\t100\r\n"
     ]
    }
   ],
   "source": [
    "#Previewing the files\n",
    "!head {DMLlist}"
   ]
  },
  {
   "cell_type": "code",
   "execution_count": 80,
   "metadata": {
    "collapsed": false
   },
   "outputs": [
    {
     "name": "stdout",
     "output_type": "stream",
     "text": [
      "     628 ../2019-09-12-MethylKit/2019-09-15-DML-Destrand-10x-Locations-100diff-NoExtras.bed\r\n"
     ]
    }
   ],
   "source": [
    "#Counting the number of lines to count DML\n",
    "!wc -l {DMLlist}"
   ]
  },
  {
   "cell_type": "code",
   "execution_count": 25,
   "metadata": {
    "collapsed": false
   },
   "outputs": [
    {
     "name": "stdout",
     "output_type": "stream",
     "text": [
      "C16582\tGLEAN\tCDS\t35\t385\t.\t-\t0\tParent=CGI_10000001;\r\n",
      "C17212\tGLEAN\tCDS\t31\t363\t.\t+\t0\tParent=CGI_10000002;\r\n",
      "C17316\tGLEAN\tCDS\t30\t257\t.\t+\t0\tParent=CGI_10000003;\r\n",
      "C17476\tGLEAN\tCDS\t104\t257\t.\t-\t0\tParent=CGI_10000004;\r\n",
      "C17476\tGLEAN\tCDS\t34\t74\t.\t-\t2\tParent=CGI_10000004;\r\n",
      "C17998\tGLEAN\tCDS\t196\t387\t.\t-\t0\tParent=CGI_10000005;\r\n",
      "C18346\tGLEAN\tCDS\t174\t551\t.\t+\t0\tParent=CGI_10000009;\r\n",
      "C18428\tGLEAN\tCDS\t286\t546\t.\t-\t0\tParent=CGI_10000010;\r\n",
      "C18964\tGLEAN\tCDS\t203\t658\t.\t-\t0\tParent=CGI_10000011;\r\n",
      "C18980\tGLEAN\tCDS\t30\t674\t.\t+\t0\tParent=CGI_10000012;\r\n"
     ]
    }
   ],
   "source": [
    "!head {exonList}"
   ]
  },
  {
   "cell_type": "code",
   "execution_count": 26,
   "metadata": {
    "collapsed": false
   },
   "outputs": [
    {
     "name": "stdout",
     "output_type": "stream",
     "text": [
      "  196691 Cgigas_v9_exon.gff\r\n"
     ]
    }
   ],
   "source": [
    "!wc -l {exonList}"
   ]
  },
  {
   "cell_type": "code",
   "execution_count": 27,
   "metadata": {
    "collapsed": false
   },
   "outputs": [
    {
     "name": "stdout",
     "output_type": "stream",
     "text": [
      "C17476\tsubtractBed\tintrn\t75\t103\t.\t-\t.\tParent=CGI_10000004;\r",
      "\r\n",
      "C19392\tsubtractBed\tintrn\t184\t451\t.\t+\t.\tParent=CGI_10000015;\r",
      "\r\n",
      "C20262\tsubtractBed\tintrn\t539\t641\t.\t-\t.\tParent=CGI_10000025;\r",
      "\r\n",
      "C20262\tsubtractBed\tintrn\t650\t871\t.\t-\t.\tParent=CGI_10000025;\r",
      "\r\n",
      "C20334\tsubtractBed\tintrn\t524\t867\t.\t-\t.\tParent=CGI_10000028;\r",
      "\r\n",
      "C20412\tsubtractBed\tintrn\t215\t409\t.\t-\t.\tParent=CGI_10000029;\r",
      "\r\n",
      "C20412\tsubtractBed\tintrn\t464\t705\t.\t-\t.\tParent=CGI_10000029;\r",
      "\r\n",
      "C20462\tsubtractBed\tintrn\t50\t271\t.\t+\t.\tParent=CGI_10000030;\r",
      "\r\n",
      "C20462\tsubtractBed\tintrn\t360\t481\t.\t+\t.\tParent=CGI_10000030;\r",
      "\r\n",
      "C20462\tsubtractBed\tintrn\t577\t822\t.\t+\t.\tParent=CGI_10000030;\r",
      "\r\n"
     ]
    }
   ],
   "source": [
    "!head {intronList}"
   ]
  },
  {
   "cell_type": "code",
   "execution_count": 28,
   "metadata": {
    "collapsed": false
   },
   "outputs": [
    {
     "name": "stdout",
     "output_type": "stream",
     "text": [
      "  176049 Cgigas_v9_intron.gff\r\n"
     ]
    }
   ],
   "source": [
    "!wc -l {intronList}"
   ]
  },
  {
   "cell_type": "code",
   "execution_count": 29,
   "metadata": {
    "collapsed": false,
    "scrolled": true
   },
   "outputs": [
    {
     "name": "stdout",
     "output_type": "stream",
     "text": [
      "C16582\tGLEAN\tmRNA\t35\t385\t0.555898\t-\t.\tID=CGI_10000001;\r\n",
      "C17212\tGLEAN\tmRNA\t31\t363\t0.999572\t+\t.\tID=CGI_10000002;\r\n",
      "C17316\tGLEAN\tmRNA\t30\t257\t0.555898\t+\t.\tID=CGI_10000003;\r\n",
      "C17476\tGLEAN\tmRNA\t34\t257\t0.998947\t-\t.\tID=CGI_10000004;\r\n",
      "C17998\tGLEAN\tmRNA\t196\t387\t1\t-\t.\tID=CGI_10000005;\r\n",
      "C18346\tGLEAN\tmRNA\t174\t551\t1\t+\t.\tID=CGI_10000009;\r\n",
      "C18428\tGLEAN\tmRNA\t286\t546\t0.555898\t-\t.\tID=CGI_10000010;\r\n",
      "C18964\tGLEAN\tmRNA\t203\t658\t0.999572\t-\t.\tID=CGI_10000011;\r\n",
      "C18980\tGLEAN\tmRNA\t30\t674\t0.555898\t+\t.\tID=CGI_10000012;\r\n",
      "C19100\tGLEAN\tmRNA\t160\t681\t0.999955\t-\t.\tID=CGI_10000013;\r\n"
     ]
    }
   ],
   "source": [
    "!head {geneList}"
   ]
  },
  {
   "cell_type": "code",
   "execution_count": 30,
   "metadata": {
    "collapsed": false,
    "scrolled": true
   },
   "outputs": [
    {
     "name": "stdout",
     "output_type": "stream",
     "text": [
      "   28027 Cgigas_v9_gene.gff\r\n"
     ]
    }
   ],
   "source": [
    "!wc -l {geneList}"
   ]
  },
  {
   "cell_type": "code",
   "execution_count": 31,
   "metadata": {
    "collapsed": false,
    "scrolled": true
   },
   "outputs": [
    {
     "name": "stdout",
     "output_type": "stream",
     "text": [
      "C16582\tflankbed\tpromoter\t386\t395\t.\t-\t.\tID=CGI_10000001;\r",
      "\r\n",
      "C17212\tflankbed\tpromoter\t1\t30\t.\t+\t.\tID=CGI_10000002;\r",
      "\r\n",
      "C17316\tflankbed\tpromoter\t1\t29\t.\t+\t.\tID=CGI_10000003;\r",
      "\r\n",
      "C17476\tflankbed\tpromoter\t258\t491\t.\t-\t.\tID=CGI_10000004;\r",
      "\r\n",
      "C17998\tflankbed\tpromoter\t388\t559\t.\t-\t.\tID=CGI_10000005;\r",
      "\r\n",
      "C18346\tflankbed\tpromoter\t1\t173\t.\t+\t.\tID=CGI_10000009;\r",
      "\r\n",
      "C18428\tflankbed\tpromoter\t547\t611\t.\t-\t.\tID=CGI_10000010;\r",
      "\r\n",
      "C18964\tflankbed\tpromoter\t659\t714\t.\t-\t.\tID=CGI_10000011;\r",
      "\r\n",
      "C18980\tflankbed\tpromoter\t1\t29\t.\t+\t.\tID=CGI_10000012;\r",
      "\r\n",
      "C19100\tflankbed\tpromoter\t682\t743\t.\t-\t.\tID=CGI_10000013;\r",
      "\r\n"
     ]
    }
   ],
   "source": [
    "!head {promoterList}"
   ]
  },
  {
   "cell_type": "code",
   "execution_count": 32,
   "metadata": {
    "collapsed": false,
    "scrolled": true
   },
   "outputs": [
    {
     "name": "stdout",
     "output_type": "stream",
     "text": [
      "   28023 Cgigas_v9_1k5p_gene_promoter.gff\r\n"
     ]
    }
   ],
   "source": [
    "!wc -l {promoterList}"
   ]
  },
  {
   "cell_type": "code",
   "execution_count": 33,
   "metadata": {
    "collapsed": false
   },
   "outputs": [
    {
     "name": "stdout",
     "output_type": "stream",
     "text": [
      "C21242\tTRF\tTandem_Repeat\t38\t100\t72\t+\t.\t.\r\n",
      "C21306\tTRF\tTandem_Repeat\t35\t143\t112\t+\t.\t.\r\n",
      "C21306\tTRF\tTandem_Repeat\t574\t947\t208\t+\t.\t.\r\n",
      "C21306\tTRF\tTandem_Repeat\t574\t901\t313\t+\t.\t.\r\n",
      "C21372\tTRF\tTandem_Repeat\t643\t671\t58\t+\t.\t.\r\n",
      "C22542\tTRF\tTandem_Repeat\t1727\t1774\t96\t+\t.\t.\r\n",
      "C22728\tTRF\tTandem_Repeat\t426\t491\t105\t+\t.\t.\r\n",
      "C23428\tTRF\tTandem_Repeat\t130\t415\t202\t+\t.\t.\r\n",
      "C23796\tTRF\tTandem_Repeat\t547\t608\t97\t+\t.\t.\r\n",
      "C24440\tTRF\tTandem_Repeat\t1059\t1089\t62\t+\t.\t.\r\n"
     ]
    }
   ],
   "source": [
    "!head {transposableElements}"
   ]
  },
  {
   "cell_type": "code",
   "execution_count": 34,
   "metadata": {
    "collapsed": false
   },
   "outputs": [
    {
     "name": "stdout",
     "output_type": "stream",
     "text": [
      "  119786 Cgigas_v9_TE.gff\r\n"
     ]
    }
   ],
   "source": [
    "!wc -l {transposableElements}"
   ]
  },
  {
   "cell_type": "code",
   "execution_count": 35,
   "metadata": {
    "collapsed": false
   },
   "outputs": [
    {
     "name": "stdout",
     "output_type": "stream",
     "text": [
      "##gff-version 3\r\n",
      "##sequence-region scaffold360 1 280\r\n",
      "#!Date 2013-04-23\r\n",
      "#!Type DNA\r\n",
      "#!Source-version EMBOSS 6.5.7.0\r\n",
      "scaffold360\tfuzznuc\tnucleotide_motif\t60\t61\t2\t+\t.\tID=scaffold360.1;note=*pat pattern:CG\r\n",
      "scaffold360\tfuzznuc\tnucleotide_motif\t96\t97\t2\t+\t.\tID=scaffold360.2;note=*pat pattern:CG\r\n",
      "scaffold360\tfuzznuc\tnucleotide_motif\t120\t121\t2\t+\t.\tID=scaffold360.3;note=*pat pattern:CG\r\n",
      "scaffold360\tfuzznuc\tnucleotide_motif\t187\t188\t2\t+\t.\tID=scaffold360.4;note=*pat pattern:CG\r\n",
      "##gff-version 3\r\n"
     ]
    }
   ],
   "source": [
    "!head {CGMotifList}"
   ]
  },
  {
   "cell_type": "code",
   "execution_count": 36,
   "metadata": {
    "collapsed": false
   },
   "outputs": [
    {
     "name": "stdout",
     "output_type": "stream",
     "text": [
      " 10035701 Cgigas_v9_CG.gff\r\n"
     ]
    }
   ],
   "source": [
    "!wc -l {CGMotifList}"
   ]
  },
  {
   "cell_type": "markdown",
   "metadata": {},
   "source": [
    "## 2. Identify DML Overlaps with Genomic Feature Tracks"
   ]
  },
  {
   "cell_type": "markdown",
   "metadata": {},
   "source": [
    "To identify the location of DML in the *C. gigas* genome, I will use `intersect` from `bedtools`. [The BEDtools suite](http://bedtools.readthedocs.io/en/latest/content/bedtools-suite.html) allows me to easily find overlapping regions of different BEDfiles."
   ]
  },
  {
   "cell_type": "code",
   "execution_count": 36,
   "metadata": {
    "collapsed": false,
    "scrolled": true
   },
   "outputs": [
    {
     "name": "stdout",
     "output_type": "stream",
     "text": [
      "\r\n",
      "Tool:    bedtools intersect (aka intersectBed)\r\n",
      "Version: v2.26.0\r\n",
      "Summary: Report overlaps between two feature files.\r\n",
      "\r\n",
      "Usage:   bedtools intersect [OPTIONS] -a <bed/gff/vcf/bam> -b <bed/gff/vcf/bam>\r\n",
      "\r\n",
      "\tNote: -b may be followed with multiple databases and/or \r\n",
      "\twildcard (*) character(s). \r\n",
      "Options: \r\n",
      "\t-wa\tWrite the original entry in A for each overlap.\r\n",
      "\r\n",
      "\t-wb\tWrite the original entry in B for each overlap.\r\n",
      "\t\t- Useful for knowing _what_ A overlaps. Restricted by -f and -r.\r\n",
      "\r\n",
      "\t-loj\tPerform a \"left outer join\". That is, for each feature in A\r\n",
      "\t\treport each overlap with B.  If no overlaps are found, \r\n",
      "\t\treport a NULL feature for B.\r\n",
      "\r\n",
      "\t-wo\tWrite the original A and B entries plus the number of base\r\n",
      "\t\tpairs of overlap between the two features.\r\n",
      "\t\t- Overlaps restricted by -f and -r.\r\n",
      "\t\t  Only A features with overlap are reported.\r\n",
      "\r\n",
      "\t-wao\tWrite the original A and B entries plus the number of base\r\n",
      "\t\tpairs of overlap between the two features.\r\n",
      "\t\t- Overlapping features restricted by -f and -r.\r\n",
      "\t\t  However, A features w/o overlap are also reported\r\n",
      "\t\t  with a NULL B feature and overlap = 0.\r\n",
      "\r\n",
      "\t-u\tWrite the original A entry _once_ if _any_ overlaps found in B.\r\n",
      "\t\t- In other words, just report the fact >=1 hit was found.\r\n",
      "\t\t- Overlaps restricted by -f and -r.\r\n",
      "\r\n",
      "\t-c\tFor each entry in A, report the number of overlaps with B.\r\n",
      "\t\t- Reports 0 for A entries that have no overlap with B.\r\n",
      "\t\t- Overlaps restricted by -f and -r.\r\n",
      "\r\n",
      "\t-v\tOnly report those entries in A that have _no overlaps_ with B.\r\n",
      "\t\t- Similar to \"grep -v\" (an homage).\r\n",
      "\r\n",
      "\t-ubam\tWrite uncompressed BAM output. Default writes compressed BAM.\r\n",
      "\r\n",
      "\t-s\tRequire same strandedness.  That is, only report hits in B\r\n",
      "\t\tthat overlap A on the _same_ strand.\r\n",
      "\t\t- By default, overlaps are reported without respect to strand.\r\n",
      "\r\n",
      "\t-S\tRequire different strandedness.  That is, only report hits in B\r\n",
      "\t\tthat overlap A on the _opposite_ strand.\r\n",
      "\t\t- By default, overlaps are reported without respect to strand.\r\n",
      "\r\n",
      "\t-f\tMinimum overlap required as a fraction of A.\r\n",
      "\t\t- Default is 1E-9 (i.e., 1bp).\r\n",
      "\t\t- FLOAT (e.g. 0.50)\r\n",
      "\r\n",
      "\t-F\tMinimum overlap required as a fraction of B.\r\n",
      "\t\t- Default is 1E-9 (i.e., 1bp).\r\n",
      "\t\t- FLOAT (e.g. 0.50)\r\n",
      "\r\n",
      "\t-r\tRequire that the fraction overlap be reciprocal for A AND B.\r\n",
      "\t\t- In other words, if -f is 0.90 and -r is used, this requires\r\n",
      "\t\t  that B overlap 90% of A and A _also_ overlaps 90% of B.\r\n",
      "\r\n",
      "\t-e\tRequire that the minimum fraction be satisfied for A OR B.\r\n",
      "\t\t- In other words, if -e is used with -f 0.90 and -F 0.10 this requires\r\n",
      "\t\t  that either 90% of A is covered OR 10% of  B is covered.\r\n",
      "\t\t  Without -e, both fractions would have to be satisfied.\r\n",
      "\r\n",
      "\t-split\tTreat \"split\" BAM or BED12 entries as distinct BED intervals.\r\n",
      "\r\n",
      "\t-g\tProvide a genome file to enforce consistent chromosome sort order\r\n",
      "\t\tacross input files. Only applies when used with -sorted option.\r\n",
      "\r\n",
      "\t-nonamecheck\tFor sorted data, don't throw an error if the file has different naming conventions\r\n",
      "\t\t\tfor the same chromosome. ex. \"chr1\" vs \"chr01\".\r\n",
      "\r\n",
      "\t-sorted\tUse the \"chromsweep\" algorithm for sorted (-k1,1 -k2,2n) input.\r\n",
      "\r\n",
      "\t-names\tWhen using multiple databases, provide an alias for each that\r\n",
      "\t\twill appear instead of a fileId when also printing the DB record.\r\n",
      "\r\n",
      "\t-filenames\tWhen using multiple databases, show each complete filename\r\n",
      "\t\t\tinstead of a fileId when also printing the DB record.\r\n",
      "\r\n",
      "\t-sortout\tWhen using multiple databases, sort the output DB hits\r\n",
      "\t\t\tfor each record.\r\n",
      "\r\n",
      "\t-bed\tIf using BAM input, write output as BED.\r\n",
      "\r\n",
      "\t-header\tPrint the header from the A file prior to results.\r\n",
      "\r\n",
      "\t-nobuf\tDisable buffered output. Using this option will cause each line\r\n",
      "\t\tof output to be printed as it is generated, rather than saved\r\n",
      "\t\tin a buffer. This will make printing large output files \r\n",
      "\t\tnoticeably slower, but can be useful in conjunction with\r\n",
      "\t\tother software tools and scripts that need to process one\r\n",
      "\t\tline of bedtools output at a time.\r\n",
      "\r\n",
      "\t-iobuf\tSpecify amount of memory to use for input buffer.\r\n",
      "\t\tTakes an integer argument. Optional suffixes K/M/G supported.\r\n",
      "\t\tNote: currently has no effect with compressed files.\r\n",
      "\r\n",
      "Notes: \r\n",
      "\t(1) When a BAM file is used for the A file, the alignment is retained if overlaps exist,\r\n",
      "\tand exlcuded if an overlap cannot be found.  If multiple overlaps exist, they are not\r\n",
      "\treported, as we are only testing for one or more overlaps.\r\n",
      "\r\n"
     ]
    }
   ],
   "source": [
    "! {bedtoolsDirectory}intersectBed -h"
   ]
  },
  {
   "cell_type": "markdown",
   "metadata": {},
   "source": [
    "### 2a. CG motifs"
   ]
  },
  {
   "cell_type": "markdown",
   "metadata": {},
   "source": [
    "This is more of a sanity check than anything else. If 100% of the DML do not overlap with CG motifs, we have a problem."
   ]
  },
  {
   "cell_type": "code",
   "execution_count": 81,
   "metadata": {
    "collapsed": false
   },
   "outputs": [
    {
     "name": "stdout",
     "output_type": "stream",
     "text": [
      "     624\n",
      "DML overlaps with CG motifs\n"
     ]
    }
   ],
   "source": [
    "! {bedtoolsDirectory}intersectBed \\\n",
    "-u \\\n",
    "-a {DMLlist} \\\n",
    "-b {CGMotifList} \\\n",
    "| wc -l\n",
    "!echo \"DML overlaps with CG motifs\""
   ]
  },
  {
   "cell_type": "markdown",
   "metadata": {
    "collapsed": false,
    "scrolled": false
   },
   "source": [
    "They all don't overlap, so I need to fix that after PCSGA."
   ]
  },
  {
   "cell_type": "markdown",
   "metadata": {},
   "source": [
    "### 2b. Exons"
   ]
  },
  {
   "cell_type": "code",
   "execution_count": 82,
   "metadata": {
    "collapsed": false
   },
   "outputs": [
    {
     "name": "stdout",
     "output_type": "stream",
     "text": [
      "     157\n",
      "DML overlaps with exons\n"
     ]
    }
   ],
   "source": [
    "! {bedtoolsDirectory}intersectBed \\\n",
    "-u \\\n",
    "-a {DMLlist} \\\n",
    "-b {exonList} \\\n",
    "| wc -l\n",
    "!echo \"DML overlaps with exons\""
   ]
  },
  {
   "cell_type": "code",
   "execution_count": 83,
   "metadata": {
    "collapsed": false
   },
   "outputs": [],
   "source": [
    "! {bedtoolsDirectory}intersectBed \\\n",
    "-wb \\\n",
    "-a {DMLlist} \\\n",
    "-b {exonList} \\\n",
    "> 2019-09-15-DML-Exon.txt"
   ]
  },
  {
   "cell_type": "code",
   "execution_count": 84,
   "metadata": {
    "collapsed": false,
    "scrolled": true
   },
   "outputs": [
    {
     "name": "stdout",
     "output_type": "stream",
     "text": [
      "C28982\t4929\t4931\t100\tC28982\tGLEAN\tCDS\t4851\t4993\t.\t-\t0\tParent=CGI_10000485;\r\n",
      "C33708\t8307\t8309\t100\tC33708\tGLEAN\tCDS\t8220\t8464\t.\t-\t2\tParent=CGI_10001120;\r\n",
      "scaffold100\t676764\t676766\t100\tscaffold100\tGLEAN\tCDS\t676685\t676795\t.\t-\t0\tParent=CGI_10026448;\r\n",
      "scaffold102\t108199\t108201\t-100\tscaffold102\tGLEAN\tCDS\t108080\t108283\t.\t+\t0\tParent=CGI_10028421;\r\n",
      "scaffold102\t108944\t108946\t-100\tscaffold102\tGLEAN\tCDS\t108904\t109002\t.\t+\t0\tParent=CGI_10028421;\r\n",
      "scaffold102\t110675\t110677\t-100\tscaffold102\tGLEAN\tCDS\t110633\t110736\t.\t+\t2\tParent=CGI_10028421;\r\n",
      "scaffold1024\t215501\t215503\t100\tscaffold1024\tGLEAN\tCDS\t215426\t215584\t.\t+\t2\tParent=CGI_10028528;\r\n",
      "scaffold1031\t425965\t425967\t100\tscaffold1031\tGLEAN\tCDS\t425901\t426024\t.\t+\t1\tParent=CGI_10019710;\r\n",
      "scaffold1037\t361706\t361708\t-100\tscaffold1037\tGLEAN\tCDS\t361695\t361813\t.\t-\t1\tParent=CGI_10017467;\r\n",
      "scaffold107\t1026788\t1026790\t-100\tscaffold107\tGLEAN\tCDS\t1026676\t1026843\t.\t-\t1\tParent=CGI_10025081;\r\n"
     ]
    }
   ],
   "source": [
    "!head 2019-09-15-DML-Exon.txt"
   ]
  },
  {
   "cell_type": "markdown",
   "metadata": {},
   "source": [
    "### 2c. Introns"
   ]
  },
  {
   "cell_type": "code",
   "execution_count": 85,
   "metadata": {
    "collapsed": false,
    "scrolled": false
   },
   "outputs": [
    {
     "name": "stdout",
     "output_type": "stream",
     "text": [
      "     285\n",
      "DML overlaps with introns\n"
     ]
    }
   ],
   "source": [
    "! {bedtoolsDirectory}intersectBed \\\n",
    "-u \\\n",
    "-a {DMLlist} \\\n",
    "-b {intronList} \\\n",
    "| wc -l\n",
    "!echo \"DML overlaps with introns\""
   ]
  },
  {
   "cell_type": "code",
   "execution_count": 86,
   "metadata": {
    "collapsed": true
   },
   "outputs": [],
   "source": [
    "! {bedtoolsDirectory}intersectBed \\\n",
    "-wb \\\n",
    "-a {DMLlist} \\\n",
    "-b {intronList} \\\n",
    "> 2019-09-15-DML-Intron.txt"
   ]
  },
  {
   "cell_type": "code",
   "execution_count": 87,
   "metadata": {
    "collapsed": false,
    "scrolled": false
   },
   "outputs": [
    {
     "name": "stdout",
     "output_type": "stream",
     "text": [
      "C34158\t8559\t8561\t100\tC34158\tsubtractBed\tintrn\t8437\t9010\t.\t-\t.\tParent=CGI_10001223;\r",
      "\r\n",
      "scaffold100\t645217\t645219\t-100\tscaffold100\tsubtractBed\tintrn\t641875\t648094\t.\t+\t.\tParent=CGI_10026446;\r",
      "\r\n",
      "scaffold102\t107843\t107845\t-100\tscaffold102\tsubtractBed\tintrn\t107045\t107927\t.\t+\t.\tParent=CGI_10028421;\r",
      "\r\n",
      "scaffold102\t108296\t108298\t-100\tscaffold102\tsubtractBed\tintrn\t108284\t108592\t.\t+\t.\tParent=CGI_10028421;\r",
      "\r\n",
      "scaffold102\t108460\t108462\t-100\tscaffold102\tsubtractBed\tintrn\t108284\t108592\t.\t+\t.\tParent=CGI_10028421;\r",
      "\r\n",
      "scaffold102\t108466\t108468\t-100\tscaffold102\tsubtractBed\tintrn\t108284\t108592\t.\t+\t.\tParent=CGI_10028421;\r",
      "\r\n",
      "scaffold102\t109070\t109072\t-100\tscaffold102\tsubtractBed\tintrn\t109003\t109589\t.\t+\t.\tParent=CGI_10028421;\r",
      "\r\n",
      "scaffold102\t1287048\t1287050\t100\tscaffold102\tsubtractBed\tintrn\t1285756\t1288440\t.\t+\t.\tParent=CGI_10028489;\r",
      "\r\n",
      "scaffold1021\t65344\t65346\t100\tscaffold1021\tsubtractBed\tintrn\t64011\t65845\t.\t-\t.\tParent=CGI_10022483;\r",
      "\r\n",
      "scaffold1021\t484587\t484589\t100\tscaffold1021\tsubtractBed\tintrn\t476972\t486430\t.\t-\t.\tParent=CGI_10022501;\r",
      "\r\n"
     ]
    }
   ],
   "source": [
    "!head 2019-09-15-DML-Intron.txt"
   ]
  },
  {
   "cell_type": "markdown",
   "metadata": {},
   "source": [
    "### 2d. Genes"
   ]
  },
  {
   "cell_type": "code",
   "execution_count": 88,
   "metadata": {
    "collapsed": false,
    "scrolled": true
   },
   "outputs": [
    {
     "name": "stdout",
     "output_type": "stream",
     "text": [
      "     442\n",
      "DML overlaps with genes\n"
     ]
    }
   ],
   "source": [
    "! {bedtoolsDirectory}intersectBed \\\n",
    "-u \\\n",
    "-a {DMLlist} \\\n",
    "-b {geneList} \\\n",
    "| wc -l\n",
    "!echo \"DML overlaps with genes\""
   ]
  },
  {
   "cell_type": "code",
   "execution_count": 89,
   "metadata": {
    "collapsed": true
   },
   "outputs": [],
   "source": [
    "! {bedtoolsDirectory}intersectBed \\\n",
    "-wb \\\n",
    "-a {DMLlist} \\\n",
    "-b {geneList} \\\n",
    "> 2019-09-15-DML-Genes.txt"
   ]
  },
  {
   "cell_type": "code",
   "execution_count": 90,
   "metadata": {
    "collapsed": false,
    "scrolled": true
   },
   "outputs": [
    {
     "name": "stdout",
     "output_type": "stream",
     "text": [
      "C28982\t4929\t4931\t100\tC28982\tGLEAN\tmRNA\t756\t6077\t0.999998\t-\t.\tID=CGI_10000485;\r\n",
      "C33708\t8307\t8309\t100\tC33708\tGLEAN\tmRNA\t8220\t14973\t0.727981\t-\t.\tID=CGI_10001120;\r\n",
      "C34158\t8559\t8561\t100\tC34158\tGLEAN\tmRNA\t8394\t13250\t1\t-\t.\tID=CGI_10001223;\r\n",
      "scaffold100\t645217\t645219\t-100\tscaffold100\tGLEAN\tmRNA\t633050\t652924\t0.873323\t+\t.\tID=CGI_10026446;\r\n",
      "scaffold100\t676764\t676766\t100\tscaffold100\tGLEAN\tmRNA\t671285\t725122\t0.993892\t-\t.\tID=CGI_10026448;\r\n",
      "scaffold102\t107843\t107845\t-100\tscaffold102\tGLEAN\tmRNA\t106910\t127626\t0.997949\t+\t.\tID=CGI_10028421;\r\n",
      "scaffold102\t108199\t108201\t-100\tscaffold102\tGLEAN\tmRNA\t106910\t127626\t0.997949\t+\t.\tID=CGI_10028421;\r\n",
      "scaffold102\t108296\t108298\t-100\tscaffold102\tGLEAN\tmRNA\t106910\t127626\t0.997949\t+\t.\tID=CGI_10028421;\r\n",
      "scaffold102\t108460\t108462\t-100\tscaffold102\tGLEAN\tmRNA\t106910\t127626\t0.997949\t+\t.\tID=CGI_10028421;\r\n",
      "scaffold102\t108466\t108468\t-100\tscaffold102\tGLEAN\tmRNA\t106910\t127626\t0.997949\t+\t.\tID=CGI_10028421;\r\n"
     ]
    }
   ],
   "source": [
    "!head 2019-09-15-DML-Genes.txt"
   ]
  },
  {
   "cell_type": "markdown",
   "metadata": {},
   "source": [
    "I know how many overlaps there are, but I also want to know how many unique genes have DMLs in them. For this, I will use the following code:\n",
    "\n",
    "`cut -f9 2019-09-15-DML-Genes.txt | sort | uniq -c`\n",
    "\n",
    "`cut` is the command that isolates the column information. Each gene has a unique end position, so I'll look at unique entries in the ninth column (`-f9`). The column is piped into `sort`, then that output is counted for unique lines by `uniq`. Finally, I'll pipe this into `wc -l` to count the number of unique genes."
   ]
  },
  {
   "cell_type": "code",
   "execution_count": 91,
   "metadata": {
    "collapsed": false
   },
   "outputs": [
    {
     "name": "stdout",
     "output_type": "stream",
     "text": [
      "     389\n",
      "unique genes overlapping with DML\n"
     ]
    }
   ],
   "source": [
    "! cut -f9 2019-09-15-DML-Genes.txt | sort | uniq -c | wc -l\n",
    "!echo \"unique genes overlapping with DML\""
   ]
  },
  {
   "cell_type": "markdown",
   "metadata": {},
   "source": [
    "### 2e. Promoters"
   ]
  },
  {
   "cell_type": "code",
   "execution_count": 92,
   "metadata": {
    "collapsed": false,
    "scrolled": true
   },
   "outputs": [
    {
     "name": "stdout",
     "output_type": "stream",
     "text": [
      "      24\n",
      "DML overlaps with promoters\n"
     ]
    }
   ],
   "source": [
    "! {bedtoolsDirectory}intersectBed \\\n",
    "-u \\\n",
    "-a {DMLlist} \\\n",
    "-b {promoterList} \\\n",
    "| wc -l\n",
    "!echo \"DML overlaps with promoters\""
   ]
  },
  {
   "cell_type": "code",
   "execution_count": 93,
   "metadata": {
    "collapsed": true
   },
   "outputs": [],
   "source": [
    "! {bedtoolsDirectory}intersectBed \\\n",
    "-wb \\\n",
    "-a {DMLlist} \\\n",
    "-b {promoterList} \\\n",
    "> 2019-09-15-DML-Promoters.txt"
   ]
  },
  {
   "cell_type": "code",
   "execution_count": 94,
   "metadata": {
    "collapsed": false,
    "scrolled": true
   },
   "outputs": [
    {
     "name": "stdout",
     "output_type": "stream",
     "text": [
      "C34158\t8559\t8561\t100\tC34158\tflankbed\tpromoter\t8251\t9250\t.\t-\t.\tID=CGI_10001222;\r",
      "\r\n",
      "scaffold1004\t438043\t438045\t-100\tscaffold1004\tflankbed\tpromoter\t437292\t438291\t.\t+\t.\tID=CGI_10020779;\r",
      "\r\n",
      "scaffold1009\t963653\t963655\t100\tscaffold1009\tflankbed\tpromoter\t963342\t964341\t.\t+\t.\tID=CGI_10028771;\r",
      "\r\n",
      "scaffold1050\t80914\t80916\t100\tscaffold1050\tflankbed\tpromoter\t80116\t81115\t.\t+\t.\tID=CGI_10009169;\r",
      "\r\n",
      "scaffold1199\t128931\t128933\t100\tscaffold1199\tflankbed\tpromoter\t128693\t129692\t.\t-\t.\tID=CGI_10005928;\r",
      "\r\n",
      "scaffold1249\t210763\t210765\t100\tscaffold1249\tflankbed\tpromoter\t209971\t210970\t.\t-\t.\tID=CGI_10019056;\r",
      "\r\n",
      "scaffold1301\t565191\t565193\t100\tscaffold1301\tflankbed\tpromoter\t564701\t565700\t.\t-\t.\tID=CGI_10027731;\r",
      "\r\n",
      "scaffold1409\t351501\t351503\t-100\tscaffold1409\tflankbed\tpromoter\t351306\t352305\t.\t-\t.\tID=CGI_10013791;\r",
      "\r\n",
      "scaffold1459\t117866\t117868\t-100\tscaffold1459\tflankbed\tpromoter\t117436\t118435\t.\t-\t.\tID=CGI_10010107;\r",
      "\r\n",
      "scaffold22\t1678759\t1678761\t100\tscaffold22\tflankbed\tpromoter\t1678054\t1679053\t.\t-\t.\tID=CGI_10028927;\r",
      "\r\n"
     ]
    }
   ],
   "source": [
    "!head 2019-09-15-DML-Promoters.txt"
   ]
  },
  {
   "cell_type": "markdown",
   "metadata": {},
   "source": [
    "### 2f. Transposable Elements"
   ]
  },
  {
   "cell_type": "code",
   "execution_count": 95,
   "metadata": {
    "collapsed": false,
    "scrolled": true
   },
   "outputs": [
    {
     "name": "stdout",
     "output_type": "stream",
     "text": [
      "       8\n",
      "DML overlaps with transposable elements\n"
     ]
    }
   ],
   "source": [
    "! {bedtoolsDirectory}intersectBed \\\n",
    "-u \\\n",
    "-a {DMLlist} \\\n",
    "-b {transposableElements} \\\n",
    "| wc -l\n",
    "!echo \"DML overlaps with transposable elements\""
   ]
  },
  {
   "cell_type": "code",
   "execution_count": 96,
   "metadata": {
    "collapsed": true
   },
   "outputs": [],
   "source": [
    "! {bedtoolsDirectory}intersectBed \\\n",
    "-wb \\\n",
    "-a {DMLlist} \\\n",
    "-b {transposableElements} \\\n",
    "> 2019-09-15-DML-TE.txt"
   ]
  },
  {
   "cell_type": "code",
   "execution_count": 97,
   "metadata": {
    "collapsed": false,
    "scrolled": true
   },
   "outputs": [
    {
     "name": "stdout",
     "output_type": "stream",
     "text": [
      "scaffold11\t354193\t354195\t100\tscaffold11\tWUBlastX\tLINE_L2\t354101\t354322\t89\t-\t.\t.\r\n",
      "scaffold11\t354209\t354211\t100\tscaffold11\tWUBlastX\tLINE_L2\t354101\t354322\t89\t-\t.\t.\r\n",
      "scaffold126\t579856\t579858\t-100\tscaffold126\tWUBlastX\tDNA_MuDR\t579734\t580051\t64\t+\t.\t.\r\n",
      "scaffold126\t579856\t579858\t-100\tscaffold126\tWUBlastX\tDNA_MuDR\t579743\t579997\t79\t+\t.\t.\r\n",
      "scaffold1301\t958700\t958702\t-100\tscaffold1301\tWUBlastX\tDNA_TcMar-Pogo\t958126\t959520\t528\t+\t.\t.\r\n",
      "scaffold1599\t123482\t123484\t-100\tscaffold1599\tTRF\tTandem_Repeat\t123195\t124139\t1487\t+\t.\t.\r\n",
      "scaffold1631\t15201\t15203\t-100\tscaffold1631\tTRF\tTandem_Repeat\t15150\t15205\t67\t+\t.\t.\r\n",
      "scaffold1715\t426046\t426048\t100\tscaffold1715\tWUBlastX\tDNA_IS4EU\t425909\t426592\t413\t-\t.\t.\r\n",
      "scaffold1715\t426046\t426048\t100\tscaffold1715\tWUBlastX\tDNA_IS4EU\t425912\t426751\t348\t-\t.\t.\r\n",
      "scaffold1843\t28003\t28005\t100\tscaffold1843\tWUBlastX\tDNA_hAT-hATw\t27958\t28119\t23\t-\t.\t.\r\n"
     ]
    }
   ],
   "source": [
    "!head 2019-09-15-DML-TE.txt"
   ]
  },
  {
   "cell_type": "markdown",
   "metadata": {},
   "source": [
    "### 2g. No overlaps"
   ]
  },
  {
   "cell_type": "markdown",
   "metadata": {},
   "source": [
    "I also want to count the number of DML that do not overlap with any features (i.e. unannotated intergenic regions). To do this, I'll use the `-v` argument in `bedtools`, which reports \"those entries in A that have no overlap in B.\" I can specify multiple files with `-b`. I'll use exons, introns, transposable elements, and putative promoter regions."
   ]
  },
  {
   "cell_type": "code",
   "execution_count": 98,
   "metadata": {
    "collapsed": false
   },
   "outputs": [
    {
     "name": "stdout",
     "output_type": "stream",
     "text": [
      "     165\n",
      "DML do not overlap with exons, introns, transposable elements, or promoters\n"
     ]
    }
   ],
   "source": [
    "! {bedtoolsDirectory}intersectBed \\\n",
    "-v \\\n",
    "-a {DMLlist} \\\n",
    "-b {exonList} {intronList} {transposableElements} {promoterList} \\\n",
    "| wc -l\n",
    "!echo \"DML do not overlap with exons, introns, transposable elements, or promoters\""
   ]
  },
  {
   "cell_type": "code",
   "execution_count": 99,
   "metadata": {
    "collapsed": true
   },
   "outputs": [],
   "source": [
    "! {bedtoolsDirectory}intersectBed \\\n",
    "-v \\\n",
    "-a {DMLlist} \\\n",
    "-b {exonList} {intronList} {transposableElements} {promoterList} \\\n",
    "> 2019-09-15-No-Overlap-DML.txt"
   ]
  },
  {
   "cell_type": "code",
   "execution_count": 100,
   "metadata": {
    "collapsed": false,
    "scrolled": false
   },
   "outputs": [
    {
     "name": "stdout",
     "output_type": "stream",
     "text": [
      "C22384\t1328\t1330\t-100\r\n",
      "C22628\t1621\t1623\t100\r\n",
      "C29914\t4052\t4054\t-100\r\n",
      "C29914\t4052\t4054\t-100\r\n",
      "C29976\t649\t651\t-100\r\n",
      "C30322\t3482\t3484\t-100\r\n",
      "C30322\t3599\t3601\t-100\r\n",
      "C32984\t5070\t5072\t-100\r\n",
      "scaffold1017\t395465\t395467\t100\r\n",
      "scaffold1024\t1343499\t1343501\t100\r\n"
     ]
    }
   ],
   "source": [
    "!head 2019-09-15-No-Overlap-DML.txt"
   ]
  },
  {
   "cell_type": "markdown",
   "metadata": {},
   "source": [
    "## 3. Identify Overlaps between Other Genome Feature Tracks"
   ]
  },
  {
   "cell_type": "markdown",
   "metadata": {},
   "source": [
    "### 3a. CG motifs"
   ]
  },
  {
   "cell_type": "markdown",
   "metadata": {},
   "source": [
    "To fully understand my results, I also need to know where CG motifs are located with respect to the other features."
   ]
  },
  {
   "cell_type": "markdown",
   "metadata": {},
   "source": [
    "#### Exons"
   ]
  },
  {
   "cell_type": "code",
   "execution_count": 37,
   "metadata": {
    "collapsed": false
   },
   "outputs": [
    {
     "name": "stdout",
     "output_type": "stream",
     "text": [
      "  172056\n",
      "Exon overlaps with CG motifs\n"
     ]
    }
   ],
   "source": [
    "! {bedtoolsDirectory}intersectBed \\\n",
    "-u \\\n",
    "-a {exonList} \\\n",
    "-b {CGMotifList} \\\n",
    "| wc -l\n",
    "!echo \"Exon overlaps with CG motifs\""
   ]
  },
  {
   "cell_type": "code",
   "execution_count": 38,
   "metadata": {
    "collapsed": true
   },
   "outputs": [],
   "source": [
    "! {bedtoolsDirectory}intersectBed \\\n",
    "-wo \\\n",
    "-a {exonList} \\\n",
    "-b {CGMotifList} \\\n",
    "> 2019-09-15-Exon-CGmotifs.txt"
   ]
  },
  {
   "cell_type": "code",
   "execution_count": 39,
   "metadata": {
    "collapsed": false
   },
   "outputs": [
    {
     "name": "stdout",
     "output_type": "stream",
     "text": [
      "C16582\tGLEAN\tCDS\t35\t385\t.\t-\t0\tParent=CGI_10000001;\tC16582\tfuzznuc\tnucleotide_motif\t41\t42\t2\t+\t.\tID=C16582.1;note=*pat pattern:CG\t1\r\n",
      "C16582\tGLEAN\tCDS\t35\t385\t.\t-\t0\tParent=CGI_10000001;\tC16582\tfuzznuc\tnucleotide_motif\t47\t48\t2\t+\t.\tID=C16582.2;note=*pat pattern:CG\t1\r\n",
      "C16582\tGLEAN\tCDS\t35\t385\t.\t-\t0\tParent=CGI_10000001;\tC16582\tfuzznuc\tnucleotide_motif\t67\t68\t2\t+\t.\tID=C16582.3;note=*pat pattern:CG\t1\r\n",
      "C16582\tGLEAN\tCDS\t35\t385\t.\t-\t0\tParent=CGI_10000001;\tC16582\tfuzznuc\tnucleotide_motif\t84\t85\t2\t+\t.\tID=C16582.4;note=*pat pattern:CG\t1\r\n",
      "C16582\tGLEAN\tCDS\t35\t385\t.\t-\t0\tParent=CGI_10000001;\tC16582\tfuzznuc\tnucleotide_motif\t93\t94\t2\t+\t.\tID=C16582.5;note=*pat pattern:CG\t1\r\n",
      "C16582\tGLEAN\tCDS\t35\t385\t.\t-\t0\tParent=CGI_10000001;\tC16582\tfuzznuc\tnucleotide_motif\t125\t126\t2\t+\t.\tID=C16582.6;note=*pat pattern:CG\t1\r\n",
      "C16582\tGLEAN\tCDS\t35\t385\t.\t-\t0\tParent=CGI_10000001;\tC16582\tfuzznuc\tnucleotide_motif\t177\t178\t2\t+\t.\tID=C16582.7;note=*pat pattern:CG\t1\r\n",
      "C16582\tGLEAN\tCDS\t35\t385\t.\t-\t0\tParent=CGI_10000001;\tC16582\tfuzznuc\tnucleotide_motif\t216\t217\t2\t+\t.\tID=C16582.8;note=*pat pattern:CG\t1\r\n",
      "C16582\tGLEAN\tCDS\t35\t385\t.\t-\t0\tParent=CGI_10000001;\tC16582\tfuzznuc\tnucleotide_motif\t257\t258\t2\t+\t.\tID=C16582.9;note=*pat pattern:CG\t1\r\n",
      "C16582\tGLEAN\tCDS\t35\t385\t.\t-\t0\tParent=CGI_10000001;\tC16582\tfuzznuc\tnucleotide_motif\t283\t284\t2\t+\t.\tID=C16582.10;note=*pat pattern:CG\t1\r\n"
     ]
    }
   ],
   "source": [
    "!head 2019-09-15-Exon-CGmotifs.txt"
   ]
  },
  {
   "cell_type": "markdown",
   "metadata": {},
   "source": [
    "#### Introns"
   ]
  },
  {
   "cell_type": "code",
   "execution_count": 40,
   "metadata": {
    "collapsed": false
   },
   "outputs": [
    {
     "name": "stdout",
     "output_type": "stream",
     "text": [
      "  150884\n",
      "Intron overlaps with CG motifs\n"
     ]
    }
   ],
   "source": [
    "!{bedtoolsDirectory}intersectBed \\\n",
    "-u \\\n",
    "-a {intronList} \\\n",
    "-b {CGMotifList} \\\n",
    "| wc -l\n",
    "!echo \"Intron overlaps with CG motifs\""
   ]
  },
  {
   "cell_type": "code",
   "execution_count": 41,
   "metadata": {
    "collapsed": true
   },
   "outputs": [],
   "source": [
    "! {bedtoolsDirectory}intersectBed \\\n",
    "-wo \\\n",
    "-a {intronList} \\\n",
    "-b {CGMotifList} \\\n",
    "> 2019-09-15-Intron-CGmotifs.txt"
   ]
  },
  {
   "cell_type": "code",
   "execution_count": 42,
   "metadata": {
    "collapsed": false
   },
   "outputs": [
    {
     "name": "stdout",
     "output_type": "stream",
     "text": [
      "C19392\tsubtractBed\tintrn\t184\t451\t.\t+\t.\tParent=CGI_10000015;\r",
      "\tC19392\tfuzznuc\tnucleotide_motif\t244\t245\t2\t+\t.\tID=C19392.6;note=*pat pattern:CG\t1\r\n",
      "C20262\tsubtractBed\tintrn\t650\t871\t.\t-\t.\tParent=CGI_10000025;\r",
      "\tC20262\tfuzznuc\tnucleotide_motif\t690\t691\t2\t+\t.\tID=C20262.40;note=*pat pattern:CG\t1\r\n",
      "C20262\tsubtractBed\tintrn\t650\t871\t.\t-\t.\tParent=CGI_10000025;\r",
      "\tC20262\tfuzznuc\tnucleotide_motif\t697\t698\t2\t+\t.\tID=C20262.41;note=*pat pattern:CG\t1\r\n",
      "C20262\tsubtractBed\tintrn\t650\t871\t.\t-\t.\tParent=CGI_10000025;\r",
      "\tC20262\tfuzznuc\tnucleotide_motif\t739\t740\t2\t+\t.\tID=C20262.42;note=*pat pattern:CG\t1\r\n",
      "C20262\tsubtractBed\tintrn\t650\t871\t.\t-\t.\tParent=CGI_10000025;\r",
      "\tC20262\tfuzznuc\tnucleotide_motif\t846\t847\t2\t+\t.\tID=C20262.43;note=*pat pattern:CG\t1\r\n",
      "C20262\tsubtractBed\tintrn\t650\t871\t.\t-\t.\tParent=CGI_10000025;\r",
      "\tC20262\tfuzznuc\tnucleotide_motif\t867\t868\t2\t+\t.\tID=C20262.44;note=*pat pattern:CG\t1\r\n",
      "C20334\tsubtractBed\tintrn\t524\t867\t.\t-\t.\tParent=CGI_10000028;\r",
      "\tC20334\tfuzznuc\tnucleotide_motif\t786\t787\t2\t+\t.\tID=C20334.7;note=*pat pattern:CG\t1\r\n",
      "C20334\tsubtractBed\tintrn\t524\t867\t.\t-\t.\tParent=CGI_10000028;\r",
      "\tC20334\tfuzznuc\tnucleotide_motif\t815\t816\t2\t+\t.\tID=C20334.8;note=*pat pattern:CG\t1\r\n",
      "C20412\tsubtractBed\tintrn\t215\t409\t.\t-\t.\tParent=CGI_10000029;\r",
      "\tC20412\tfuzznuc\tnucleotide_motif\t244\t245\t2\t+\t.\tID=C20412.5;note=*pat pattern:CG\t1\r\n",
      "C20412\tsubtractBed\tintrn\t215\t409\t.\t-\t.\tParent=CGI_10000029;\r",
      "\tC20412\tfuzznuc\tnucleotide_motif\t286\t287\t2\t+\t.\tID=C20412.6;note=*pat pattern:CG\t1\r\n"
     ]
    }
   ],
   "source": [
    "!head 2019-09-15-Intron-CGmotifs.txt"
   ]
  },
  {
   "cell_type": "markdown",
   "metadata": {},
   "source": [
    "#### Genes"
   ]
  },
  {
   "cell_type": "code",
   "execution_count": 43,
   "metadata": {
    "collapsed": false
   },
   "outputs": [
    {
     "name": "stdout",
     "output_type": "stream",
     "text": [
      "   28015\n",
      "gene overlaps with CG motifs\n"
     ]
    }
   ],
   "source": [
    "!{bedtoolsDirectory}intersectBed \\\n",
    "-u \\\n",
    "-a {geneList} \\\n",
    "-b {CGMotifList} \\\n",
    "| wc -l\n",
    "!echo \"gene overlaps with CG motifs\""
   ]
  },
  {
   "cell_type": "code",
   "execution_count": 44,
   "metadata": {
    "collapsed": false
   },
   "outputs": [],
   "source": [
    "! {bedtoolsDirectory}intersectBed \\\n",
    "-wo \\\n",
    "-a {geneList} \\\n",
    "-b {CGMotifList} \\\n",
    "> 2019-09-15-Genes-CGmotifs.txt"
   ]
  },
  {
   "cell_type": "code",
   "execution_count": 45,
   "metadata": {
    "collapsed": false,
    "scrolled": false
   },
   "outputs": [
    {
     "name": "stdout",
     "output_type": "stream",
     "text": [
      "C16582\tGLEAN\tmRNA\t35\t385\t0.555898\t-\t.\tID=CGI_10000001;\tC16582\tfuzznuc\tnucleotide_motif\t41\t42\t2\t+\t.\tID=C16582.1;note=*pat pattern:CG\t1\r\n",
      "C16582\tGLEAN\tmRNA\t35\t385\t0.555898\t-\t.\tID=CGI_10000001;\tC16582\tfuzznuc\tnucleotide_motif\t47\t48\t2\t+\t.\tID=C16582.2;note=*pat pattern:CG\t1\r\n",
      "C16582\tGLEAN\tmRNA\t35\t385\t0.555898\t-\t.\tID=CGI_10000001;\tC16582\tfuzznuc\tnucleotide_motif\t67\t68\t2\t+\t.\tID=C16582.3;note=*pat pattern:CG\t1\r\n",
      "C16582\tGLEAN\tmRNA\t35\t385\t0.555898\t-\t.\tID=CGI_10000001;\tC16582\tfuzznuc\tnucleotide_motif\t84\t85\t2\t+\t.\tID=C16582.4;note=*pat pattern:CG\t1\r\n",
      "C16582\tGLEAN\tmRNA\t35\t385\t0.555898\t-\t.\tID=CGI_10000001;\tC16582\tfuzznuc\tnucleotide_motif\t93\t94\t2\t+\t.\tID=C16582.5;note=*pat pattern:CG\t1\r\n",
      "C16582\tGLEAN\tmRNA\t35\t385\t0.555898\t-\t.\tID=CGI_10000001;\tC16582\tfuzznuc\tnucleotide_motif\t125\t126\t2\t+\t.\tID=C16582.6;note=*pat pattern:CG\t1\r\n",
      "C16582\tGLEAN\tmRNA\t35\t385\t0.555898\t-\t.\tID=CGI_10000001;\tC16582\tfuzznuc\tnucleotide_motif\t177\t178\t2\t+\t.\tID=C16582.7;note=*pat pattern:CG\t1\r\n",
      "C16582\tGLEAN\tmRNA\t35\t385\t0.555898\t-\t.\tID=CGI_10000001;\tC16582\tfuzznuc\tnucleotide_motif\t216\t217\t2\t+\t.\tID=C16582.8;note=*pat pattern:CG\t1\r\n",
      "C16582\tGLEAN\tmRNA\t35\t385\t0.555898\t-\t.\tID=CGI_10000001;\tC16582\tfuzznuc\tnucleotide_motif\t257\t258\t2\t+\t.\tID=C16582.9;note=*pat pattern:CG\t1\r\n",
      "C16582\tGLEAN\tmRNA\t35\t385\t0.555898\t-\t.\tID=CGI_10000001;\tC16582\tfuzznuc\tnucleotide_motif\t283\t284\t2\t+\t.\tID=C16582.10;note=*pat pattern:CG\t1\r\n"
     ]
    }
   ],
   "source": [
    "!head 2019-09-15-Genes-CGmotifs.txt"
   ]
  },
  {
   "cell_type": "markdown",
   "metadata": {},
   "source": [
    "#### Promoters"
   ]
  },
  {
   "cell_type": "code",
   "execution_count": 46,
   "metadata": {
    "collapsed": false
   },
   "outputs": [
    {
     "name": "stdout",
     "output_type": "stream",
     "text": [
      "    5696\n",
      "promoter overlaps with CG motifs\n"
     ]
    }
   ],
   "source": [
    "!{bedtoolsDirectory}intersectBed \\\n",
    "-u \\\n",
    "-a {geneList} \\\n",
    "-b {promoterList} \\\n",
    "| wc -l\n",
    "!echo \"promoter overlaps with CG motifs\""
   ]
  },
  {
   "cell_type": "code",
   "execution_count": 47,
   "metadata": {
    "collapsed": false
   },
   "outputs": [],
   "source": [
    "! {bedtoolsDirectory}intersectBed \\\n",
    "-wo \\\n",
    "-a {promoterList} \\\n",
    "-b {CGMotifList} \\\n",
    "> 2019-09-15-Promoter-CGmotifs.txt"
   ]
  },
  {
   "cell_type": "code",
   "execution_count": 48,
   "metadata": {
    "collapsed": false,
    "scrolled": true
   },
   "outputs": [
    {
     "name": "stdout",
     "output_type": "stream",
     "text": [
      "C17476\tflankbed\tpromoter\t258\t491\t.\t-\t.\tID=CGI_10000004;\r",
      "\tC17476\tfuzznuc\tnucleotide_motif\t291\t292\t2\t+\t.\tID=C17476.9;note=*pat pattern:CG\t1\r\n",
      "C17476\tflankbed\tpromoter\t258\t491\t.\t-\t.\tID=CGI_10000004;\r",
      "\tC17476\tfuzznuc\tnucleotide_motif\t389\t390\t2\t+\t.\tID=C17476.10;note=*pat pattern:CG\t1\r\n",
      "C17476\tflankbed\tpromoter\t258\t491\t.\t-\t.\tID=CGI_10000004;\r",
      "\tC17476\tfuzznuc\tnucleotide_motif\t391\t392\t2\t+\t.\tID=C17476.11;note=*pat pattern:CG\t1\r\n",
      "C17476\tflankbed\tpromoter\t258\t491\t.\t-\t.\tID=CGI_10000004;\r",
      "\tC17476\tfuzznuc\tnucleotide_motif\t398\t399\t2\t+\t.\tID=C17476.12;note=*pat pattern:CG\t1\r\n",
      "C17476\tflankbed\tpromoter\t258\t491\t.\t-\t.\tID=CGI_10000004;\r",
      "\tC17476\tfuzznuc\tnucleotide_motif\t414\t415\t2\t+\t.\tID=C17476.13;note=*pat pattern:CG\t1\r\n",
      "C17476\tflankbed\tpromoter\t258\t491\t.\t-\t.\tID=CGI_10000004;\r",
      "\tC17476\tfuzznuc\tnucleotide_motif\t439\t440\t2\t+\t.\tID=C17476.14;note=*pat pattern:CG\t1\r\n",
      "C17476\tflankbed\tpromoter\t258\t491\t.\t-\t.\tID=CGI_10000004;\r",
      "\tC17476\tfuzznuc\tnucleotide_motif\t455\t456\t2\t+\t.\tID=C17476.15;note=*pat pattern:CG\t1\r\n",
      "C17476\tflankbed\tpromoter\t258\t491\t.\t-\t.\tID=CGI_10000004;\r",
      "\tC17476\tfuzznuc\tnucleotide_motif\t460\t461\t2\t+\t.\tID=C17476.16;note=*pat pattern:CG\t1\r\n",
      "C17476\tflankbed\tpromoter\t258\t491\t.\t-\t.\tID=CGI_10000004;\r",
      "\tC17476\tfuzznuc\tnucleotide_motif\t469\t470\t2\t+\t.\tID=C17476.17;note=*pat pattern:CG\t1\r\n",
      "C17476\tflankbed\tpromoter\t258\t491\t.\t-\t.\tID=CGI_10000004;\r",
      "\tC17476\tfuzznuc\tnucleotide_motif\t488\t489\t2\t+\t.\tID=C17476.18;note=*pat pattern:CG\t1\r\n"
     ]
    }
   ],
   "source": [
    "!head 2019-09-15-Promoter-CGmotifs.txt"
   ]
  },
  {
   "cell_type": "markdown",
   "metadata": {},
   "source": [
    "#### Transposable Elements"
   ]
  },
  {
   "cell_type": "code",
   "execution_count": 49,
   "metadata": {
    "collapsed": false
   },
   "outputs": [
    {
     "name": "stdout",
     "output_type": "stream",
     "text": [
      "   82544\n",
      "Transposable element overlap with CG motifs\n"
     ]
    }
   ],
   "source": [
    "! {bedtoolsDirectory}intersectBed \\\n",
    "-u \\\n",
    "-a {transposableElements} \\\n",
    "-b {CGMotifList} \\\n",
    "| wc -l\n",
    "!echo \"Transposable element overlap with CG motifs\""
   ]
  },
  {
   "cell_type": "code",
   "execution_count": 50,
   "metadata": {
    "collapsed": true
   },
   "outputs": [],
   "source": [
    "! {bedtoolsDirectory}intersectBed \\\n",
    "-wo \\\n",
    "-a {transposableElements} \\\n",
    "-b {CGMotifList} \\\n",
    "> 2019-09-15-TE-CGmotifs.txt"
   ]
  },
  {
   "cell_type": "code",
   "execution_count": 51,
   "metadata": {
    "collapsed": false,
    "scrolled": true
   },
   "outputs": [
    {
     "name": "stdout",
     "output_type": "stream",
     "text": [
      "C21242\tTRF\tTandem_Repeat\t38\t100\t72\t+\t.\t.\tC21242\tfuzznuc\tnucleotide_motif\t48\t49\t2\t+\t.\tID=C21242.2;note=*pat pattern:CG\t1\r\n",
      "C21242\tTRF\tTandem_Repeat\t38\t100\t72\t+\t.\t.\tC21242\tfuzznuc\tnucleotide_motif\t57\t58\t2\t+\t.\tID=C21242.3;note=*pat pattern:CG\t1\r\n",
      "C21242\tTRF\tTandem_Repeat\t38\t100\t72\t+\t.\t.\tC21242\tfuzznuc\tnucleotide_motif\t70\t71\t2\t+\t.\tID=C21242.4;note=*pat pattern:CG\t1\r\n",
      "C21242\tTRF\tTandem_Repeat\t38\t100\t72\t+\t.\t.\tC21242\tfuzznuc\tnucleotide_motif\t79\t80\t2\t+\t.\tID=C21242.5;note=*pat pattern:CG\t1\r\n",
      "C21242\tTRF\tTandem_Repeat\t38\t100\t72\t+\t.\t.\tC21242\tfuzznuc\tnucleotide_motif\t92\t93\t2\t+\t.\tID=C21242.6;note=*pat pattern:CG\t1\r\n",
      "C21306\tTRF\tTandem_Repeat\t574\t947\t208\t+\t.\t.\tC21306\tfuzznuc\tnucleotide_motif\t664\t665\t2\t+\t.\tID=C21306.6;note=*pat pattern:CG\t1\r\n",
      "C21306\tTRF\tTandem_Repeat\t574\t947\t208\t+\t.\t.\tC21306\tfuzznuc\tnucleotide_motif\t799\t800\t2\t+\t.\tID=C21306.7;note=*pat pattern:CG\t1\r\n",
      "C21306\tTRF\tTandem_Repeat\t574\t947\t208\t+\t.\t.\tC21306\tfuzznuc\tnucleotide_motif\t904\t905\t2\t+\t.\tID=C21306.8;note=*pat pattern:CG\t1\r\n",
      "C21306\tTRF\tTandem_Repeat\t574\t901\t313\t+\t.\t.\tC21306\tfuzznuc\tnucleotide_motif\t664\t665\t2\t+\t.\tID=C21306.6;note=*pat pattern:CG\t1\r\n",
      "C21306\tTRF\tTandem_Repeat\t574\t901\t313\t+\t.\t.\tC21306\tfuzznuc\tnucleotide_motif\t799\t800\t2\t+\t.\tID=C21306.7;note=*pat pattern:CG\t1\r\n"
     ]
    }
   ],
   "source": [
    "!head 2019-09-15-TE-CGmotifs.txt"
   ]
  },
  {
   "cell_type": "markdown",
   "metadata": {},
   "source": [
    "#### No overlaps"
   ]
  },
  {
   "cell_type": "code",
   "execution_count": 52,
   "metadata": {
    "collapsed": false
   },
   "outputs": [
    {
     "name": "stdout",
     "output_type": "stream",
     "text": [
      " 5118363\n",
      "CG motifs do not overlap with exons, introns, transposable elements, or putative promoters\n"
     ]
    }
   ],
   "source": [
    "! {bedtoolsDirectory}intersectBed \\\n",
    "-v \\\n",
    "-a {CGMotifList} \\\n",
    "-b {exonList} {intronList} {transposableElements} {promoterList} \\\n",
    "| wc -l\n",
    "!echo \"CG motifs do not overlap with exons, introns, transposable elements, or putative promoters\""
   ]
  },
  {
   "cell_type": "code",
   "execution_count": 53,
   "metadata": {
    "collapsed": false
   },
   "outputs": [
    {
     "name": "stdout",
     "output_type": "stream",
     "text": [
      "/bin/sh: {bedtoolsDirectory}intersectBed: command not found\r\n"
     ]
    }
   ],
   "source": [
    "! {bedtoolsDirectory}intersectBed \\\n",
    "-v \\\n",
    "-a {CGMotifList} \\\n",
    "-b {exonList} {intronList} {transposableElementsAll} {promoterList} \\\n",
    "> 2019-09-15-No-Overlap-CGmotifs.txt"
   ]
  },
  {
   "cell_type": "code",
   "execution_count": 54,
   "metadata": {
    "collapsed": false,
    "scrolled": true
   },
   "outputs": [],
   "source": [
    "!head 2019-09-15-No-Overlap-CGmotifs.txt"
   ]
  },
  {
   "cell_type": "markdown",
   "metadata": {},
   "source": [
    "### 3b. Transposable Elements"
   ]
  },
  {
   "cell_type": "markdown",
   "metadata": {},
   "source": [
    "It's also good to know where transposable elements overlap with the other feature tracks."
   ]
  },
  {
   "cell_type": "markdown",
   "metadata": {},
   "source": [
    "#### Exons"
   ]
  },
  {
   "cell_type": "code",
   "execution_count": 55,
   "metadata": {
    "collapsed": false
   },
   "outputs": [
    {
     "name": "stdout",
     "output_type": "stream",
     "text": [
      "    2597\n",
      "Exon overlaps with transposable elements\n"
     ]
    }
   ],
   "source": [
    "! {bedtoolsDirectory}intersectBed \\\n",
    "-u \\\n",
    "-a {exonList} \\\n",
    "-b {transposableElements} \\\n",
    "| wc -l\n",
    "!echo \"Exon overlaps with transposable elements\""
   ]
  },
  {
   "cell_type": "code",
   "execution_count": 56,
   "metadata": {
    "collapsed": true
   },
   "outputs": [],
   "source": [
    "! {bedtoolsDirectory}intersectBed \\\n",
    "-wb \\\n",
    "-a {exonList} \\\n",
    "-b {transposableElements} \\\n",
    "> 2019-09-15-Exon-TE.txt"
   ]
  },
  {
   "cell_type": "code",
   "execution_count": 57,
   "metadata": {
    "collapsed": false
   },
   "outputs": [
    {
     "name": "stdout",
     "output_type": "stream",
     "text": [
      "C22430\tGLEAN\tCDS\t263\t493\t.\t+\t0\tParent=CGI_10000081;\tC22430\tWUBlastX\tDNA_TcMar-Tc2\t230\t493\t60\t+\t.\t.\r\n",
      "C23316\tGLEAN\tCDS\t929\t1111\t.\t-\t0\tParent=CGI_10000116;\tC23316\tWUBlastX\tLTR_Ngaro\t929\t1675\t117\t-\t.\t.\r\n",
      "C23316\tGLEAN\tCDS\t953\t1111\t.\t-\t0\tParent=CGI_10000116;\tC23316\tWUBlastX\tLTR_Ngaro\t953\t1489\t157\t-\t.\t.\r\n",
      "C23316\tGLEAN\tCDS\t644\t660\t.\t-\t0\tParent=CGI_10000116;\tC23316\tWUBlastX\tLTR_Ngaro\t547\t660\t32\t-\t.\t.\r\n",
      "C23734\tGLEAN\tCDS\t512\t712\t.\t-\t0\tParent=CGI_10000149;\tC23734\tWUBlastX\tLTR_Gypsy\t23\t724\t246\t-\t.\t.\r\n",
      "C23734\tGLEAN\tCDS\t512\t712\t.\t-\t0\tParent=CGI_10000149;\tC23734\tWUBlastX\tLTR_Gypsy\t26\t964\t217\t-\t.\t.\r\n",
      "C24320\tGLEAN\tCDS\t1545\t1904\t.\t-\t0\tParent=CGI_10000190;\tC24320\tWUBlastX\tLTR_ERV1\t1545\t1904\t27\t-\t.\t.\r\n",
      "C24604\tGLEAN\tCDS\t792\t989\t.\t-\t2\tParent=CGI_10000200;\tC24604\tWUBlastX\tDNA_MuDR\t792\t989\t42\t-\t.\t.\r\n",
      "C25496\tGLEAN\tCDS\t2006\t2074\t.\t+\t0\tParent=CGI_10000243;\tC25496\tWUBlastX\tLINE_CR1\t2006\t2536\t27\t+\t.\t.\r\n",
      "C26320\tGLEAN\tCDS\t2740\t2964\t.\t+\t0\tParent=CGI_10000297;\tC26320\tWUBlastX\tLINE_L2\t2710\t2964\t75\t+\t.\t.\r\n"
     ]
    }
   ],
   "source": [
    "!head 2019-09-15-Exon-TE.txt"
   ]
  },
  {
   "cell_type": "markdown",
   "metadata": {},
   "source": [
    "#### Introns"
   ]
  },
  {
   "cell_type": "code",
   "execution_count": 58,
   "metadata": {
    "collapsed": false
   },
   "outputs": [
    {
     "name": "stdout",
     "output_type": "stream",
     "text": [
      "   18989\n",
      "Intron overlaps with transposable elements\n"
     ]
    }
   ],
   "source": [
    "! {bedtoolsDirectory}intersectBed \\\n",
    "-u \\\n",
    "-a {intronList} \\\n",
    "-b {transposableElements} \\\n",
    "| wc -l\n",
    "!echo \"Intron overlaps with transposable elements\""
   ]
  },
  {
   "cell_type": "code",
   "execution_count": 59,
   "metadata": {
    "collapsed": true
   },
   "outputs": [],
   "source": [
    "! {bedtoolsDirectory}intersectBed \\\n",
    "-wb \\\n",
    "-a {intronList} \\\n",
    "-b {transposableElements} \\\n",
    "> 2019-09-15-Intron-TE.txt"
   ]
  },
  {
   "cell_type": "code",
   "execution_count": 60,
   "metadata": {
    "collapsed": false
   },
   "outputs": [
    {
     "name": "stdout",
     "output_type": "stream",
     "text": [
      "C26674\tsubtractBed\tintrn\t2430\t2483\t.\t+\t.\tParent=CGI_10000320;\r",
      "\tC26674\tTRF\tTandem_Repeat\t2430\t2483\t108\t+\t.\t.\r\n",
      "C26674\tsubtractBed\tintrn\t2860\t2913\t.\t+\t.\tParent=CGI_10000320;\r",
      "\tC26674\tTRF\tTandem_Repeat\t2860\t2913\t74\t+\t.\t.\r\n",
      "C26936\tsubtractBed\tintrn\t1323\t1346\t.\t-\t.\tParent=CGI_10000336;\r",
      "\tC26936\tWUBlastX\tLTR_Gypsy\t1323\t1346\t20\t-\t.\t.\r\n",
      "C26936\tsubtractBed\tintrn\t2202\t3359\t.\t-\t.\tParent=CGI_10000336;\r",
      "\tC26936\tWUBlastX\tLTR_Gypsy\t2202\t3359\t178\t-\t.\t.\r\n",
      "C26936\tsubtractBed\tintrn\t2205\t2915\t.\t-\t.\tParent=CGI_10000336;\r",
      "\tC26936\tWUBlastX\tLTR_Gypsy\t2205\t2915\t412\t-\t.\t.\r\n",
      "C26936\tsubtractBed\tintrn\t1613\t2275\t.\t-\t.\tParent=CGI_10000336;\r",
      "\tC26936\tWUBlastX\tLTR_Gypsy\t1613\t2275\t350\t-\t.\t.\r\n",
      "C26936\tsubtractBed\tintrn\t2271\t3059\t.\t-\t.\tParent=CGI_10000336;\r",
      "\tC26936\tWUBlastX\tLTR_Gypsy\t2271\t3059\t408\t-\t.\t.\r\n",
      "C26936\tsubtractBed\tintrn\t1484\t2260\t.\t-\t.\tParent=CGI_10000336;\r",
      "\tC26936\tWUBlastX\tLTR_Gypsy\t1484\t2260\t314\t-\t.\t.\r\n",
      "C26936\tsubtractBed\tintrn\t2271\t2831\t.\t-\t.\tParent=CGI_10000336;\r",
      "\tC26936\tWUBlastX\tLTR_Gypsy-Gmr1\t2271\t2831\t413\t-\t.\t.\r\n",
      "C28348\tsubtractBed\tintrn\t3411\t3479\t.\t-\t.\tParent=CGI_10000423;\r",
      "\tC28348\tWUBlastX\tLTR_Gypsy\t3411\t3479\t23\t+\t.\t.\r\n"
     ]
    }
   ],
   "source": [
    "!head 2019-09-15-Intron-TE.txt"
   ]
  },
  {
   "cell_type": "markdown",
   "metadata": {},
   "source": [
    "#### Genes"
   ]
  },
  {
   "cell_type": "code",
   "execution_count": 61,
   "metadata": {
    "collapsed": false
   },
   "outputs": [
    {
     "name": "stdout",
     "output_type": "stream",
     "text": [
      "   11748\n",
      "gene overlaps with transposable elements\n"
     ]
    }
   ],
   "source": [
    "! {bedtoolsDirectory}intersectBed \\\n",
    "-u \\\n",
    "-a {geneList} \\\n",
    "-b {transposableElements} \\\n",
    "| wc -l\n",
    "!echo \"gene overlaps with transposable elements\""
   ]
  },
  {
   "cell_type": "code",
   "execution_count": 62,
   "metadata": {
    "collapsed": true
   },
   "outputs": [],
   "source": [
    "! {bedtoolsDirectory}intersectBed \\\n",
    "-wb \\\n",
    "-a {geneList} \\\n",
    "-b {transposableElements} \\\n",
    "> 2019-09-15-Gene-TE.txt"
   ]
  },
  {
   "cell_type": "code",
   "execution_count": 63,
   "metadata": {
    "collapsed": false
   },
   "outputs": [
    {
     "name": "stdout",
     "output_type": "stream",
     "text": [
      "C22430\tGLEAN\tmRNA\t263\t493\t0.555898\t+\t.\tID=CGI_10000081;\tC22430\tWUBlastX\tDNA_TcMar-Tc2\t230\t493\t60\t+\t.\t.\r\n",
      "C23316\tGLEAN\tmRNA\t929\t1111\t0.999999\t-\t.\tID=CGI_10000116;\tC23316\tWUBlastX\tLTR_Ngaro\t929\t1675\t117\t-\t.\t.\r\n",
      "C23316\tGLEAN\tmRNA\t953\t1111\t0.999999\t-\t.\tID=CGI_10000116;\tC23316\tWUBlastX\tLTR_Ngaro\t953\t1489\t157\t-\t.\t.\r\n",
      "C23316\tGLEAN\tmRNA\t644\t660\t0.999999\t-\t.\tID=CGI_10000116;\tC23316\tWUBlastX\tLTR_Ngaro\t547\t660\t32\t-\t.\t.\r\n",
      "C23734\tGLEAN\tmRNA\t512\t712\t1\t-\t.\tID=CGI_10000149;\tC23734\tWUBlastX\tLTR_Gypsy\t23\t724\t246\t-\t.\t.\r\n",
      "C23734\tGLEAN\tmRNA\t512\t712\t1\t-\t.\tID=CGI_10000149;\tC23734\tWUBlastX\tLTR_Gypsy\t26\t964\t217\t-\t.\t.\r\n",
      "C24320\tGLEAN\tmRNA\t1545\t1904\t0.999372\t-\t.\tID=CGI_10000190;\tC24320\tWUBlastX\tLTR_ERV1\t1545\t1904\t27\t-\t.\t.\r\n",
      "C24604\tGLEAN\tmRNA\t792\t989\t0.997918\t-\t.\tID=CGI_10000200;\tC24604\tWUBlastX\tDNA_MuDR\t792\t989\t42\t-\t.\t.\r\n",
      "C25496\tGLEAN\tmRNA\t2006\t2074\t0.998748\t+\t.\tID=CGI_10000243;\tC25496\tWUBlastX\tLINE_CR1\t2006\t2536\t27\t+\t.\t.\r\n",
      "C26320\tGLEAN\tmRNA\t2740\t2964\t0.481188\t+\t.\tID=CGI_10000297;\tC26320\tWUBlastX\tLINE_L2\t2710\t2964\t75\t+\t.\t.\r\n"
     ]
    }
   ],
   "source": [
    "!head 2019-09-15-Gene-TE.txt"
   ]
  },
  {
   "cell_type": "markdown",
   "metadata": {},
   "source": [
    "#### Promoters"
   ]
  },
  {
   "cell_type": "code",
   "execution_count": 64,
   "metadata": {
    "collapsed": false
   },
   "outputs": [
    {
     "name": "stdout",
     "output_type": "stream",
     "text": [
      "    3966\n",
      "promoter overlaps with transposable elements\n"
     ]
    }
   ],
   "source": [
    "! {bedtoolsDirectory}intersectBed \\\n",
    "-u \\\n",
    "-a {promoterList} \\\n",
    "-b {transposableElements} \\\n",
    "| wc -l\n",
    "!echo \"promoter overlaps with transposable elements\""
   ]
  },
  {
   "cell_type": "code",
   "execution_count": 65,
   "metadata": {
    "collapsed": false
   },
   "outputs": [],
   "source": [
    "! {bedtoolsDirectory}intersectBed \\\n",
    "-wb \\\n",
    "-a {promoterList} \\\n",
    "-b {transposableElements} \\\n",
    "> 2019-09-15-Promoter-TE.txt"
   ]
  },
  {
   "cell_type": "code",
   "execution_count": 66,
   "metadata": {
    "collapsed": false,
    "scrolled": true
   },
   "outputs": [
    {
     "name": "stdout",
     "output_type": "stream",
     "text": [
      "C22430\tflankbed\tpromoter\t230\t262\t.\t+\t.\tID=CGI_10000081;\r",
      "\tC22430\tWUBlastX\tDNA_TcMar-Tc2\t230\t493\t60\t+\t.\t.\r\n",
      "C23316\tflankbed\tpromoter\t1112\t1675\t.\t-\t.\tID=CGI_10000116;\r",
      "\tC23316\tWUBlastX\tLTR_Ngaro\t929\t1675\t117\t-\t.\t.\r\n",
      "C23316\tflankbed\tpromoter\t1112\t1489\t.\t-\t.\tID=CGI_10000116;\r",
      "\tC23316\tWUBlastX\tLTR_Ngaro\t953\t1489\t157\t-\t.\t.\r\n",
      "C23734\tflankbed\tpromoter\t713\t724\t.\t-\t.\tID=CGI_10000149;\r",
      "\tC23734\tWUBlastX\tLTR_Gypsy\t23\t724\t246\t-\t.\t.\r\n",
      "C23734\tflankbed\tpromoter\t713\t964\t.\t-\t.\tID=CGI_10000149;\r",
      "\tC23734\tWUBlastX\tLTR_Gypsy\t26\t964\t217\t-\t.\t.\r\n",
      "C24608\tflankbed\tpromoter\t1276\t1998\t.\t-\t.\tID=CGI_10000201;\r",
      "\tC24608\tWUBlastX\tDNA_En-Spm\t1276\t2823\t1086\t-\t.\t.\r\n",
      "C25496\tflankbed\tpromoter\t1457\t1753\t.\t+\t.\tID=CGI_10000243;\r",
      "\tC25496\tWUBlastX\tLINE_L1\t1457\t1753\t124\t+\t.\t.\r\n",
      "C25496\tflankbed\tpromoter\t853\t1033\t.\t+\t.\tID=CGI_10000243;\r",
      "\tC25496\tWUBlastX\tLINE_CR1\t353\t1033\t105\t+\t.\t.\r\n",
      "C26320\tflankbed\tpromoter\t2710\t2739\t.\t+\t.\tID=CGI_10000297;\r",
      "\tC26320\tWUBlastX\tLINE_L2\t2710\t2964\t75\t+\t.\t.\r\n",
      "C26472\tflankbed\tpromoter\t536\t730\t.\t-\t.\tID=CGI_10000305;\r",
      "\tC26472\tWUBlastX\tLTR_Pao\t173\t730\t39\t-\t.\t.\r\n"
     ]
    }
   ],
   "source": [
    "!head 2019-09-15-Promoter-TE.txt"
   ]
  },
  {
   "cell_type": "code",
   "execution_count": null,
   "metadata": {
    "collapsed": true
   },
   "outputs": [],
   "source": []
  }
 ],
 "metadata": {
  "anaconda-cloud": {},
  "kernelspec": {
   "display_name": "Python [default]",
   "language": "python",
   "name": "python3"
  },
  "language_info": {
   "codemirror_mode": {
    "name": "ipython",
    "version": 3
   },
   "file_extension": ".py",
   "mimetype": "text/x-python",
   "name": "python",
   "nbconvert_exporter": "python",
   "pygments_lexer": "ipython3",
   "version": "3.5.2"
  }
 },
 "nbformat": 4,
 "nbformat_minor": 1
}
