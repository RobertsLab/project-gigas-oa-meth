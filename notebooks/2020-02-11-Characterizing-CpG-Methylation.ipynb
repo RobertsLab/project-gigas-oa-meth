{
 "cells": [
  {
   "cell_type": "markdown",
   "metadata": {},
   "source": [
    "# Characterizing CpG Methylation"
   ]
  },
  {
   "cell_type": "markdown",
   "metadata": {},
   "source": [
    "To describe general metylation trends, irrespective of pCO<sub>2</sub> treatment in *C. virginica* gonad sequence data, I need to characterize individual CpG loci. Gavery and Roberts (2013) and Olson and Roberts (2013) define a CpG locus as methylated if at least half of the reads remained unconverted after bisulfite treatment. I will creat a master `.cov` file to identify methylated CpG loci.\n",
    "\n",
    "Another thing I will do is identify methylation islands by replicating [Jeong et al. 2018](https://academic.oup.com/gbe/article/10/10/2766/5098531). I will use [their script](https://github.com/soojinyilab/Methylation-Islands) but modify parameters to reflect differences in insect and *C. virginica* methylation.\n",
    "\n",
    "1. Create master coverage file\n",
    "2. Limit to 10x coverage\n",
    "3. Characterize methylation levels for loci\n",
    "4. Characterize loci locations\n",
    "5. Identify methylation islands"
   ]
  },
  {
   "cell_type": "markdown",
   "metadata": {},
   "source": [
    "## 0. Prepare for analyses"
   ]
  },
  {
   "cell_type": "markdown",
   "metadata": {},
   "source": [
    "## 0a. Set working directory"
   ]
  },
  {
   "cell_type": "code",
   "execution_count": 1,
   "metadata": {
    "collapsed": false
   },
   "outputs": [
    {
     "data": {
      "text/plain": [
       "'/Users/yaamini/Documents/project-gigas-oa-meth/notebooks'"
      ]
     },
     "execution_count": 1,
     "metadata": {},
     "output_type": "execute_result"
    }
   ],
   "source": [
    "pwd"
   ]
  },
  {
   "cell_type": "code",
   "execution_count": 2,
   "metadata": {
    "collapsed": false
   },
   "outputs": [
    {
     "name": "stdout",
     "output_type": "stream",
     "text": [
      "/Users/yaamini/Documents/project-gigas-oa-meth/analyses\n"
     ]
    }
   ],
   "source": [
    "cd ../analyses/"
   ]
  },
  {
   "cell_type": "code",
   "execution_count": 3,
   "metadata": {
    "collapsed": true
   },
   "outputs": [],
   "source": [
    "!mkdir 2020-02-11-Characterizing-CpG-Methylation"
   ]
  },
  {
   "cell_type": "code",
   "execution_count": 3,
   "metadata": {
    "collapsed": false,
    "scrolled": true
   },
   "outputs": [
    {
     "name": "stdout",
     "output_type": "stream",
     "text": [
      "/Users/yaamini/Documents/project-gigas-oa-meth/analyses/2020-02-11-Characterizing-CpG-Methylation\n"
     ]
    }
   ],
   "source": [
    "cd 2020-02-11-Characterizing-CpG-Methylation"
   ]
  },
  {
   "cell_type": "markdown",
   "metadata": {},
   "source": [
    "## 1. Create master coverage file"
   ]
  },
  {
   "cell_type": "markdown",
   "metadata": {},
   "source": [
    "Coverage files were previously downloaded in [this Jupyter notebook](https://github.com/RobertsLab/project-gigas-oa-meth/blob/master/notebooks/2019-09-13-Generating-Coverage-Tracks.ipynb)."
   ]
  },
  {
   "cell_type": "code",
   "execution_count": 5,
   "metadata": {
    "collapsed": false
   },
   "outputs": [
    {
     "name": "stdout",
     "output_type": "stream",
     "text": [
      "C12722\t104\t104\t33.3333333333333\t1\t2\r\n"
     ]
    }
   ],
   "source": [
    "#See what the file looks like. \n",
    "#Columns: <chromosome> <start position> <end position> <methylation percentage> <count methylated> <count unmethylated>\n",
    "!head -n 1 ../2019-09-13-IGV-Verification/YRVA_R1_001_bismark_bt2_pe.deduplicated.bismark.cov"
   ]
  },
  {
   "cell_type": "code",
   "execution_count": 6,
   "metadata": {
    "collapsed": true
   },
   "outputs": [],
   "source": [
    "%%bash\n",
    "\n",
    "for f in ../2019-09-13-IGV-Verification/*cov\n",
    "do\n",
    "  awk '{print $1\"-\"$2\"\\t\"$1\"\\t\"$2\"\\t\"$3\"\\t\"$4\"\\t\"$5\"\\t\"$6}' ${f} \\\n",
    "  | sort -k1,1 \\\n",
    "  > ${f}.sorted\n",
    "done"
   ]
  },
  {
   "cell_type": "code",
   "execution_count": 7,
   "metadata": {
    "collapsed": false
   },
   "outputs": [
    {
     "name": "stdout",
     "output_type": "stream",
     "text": [
      "C12722-104\tC12722\t104\t104\t33.3333333333333\t1\t2\r\n",
      "C12722-105\tC12722\t105\t105\t0\t0\t1\r\n",
      "C12722-134\tC12722\t134\t134\t33.3333333333333\t1\t2\r\n",
      "C12722-135\tC12722\t135\t135\t0\t0\t1\r\n",
      "C12722-154\tC12722\t154\t154\t0\t0\t3\r\n",
      "C12722-155\tC12722\t155\t155\t0\t0\t1\r\n",
      "C12722-164\tC12722\t164\t164\t0\t0\t1\r\n",
      "C12734-137\tC12734\t137\t137\t0\t0\t2\r\n",
      "C12734-178\tC12734\t178\t178\t0\t0\t1\r\n",
      "C12734-179\tC12734\t179\t179\t0\t0\t2\r\n"
     ]
    }
   ],
   "source": [
    "!head ../2019-09-13-IGV-Verification/YRVA_R1_001_bismark_bt2_pe.deduplicated.bismark.cov.sorted"
   ]
  },
  {
   "cell_type": "code",
   "execution_count": 8,
   "metadata": {
    "collapsed": false
   },
   "outputs": [],
   "source": [
    "#Join the first column in the first file with the first column in the second file\n",
    "#The files are tab delimited, and the output should also be tab delimited (-t $'\\t')\n",
    "#Print unpairable lines in file 1 (-a1) and 2 (-a2) to simulate an outer join. Replace empty fields with 0 (-e) and only print the following fields (-o)\n",
    "#Convert - to \\t to uncouple the chromosome and start position\n",
    "!join -1 1 -2 1 \\\n",
    "-t $'\\t' \\\n",
    "-a1 -a2 -e 0 -o '0,1.5,1.6,1.7,2.5,2.6,2.7' \\\n",
    "../2019-09-13-IGV-Verification/YRVA_R1_001_bismark_bt2_pe.deduplicated.bismark.cov.sorted \\\n",
    "../2019-09-13-IGV-Verification/YRVL_R1_001_bismark_bt2_pe.deduplicated.bismark.cov.sorted \\\n",
    "| tr '-' \"\\t\" > cgigas_gonad-10x_raw.cov"
   ]
  },
  {
   "cell_type": "code",
   "execution_count": 9,
   "metadata": {
    "collapsed": false
   },
   "outputs": [
    {
     "name": "stdout",
     "output_type": "stream",
     "text": [
      "C12722\t104\t33.3333333333333\t1\t2\t0\t0\t0\r\n",
      "C12722\t105\t0\t0\t1\t0\t0\t0\r\n",
      "C12722\t134\t33.3333333333333\t1\t2\t0\t0\t0\r\n",
      "C12722\t135\t0\t0\t1\t0\t0\t0\r\n",
      "C12722\t154\t0\t0\t3\t0\t0\t0\r\n",
      "C12722\t155\t0\t0\t1\t0\t0\t0\r\n",
      "C12722\t164\t0\t0\t1\t0\t0\t0\r\n",
      "C12734\t136\t0\t0\t0\t0\t0\t2\r\n",
      "C12734\t137\t0\t0\t2\t0\t0\t0\r\n",
      "C12734\t178\t0\t0\t1\t100\t1\t0\r\n"
     ]
    }
   ],
   "source": [
    "#Check join output after conversion\n",
    "!head cgigas_gonad-10x_raw.cov"
   ]
  },
  {
   "cell_type": "code",
   "execution_count": 23,
   "metadata": {
    "collapsed": true
   },
   "outputs": [],
   "source": [
    "#Calculate total count methylated and unmethylated for each locus\n",
    "#Sum number of reads at each locus\n",
    "#Calculating revised methylation percentage for each locus\n",
    "#Multiply percentages by 100\n",
    "!awk '{ print $1\"\\t\"$2\"\\t\"$2\"\\t\"$4+$7\"\\t\"$5+$8}' cgigas_gonad-10x_raw.cov \\\n",
    "| awk '{ print $1\"\\t\"$2\"\\t\"$3\"\\t\"$4+$5\"\\t\"$4\"\\t\"$5}' \\\n",
    "| awk '{ print $1\"\\t\"$2\"\\t\"$3\"\\t\"$5/$4\"\\t\"$5\"\\t\"$6}' \\\n",
    "| awk '{ print $1\"\\t\"$2\"\\t\"$3\"\\t\"$4*100\"\\t\"$5\"\\t\"$6}' \\\n",
    "> cgigas_gonad-10x_concat.cov"
   ]
  },
  {
   "cell_type": "code",
   "execution_count": 24,
   "metadata": {
    "collapsed": false
   },
   "outputs": [
    {
     "name": "stdout",
     "output_type": "stream",
     "text": [
      "C12722\t104\t104\t33.3333\t1\t2\r\n",
      "C12722\t105\t105\t0\t0\t1\r\n",
      "C12722\t134\t134\t33.3333\t1\t2\r\n",
      "C12722\t135\t135\t0\t0\t1\r\n",
      "C12722\t154\t154\t0\t0\t3\r\n",
      "C12722\t155\t155\t0\t0\t1\r\n",
      "C12722\t164\t164\t0\t0\t1\r\n",
      "C12734\t136\t136\t0\t0\t2\r\n",
      "C12734\t137\t137\t0\t0\t2\r\n",
      "C12734\t178\t178\t50\t1\t1\r\n"
     ]
    }
   ],
   "source": [
    "#Check final concatenated file\n",
    "!head cgigas_gonad-10x_concat.cov"
   ]
  },
  {
   "cell_type": "code",
   "execution_count": 25,
   "metadata": {
    "collapsed": false
   },
   "outputs": [
    {
     "name": "stdout",
     "output_type": "stream",
     "text": [
      " 18793411\r\n"
     ]
    }
   ],
   "source": [
    "#See how many loci have data\n",
    "!awk '{if ($5+$6 >= 1) { print $1, $2-1, $3, $4, $5+$6}}' cgigas_gonad-10x_concat.cov \\\n",
    "| wc -l"
   ]
  },
  {
   "cell_type": "markdown",
   "metadata": {},
   "source": [
    "## 2. Limit to 10x coverage"
   ]
  },
  {
   "cell_type": "code",
   "execution_count": 26,
   "metadata": {
    "collapsed": false
   },
   "outputs": [],
   "source": [
    "#If total coverage (count methylated + unmethylated) is greater than 10\n",
    "#then print the chromosome, start pos -1, stop pos, percent methylation, and total coverage\n",
    "#Save output as new file\n",
    "!awk '{if ($5+$6 >= 10) { print $1, $2-1, $3, $4, $5+$6}}' cgigas_gonad-10x_concat.cov \\\n",
    "> 2020-02-11-All-10x-CpGs.bedgraph"
   ]
  },
  {
   "cell_type": "code",
   "execution_count": 27,
   "metadata": {
    "collapsed": false
   },
   "outputs": [
    {
     "name": "stdout",
     "output_type": "stream",
     "text": [
      "C12838 107 108 36.3636 11\r\n",
      "C12838 155 156 20 10\r\n",
      "C12838 60 61 27.2727 11\r\n",
      "C12838 64 65 54.5455 11\r\n",
      "C12838 82 83 45.4545 11\r\n",
      "C12924 102 103 4.7619 21\r\n",
      "C12924 127 128 5 20\r\n",
      "C12924 136 137 14.2857 21\r\n",
      "C12924 185 186 0 14\r\n",
      "C12924 19 20 40 15\r\n"
     ]
    }
   ],
   "source": [
    "#Check columns for one of the file: <chromosome> <start position> <stop position> <percent methylation> <coverage>\n",
    "!head 2020-02-11-All-10x-CpGs.bedgraph"
   ]
  },
  {
   "cell_type": "code",
   "execution_count": 28,
   "metadata": {
    "collapsed": false
   },
   "outputs": [
    {
     "name": "stdout",
     "output_type": "stream",
     "text": [
      " 12728174 2020-02-11-All-10x-CpGs.bedgraph\r\n"
     ]
    }
   ],
   "source": [
    "#Count loci with 5x coverage\n",
    "!wc -l 2020-02-11-All-10x-CpGs.bedgraph"
   ]
  },
  {
   "cell_type": "code",
   "execution_count": 29,
   "metadata": {
    "collapsed": true
   },
   "outputs": [],
   "source": [
    "#Replace delimiters to save .bedgraph as .csv\n",
    "!awk '{print $1\",\"$2\",\"$3\",\"$4 }' 2020-02-11-All-10x-CpGs.bedgraph \\\n",
    "> 2020-02-11-All-10x-CpGs.csv"
   ]
  },
  {
   "cell_type": "code",
   "execution_count": 30,
   "metadata": {
    "collapsed": false
   },
   "outputs": [
    {
     "name": "stdout",
     "output_type": "stream",
     "text": [
      "C12838,107,108,36.3636\r\n",
      "C12838,155,156,20\r\n",
      "C12838,60,61,27.2727\r\n",
      "C12838,64,65,54.5455\r\n",
      "C12838,82,83,45.4545\r\n",
      "C12924,102,103,4.7619\r\n",
      "C12924,127,128,5\r\n",
      "C12924,136,137,14.2857\r\n",
      "C12924,185,186,0\r\n",
      "C12924,19,20,40\r\n"
     ]
    }
   ],
   "source": [
    "#Confirm .csv creation\n",
    "!head 2020-02-11-All-10x-CpGs.csv"
   ]
  },
  {
   "cell_type": "markdown",
   "metadata": {},
   "source": [
    "## 3. Characterize methylation levels for loci"
   ]
  },
  {
   "cell_type": "markdown",
   "metadata": {},
   "source": [
    "Olson and Roberts (2014) define the following categories for CpG methylation:\n",
    "\n",
    "- Methylated (50% methylation and above)\n",
    "- Sparsely methylated (0-50% methylated)\n",
    "- Unmethylated (0% methylation)\n",
    "\n",
    "I will modify this slightly:\n",
    "\n",
    "- Methylated (50% methylation and above)\n",
    "- Sparsely methylated (10-50% methylated)\n",
    "- Unmethylated (10% methylation and below)"
   ]
  },
  {
   "cell_type": "markdown",
   "metadata": {},
   "source": [
    "### 3a. Methylated loci"
   ]
  },
  {
   "cell_type": "code",
   "execution_count": 31,
   "metadata": {
    "collapsed": true
   },
   "outputs": [],
   "source": [
    "#If percent methylation is greater or equal to 50, then save the loci information\n",
    "!awk '{if ($4 >= 50) { print $1, $2, $3, $4 }}' 2020-02-11-All-10x-CpGs.bedgraph \\\n",
    "> 2020-02-11-All-10x-CpG-Loci-Methylated.bedgraph"
   ]
  },
  {
   "cell_type": "code",
   "execution_count": 32,
   "metadata": {
    "collapsed": false
   },
   "outputs": [
    {
     "name": "stdout",
     "output_type": "stream",
     "text": [
      "C12838 64 65 54.5455\r\n",
      "C13892 73 74 75\r\n",
      "C14282 69 70 69.2308\r\n",
      "C14386 66 67 63.6364\r\n",
      "C14454 42 43 60\r\n",
      "C14614 106 107 53.8462\r\n",
      "C14796 68 69 80\r\n",
      "C14796 69 70 70.8333\r\n",
      "C14868 141 142 52\r\n",
      "C14940 160 161 53.8462\r\n"
     ]
    }
   ],
   "source": [
    "#Confirm methylated loci were saved\n",
    "!head 2020-02-11-All-10x-CpG-Loci-Methylated.bedgraph"
   ]
  },
  {
   "cell_type": "code",
   "execution_count": 33,
   "metadata": {
    "collapsed": false
   },
   "outputs": [
    {
     "name": "stdout",
     "output_type": "stream",
     "text": [
      " 1677041 2020-02-11-All-10x-CpG-Loci-Methylated.bedgraph\r\n"
     ]
    }
   ],
   "source": [
    "#Count methylated loci\n",
    "!wc -l 2020-02-11-All-10x-CpG-Loci-Methylated.bedgraph"
   ]
  },
  {
   "cell_type": "code",
   "execution_count": 34,
   "metadata": {
    "collapsed": false
   },
   "outputs": [],
   "source": [
    "#Replace delimiters to save .bedgraph as .csv\n",
    "!awk '{print $1\",\"$2\",\"$3\",\"$4 }' 2020-02-11-All-10x-CpG-Loci-Methylated.bedgraph \\\n",
    "> 2020-02-11-All-10x-CpG-Loci-Methylated.csv"
   ]
  },
  {
   "cell_type": "code",
   "execution_count": 35,
   "metadata": {
    "collapsed": false
   },
   "outputs": [
    {
     "name": "stdout",
     "output_type": "stream",
     "text": [
      "C12838,64,65,54.5455\r\n",
      "C13892,73,74,75\r\n",
      "C14282,69,70,69.2308\r\n",
      "C14386,66,67,63.6364\r\n",
      "C14454,42,43,60\r\n",
      "C14614,106,107,53.8462\r\n",
      "C14796,68,69,80\r\n",
      "C14796,69,70,70.8333\r\n",
      "C14868,141,142,52\r\n",
      "C14940,160,161,53.8462\r\n"
     ]
    }
   ],
   "source": [
    "#Check .csv was saved\n",
    "!head 2020-02-11-All-10x-CpG-Loci-Methylated.csv"
   ]
  },
  {
   "cell_type": "markdown",
   "metadata": {},
   "source": [
    "### 3b. Sparsely methylated loci"
   ]
  },
  {
   "cell_type": "code",
   "execution_count": 36,
   "metadata": {
    "collapsed": false
   },
   "outputs": [],
   "source": [
    "%%bash\n",
    "awk '{if ($4 < 50) { print $1, $2, $3, $4}}' 2020-02-11-All-10x-CpGs.bedgraph \\\n",
    "| awk '{if ($4 > 10) { print $1, $2, $3, $4 }}' \\\n",
    "> 2020-02-11-All-10x-CpG-Loci-Sparsely-Methylated.bedgraph"
   ]
  },
  {
   "cell_type": "code",
   "execution_count": 37,
   "metadata": {
    "collapsed": false
   },
   "outputs": [
    {
     "name": "stdout",
     "output_type": "stream",
     "text": [
      "C12838 107 108 36.3636\r\n",
      "C12838 155 156 20\r\n",
      "C12838 60 61 27.2727\r\n",
      "C12838 82 83 45.4545\r\n",
      "C12924 136 137 14.2857\r\n",
      "C12924 19 20 40\r\n",
      "C12924 30 31 15.7895\r\n",
      "C12924 38 39 14.2857\r\n",
      "C12942 103 104 18.1818\r\n",
      "C12942 114 115 18.1818\r\n"
     ]
    }
   ],
   "source": [
    "#Confirm sparsely methylated loci were saved\n",
    "!head 2020-02-11-All-10x-CpG-Loci-Sparsely-Methylated.bedgraph"
   ]
  },
  {
   "cell_type": "code",
   "execution_count": 38,
   "metadata": {
    "collapsed": false
   },
   "outputs": [
    {
     "name": "stdout",
     "output_type": "stream",
     "text": [
      " 2267700 2020-02-11-All-10x-CpG-Loci-Sparsely-Methylated.bedgraph\r\n"
     ]
    }
   ],
   "source": [
    "#Count sparsely methylated loci\n",
    "!wc -l 2020-02-11-All-10x-CpG-Loci-Sparsely-Methylated.bedgraph"
   ]
  },
  {
   "cell_type": "markdown",
   "metadata": {},
   "source": [
    "### 3c. Unmethylated loci"
   ]
  },
  {
   "cell_type": "code",
   "execution_count": 39,
   "metadata": {
    "collapsed": true
   },
   "outputs": [],
   "source": [
    "!awk '{if ($4 <= 10) { print $1, $2, $3, $4 }}' 2020-02-11-All-10x-CpGs.bedgraph \\\n",
    "> 2020-02-11-All-10x-CpG-Loci-Unmethylated.bedgraph"
   ]
  },
  {
   "cell_type": "code",
   "execution_count": 40,
   "metadata": {
    "collapsed": false
   },
   "outputs": [
    {
     "name": "stdout",
     "output_type": "stream",
     "text": [
      "C12924 102 103 4.7619\r\n",
      "C12924 127 128 5\r\n",
      "C12924 185 186 0\r\n",
      "C12924 52 53 0\r\n",
      "C12924 60 61 4.7619\r\n",
      "C12924 94 95 5\r\n",
      "C12942 71 72 9.09091\r\n",
      "C12950 124 125 0\r\n",
      "C12950 125 126 0\r\n",
      "C12950 17 18 0\r\n"
     ]
    }
   ],
   "source": [
    "#Confirm unmethylated loci were saved\n",
    "!head 2020-02-11-All-10x-CpG-Loci-Unmethylated.bedgraph"
   ]
  },
  {
   "cell_type": "code",
   "execution_count": 41,
   "metadata": {
    "collapsed": false
   },
   "outputs": [
    {
     "name": "stdout",
     "output_type": "stream",
     "text": [
      " 8783433 2020-02-11-All-10x-CpG-Loci-Unmethylated.bedgraph\r\n"
     ]
    }
   ],
   "source": [
    "#Count unmethylated loci\n",
    "!wc -l 2020-02-11-All-10x-CpG-Loci-Unmethylated.bedgraph"
   ]
  },
  {
   "cell_type": "markdown",
   "metadata": {},
   "source": [
    "## 4. Characterize loci locations"
   ]
  },
  {
   "cell_type": "markdown",
   "metadata": {},
   "source": [
    "My final step is to characterize the location of various loci categories in the genome. I will use `intersectBed` to find overlaps between all 5x CpGs, methylated loci, sparsely methylated loci, and unmethylated loci with exons, introns, mRNA coding regions, transposable elements, and putative promoter regions."
   ]
  },
  {
   "cell_type": "markdown",
   "metadata": {},
   "source": [
    "### 4a. Create `.bed` files"
   ]
  },
  {
   "cell_type": "markdown",
   "metadata": {},
   "source": [
    "#### All 10x CpGs"
   ]
  },
  {
   "cell_type": "code",
   "execution_count": 42,
   "metadata": {
    "collapsed": false
   },
   "outputs": [],
   "source": [
    "%%bash\n",
    "awk '{print $1\"\\t\"$2\"\\t\"$3}' 2020-02-11-All-10x-CpGs.bedgraph \\\n",
    "> 2020-02-11-All-10x-CpGs.bed"
   ]
  },
  {
   "cell_type": "code",
   "execution_count": 43,
   "metadata": {
    "collapsed": false,
    "scrolled": true
   },
   "outputs": [
    {
     "name": "stdout",
     "output_type": "stream",
     "text": [
      "C12838\t107\t108\r\n",
      "C12838\t155\t156\r\n",
      "C12838\t60\t61\r\n",
      "C12838\t64\t65\r\n",
      "C12838\t82\t83\r\n",
      "C12924\t102\t103\r\n",
      "C12924\t127\t128\r\n",
      "C12924\t136\t137\r\n",
      "C12924\t185\t186\r\n",
      "C12924\t19\t20\r\n"
     ]
    }
   ],
   "source": [
    "#Confirm file creation\n",
    "!head 2020-02-11-All-10x-CpGs.bed"
   ]
  },
  {
   "cell_type": "markdown",
   "metadata": {},
   "source": [
    "#### Methylated loci"
   ]
  },
  {
   "cell_type": "code",
   "execution_count": 44,
   "metadata": {
    "collapsed": false
   },
   "outputs": [],
   "source": [
    "%%bash\n",
    "awk '{print $1\"\\t\"$2\"\\t\"$3}' 2020-02-11-All-10x-CpG-Loci-Methylated.bedgraph \\\n",
    "> 2020-02-11-All-10x-CpG-Loci-Methylated.bed"
   ]
  },
  {
   "cell_type": "code",
   "execution_count": 45,
   "metadata": {
    "collapsed": false,
    "scrolled": true
   },
   "outputs": [
    {
     "name": "stdout",
     "output_type": "stream",
     "text": [
      "C12838\t64\t65\r\n",
      "C13892\t73\t74\r\n",
      "C14282\t69\t70\r\n",
      "C14386\t66\t67\r\n",
      "C14454\t42\t43\r\n",
      "C14614\t106\t107\r\n",
      "C14796\t68\t69\r\n",
      "C14796\t69\t70\r\n",
      "C14868\t141\t142\r\n",
      "C14940\t160\t161\r\n"
     ]
    }
   ],
   "source": [
    "#Confirm file creation\n",
    "!head 2020-02-11-All-10x-CpG-Loci-Methylated.bed"
   ]
  },
  {
   "cell_type": "markdown",
   "metadata": {},
   "source": [
    "#### Sparsely methylated loci"
   ]
  },
  {
   "cell_type": "code",
   "execution_count": 46,
   "metadata": {
    "collapsed": true
   },
   "outputs": [],
   "source": [
    "%%bash\n",
    "awk '{print $1\"\\t\"$2\"\\t\"$3}' 2020-02-11-All-10x-CpG-Loci-Sparsely-Methylated.bedgraph \\\n",
    "> 2020-02-11-All-10x-CpG-Loci-Sparsely-Methylated.bed"
   ]
  },
  {
   "cell_type": "code",
   "execution_count": 47,
   "metadata": {
    "collapsed": false
   },
   "outputs": [
    {
     "name": "stdout",
     "output_type": "stream",
     "text": [
      "C12838\t107\t108\r\n",
      "C12838\t155\t156\r\n",
      "C12838\t60\t61\r\n",
      "C12838\t82\t83\r\n",
      "C12924\t136\t137\r\n",
      "C12924\t19\t20\r\n",
      "C12924\t30\t31\r\n",
      "C12924\t38\t39\r\n",
      "C12942\t103\t104\r\n",
      "C12942\t114\t115\r\n"
     ]
    }
   ],
   "source": [
    "#Confirm file creation\n",
    "!head 2020-02-11-All-10x-CpG-Loci-Sparsely-Methylated.bed"
   ]
  },
  {
   "cell_type": "markdown",
   "metadata": {},
   "source": [
    "#### Unmethylated loci"
   ]
  },
  {
   "cell_type": "code",
   "execution_count": 48,
   "metadata": {
    "collapsed": true
   },
   "outputs": [],
   "source": [
    "%%bash\n",
    "awk '{print $1\"\\t\"$2\"\\t\"$3}' 2020-02-11-All-10x-CpG-Loci-Unmethylated.bedgraph \\\n",
    "> 2020-02-11-All-10x-CpG-Loci-Unmethylated.bed"
   ]
  },
  {
   "cell_type": "code",
   "execution_count": 49,
   "metadata": {
    "collapsed": false
   },
   "outputs": [
    {
     "name": "stdout",
     "output_type": "stream",
     "text": [
      "C12924\t102\t103\r\n",
      "C12924\t127\t128\r\n",
      "C12924\t185\t186\r\n",
      "C12924\t52\t53\r\n",
      "C12924\t60\t61\r\n",
      "C12924\t94\t95\r\n",
      "C12942\t71\t72\r\n",
      "C12950\t124\t125\r\n",
      "C12950\t125\t126\r\n",
      "C12950\t17\t18\r\n"
     ]
    }
   ],
   "source": [
    "#Confirm file creation\n",
    "!head 2020-02-11-All-10x-CpG-Loci-Unmethylated.bed"
   ]
  },
  {
   "cell_type": "markdown",
   "metadata": {},
   "source": [
    "### 4b. Set variable paths"
   ]
  },
  {
   "cell_type": "code",
   "execution_count": 50,
   "metadata": {
    "collapsed": true
   },
   "outputs": [],
   "source": [
    "bedtoolsDirectory = \"/Users/Shared/bioinformatics/bedtools2/bin/\""
   ]
  },
  {
   "cell_type": "code",
   "execution_count": 51,
   "metadata": {
    "collapsed": true
   },
   "outputs": [],
   "source": [
    "all10xCpGs = \"2020-02-11-All-10x-CpGs.bed\""
   ]
  },
  {
   "cell_type": "code",
   "execution_count": 52,
   "metadata": {
    "collapsed": true
   },
   "outputs": [],
   "source": [
    "methylatedLoci = \"2020-02-11-All-10x-CpG-Loci-Methylated.bed\""
   ]
  },
  {
   "cell_type": "code",
   "execution_count": 53,
   "metadata": {
    "collapsed": true
   },
   "outputs": [],
   "source": [
    "sparselyMethylatedLoci = \"2020-02-11-All-10x-CpG-Loci-Sparsely-Methylated.bed\""
   ]
  },
  {
   "cell_type": "code",
   "execution_count": 54,
   "metadata": {
    "collapsed": true
   },
   "outputs": [],
   "source": [
    "unmethylatedLoci = \"2020-02-11-All-10x-CpG-Loci-Unmethylated.bed\""
   ]
  },
  {
   "cell_type": "code",
   "execution_count": 55,
   "metadata": {
    "collapsed": true
   },
   "outputs": [],
   "source": [
    "exonList = \"../2019-09-15-DML-Analysis/Cgigas_v9_exon.gff\""
   ]
  },
  {
   "cell_type": "code",
   "execution_count": 56,
   "metadata": {
    "collapsed": true
   },
   "outputs": [],
   "source": [
    "intronList = \"../2019-09-15-DML-Analysis/Cgigas_v9_intron.gff\""
   ]
  },
  {
   "cell_type": "code",
   "execution_count": 57,
   "metadata": {
    "collapsed": true
   },
   "outputs": [],
   "source": [
    "geneList = \"../2019-09-15-DML-Analysis/Cgigas_v9_gene.gff\""
   ]
  },
  {
   "cell_type": "code",
   "execution_count": 58,
   "metadata": {
    "collapsed": true
   },
   "outputs": [],
   "source": [
    "transposableElementsAll = \"../2019-09-15-DML-Analysis/Cgigas_v9_TE.gff\""
   ]
  },
  {
   "cell_type": "code",
   "execution_count": 59,
   "metadata": {
    "collapsed": true
   },
   "outputs": [],
   "source": [
    "putativePromoters = \"../2019-09-15-DML-Analysis/Cgigas_v9_1k5p_gene_promoter.gff\""
   ]
  },
  {
   "cell_type": "markdown",
   "metadata": {},
   "source": [
    "### 4c. Exons"
   ]
  },
  {
   "cell_type": "markdown",
   "metadata": {},
   "source": [
    "#### All 5x CpGs"
   ]
  },
  {
   "cell_type": "code",
   "execution_count": 60,
   "metadata": {
    "collapsed": false,
    "scrolled": true
   },
   "outputs": [
    {
     "name": "stdout",
     "output_type": "stream",
     "text": [
      " 1803226\n",
      "all 10x CpG loci overlaps with exons\n"
     ]
    }
   ],
   "source": [
    "! {bedtoolsDirectory}intersectBed \\\n",
    "-u \\\n",
    "-a {all10xCpGs} \\\n",
    "-b {exonList} \\\n",
    "| wc -l\n",
    "!echo \"all 10x CpG loci overlaps with exons\""
   ]
  },
  {
   "cell_type": "code",
   "execution_count": 61,
   "metadata": {
    "collapsed": true
   },
   "outputs": [],
   "source": [
    "! {bedtoolsDirectory}intersectBed \\\n",
    "-wb \\\n",
    "-a {all10xCpGs} \\\n",
    "-b {exonList} \\\n",
    "> 2020-02-11-All10xCpGs-Exon.txt"
   ]
  },
  {
   "cell_type": "code",
   "execution_count": 62,
   "metadata": {
    "collapsed": false,
    "scrolled": false
   },
   "outputs": [
    {
     "name": "stdout",
     "output_type": "stream",
     "text": [
      "C17212\t165\t166\tC17212\tGLEAN\tCDS\t31\t363\t.\t+\t0\tParent=CGI_10000002;\r\n",
      "C17212\t169\t170\tC17212\tGLEAN\tCDS\t31\t363\t.\t+\t0\tParent=CGI_10000002;\r\n",
      "C17212\t234\t235\tC17212\tGLEAN\tCDS\t31\t363\t.\t+\t0\tParent=CGI_10000002;\r\n",
      "C17212\t249\t250\tC17212\tGLEAN\tCDS\t31\t363\t.\t+\t0\tParent=CGI_10000002;\r\n",
      "C17212\t291\t292\tC17212\tGLEAN\tCDS\t31\t363\t.\t+\t0\tParent=CGI_10000002;\r\n",
      "C17212\t321\t322\tC17212\tGLEAN\tCDS\t31\t363\t.\t+\t0\tParent=CGI_10000002;\r\n",
      "C17316\t100\t101\tC17316\tGLEAN\tCDS\t30\t257\t.\t+\t0\tParent=CGI_10000003;\r\n",
      "C17316\t101\t102\tC17316\tGLEAN\tCDS\t30\t257\t.\t+\t0\tParent=CGI_10000003;\r\n",
      "C17316\t207\t208\tC17316\tGLEAN\tCDS\t30\t257\t.\t+\t0\tParent=CGI_10000003;\r\n",
      "C17316\t208\t209\tC17316\tGLEAN\tCDS\t30\t257\t.\t+\t0\tParent=CGI_10000003;\r\n"
     ]
    }
   ],
   "source": [
    "!head 2020-02-11-All10xCpGs-Exon.txt"
   ]
  },
  {
   "cell_type": "markdown",
   "metadata": {},
   "source": [
    "#### Methylated loci"
   ]
  },
  {
   "cell_type": "code",
   "execution_count": 63,
   "metadata": {
    "collapsed": false,
    "scrolled": true
   },
   "outputs": [
    {
     "name": "stdout",
     "output_type": "stream",
     "text": [
      "  559020\n",
      "methylated loci overlaps with exons\n"
     ]
    }
   ],
   "source": [
    "! {bedtoolsDirectory}intersectBed \\\n",
    "-u \\\n",
    "-a {methylatedLoci} \\\n",
    "-b {exonList} \\\n",
    "| wc -l\n",
    "!echo \"methylated loci overlaps with exons\""
   ]
  },
  {
   "cell_type": "code",
   "execution_count": 64,
   "metadata": {
    "collapsed": true
   },
   "outputs": [],
   "source": [
    "! {bedtoolsDirectory}intersectBed \\\n",
    "-wb \\\n",
    "-a {methylatedLoci} \\\n",
    "-b {exonList} \\\n",
    "> 2020-02-11-MethLoci-Exon.txt"
   ]
  },
  {
   "cell_type": "code",
   "execution_count": 65,
   "metadata": {
    "collapsed": false,
    "scrolled": false
   },
   "outputs": [
    {
     "name": "stdout",
     "output_type": "stream",
     "text": [
      "C19100\t225\t226\tC19100\tGLEAN\tCDS\t160\t681\t.\t-\t0\tParent=CGI_10000013;\r\n",
      "C19100\t264\t265\tC19100\tGLEAN\tCDS\t160\t681\t.\t-\t0\tParent=CGI_10000013;\r\n",
      "C19100\t279\t280\tC19100\tGLEAN\tCDS\t160\t681\t.\t-\t0\tParent=CGI_10000013;\r\n",
      "C19100\t302\t303\tC19100\tGLEAN\tCDS\t160\t681\t.\t-\t0\tParent=CGI_10000013;\r\n",
      "C19100\t364\t365\tC19100\tGLEAN\tCDS\t160\t681\t.\t-\t0\tParent=CGI_10000013;\r\n",
      "C19100\t372\t373\tC19100\tGLEAN\tCDS\t160\t681\t.\t-\t0\tParent=CGI_10000013;\r\n",
      "C19100\t396\t397\tC19100\tGLEAN\tCDS\t160\t681\t.\t-\t0\tParent=CGI_10000013;\r\n",
      "C19100\t476\t477\tC19100\tGLEAN\tCDS\t160\t681\t.\t-\t0\tParent=CGI_10000013;\r\n",
      "C19100\t516\t517\tC19100\tGLEAN\tCDS\t160\t681\t.\t-\t0\tParent=CGI_10000013;\r\n",
      "C19100\t561\t562\tC19100\tGLEAN\tCDS\t160\t681\t.\t-\t0\tParent=CGI_10000013;\r\n"
     ]
    }
   ],
   "source": [
    "!head 2020-02-11-MethLoci-Exon.txt"
   ]
  },
  {
   "cell_type": "markdown",
   "metadata": {},
   "source": [
    "#### Sparsely methylated loci"
   ]
  },
  {
   "cell_type": "code",
   "execution_count": 66,
   "metadata": {
    "collapsed": false
   },
   "outputs": [
    {
     "name": "stdout",
     "output_type": "stream",
     "text": [
      "  199748\n",
      "sparsely methylated loci overlaps with exons\n"
     ]
    }
   ],
   "source": [
    "! {bedtoolsDirectory}intersectBed \\\n",
    "-u \\\n",
    "-a {sparselyMethylatedLoci} \\\n",
    "-b {exonList} \\\n",
    "| wc -l\n",
    "!echo \"sparsely methylated loci overlaps with exons\""
   ]
  },
  {
   "cell_type": "code",
   "execution_count": 67,
   "metadata": {
    "collapsed": true
   },
   "outputs": [],
   "source": [
    "! {bedtoolsDirectory}intersectBed \\\n",
    "-wb \\\n",
    "-a {sparselyMethylatedLoci} \\\n",
    "-b {exonList} \\\n",
    "> 2020-02-11-SparseMethLoci-Exon.txt"
   ]
  },
  {
   "cell_type": "code",
   "execution_count": 68,
   "metadata": {
    "collapsed": false
   },
   "outputs": [
    {
     "name": "stdout",
     "output_type": "stream",
     "text": [
      "C17316\t89\t90\tC17316\tGLEAN\tCDS\t30\t257\t.\t+\t0\tParent=CGI_10000003;\r\n",
      "C17998\t290\t291\tC17998\tGLEAN\tCDS\t196\t387\t.\t-\t0\tParent=CGI_10000005;\r\n",
      "C17998\t382\t383\tC17998\tGLEAN\tCDS\t196\t387\t.\t-\t0\tParent=CGI_10000005;\r\n",
      "C18346\t277\t278\tC18346\tGLEAN\tCDS\t174\t551\t.\t+\t0\tParent=CGI_10000009;\r\n",
      "C18346\t296\t297\tC18346\tGLEAN\tCDS\t174\t551\t.\t+\t0\tParent=CGI_10000009;\r\n",
      "C18346\t300\t301\tC18346\tGLEAN\tCDS\t174\t551\t.\t+\t0\tParent=CGI_10000009;\r\n",
      "C18346\t321\t322\tC18346\tGLEAN\tCDS\t174\t551\t.\t+\t0\tParent=CGI_10000009;\r\n",
      "C18346\t338\t339\tC18346\tGLEAN\tCDS\t174\t551\t.\t+\t0\tParent=CGI_10000009;\r\n",
      "C18964\t537\t538\tC18964\tGLEAN\tCDS\t203\t658\t.\t-\t0\tParent=CGI_10000011;\r\n",
      "C19356\t440\t441\tC19356\tGLEAN\tCDS\t355\t597\t.\t+\t0\tParent=CGI_10000014;\r\n"
     ]
    }
   ],
   "source": [
    "!head 2020-02-11-SparseMethLoci-Exon.txt"
   ]
  },
  {
   "cell_type": "markdown",
   "metadata": {},
   "source": [
    "#### Unmethylated loci"
   ]
  },
  {
   "cell_type": "code",
   "execution_count": 69,
   "metadata": {
    "collapsed": false
   },
   "outputs": [
    {
     "name": "stdout",
     "output_type": "stream",
     "text": [
      " 1044458\n",
      "unmethylated loci overlaps with exons\n"
     ]
    }
   ],
   "source": [
    "! {bedtoolsDirectory}intersectBed \\\n",
    "-u \\\n",
    "-a {unmethylatedLoci} \\\n",
    "-b {exonList} \\\n",
    "| wc -l\n",
    "!echo \"unmethylated loci overlaps with exons\""
   ]
  },
  {
   "cell_type": "code",
   "execution_count": 70,
   "metadata": {
    "collapsed": true
   },
   "outputs": [],
   "source": [
    "! {bedtoolsDirectory}intersectBed \\\n",
    "-wb \\\n",
    "-a {unmethylatedLoci} \\\n",
    "-b {exonList} \\\n",
    "> 2020-02-11-UnMethLoci-Exon.txt"
   ]
  },
  {
   "cell_type": "code",
   "execution_count": 71,
   "metadata": {
    "collapsed": false,
    "scrolled": true
   },
   "outputs": [
    {
     "name": "stdout",
     "output_type": "stream",
     "text": [
      "C17212\t165\t166\tC17212\tGLEAN\tCDS\t31\t363\t.\t+\t0\tParent=CGI_10000002;\r\n",
      "C17212\t169\t170\tC17212\tGLEAN\tCDS\t31\t363\t.\t+\t0\tParent=CGI_10000002;\r\n",
      "C17212\t234\t235\tC17212\tGLEAN\tCDS\t31\t363\t.\t+\t0\tParent=CGI_10000002;\r\n",
      "C17212\t249\t250\tC17212\tGLEAN\tCDS\t31\t363\t.\t+\t0\tParent=CGI_10000002;\r\n",
      "C17212\t291\t292\tC17212\tGLEAN\tCDS\t31\t363\t.\t+\t0\tParent=CGI_10000002;\r\n",
      "C17212\t321\t322\tC17212\tGLEAN\tCDS\t31\t363\t.\t+\t0\tParent=CGI_10000002;\r\n",
      "C17316\t100\t101\tC17316\tGLEAN\tCDS\t30\t257\t.\t+\t0\tParent=CGI_10000003;\r\n",
      "C17316\t101\t102\tC17316\tGLEAN\tCDS\t30\t257\t.\t+\t0\tParent=CGI_10000003;\r\n",
      "C17316\t207\t208\tC17316\tGLEAN\tCDS\t30\t257\t.\t+\t0\tParent=CGI_10000003;\r\n",
      "C17316\t208\t209\tC17316\tGLEAN\tCDS\t30\t257\t.\t+\t0\tParent=CGI_10000003;\r\n"
     ]
    }
   ],
   "source": [
    "!head 2020-02-11-UnMethLoci-Exon.txt"
   ]
  },
  {
   "cell_type": "markdown",
   "metadata": {},
   "source": [
    "### 4d. Introns"
   ]
  },
  {
   "cell_type": "markdown",
   "metadata": {},
   "source": [
    "#### All 10x CpG"
   ]
  },
  {
   "cell_type": "code",
   "execution_count": 72,
   "metadata": {
    "collapsed": false,
    "scrolled": true
   },
   "outputs": [
    {
     "name": "stdout",
     "output_type": "stream",
     "text": [
      " 3834047\n",
      "all 10x CpG loci overlaps with introns\n"
     ]
    }
   ],
   "source": [
    "! {bedtoolsDirectory}intersectBed \\\n",
    "-u \\\n",
    "-a {all10xCpGs} \\\n",
    "-b {intronList} \\\n",
    "| wc -l\n",
    "!echo \"all 10x CpG loci overlaps with introns\""
   ]
  },
  {
   "cell_type": "code",
   "execution_count": 73,
   "metadata": {
    "collapsed": true
   },
   "outputs": [],
   "source": [
    "! {bedtoolsDirectory}intersectBed \\\n",
    "-wb \\\n",
    "-a {all10xCpGs} \\\n",
    "-b {intronList} \\\n",
    "> 2020-02-11-All10xCpGs-Intron.txt"
   ]
  },
  {
   "cell_type": "code",
   "execution_count": 74,
   "metadata": {
    "collapsed": false,
    "scrolled": true
   },
   "outputs": [
    {
     "name": "stdout",
     "output_type": "stream",
     "text": [
      "C19392\t243\t244\tC19392\tsubtractBed\tintrn\t184\t451\t.\t+\t.\tParent=CGI_10000015;\r",
      "\r\n",
      "C19392\t244\t245\tC19392\tsubtractBed\tintrn\t184\t451\t.\t+\t.\tParent=CGI_10000015;\r",
      "\r\n",
      "C20334\t785\t786\tC20334\tsubtractBed\tintrn\t524\t867\t.\t-\t.\tParent=CGI_10000028;\r",
      "\r\n",
      "C20334\t814\t815\tC20334\tsubtractBed\tintrn\t524\t867\t.\t-\t.\tParent=CGI_10000028;\r",
      "\r\n",
      "C20412\t243\t244\tC20412\tsubtractBed\tintrn\t215\t409\t.\t-\t.\tParent=CGI_10000029;\r",
      "\r\n",
      "C20412\t285\t286\tC20412\tsubtractBed\tintrn\t215\t409\t.\t-\t.\tParent=CGI_10000029;\r",
      "\r\n",
      "C20412\t498\t499\tC20412\tsubtractBed\tintrn\t464\t705\t.\t-\t.\tParent=CGI_10000029;\r",
      "\r\n",
      "C20412\t499\t500\tC20412\tsubtractBed\tintrn\t464\t705\t.\t-\t.\tParent=CGI_10000029;\r",
      "\r\n",
      "C20412\t568\t569\tC20412\tsubtractBed\tintrn\t464\t705\t.\t-\t.\tParent=CGI_10000029;\r",
      "\r\n",
      "C20412\t569\t570\tC20412\tsubtractBed\tintrn\t464\t705\t.\t-\t.\tParent=CGI_10000029;\r",
      "\r\n"
     ]
    }
   ],
   "source": [
    "!head 2020-02-11-All10xCpGs-Intron.txt"
   ]
  },
  {
   "cell_type": "markdown",
   "metadata": {},
   "source": [
    "#### Methylated loci"
   ]
  },
  {
   "cell_type": "code",
   "execution_count": 75,
   "metadata": {
    "collapsed": false,
    "scrolled": true
   },
   "outputs": [
    {
     "name": "stdout",
     "output_type": "stream",
     "text": [
      "  706876\n",
      "methylated loci overlaps with introns\n"
     ]
    }
   ],
   "source": [
    "! {bedtoolsDirectory}intersectBed \\\n",
    "-u \\\n",
    "-a {methylatedLoci} \\\n",
    "-b {intronList} \\\n",
    "| wc -l\n",
    "!echo \"methylated loci overlaps with introns\""
   ]
  },
  {
   "cell_type": "code",
   "execution_count": 76,
   "metadata": {
    "collapsed": true
   },
   "outputs": [],
   "source": [
    "! {bedtoolsDirectory}intersectBed \\\n",
    "-wb \\\n",
    "-a {methylatedLoci} \\\n",
    "-b {intronList} \\\n",
    "> 2020-02-11-MethLoci-Intron.txt"
   ]
  },
  {
   "cell_type": "code",
   "execution_count": 77,
   "metadata": {
    "collapsed": false,
    "scrolled": true
   },
   "outputs": [
    {
     "name": "stdout",
     "output_type": "stream",
     "text": [
      "C19392\t243\t244\tC19392\tsubtractBed\tintrn\t184\t451\t.\t+\t.\tParent=CGI_10000015;\r",
      "\r\n",
      "C19392\t244\t245\tC19392\tsubtractBed\tintrn\t184\t451\t.\t+\t.\tParent=CGI_10000015;\r",
      "\r\n",
      "C20334\t785\t786\tC20334\tsubtractBed\tintrn\t524\t867\t.\t-\t.\tParent=CGI_10000028;\r",
      "\r\n",
      "C20334\t814\t815\tC20334\tsubtractBed\tintrn\t524\t867\t.\t-\t.\tParent=CGI_10000028;\r",
      "\r\n",
      "C20462\t673\t674\tC20462\tsubtractBed\tintrn\t577\t822\t.\t+\t.\tParent=CGI_10000030;\r",
      "\r\n",
      "C20462\t674\t675\tC20462\tsubtractBed\tintrn\t577\t822\t.\t+\t.\tParent=CGI_10000030;\r",
      "\r\n",
      "C20462\t731\t732\tC20462\tsubtractBed\tintrn\t577\t822\t.\t+\t.\tParent=CGI_10000030;\r",
      "\r\n",
      "C20462\t732\t733\tC20462\tsubtractBed\tintrn\t577\t822\t.\t+\t.\tParent=CGI_10000030;\r",
      "\r\n",
      "C20476\t647\t648\tC20476\tsubtractBed\tintrn\t228\t792\t.\t+\t.\tParent=CGI_10000031;\r",
      "\r\n",
      "C20476\t706\t707\tC20476\tsubtractBed\tintrn\t228\t792\t.\t+\t.\tParent=CGI_10000031;\r",
      "\r\n"
     ]
    }
   ],
   "source": [
    "!head 2020-02-11-MethLoci-Intron.txt"
   ]
  },
  {
   "cell_type": "markdown",
   "metadata": {},
   "source": [
    "#### Sparsely methylated loci"
   ]
  },
  {
   "cell_type": "code",
   "execution_count": 78,
   "metadata": {
    "collapsed": false
   },
   "outputs": [
    {
     "name": "stdout",
     "output_type": "stream",
     "text": [
      "  768464\n",
      "sparsely methylated loci overlaps with introns\n"
     ]
    }
   ],
   "source": [
    "! {bedtoolsDirectory}intersectBed \\\n",
    "-u \\\n",
    "-a {sparselyMethylatedLoci} \\\n",
    "-b {intronList} \\\n",
    "| wc -l\n",
    "!echo \"sparsely methylated loci overlaps with introns\""
   ]
  },
  {
   "cell_type": "code",
   "execution_count": 79,
   "metadata": {
    "collapsed": true
   },
   "outputs": [],
   "source": [
    "! {bedtoolsDirectory}intersectBed \\\n",
    "-wb \\\n",
    "-a {sparselyMethylatedLoci} \\\n",
    "-b {intronList} \\\n",
    "> 2020-02-11-SparseMethLoci-Intron.txt"
   ]
  },
  {
   "cell_type": "code",
   "execution_count": 80,
   "metadata": {
    "collapsed": false
   },
   "outputs": [
    {
     "name": "stdout",
     "output_type": "stream",
     "text": [
      "C20916\t729\t730\tC20916\tsubtractBed\tintrn\t618\t753\t.\t-\t.\tParent=CGI_10000039;\r",
      "\r\n",
      "C21064\t332\t333\tC21064\tsubtractBed\tintrn\t115\t386\t.\t+\t.\tParent=CGI_10000043;\r",
      "\r\n",
      "C21178\t978\t979\tC21178\tsubtractBed\tintrn\t549\t1034\t.\t-\t.\tParent=CGI_10000045;\r",
      "\r\n",
      "C21260\t710\t711\tC21260\tsubtractBed\tintrn\t691\t934\t.\t-\t.\tParent=CGI_10000048;\r",
      "\r\n",
      "C21260\t718\t719\tC21260\tsubtractBed\tintrn\t691\t934\t.\t-\t.\tParent=CGI_10000048;\r",
      "\r\n",
      "C21550\t877\t878\tC21550\tsubtractBed\tintrn\t650\t952\t.\t-\t.\tParent=CGI_10000051;\r",
      "\r\n",
      "C21550\t878\t879\tC21550\tsubtractBed\tintrn\t650\t952\t.\t-\t.\tParent=CGI_10000051;\r",
      "\r\n",
      "C21582\t761\t762\tC21582\tsubtractBed\tintrn\t646\t1158\t.\t-\t.\tParent=CGI_10000054;\r",
      "\r\n",
      "C21650\t1014\t1015\tC21650\tsubtractBed\tintrn\t877\t1015\t.\t-\t.\tParent=CGI_10000058;\r",
      "\r\n",
      "C21650\t1125\t1126\tC21650\tsubtractBed\tintrn\t1076\t1395\t.\t-\t.\tParent=CGI_10000058;\r",
      "\r\n"
     ]
    }
   ],
   "source": [
    "!head 2020-02-11-SparseMethLoci-Intron.txt"
   ]
  },
  {
   "cell_type": "markdown",
   "metadata": {},
   "source": [
    "#### Unmethylated loci"
   ]
  },
  {
   "cell_type": "code",
   "execution_count": 81,
   "metadata": {
    "collapsed": false
   },
   "outputs": [
    {
     "name": "stdout",
     "output_type": "stream",
     "text": [
      " 2358707\n",
      "unmethylated loci overlaps with introns\n"
     ]
    }
   ],
   "source": [
    "! {bedtoolsDirectory}intersectBed \\\n",
    "-u \\\n",
    "-a {unmethylatedLoci} \\\n",
    "-b {intronList} \\\n",
    "| wc -l\n",
    "!echo \"unmethylated loci overlaps with introns\""
   ]
  },
  {
   "cell_type": "code",
   "execution_count": 82,
   "metadata": {
    "collapsed": true
   },
   "outputs": [],
   "source": [
    "! {bedtoolsDirectory}intersectBed \\\n",
    "-wb \\\n",
    "-a {unmethylatedLoci} \\\n",
    "-b {intronList} \\\n",
    "> 2020-02-11-UnMethLoci-Intron.txt"
   ]
  },
  {
   "cell_type": "code",
   "execution_count": 83,
   "metadata": {
    "collapsed": false,
    "scrolled": true
   },
   "outputs": [
    {
     "name": "stdout",
     "output_type": "stream",
     "text": [
      "C20412\t243\t244\tC20412\tsubtractBed\tintrn\t215\t409\t.\t-\t.\tParent=CGI_10000029;\r",
      "\r\n",
      "C20412\t285\t286\tC20412\tsubtractBed\tintrn\t215\t409\t.\t-\t.\tParent=CGI_10000029;\r",
      "\r\n",
      "C20412\t498\t499\tC20412\tsubtractBed\tintrn\t464\t705\t.\t-\t.\tParent=CGI_10000029;\r",
      "\r\n",
      "C20412\t499\t500\tC20412\tsubtractBed\tintrn\t464\t705\t.\t-\t.\tParent=CGI_10000029;\r",
      "\r\n",
      "C20412\t568\t569\tC20412\tsubtractBed\tintrn\t464\t705\t.\t-\t.\tParent=CGI_10000029;\r",
      "\r\n",
      "C20412\t569\t570\tC20412\tsubtractBed\tintrn\t464\t705\t.\t-\t.\tParent=CGI_10000029;\r",
      "\r\n",
      "C20412\t618\t619\tC20412\tsubtractBed\tintrn\t464\t705\t.\t-\t.\tParent=CGI_10000029;\r",
      "\r\n",
      "C20412\t619\t620\tC20412\tsubtractBed\tintrn\t464\t705\t.\t-\t.\tParent=CGI_10000029;\r",
      "\r\n",
      "C20412\t704\t705\tC20412\tsubtractBed\tintrn\t464\t705\t.\t-\t.\tParent=CGI_10000029;\r",
      "\r\n",
      "C20524\t380\t381\tC20524\tsubtractBed\tintrn\t188\t943\t.\t-\t.\tParent=CGI_10000033;\r",
      "\r\n"
     ]
    }
   ],
   "source": [
    "!head 2020-02-11-UnMethLoci-Intron.txt"
   ]
  },
  {
   "cell_type": "markdown",
   "metadata": {},
   "source": [
    "### 4e. Genes"
   ]
  },
  {
   "cell_type": "markdown",
   "metadata": {},
   "source": [
    "#### All 10x CpGs"
   ]
  },
  {
   "cell_type": "code",
   "execution_count": 84,
   "metadata": {
    "collapsed": false,
    "scrolled": true
   },
   "outputs": [
    {
     "name": "stdout",
     "output_type": "stream",
     "text": [
      " 5637273\n",
      "all 10x CpG loci overlaps with genes\n"
     ]
    }
   ],
   "source": [
    "! {bedtoolsDirectory}intersectBed \\\n",
    "-u \\\n",
    "-a {all10xCpGs} \\\n",
    "-b {geneList} \\\n",
    "| wc -l\n",
    "!echo \"all 10x CpG loci overlaps with genes\""
   ]
  },
  {
   "cell_type": "code",
   "execution_count": 85,
   "metadata": {
    "collapsed": true
   },
   "outputs": [],
   "source": [
    "! {bedtoolsDirectory}intersectBed \\\n",
    "-wb \\\n",
    "-a {all10xCpGs} \\\n",
    "-b {geneList} \\\n",
    "> 2020-02-11-All10xCpGs-Genes.txt"
   ]
  },
  {
   "cell_type": "code",
   "execution_count": 86,
   "metadata": {
    "collapsed": false
   },
   "outputs": [
    {
     "name": "stdout",
     "output_type": "stream",
     "text": [
      "C17212\t165\t166\tC17212\tGLEAN\tmRNA\t31\t363\t0.999572\t+\t.\tID=CGI_10000002;\r\n",
      "C17212\t169\t170\tC17212\tGLEAN\tmRNA\t31\t363\t0.999572\t+\t.\tID=CGI_10000002;\r\n",
      "C17212\t234\t235\tC17212\tGLEAN\tmRNA\t31\t363\t0.999572\t+\t.\tID=CGI_10000002;\r\n",
      "C17212\t249\t250\tC17212\tGLEAN\tmRNA\t31\t363\t0.999572\t+\t.\tID=CGI_10000002;\r\n",
      "C17212\t291\t292\tC17212\tGLEAN\tmRNA\t31\t363\t0.999572\t+\t.\tID=CGI_10000002;\r\n",
      "C17212\t321\t322\tC17212\tGLEAN\tmRNA\t31\t363\t0.999572\t+\t.\tID=CGI_10000002;\r\n",
      "C17316\t100\t101\tC17316\tGLEAN\tmRNA\t30\t257\t0.555898\t+\t.\tID=CGI_10000003;\r\n",
      "C17316\t101\t102\tC17316\tGLEAN\tmRNA\t30\t257\t0.555898\t+\t.\tID=CGI_10000003;\r\n",
      "C17316\t207\t208\tC17316\tGLEAN\tmRNA\t30\t257\t0.555898\t+\t.\tID=CGI_10000003;\r\n",
      "C17316\t208\t209\tC17316\tGLEAN\tmRNA\t30\t257\t0.555898\t+\t.\tID=CGI_10000003;\r\n"
     ]
    }
   ],
   "source": [
    "!head 2020-02-11-All10xCpGs-Genes.txt"
   ]
  },
  {
   "cell_type": "code",
   "execution_count": 100,
   "metadata": {
    "collapsed": false
   },
   "outputs": [
    {
     "name": "stdout",
     "output_type": "stream",
     "text": [
      "    3184\n",
      "unique genes represented in overlaps\n"
     ]
    }
   ],
   "source": [
    "!cut -f1 2020-02-11-All10xCpGs-Genes.txt| sort | uniq -c | wc -l\n",
    "!echo \"unique genes represented in overlaps\""
   ]
  },
  {
   "cell_type": "markdown",
   "metadata": {},
   "source": [
    "#### Methylated loci"
   ]
  },
  {
   "cell_type": "code",
   "execution_count": 88,
   "metadata": {
    "collapsed": false,
    "scrolled": true
   },
   "outputs": [
    {
     "name": "stdout",
     "output_type": "stream",
     "text": [
      " 1265896\n",
      "methylated loci overlaps with genes\n"
     ]
    }
   ],
   "source": [
    "! {bedtoolsDirectory}intersectBed \\\n",
    "-u \\\n",
    "-a {methylatedLoci} \\\n",
    "-b {geneList} \\\n",
    "| wc -l\n",
    "!echo \"methylated loci overlaps with genes\""
   ]
  },
  {
   "cell_type": "code",
   "execution_count": 89,
   "metadata": {
    "collapsed": true
   },
   "outputs": [],
   "source": [
    "! {bedtoolsDirectory}intersectBed \\\n",
    "-wb \\\n",
    "-a {methylatedLoci} \\\n",
    "-b {geneList} \\\n",
    "> 2020-02-11-MethLoci-Genes.txt"
   ]
  },
  {
   "cell_type": "code",
   "execution_count": 90,
   "metadata": {
    "collapsed": false
   },
   "outputs": [
    {
     "name": "stdout",
     "output_type": "stream",
     "text": [
      "C19100\t225\t226\tC19100\tGLEAN\tmRNA\t160\t681\t0.999955\t-\t.\tID=CGI_10000013;\r\n",
      "C19100\t264\t265\tC19100\tGLEAN\tmRNA\t160\t681\t0.999955\t-\t.\tID=CGI_10000013;\r\n",
      "C19100\t279\t280\tC19100\tGLEAN\tmRNA\t160\t681\t0.999955\t-\t.\tID=CGI_10000013;\r\n",
      "C19100\t302\t303\tC19100\tGLEAN\tmRNA\t160\t681\t0.999955\t-\t.\tID=CGI_10000013;\r\n",
      "C19100\t364\t365\tC19100\tGLEAN\tmRNA\t160\t681\t0.999955\t-\t.\tID=CGI_10000013;\r\n",
      "C19100\t372\t373\tC19100\tGLEAN\tmRNA\t160\t681\t0.999955\t-\t.\tID=CGI_10000013;\r\n",
      "C19100\t396\t397\tC19100\tGLEAN\tmRNA\t160\t681\t0.999955\t-\t.\tID=CGI_10000013;\r\n",
      "C19100\t476\t477\tC19100\tGLEAN\tmRNA\t160\t681\t0.999955\t-\t.\tID=CGI_10000013;\r\n",
      "C19100\t516\t517\tC19100\tGLEAN\tmRNA\t160\t681\t0.999955\t-\t.\tID=CGI_10000013;\r\n",
      "C19100\t561\t562\tC19100\tGLEAN\tmRNA\t160\t681\t0.999955\t-\t.\tID=CGI_10000013;\r\n"
     ]
    }
   ],
   "source": [
    "!head 2020-02-11-MethLoci-Genes.txt"
   ]
  },
  {
   "cell_type": "code",
   "execution_count": 101,
   "metadata": {
    "collapsed": false
   },
   "outputs": [
    {
     "name": "stdout",
     "output_type": "stream",
     "text": [
      "    2233\n",
      "unique genes represented in overlaps\n"
     ]
    }
   ],
   "source": [
    "!cut -f1 2020-02-11-MethLoci-Genes.txt| sort | uniq -c | wc -l\n",
    "!echo \"unique genes represented in overlaps\""
   ]
  },
  {
   "cell_type": "markdown",
   "metadata": {},
   "source": [
    "#### Sparsely methylated loci"
   ]
  },
  {
   "cell_type": "code",
   "execution_count": 92,
   "metadata": {
    "collapsed": false,
    "scrolled": true
   },
   "outputs": [
    {
     "name": "stdout",
     "output_type": "stream",
     "text": [
      "  968212\n",
      "sparsely methylated loci overlaps with genes\n"
     ]
    }
   ],
   "source": [
    "! {bedtoolsDirectory}intersectBed \\\n",
    "-u \\\n",
    "-a {sparselyMethylatedLoci} \\\n",
    "-b {geneList} \\\n",
    "| wc -l\n",
    "!echo \"sparsely methylated loci overlaps with genes\""
   ]
  },
  {
   "cell_type": "code",
   "execution_count": 93,
   "metadata": {
    "collapsed": true
   },
   "outputs": [],
   "source": [
    "! {bedtoolsDirectory}intersectBed \\\n",
    "-wb \\\n",
    "-a {sparselyMethylatedLoci} \\\n",
    "-b {geneList} \\\n",
    "> 2020-02-11-SparseMethLoci-Genes.txt"
   ]
  },
  {
   "cell_type": "code",
   "execution_count": 94,
   "metadata": {
    "collapsed": false
   },
   "outputs": [
    {
     "name": "stdout",
     "output_type": "stream",
     "text": [
      "C17316\t89\t90\tC17316\tGLEAN\tmRNA\t30\t257\t0.555898\t+\t.\tID=CGI_10000003;\r\n",
      "C17998\t290\t291\tC17998\tGLEAN\tmRNA\t196\t387\t1\t-\t.\tID=CGI_10000005;\r\n",
      "C17998\t382\t383\tC17998\tGLEAN\tmRNA\t196\t387\t1\t-\t.\tID=CGI_10000005;\r\n",
      "C18346\t277\t278\tC18346\tGLEAN\tmRNA\t174\t551\t1\t+\t.\tID=CGI_10000009;\r\n",
      "C18346\t296\t297\tC18346\tGLEAN\tmRNA\t174\t551\t1\t+\t.\tID=CGI_10000009;\r\n",
      "C18346\t300\t301\tC18346\tGLEAN\tmRNA\t174\t551\t1\t+\t.\tID=CGI_10000009;\r\n",
      "C18346\t321\t322\tC18346\tGLEAN\tmRNA\t174\t551\t1\t+\t.\tID=CGI_10000009;\r\n",
      "C18346\t338\t339\tC18346\tGLEAN\tmRNA\t174\t551\t1\t+\t.\tID=CGI_10000009;\r\n",
      "C18964\t537\t538\tC18964\tGLEAN\tmRNA\t203\t658\t0.999572\t-\t.\tID=CGI_10000011;\r\n",
      "C19356\t440\t441\tC19356\tGLEAN\tmRNA\t355\t597\t1\t+\t.\tID=CGI_10000014;\r\n"
     ]
    }
   ],
   "source": [
    "!head 2020-02-11-SparseMethLoci-Genes.txt"
   ]
  },
  {
   "cell_type": "code",
   "execution_count": 102,
   "metadata": {
    "collapsed": false
   },
   "outputs": [
    {
     "name": "stdout",
     "output_type": "stream",
     "text": [
      "    3062\n",
      "unique genes represesnted in overlaps\n"
     ]
    }
   ],
   "source": [
    "!cut -f1 2020-02-11-SparseMethLoci-Genes.txt| sort | uniq -c | wc -l\n",
    "!echo \"unique genes represesnted in overlaps\""
   ]
  },
  {
   "cell_type": "markdown",
   "metadata": {},
   "source": [
    "#### Unmethylated loci"
   ]
  },
  {
   "cell_type": "code",
   "execution_count": 96,
   "metadata": {
    "collapsed": false,
    "scrolled": true
   },
   "outputs": [
    {
     "name": "stdout",
     "output_type": "stream",
     "text": [
      " 3403165\n",
      "unmethylated loci overlaps with genes\n"
     ]
    }
   ],
   "source": [
    "! {bedtoolsDirectory}intersectBed \\\n",
    "-u \\\n",
    "-a {unmethylatedLoci} \\\n",
    "-b {geneList} \\\n",
    "| wc -l\n",
    "!echo \"unmethylated loci overlaps with genes\""
   ]
  },
  {
   "cell_type": "code",
   "execution_count": 97,
   "metadata": {
    "collapsed": true
   },
   "outputs": [],
   "source": [
    "! {bedtoolsDirectory}intersectBed \\\n",
    "-wb \\\n",
    "-a {unmethylatedLoci} \\\n",
    "-b {geneList} \\\n",
    "> 2020-02-11-UnMethLoci-Genes.txt"
   ]
  },
  {
   "cell_type": "code",
   "execution_count": 98,
   "metadata": {
    "collapsed": false
   },
   "outputs": [
    {
     "name": "stdout",
     "output_type": "stream",
     "text": [
      "C17212\t165\t166\tC17212\tGLEAN\tmRNA\t31\t363\t0.999572\t+\t.\tID=CGI_10000002;\r\n",
      "C17212\t169\t170\tC17212\tGLEAN\tmRNA\t31\t363\t0.999572\t+\t.\tID=CGI_10000002;\r\n",
      "C17212\t234\t235\tC17212\tGLEAN\tmRNA\t31\t363\t0.999572\t+\t.\tID=CGI_10000002;\r\n",
      "C17212\t249\t250\tC17212\tGLEAN\tmRNA\t31\t363\t0.999572\t+\t.\tID=CGI_10000002;\r\n",
      "C17212\t291\t292\tC17212\tGLEAN\tmRNA\t31\t363\t0.999572\t+\t.\tID=CGI_10000002;\r\n",
      "C17212\t321\t322\tC17212\tGLEAN\tmRNA\t31\t363\t0.999572\t+\t.\tID=CGI_10000002;\r\n",
      "C17316\t100\t101\tC17316\tGLEAN\tmRNA\t30\t257\t0.555898\t+\t.\tID=CGI_10000003;\r\n",
      "C17316\t101\t102\tC17316\tGLEAN\tmRNA\t30\t257\t0.555898\t+\t.\tID=CGI_10000003;\r\n",
      "C17316\t207\t208\tC17316\tGLEAN\tmRNA\t30\t257\t0.555898\t+\t.\tID=CGI_10000003;\r\n",
      "C17316\t208\t209\tC17316\tGLEAN\tmRNA\t30\t257\t0.555898\t+\t.\tID=CGI_10000003;\r\n"
     ]
    }
   ],
   "source": [
    "!head 2020-02-11-UnMethLoci-Genes.txt"
   ]
  },
  {
   "cell_type": "code",
   "execution_count": 103,
   "metadata": {
    "collapsed": false
   },
   "outputs": [
    {
     "name": "stdout",
     "output_type": "stream",
     "text": [
      "    3072\n",
      "unique genes represented in overlaps\n"
     ]
    }
   ],
   "source": [
    "!cut -f1 2020-02-11-UnMethLoci-Genes.txt| sort | uniq -c | wc -l\n",
    "!echo \"unique genes represented in overlaps\""
   ]
  },
  {
   "cell_type": "markdown",
   "metadata": {},
   "source": [
    "### 4f. Transposable elements"
   ]
  },
  {
   "cell_type": "markdown",
   "metadata": {},
   "source": [
    "#### All 10x CpGs"
   ]
  },
  {
   "cell_type": "code",
   "execution_count": 107,
   "metadata": {
    "collapsed": false,
    "scrolled": true
   },
   "outputs": [
    {
     "name": "stdout",
     "output_type": "stream",
     "text": [
      "  612466\n",
      "all 10x CpG loci overlaps with transposable elements\n"
     ]
    }
   ],
   "source": [
    "! {bedtoolsDirectory}intersectBed \\\n",
    "-u \\\n",
    "-a {all10xCpGs} \\\n",
    "-b {transposableElementsAll} \\\n",
    "| wc -l\n",
    "!echo \"all 10x CpG loci overlaps with transposable elements\""
   ]
  },
  {
   "cell_type": "code",
   "execution_count": 105,
   "metadata": {
    "collapsed": true
   },
   "outputs": [],
   "source": [
    "! {bedtoolsDirectory}intersectBed \\\n",
    "-wb \\\n",
    "-a {all10xCpGs} \\\n",
    "-b {transposableElementsAll} \\\n",
    "> 2020-02-11-All10xCpGs-TE-All.txt"
   ]
  },
  {
   "cell_type": "code",
   "execution_count": 106,
   "metadata": {
    "collapsed": false,
    "scrolled": false
   },
   "outputs": [
    {
     "name": "stdout",
     "output_type": "stream",
     "text": [
      "C14746\t119\t120\tC14746\tWUBlastX\tLINE_RTE-BovB\t1\t267\t182\t+\t.\t.\r\n",
      "C14746\t120\t121\tC14746\tWUBlastX\tLINE_RTE-BovB\t1\t267\t182\t+\t.\t.\r\n",
      "C14746\t156\t157\tC14746\tWUBlastX\tLINE_RTE-BovB\t1\t267\t182\t+\t.\t.\r\n",
      "C14746\t157\t158\tC14746\tWUBlastX\tLINE_RTE-BovB\t1\t267\t182\t+\t.\t.\r\n",
      "C14906\t113\t114\tC14906\tWUBlastX\tLINE_Penelope\t4\t258\t29\t+\t.\t.\r\n",
      "C14906\t113\t114\tC14906\tWUBlastX\tLINE_Penelope\t46\t258\t56\t+\t.\t.\r\n",
      "C14906\t114\t115\tC14906\tWUBlastX\tLINE_Penelope\t4\t258\t29\t+\t.\t.\r\n",
      "C14906\t114\t115\tC14906\tWUBlastX\tLINE_Penelope\t46\t258\t56\t+\t.\t.\r\n",
      "C14906\t154\t155\tC14906\tWUBlastX\tLINE_Penelope\t4\t258\t29\t+\t.\t.\r\n",
      "C14906\t154\t155\tC14906\tWUBlastX\tLINE_Penelope\t46\t258\t56\t+\t.\t.\r\n"
     ]
    }
   ],
   "source": [
    "!head 2020-02-11-All10xCpGs-TE-All.txt"
   ]
  },
  {
   "cell_type": "markdown",
   "metadata": {},
   "source": [
    "#### Methylated loci"
   ]
  },
  {
   "cell_type": "code",
   "execution_count": 108,
   "metadata": {
    "collapsed": false,
    "scrolled": true
   },
   "outputs": [
    {
     "name": "stdout",
     "output_type": "stream",
     "text": [
      "   41024\n",
      "methylated loci overlaps with transposable elements\n"
     ]
    }
   ],
   "source": [
    "! {bedtoolsDirectory}intersectBed \\\n",
    "-u \\\n",
    "-a {methylatedLoci} \\\n",
    "-b {transposableElementsAll} \\\n",
    "| wc -l\n",
    "!echo \"methylated loci overlaps with transposable elements\""
   ]
  },
  {
   "cell_type": "code",
   "execution_count": 109,
   "metadata": {
    "collapsed": true
   },
   "outputs": [],
   "source": [
    "! {bedtoolsDirectory}intersectBed \\\n",
    "-wb \\\n",
    "-a {methylatedLoci} \\\n",
    "-b {transposableElementsAll} \\\n",
    "> 2020-02-11-MethLoci-TE-All.txt"
   ]
  },
  {
   "cell_type": "code",
   "execution_count": 110,
   "metadata": {
    "collapsed": false,
    "scrolled": false
   },
   "outputs": [
    {
     "name": "stdout",
     "output_type": "stream",
     "text": [
      "C17730\t113\t114\tC17730\tWUBlastX\tLTR_DIRS\t3\t515\t275\t-\t.\t.\r\n",
      "C17730\t114\t115\tC17730\tWUBlastX\tLTR_DIRS\t3\t515\t275\t-\t.\t.\r\n",
      "C21560\t91\t92\tC21560\tWUBlastX\tLINE_RTE-X\t3\t206\t78\t-\t.\t.\r\n",
      "C22430\t243\t244\tC22430\tWUBlastX\tDNA_TcMar-Tc2\t230\t493\t60\t+\t.\t.\r\n",
      "C22430\t246\t247\tC22430\tWUBlastX\tDNA_TcMar-Tc2\t230\t493\t60\t+\t.\t.\r\n",
      "C22430\t308\t309\tC22430\tWUBlastX\tDNA_TcMar-Tc2\t230\t493\t60\t+\t.\t.\r\n",
      "C22430\t317\t318\tC22430\tWUBlastX\tDNA_TcMar-Tc2\t230\t493\t60\t+\t.\t.\r\n",
      "C22430\t361\t362\tC22430\tWUBlastX\tDNA_TcMar-Tc2\t230\t493\t60\t+\t.\t.\r\n",
      "C23428\t1011\t1012\tC23428\tWUBlastX\tLTR_Ngaro\t899\t1960\t318\t-\t.\t.\r\n",
      "C23428\t1011\t1012\tC23428\tWUBlastX\tLTR_Ngaro\t947\t1723\t319\t-\t.\t.\r\n"
     ]
    }
   ],
   "source": [
    "!head 2020-02-11-MethLoci-TE-All.txt"
   ]
  },
  {
   "cell_type": "markdown",
   "metadata": {},
   "source": [
    "#### Sparsely methylated loci"
   ]
  },
  {
   "cell_type": "code",
   "execution_count": 111,
   "metadata": {
    "collapsed": false,
    "scrolled": true
   },
   "outputs": [
    {
     "name": "stdout",
     "output_type": "stream",
     "text": [
      "  161419\n",
      "sparsely methylated loci overlaps with transposable elements\n"
     ]
    }
   ],
   "source": [
    "! {bedtoolsDirectory}intersectBed \\\n",
    "-u \\\n",
    "-a {sparselyMethylatedLoci} \\\n",
    "-b {transposableElementsAll} \\\n",
    "| wc -l\n",
    "!echo \"sparsely methylated loci overlaps with transposable elements\""
   ]
  },
  {
   "cell_type": "code",
   "execution_count": 112,
   "metadata": {
    "collapsed": true
   },
   "outputs": [],
   "source": [
    "! {bedtoolsDirectory}intersectBed \\\n",
    "-wb \\\n",
    "-a {sparselyMethylatedLoci} \\\n",
    "-b {transposableElementsAll} \\\n",
    "> 2020-02-11-SparseMethLoci-TE-All.txt"
   ]
  },
  {
   "cell_type": "code",
   "execution_count": 113,
   "metadata": {
    "collapsed": false,
    "scrolled": false
   },
   "outputs": [
    {
     "name": "stdout",
     "output_type": "stream",
     "text": [
      "C14746\t119\t120\tC14746\tWUBlastX\tLINE_RTE-BovB\t1\t267\t182\t+\t.\t.\r\n",
      "C14746\t120\t121\tC14746\tWUBlastX\tLINE_RTE-BovB\t1\t267\t182\t+\t.\t.\r\n",
      "C14746\t156\t157\tC14746\tWUBlastX\tLINE_RTE-BovB\t1\t267\t182\t+\t.\t.\r\n",
      "C14746\t157\t158\tC14746\tWUBlastX\tLINE_RTE-BovB\t1\t267\t182\t+\t.\t.\r\n",
      "C14944\t213\t214\tC14944\tWUBlastX\tLINE_CR1-L2\t18\t275\t160\t-\t.\t.\r\n",
      "C17636\t381\t382\tC17636\tWUBlastX\tLTR_Gypsy\t226\t507\t116\t+\t.\t.\r\n",
      "C17730\t244\t245\tC17730\tWUBlastX\tLTR_DIRS\t3\t515\t275\t-\t.\t.\r\n",
      "C17730\t245\t246\tC17730\tWUBlastX\tLTR_DIRS\t3\t515\t275\t-\t.\t.\r\n",
      "C18664\t259\t260\tC18664\tWUBlastX\tDNA_Helitron\t2\t559\t211\t+\t.\t.\r\n",
      "C18664\t260\t261\tC18664\tWUBlastX\tDNA_Helitron\t2\t559\t211\t+\t.\t.\r\n"
     ]
    }
   ],
   "source": [
    "!head 2020-02-11-SparseMethLoci-TE-All.txt"
   ]
  },
  {
   "cell_type": "markdown",
   "metadata": {},
   "source": [
    "#### Unmethylated loci"
   ]
  },
  {
   "cell_type": "code",
   "execution_count": 114,
   "metadata": {
    "collapsed": false,
    "scrolled": true
   },
   "outputs": [
    {
     "name": "stdout",
     "output_type": "stream",
     "text": [
      "  410023\n",
      "unmethylated loci overlaps with transposable elements\n"
     ]
    }
   ],
   "source": [
    "! {bedtoolsDirectory}intersectBed \\\n",
    "-u \\\n",
    "-a {unmethylatedLoci} \\\n",
    "-b {transposableElementsAll} \\\n",
    "| wc -l\n",
    "!echo \"unmethylated loci overlaps with transposable elements\""
   ]
  },
  {
   "cell_type": "code",
   "execution_count": 115,
   "metadata": {
    "collapsed": true
   },
   "outputs": [],
   "source": [
    "! {bedtoolsDirectory}intersectBed \\\n",
    "-wb \\\n",
    "-a {unmethylatedLoci} \\\n",
    "-b {transposableElementsAll} \\\n",
    "> 2020-02-11-UnMethLoci-TE-All.txt"
   ]
  },
  {
   "cell_type": "code",
   "execution_count": 116,
   "metadata": {
    "collapsed": false,
    "scrolled": true
   },
   "outputs": [
    {
     "name": "stdout",
     "output_type": "stream",
     "text": [
      "C14906\t113\t114\tC14906\tWUBlastX\tLINE_Penelope\t4\t258\t29\t+\t.\t.\r\n",
      "C14906\t113\t114\tC14906\tWUBlastX\tLINE_Penelope\t46\t258\t56\t+\t.\t.\r\n",
      "C14906\t114\t115\tC14906\tWUBlastX\tLINE_Penelope\t4\t258\t29\t+\t.\t.\r\n",
      "C14906\t114\t115\tC14906\tWUBlastX\tLINE_Penelope\t46\t258\t56\t+\t.\t.\r\n",
      "C14906\t154\t155\tC14906\tWUBlastX\tLINE_Penelope\t4\t258\t29\t+\t.\t.\r\n",
      "C14906\t154\t155\tC14906\tWUBlastX\tLINE_Penelope\t46\t258\t56\t+\t.\t.\r\n",
      "C14906\t155\t156\tC14906\tWUBlastX\tLINE_Penelope\t4\t258\t29\t+\t.\t.\r\n",
      "C14906\t155\t156\tC14906\tWUBlastX\tLINE_Penelope\t46\t258\t56\t+\t.\t.\r\n",
      "C14906\t175\t176\tC14906\tWUBlastX\tLINE_Penelope\t4\t258\t29\t+\t.\t.\r\n",
      "C14906\t175\t176\tC14906\tWUBlastX\tLINE_Penelope\t46\t258\t56\t+\t.\t.\r\n"
     ]
    }
   ],
   "source": [
    "!head 2020-02-11-UnMethLoci-TE-All.txt"
   ]
  },
  {
   "cell_type": "markdown",
   "metadata": {},
   "source": [
    "### 4g. Putative promoters"
   ]
  },
  {
   "cell_type": "markdown",
   "metadata": {},
   "source": [
    "#### All 10x CpGs"
   ]
  },
  {
   "cell_type": "code",
   "execution_count": 18,
   "metadata": {
    "collapsed": false,
    "scrolled": true
   },
   "outputs": [
    {
     "name": "stdout",
     "output_type": "stream",
     "text": [
      "  176156\n",
      "all 5x CpG loci overlaps with putative promoters\n"
     ]
    }
   ],
   "source": [
    "! {bedtoolsDirectory}intersectBed \\\n",
    "-u \\\n",
    "-a {all10xCpGs} \\\n",
    "-b {putativePromoters} \\\n",
    "| wc -l\n",
    "!echo \"all 10x CpG loci overlaps with putative promoters\""
   ]
  },
  {
   "cell_type": "code",
   "execution_count": 19,
   "metadata": {
    "collapsed": true
   },
   "outputs": [],
   "source": [
    "! {bedtoolsDirectory}intersectBed \\\n",
    "-wb \\\n",
    "-a {all10xCpGs} \\\n",
    "-b {putativePromoters} \\\n",
    "> 2020-02-11-All5xCpGs-Putative-Promoters.txt"
   ]
  },
  {
   "cell_type": "code",
   "execution_count": 20,
   "metadata": {
    "collapsed": false,
    "scrolled": true
   },
   "outputs": [
    {
     "name": "stdout",
     "output_type": "stream",
     "text": [
      "NC_035780.1\t27969\t27970\tNC_035780.1\tGnomon\tmRNA\t27961\t28960\t.\t+\t.\tID=rna1;Parent=gene1;Dbxref=GeneID:111126949,Genbank:XM_022471938.1;Name=XM_022471938.1;gbkey=mRNA;gene=LOC111126949;model_evidence=Supporting evidence includes similarity to: 3 Proteins%2C and 100%25 coverage of the annotated genomic feature by RNAseq alignments%2C including 21 samples with support for all annotated introns;product=UNC5C-like protein;transcript_id=XM_022471938.1\r\n",
      "NC_035780.1\t27979\t27980\tNC_035780.1\tGnomon\tmRNA\t27961\t28960\t.\t+\t.\tID=rna1;Parent=gene1;Dbxref=GeneID:111126949,Genbank:XM_022471938.1;Name=XM_022471938.1;gbkey=mRNA;gene=LOC111126949;model_evidence=Supporting evidence includes similarity to: 3 Proteins%2C and 100%25 coverage of the annotated genomic feature by RNAseq alignments%2C including 21 samples with support for all annotated introns;product=UNC5C-like protein;transcript_id=XM_022471938.1\r\n",
      "NC_035780.1\t28082\t28083\tNC_035780.1\tGnomon\tmRNA\t27961\t28960\t.\t+\t.\tID=rna1;Parent=gene1;Dbxref=GeneID:111126949,Genbank:XM_022471938.1;Name=XM_022471938.1;gbkey=mRNA;gene=LOC111126949;model_evidence=Supporting evidence includes similarity to: 3 Proteins%2C and 100%25 coverage of the annotated genomic feature by RNAseq alignments%2C including 21 samples with support for all annotated introns;product=UNC5C-like protein;transcript_id=XM_022471938.1\r\n",
      "NC_035780.1\t28859\t28860\tNC_035780.1\tGnomon\tmRNA\t27961\t28960\t.\t+\t.\tID=rna1;Parent=gene1;Dbxref=GeneID:111126949,Genbank:XM_022471938.1;Name=XM_022471938.1;gbkey=mRNA;gene=LOC111126949;model_evidence=Supporting evidence includes similarity to: 3 Proteins%2C and 100%25 coverage of the annotated genomic feature by RNAseq alignments%2C including 21 samples with support for all annotated introns;product=UNC5C-like protein;transcript_id=XM_022471938.1\r\n",
      "NC_035780.1\t28924\t28925\tNC_035780.1\tGnomon\tmRNA\t27961\t28960\t.\t+\t.\tID=rna1;Parent=gene1;Dbxref=GeneID:111126949,Genbank:XM_022471938.1;Name=XM_022471938.1;gbkey=mRNA;gene=LOC111126949;model_evidence=Supporting evidence includes similarity to: 3 Proteins%2C and 100%25 coverage of the annotated genomic feature by RNAseq alignments%2C including 21 samples with support for all annotated introns;product=UNC5C-like protein;transcript_id=XM_022471938.1\r\n",
      "NC_035780.1\t46515\t46516\tNC_035780.1\tGnomon\tmRNA\t46507\t47506\t.\t-\t.\tID=rna3;Parent=gene2;Dbxref=GeneID:111110729,Genbank:XM_022447333.1;Name=XM_022447333.1;gbkey=mRNA;gene=LOC111110729;model_evidence=Supporting evidence includes similarity to: 1 Protein%2C and 100%25 coverage of the annotated genomic feature by RNAseq alignments%2C including 14 samples with support for all annotated introns;product=FMRFamide receptor-like%2C transcript variant X2;transcript_id=XM_022447333.1\r\n",
      "NC_035780.1\t95260\t95261\tNC_035780.1\tGnomon\tmRNA\t95255\t96254\t.\t-\t.\tID=rna4;Parent=gene3;Dbxref=GeneID:111112434,Genbank:XM_022449924.1;Name=XM_022449924.1;gbkey=mRNA;gene=LOC111112434;model_evidence=Supporting evidence includes similarity to: 7 Proteins%2C and 100%25 coverage of the annotated genomic feature by RNAseq alignments%2C including 13 samples with support for all annotated introns;product=homeobox protein Hox-B7-like;transcript_id=XM_022449924.1\r\n",
      "NC_035780.1\t95301\t95302\tNC_035780.1\tGnomon\tmRNA\t95255\t96254\t.\t-\t.\tID=rna4;Parent=gene3;Dbxref=GeneID:111112434,Genbank:XM_022449924.1;Name=XM_022449924.1;gbkey=mRNA;gene=LOC111112434;model_evidence=Supporting evidence includes similarity to: 7 Proteins%2C and 100%25 coverage of the annotated genomic feature by RNAseq alignments%2C including 13 samples with support for all annotated introns;product=homeobox protein Hox-B7-like;transcript_id=XM_022449924.1\r\n",
      "NC_035780.1\t95615\t95616\tNC_035780.1\tGnomon\tmRNA\t95255\t96254\t.\t-\t.\tID=rna4;Parent=gene3;Dbxref=GeneID:111112434,Genbank:XM_022449924.1;Name=XM_022449924.1;gbkey=mRNA;gene=LOC111112434;model_evidence=Supporting evidence includes similarity to: 7 Proteins%2C and 100%25 coverage of the annotated genomic feature by RNAseq alignments%2C including 13 samples with support for all annotated introns;product=homeobox protein Hox-B7-like;transcript_id=XM_022449924.1\r\n",
      "NC_035780.1\t95643\t95644\tNC_035780.1\tGnomon\tmRNA\t95255\t96254\t.\t-\t.\tID=rna4;Parent=gene3;Dbxref=GeneID:111112434,Genbank:XM_022449924.1;Name=XM_022449924.1;gbkey=mRNA;gene=LOC111112434;model_evidence=Supporting evidence includes similarity to: 7 Proteins%2C and 100%25 coverage of the annotated genomic feature by RNAseq alignments%2C including 13 samples with support for all annotated introns;product=homeobox protein Hox-B7-like;transcript_id=XM_022449924.1\r\n"
     ]
    }
   ],
   "source": [
    "!head 2020-02-11-All5xCpGs-Putative-Promoters.txt"
   ]
  },
  {
   "cell_type": "markdown",
   "metadata": {},
   "source": [
    "#### Methylated loci"
   ]
  },
  {
   "cell_type": "code",
   "execution_count": 21,
   "metadata": {
    "collapsed": false,
    "scrolled": true
   },
   "outputs": [
    {
     "name": "stdout",
     "output_type": "stream",
     "text": [
      "  106111\n",
      "methylated loci overlaps with putative promoters\n"
     ]
    }
   ],
   "source": [
    "! {bedtoolsDirectory}intersectBed \\\n",
    "-u \\\n",
    "-a {methylatedLoci} \\\n",
    "-b {putativePromoters} \\\n",
    "| wc -l\n",
    "!echo \"methylated loci overlaps with putative promoters\""
   ]
  },
  {
   "cell_type": "code",
   "execution_count": 22,
   "metadata": {
    "collapsed": true
   },
   "outputs": [],
   "source": [
    "! {bedtoolsDirectory}intersectBed \\\n",
    "-wb \\\n",
    "-a {methylatedLoci} \\\n",
    "-b {putativePromoters} \\\n",
    "> 2020-02-11-MethLoci-Putative-Promoters.txt"
   ]
  },
  {
   "cell_type": "code",
   "execution_count": 23,
   "metadata": {
    "collapsed": false,
    "scrolled": true
   },
   "outputs": [
    {
     "name": "stdout",
     "output_type": "stream",
     "text": [
      "NC_035780.1\t27969\t27970\tNC_035780.1\tGnomon\tmRNA\t27961\t28960\t.\t+\t.\tID=rna1;Parent=gene1;Dbxref=GeneID:111126949,Genbank:XM_022471938.1;Name=XM_022471938.1;gbkey=mRNA;gene=LOC111126949;model_evidence=Supporting evidence includes similarity to: 3 Proteins%2C and 100%25 coverage of the annotated genomic feature by RNAseq alignments%2C including 21 samples with support for all annotated introns;product=UNC5C-like protein;transcript_id=XM_022471938.1\r\n",
      "NC_035780.1\t27979\t27980\tNC_035780.1\tGnomon\tmRNA\t27961\t28960\t.\t+\t.\tID=rna1;Parent=gene1;Dbxref=GeneID:111126949,Genbank:XM_022471938.1;Name=XM_022471938.1;gbkey=mRNA;gene=LOC111126949;model_evidence=Supporting evidence includes similarity to: 3 Proteins%2C and 100%25 coverage of the annotated genomic feature by RNAseq alignments%2C including 21 samples with support for all annotated introns;product=UNC5C-like protein;transcript_id=XM_022471938.1\r\n",
      "NC_035780.1\t28082\t28083\tNC_035780.1\tGnomon\tmRNA\t27961\t28960\t.\t+\t.\tID=rna1;Parent=gene1;Dbxref=GeneID:111126949,Genbank:XM_022471938.1;Name=XM_022471938.1;gbkey=mRNA;gene=LOC111126949;model_evidence=Supporting evidence includes similarity to: 3 Proteins%2C and 100%25 coverage of the annotated genomic feature by RNAseq alignments%2C including 21 samples with support for all annotated introns;product=UNC5C-like protein;transcript_id=XM_022471938.1\r\n",
      "NC_035780.1\t99242\t99243\tNC_035780.1\tGnomon\tmRNA\t98840\t99839\t.\t+\t.\tID=rna5;Parent=gene4;Dbxref=GeneID:111120752,Genbank:XM_022461698.1;Name=XM_022461698.1;gbkey=mRNA;gene=LOC111120752;model_evidence=Supporting evidence includes similarity to: 10 Proteins%2C and 100%25 coverage of the annotated genomic feature by RNAseq alignments%2C including 27 samples with support for all annotated introns;product=ribulose-phosphate 3-epimerase-like;transcript_id=XM_022461698.1\r\n",
      "NC_035780.1\t99254\t99255\tNC_035780.1\tGnomon\tmRNA\t98840\t99839\t.\t+\t.\tID=rna5;Parent=gene4;Dbxref=GeneID:111120752,Genbank:XM_022461698.1;Name=XM_022461698.1;gbkey=mRNA;gene=LOC111120752;model_evidence=Supporting evidence includes similarity to: 10 Proteins%2C and 100%25 coverage of the annotated genomic feature by RNAseq alignments%2C including 27 samples with support for all annotated introns;product=ribulose-phosphate 3-epimerase-like;transcript_id=XM_022461698.1\r\n",
      "NC_035780.1\t99258\t99259\tNC_035780.1\tGnomon\tmRNA\t98840\t99839\t.\t+\t.\tID=rna5;Parent=gene4;Dbxref=GeneID:111120752,Genbank:XM_022461698.1;Name=XM_022461698.1;gbkey=mRNA;gene=LOC111120752;model_evidence=Supporting evidence includes similarity to: 10 Proteins%2C and 100%25 coverage of the annotated genomic feature by RNAseq alignments%2C including 27 samples with support for all annotated introns;product=ribulose-phosphate 3-epimerase-like;transcript_id=XM_022461698.1\r\n",
      "NC_035780.1\t99261\t99262\tNC_035780.1\tGnomon\tmRNA\t98840\t99839\t.\t+\t.\tID=rna5;Parent=gene4;Dbxref=GeneID:111120752,Genbank:XM_022461698.1;Name=XM_022461698.1;gbkey=mRNA;gene=LOC111120752;model_evidence=Supporting evidence includes similarity to: 10 Proteins%2C and 100%25 coverage of the annotated genomic feature by RNAseq alignments%2C including 27 samples with support for all annotated introns;product=ribulose-phosphate 3-epimerase-like;transcript_id=XM_022461698.1\r\n",
      "NC_035780.1\t99337\t99338\tNC_035780.1\tGnomon\tmRNA\t98840\t99839\t.\t+\t.\tID=rna5;Parent=gene4;Dbxref=GeneID:111120752,Genbank:XM_022461698.1;Name=XM_022461698.1;gbkey=mRNA;gene=LOC111120752;model_evidence=Supporting evidence includes similarity to: 10 Proteins%2C and 100%25 coverage of the annotated genomic feature by RNAseq alignments%2C including 27 samples with support for all annotated introns;product=ribulose-phosphate 3-epimerase-like;transcript_id=XM_022461698.1\r\n",
      "NC_035780.1\t99372\t99373\tNC_035780.1\tGnomon\tmRNA\t98840\t99839\t.\t+\t.\tID=rna5;Parent=gene4;Dbxref=GeneID:111120752,Genbank:XM_022461698.1;Name=XM_022461698.1;gbkey=mRNA;gene=LOC111120752;model_evidence=Supporting evidence includes similarity to: 10 Proteins%2C and 100%25 coverage of the annotated genomic feature by RNAseq alignments%2C including 27 samples with support for all annotated introns;product=ribulose-phosphate 3-epimerase-like;transcript_id=XM_022461698.1\r\n",
      "NC_035780.1\t99377\t99378\tNC_035780.1\tGnomon\tmRNA\t98840\t99839\t.\t+\t.\tID=rna5;Parent=gene4;Dbxref=GeneID:111120752,Genbank:XM_022461698.1;Name=XM_022461698.1;gbkey=mRNA;gene=LOC111120752;model_evidence=Supporting evidence includes similarity to: 10 Proteins%2C and 100%25 coverage of the annotated genomic feature by RNAseq alignments%2C including 27 samples with support for all annotated introns;product=ribulose-phosphate 3-epimerase-like;transcript_id=XM_022461698.1\r\n"
     ]
    }
   ],
   "source": [
    "!head 2020-02-11-MethLoci-Putative-Promoters.txt"
   ]
  },
  {
   "cell_type": "markdown",
   "metadata": {},
   "source": [
    "#### Sparsely methylated loci"
   ]
  },
  {
   "cell_type": "code",
   "execution_count": 24,
   "metadata": {
    "collapsed": false,
    "scrolled": true
   },
   "outputs": [
    {
     "name": "stdout",
     "output_type": "stream",
     "text": [
      "   22870\n",
      "sparsely methylated loci overlaps with putative promoters\n"
     ]
    }
   ],
   "source": [
    "! {bedtoolsDirectory}intersectBed \\\n",
    "-u \\\n",
    "-a {sparselyMethylatedLoci} \\\n",
    "-b {putativePromoters} \\\n",
    "| wc -l\n",
    "!echo \"sparsely methylated loci overlaps with putative promoters\""
   ]
  },
  {
   "cell_type": "code",
   "execution_count": 25,
   "metadata": {
    "collapsed": true
   },
   "outputs": [],
   "source": [
    "! {bedtoolsDirectory}intersectBed \\\n",
    "-wb \\\n",
    "-a {sparselyMethylatedLoci} \\\n",
    "-b {putativePromoters} \\\n",
    "> 2020-02-11-SparseMethLoci-Putative-Promoters.txt"
   ]
  },
  {
   "cell_type": "code",
   "execution_count": 26,
   "metadata": {
    "collapsed": false,
    "scrolled": true
   },
   "outputs": [
    {
     "name": "stdout",
     "output_type": "stream",
     "text": [
      "NC_035780.1\t95674\t95675\tNC_035780.1\tGnomon\tmRNA\t95255\t96254\t.\t-\t.\tID=rna4;Parent=gene3;Dbxref=GeneID:111112434,Genbank:XM_022449924.1;Name=XM_022449924.1;gbkey=mRNA;gene=LOC111112434;model_evidence=Supporting evidence includes similarity to: 7 Proteins%2C and 100%25 coverage of the annotated genomic feature by RNAseq alignments%2C including 13 samples with support for all annotated introns;product=homeobox protein Hox-B7-like;transcript_id=XM_022449924.1\r\n",
      "NC_035780.1\t99251\t99252\tNC_035780.1\tGnomon\tmRNA\t98840\t99839\t.\t+\t.\tID=rna5;Parent=gene4;Dbxref=GeneID:111120752,Genbank:XM_022461698.1;Name=XM_022461698.1;gbkey=mRNA;gene=LOC111120752;model_evidence=Supporting evidence includes similarity to: 10 Proteins%2C and 100%25 coverage of the annotated genomic feature by RNAseq alignments%2C including 27 samples with support for all annotated introns;product=ribulose-phosphate 3-epimerase-like;transcript_id=XM_022461698.1\r\n",
      "NC_035780.1\t232223\t232224\tNC_035780.1\tGnomon\tmRNA\t231965\t232964\t.\t-\t.\tID=rna15;Parent=gene14;Dbxref=GeneID:111109550,Genbank:XM_022445909.1;Name=XM_022445909.1;gbkey=mRNA;gene=LOC111109550;model_evidence=Supporting evidence includes similarity to: 1 EST%2C 12 Proteins%2C and 100%25 coverage of the annotated genomic feature by RNAseq alignments%2C including 13 samples with support for all annotated introns;product=sulfotransferase family cytosolic 1B member 1-like%2C transcript variant X3;transcript_id=XM_022445909.1\r\n",
      "NC_035780.1\t232223\t232224\tNC_035780.1\tGnomon\tmRNA\t231948\t232947\t.\t-\t.\tID=rna16;Parent=gene14;Dbxref=GeneID:111109550,Genbank:XM_022445757.1;Name=XM_022445757.1;gbkey=mRNA;gene=LOC111109550;model_evidence=Supporting evidence includes similarity to: 12 Proteins%2C and 100%25 coverage of the annotated genomic feature by RNAseq alignments%2C including 18 samples with support for all annotated introns;product=sulfotransferase family cytosolic 1B member 1-like%2C transcript variant X1;transcript_id=XM_022445757.1\r\n",
      "NC_035780.1\t232223\t232224\tNC_035780.1\tGnomon\tmRNA\t231940\t232939\t.\t-\t.\tID=rna17;Parent=gene14;Dbxref=GeneID:111109550,Genbank:XM_022445837.1;Name=XM_022445837.1;gbkey=mRNA;gene=LOC111109550;model_evidence=Supporting evidence includes similarity to: 12 Proteins%2C and 100%25 coverage of the annotated genomic feature by RNAseq alignments%2C including 16 samples with support for all annotated introns;product=sulfotransferase family cytosolic 1B member 1-like%2C transcript variant X2;transcript_id=XM_022445837.1\r\n",
      "NC_035780.1\t232225\t232226\tNC_035780.1\tGnomon\tmRNA\t231965\t232964\t.\t-\t.\tID=rna15;Parent=gene14;Dbxref=GeneID:111109550,Genbank:XM_022445909.1;Name=XM_022445909.1;gbkey=mRNA;gene=LOC111109550;model_evidence=Supporting evidence includes similarity to: 1 EST%2C 12 Proteins%2C and 100%25 coverage of the annotated genomic feature by RNAseq alignments%2C including 13 samples with support for all annotated introns;product=sulfotransferase family cytosolic 1B member 1-like%2C transcript variant X3;transcript_id=XM_022445909.1\r\n",
      "NC_035780.1\t232225\t232226\tNC_035780.1\tGnomon\tmRNA\t231948\t232947\t.\t-\t.\tID=rna16;Parent=gene14;Dbxref=GeneID:111109550,Genbank:XM_022445757.1;Name=XM_022445757.1;gbkey=mRNA;gene=LOC111109550;model_evidence=Supporting evidence includes similarity to: 12 Proteins%2C and 100%25 coverage of the annotated genomic feature by RNAseq alignments%2C including 18 samples with support for all annotated introns;product=sulfotransferase family cytosolic 1B member 1-like%2C transcript variant X1;transcript_id=XM_022445757.1\r\n",
      "NC_035780.1\t232225\t232226\tNC_035780.1\tGnomon\tmRNA\t231940\t232939\t.\t-\t.\tID=rna17;Parent=gene14;Dbxref=GeneID:111109550,Genbank:XM_022445837.1;Name=XM_022445837.1;gbkey=mRNA;gene=LOC111109550;model_evidence=Supporting evidence includes similarity to: 12 Proteins%2C and 100%25 coverage of the annotated genomic feature by RNAseq alignments%2C including 16 samples with support for all annotated introns;product=sulfotransferase family cytosolic 1B member 1-like%2C transcript variant X2;transcript_id=XM_022445837.1\r\n",
      "NC_035780.1\t232239\t232240\tNC_035780.1\tGnomon\tmRNA\t231965\t232964\t.\t-\t.\tID=rna15;Parent=gene14;Dbxref=GeneID:111109550,Genbank:XM_022445909.1;Name=XM_022445909.1;gbkey=mRNA;gene=LOC111109550;model_evidence=Supporting evidence includes similarity to: 1 EST%2C 12 Proteins%2C and 100%25 coverage of the annotated genomic feature by RNAseq alignments%2C including 13 samples with support for all annotated introns;product=sulfotransferase family cytosolic 1B member 1-like%2C transcript variant X3;transcript_id=XM_022445909.1\r\n",
      "NC_035780.1\t232239\t232240\tNC_035780.1\tGnomon\tmRNA\t231948\t232947\t.\t-\t.\tID=rna16;Parent=gene14;Dbxref=GeneID:111109550,Genbank:XM_022445757.1;Name=XM_022445757.1;gbkey=mRNA;gene=LOC111109550;model_evidence=Supporting evidence includes similarity to: 12 Proteins%2C and 100%25 coverage of the annotated genomic feature by RNAseq alignments%2C including 18 samples with support for all annotated introns;product=sulfotransferase family cytosolic 1B member 1-like%2C transcript variant X1;transcript_id=XM_022445757.1\r\n"
     ]
    }
   ],
   "source": [
    "!head 2020-02-11-SparseMethLoci-Putative-Promoters.txt"
   ]
  },
  {
   "cell_type": "markdown",
   "metadata": {},
   "source": [
    "#### Unmethylated loci"
   ]
  },
  {
   "cell_type": "code",
   "execution_count": 27,
   "metadata": {
    "collapsed": false,
    "scrolled": true
   },
   "outputs": [
    {
     "name": "stdout",
     "output_type": "stream",
     "text": [
      "   47175\n",
      "unmethylated loci overlaps with putative promoters\n"
     ]
    }
   ],
   "source": [
    "! {bedtoolsDirectory}intersectBed \\\n",
    "-u \\\n",
    "-a {unmethylatedLoci} \\\n",
    "-b {putativePromoters} \\\n",
    "| wc -l\n",
    "!echo \"unmethylated loci overlaps with putative promoters\""
   ]
  },
  {
   "cell_type": "code",
   "execution_count": 28,
   "metadata": {
    "collapsed": true
   },
   "outputs": [],
   "source": [
    "! {bedtoolsDirectory}intersectBed \\\n",
    "-wb \\\n",
    "-a {unmethylatedLoci} \\\n",
    "-b {putativePromoters} \\\n",
    "> 2020-02-11-UnMethLoci-Putative-Promoters.txt"
   ]
  },
  {
   "cell_type": "code",
   "execution_count": 29,
   "metadata": {
    "collapsed": false,
    "scrolled": true
   },
   "outputs": [
    {
     "name": "stdout",
     "output_type": "stream",
     "text": [
      "NC_035780.1\t28859\t28860\tNC_035780.1\tGnomon\tmRNA\t27961\t28960\t.\t+\t.\tID=rna1;Parent=gene1;Dbxref=GeneID:111126949,Genbank:XM_022471938.1;Name=XM_022471938.1;gbkey=mRNA;gene=LOC111126949;model_evidence=Supporting evidence includes similarity to: 3 Proteins%2C and 100%25 coverage of the annotated genomic feature by RNAseq alignments%2C including 21 samples with support for all annotated introns;product=UNC5C-like protein;transcript_id=XM_022471938.1\r\n",
      "NC_035780.1\t28924\t28925\tNC_035780.1\tGnomon\tmRNA\t27961\t28960\t.\t+\t.\tID=rna1;Parent=gene1;Dbxref=GeneID:111126949,Genbank:XM_022471938.1;Name=XM_022471938.1;gbkey=mRNA;gene=LOC111126949;model_evidence=Supporting evidence includes similarity to: 3 Proteins%2C and 100%25 coverage of the annotated genomic feature by RNAseq alignments%2C including 21 samples with support for all annotated introns;product=UNC5C-like protein;transcript_id=XM_022471938.1\r\n",
      "NC_035780.1\t46515\t46516\tNC_035780.1\tGnomon\tmRNA\t46507\t47506\t.\t-\t.\tID=rna3;Parent=gene2;Dbxref=GeneID:111110729,Genbank:XM_022447333.1;Name=XM_022447333.1;gbkey=mRNA;gene=LOC111110729;model_evidence=Supporting evidence includes similarity to: 1 Protein%2C and 100%25 coverage of the annotated genomic feature by RNAseq alignments%2C including 14 samples with support for all annotated introns;product=FMRFamide receptor-like%2C transcript variant X2;transcript_id=XM_022447333.1\r\n",
      "NC_035780.1\t95260\t95261\tNC_035780.1\tGnomon\tmRNA\t95255\t96254\t.\t-\t.\tID=rna4;Parent=gene3;Dbxref=GeneID:111112434,Genbank:XM_022449924.1;Name=XM_022449924.1;gbkey=mRNA;gene=LOC111112434;model_evidence=Supporting evidence includes similarity to: 7 Proteins%2C and 100%25 coverage of the annotated genomic feature by RNAseq alignments%2C including 13 samples with support for all annotated introns;product=homeobox protein Hox-B7-like;transcript_id=XM_022449924.1\r\n",
      "NC_035780.1\t95301\t95302\tNC_035780.1\tGnomon\tmRNA\t95255\t96254\t.\t-\t.\tID=rna4;Parent=gene3;Dbxref=GeneID:111112434,Genbank:XM_022449924.1;Name=XM_022449924.1;gbkey=mRNA;gene=LOC111112434;model_evidence=Supporting evidence includes similarity to: 7 Proteins%2C and 100%25 coverage of the annotated genomic feature by RNAseq alignments%2C including 13 samples with support for all annotated introns;product=homeobox protein Hox-B7-like;transcript_id=XM_022449924.1\r\n",
      "NC_035780.1\t95615\t95616\tNC_035780.1\tGnomon\tmRNA\t95255\t96254\t.\t-\t.\tID=rna4;Parent=gene3;Dbxref=GeneID:111112434,Genbank:XM_022449924.1;Name=XM_022449924.1;gbkey=mRNA;gene=LOC111112434;model_evidence=Supporting evidence includes similarity to: 7 Proteins%2C and 100%25 coverage of the annotated genomic feature by RNAseq alignments%2C including 13 samples with support for all annotated introns;product=homeobox protein Hox-B7-like;transcript_id=XM_022449924.1\r\n",
      "NC_035780.1\t95643\t95644\tNC_035780.1\tGnomon\tmRNA\t95255\t96254\t.\t-\t.\tID=rna4;Parent=gene3;Dbxref=GeneID:111112434,Genbank:XM_022449924.1;Name=XM_022449924.1;gbkey=mRNA;gene=LOC111112434;model_evidence=Supporting evidence includes similarity to: 7 Proteins%2C and 100%25 coverage of the annotated genomic feature by RNAseq alignments%2C including 13 samples with support for all annotated introns;product=homeobox protein Hox-B7-like;transcript_id=XM_022449924.1\r\n",
      "NC_035780.1\t95686\t95687\tNC_035780.1\tGnomon\tmRNA\t95255\t96254\t.\t-\t.\tID=rna4;Parent=gene3;Dbxref=GeneID:111112434,Genbank:XM_022449924.1;Name=XM_022449924.1;gbkey=mRNA;gene=LOC111112434;model_evidence=Supporting evidence includes similarity to: 7 Proteins%2C and 100%25 coverage of the annotated genomic feature by RNAseq alignments%2C including 13 samples with support for all annotated introns;product=homeobox protein Hox-B7-like;transcript_id=XM_022449924.1\r\n",
      "NC_035780.1\t95710\t95711\tNC_035780.1\tGnomon\tmRNA\t95255\t96254\t.\t-\t.\tID=rna4;Parent=gene3;Dbxref=GeneID:111112434,Genbank:XM_022449924.1;Name=XM_022449924.1;gbkey=mRNA;gene=LOC111112434;model_evidence=Supporting evidence includes similarity to: 7 Proteins%2C and 100%25 coverage of the annotated genomic feature by RNAseq alignments%2C including 13 samples with support for all annotated introns;product=homeobox protein Hox-B7-like;transcript_id=XM_022449924.1\r\n",
      "NC_035780.1\t95723\t95724\tNC_035780.1\tGnomon\tmRNA\t95255\t96254\t.\t-\t.\tID=rna4;Parent=gene3;Dbxref=GeneID:111112434,Genbank:XM_022449924.1;Name=XM_022449924.1;gbkey=mRNA;gene=LOC111112434;model_evidence=Supporting evidence includes similarity to: 7 Proteins%2C and 100%25 coverage of the annotated genomic feature by RNAseq alignments%2C including 13 samples with support for all annotated introns;product=homeobox protein Hox-B7-like;transcript_id=XM_022449924.1\r\n"
     ]
    }
   ],
   "source": [
    "!head 2020-02-11-UnMethLoci-Putative-Promoters.txt"
   ]
  },
  {
   "cell_type": "markdown",
   "metadata": {},
   "source": [
    "### 4h. No overlaps"
   ]
  },
  {
   "cell_type": "markdown",
   "metadata": {},
   "source": [
    "#### All 10x CpGs"
   ]
  },
  {
   "cell_type": "code",
   "execution_count": 30,
   "metadata": {
    "collapsed": false
   },
   "outputs": [
    {
     "name": "stdout",
     "output_type": "stream",
     "text": [
      "  603597\n",
      "all 5x CpG loci do not overlap with exons, introns, transposable elements (all), or putative promoters\n"
     ]
    }
   ],
   "source": [
    "! {bedtoolsDirectory}intersectBed \\\n",
    "-v \\\n",
    "-a {all10xCpGs} \\\n",
    "-b {exonList} {intronList} {transposableElementsAll} {putativePromoters} \\\n",
    "| wc -l\n",
    "!echo \"all 10x CpG loci do not overlap with exons, introns, transposable elements (all), or putative promoters\""
   ]
  },
  {
   "cell_type": "code",
   "execution_count": 31,
   "metadata": {
    "collapsed": true
   },
   "outputs": [],
   "source": [
    "! {bedtoolsDirectory}intersectBed \\\n",
    "-v \\\n",
    "-a {all10xCpGs} \\\n",
    "-b {exonList} {intronList} {transposableElementsAll} {putativePromoters} \\\n",
    "> 2020-02-11-All5xCpGs-NoOverlaps.txt"
   ]
  },
  {
   "cell_type": "code",
   "execution_count": 32,
   "metadata": {
    "collapsed": false,
    "scrolled": false
   },
   "outputs": [
    {
     "name": "stdout",
     "output_type": "stream",
     "text": [
      "NC_007175.2\t48\t49\r\n",
      "NC_007175.2\t49\t50\r\n",
      "NC_007175.2\t50\t51\r\n",
      "NC_007175.2\t51\t52\r\n",
      "NC_007175.2\t87\t88\r\n",
      "NC_007175.2\t88\t89\r\n",
      "NC_007175.2\t146\t147\r\n",
      "NC_007175.2\t147\t148\r\n",
      "NC_007175.2\t173\t174\r\n",
      "NC_007175.2\t192\t193\r\n"
     ]
    }
   ],
   "source": [
    "!head 2020-02-11-All5xCpGs-NoOverlaps.txt"
   ]
  },
  {
   "cell_type": "markdown",
   "metadata": {},
   "source": [
    "#### Methylated loci"
   ]
  },
  {
   "cell_type": "code",
   "execution_count": 33,
   "metadata": {
    "collapsed": false
   },
   "outputs": [
    {
     "name": "stdout",
     "output_type": "stream",
     "text": [
      "  372047\n",
      "methylated loci do not overlap with exons, introns, transposable elements (all), or putative promoters\n"
     ]
    }
   ],
   "source": [
    "! {bedtoolsDirectory}intersectBed \\\n",
    "-v \\\n",
    "-a {methylatedLoci} \\\n",
    "-b {exonList} {intronList} {transposableElementsAll} {putativePromoters} \\\n",
    "| wc -l\n",
    "!echo \"methylated loci do not overlap with exons, introns, transposable elements (all), or putative promoters\""
   ]
  },
  {
   "cell_type": "code",
   "execution_count": 34,
   "metadata": {
    "collapsed": true
   },
   "outputs": [],
   "source": [
    "! {bedtoolsDirectory}intersectBed \\\n",
    "-v \\\n",
    "-a {methylatedLoci} \\\n",
    "-b {exonList} {intronList} {transposableElementsAll} {putativePromoters} \\\n",
    "> 2020-02-11-MethLoci-NoOverlaps.txt"
   ]
  },
  {
   "cell_type": "code",
   "execution_count": 35,
   "metadata": {
    "collapsed": false,
    "scrolled": false
   },
   "outputs": [
    {
     "name": "stdout",
     "output_type": "stream",
     "text": [
      "NC_035780.1\t9637\t9638\r\n",
      "NC_035780.1\t9657\t9658\r\n",
      "NC_035780.1\t10089\t10090\r\n",
      "NC_035780.1\t10331\t10332\r\n",
      "NC_035780.1\t11692\t11693\r\n",
      "NC_035780.1\t11706\t11707\r\n",
      "NC_035780.1\t11711\t11712\r\n",
      "NC_035780.1\t12686\t12687\r\n",
      "NC_035780.1\t12758\t12759\r\n",
      "NC_035780.1\t13486\t13487\r\n"
     ]
    }
   ],
   "source": [
    "!head 2020-02-11-MethLoci-NoOverlaps.txt"
   ]
  },
  {
   "cell_type": "markdown",
   "metadata": {},
   "source": [
    "#### Sparsely methylated loci"
   ]
  },
  {
   "cell_type": "code",
   "execution_count": 36,
   "metadata": {
    "collapsed": false
   },
   "outputs": [
    {
     "name": "stdout",
     "output_type": "stream",
     "text": [
      "   84582\n",
      "sparsely methylated loci do not overlap with exons, introns, transposable elements (all), or putative promoters\n"
     ]
    }
   ],
   "source": [
    "! {bedtoolsDirectory}intersectBed \\\n",
    "-v \\\n",
    "-a {sparselyMethylatedLoci} \\\n",
    "-b {exonList} {intronList} {transposableElementsAll} {putativePromoters} \\\n",
    "| wc -l\n",
    "!echo \"sparsely methylated loci do not overlap with exons, introns, transposable elements (all), or putative promoters\""
   ]
  },
  {
   "cell_type": "code",
   "execution_count": 37,
   "metadata": {
    "collapsed": true
   },
   "outputs": [],
   "source": [
    "! {bedtoolsDirectory}intersectBed \\\n",
    "-v \\\n",
    "-a {sparselyMethylatedLoci} \\\n",
    "-b {exonList} {intronList} {transposableElementsAll} {putativePromoters} \\\n",
    "> 2020-02-11-SparseMethLoci-NoOverlaps.txt"
   ]
  },
  {
   "cell_type": "code",
   "execution_count": 38,
   "metadata": {
    "collapsed": false,
    "scrolled": false
   },
   "outputs": [
    {
     "name": "stdout",
     "output_type": "stream",
     "text": [
      "NC_007175.2\t1506\t1507\r\n",
      "NC_007175.2\t4841\t4842\r\n",
      "NC_007175.2\t13069\t13070\r\n",
      "NC_035780.1\t421\t422\r\n",
      "NC_035780.1\t1101\t1102\r\n",
      "NC_035780.1\t1540\t1541\r\n",
      "NC_035780.1\t3468\t3469\r\n",
      "NC_035780.1\t9789\t9790\r\n",
      "NC_035780.1\t9832\t9833\r\n",
      "NC_035780.1\t9854\t9855\r\n"
     ]
    }
   ],
   "source": [
    "!head 2020-02-11-SparseMethLoci-NoOverlaps.txt"
   ]
  },
  {
   "cell_type": "markdown",
   "metadata": {},
   "source": [
    "#### Unmethylated loci"
   ]
  },
  {
   "cell_type": "code",
   "execution_count": 39,
   "metadata": {
    "collapsed": false
   },
   "outputs": [
    {
     "name": "stdout",
     "output_type": "stream",
     "text": [
      "  146968\n",
      "unmethylated loci do not overlap with exons, introns, transposable elements (all), or putative promoters\n"
     ]
    }
   ],
   "source": [
    "! {bedtoolsDirectory}intersectBed \\\n",
    "-v \\\n",
    "-a {unmethylatedLoci} \\\n",
    "-b {exonList} {intronList} {transposableElementsAll} {putativePromoters} \\\n",
    "| wc -l\n",
    "!echo \"unmethylated loci do not overlap with exons, introns, transposable elements (all), or putative promoters\""
   ]
  },
  {
   "cell_type": "code",
   "execution_count": 40,
   "metadata": {
    "collapsed": true
   },
   "outputs": [],
   "source": [
    "! {bedtoolsDirectory}intersectBed \\\n",
    "-v \\\n",
    "-a {unmethylatedLoci} \\\n",
    "-b {exonList} {intronList} {transposableElementsAll} {putativePromoters} \\\n",
    "> 2020-02-11-UnMethLoci-NoOverlaps.txt"
   ]
  },
  {
   "cell_type": "code",
   "execution_count": 41,
   "metadata": {
    "collapsed": false,
    "scrolled": false
   },
   "outputs": [
    {
     "name": "stdout",
     "output_type": "stream",
     "text": [
      "NC_007175.2\t48\t49\r\n",
      "NC_007175.2\t49\t50\r\n",
      "NC_007175.2\t50\t51\r\n",
      "NC_007175.2\t51\t52\r\n",
      "NC_007175.2\t87\t88\r\n",
      "NC_007175.2\t88\t89\r\n",
      "NC_007175.2\t146\t147\r\n",
      "NC_007175.2\t147\t148\r\n",
      "NC_007175.2\t173\t174\r\n",
      "NC_007175.2\t192\t193\r\n"
     ]
    }
   ],
   "source": [
    "!head 2020-02-11-UnMethLoci-NoOverlaps.txt"
   ]
  },
  {
   "cell_type": "markdown",
   "metadata": {
    "collapsed": true
   },
   "source": [
    "## 5. Identify methylation islands"
   ]
  },
  {
   "cell_type": "markdown",
   "metadata": {
    "collapsed": true
   },
   "source": [
    "To identify methylation islands using the method from Jeong et al. (2018), I need to define:\n",
    "\n",
    "- starting size of the methylation window: 500 bp\n",
    "- minimum fraction of methylated CpGs required within the window to be accepted: 0.02\n",
    "- step size to extend the accepted window as long as the mCpG fraction is met: 50 bp\n",
    "- mCpG file: input with mCpG chromosome and bp position"
   ]
  },
  {
   "cell_type": "markdown",
   "metadata": {},
   "source": [
    "### 5a. Create mCpG input file"
   ]
  },
  {
   "cell_type": "code",
   "execution_count": null,
   "metadata": {
    "collapsed": true
   },
   "outputs": [],
   "source": [
    "#Modify mCpG file by removing the third column that is not needed for methylation island analysis\n",
    "!awk '{print $1\"\\t\"$2}' 2020-02-11-All-10x-CpG-Loci-Methylated.bed \\ \n",
    "> 2020-02-11-All-10x-CpG-Loci-Methylated-Reduced.bed"
   ]
  },
  {
   "cell_type": "code",
   "execution_count": 5,
   "metadata": {
    "collapsed": false
   },
   "outputs": [
    {
     "name": "stdout",
     "output_type": "stream",
     "text": [
      "NC_035780.1\t9253\r\n",
      "NC_035780.1\t9637\r\n",
      "NC_035780.1\t9657\r\n",
      "NC_035780.1\t10089\r\n",
      "NC_035780.1\t10331\r\n",
      "NC_035780.1\t11692\r\n",
      "NC_035780.1\t11706\r\n",
      "NC_035780.1\t11711\r\n",
      "NC_035780.1\t12686\r\n",
      "NC_035780.1\t12758\r\n"
     ]
    }
   ],
   "source": [
    "#Confirm file only has chromosome and start bp for mCpG\n",
    "!head 2020-02-11-All-10x-CpG-Loci-Methylated-Reduced.bed"
   ]
  },
  {
   "cell_type": "markdown",
   "metadata": {},
   "source": [
    "### 5b. Create methylation islands"
   ]
  },
  {
   "cell_type": "code",
   "execution_count": 22,
   "metadata": {
    "collapsed": false
   },
   "outputs": [],
   "source": [
    "#Identify methylation islands using 0.02 mCpG fraction\n",
    "! ./methyl_island_sliding_window.pl 500 0.02 50 2020-02-11-All-10x-CpG-Loci-Methylated-Reduced.bed \\\n",
    "> 2020-02-11-Methylation-Islands-500_0.02_50.tab"
   ]
  },
  {
   "cell_type": "code",
   "execution_count": 23,
   "metadata": {
    "collapsed": false,
    "scrolled": true
   },
   "outputs": [
    {
     "name": "stdout",
     "output_type": "stream",
     "text": [
      "NC_035780.1\t23585\t23723\t13\n",
      "NC_035780.1\t36000\t36358\t11\n",
      "NC_035780.1\t100558\t101923\t30\n",
      "NC_035780.1\t102593\t103702\t37\n",
      "NC_035780.1\t115832\t116304\t11\n",
      "NC_035780.1\t211199\t211544\t11\n",
      "NC_035780.1\t239676\t240134\t13\n",
      "NC_035780.1\t245717\t248838\t63\n",
      "NC_035780.1\t250197\t351003\t2024\n",
      "NC_035780.1\t352791\t353232\t10\n",
      "   63483 2020-02-06-Methylation-Islands-500_0.02_50.tab\n"
     ]
    }
   ],
   "source": [
    "#chr, star, end, number mCpG\n",
    "#Number of methylation islands\n",
    "!head 2020-02-11-Methylation-Islands-500_0.02_50.tab\n",
    "!wc -l 2020-02-11-Methylation-Islands-500_0.02_50.tab"
   ]
  },
  {
   "cell_type": "code",
   "execution_count": 21,
   "metadata": {
    "collapsed": false
   },
   "outputs": [
    {
     "name": "stdout",
     "output_type": "stream",
     "text": [
      "24777\n",
      "10\n"
     ]
    }
   ],
   "source": [
    "#Count max mCpG in an island\n",
    "#Count min mCpG in an island\n",
    "!awk 'NR==1{max = $4 + 0; next} {if ($4 > max) max = $4;} END {print max}' \\\n",
    "2020-02-11-Methylation-Islands-500_0.02_50.tab\n",
    "!awk 'NR==1{min = $4 + 0; next} {if ($4 < min) min = $4;} END {print min}' \\\n",
    "2020-02-11-Methylation-Islands-500_0.02_50.tab"
   ]
  },
  {
   "cell_type": "code",
   "execution_count": 25,
   "metadata": {
    "collapsed": false
   },
   "outputs": [
    {
     "name": "stdout",
     "output_type": "stream",
     "text": [
      "   37063 2020-02-06-Methylation-Islands-500_0.02_50-filtered.tab\r\n"
     ]
    }
   ],
   "source": [
    "#Filter by MI length\n",
    "!awk '{if ($3-$2 >= 500) { print $1\"\\t\"$2\"\\t\"$3\"\\t\"$4}}' 2020-02-11-Methylation-Islands-500_0.02_50.tab \\\n",
    "> 2020-02-11-Methylation-Islands-500_0.02_50-filtered.tab\n",
    "! wc -l 2020-02-11-Methylation-Islands-500_0.02_50-filtered.tab"
   ]
  },
  {
   "cell_type": "code",
   "execution_count": 26,
   "metadata": {
    "collapsed": false
   },
   "outputs": [
    {
     "name": "stdout",
     "output_type": "stream",
     "text": [
      "24777\n",
      "11\n"
     ]
    }
   ],
   "source": [
    "#Count max mCpG in an island\n",
    "#Count min mCpG in an island\n",
    "!awk 'NR==1{max = $4 + 0; next} {if ($4 > max) max = $4;} END {print max}' \\\n",
    "2020-02-11-Methylation-Islands-500_0.02_50-filtered.tab\n",
    "!awk 'NR==1{min = $4 + 0; next} {if ($4 < min) min = $4;} END {print min}' \\\n",
    "2020-02-11-Methylation-Islands-500_0.02_50-filtered.tab"
   ]
  },
  {
   "cell_type": "markdown",
   "metadata": {},
   "source": [
    "## 5c. Create BEDfiles for IGV"
   ]
  },
  {
   "cell_type": "code",
   "execution_count": 29,
   "metadata": {
    "collapsed": false
   },
   "outputs": [
    {
     "name": "stdout",
     "output_type": "stream",
     "text": [
      "2020-02-06-Methylation-Islands-200_0.02_50.tab\n",
      "2020-02-06-Methylation-Islands-200_0.03_50.tab\n",
      "2020-02-06-Methylation-Islands-200_0.04_50.tab\n",
      "2020-02-06-Methylation-Islands-200_0.05_50.tab\n",
      "2020-02-06-Methylation-Islands-200_0.10_50.tab\n",
      "2020-02-06-Methylation-Islands-200_0.15_50.tab\n",
      "2020-02-06-Methylation-Islands-200_0.20_50.tab\n",
      "2020-02-06-Methylation-Islands-200_0.25_50.tab\n",
      "2020-02-06-Methylation-Islands-200_0.27_50.tab\n",
      "2020-02-06-Methylation-Islands-200_0.30_50.tab\n",
      "2020-02-06-Methylation-Islands-300_0.02_50.tab\n",
      "2020-02-06-Methylation-Islands-300_0.03_50.tab\n",
      "2020-02-06-Methylation-Islands-300_0.04_50.tab\n",
      "2020-02-06-Methylation-Islands-300_0.05_50.tab\n",
      "2020-02-06-Methylation-Islands-300_0.10_50.tab\n",
      "2020-02-06-Methylation-Islands-300_0.15_50.tab\n",
      "2020-02-06-Methylation-Islands-300_0.20_50.tab\n",
      "2020-02-06-Methylation-Islands-300_0.25_50.tab\n",
      "2020-02-06-Methylation-Islands-500_0.02_25-filtered.tab\n",
      "2020-02-06-Methylation-Islands-500_0.02_25.tab\n",
      "2020-02-06-Methylation-Islands-500_0.02_50-filtered.tab\n",
      "2020-02-06-Methylation-Islands-500_0.02_50.tab\n"
     ]
    }
   ],
   "source": [
    "#Identify files that need bedgraphs\n",
    "!find *.tab"
   ]
  },
  {
   "cell_type": "code",
   "execution_count": 30,
   "metadata": {
    "collapsed": false
   },
   "outputs": [],
   "source": [
    "%%bash\n",
    "for f in *.tab\n",
    "do\n",
    "    awk '{print $1\"\\t\"$2\"\\t\"$3}' ${f} > ${f}.bed\n",
    "done"
   ]
  },
  {
   "cell_type": "code",
   "execution_count": 33,
   "metadata": {
    "collapsed": false
   },
   "outputs": [
    {
     "name": "stdout",
     "output_type": "stream",
     "text": [
      "NC_035780.1\t19901\t20081\r\n",
      "NC_035780.1\t21693\t21915\r\n",
      "NC_035780.1\t23585\t23723\r\n",
      "NC_035780.1\t27826\t28082\r\n",
      "NC_035780.1\t36000\t36358\r\n",
      "NC_035780.1\t37557\t37672\r\n",
      "NC_035780.1\t68011\t68137\r\n",
      "NC_035780.1\t87531\t87595\r\n",
      "NC_035780.1\t99242\t99377\r\n",
      "NC_035780.1\t100558\t101923\r\n"
     ]
    }
   ],
   "source": [
    "#Check the file to ensure loop worked\n",
    "!head 2020-02-11-Methylation-Islands-200_0.02_50-filtered.tab.bed"
   ]
  },
  {
   "cell_type": "code",
   "execution_count": null,
   "metadata": {
    "collapsed": true
   },
   "outputs": [],
   "source": []
  }
 ],
 "metadata": {
  "anaconda-cloud": {},
  "kernelspec": {
   "display_name": "Python [default]",
   "language": "python",
   "name": "python3"
  },
  "language_info": {
   "codemirror_mode": {
    "name": "ipython",
    "version": 3
   },
   "file_extension": ".py",
   "mimetype": "text/x-python",
   "name": "python",
   "nbconvert_exporter": "python",
   "pygments_lexer": "ipython3",
   "version": "3.5.2"
  }
 },
 "nbformat": 4,
 "nbformat_minor": 1
}
